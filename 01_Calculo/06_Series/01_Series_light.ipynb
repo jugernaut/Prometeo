{
  "nbformat": 4,
  "nbformat_minor": 0,
  "metadata": {
    "colab": {
      "name": "01_Series_light.ipynb",
      "provenance": [],
      "collapsed_sections": [],
      "toc_visible": true,
      "include_colab_link": true
    },
    "kernelspec": {
      "display_name": "Python 3",
      "language": "python",
      "name": "python3"
    },
    "language_info": {
      "codemirror_mode": {
        "name": "ipython",
        "version": 3
      },
      "file_extension": ".py",
      "mimetype": "text/x-python",
      "name": "python",
      "nbconvert_exporter": "python",
      "pygments_lexer": "ipython3",
      "version": "3.7.6"
    }
  },
  "cells": [
    {
      "cell_type": "markdown",
      "metadata": {
        "id": "view-in-github",
        "colab_type": "text"
      },
      "source": [
        "<a href=\"https://colab.research.google.com/github/jugernaut/Prometeo/blob/ligera/01_Calculo/06_Series/01_Series_light.ipynb\" target=\"_parent\"><img src=\"https://colab.research.google.com/assets/colab-badge.svg\" alt=\"Open In Colab\"/></a>"
      ]
    },
    {
      "cell_type": "markdown",
      "metadata": {
        "id": "MfrLEZ67VFAW"
      },
      "source": [
        "# Series\n",
        "## Trabajo realizado con el apoyo del Programa UNAM-DGAPA-PAPIME\n",
        "\n",
        "*   Autores: \n",
        "    - Ingrid Pamela Ruiz Puga\n",
        "    - Luis M. de la Cruz Salas\n",
        "*   Rev: mar ene 12 16:30:56 CDT 2020"
      ]
    },
    {
      "cell_type": "markdown",
      "metadata": {
        "id": "DJvcpnDvUzAO"
      },
      "source": [
        "## Introducción\n",
        "\n",
        "Una serie matemática es la expresión de la **suma del número infinito de términos de una sucesión**.\n",
        "\n",
        "La suma hasta un término específico cualquiera se llama suma parcial. \n",
        "\n",
        "Si las sumas parciales de una serie infinita se aproximan cada vez más a un numero $k$, de modo que tal que si la serie continúa, la suma puede acercarse a $k$ tanto como se desee; a esto se le conoce como el límite de las sumas parciales o el límite de la serie infinita (suma al infinito, forma abreviada para designar a su límite pues realizar la suma infinita es imposible).\n",
        "\n",
        "\n"
      ]
    },
    {
      "cell_type": "markdown",
      "metadata": {
        "id": "8xov-LF9GgM-"
      },
      "source": [
        "## Definición de serie\n",
        "Sea $a_n$ una sucesión de números reales. Para cada $n \\in N$, definimos $$S_n := \\sum a_n$$ como la serie $S_n$  compuesta por la suma de todos los elementos en la sucesión $a_n$.\n"
      ]
    },
    {
      "cell_type": "markdown",
      "metadata": {
        "id": "8alSAMfxGulC"
      },
      "source": [
        "## Convergencia de series\n",
        "Diremos que una serie converge cuando una vez sumados el mayor número de elementos posibles el resultado se acerca cada vez más a un número $S$. Formalmente escribimos:\n",
        "\n",
        "Una serie $S_n$ es convergente si $\\exists S $ tal que \n",
        "$$\\lim_{n \\to \\infty} S_n = S $$ \n",
        "Por lo tanto $S$ es el valor suma de la serie $S_n$ y se escribe de la siguiente manera\n",
        "\n",
        "$$\\sum_{n=1}^{\\infty}a_n= S$$\n"
      ]
    },
    {
      "cell_type": "markdown",
      "metadata": {
        "id": "K0rCC2FtHfbB"
      },
      "source": [
        "## Algunas series comunes"
      ]
    },
    {
      "cell_type": "markdown",
      "metadata": {
        "id": "c5kFuzTHp0Nz"
      },
      "source": [
        "### Serie geométrica\r\n",
        "Una **Serie geométrica** : Es aquella cuyos términos forman una progresión geométrica, es decir, cada término de la serie es igual al anterior multiplicado por una constante. La fórmula es la siguiente:\r\n",
        "\r\n",
        "$$\\sum_{k=0}^{n} a r^k= a \\cdot \\frac{r^{n+1}-1}{r-1}$$"
      ]
    },
    {
      "cell_type": "markdown",
      "metadata": {
        "id": "OvX0T2D9p98v"
      },
      "source": [
        "### Serie telescópica\r\n",
        "\r\n",
        "Una **Serie telescópica** es aquella tal que cada término se expresa como una diferencia de la forma $a_n = b_n - b_{n+1}$ y se expresa como sigue:\r\n",
        "\r\n",
        "$$\\sum_{n=0}^{N} b_n - b_{n+1}= b_0 - b_{N+1}$$"
      ]
    },
    {
      "cell_type": "markdown",
      "metadata": {
        "id": "n_2EpuODmrJy"
      },
      "source": [
        "### Serie de términos positivos\n",
        "Una **Serie de términos positivos** es aquella donde cada $a_n  \\geqslant 0$ $\\forall n$  por lo que es una serie siempre creciente.\n",
        "\n",
        "En muchas ocasiones resulta difícil determinar la suma de una serie, por esa razón nos conformamos con saber su carácter, es decir si converge o no."
      ]
    },
    {
      "cell_type": "markdown",
      "metadata": {
        "id": "c4kdKkK7q4ag"
      },
      "source": [
        "### Serie alternada.\r\n",
        "Se dice que una **serie es alternada** cuando sus términos son alternativamente positivos y negativos, por ejemplo $s_n$ es alternada si:\r\n",
        "\r\n",
        "$$\\sum_{n=1}^{\\infty}(-1)^{n+1}s_n= s_1-s_2+s_3-s_4+...$$"
      ]
    },
    {
      "cell_type": "markdown",
      "metadata": {
        "id": "L4u2y1DMUzH7"
      },
      "source": [
        "## Ejemplos\n",
        "1. Determinar si la serie  $\\displaystyle \\sum \\frac{(-1)^n}{\\sqrt{n} }$ es convergente.\n",
        "\n",
        "Se observa que la serie es alternada, veámoslo gráficamente:"
      ]
    },
    {
      "cell_type": "code",
      "metadata": {
        "id": "Jvqrh0kjqiZY",
        "colab": {
          "base_uri": "https://localhost:8080/",
          "height": 369
        },
        "cellView": "form",
        "outputId": "8165e535-b957-42ca-c992-0fb969b692b5"
      },
      "source": [
        "#@title\n",
        "#Graficamos la serie\n",
        "\n",
        "f = lambda t: ((-1)**t)/(np.sqrt(t))\n",
        "\n",
        "t = np.linspace(1, 10, num=10)\n",
        "y2 = f(t)\n",
        "\n",
        "par = [{'title':'Serie', \n",
        "        'xlabel':'$n$',\n",
        "        'ylabel':'$S$',\n",
        "       'ylim':(-1,1)}\n",
        "      ]\n",
        "\n",
        "graf = vis.planoCartesiano(par=par)\n",
        "graf.plot(x=t, y=y2,par={'label':r'$\\sum \\frac{(-1)^n}{\\sqrt{n} }$'})\n",
        "graf.legend()\n",
        "graf.show()"
      ],
      "execution_count": null,
      "outputs": [
        {
          "output_type": "display_data",
          "data": {
            "image/png": "[encoded data removed]",
            "text/plain": [
              "<Figure size 720x360 with 1 Axes>"
            ]
          },
          "metadata": {
            "tags": [],
            "needs_background": "light"
          }
        }
      ]
    },
    {
      "cell_type": "markdown",
      "metadata": {
        "id": "nRmPKtsDscns"
      },
      "source": [
        "La serie es condicionalmente convergente, se recomienda visualizar la versión extendida para detalles de la justificación."
      ]
    },
    {
      "cell_type": "markdown",
      "metadata": {
        "id": "2xzdOgD9UzAX"
      },
      "source": [
        "\n",
        "2. La serie $\\displaystyle \\sum_{n=1}^{\\infty}\\frac{\\sin( n) }{n^2}$ es absolutamente convergente."
      ]
    },
    {
      "cell_type": "code",
      "metadata": {
        "id": "LTIKkHcRUzAj",
        "colab": {
          "base_uri": "https://localhost:8080/",
          "height": 486
        },
        "cellView": "form",
        "outputId": "ff3367bc-f4a6-4ea5-cd75-f3d7dc6d2f06"
      },
      "source": [
        "#@title\n",
        "!git clone https://github.com/jugernaut/Prometeo.git\n",
        "import Prometeo.Utils.gutils as vis\n",
        "from sympy import limit, Symbol, oo\n",
        "import math\n",
        "import numpy as np\n",
        "import matplotlib.pyplot as plt\n",
        "import pandas as pd\n",
        "%matplotlib inline\n",
        "\n",
        "# Calculamos la serie\n",
        "def s1(N):\n",
        "    suma = 0\n",
        "    for n in range(1,N):\n",
        "        suma += np.fabs(np.sin(n) / n**2)\n",
        "    return suma\n",
        "\n",
        "# Graficaremos la serie\n",
        "\n",
        "inter = np.arange(1,101,1)\n",
        "valor = [s1(S) for S in inter]\n",
        "\n",
        "par = [{'title':'S = {}'.format(valor[-1]), \n",
        "        'xlabel':'$n$',\n",
        "        'ylabel':'$S$'}\n",
        "      ]\n",
        "\n",
        "graf = vis.planoCartesiano(par=par)\n",
        "graf.scatter(x = inter, y= valor)\n",
        "graf.show()"
      ],
      "execution_count": null,
      "outputs": [
        {
          "output_type": "stream",
          "text": [
            "Cloning into 'Prometeo'...\n",
            "remote: Enumerating objects: 134, done.\u001b[K\n",
            "remote: Counting objects: 100% (134/134), done.\u001b[K\n",
            "remote: Compressing objects: 100% (133/133), done.\u001b[K\n",
            "remote: Total 1096 (delta 79), reused 0 (delta 0), pack-reused 962\u001b[K\n",
            "Receiving objects: 100% (1096/1096), 11.52 MiB | 6.96 MiB/s, done.\n",
            "Resolving deltas: 100% (635/635), done.\n"
          ],
          "name": "stdout"
        },
        {
          "output_type": "display_data",
          "data": {
            "image/png": "[encoded data removed]",
            "text/plain": [
              "<Figure size 720x360 with 1 Axes>"
            ]
          },
          "metadata": {
            "tags": [],
            "needs_background": "light"
          }
        }
      ]
    },
    {
      "cell_type": "markdown",
      "metadata": {
        "id": "CqUWUJ49EUkh"
      },
      "source": [
        "\n",
        "\n",
        "## Referencias\n",
        "\n",
        " \n",
        "*   Banach, S. (1991). Calculo diferencial e integral (1.ª ed.). Uteha.\n",
        "\n",
        "*   Thompson, S. P., & Gardner, M. (2012). Cálculo diferencial e integral. McGraw-Hill Interamericana, S.A.\n",
        "\n",
        "*   Courant, R., & John, F. (1996). Introducción al cálculo y al análisis matemático. Limusa.\n",
        "\n",
        "*   Spivak, M., & Marqués, B. F. (1988). Cálculo Infinitesimal. Reverté.\n",
        "\n",
        "*   Briseño, L., Palmas, Ó., & Verdugo, J. (2015). Una mirada al cálculo a través de las sucesiones. Prensas de Ciencias.\n",
        "\n",
        "\n",
        "\n"
      ]
    }
  ]
}
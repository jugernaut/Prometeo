{
  "nbformat": 4,
  "nbformat_minor": 0,
  "metadata": {
    "colab": {
      "name": "01_Limites_light.ipynb",
      "provenance": [],
      "collapsed_sections": [],
      "toc_visible": true,
      "include_colab_link": true
    },
    "kernelspec": {
      "display_name": "Python 3",
      "language": "python",
      "name": "python3"
    },
    "language_info": {
      "codemirror_mode": {
        "name": "ipython",
        "version": 3
      },
      "file_extension": ".py",
      "mimetype": "text/x-python",
      "name": "python",
      "nbconvert_exporter": "python",
      "pygments_lexer": "ipython3",
      "version": "3.7.6"
    },
    "widgets": {
      "application/vnd.jupyter.widget-state+json": {
        "c017225d48f54e308f89ef626721f966": {
          "model_module": "@jupyter-widgets/controls",
          "model_name": "VBoxModel",
          "state": {
            "_view_name": "VBoxView",
            "_dom_classes": [
              "widget-interact"
            ],
            "_model_name": "VBoxModel",
            "_view_module": "@jupyter-widgets/controls",
            "_model_module_version": "1.5.0",
            "_view_count": null,
            "_view_module_version": "1.5.0",
            "box_style": "",
            "layout": "IPY_MODEL_9c998a94dd6d4bcd82406da56cd1c30b",
            "_model_module": "@jupyter-widgets/controls",
            "children": [
              "IPY_MODEL_7f962c352cb24db6afc5472da02a1a7e",
              "IPY_MODEL_db3f57657073498e8482d1b7ba3c07ff",
              "IPY_MODEL_ab0860c20fd44091bc1d805f1b69643f"
            ]
          }
        },
        "9c998a94dd6d4bcd82406da56cd1c30b": {
          "model_module": "@jupyter-widgets/base",
          "model_name": "LayoutModel",
          "state": {
            "_view_name": "LayoutView",
            "grid_template_rows": null,
            "right": null,
            "justify_content": null,
            "_view_module": "@jupyter-widgets/base",
            "overflow": null,
            "_model_module_version": "1.2.0",
            "_view_count": null,
            "flex_flow": null,
            "width": null,
            "min_width": null,
            "border": null,
            "align_items": null,
            "bottom": null,
            "_model_module": "@jupyter-widgets/base",
            "top": null,
            "grid_column": null,
            "overflow_y": null,
            "overflow_x": null,
            "grid_auto_flow": null,
            "grid_area": null,
            "grid_template_columns": null,
            "flex": null,
            "_model_name": "LayoutModel",
            "justify_items": null,
            "grid_row": null,
            "max_height": null,
            "align_content": null,
            "visibility": null,
            "align_self": null,
            "height": null,
            "min_height": null,
            "padding": null,
            "grid_auto_rows": null,
            "grid_gap": null,
            "max_width": null,
            "order": null,
            "_view_module_version": "1.2.0",
            "grid_template_areas": null,
            "object_position": null,
            "object_fit": null,
            "grid_auto_columns": null,
            "margin": null,
            "display": null,
            "left": null
          }
        },
        "7f962c352cb24db6afc5472da02a1a7e": {
          "model_module": "@jupyter-widgets/controls",
          "model_name": "IntSliderModel",
          "state": {
            "_view_name": "IntSliderView",
            "style": "IPY_MODEL_bec0d3c17d784a0388c420aacf40473a",
            "_dom_classes": [],
            "description": "Límite $^-$",
            "step": 1,
            "_model_name": "IntSliderModel",
            "orientation": "horizontal",
            "max": 12,
            "_view_module": "@jupyter-widgets/controls",
            "_model_module_version": "1.5.0",
            "value": 12,
            "_view_count": null,
            "disabled": false,
            "_view_module_version": "1.5.0",
            "min": 0,
            "continuous_update": true,
            "readout_format": "d",
            "description_tooltip": null,
            "readout": true,
            "_model_module": "@jupyter-widgets/controls",
            "layout": "IPY_MODEL_151c5b1d0b1f4cb192fb5e9d99ba9636"
          }
        },
        "db3f57657073498e8482d1b7ba3c07ff": {
          "model_module": "@jupyter-widgets/controls",
          "model_name": "IntSliderModel",
          "state": {
            "_view_name": "IntSliderView",
            "style": "IPY_MODEL_78bb2256a9d14f99929b17eba17e45a6",
            "_dom_classes": [],
            "description": "Límite $^+$",
            "step": 1,
            "_model_name": "IntSliderModel",
            "orientation": "horizontal",
            "max": 20,
            "_view_module": "@jupyter-widgets/controls",
            "_model_module_version": "1.5.0",
            "value": 20,
            "_view_count": null,
            "disabled": false,
            "_view_module_version": "1.5.0",
            "min": 12,
            "continuous_update": true,
            "readout_format": "d",
            "description_tooltip": null,
            "readout": true,
            "_model_module": "@jupyter-widgets/controls",
            "layout": "IPY_MODEL_de25a698539f4e1ca96e6e31593e3aa3"
          }
        },
        "ab0860c20fd44091bc1d805f1b69643f": {
          "model_module": "@jupyter-widgets/output",
          "model_name": "OutputModel",
          "state": {
            "_view_name": "OutputView",
            "msg_id": "",
            "_dom_classes": [],
            "_model_name": "OutputModel",
            "outputs": [
              {
                "output_type": "display_data",
                "metadata": {
                  "tags": [],
                  "needs_background": "light"
                },
                "image/png": "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\n",
                "text/plain": "<Figure size 720x360 with 1 Axes>"
              }
            ],
            "_view_module": "@jupyter-widgets/output",
            "_model_module_version": "1.0.0",
            "_view_count": null,
            "_view_module_version": "1.0.0",
            "layout": "IPY_MODEL_fe08e579d9a44f0cb91584598a3d7a47",
            "_model_module": "@jupyter-widgets/output"
          }
        },
        "bec0d3c17d784a0388c420aacf40473a": {
          "model_module": "@jupyter-widgets/controls",
          "model_name": "SliderStyleModel",
          "state": {
            "_view_name": "StyleView",
            "handle_color": null,
            "_model_name": "SliderStyleModel",
            "description_width": "",
            "_view_module": "@jupyter-widgets/base",
            "_model_module_version": "1.5.0",
            "_view_count": null,
            "_view_module_version": "1.2.0",
            "_model_module": "@jupyter-widgets/controls"
          }
        },
        "151c5b1d0b1f4cb192fb5e9d99ba9636": {
          "model_module": "@jupyter-widgets/base",
          "model_name": "LayoutModel",
          "state": {
            "_view_name": "LayoutView",
            "grid_template_rows": null,
            "right": null,
            "justify_content": null,
            "_view_module": "@jupyter-widgets/base",
            "overflow": null,
            "_model_module_version": "1.2.0",
            "_view_count": null,
            "flex_flow": null,
            "width": null,
            "min_width": null,
            "border": null,
            "align_items": null,
            "bottom": null,
            "_model_module": "@jupyter-widgets/base",
            "top": null,
            "grid_column": null,
            "overflow_y": null,
            "overflow_x": null,
            "grid_auto_flow": null,
            "grid_area": null,
            "grid_template_columns": null,
            "flex": null,
            "_model_name": "LayoutModel",
            "justify_items": null,
            "grid_row": null,
            "max_height": null,
            "align_content": null,
            "visibility": null,
            "align_self": null,
            "height": null,
            "min_height": null,
            "padding": null,
            "grid_auto_rows": null,
            "grid_gap": null,
            "max_width": null,
            "order": null,
            "_view_module_version": "1.2.0",
            "grid_template_areas": null,
            "object_position": null,
            "object_fit": null,
            "grid_auto_columns": null,
            "margin": null,
            "display": null,
            "left": null
          }
        },
        "78bb2256a9d14f99929b17eba17e45a6": {
          "model_module": "@jupyter-widgets/controls",
          "model_name": "SliderStyleModel",
          "state": {
            "_view_name": "StyleView",
            "handle_color": null,
            "_model_name": "SliderStyleModel",
            "description_width": "",
            "_view_module": "@jupyter-widgets/base",
            "_model_module_version": "1.5.0",
            "_view_count": null,
            "_view_module_version": "1.2.0",
            "_model_module": "@jupyter-widgets/controls"
          }
        },
        "de25a698539f4e1ca96e6e31593e3aa3": {
          "model_module": "@jupyter-widgets/base",
          "model_name": "LayoutModel",
          "state": {
            "_view_name": "LayoutView",
            "grid_template_rows": null,
            "right": null,
            "justify_content": null,
            "_view_module": "@jupyter-widgets/base",
            "overflow": null,
            "_model_module_version": "1.2.0",
            "_view_count": null,
            "flex_flow": null,
            "width": null,
            "min_width": null,
            "border": null,
            "align_items": null,
            "bottom": null,
            "_model_module": "@jupyter-widgets/base",
            "top": null,
            "grid_column": null,
            "overflow_y": null,
            "overflow_x": null,
            "grid_auto_flow": null,
            "grid_area": null,
            "grid_template_columns": null,
            "flex": null,
            "_model_name": "LayoutModel",
            "justify_items": null,
            "grid_row": null,
            "max_height": null,
            "align_content": null,
            "visibility": null,
            "align_self": null,
            "height": null,
            "min_height": null,
            "padding": null,
            "grid_auto_rows": null,
            "grid_gap": null,
            "max_width": null,
            "order": null,
            "_view_module_version": "1.2.0",
            "grid_template_areas": null,
            "object_position": null,
            "object_fit": null,
            "grid_auto_columns": null,
            "margin": null,
            "display": null,
            "left": null
          }
        },
        "fe08e579d9a44f0cb91584598a3d7a47": {
          "model_module": "@jupyter-widgets/base",
          "model_name": "LayoutModel",
          "state": {
            "_view_name": "LayoutView",
            "grid_template_rows": null,
            "right": null,
            "justify_content": null,
            "_view_module": "@jupyter-widgets/base",
            "overflow": null,
            "_model_module_version": "1.2.0",
            "_view_count": null,
            "flex_flow": null,
            "width": null,
            "min_width": null,
            "border": null,
            "align_items": null,
            "bottom": null,
            "_model_module": "@jupyter-widgets/base",
            "top": null,
            "grid_column": null,
            "overflow_y": null,
            "overflow_x": null,
            "grid_auto_flow": null,
            "grid_area": null,
            "grid_template_columns": null,
            "flex": null,
            "_model_name": "LayoutModel",
            "justify_items": null,
            "grid_row": null,
            "max_height": null,
            "align_content": null,
            "visibility": null,
            "align_self": null,
            "height": null,
            "min_height": null,
            "padding": null,
            "grid_auto_rows": null,
            "grid_gap": null,
            "max_width": null,
            "order": null,
            "_view_module_version": "1.2.0",
            "grid_template_areas": null,
            "object_position": null,
            "object_fit": null,
            "grid_auto_columns": null,
            "margin": null,
            "display": null,
            "left": null
          }
        }
      }
    }
  },
  "cells": [
    {
      "cell_type": "markdown",
      "metadata": {
        "id": "view-in-github",
        "colab_type": "text"
      },
      "source": [
        "<a href=\"https://colab.research.google.com/github/jugernaut/Prometeo/blob/ligera/01_Calculo/03_Limites/01_Limites_light.ipynb\" target=\"_parent\"><img src=\"https://colab.research.google.com/assets/colab-badge.svg\" alt=\"Open In Colab\"/></a>"
      ]
    },
    {
      "cell_type": "markdown",
      "metadata": {
        "id": "2UQsTYDJ61Er"
      },
      "source": [
        "# Límites\n",
        "### Trabajo realizado con el apoyo del Programa UNAM-DGAPA-PAPIME \n",
        "\n",
        "*   Autores: \n",
        "    - Ingrid Pamela Ruiz Puga\n",
        "    - Luis M. de la Cruz Salas\n",
        "*   Rev: mar ene 12 15:06:45 CDT 2020"
      ]
    },
    {
      "cell_type": "markdown",
      "metadata": {
        "id": "fRIIQe6Knoup"
      },
      "source": [
        "## Introducción\n"
      ]
    },
    {
      "cell_type": "code",
      "metadata": {
        "id": "HQpBZvOinOXO",
        "colab": {
          "base_uri": "https://localhost:8080/"
        },
        "collapsed": true,
        "cellView": "form",
        "outputId": "c9d24c9d-4a98-4ddf-b1c4-4d17b540c7ef"
      },
      "source": [
        "#@title\n",
        "!git clone https://github.com/jugernaut/Prometeo.git\n",
        "import os\n",
        "import Prometeo.Utils.gutils as vis\n",
        "from sympy import limit, Symbol, oo\n",
        "import math\n",
        "import numpy as np\n",
        "import matplotlib.pyplot as plt\n",
        "%matplotlib inline"
      ],
      "execution_count": null,
      "outputs": [
        {
          "output_type": "stream",
          "text": [
            "Cloning into 'Prometeo'...\n",
            "remote: Enumerating objects: 18, done.\u001b[K\n",
            "remote: Counting objects: 100% (18/18), done.\u001b[K\n",
            "remote: Compressing objects: 100% (16/16), done.\u001b[K\n",
            "remote: Total 1713 (delta 4), reused 3 (delta 2), pack-reused 1695\u001b[K\n",
            "Receiving objects: 100% (1713/1713), 12.24 MiB | 31.50 MiB/s, done.\n",
            "Resolving deltas: 100% (1076/1076), done.\n"
          ],
          "name": "stdout"
        }
      ]
    },
    {
      "cell_type": "markdown",
      "metadata": {
        "id": "NwwyqEDV61Gl"
      },
      "source": [
        "### Emprendiendo con Chilaquiles 3.0\n",
        "\n",
        "Un profesor, que se convirtió en cliente de los estudiantes emprendedores con chilaquiles, se interesó en ver cómo avanzó el negocio. Los estudiantes compartieron con el profesor el modelo con el que describieron sus ventas, el cual se escribe como sigue: \n",
        "\n",
        "$$ f(x) = \\left\\{\n",
        "\\begin{array}{l}\n",
        "      \\frac{30}{0.5 + e^{-(x-3.5)}} & x \\leq 12 \\\\\n",
        "      \\\\\n",
        "      e^{0.2 x} + 120 & x \\geq 12 \\\\\n",
        "\\end{array} \n",
        "\\right.$$\n",
        "\n",
        "Al mirar este modelo, el profesor se dió cuenta de la inconsistencia para $x = 12$, así que decidió resaltar esto en la siguiente visualización:"
      ]
    },
    {
      "cell_type": "code",
      "metadata": {
        "id": "zcAArSNV61Gt",
        "colab": {
          "base_uri": "https://localhost:8080/",
          "height": 554,
          "referenced_widgets": [
            "c017225d48f54e308f89ef626721f966",
            "9c998a94dd6d4bcd82406da56cd1c30b",
            "7f962c352cb24db6afc5472da02a1a7e",
            "db3f57657073498e8482d1b7ba3c07ff",
            "ab0860c20fd44091bc1d805f1b69643f",
            "bec0d3c17d784a0388c420aacf40473a",
            "151c5b1d0b1f4cb192fb5e9d99ba9636",
            "78bb2256a9d14f99929b17eba17e45a6",
            "de25a698539f4e1ca96e6e31593e3aa3",
            "fe08e579d9a44f0cb91584598a3d7a47"
          ]
        },
        "cellView": "form",
        "outputId": "8cd273a6-a577-4c94-adaf-9846b1f4c0ed"
      },
      "source": [
        "#@title\n",
        "# LINUX y MACOS\n",
        "#%run \"./03_Limites/02_Limites_interactive.ipynb\"\n",
        "\n",
        "# WINDOWS\n",
        "#%run \"D:\\\\GitSites\\\\PAPIME_PE101019_Materiales\\\\01_Calculo\\\\03_Limites/02_Limites_interactive.ipynb\"\n",
        "\n",
        "# Google Coolab\n",
        "%run \"/content/Prometeo/01_Calculo/03_Limites/02_Limites_interactive.ipynb\""
      ],
      "execution_count": null,
      "outputs": [
        {
          "output_type": "stream",
          "text": [
            "Cloning into 'Prueba_lectura'...\n",
            "remote: Enumerating objects: 21, done.\u001b[K\n",
            "remote: Counting objects: 100% (21/21), done.\u001b[K\n",
            "remote: Compressing objects: 100% (17/17), done.\u001b[K\n",
            "remote: Total 21 (delta 1), reused 0 (delta 0), pack-reused 0\u001b[K\n",
            "Unpacking objects: 100% (21/21), done.\n"
          ],
          "name": "stdout"
        },
        {
          "output_type": "display_data",
          "data": {
            "application/vnd.jupyter.widget-view+json": {
              "model_id": "c017225d48f54e308f89ef626721f966",
              "version_minor": 0,
              "version_major": 2
            },
            "text/plain": [
              "interactive(children=(IntSlider(value=0, description='Límite $^-$', max=12), IntSlider(value=20, description='…"
            ]
          },
          "metadata": {
            "tags": []
          }
        },
        {
          "output_type": "display_data",
          "data": {
            "text/plain": [
              "<function __main__.limiteChilaquil>"
            ]
          },
          "metadata": {
            "tags": []
          }
        }
      ]
    },
    {
      "cell_type": "markdown",
      "metadata": {
        "id": "5GT6mv0761Hm"
      },
      "source": [
        "Observamos que cuando movemos el límite izquierdo (Límite $^-$) desde 0 hasta 12, el valor del modelo tiende a 60, mientras que si movemos el límite derecho (Límite $^+$) desde 20 hasta 12, el valor del modelo tiende a 131. Cuando $x=2$ se tienen dos valores!. Existe una discontinuidad. El modelo no cumple con la definición de función."
      ]
    },
    {
      "cell_type": "markdown",
      "metadata": {
        "id": "E5M0r-HDCzM4"
      },
      "source": [
        "## Noción y definición de límite\n",
        "\n",
        "El matemático francés Augustine Louis Cauchy (1789-1857) fue el primero en desarrollar una definición rigurosa de límite (aunque ya era usado este concepto desde los antigüos griegos para el cálculo de áreas) de la siguiente manera:\n",
        "\n",
        "    Cuando los valores atribuidos sucesivamente a una variable se aproximan indefinidamente a un valor fijo para llegar por último\n",
        "    a diferir de ese valor en una cantidad tan pequeña como se desee, entonces dicho valor fijo recibe el nombre de límite de todos \n",
        "    los demás valores.\n",
        "\n",
        "En palabras más llanas decimos que: el límite de una función $f(x)$ en el punto $x_0$, es obtener el valor al que se va aproximando dicha función cuando $x$ tiende a $x_0$, pero sin llegar a ese punto.\n",
        "\n",
        "La sintaxis matemática del límite es:\n",
        "\n",
        "$$\\displaystyle \\lim_{x \\to x_0} f(x) = L $$\n",
        "\n",
        "donde $L$ es el valor del límite.\n"
      ]
    },
    {
      "cell_type": "markdown",
      "metadata": {
        "id": "nmFDu0VHVFA0"
      },
      "source": [
        "\n",
        "## Propiedades de los límites\n",
        "Algunas propiedades matemáticas de los límites pueden facilitar en algunos casos los cálculos en funciones más complejas. Considerando dos funciones definidas en un mismo intervalo.\n",
        "\n",
        "* **Unicidad del límite:** El límite de una función será único en caso de su existencia.\n",
        "\n",
        "* **Límite de una constante:** El límite de una función constante $f(x) = k$ será igual a la constante $k$.\n",
        "$$\\lim_{x \\to a} k = k $$ \n",
        "\n",
        "* **Suma y resta de límites:** El límite de la suma será la suma de los límites.\n",
        "$$\\lim_{x \\to a} [f(x) \\pm g(x) ] = \\lim_{x \\to a} f(x) \\pm \\lim_{x \\to a} g(x) $$ \n",
        "\n",
        "* **Producto de límites:** El límite del producto es el producto de los límites\n",
        "$$\\lim_{x \\to a} [f(x) \\cdot g(x) ] = \\lim_{x \\to a} f(x) \\cdot \\lim_{x \\to a} g(x) $$ \n",
        "\n",
        "* **Factor del límite:** El límite del producto de una constante por una función será la constante por el límite de la función.\n",
        "$$\\lim_{x \\to a} [k \\cdot f(x) ] = k \\cdot \\lim_{x \\to a} f(x) $$ \n",
        " \n",
        "*Ver más propiedades en la versión extendida*"
      ]
    },
    {
      "cell_type": "markdown",
      "metadata": {
        "id": "tW2s1goQVFA1"
      },
      "source": [
        "### Ejemplo\n",
        "\n",
        "Calcular el límite de $g(x) \\cdotp f(x)$ cuando $x$ tiende a $1$ para $g(x) = x - 1 $ y   $f(x) = x + 1 $\n",
        "\n",
        "Usando las propiedades antes definidas tenemos:\n",
        "\n",
        "$$ \\lim_{x \\to 1} f(x)\\cdotp g(x) = \\lim_{x \\to 1} f(x) \\cdotp \\lim_{x \\to 1} g(x) $$ \n",
        "\n",
        "$$ \\lim_{x \\to 1}  (x + 1) \\cdotp (x - 1) = \\lim_{x \\to 1} (x + 1) \\cdotp \\lim_{x \\to 1} (x - 1) $$ \n",
        "\n",
        "$$ \\Longrightarrow \\lim_{x \\to 1} (x + 1) \\cdotp \\lim_{x \\to 1} (x - 1) = (1 + 1)\\cdotp (1 - 1) = 0 $$ \n",
        "\n"
      ]
    },
    {
      "cell_type": "code",
      "metadata": {
        "id": "AtmjWJoN61Km",
        "colab": {
          "base_uri": "https://localhost:8080/",
          "height": 369
        },
        "cellView": "form",
        "outputId": "1269cd33-b799-4e17-c6d0-ccea33d2de41"
      },
      "source": [
        "#@title\n",
        "#Definimos la función f(x) y g(x)\n",
        "f = lambda x: x + 1\n",
        "g = lambda x: x - 1\n",
        "\n",
        "#Definimos el dominio y el codominio de la función f(x) y g(x)\n",
        "x = np.linspace(0,2,100)  # Dominio\n",
        "yf = f(x)                 # Codominio de f\n",
        "yg = g(x)                 # Codominio de g\n",
        "\n",
        "#Graficamos especificando el titulo y nombre de los ejes\n",
        "par = [{'title':'Límite del producto de dos funciones', \n",
        "        'xlabel':'$x$',\n",
        "        'ylabel':'$y$'}]\n",
        "\n",
        "graf = vis.planoCartesiano(par=par)\n",
        "graf.plot(x=x, y=yf, par={'label':'$f(x)=x+1$'})                #Gráfica de la función f(x)\n",
        "graf.plot(x=x, y=yg, par={'label':'$g(x)=x-1$'})                #Gráfica de la función g(x)\n",
        "graf.plot(x=x, y=yf*yg, par={'label':'$f(x) \\cdot g(x)$'})      #Gráfica de la función f(x)*g(x)\n",
        "\n",
        "x0 = 1.0 # Modifique este valor entre 0 y 2\n",
        "\n",
        "graf.scatter(x=x0, y=f(x0),         #Límite de f(x)\n",
        "             par={'label':'Límite de $f$', 's':100, 'marker':'s','color':'C0', 'zorder':5})\n",
        "\n",
        "graf.scatter(x=x0, y=g(x0),         #Límite de g(x)\n",
        "             par={'label':'Límite de $g$', 's':100, 'marker':'s','color':'C1', 'zorder':5})\n",
        "\n",
        "graf.scatter(x=x0, y=f(x0)*g(x0),   #Límite de f(x)*g(x)\n",
        "             par={'label':'Límite de $f \\cdot g$','color':'black', 'zorder':5})\n",
        "graf.legend()\n",
        "graf.show()"
      ],
      "execution_count": null,
      "outputs": [
        {
          "output_type": "display_data",
          "data": {
            "image/png": "[encoded data removed]",
            "text/plain": [
              "<Figure size 720x360 with 1 Axes>"
            ]
          },
          "metadata": {
            "tags": [],
            "needs_background": "light"
          }
        }
      ]
    },
    {
      "cell_type": "markdown",
      "metadata": {
        "id": "8Yhg5YX2VFBA"
      },
      "source": [
        "## Límites que tienden al infinito\n",
        "\n",
        "¿Cómo conocemos el límite de una funcíón cuando sus variables tienden a infinito?\n",
        "\n",
        "En este caso la manera de resolverlo resulta complicado, debido a que al evaluar una función en infinito el resultado es una función indefinida. A pesar de eso, es posible conocer el valor del límite de la función cuando los valores tienden a infinito."
      ]
    },
    {
      "cell_type": "markdown",
      "metadata": {
        "id": "tSXrzRHOFMck"
      },
      "source": [
        "## Ejemplos de límites\n",
        "\n",
        "Encontrar los siguientes límites:\n",
        "- $f(x) = x^2$ cuando x tiende a 4.\n",
        "- $f(x) = x^2 + 8x + 31$ cuando x tiende a 3.\n",
        "- $f(x) = x^2 - x + 2$ cuando x tiende a 2.\n"
      ]
    },
    {
      "cell_type": "code",
      "metadata": {
        "id": "xOKSjtX6VFAv",
        "colab": {
          "base_uri": "https://localhost:8080/",
          "height": 369
        },
        "cellView": "form",
        "outputId": "e8ab9d71-c520-4f4f-8126-78554c8e45f2"
      },
      "source": [
        "#@title\n",
        "#Definimos la función f1(x), f2(x) y f3(x)\n",
        "f1 = lambda x: x**2\n",
        "f2 = lambda x: x**2 + 8*x + 31\n",
        "f3 = lambda x: 2*x**2 - x + 2\n",
        "\n",
        "#Definimos el dominio de la función f(x)\n",
        "x = np.linspace(-5, 5, 100)\n",
        "\n",
        "#Graficamos especificando el titulo y nombre de los ejes\n",
        "par = [{'title':r\"Límites de funciones cuadráticas\", \n",
        "        'xlabel':'$x$',\n",
        "        'ylabel':'$y$'}\n",
        "      ]\n",
        "\n",
        "graf = vis.planoCartesiano(par=par)\n",
        "graf.plot(x=x, y=f1(x), par={'label':'$f1(x) = x^2$'})               #Gráfica de la función f1(x)\n",
        "graf.plot(x=x, y=f2(x), par={'label':'$f2(x) = x^2 + 8x + 31$'})     #Gráfica de la función f2(x)\n",
        "graf.plot(x=x, y=f3(x), par={'label':'$f3(x) = x^2 - x + 2$'})       #Gráfica de la función f3(x)\n",
        "\n",
        "x1 = 4\n",
        "x2 = 3\n",
        "x3 = 2\n",
        "graf.scatter(x=x1, y=f1(x1),        #Límite de f1(x)\n",
        "             par={'label':'Límite de $f1(x)$: x tiende a 4', 's':100, 'color':'C0', 'zorder':10})\n",
        "graf.scatter(x=x2, y=f2(x2),        #Límite de f2(x)\n",
        "             par={'label':'Límite de $f2(x)$: x tiende a 3', 's':100, 'color':'C1', 'zorder':10})\n",
        "graf.scatter(x=x3, y=f3(x3),        #Límite de f3(x)\n",
        "             par={'label':'Límite de $f3(x)$: x tiende a 2', 's':100, 'color':'C2', 'zorder':10})\n",
        "\n",
        "graf.legend()\n",
        "graf.show()\n"
      ],
      "execution_count": null,
      "outputs": [
        {
          "output_type": "display_data",
          "data": {
            "image/png": "[encoded data removed]",
            "text/plain": [
              "<Figure size 720x360 with 1 Axes>"
            ]
          },
          "metadata": {
            "tags": [],
            "needs_background": "light"
          }
        }
      ]
    },
    {
      "cell_type": "markdown",
      "metadata": {
        "id": "l6mM3-Rl1rjW"
      },
      "source": [
        "\n",
        "## Referencias\n",
        "Para profundizar en los temas tratados en el presente documento se pueden consultar las siguientes fuentes.\n",
        "\n",
        "\n",
        "\n",
        "*  \tLarson, R., Edwards, B. H., Escutia, J. I., Fernández, Á. H., Cázáres, G. N., & Chávez, N. A. M. (2010). Cálculo 1: De una variable. McGraw-Hill Interamericana.\n",
        "*   Zill, D., & Wright, W. (2011). Matemáticas 1: Cálculo diferencial. McGraw-Hill Interamericana de España S.L.\n",
        "*   Salinas Martínez, N. P., Alanís Rodríguez, J. A., Garza García, J. L., Pulido Ríos, R., Santos Leal, F. X., & Escobedo Mirales, J. C. (2012). Cálculo aplicado: Competencias matemáticas a través de contextos. Cengage Learning.\n",
        "\n"
      ]
    }
  ]
}
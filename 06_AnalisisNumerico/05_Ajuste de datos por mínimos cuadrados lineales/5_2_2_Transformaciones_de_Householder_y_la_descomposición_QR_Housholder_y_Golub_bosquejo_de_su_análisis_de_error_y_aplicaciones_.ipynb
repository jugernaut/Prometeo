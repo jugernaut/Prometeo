{
  "nbformat": 4,
  "nbformat_minor": 0,
  "metadata": {
    "colab": {
      "name": "Copia de 5.2.2 Transformaciones de Householder y la descomposición QR Housholder y Golub: bosquejo de su análisis de error y aplicaciones.",
      "provenance": [],
      "collapsed_sections": [],
      "toc_visible": true,
      "include_colab_link": true
    },
    "kernelspec": {
      "name": "python3",
      "display_name": "Python 3"
    },
    "language_info": {
      "name": "python"
    }
  },
  "cells": [
    {
      "cell_type": "markdown",
      "metadata": {
        "id": "view-in-github",
        "colab_type": "text"
      },
      "source": [
        "<a href=\"https://colab.research.google.com/github/jugernaut/Prometeo/blob/desarrollo/06_AnalisisNumerico/05_Ajuste%20de%20datos%20por%20m%C3%ADnimos%20cuadrados%20lineales/5_2_2_Transformaciones_de_Householder_y_la_descomposici%C3%B3n_QR_Housholder_y_Golub_bosquejo_de_su_an%C3%A1lisis_de_error_y_aplicaciones_.ipynb\" target=\"_parent\"><img src=\"https://colab.research.google.com/assets/colab-badge.svg\" alt=\"Open In Colab\"/></a>"
      ]
    },
    {
      "cell_type": "markdown",
      "source": [
        "#**Matrices de Householder para la factorización QR**\n",
        "\n",
        "Este sitio puede ser usado libremente, tanto por profesores como por estudiantes, que deseen complementar sus cursos y conocimientos en los temas antes mencionados. Los materiales están bajo una Licencia Creative Commons Atribución-NoComercial-CompartirIgual 4.0 Internacional\n",
        "\n",
        "<a rel=\"license\" href=\"http://creativecommons.org/licenses/by-nc-sa/4.0/\"><img alt=\"Licencia Creative Commons\" style=\"border-width:0\" src=\"https://i.creativecommons.org/l/by-nc-sa/4.0/88x31.png\" /></a><br />Esta obra está bajo una <a rel=\"license\" href=\"http://creativecommons.org/licenses/by-nc-sa/4.0/\">Licencia Creative Commons Atribución-NoComercial-CompartirIgual 4.0 Internacional</a>.\n",
        "\n",
        "Trabajo realizado con el apoyo del Programa UNAM-DGAPA-PAPIME PE101019"
      ],
      "metadata": {
        "id": "4VKwDS8a-f1Q"
      }
    },
    {
      "cell_type": "markdown",
      "source": [
        "$\\color{blue}{Definición:\\ }$ \n",
        "\n",
        "Sea $u \\in \\mathbb R^n$ un vector diferente de cero. Entonces una matriz de la forma: \n",
        "\n",
        "$$ H = I - \\frac{2uu^T}{u^Tu}$$\n",
        "\n",
        "es llamada una $\\color{blue}{matriz\\ de\\ Householder.\\ }$Dado un vector *x* al que quierro aplicar esta reflexión defino $u = \\parallel x \\parallel e_1 -x$\n",
        "\n",
        "$\\quad$\n",
        "\n",
        "$\\color{green}{Las\\ matrices\\ de\\ Householder\\ son\\ transformaciones,\\ que\\ cumplen:\\ }$ \n",
        "\n",
        "$\\quad$\n",
        "\n",
        "1. Si $z \\perp$ la transformación *H* deja invariante a *z*.\n",
        "2. $\\parallel Hx \\parallel_2 = \\parallel x \\parallel_2 \\quad \\forall x \\in \\mathbb R^n$ \n",
        "3. $H^2 = 1$\n",
        "4. $det (H) = -1$\n",
        "\n",
        "$\\quad$ \n",
        "\n",
        "Queremos obetener la matrix *Q* como producto de matrices Hosuseholder. \n",
        "\n",
        "$$Q = H_1 H_2 ... H_{n-1}$$\n",
        "\n",
        "Paso 1.\n",
        "\n",
        "$$H_1 A = \\begin{pmatrix}\n",
        "* & * & ... & *\\\\\n",
        "0 & * & ... & *\\\\\n",
        "\\vdots & * & ... & * \\\\\n",
        "0 & * & ... & *\\\\\n",
        "\\end{pmatrix}$$ \n",
        "\n",
        "Notemos que es suficiente construir\n",
        "\n",
        "$$H_1 \\begin{pmatrix} a_{11}\\\\ a_{21}\\\\ \\vdots \\\\ a_{n-1} \\end{pmatrix} = \\begin{pmatrix} *\\\\ 0 \\\\ \\vdots \\\\ 0 \\end{pmatrix}$$\n",
        "\n",
        "La construcción de la matriz es simplemente \n",
        "\n",
        "$$H_1 = I - 2 \\frac{u_n u_n^T}{u_n^Tu_n}$$\n",
        "\n",
        "Escribamos ahora \n",
        "\n",
        "$$ A^{(1)} = H_1 A$$\n",
        "\n",
        "con \n",
        "\n",
        "$$A^{(1)} = \\begin{pmatrix} \n",
        "a_{11} & a_{12} & ... & a_{1n}\\\\ 0 & a_{22} & ... & a_{2n} \\\\ \\vdots & \\vdots & ... & \\vdots \\\\ 0 & a_{n2} & ... & a_{nn} \\end{pmatrix}$$\n",
        "\n",
        "$\\quad$\n",
        "\n",
        "Paso 2\n",
        "\n",
        "$$H_2A^{(1)} = \\begin{pmatrix} * & * & ... & *\\\\ 0 & * & ... & * \\\\ 0 & 0 & ... & *\\\\ \\vdots & \\vdots & ... & * \\\\ 0 & 0 & ... & * \\end{pmatrix} $$\n",
        "\n",
        "Construyendo \n",
        "\n",
        "$$ \\tilde{H}_2 = I_{n-1} - 2 \\frac{u_{n-1}u_{n-1}^T}{u^T_{n-1}u_{n-1}} $$\n",
        "\n",
        "Tal que \n",
        "\n",
        "$$\\tilde{H}_2 = \\begin{pmatrix} a_{21}\\\\ a_{31}\\\\ \\vdots \\\\ a_{n-1} \\end{pmatrix} = \\begin{pmatrix} *\\\\0\\\\ \\vdots \\\\0 \\end{pmatrix}$$ \n",
        "\n",
        "Entonces \n",
        "\n",
        "$$ H_2 = \\begin{pmatrix} 1 & 0 & ... & 0 \\\\ 0 \\\\ \\vdots & & \\tilde{H}_2 \\\\ 0 \\end{pmatrix}$$\n",
        "\n",
        "Ahora escribimos \n",
        "\n",
        "$$A^{(2)} = H_2A^{(1)}$$ \n",
        "\n",
        "$\\quad$\n",
        "\n",
        "Paso k. De manera general podemos construir $H_k$ como\n",
        "\n",
        "$$\\tilde{H}_k = I_{n-k+1} - 2 \\frac{u_{n-k+1}u_{n-k+1}^T}{u_{n-k+1}^Tu_{n-k+1}}$$\n",
        "\n",
        "tal que \n",
        "\n",
        "$$\\tilde{H}_k = \\begin{pmatrix} a_{kk}\\\\ \\vdots \\\\ \\vdots \\\\ a_{nk} \\end{pmatrix} = \\begin{pmatrix} *\\\\0\\\\ \\vdots \\\\0 \\end{pmatrix}$$ \n",
        "\n",
        "De la cual podemos definir \n",
        "\n",
        "$$H_k = \\begin{pmatrix} I_{K-1} & O \\\\ 0 & \\tilde{H}_k \\end{pmatrix}$$ \n",
        "\n",
        "Para calcular $\\quad$ $A^{(k)} = H_k A^{(k-1)}$\n",
        "\n",
        "Por lo anterior\n",
        "\n",
        "$$R = A^{(n-1)} = H_{n-1}A^{(n-2)} = H_{n-1}H_{n-2}A^{(n-3)}... = H_{n-1}H_{n-2}...H_2H_1A \\quad (3)$$\n",
        "\n",
        "Renombrando \n",
        "\n",
        "$$Q^T = H_{n-1}H_{n-2}...H_2H_1$$\n",
        "\n",
        "$\\quad$\n",
        "\n",
        "Como $H_i$ es ortogonal $\\forall_i \\in \\{1,...,n\\}$ entonces $Q^T$ es ortogonal. Además $R =Q^TA$ ó $A =QR$.\n",
        "\n",
        "Sea \n",
        "\n",
        "$$A = \\begin{pmatrix} 0 & 1 & 1\\\\ 1 & 2 & 3\\\\ 1 & 1 & 1 \\end{pmatrix}$$\n",
        "\n",
        "Paso 1 (k=1) Para $H_1$, necesitamos obtener lo siguiente:\n",
        "\n",
        "$$\\tilde{H}_1u = \\tilde{H}_1 \\begin{pmatrix} 0\\\\1\\\\1 \\end{pmatrix} = \\begin{pmatrix} *\\\\ 0\\\\ 0 \\end{pmatrix}$$\n",
        "\n",
        "Consideramos el vector ortogonalizado $u_3$ como \n",
        "\n",
        "$$u_3 = \\begin{pmatrix}0\\\\1\\\\1 \\end{pmatrix} + \\sqrt{2} \\begin{pmatrix}1\\\\0\\\\0 \\end{pmatrix} = \\begin{pmatrix} \\sqrt{2}\\\\1\\\\1 \\end{pmatrix} = u + \\parallel u \\parallel _2 e_1$$\n",
        "\n",
        "De aquí obtenemos: \n",
        "\n",
        "$$H_1 = I_3 - 2 \\frac{u_3u_3^T}{u_3^Tu_3}$$\n",
        "\n",
        "$$H_1 = \\begin{pmatrix} 1 & 0 & 0\\\\ 0 & 1 & 0\\\\ 0 & 0 & 1 \\end{pmatrix} - \\begin{pmatrix} 1 & \\frac{1}{\\sqrt{2}} & \\frac{1}{\\sqrt{2}}\\\\ \\frac{1}{\\sqrt{2}} &\\frac{1}{2} & \\frac{1}{2} \\\\ \\frac{1}{\\sqrt{2}} & \\frac{1}{2} & \\frac{1}{2} \\end{pmatrix} = \\begin{pmatrix} 0 & -\\frac{1}{\\sqrt{2}} & -\\frac{1}{\\sqrt{2}}\\\\ -\\frac{1}{\\sqrt{2}} & \\frac{1}{2} & -\\frac{1}{2}\\\\ -\\frac{1}{\\sqrt{2}} & -\\frac{1}{2} & \\frac{1}{2} \\end{pmatrix}$$\n",
        "\n",
        "Formamos $A^{(1)}$ de forma tal que $H_1A = A^{(1)}$ \n",
        "\n",
        "$$\\begin{pmatrix}0& -\\frac{1}{\\sqrt{2}} & -\\frac{1}{\\sqrt{2}} \\\\ -\\frac{1}{\\sqrt{2}} & \\frac{1}{2} & -\\frac{1}{2}\\\\ -\\frac{1}{\\sqrt{2}} & -\\frac{1}{2} & \\frac{1}{2} \\end{pmatrix} \\begin{pmatrix} 0&1&1 \\\\ 1&2&3 \\\\ 1&1&1 \\end{pmatrix} = \\begin{pmatrix} \\sqrt{2} & -2.12132 & -2.82843\\\\ 0 & -0.207107 & 0.292893 \\\\ 0& -1.20711 & -1.70711 \\end{pmatrix} $$\n",
        "\n",
        "$\\quad$ \n",
        "\n",
        "Paso 2. Construis $\\tilde{H}_2$ , tal que:\n",
        "\n",
        "$$\\tilde{H}_2 \\begin{pmatrix} -0.2071\\\\-12071 \\end{pmatrix} = \\begin{pmatrix} *\\\\0 \\end{pmatrix} $$\n",
        "\n",
        "Necesitamos $u_2$ tal que \n",
        "\n",
        "$$u_2 = \\begin{pmatrix} -0.2071\\\\ -1.2071 \\end{pmatrix} -1.2247 \\begin{pmatrix} 1\\\\0 \\end{pmatrix} = \\begin{pmatrix} -1.4318\\\\ -1.2071 \\end{pmatrix} = u + \\parallel u \\parallel _2 e_1$$\n",
        "\n",
        "Con esto construimos $H_2$ de la forma: $\\tilde{H}_2 = I_2 -2 \\frac{u_2u_2^T}{u^T_2u_2}$ \n",
        "\n",
        "$$\\tilde{H}_2 = \\begin{pmatrix} 1&0\\\\0&1 \\end{pmatrix} -2 \\begin{pmatrix} 0.584551 & 0.492799\\\\ 0.492799& 0.415449 \\end{pmatrix} = \\begin{pmatrix} -0.169102 & -0.985599 \\\\ -0.985599 & 0.169102 \\end{pmatrix}$$\n",
        "\n",
        "Con $\\tilde{H}_2$ construimos $H_2$ \n",
        "\n",
        "$$H_2 = \\begin{pmatrix} I_1 & 0\\\\ 0^T & \\tilde{H}_2 \\end{pmatrix} = \\begin{pmatrix} 1.0 & 0.0 & 0.0\\\\ 0.0 & -0.169102 & -0.985599 \\\\ 0.0 & -0.985599 & 0.169102 \\end{pmatrix} $$\n",
        "\n",
        "Calculamos \n",
        "\n",
        "$$A^{(2)} = H_2 * A^{(1)} = \\begin{pmatrix} 1.0 & 0.0 & 0.0\\\\ 0.0 & -0.169102 & -0.985599\\\\ 0.0 & -0.985599 & 0.169102 \\end{pmatrix} \\begin{pmatrix} \\sqrt{2} & -2.12132 & -2.82843\\\\ 0 & -0.207107 & 0.292893\\\\ 0& -1.20711 & -1.70711 \\end{pmatrix} = \\begin{pmatrix} -1.41421 & -2.12132 & -2.82843\\\\ -0.0 & 1.22474 & 1.63299\\\\ 0.0 & 8.32667e^{-17} & -0.57735 \\end{pmatrix} = R \\quad (4)$$\n",
        "\n",
        "Definimos $R = A^{(2)}$. Formamos entonces a $Q$ \n",
        "\n",
        "$$Q=H_1H_2 = \\begin{pmatrix} -2.22045e^{-16} & 0.816497 & 0.57735\\\\ -0.707107 & 0.408248 & -0.57735 \\\\ -0.707107 & -0.408248 & 0.57735 \\end{pmatrix} \\quad (5)$$\n",
        "\n",
        "Verificamos que en efecto $A$ se factoriza como el producto de $Q$ y $R$. \n",
        "\n",
        "$$Q*R-A= \\begin{pmatrix} 3.14018e^{-16} & 0.0 & 4.44089e^{-16}\\\\ 2.22045e^{-16} & 0.00 & 0\\\\ 2.22045e^{-16} & 4.44089e^{-16}& 6.66134e^{-16} \\end{pmatrix} \\quad (6)$$\n",
        "\n"
      ],
      "metadata": {
        "id": "k3JopClg-zUq"
      }
    },
    {
      "cell_type": "markdown",
      "source": [
        "#**Householder para matrices NO cuadradas**\n"
      ],
      "metadata": {
        "id": "fhD5s1AXDPal"
      }
    },
    {
      "cell_type": "markdown",
      "source": [
        "En el caso específico de los problemas de mínimos cuadrados se necesita trabajar con matrices no cuadradas $A_{nxm}$, por lo que es necesario definir el método en este caso. El proceso consiste en hacer los mismos pasos para obtener las matrices $H_i$ como en el caso de las matrices cuadradas pero ahora sólo haciendo $s$ pasos, donde $s= min\\{n,m-1\\}$ . De manera que:\n",
        "\n",
        "$$H_sH_{s-1} ... H_2H_1A = Q^TA = R$$\n",
        "\n",
        "$\\bullet$ Si m > n entonces $Q^T A = \\left(\\begin{smallmatrix} R1\\\\ 0 \\end{smallmatrix}\\right)$ \n",
        "\n",
        "$\\bullet$ Si m ≤ n entonces $Q^T A = \\left(\\begin{smallmatrix} R1\\\\ S \\end{smallmatrix}\\right)$\n",
        "\n",
        "$\\bullet$ El algoritmo requiere aproximadamente $\\frac{2}{3n^3}$ pasos para calcular R.\n",
        "\n",
        "$\\bullet$ Tomando en cuenta que se hacen redondeos de cierto tipo al calcular las operaciones, el error $E$ se puede pensar como \n",
        "\n",
        "$$A+E = \\tilde{Q} \\tilde{R}$$ \n",
        "\n",
        "y de esta manera satisface que \n",
        "\n",
        "$$\\parallel E \\parallel _F ≤ \\phi (n) \\in_{mach} \\parallel A \\parallel _F$$ \n",
        "\n",
        "Donde $ \\phi (n)$ es una función que crece de manera suave y $\\in_{mach}$ es el epsilón de la máquina.\n",
        "\n"
      ],
      "metadata": {
        "id": "aP5WEU12Da6p"
      }
    },
    {
      "cell_type": "markdown",
      "source": [
        "#**Ejemplo: Householder para matrices NO cuadradas**"
      ],
      "metadata": {
        "id": "qeXEAx12HeRz"
      }
    },
    {
      "cell_type": "markdown",
      "source": [
        "$$ A= \\begin{pmatrix} 1.0&1.0\\\\ 0.0001 &0.0\\\\ 0.0&0.0001 \\end{pmatrix}$$\n",
        "\n",
        "$s = min \\{n,m-1\\} = min (2,3-1) =2 $\n",
        "\n",
        "$$u_2 = \\begin{pmatrix} 1.0\\\\0.0001\\\\0.0 \\end{pmatrix} + \\sqrt{1+(0.0001)^2} * \\begin{pmatrix} 1\\\\0\\\\0 \\end{pmatrix} = \\begin{pmatrix} 2.000000005\\\\0.0001\\\\0.0 \\end{pmatrix} \\quad (7)$$ \n",
        "\n",
        "Calculamos $H_i$ \n",
        "\n",
        "$$H_i = I_3 -2 \\frac{u_3u_2^T}{u^T_3u_2} = \\begin{pmatrix} -1.0 & -0.0001 & 0.0\\\\ -0.0001 & 1.0 & 0.0 \\\\ 0.0 & 0.0 & 1.0 \\end{pmatrix} \\quad (8)$$ \n",
        "\n",
        "$$A^{(1)} \\quad \\quad (9) $$\n",
        "\n",
        "$$= \\begin{pmatrix} -1.0 & -1.0\\\\ -1.25117e^{-20} & -0.0001\\\\ 0.0 & 0.0001 \\end{pmatrix} \\quad (10)$$\n",
        "\n",
        "$$u_1 = \\begin{pmatrix} -0.0001\\\\0.0001 \\end{pmatrix} + \\sqrt{(-0.0001)^2 + (0.0001)^2} * \\begin{pmatrix} 1\\\\0 \\end{pmatrix} = \\begin{pmatrix} -0-000241421\\\\0.0001\\\\0.0 \\end{pmatrix} \\quad (11)$$\n",
        "\n",
        "De aquí calculamos $\\tilde{H}_2$ y $H_2$ \n",
        "\n",
        "$$\\tilde{H}_2 = \\begin{pmatrix} -\\frac{1}{\\sqrt{2}} & \\frac{1}{\\sqrt{2}} \\\\ \\frac{1}{\\sqrt{2}} & \\frac{1}{\\sqrt{2}} \\end{pmatrix} \\quad (12)$$\n",
        "\n",
        "$$H_2 = \\begin{pmatrix} I_1 & 0\\\\ 0^T & \\tilde{H}_2 \\end{pmatrix} = \\begin{pmatrix} 1.0 & 0.0 & 0.0 \\\\ 0.0 & -\\frac{1}{\\sqrt{2}} & \\frac{1}{\\sqrt{2}} \\\\ 0.0 & \\frac{1}{\\sqrt{2}} & \\frac{1}{\\sqrt{2}} \\end{pmatrix} \\quad (13) $$\n",
        "\n",
        "De donde $R = H_2 * A_1 $\n",
        "\n",
        "$$ \\begin{pmatrix} -1.0 & -1.0\\\\ 8.8471e^{-21} & 0.000141421\\\\ -8.8471e^{-21} & 3.53553e^{-13} \\end{pmatrix} = \\begin{pmatrix} -1.0 & -1.0 \\\\ 8.8471e^{-21} & 0.000141421 \\\\ 0 & 0 \\end{pmatrix} = \\begin{pmatrix} R_1 \\\\ 0 \\end{pmatrix} $$ \n",
        "\n",
        "Donde \n",
        "\n",
        "$$ R_1 = \\begin{pmatrix} -1.0 & -1.0 \\\\ 8.8471e^{-21} & 0.000141421 \\end{pmatrix}$$ \n",
        "\n",
        "Tenemeos que \n",
        "\n",
        "$$Q=H_1*H_2 = \\begin{pmatrix} -1.0 & 7.07107e^{-5} & -7.07107e^{-5}\\\\ -0.0001 & -\\frac{1}{\\sqrt{2}} & \\frac{1}{\\sqrt{2}} \\\\ 0.0 & \\frac{1}{\\sqrt{2}} & \\frac{1}{\\sqrt{2}} \\end{pmatrix} \\quad (14)$$ \n",
        "\n",
        "Verificamos \n",
        "\n",
        "$$Q *R -A= \\begin{pmatrix} 4.44089e^{-16} & 4.44089e^{-16} \\\\ 2.71051e^{-20} & 4.97355e^{-20} \\\\ -6.2644e^{-37} & -1.35525e^{-20} \\end{pmatrix} \\quad (15) $$\n",
        "\n"
      ],
      "metadata": {
        "id": "Vrqf2pJLHnbS"
      }
    },
    {
      "cell_type": "markdown",
      "source": [
        "#**Factorización Householder QR**"
      ],
      "metadata": {
        "id": "ESAk7LseOf1p"
      }
    },
    {
      "cell_type": "markdown",
      "source": [
        "Factorización $QR$ completa para matrices de tamaño m x n (con m $\\geq$ n). El proceso resulta en la factorización: $A = QR$, donde $Q$ es una matriz ortogonal de tamaño m x m y $R$ es una matriz triangular superior (de tamaño m x n) como se ve en la figura:\n",
        "\n",
        "<center>\n",
        "<img src=\"https://github.com/jugernaut/Prometeo/blob/desarrollo/Figuras/11.jpeg?raw=1\" width=\"500\">\n",
        "</center>\n",
        "\n",
        "Algoritmo\n",
        "\n",
        "Paso 1: Descomponer $A_{mxn}= Q_{mxm}R_{mxn}$ \n",
        "$\\quad$\n",
        "\n",
        "Paso 2: Calcular $Q^T_{mxm}b_{mx1} = \\left( \\begin{smallmatrix} c\\\\ d \\end{smallmatrix} \\right)$ con los vectores *c* de n x 1 y *d* de tamaño $(m-n) x 1$ \n",
        "$\\quad$\n",
        "\n",
        "Paso 3: Resolver el sistema $R_1x=e$"
      ],
      "metadata": {
        "id": "_PKd00WkOplB"
      }
    }
  ]
}
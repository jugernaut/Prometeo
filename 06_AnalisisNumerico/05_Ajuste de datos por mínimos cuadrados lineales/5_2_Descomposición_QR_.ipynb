{
  "nbformat": 4,
  "nbformat_minor": 0,
  "metadata": {
    "colab": {
      "name": "Copia de 5.2_Descomposición QR.",
      "provenance": [],
      "toc_visible": true,
      "include_colab_link": true
    },
    "kernelspec": {
      "name": "python3",
      "display_name": "Python 3"
    },
    "language_info": {
      "name": "python"
    }
  },
  "cells": [
    {
      "cell_type": "markdown",
      "metadata": {
        "id": "view-in-github",
        "colab_type": "text"
      },
      "source": [
        "<a href=\"https://colab.research.google.com/github/jugernaut/Prometeo/blob/desarrollo/06_AnalisisNumerico/05_Ajuste%20de%20datos%20por%20m%C3%ADnimos%20cuadrados%20lineales/5_2_Descomposici%C3%B3n_QR_.ipynb\" target=\"_parent\"><img src=\"https://colab.research.google.com/assets/colab-badge.svg\" alt=\"Open In Colab\"/></a>"
      ]
    },
    {
      "cell_type": "markdown",
      "metadata": {
        "id": "cgLDA9f5DPOF"
      },
      "source": [
        "#**Método QR**\n",
        "\n",
        "Este sitio puede ser usado libremente, tanto por profesores como por estudiantes, que deseen complementar sus cursos y conocimientos en los temas antes mencionados. Los materiales están bajo una Licencia Creative Commons Atribución-NoComercial-CompartirIgual 4.0 Internacional\n",
        "\n",
        "<a rel=\"license\" href=\"http://creativecommons.org/licenses/by-nc-sa/4.0/\"><img alt=\"Licencia Creative Commons\" style=\"border-width:0\" src=\"https://i.creativecommons.org/l/by-nc-sa/4.0/88x31.png\" /></a><br />Esta obra está bajo una <a rel=\"license\" href=\"http://creativecommons.org/licenses/by-nc-sa/4.0/\">Licencia Creative Commons Atribución-NoComercial-CompartirIgual 4.0 Internacional</a>.\n",
        "\n",
        "Trabajo realizado con el apoyo del Programa UNAM-DGAPA-PAPIME PE101019"
      ]
    },
    {
      "cell_type": "markdown",
      "metadata": {
        "id": "RmBpDgyqDWFN"
      },
      "source": [
        "Uno de los métodos más usados para encontrar una factorización QR es el proceso *triangularización* de Hosueholder, es más estable que el proceso de Gram-Schmidt. Este es un proceso de $\\color{blue}{triangularaización\\ ortogonal}$. Se construye una matriz triangular por una sucesión de operaciones matriciales semejante al de la eliminación Gaussiana, sólo que en este caso se multiplica por matrices ortogonales $Q_k$ de tal forma que el proceso \n",
        "\n",
        "$$Q_n Q_{n-1} ... Q_2 Q_1 = A \\quad \\quad (A)$$\n",
        "\n",
        "resulta en una matriz triangular superios, aunque en un sentido general porque las matrices serán rectangulares \n",
        "\n",
        "<center>\n",
        "<img src=\"https://github.com/jugernaut/Prometeo/blob/desarrollo/Figuras/QR.jpeg?raw=1\" width=\"600\">\n",
        "</center>\n",
        "\n",
        "El método QR evita la formación de las ecuaciones normales y garantiza la estabilidad de la solución frente a los errores de redondeo. Este método se basa en la existencia de una factorización QR.\n",
        "\n",
        "$\\color{blue}{Teorema }$ Dada una matriz A de tamaño $m x n$, existe una matriz ortogonal $Q$ $(i.e. Q^T = Q^{-1})$ de tamaño $m x m$ cuyas columnas son una base ortonormal del espacio columna de $A$ y $R$ una matriz de tamaño $m x n$, triangular superior, tal que $A=qr$. A esta factorización se le conoce como la *factorización QR*."
      ]
    },
    {
      "cell_type": "markdown",
      "metadata": {
        "id": "GFIR5m8kHyC8"
      },
      "source": [
        "#**El método QR reducido**"
      ]
    },
    {
      "cell_type": "markdown",
      "metadata": {
        "id": "CnU6nsA0IBiM"
      },
      "source": [
        "Si $m \\geq n$ y la matriz $Q$ es dividida en $Q = (Q_1,Q_2)$ donde $Q_1$ es una matriz con las primeras *n* columnas de $Q$ y si $R_1$ esta definida como $R = \\binom{R_1}{0}$  donde $R_1$ es una matriz de $n x n$ triangular superios, entonces $A = Q_1 R_1$.\n",
        "\n",
        "<center>\n",
        "<img src=\"https://github.com/jugernaut/Prometeo/blob/desarrollo/Figuras/QR_1.jpeg?raw=1\" width=\"600\">\n",
        "</center>\n",
        "\n",
        "Entonces si $ m \\geq n$, $A$ puede factorizarse como $A = Q_1R_1$, donde $Q_1$ es una matriz de $m x n$ ortonormal y $R_1$ es una matriz triangular superior como se ve en la figura, esto se llama factorización $QR$ reducida o de tamaño reducido."
      ]
    },
    {
      "cell_type": "markdown",
      "metadata": {
        "id": "YY6U_PkOJ5O_"
      },
      "source": [
        "#**Factorización QR**"
      ]
    },
    {
      "cell_type": "markdown",
      "metadata": {
        "id": "YpUBXQ6qJ9lt"
      },
      "source": [
        "$\\color{blue}{Motivación }$ \n",
        "\n",
        "1. Minimización de $ \\parallel Ax - b \\parallel_2$\n",
        "\n",
        "2. Base del algoritmo para encontrar valores propios.\n",
        "\n",
        "3. Solución a ecuaciones lineales de la forma $Ax - b$.\n",
        "\n",
        "\n",
        "$\\color{green}{Buscamos }$\n",
        "\n",
        "Una transformación $Q$ tal que\n",
        "$$Q^T A = R$$\n",
        "\n",
        "donde $Q$ es una matriz cuyos vectores columna son ortonormales y $R$ es una matriz triangular superior.\n",
        "\n",
        "$\\color{green}{Si\\ consideramos\\ que\\ queremos\\ resolver: }$ \n",
        "\n",
        "$$\\parallel Ax -b\\parallel^2_2 = \\parallel Q^T Ax - Q^T b \\parallel_2^2 = \\parallel Rx - Q^Tb \\parallel _2^2$$\n",
        "\n",
        "Tomando en cuenta que $R$ es una matriz triangular superior podemos pensarla como\n",
        "$$R = \\binom{R_1}{0}$$  \n",
        "\n",
        "Usando esto tenemos que:\n",
        "\n",
        "$$Rx = R_1x \\quad \\quad (2)$$\n",
        "\n",
        "Por otro lado \n",
        "\n",
        "$$Q^Tb = \\binom{c}{d}$$\n",
        "\n",
        "$\\color{green}{De\\ lo\\ anterior\\ podemos\\ concluir }$ \n",
        "\n",
        "$$\\parallel Ax -b\\parallel_2^2 = \\parallel \\binom{R_1x}{0} - \\binom{c}{d} \\parallel_2^2 = \\parallel R_1x - c\\parallel _2^2 + \\parallel d \\parallel_2^2$$\n",
        "\n",
        "Es decir, podemos minimizar $\\parallel Ax - b \\parallel _2^2$ si:\n",
        "\n",
        "$$R_1x - c == 0$$\n",
        "\n",
        "Y pensando que el término $\\parallel d \\parallel _2^2$ es el residuo de nuestra minimización.\n",
        "\n",
        "$\\quad$ \n",
        "\n",
        "Como pasamos ahora el problema a encontrar una factorización $QR$ de $A$, debemos pensar en los siguientes casos:\n",
        "\n",
        "1. $A$ es de rango completo.\n",
        "\n",
        "2. $A$ es de rango deficiente.\n",
        "\n",
        "$\\color{blue}{Definición }$\n",
        "\n",
        "Se dice que una matriz $A_{nxm}$ tiene rango completo si el rango de $A$ es igual al máximo posible para cualquier matriz de las mismas dimensiones:\n",
        "\n",
        "$$rank(A) = max \\{rank(B)\\} , \\quad \\forall B \\in M_{nxm}$$\n",
        "\n",
        "*NOTA : Se dice entonces que es de rango deficiente si no tiene rango completo.\n",
        "\n",
        "$\\quad$\n",
        "\n",
        "$\\color{green}{Teorema }$\n",
        "\n",
        "Sea $A \\in M_{nxn}$ una matriz no singular, entonces existe un único par de matrices $Q, R \\in M_{nxn}$ con $R$ triangular superios y ambas con valores positivos en la diagonal principal tales que:\n",
        "\n",
        "$$A = QR$$\n",
        "\n",
        "$\\quad$\n",
        "\n",
        "$\\color{green}{Teorema }$\n",
        "\n",
        "Sea $A \\in M_{nxn}$, $n ≤ m$ entonces existe una matriz $Q \\in M_{mxn}$ con columnas ortogonales y una matriz triangular superior $R \\in M_{nxn}$ tal que:\n",
        "\n",
        "$$A = QR$$\n"
      ]
    }
  ]
}
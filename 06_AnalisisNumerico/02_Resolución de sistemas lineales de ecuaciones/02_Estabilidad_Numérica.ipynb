{
  "nbformat": 4,
  "nbformat_minor": 0,
  "metadata": {
    "kernelspec": {
      "display_name": "Python 3.7 (tensorflow)",
      "language": "python",
      "name": "tensorflow"
    },
    "language_info": {
      "codemirror_mode": {
        "name": "ipython",
        "version": 3
      },
      "file_extension": ".py",
      "mimetype": "text/x-python",
      "name": "python",
      "nbconvert_exporter": "python",
      "pygments_lexer": "ipython3",
      "version": "3.7.7"
    },
    "colab": {
      "name": "Estabilidad Numérica.ipynb",
      "provenance": [],
      "include_colab_link": true
    }
  },
  "cells": [
    {
      "cell_type": "markdown",
      "metadata": {
        "id": "view-in-github",
        "colab_type": "text"
      },
      "source": [
        "<a href=\"https://colab.research.google.com/github/jugernaut/Prometeo/blob/desarrollo/06_AnalisisNumerico/02_Resoluci%C3%B3n%20de%20sistemas%20lineales%20de%20ecuaciones/02_Estabilidad_Num%C3%A9rica.ipynb\" target=\"_parent\"><img src=\"https://colab.research.google.com/assets/colab-badge.svg\" alt=\"Open In Colab\"/></a>"
      ]
    },
    {
      "cell_type": "markdown",
      "metadata": {
        "id": "lYyeRSFmYTw5"
      },
      "source": [
        "<font color=\"Teal\" face=\"Comic Sans MS,arial\">\n",
        "  <h1 align=\"center\"><i>Estabilidad Numérica</i></h1>\n",
        "  </font>\n",
        "  <font color=\"Black\" face=\"Comic Sans MS,arial\">\n",
        "    </font>\n",
        "\n",
        "Este sitio puede ser usado libremente, tanto por profesores como por estudiantes, que deseen complementar sus cursos y conocimientos en los temas antes mencionados. Los materiales están bajo una Licencia Creative Commons Atribución-NoComercial-CompartirIgual 4.0 Internacional\n",
        "\n",
        "<a rel=\"license\" href=\"http://creativecommons.org/licenses/by-nc-sa/4.0/\"><img alt=\"Licencia Creative Commons\" style=\"border-width:0\" src=\"https://i.creativecommons.org/l/by-nc-sa/4.0/88x31.png\" /></a><br />Esta obra está bajo una <a rel=\"license\" href=\"http://creativecommons.org/licenses/by-nc-sa/4.0/\">Licencia Creative Commons Atribución-NoComercial-CompartirIgual 4.0 Internacional</a>.\n",
        "\n",
        "Trabajo realizado con el apoyo del Programa UNAM-DGAPA-PAPIME PE101019"
      ]
    },
    {
      "cell_type": "markdown",
      "metadata": {
        "id": "vS-z7mqKYTw_"
      },
      "source": [
        "## Introducción\n",
        "\n",
        "Sea $X$ un conjunto de datos de entrada y $Y$ el conjunto de datos de salida y $f$ la forma en la cual se relacionan $X$ y $Y$. Entonces\n",
        "\n",
        "$$f\\,:\\,X\\longmapsto Y$$\n",
        "\n",
        "Sin embargo para poder encontrar una solución a este problema es necesario aproximar dicha solución mediante algún algoritmo $(\\widehat{f})$ computacional.\n",
        "\n",
        "Pero como la computadora esta basada en un **sistema de punto flotante**, debemos considerar las siguientes observaciones.\n",
        " \n",
        "Originalmente $f\\,:\\,X\\longmapsto Y$, sin embargo $\\widehat{f}\\,:\\,\\widehat{x}\\in fl(X)\\longmapsto\\widehat{y}\\in fl(Y)$\n",
        " \n",
        "¿Que significa esto?.\n",
        "\n",
        "$$\\begin{array}{ccc}\n",
        "Datos & Algoritmo & Resultado\\\\\n",
        "error\\,represenentaci\\acute{o}n & \\Longleftrightarrow propagaci\\acute{o}n\\,error\\Longleftrightarrow & aproximado\n",
        "\\end{array}$$ "
      ]
    },
    {
      "cell_type": "markdown",
      "metadata": {
        "id": "UahaClImf2Yj"
      },
      "source": [
        "## Estabilidad\n",
        "\n",
        "De manera intuitiva un algoritmo sera estable si, pequeños cambios en los datos de entrada producen pequeños cambios en los datos de salida.\n",
        "\n",
        "Por el contrario, un algoritmo es inestable si, pequeños cambios en los datos de entrada se magnifican en los datos de salida.\n",
        "\n",
        "Lo mas importante que se le puede pedir a un algoritmo $\\widehat{f}$ es que proporcione una buena aproximación al problema $f$, ya sea tomando\n",
        "\n",
        "$$\\left\\Vert f(x)-\\widehat{f}(x)\\right\\Vert \\qquad\\acute{o}\\qquad\\frac{\\left\\Vert f(x)-\\widehat{f}(x)\\right\\Vert }{\\left\\Vert f(x)\\right\\Vert }$$\n",
        "\n",
        "Si $\\widehat{f}$ es un buen algoritmo se podría esperar un error relativo pequeño, del orden de $\\epsilon_{M}$, es decir $O\\left(\\epsilon_{M}\\right)$.\n",
        "\n",
        "En otras palabras, se puede decir que un algoritmo $\\widehat{f}$ para un problema $f$ es preciso si \n",
        " \n",
        "$$\\forall x\\in X\\quad\\frac{\\left\\Vert f(x)-\\widehat{f}(x)\\right\\Vert }{\\left\\Vert f(x)\\right\\Vert }=O\\left(\\epsilon_{M}\\right)$$\n",
        " \n",
        "De manera vaga, el símbolo $O\\left(\\epsilon_{M}\\right)$ significa \" del orden del épsilon de la máquina\". \n",
        "\n",
        "Haciendo un poco de memoria, la notación $g(t)=O\\left(f(t)\\right)$ es estándar en el lenguaje matemático y significa que $\\exists\\, c,t>0$ tales que \n",
        "\n",
        "$$ 0 \\leq \\left|g(t)\\right|\\leq c\\left|f(t)\\right|$$\n",
        "\n",
        "En este contexto que algo pertenezca al $O\\left(\\epsilon_{M}\\right)$ en realidad significa que el error relativo ó absoluto entre la solución real y la aproximación serán a los más $\\epsilon_{M}$.\n",
        "\n",
        "Y recuerden que se hace un abuso de notación cuando se escribe $=O\\left(\\epsilon_{M}\\right)$, ya que en realidad lo que eso significa es $\\in \\left(\\epsilon_{M}\\right)$.\n",
        "\n",
        "Volviendo a la precisión de un algoritmo , si el problema $f$ esta mal condicionado para alguna $x$, el objetivo de precisión dado por el error relativo es poco razonable, simplemente por el error de redondeo. \n",
        "\n",
        "Así que en lugar de pedir precisión en todos los cálculos, asociados a la aproximación $\\widehat{f}$, lo más que se puede pedir, es **estabilidad.**\n"
      ]
    },
    {
      "cell_type": "markdown",
      "metadata": {
        "id": "RtPE1hDkhYzc"
      },
      "source": [
        "### Definición\n",
        "\n",
        "Un algoritmo $\\widehat{f}$ para un problema $f$, se dice que es estable si $\\forall x\\in X\\:\\exists\\:\\widehat{x}$ tal que\n",
        "\n",
        "$$\\frac{\\left\\Vert x-\\widehat{x}\\right\\Vert }{\\left\\Vert x\\right\\Vert }=O\\left(\\epsilon_{M}\\right)\\quad y\\quad\\frac{\\left\\Vert f(\\widehat{x})-\\widehat{f}(x)\\right\\Vert }{\\left\\Vert f(\\widehat{x})\\right\\Vert }=O\\left(\\epsilon_{M}\\right)$$\n",
        "\n",
        "La definición de estabilidad lo que expresa en términos comunes es, \"**Un algoritmo estable es el que produce una respuesta casi correcta a una pregunta casi correcta**\"."
      ]
    },
    {
      "cell_type": "markdown",
      "metadata": {
        "id": "qNZzGBP3gDlZ"
      },
      "source": [
        "## Estabilidad hacia atrás\n",
        "\n",
        "La condición de estabilidad hacia atrás es mas fuerte que la condición de estabilidad, ya que el $O\\left(\\epsilon_{M}\\right)$ de la definición previa ha sido substituido por 0."
      ]
    },
    {
      "cell_type": "markdown",
      "metadata": {
        "id": "WWjLEyAbjdhW"
      },
      "source": [
        "### Definición\n",
        "\n",
        "Un algoritmo $\\widehat{f}$ para un problema f, se dice que es estable hacia atrás si $\\forall x\\in X\\:\\exists\\:\\widehat{x}$ tal que \n",
        "\n",
        "$$\\frac{\\left\\Vert x-\\widehat{x}\\right\\Vert }{\\left\\Vert x\\right\\Vert }=O\\left(\\epsilon_{M}\\right)\\quad y\\quad\\widehat{f}(x)=f(\\widehat{x})$$\n",
        "\n",
        "Lo que expresa la definición de estabilidad hacia atrás es, \"**Un algoritmo estable hacia atrás es el que produce una respuesta correcta a una pregunta casi correcta**\".\n"
      ]
    },
    {
      "cell_type": "markdown",
      "metadata": {
        "id": "Bvp3tp63jqWa"
      },
      "source": [
        "### Ejemplo\n",
        "\n",
        "Sea $$A=\\left(\\begin{array}{cc}\n",
        "3.000 & 2.000\\\\\n",
        "1.000 & 2.000\n",
        "\\end{array}\\right)$$\n",
        "\n",
        "y se busca su forma triangular superior (para resolver el sistema $A\\vec{x}=\\vec{b}$) con una aritmética de 4-cifras (es decir $\\epsilon_{M}=10^{-3}$).\n",
        "\n",
        "Tomemos \n",
        "\n",
        "$$m=fl(\\frac{1.000}{3.000})=0.3333$$\n",
        "\n",
        "Ahora multiplicamos $m$ por el primer renglón y lo sumamos al segundo renglón, es decir \n",
        "\n",
        "$$a_{21'}\t=\tfl(a_{21}-(m\\times a_{11}))=fl(1.000-(0.3333\\times3.000))=fl(1.000-0.9999)=0$$\n",
        "$$a_{22'}\t=\tfl(a_{22}-(m\\times a_{12}))=fl(2.000-(0.3333\\times2.000))=fl(1.3334)=1.333 $$\n",
        "\n",
        "Así que, esta es la aproximación del problema $f$ aplicado a la matriz $A$. \n",
        "\n",
        "$$\\widehat{f}(A)=\\left(\\begin{array}{cc}\n",
        "3.000 & 2.000\\\\\n",
        "0 & 1.333\n",
        "\\end{array}\\right)$$\n",
        "\n",
        "Ahora tenemos que encontrar un dato inicial $\\widehat{A}$ tal que $f(\\widehat{A})=\\widehat{f}(A)$.\n",
        "\n",
        "$$Como\\quad\\widehat{a}_{21}-m\\times a_{11}\t=\t0\\Rightarrow\\widehat{a}_{21}=0.3333\\times3.000\\quad\\therefore\\widehat{a}_{21}=0.9999$$\n",
        "\n",
        "$$Como\\quad \\widehat{a}_{22}-m\\times a_{12}\t=\t1.333\\Rightarrow\\widehat{a}_{22}=1.333+(0.3333\\times2)\\quad\\therefore\\widehat{a}_{22}=1.9996$$\n",
        "\n",
        "$$\\widehat{A}=\\left(\\begin{array}{cc}\n",
        "3 & 2\\\\\n",
        "0.9999 & 1.9996\n",
        "\\end{array}\\right)$$\n",
        "\n",
        "Por lo que se cumple que $f(\\widehat{A})=\\widehat{f}(A)$, compruébalo. \n",
        "\n",
        "Ahora para que el algoritmo sea estable hacia atrás se debe cumplir que \n",
        "\n",
        "$$\\frac{\\left\\Vert A-\\widehat{A}\\right\\Vert }{\\left\\Vert A\\right\\Vert }=O\\left(\\epsilon_{M}\\right)$$\n",
        "\n",
        "Dado que hemos comprobado la equivalencia de normas, podemos tomar la 1-norma inducida y ver que sucede con \n",
        "\n",
        "$$ A-\\widehat{A}=\\left(\\begin{array}{cc}\n",
        "3 & 2\\\\\n",
        "1 & 2\n",
        "\\end{array}\\right)-\\left(\\begin{array}{cc}\n",
        "3 & 2\\\\\n",
        "0.9999 & 1.9996\n",
        "\\end{array}\\right)=\\left(\\begin{array}{cc}\n",
        "0 & 0\\\\\n",
        "10^{-4} & 4\\times10^{-4}\n",
        "\\end{array}\\right)$$\n",
        "\n",
        "$$\\frac{\\left\\Vert A-\\widehat{A}\\right\\Vert _{1}}{\\left\\Vert A\\right\\Vert _{1}}=\\frac{4}{4}10^{-4}\\in O\\left(\\epsilon_{M}\\right)$$\n",
        "\n",
        "Así que hemos mostrado que este algoritmo es estable hacia atras."
      ]
    },
    {
      "cell_type": "markdown",
      "metadata": {
        "id": "2InND3B0gUb2"
      },
      "source": [
        "## Estabilidad en matrices\n",
        "\n",
        "Ya es facíl comprender el por que nos interesa ver a un algoritmo como una matriz o a una solución como un vector.\n",
        "\n",
        "Dado que muchos de los problemas que analizaremos en el resto del curso toman la forma de una matriz, es importante poder identificar que tan estables son estos algoritmos."
      ]
    },
    {
      "cell_type": "markdown",
      "metadata": {
        "id": "mSFCaDmJgQ75"
      },
      "source": [
        "### Estabilidad en sistemas del tipo $A\\vec{x}=\\vec{b}$\n",
        "\n",
        "Como hemos podido observar a lo largo del curso, muchas veces la solución de un problema viene dada en forma de matriz o de vector, así que tiene mucho sentido definir cuando se considerara o no estable un algoritmo para resolver un sistema $A\\vec{x}=\\vec{b}$.\n",
        "\n",
        "Un algoritmo para solucionar $Ax=b$ es llamado estable hacia atrás, si la solución computacional $\\widehat{x}$ es tal que \n",
        "\n",
        "$$\\left(A+E\\right)\\widehat{x}=\\vec{b}+\\delta b$$\n",
        "\n",
        "con $E$ y $\\delta b$ pequeños.\n",
        "\n",
        "El proceso de substitución hacia atrás para resolver un sistema triangular superior es un ejemplo de un algoritmo estable hacia atrás.\n",
        "\n",
        "La solución computacional $\\widehat{x}$ obtenida mediante la resolución de un sistema triangular superior empleando substitución hacia atrás satisface que \n",
        "\n",
        "$$\\left(T+E\\right)\\widehat{x}=\\vec{b}$$\n",
        "\n",
        "Donde las entradas de la matriz error $E$ son bastante pequeñas."
      ]
    },
    {
      "cell_type": "markdown",
      "metadata": {
        "id": "XOBbfw8BpXNw"
      },
      "source": [
        "### Ejemplo\n",
        "\n",
        "Sea el sistema $U\\vec{x}=\\vec{b}$ con,\n",
        "\n",
        "$$ U=\\left(\\begin{array}{ccc}\n",
        "u_{00} & u_{01} & u_{02}\\\\\n",
        "0 & u_{11} & u_{12}\\\\\n",
        "0 & 0 & u_{22}\n",
        "\\end{array}\\right),\\,\\,\\vec{x}=\\left(\\begin{array}{c}\n",
        "x_{0}\\\\\n",
        "x_{1}\\\\\n",
        "x_{2}\n",
        "\\end{array}\\right),\\,\\,\\vec{b}=\\left(\\begin{array}{c}\n",
        "b_{0}\\\\\n",
        "b_{1}\\\\\n",
        "b_{2}\n",
        "\\end{array}\\right)$$\n",
        "\n",
        "Empleando substitución hacia atrás, podemos encontrar la solución de este sistema.\n",
        "\n",
        "Empezamos despejando $x_{2}$ ya que es la variable más sencilla de despejar. \n",
        "\n",
        "$$u_{22}x_{2}=b_{2}\\Longrightarrow x_{2}=b_{2}/u_{22}$$\n",
        "\n",
        "Procedemos con $x_{1}$.\n",
        "\n",
        "$$u_{11}x_{1}+u_{12}x_{2}=b_{1}\\Longrightarrow x_{1}=\\left(b_{1}-u_{12}x_{2}\\right)/u_{11}$$\n",
        "\n",
        "Por ultimo $x_{0}$.\n",
        "\n",
        "$$u_{00}x_{0}+u_{01}x_{1}+u_{02}x_{2}=b_{0}\\Longrightarrow x_{0}=\\left(b_{0}-u_{01}x_{1}-u_{02}x_{2}\\right)/u_{00}$$\n",
        "\n",
        "De tal manera que podemos pensar en el $\\vec{x}$ de la siguiente forma.\n",
        "\n",
        "$$\\vec{x}=\\left(\\begin{array}{c}\n",
        "x_{0}\\\\\n",
        "x_{1}\\\\\n",
        "x_{2}\n",
        "\\end{array}\\right)=\\left(\\begin{array}{c}\n",
        "\\left(b_{0}-u_{01}x_{1}-u_{02}x_{2}\\right)/u_{00}\\\\\n",
        "\\left(b_{1}-u_{12}x_{2}\\right)/u_{11}\\\\\n",
        "b_{2}/u_{22}\n",
        "\\end{array}\\right)$$\n",
        "\n",
        "Poniendo especial atención en los indices de las variables podemos notar que cada entrada del vector $\\vec{x}$ se puede ver como una suma de $u_{ij}x_{j}$ seguida de una única división por $u_{ii}$.\n",
        "\n",
        "Si lo pensamos en notación vectorial, cada entrada del vector $\\vec{x}\\in\\mathbb{R}^{n}$ se ve de la siguiente forma.\n",
        "\n",
        "$$x_{i}=\\left(b_{i}-\\sum_{j=i+1}^{n}u_{ij}x_{j}\\right)/u_{ii}\\quad \\quad i=n-1,n-2,....,0$$\n",
        "\n",
        "Ahora si esto lo pensamos en cualquier lenguaje de programación, tenemos que un par de ciclos anidados (uno para las i's y otro para las j's) son suficientes para calcular la solución del sistema.\n",
        "\n",
        "También es importante notar que en este ejemplo no se establecio algún tipo de restricción sobre los cálculos realizados, asi que el algoritmo y la solución mostradas en este desarrollo son $f$ y $\\vec{x}$ respectivamente. \n",
        "\n",
        "Aunque se puede mostrar que si consideramos emplear la versión computacional de este algoritmo $\\widehat{f}$ para encontrar la solución $\\widehat{x}$, esta solución cumple con la propiedad de estabilidad hacia atras, es decir.\n",
        "\n",
        "$$\\left(A+E\\right)\\widehat{x}=\\vec{b}+\\delta b$$\n",
        "\n",
        "Y más en específico.\n",
        "\n",
        "$$\\left(T+E\\right)\\widehat{x}=\\vec{b}$$\n",
        "\n",
        "<img src=\"https://github.com/jugernaut/Numerico2021/blob/desarrollo/Figuras/Normas/estabi.png?raw=1\" width=\"500\">"
      ]
    },
    {
      "cell_type": "markdown",
      "metadata": {
        "id": "KyEsjazguRcb"
      },
      "source": [
        "### Análisis de la complejidad\n",
        "\n",
        "Una vez que se tiene una idea de como luce el pseudocodigo, vale la pena hacerse un par de preguntas.\n",
        "\n",
        "• ¿Cuantos flop's (en términos de n) requiere unicamente el algoritmo de la substitución hacia atrás?.\n",
        "\n",
        "• ¿A que orden de complejidad pertenece este algoritmo?.\n",
        "\n",
        "• Considerando las operaciones elementales que se tienen que realizar para llevar una matriz a su forma triangular superior. ¿Que es menos costoso en términos de flop's, para resolver un sistema del tipo $A\\vec{x}=\\vec{b}$, calcular $A^{-1}$ y después multiplicar por la derecha a $\\vec{b}$ para poder encontrar la solución del sistema o llevar a la matriz A a su forma triangular superior y después emplear la substitución hacia atrás?. "
      ]
    },
    {
      "cell_type": "markdown",
      "metadata": {
        "id": "k7X3EzHGYTxB"
      },
      "source": [
        "##  Referencias\n",
        "\n",
        "*   Riswan Butt, Numerical Analysys Using Matlab, Jones and Bartlett.\n",
        "*   Ward Cheney, David Kincaid, Métodos Numéricos y Computación, Cenage Learning.\n",
        "*   Richard L. Burden, J. Douglas Faires, Análisis Numérico, Math Learning.\n",
        "*   Yuri N. Skiba, Introducción a los Métodos Numéricos."
      ]
    }
  ]
}
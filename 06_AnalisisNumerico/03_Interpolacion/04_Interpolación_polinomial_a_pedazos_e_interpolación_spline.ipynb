{
  "nbformat": 4,
  "nbformat_minor": 0,
  "metadata": {
    "colab": {
      "name": "04_Interpolación polinomial a pedazos e interpolación spline",
      "provenance": [],
      "toc_visible": true,
      "authorship_tag": "ABX9TyPGuwncnlTwMQcNRek/+quR",
      "include_colab_link": true
    },
    "kernelspec": {
      "name": "python3",
      "display_name": "Python 3"
    },
    "language_info": {
      "name": "python"
    }
  },
  "cells": [
    {
      "cell_type": "markdown",
      "metadata": {
        "id": "view-in-github",
        "colab_type": "text"
      },
      "source": [
        "<a href=\"https://colab.research.google.com/github/jugernaut/Prometeo/blob/desarrollo/06_AnalisisNumerico/03_Interpolacion/04_Interpolaci%C3%B3n_polinomial_a_pedazos_e_interpolaci%C3%B3n_spline.ipynb\" target=\"_parent\"><img src=\"https://colab.research.google.com/assets/colab-badge.svg\" alt=\"Open In Colab\"/></a>"
      ]
    },
    {
      "cell_type": "markdown",
      "metadata": {
        "id": "N2YSUaSWXF35"
      },
      "source": [
        "#**Interpolación con Splines**"
      ]
    },
    {
      "cell_type": "markdown",
      "metadata": {
        "id": "3TfpaCJ8XLuT"
      },
      "source": [
        "Una elección adecuada de bases de funciones y puntos de interpolación puede mitigar algunas de las dificultades asociadas con la interpolación mediante polinomios de alto grado.\n",
        "\n",
        "$\\color{blue}{Interpolación\\ con\\ un\\ sólo\\ polinomio\\ }$\n",
        "\n",
        "Es muy probable que obtengamos resultados no satisfactorios al ajustar un sólo polinomio a un conjunto grande de puntos. El resultado será un polinomio con grandes oscilaciones.\n",
        "\n",
        "La interpolación poliomial a tramos (picewise polynomial interpolation) nos da una alternativa, la dificultad práctica y teórica asociada con polinomios de interpolación de grado muy alto. "
      ]
    },
    {
      "cell_type": "markdown",
      "metadata": {
        "id": "rC7Jdc3FXXjL"
      },
      "source": [
        "#**Interpolación a tramos**"
      ]
    },
    {
      "cell_type": "markdown",
      "metadata": {
        "id": "cA14uVs1XdJL"
      },
      "source": [
        "En la interpolación a tramos, dado un conjunto de puntos $(x_i,y_i) , i=0,1,2,...,n$ con $x_0 < x_1 < x_2 < ... < x_n$, $\\color{purple}{un\\ polinomio\\ diferente\\ es\\ usado\\ para\\ cada\\ sub-intervalo\\ }$ $[x_i,x_{i+1}]$. Por esta razón las abscisas $x_i$ en las cuales el interpolante cambia de un polinomio a otro se llaman $\\color{purple}{nodos,\\ o\\ puntos\\ de\\ contro\\ o\\ de\\ ruptura.\\ }$\n",
        "\n",
        "$\\color{purple}{Ventaja\\ de\\ la\\ interpolación\\ a\\ tramos\\ }$\n",
        "\n",
        "La interpolación a tramos puede ajustar un número muy grande de puntos con un conjunto de polinomios de grado pequeño.\n",
        "\n",
        "El ejemplo más simple de interpolacion a tramos es la interpolación lineal, donde una recta contenga a pares de puntos contiguos."
      ]
    },
    {
      "cell_type": "markdown",
      "metadata": {
        "id": "p0eWSuAZXmXf"
      },
      "source": [
        "#**Interpolación con Splines Cúbicos**\n"
      ]
    },
    {
      "cell_type": "markdown",
      "metadata": {
        "id": "Yapximw2XojC"
      },
      "source": [
        "$\\color{green}{Definición:\\ Splines\\ de\\ grado\\ 1\\ ≤\\ k\\ ≤\\ 3\\ }$\n",
        "\n",
        "Dado un conjunto de puntos $(x_i,y_i), i=0,1,2,...,n$ con $x_0 <x_1 <x_2 <...< x_n$ una función de interpolación $S(x)$ spline de grado *k* es tal que:\n",
        "\n",
        "1. $S(x_i) = y_i$ para todo $i=0,1,2,..n$ \n",
        "\n",
        "2. $S(x)$ es un polinomio de grado $≤k$ en cada sub-intervalo $[x_{i-1},x_i]\n",
        "\n",
        "3. $S(x)$ tiene derivada continua hasta de orden $k-1$ en $[x_0,x_n]$"
      ]
    },
    {
      "cell_type": "markdown",
      "metadata": {
        "id": "X1eeM_9TXxf6"
      },
      "source": [
        "#**Interpolación a tramos: Splines lineales**"
      ]
    },
    {
      "cell_type": "markdown",
      "metadata": {
        "id": "3x4pUQYEXzs2"
      },
      "source": [
        "Un $\\color{blue}{spline\\ es\\ un\\ polinomio\\ de\\ grado\\ uno\\ y\\ es\\ continuo,\\ pero\\ no\\ diferenciable\\ }$. Se podría describir como una *línea quebrada*. Dados $n+1$ puntos $(x_i,y_i), i=0,1,2,...,n$ con $x_0 < x_1 < x_2 < ... < x_n$ que interpole los datos, es simplemente unir cada uno de los puntos mediante segmentos de recta:\n",
        "\n",
        "\\begin{equation} \\left\\{ \\begin{array}{c} s_1(x) si x \\in [x_0,x_1] \\\\ s_2(x) si x\\in [x_1,x_2]\\\\ \\vdots \\\\ s_n (x) si x \\in [x_{n-1},x_n] \\end{array} \\right\\}  \\end{equation}\n",
        "\n",
        " Donde:\n",
        " 1. $s_j(x)$ es un polinomio de grado menos o igual a 1\n",
        "\n",
        " 2. $S(x)$ tiene derivada continua de orden $k-1=0$\n",
        "\n",
        " 3. $S(x_j) = y_i,$ para $i=1,2,..,n$"
      ]
    },
    {
      "cell_type": "markdown",
      "metadata": {
        "id": "cDy8y4gTX9ko"
      },
      "source": [
        "#**Splines lineales**"
      ]
    },
    {
      "cell_type": "markdown",
      "metadata": {
        "id": "EuRMPBSWX_jh"
      },
      "source": [
        "$\\color{green}{Splines\\ de\\ grado\\ 1\\ }$\n",
        "\n",
        "Por lo anterior el Spline lineal esta definido como sigue:\n",
        "\n",
        "\\begin{equation}\n",
        "     S(x) = \\left\\{\n",
        "\t       \\begin{array}{ll}\n",
        "\t\t y_0+f[x_1,x_0](x-x_0) & \\mathrm{si\\ } x \\in [x_0,x_1] \\\\\n",
        "\t\t y_1 + f[x_2,x_1](x-x_1) & \\mathrm{si\\ } x\\in [x_1,x_2]  \\\\\n",
        "     \\vdots \\\\\n",
        "\t\ty_{n-1} +f[x_n,x_{n-1}](x-x_{n-1})   & \\mathrm{si\\ } x \\in [x_{n-1},x_n]\n",
        "\t       \\end{array}\n",
        "\t     \\right.\n",
        "   \\end{equation}\n",
        "\n",
        "Donde $f[x_i,x_j]$ es la diferencia dividida de Newton."
      ]
    },
    {
      "cell_type": "markdown",
      "metadata": {
        "id": "dPDvnCbMYGLP"
      },
      "source": [
        "#**Ejemplo: Construcción de un spline cuadrático.**"
      ]
    },
    {
      "cell_type": "markdown",
      "metadata": {
        "id": "zw3TvuwkYMpk"
      },
      "source": [
        "$\\color{green}{Splines\\ de\\ grado\\ 2\\ }$\n",
        "\n",
        "Consideremos los siguietes nodos de interpolación: $(3,2),(4,1),(7,3),(9,1)$. Notemos que se forman tres interrvalos $[3,4],[4,7],[7,9]$. En cada uno de etsos intervalos debemos definir un polinomio cuadrático de la siguiente forma:\n",
        "\n",
        "\\begin{equation}\n",
        "     S(x) = \\left\\{\n",
        "\t       \\begin{array}{ll}\n",
        "\t\t a_1x^2+b_1x+c_1      & \\mathrm{si\\ } x \\in [3,4] \\\\\n",
        "\t\t a_2x^2+b_2x+c_2 & \\mathrm{si\\ } x \\in [4,7] \\\\\n",
        "\t\t a_3x^2+b_3x+c_3   & \\mathrm{si\\ } x \\in [7,9]\n",
        "\t       \\end{array}\n",
        "\t     \\right.\n",
        "   \\end{equation}\n",
        "\n",
        "Se deben de cumplir las condiciones de interpolación, i.e.:\n",
        "\n",
        "$$S(3) = 2, S(4)=1, S(7)=3, S(9)=1$$\n",
        "\n",
        "De estas condiciones de interpolación se forman los siguientes sistemas de ecuaciones:\n",
        "\n",
        "$$S(3)= 2 \\to 9a_1 + 3b_1 + c_1 = 2$$\n",
        "\n",
        "\\begin{equation}\n",
        "     S(4) = 1 \\to \\left\\{\n",
        "\t       \\begin{array}{ll}\n",
        "\t\t 4^2a_1+4b_1+c_1 = 1 \\\\\n",
        "\t\t 4^2a_2+4b_2+c_2 = 1 \n",
        "\t       \\end{array}\n",
        "\t     \\right.\n",
        "   \\end{equation}\n",
        "\n",
        "\\begin{equation}\n",
        "     S(7) = 3 \\to \\left\\{\n",
        "\t       \\begin{array}{ll}\n",
        "\t\t 49a_2+7b_2+c_2 = 3 \\\\\n",
        "\t\t 49a_3+7b_3+c_3 = 3 \n",
        "\t       \\end{array}\n",
        "\t     \\right.\n",
        "   \\end{equation}\n",
        "\n",
        "$$S(9) = 1 \\to 81a_3 + 9b_3 + c_3 = 1$$\n",
        "\n",
        "Con esto tenemos 6 ecuaciones y 9 incógnitas.\n",
        "\n",
        "Tenemos ahora que forzar a las derivadas para ser continuas. En el caso de splines de grado 2, necesitamos que las derivadas de grado 1 sean continuas. Las derivadas para este ejemplo están dadas por:\n",
        "\n",
        "\\begin{equation}\n",
        "     S'(x) = \\left\\{\n",
        "\t       \\begin{array}{ll}\n",
        "\t\t 2a_1x^2+b_1 & \\mathrm{si\\ } x \\in [3,4] \\\\\n",
        "\t\t 2a_2x^2+b_2 & \\mathrm{si\\ } x \\in [4,7] \\\\\n",
        "\t\t 2a_3x^2+b_3   & \\mathrm{si\\ } x \\in [7,9]\n",
        "\t       \\end{array}\n",
        "\t     \\right.\n",
        "   \\end{equation}\n",
        "\n",
        "Como estos son segmentos de rectas que por definición son continuas, en los únicos lugare donde podrá haber discontinuidades es en las uniones de dichas rectas, en los cambios de intervalo. Por lo tanto, para que $S'(x)$ sea continua se debe cumplir que:\n",
        "\n",
        "$$2(4)a_1+b_1 = 2(4)a_2+b_2 \\to 8a_1+b_1 = 8a_2+b_2$$\n",
        "\n",
        "$$2(7)a_2+b_2 = 2(7)a_3+b_3 \\to 14a_2+b_2 = 14a_3+b_3$$\n",
        "\n",
        "Tenemos 8 ecuaciones y 9 incógnitas por lo que tenemos un grado de libertad para elegir alguna de las incógnitas. Por conveniencia y simplicidad elegimos $a_1=0$. De donde tenemos que resolverel sigiente sistema de 8 ecuaciones con 8 incógnitas:\n",
        "\n",
        "\\begin{pmatrix}\n",
        "3 & 1 & 0 & 0 & 0 & 0 & 0 & 0 \\\\\n",
        "4 & 1 & 0 & 0 & 0 & 0 & 0 & 0 \\\\\n",
        "0 & 0 & 16 & 4 & 1 & 0 & 0 & 0 \\\\\n",
        "0 & 0 & 49 & 7 & 1 & 0 & 0 & 0 \\\\\n",
        "0 & 0 & 0 & 0 & 0 & 49 & 7 & 1 \\\\\n",
        "0 & 0 & 0 & 0 & 0 & 81 & 9 & 1 \\\\\n",
        "1 & 0 & -8 & -1 & 0 & 0 & 0 & 0 \\\\\n",
        "0 & 0 & 14 & 1 & 0 & -14 & -1 & 0 \\\\\n",
        "\\end{pmatrix} \\begin{pmatrix} b_1 \\\\ c_1 \\\\ a_2 \\\\ b_2 \\\\ c_2 \\\\ a_3 \\\\ b_3 \\\\ c_3 \\\\ \\end{pmatrix}\n",
        "\n",
        "Cuya solución esta dada por: $b_1=-1,c_1=5,a_2=5/9, b_2=-(49/9), c_2=125/9, a_3=-(5/3), b_3=77/3, c_3=-95$\n",
        "\n",
        "Sustituyendo estos valores en la definición de spline cuadrático junto con $a_1=0$ tenemos:\n",
        "\n",
        "\\begin{equation}\n",
        "     S(x) = \\left\\{\n",
        "\t       \\begin{array}{ll}\n",
        "\t\t -x+5      & \\mathrm{si\\ } x \\in [3,4] \\\\\n",
        "\t\t \\frac{5}{9}x^2 - \\frac{49}{9}+ \\frac{125}{9} & \\mathrm{si\\ } x \\in [4,7] \\\\\n",
        "\t\t -\\frac{5}{3}x^2 + \\frac{77}{3}x-95  & \\mathrm{si\\ } x \\in [7,9]\n",
        "\t       \\end{array}\n",
        "\t     \\right.\n",
        "   \\end{equation}"
      ]
    },
    {
      "cell_type": "markdown",
      "metadata": {
        "id": "zcX4xl7PYihH"
      },
      "source": [
        "#**Definición de Splines Cúbicos**"
      ]
    },
    {
      "cell_type": "markdown",
      "metadata": {
        "id": "EMYuLHOJYmAa"
      },
      "source": [
        "Dada una cunción *f* definida en $[a,b]$ y un conjunto de nodos $a=x_0 < x_1 < ... < x_n = b$, un Spline cúbico *S* para *f* es una cunción que cumple con las condiciones siguientes:\n",
        "\n",
        "$\\color{blue}{(a)\\ }$ $S(x)$ es un polinomio cúbico denotado por $S_j(x)$, en el sub-intervalo $[x_j,x_{j+1}]$ para cada uno $j=0,1,...,n-1$\n",
        "\n",
        "$\\color{blue}{(b)\\ }$ $S_j(x_j) = f(x_j)$ para cada $j=0,1,...,n-1$\n",
        "\n",
        "$\\color{blue}{(c)\\ }$ $S_{j+1}(x_{j+1})= S_j(x_{j+1})$ para cada $j=0,1,...,n-2$\n",
        "\n",
        "$\\color{blue}{(d)\\ }$ $S'_{j+1}(x_{j+1}) = S'_j(x_{j+1})$ para cada $j=0,1,...,n-2$\n",
        "\n",
        "$\\color{blue}{(e)\\ }$ $S''_{j+1}(x_{j+1}) = S''_j(x_{j+1})$ para cada $j=0,1,...,n-2$\n",
        "\n",
        "$\\color{blue}{(f)\\ }$ Una de las siguientes condiciones de frontera se cumple:\n",
        "\n",
        "  $\\color{blue}{(i)\\ }$ $S''(x_0) = S''(x_n) = 0$ ($\\color{blue}{frontera\\ libre\\ o\\ natural\\ }$)\n",
        "\n",
        "  $\\color{blue}{(ii)\\ }$ $S''(x_0) = f'(x_0) = 0$ y $S'(x_n) = f'(x_n)$ ($\\color{blue}{frontera\\ rígida\\ o\\ sujeta\\ }$)"
      ]
    },
    {
      "cell_type": "markdown",
      "metadata": {
        "id": "-ytwBUt1Ykz5"
      },
      "source": [
        "#**Ejemplo Interpolación con Splines Cúbicos.**"
      ]
    },
    {
      "cell_type": "markdown",
      "metadata": {
        "id": "B_k_pVdkYw-5"
      },
      "source": [
        "Tenemos tres puntos $(x_i,y_i), i=1,2,3$. Se necesita construir un spline cúbico a tramos en cada uno de los sub-intervalos $[x_1,x_2]$ y $[x_2,x_3]$. Denotemos cada uno de estos polinomios como\n",
        "\n",
        "$$p_1(x)= \\alpha_1 + \\alpha_2x + \\alpha_3x^2 + \\alpha_4x^3$$\n",
        "\n",
        "$$p_2(x)= \\beta_1 + \\beta_2x + \\beta_3x^2 + \\beta_4x^3$$\n",
        "\n",
        "Es necesario determinar 8 parámetros (cuatro $\\alpha 's$ y cuatro $\\beta 's$) , por lo que necesitamos 8 ecuaciones. Necesitamos que el primer polinomio interpole los datos en los extremos del primer intervalo, por lo que:\n",
        "\n",
        "$$\\alpha_1 + \\alpha_2x_1 + \\alpha_3x^2_1 + \\alpha_4x^3_1 = y_1$$\n",
        "\n",
        "$$\\alpha_1 + \\alpha_2x_2 + \\alpha_3x^2_2 + \\alpha_4x^3_2 = y_2$$\n",
        "\n",
        "De forma análoga necesitamos que el segundo polinomio interpole en los extremos del segundo intervalo:\n",
        "\n",
        "$$\\beta_1 + \\beta_2x_2 + \\beta_3x^2_2 + \\beta_4x^3_2 = y_2$$\n",
        "\n",
        "$$\\beta_1 + \\beta_2x_3 + \\beta_3x^2_3 + \\beta_4x^3_3 = y_3$$\n",
        "\n",
        "Requerimos que la primera derivada de la función de interpolación sea continua en $x_2$ (el punto que comparten ambos splines, por ser dos polinomios es el único lugar donde podría haber una discontinuidad):\n",
        "\n",
        "$$\\alpha_2 + 2\\alpha_3x_2 + 3\\alpha_4x^2_2 = \\beta_2 + 2\\beta_3x_2 + 3\\beta_4x^2_2$$\n",
        "\n",
        "Requerimos que la segunda derivada de la función de interpolación sea continua en $x_2$ lo cual nos da la siguiente ecuación:\n",
        "\n",
        "$$2\\alpha_3 + 6\\alpha_4x_2 = 2\\beta_3 + 6\\beta_4x_2$$\n",
        "\n",
        "Finalmente de la definición de spline natural, tenemos que este tiene la segunda derivada iguala cero en los extremos, obteniendo las siguientes dos ecuaciones:\n",
        "\n",
        "$$2\\alpha_3 + 6\\alpha_4x_1 = 0, 2\\beta_3 + 6\\beta_4x_3 = 0$$\n",
        "\n",
        "Escribiendo el sistema de ecuaciones, obtenemos:\n",
        "(ecuación 85)"
      ]
    },
    {
      "cell_type": "markdown",
      "metadata": {
        "id": "Pua4QCzKZHbg"
      },
      "source": [
        "#**Construcción de Splines Cúbicos**"
      ]
    },
    {
      "cell_type": "markdown",
      "metadata": {
        "id": "3BQwlEbwZJ0r"
      },
      "source": [
        "Para construir un spline cúbico interpolante, dada una función *f*, las condiciones en la deinición se aplican a los splines cúbicos para cada $j=0,1,...,n-1$\n",
        "\n",
        "$$S_J(X)=a_j=f(x_j),$$\n",
        "\n",
        "se aplica la condición $(c)$ que dice:\n",
        "\n",
        "$S-{j+1}(x_{j+1})= S_j(x_{j+1}), j=0,1,...,n-2$ entonces:\n",
        "\n",
        "$a_{j+1}= S_{j+1}(x_{j+1}) = S_j(x_{j+1})$\n",
        "\n",
        "$a_{j+1}= a_j + b(x_{j+1}-x_j) + c_j(x_{j+1}-x_j)^2 + d_j(x_{j+1}-x_j)^3$\n",
        "\n",
        "Sea $h_j=x_{j+1}-x_j, j=0,1,...,n-1$ . Sea $a_n=f(x_n)$ entonces en la ecuación (87) anterior se escribe: \n",
        "\n",
        "$$a_{j+1} = a_j + b_jh_j + c_jh^2_j + d_jh^3_j$$\n",
        "\n",
        "Sean $b_n = S'(x_x)$, observamos que:\n",
        "\n",
        "$S'_j(x) = b_j + 2c_j(x-x_j) + 3d_j(x-x_j)^2 s'_j(x_j) = b_j, j=0,1,...,n-1$\n",
        "\n",
        "Aplicando la condición (c): $S'_{j+1}(x_{j+1}) = S'_j(x_{j+1}) , j=0,1,...,n-2$, tenemos:\n",
        "\n",
        "$$b_{j+1} = b_j + 2c_jh_j + 3d_jh^2_j, j=0,1,...,n-1$$\n",
        "\n",
        "Otra relación entre los coeficientes de $s_j$ se obtienen definiendo $c_n=S'(x_n)/2$ y aplicando la condición (c): $S_{j+1}(x_{j+1}) = S_j(x_{j+1}), j=0,1,...,n-2$. En este caso $c_{j+1}=c_j + 3d_jh_j, j=0,1,...,n-1$, donde puedp despejar \n",
        "\n",
        "$$d_j = \\frac{c_{j+1}-c_j}{3h_j}$$\n",
        "\n",
        "Resolviendo para $d_j$ y sustituyendo en (88), obtenemos las nuevas ecuaciones:\n",
        "\n",
        "$$a_{j+1} = a_j + b_jh_j+ \\frac{h^2_j}{3}(2c_j+c_{j+1})$$\n",
        "$$b_{j+1} = b_j + h_j(c_j+c_{j+1}), j=0,1,...,n-1$$\n",
        "\n",
        "$$\\to b_j = b_{j-1} + h_{j-1} (c_{j-1}+c_j)$$\n",
        "\n",
        "Despejando $b_j$ de (92) obtenemos:\n",
        "\n",
        "$$b_j = \\frac{1}{h_j} (a_{j+1}-a_j) - \\frac{h_j}{3}(2c_j+c_{j+1})$$\n",
        "\n",
        "Con una reducción del índice para $b_{j-1}$ tenemos :\n",
        "\n",
        "$$b_{j-1} = \\frac{1}{h_{j-1}} (a_j-a_{j-1})- \\frac{h_{j-1}}{3} (2c_{j-1}+c_j)$$\n",
        "\n",
        "Cuando sustituimos estos valores en la ecuación obtenida en (92) con el índice reducido en 1, obtenemos el sistema de ecuaciones lineales:\n",
        "\n",
        "$h_{j-1}c_{j-1} + 2(h_{j-1}+h_j)c_j + h_jc_{j+1} = \\frac{3}{h_j}(a_{j+1}-a_j) - \\frac{3}{h_{j+1}}(a_j-a_{j-1})$\n",
        "\n",
        "para cada $j=1,2,...,n-1$. Este sistema sólo contiene $\\{c_j\\}^n_{j=0}$ como incógnitas pues los valores de $\\{h_j\\}^n_{j=0}$ y $\\{a_j\\}^n_{j=0}$ están dados por el espaciado de los nodos $\\{x_j\\}^n_{j=0}$ y los valores de *f* en éstos."
      ]
    },
    {
      "cell_type": "markdown",
      "metadata": {
        "id": "4-Cv7RuzZTAG"
      },
      "source": [
        "#**Ejercicios de Splines Cúbicos**"
      ]
    },
    {
      "cell_type": "markdown",
      "metadata": {
        "id": "0vAyRqZ_ZVZD"
      },
      "source": [
        "$\\color{blue}{(1)\\ }$ Un spline cúbico natural $S$ en $[0,2]$ esta definido por \n",
        "\n",
        "$S_0(X) = 1+2X-X^3 \\mathrm{si\\ } 0 ≤ X < 1$\n",
        "$S_1(X) = 2+B(X-1) + C(X-1)^2 + D(X-1)^3 \\mathrm{si\\ } 1 ≤ x ≤ 2$\n",
        "\n",
        "Obtener b,c y d.\n",
        "\n",
        "$\\color{blue}{(2)\\ }$ Construir el spline cúbico que interpole los datos $f(0) = 0, f(1) = 1, f(2) = 2 y S'(0) = 2$"
      ]
    }
  ]
}
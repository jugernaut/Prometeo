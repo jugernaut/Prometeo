{
  "nbformat": 4,
  "nbformat_minor": 0,
  "metadata": {
    "colab": {
      "name": "Interpolación 03",
      "provenance": [],
      "toc_visible": true,
      "include_colab_link": true
    },
    "kernelspec": {
      "name": "python3",
      "display_name": "Python 3"
    },
    "language_info": {
      "name": "python"
    }
  },
  "cells": [
    {
      "cell_type": "markdown",
      "metadata": {
        "id": "view-in-github",
        "colab_type": "text"
      },
      "source": [
        "<a href=\"https://colab.research.google.com/github/jugernaut/Prometeo/blob/desarrollo/06_AnalisisNumerico/03_Interpolacion/Interpolaci%C3%B3n_03.ipynb\" target=\"_parent\"><img src=\"https://colab.research.google.com/assets/colab-badge.svg\" alt=\"Open In Colab\"/></a>"
      ]
    },
    {
      "cell_type": "markdown",
      "metadata": {
        "id": "gTmXfouXUnDx"
      },
      "source": [
        "<font color=\"Teal\" face=\"Comic Sans MS,arial\">\n",
        "  <h1 align=\"center\"><i>Interpolación</i></h1>\n",
        "  </font>\n",
        "  <font color=\"Black\" face=\"Comic Sans MS,arial\">\n",
        "  <h5 align=\"center\"><i>Profesora: \tUrsula Xiomara Iturrarán Viveros</i></h5>\n",
        "    <h5 align=\"center\"><i>Ayudante: Juan Pablo Cordero Santiago</i></h5>\n",
        "  <h5 align=\"center\"><i>Materia: Análisis Numérico</i></h5>\n",
        "  </font>"
      ]
    },
    {
      "cell_type": "markdown",
      "metadata": {
        "id": "GaeW9nV7Um4-"
      },
      "source": [
        "#**Ajuste de curvas** "
      ]
    },
    {
      "cell_type": "markdown",
      "metadata": {
        "id": "1YSnXp8xUmul"
      },
      "source": [
        "$\\color{green}{Diferentes\\ alternativas\\ para\\ el\\ ajuste\\ de\\ curvas.}$ \n",
        "\n",
        "1. Usar un polinomio interpolante. \n",
        "2. Usar *splines* (o trazadores) que son funciones polinomailes a trozos.\n",
        "3. Usar polinomios trigonométricos en $[0, 2 \\pi]$. Son la elección natural cuando una función es periódica de periodo $2 \\pi$.\n",
        "4. Usar sumas exponenciales, se usan cuando sabemos que *f* presenta decaimiento exponencial conforme $x \\to \\infty$.\n",
        "5. Si los datos son aproximados (es decir datos experimentales, i.e. hay incertidumbre), lo más conveniente sería *suavizarlos* usando aproximaciones mediante *Mínimos cuadrados*.\n",
        "\n"
      ]
    },
    {
      "cell_type": "markdown",
      "metadata": {
        "id": "p4QgvJVAUmmN"
      },
      "source": [
        "#**Teoría** "
      ]
    },
    {
      "cell_type": "markdown",
      "metadata": {
        "id": "lGN0DG-3UmZ4"
      },
      "source": [
        "$\\color{blue}{Teorema:\\ Aproximación\\ de\\ Weierstrass\\ }$\n",
        "\n",
        "\n",
        "Sea *f* es una función real y continua definida en $[a,b]$. Entonces para todo $\\epsilon > 0$, existe un polinomio *p* tal que para todo $ x \\in [a,b]$, \n",
        "\n",
        "$$| f(x) - p(x) | < \\epsilon \\quad \\quad \\quad \\quad \\quad \\quad \\quad \\quad \\quad \\quad \\quad \\quad \\quad \\quad \\quad \\quad \\quad \\quad \\quad \\quad \\quad  (1)$$.        \n"
      ]
    },
    {
      "cell_type": "markdown",
      "metadata": {
        "id": "Pgp5PbpsUmAS"
      },
      "source": [
        "#**Problema de interpolación**"
      ]
    },
    {
      "cell_type": "markdown",
      "metadata": {
        "id": "x7iFLJXjUkXr"
      },
      "source": [
        "$\\color{green}{Un\\ problema\\ de\\ interpolación\\ polinomial\\ se\\ define\\ como\\ sigue:}$\n",
        "\n",
        "Dados $n + 1$ puntos $(x_0 , y_0), (x_1 , y_1), ... , (x_n , y_n)$, siendo $x_i \\neq x_j$ si $i \\neq j$ quisiéramos encontrar un polinomio $P_n (x)$ de grado $< = n$ tal que \n",
        "\n",
        "\n",
        "$$P_n(x_i) = y_i, i=0,1,2,...,n.  \\quad \\quad \\quad \\quad \\quad \\quad \\quad \\quad(2) $$\n",
        "\n",
        "Llamamos a $P_n(x)$ $\\color{purple}{polinomio\\ interpolante}$ y a cada $x_i$ lo llamamos $\\color{purple}{nodo\\ de\\ interpolación}$. También se pueden considerar los pares de puntos como: $(x_0,f(x_0)), (x_1,f(x_1)), ... , (x_n,f(x_n))$ con valores conocidos para las evaluaciones de la función *f* en los nodos de interpolación.\n",
        "\n",
        "$\\bullet$ Asumimos un conjunto de puntos discretos $(x_0, x_1, ... , x_n)$ con los valores correspondientes $f(x_0), f(x_1), ... , f(x_n)$.\n",
        "\n",
        "$\\bullet$ Construimos una función $f(x)$ que pase por $(x_i,f(x_i))$ por medio de la aproximación:\n",
        "\n",
        "$$f(x) \\approx P_n(x) = $\\sum_{i=0}^n a_k \\phi_k (x),\\quad \\quad \\quad \\quad \\quad \\quad    (3)$$\n",
        "\n",
        "$\\bullet$ donde $\\phi_k (x)$ son los polinomios a priori y forman una *base*\n",
        "\n",
        "$\\bullet$ $a_k$ son coeficientes por determina.\n",
        "\n",
        "\n",
        "\n"
      ]
    },
    {
      "cell_type": "markdown",
      "metadata": {
        "id": "l-zgJ1i7vI4a"
      },
      "source": [
        "#**Existencia y unicidad**"
      ]
    },
    {
      "cell_type": "markdown",
      "metadata": {
        "id": "jAyXcs9GUkMS"
      },
      "source": [
        "$\\color{blue}{Teorema\\ de\\ existencia\\ y\\ unicidad}$\n",
        "\n",
        "Sean $x_0,x_1,...,x_n$ números reales distintos y $n > = 0$. Si $y_0,y_1,...,y_n$ son números reales arbitrarios, existe un único polinomio $P_n$ de grado menos o igual a *n* tal que $P_n(x_i) = y_i, i = 0, 1, 2, ..., n."
      ]
    },
    {
      "cell_type": "markdown",
      "metadata": {
        "id": "qjVLji2LwRWi"
      },
      "source": [
        "#**Existencia**"
      ]
    },
    {
      "cell_type": "markdown",
      "metadata": {
        "id": "GsXzj3LxUkAs"
      },
      "source": [
        "$\\color{blue}{Teorema\\ de\\ existencia\\ y\\ unicidad.}$\n",
        "\n",
        "La $\\color{purple}{existencia}$ se puede probar exhibiendo (construyendo) este polinomio en la forma de *Lagrange*: \n",
        "\n",
        "$$P_n(x) = L_{n,0} (x) f (x_0) + L_{n,1}(x)f(x1) + ... + L_{n,n} (x) f (x_n)    \\quad(4)$$\n",
        "\n",
        "donde se le llama *polinomios cardinales** a los polinomios:\n",
        "\n",
        "$$L_{n,k} (x) = \\begin{equation*}\n",
        "  \\prod_{\\substack{i=1\\\\i\\ne k}}^n \\frac {x-t_i}{t_k-t_i}\n",
        "\\end{equation*} = L_k (x)( 5) $$\n",
        "\n",
        "\n",
        "$$= \\frac{x-x_0}{x_k-x_0} . \\frac{x-x_1}{x_k-x_1} ... \\frac{x-x_{k-1}}{x_k-x_{k-1}} . \\frac{x-x_{k+1}}{x_k-x{k+1}} ... \\frac{x-x_n}{x_k-x_n} (6) $$\n",
        "\n",
        "el subindice *n* índica el grado del polinomio de Lagrange (también de los polinomios cardinales) sólo que a veces se omite com al final (5).\n",
        "\n",
        "$\\color{purple}{Los\\ polinomios\\ cardinales\\ tienen\\ una\\ propiedad\\ muy\\ importante:}$\n",
        "\n",
        "$$L_k (X_i) = \\left \\{\\begin{matrix} 1 & \\mbox{si }k\\mbox {=i}\n",
        "\\\\ 0 & \\mbox{de }otra\\mbox{ forma}\\end{matrix}\\right.  $$\n",
        "\n",
        "Esta propiedad es el corazón de los polinomios de Lagrange ya que obliga a que se cumpla la condición de interpolación:\n",
        "\n",
        "$$P_n(X_i) = y_i = f(x_i)$$"
      ]
    },
    {
      "cell_type": "markdown",
      "metadata": {
        "id": "2CLAPnIt1I28"
      },
      "source": [
        "#**Unicidad**\n"
      ]
    },
    {
      "cell_type": "markdown",
      "metadata": {
        "id": "xzml5K7qUjuD"
      },
      "source": [
        "$\\color{purple}{Teorema\\ de\\ existencia\\ y\\ unicidad:\\ Prueba\\ de\\ la\\ unicidad.}$\n",
        "\n",
        "La $\\color{purple}{unicidad\\ }$ es consecuencia del teorema fundamental del álgebra: Si consideramos dos polinomios P y Q de grado a lo más *n* tal que $P(x_i) = y_i$ , $Q(x_i) = y_i$, entonces definimos a un polinomio D como la diferencia $D = P - Q$ tiene grado a lo más n y además $ D(x_i) = P(x_i) - Q(x_i) = y_i - y_i = 0$ con $i=0, 1, 2,...,n$ , entonces este polinomio tendría $n + 1$ raíces distintas y es de grado $< = n$ . Por el Teorema Fundamental del Álgebra, $D(x) \\equiv 0$ de donde se concluye que la diferencia entre $P - Q$ debe ser el polinomio nulo. Entonces tenemos que $P \\equiv Q$."
      ]
    },
    {
      "cell_type": "markdown",
      "metadata": {
        "id": "O6hKu8_p3quB"
      },
      "source": [
        "#**Joseph - Louis Lagrange (1736 - 1813)**"
      ]
    },
    {
      "cell_type": "markdown",
      "metadata": {
        "id": "JBoW-EGvUjjk"
      },
      "source": [
        "Físico, matemático y astrónomo italiano que vivió en Prusia y Francia. Trabajó para Federico II de Prusia, en Berlín, durante veinte años. Demostró el $\\color{purple}{Teorema\\ del\\ valor\\ medio,\\ desarrolló\\ la\\ mecánica\\ Lagrangiana}$ y tuvo una importante contribución en $\\color{purple}{astronomía\\ }$. A los diecinueve años resolvió un problema que había sido un asunto de discusión durante más de medio siglo, mediante una nueva técnica: \n",
        "$$\\color{purple}{El\\ cálculo\\ de\\ variaciones.\\ }$$\n",
        "\n",
        "\n",
        "\n"
      ]
    },
    {
      "cell_type": "markdown",
      "metadata": {
        "id": "ZmNTXwYZLI1y"
      },
      "source": [
        "#**Ejemplo 1** "
      ]
    },
    {
      "cell_type": "markdown",
      "metadata": {
        "id": "AsmMHAq7UjbU"
      },
      "source": [
        " $\\bullet$ Encontrar el polinomio de Lagrange para los nodos (-1,1) , (0,3) , (1,-2).\n",
        "\n",
        " Los polinomios cardinales y el polinomio de Lagrange están dados por:\n",
        "\n",
        " $$L_0(x) = \\frac{x - x_1}{x_0 - x_1} \\frac{x - x_2}{x_0 - x_2} = \\frac{x}{2} (x - 1)$$\n",
        "\n",
        " $$L_1(x) = \\frac{x - x_0}{x_1 - x_0} \\frac{x - x_2}{x_1 - x_2} = (1 + x) (1 - x)$$\n",
        "\n",
        " $$L_2(x) = \\frac{x - x_0}{x_2 - x_0} \\frac{x - x_1}{x_2 - x_1} = \\frac{x}{2} (x + 1)$$\n",
        "\n",
        " $$P_2(x) = L_0(x)f(x_0) + L_1(x)f(x_1) + L_2(x)f(x_2)$$\n",
        " \n",
        " $$ = L_0(x) + 3L_1(x) - 2L_2(x)$$ \n",
        "\n",
        " $$ = \\frac{x}{2} (x-1) + 3(1+x) (1-x) - x(x+1)$$\n",
        "\n",
        "\n",
        " \n"
      ]
    },
    {
      "cell_type": "markdown",
      "metadata": {
        "id": "w4lzhucmOTN3"
      },
      "source": [
        "#**Forma de Lagrange y forma de Newton del polinomio interpolante.**"
      ]
    },
    {
      "cell_type": "markdown",
      "metadata": {
        "id": "IJazRp9EUjRR"
      },
      "source": [
        "$\\color{green}{Aunque\\ el\\ polinomio\\ de\\ interpolación\\ es\\ único\\ existen\\ varias\\ representaciones\\ si\\ cambiamos\\ de\\ base\\ }$\n",
        "\n",
        "Sea $\\mathbb R_{n+1} [x]$ el conjunto de polinomios con coeficientes reales, de grado $< = n$. $\\mathbb R_{n+1} [x]$ es un espacio vectorial de dimensión $n+1$. Si $\\Omega = \\{B_0,B_1,...,B_n\\}$ es una base para $\\mathbb R_{n+1} [x]$ , entonces el polinomio $P_n$ que interpolate se puede escribir en la base $\\Omega$ como:\n",
        "\n",
        "$$P_n(x) = a_0B_0(x) + a_1B_1(x) + ... + a_nB_n(x)$$\n",
        "\n",
        "Aunque el polinomio interpolante es único la forma (antes de simplificar) puede cambiar según la base que se tome. Si consideramos la base $\\{1,x,x^2,...,x^n\\}$ de $\\mathbb R_{n+1}$, entonces:\n",
        "\n",
        "$$P_n(x) = a_0 + a_1x + a_2x^2 + ... + a_nx^n$$\n",
        "\n",
        "Con la base monomial $\\{1,x,x^2,...,x^n\\}$ de $\\mathbb R_{n+1} [x]$, el polinomio de interpolación esta dado por:\n",
        "\n",
        "$$P_n(x) = a_0 + a_1x + a_2x^2 + ... + a_nx^n$$\n",
        "\n",
        "Como $P_n(x_i) = y_i$ con $ i = 0,1,2,...,n$, para encontrar los coeficientes $a_i$ de $17$ tenemos que resolver el sistema de ecuaciones:\n",
        "\n",
        "$\\begin{pmatrix}\n",
        "1 & x_0 & x_0^2 & ... & x_0^n \\\\\n",
        "1 & x_1 & x_1^2 & ... & x_1^n \\\\\n",
        "1 & x_2 & x_2^2 & ... & x_2^n \\\\\n",
        "\\vdots & \\vdots & \\vdots & ... & \\vdots \\\\\n",
        "1 & x_n & x_n^2 & ... & x_n^n \\\\\n",
        "\\end{pmatrix}$  $\\begin{pmatrix} a_0 \\\\ a_1 \\\\ a_2 \\\\ \\vdots \\\\ a_n \\\\ \\end{pmatrix}$ = $\\begin{pmatrix} y_0 \\\\ y_1 \\\\ y_2 \\\\ \\vdots \\\\ y_n \\\\ \\end{pmatrix}$ = $\\begin{pmatrix} f(x_0) \\\\ f(x_1) \\\\ f(x_2) \\\\ \\vdots \\\\ f(x_n) \\\\ \\end{pmatrix}$ $\\Leftrightarrow$ $\\textbf{Va = f}$\n",
        "\n",
        "La matriz $\\textbf{V}$ asociada a este sistema de ecuaciones lienales se llama *Vandermode* y esta muy mal condicionada."
      ]
    },
    {
      "cell_type": "markdown",
      "metadata": {
        "id": "maUJg33iZDj6"
      },
      "source": [
        "#**Forma de Lagrange para polinomio interpolante**"
      ]
    },
    {
      "cell_type": "markdown",
      "metadata": {
        "id": "DrDstCO5UjI2"
      },
      "source": [
        "La forma de Lagrange del polinomio interpolante se obtiene usando la base de polinomios cardinales $\\{L_{n,0}(x), L_{n,1}(x), L_{n,2}(x), ... , L_{n,n}(x)\\}$ donde: \n",
        "\n",
        "$$L_{n,k}(x) = \\begin{equation*}\n",
        "\\prod_{\\substack{i=1\\\\i\\ne k}}^n\n",
        "    \\frac{x-t_i}{t_k-t_i}\n",
        "\\end{equation*} = L_k(x)$$\n",
        "\n",
        "En este caso tenemos que el polinomio de interpolación de Lagrange esta dado por: \n",
        "\n",
        "$$P_n(x) = L_{n,0}(x)f(x_0) + L_{n,1}(x)f(x_1) + ... + L_{n,n}(x)f(x_n)$$\n",
        "\n",
        "Como $P_n(x_i) = y_i$ con $i=0,1,2,...,n$ , $f(x_i) = y_i$ y como $L_{n,j}(x_i) = \\delta_{ij}$ (delta de Kronecker), tenemos que el sistema de ecuaciones lienales que hay que resolver es el siguiente:\n",
        "\n",
        "Para esta base de polinomios el sistema de ecuaciones que tenemos que resolver para encontrar los coeficientes del polinomio de interpolación de Lagrange es el siguiente:\n",
        "\n",
        "$\\begin{pmatrix}\n",
        "1 & 0 & 0 & ... & 0 \\\\\n",
        "0 & 1 & 0 & ... & 0 \\\\\n",
        "0 & 0 & 1 & ... & 0 \\\\\n",
        "\\vdots & \\vdots & \\vdots & \\ddots & \\vdots \\\\\n",
        "0 & 0 & 0 & ... & 1 \\\\\n",
        "\\end{pmatrix}$ $\\begin{pmatrix} a_0 \\\\ a_1 \\\\ a_2 \\\\ \\vdots \\\\ a_n\\\\ \\end{pmatrix}$ = $\\begin{pmatrix} y_0 \\\\ y_1 \\\\ y_2 \\\\ \\vdots \\\\ y_n\\\\ \\end{pmatrix}$ $\\rightarrow$ $a_i = y_i$ , $i=0,1,2,...,n$\n",
        "\n",
        "De donde la forma del polinomio de interpolación de Lgarnge esta dada por: \n",
        "\n",
        "$$P_n(x) = L_{n,0}y_0 + L_{n,1}(x)y_1 + ... + L_{n,n}(x)y_n$$"
      ]
    },
    {
      "cell_type": "markdown",
      "metadata": {
        "id": "gAjJgn4Yd8YU"
      },
      "source": [
        "#**Forma de Newton para polinomio interpolante**"
      ]
    },
    {
      "cell_type": "markdown",
      "metadata": {
        "id": "6jgPg4bkUi_R"
      },
      "source": [
        "$\\color{green}{Consideremos\\ un\\ cambio\\ de\\ base\\ }$\n",
        "\n",
        "En lugar de la base monomial, consideremos ahora el siguiente cambio de base:\n",
        "\n",
        "$$\\phi_k(x) = \\begin{equation*} \\prod_{\\substack{i=0\\\\}}^{k-1}\n",
        "    \\left(x - x_i\\right)\n",
        "  \\end{equation*}$$ \n",
        "\n",
        "El polinomio de interpolación de Newton esta dado por la base $\\{\\phi_0, \\phi_1, ... , \\phi_n\\}$ como sigue:\n",
        "\n",
        "$\\phi_0(x) = 1$\n",
        "\n",
        "$\\phi_1(x) = (x-x_0) $\n",
        "\n",
        "$\\phi_2(x) = (x-x_0)(x-x_1)$\n",
        "\n",
        "$\\phi_3(x) = (x-x_0)(x-x_1)(x-x_2)$\n",
        "\n",
        "$\\vdots$\n",
        "\n",
        "$\\phi_n(x) = (x-x_0)(x-x_1)(x-x_2) ... (x-x_{n-1})$\n",
        "\n",
        "El polinomio de interpolación se escribe como:\n",
        "\n",
        "$P_n = a_0 + a_1(x-x_0)(x-x_1) ... a_n(x-x_0)(x-x_1)(x-x_2)...$\n",
        "\n",
        "Como $P_n(x_i) = y_i, i=0,1,2,...,n ; f(x_i) = y_i$ tenemos un sistema lineal de ecuaciones en forma triangular:\n",
        "\n",
        "$P_n(x_0) = a_0 = y_0 = f(x_0)$\n",
        "\n",
        "$P_n(x_1) = a_0 + a_1(x_1-x_0) = y_1 = f(x_1)$\n",
        "\n",
        "$P_n(x_2) = a_0 + a_1(x_2-x_0) + a_2(x_2-x_0)(x_2-x_1) = y_2 = f(x_2)$\n",
        "\n",
        "$\\vdots$\n",
        "\n",
        "$P_n(x_n) = a_0 + a_1(x_n-x_0) + a_2(x_n-x_0)(x-x_1) ... a_n(x_n-x_0)(x_n-x) + a_n(x_n-x_0)(x_n-x_1)(x_n-x_2) ... (x_n-x_{n-1}) = y_n = f(x_n)$\n",
        "\n",
        "\n",
        "$\\color{green}{Sistema\\ lineal\\ triangular\\ inferior\\ resultante\\ para\\ los\\ polinomios\\ de\\ interpolación\\ de\\ Newton:\\ }$\n",
        "\n",
        "$\\begin{pmatrix}\n",
        "1 & 0 & 0 & ... & 0 \\\\\n",
        "1 & x-x_0 & 0 & ... & 0 \\\\\n",
        "1 & x-x_0 & (x-x_0)(x-x_1) & ... & 0 \\\\\n",
        "\\vdots & \\vdots & \\vdots & \\ddots & \\vdots \\\\\n",
        "1 & x-x_0 & (x-x_0)(x-x_1) & ... & (x-x_0)(x-x_1)(x-x_{n-1})\n",
        "\\end{pmatrix} \\begin{pmatrix} a_0\\\\ a_1\\\\ a_2\\\\ \\vdots\\\\ a_n \\end{pmatrix} = \\begin{pmatrix} f(x_0)\\\\ f(x_1)\\\\ f(x_2)\\\\ \\vdots\\\\ f(x_n) \\end{pmatrix}$\n",
        "\n",
        "Para obtener una forma recursiva más clara, definimos $\\mathbb Q_0 = a_0$ y $\\mathbb Q_j(x)= a_o + a_1(x-x_0) + ... + a_j(x-x_0)(x-x_1)(x-x_2)...(x-x_j)$ con $j = 1,2,...,n$ . De forma que \n",
        "\n",
        "$$a_0 = y_0$$\n",
        "\n",
        "$$a_1 = \\frac{y_1-\\mathbb Q_0(x_0)}{x_1-x_0}$$\n",
        "\n",
        "$$a_2 = \\frac{y_2-\\mathbb Q_1(x_1}{(x_2-x_0)(x_2-x_1)}$$\n",
        "\n",
        "$$\\vdots = \\vdots$$\n",
        "\n",
        "$$a_n = \\frac{y_n-\\mathbb Q_{n-1}(x_n)}{(x_n-x_0)...(x_n-x_{n-1})}$$\n",
        "\n",
        "La fórmula recursiva : $a_0 = y_0$ , $a_k = \\frac{y_k-\\mathbb Q_{k-1}(x_k)}{(x_k-x_0)...(x_k-x_{k-1})}$ con $k = 1,2,...,n$\n"
      ]
    },
    {
      "cell_type": "markdown",
      "metadata": {
        "id": "e9k-xLbvAFil"
      },
      "source": [
        "#**Diferencias divididas y evaluación de la interpolación.**"
      ]
    },
    {
      "cell_type": "markdown",
      "metadata": {
        "id": "43GTH0lkUiRd"
      },
      "source": [
        "$\\color{blue}{Diferencias\\ divididas\\ }$\n",
        "\n",
        "Dados los puntos $x_0,x_1,...x_n$ para índices arbitrarios $0 ≤ i < j ≤ n$ definimos \n",
        "\n",
        "$$f[x_i] = f(x_i)$$\n",
        "\n",
        "$$f[x_i,...,x_j] = \\frac{f[x_{i+1}]-f[x_i,...,x_{j-1}]}{x_j-x_i}$$\n",
        "\n",
        "¿Cómo usamos estas definiciones para calcular el polinomio de interpolación de Newton? Recordar que el coeficiente del polinomio de interpolación de Newton se define como : $a_{nn} = f[x_0,x_1,...,x_n]$ para calcular este coeficiente es necesario calcular $a_{jl} = f[x_{j-1},x_{j-1},...,x_j]$ con $0 ≤ 1 ≤ j ≤ n.$ Para lo que contruimos la $\\color{purple}{tabla\\ de\\ diferencias\\ divididas.\\ }$"
      ]
    },
    {
      "cell_type": "markdown",
      "metadata": {
        "id": "L-z3AiukCTBp"
      },
      "source": [
        "#**Tabla de diferencias divididas**"
      ]
    },
    {
      "cell_type": "markdown",
      "metadata": {
        "id": "Rd_IQ9HVC8B3"
      },
      "source": [
        "(insertar gráfica)\n",
        "\n",
        "Los coeficientes en $\\color{blue}{azul\\ }$ representa los coeficientes del polinomio de interpolación de Newton."
      ]
    },
    {
      "cell_type": "markdown",
      "metadata": {
        "id": "pZezTNZXEABx"
      },
      "source": [
        "#**Polinomios de Newton**"
      ]
    },
    {
      "cell_type": "markdown",
      "metadata": {
        "id": "zFncnA3FEMU3"
      },
      "source": [
        "$\\color{blue}{Fórmula\\ de\\ interpolación\\ de\\ Newton\\ con\\ diferencias\\ divididas\\ }$ \n",
        "\n",
        "$p_n(x) = f[x_0] + f[x_0,x_1](x-x_0) + f[x_0,x_1,x_2](x-x_0)(x-x_1) + ... + f[x_0,x_1,...,x_n](x-x_0)(x-x_1)...(x-x_{n-1})$   \\begin{equation*}\n",
        "   p_n =  \\sum_{j=0}^n\n",
        "  \\ \\Biggl (f[x_0,x_1,...,x_j] \\prod_{i=0}^{j-1}\n",
        "    (x-x_j) \\Biggl)\n",
        "\\end{equation*}\n",
        "\n",
        "Las diferencias divididas satisfacen la fórmula recursiva: \n",
        "\n",
        "$$f[x_0,x_1,...,x_j] = \\frac{f[x_1,x_2,...,x_j]-f[x_0,x_1,...,x_{j-1}}{x_j-x_0}$$"
      ]
    },
    {
      "cell_type": "markdown",
      "metadata": {
        "id": "9k_Apa6ULhWu"
      },
      "source": [
        "#**Algunas propiedades de las diferencias divididas**"
      ]
    },
    {
      "cell_type": "markdown",
      "metadata": {
        "id": "--5Ckv9OLn8I"
      },
      "source": [
        "Es posible demostrar que el proceso de agregar un punto más $(x_{n+1},f(x_{n+1}))$ a un polinomio de interpolación $p_n$ obtenido de los $n+1$ parejas de puntos, obtenemos:\n",
        "\n",
        "$\\color{blue}{Polinomio\\ p_{n+1}\\ construido\\ de\\ p_n\\ agregando\\ un\\ punto\\ extra\\ }$\n",
        "\n",
        "\\begin{equation*} p_{n+1}(x) = p_n(x) + f[x_0,x_1,...,x_n,x_{n+1}] \\prod_{i=0}^n (x-x_i) \\end{equation*}\n",
        "\n",
        "Construir un polinomio de interpolación para los puntos $(1,1), (2,3)$ y $(4,3)$\n",
        "\n",
        "$f[x_o,x_1] = \\frac{3-1}{2-1} = 2,f[x_1,x_2] = \\frac{4-3}{3-2} = 1, f[x_1,x_2,x_3] = \\frac{1-2}{3-1} = - \\frac{1}{2}$\n",
        "\n",
        "La tabla de diferencias divididas esta dada por :\n",
        "(insertar tabla)\n",
        "\n",
        "El polinomio de interpolación esta dado por : $p_2(x) = 1+2(x-1) - \\frac{1}{2} (x-1)(x-2)$ . Nótese que los primeros dos términos de $p_2(x)$ forman el interpolar lineal $p_1(x)$.\n"
      ]
    },
    {
      "cell_type": "markdown",
      "metadata": {
        "id": "WOvZr37lOZ2P"
      },
      "source": [
        "#**Ejemplo 2: Construir un polinomio de interpolación de Newton**"
      ]
    },
    {
      "cell_type": "markdown",
      "metadata": {
        "id": "kFGxVf_kOp-y"
      },
      "source": [
        "$$p_2(x) = 1+(x-1)  \\Biggl(2-\\frac{2}{3}(x-2) \\Biggl)$$\n",
        "\n",
        "Si queremos agregar otro punto : $(x_3,f(x_3)) = (5,4)$, tenemos que agregar otro renglón a la tabla de diferencias divididas. Calculamos: \n",
        "\n",
        "$$f[x_3]=4, f[x_2,x_3] = \\frac{4-3}{5-4}, f[x_1,x_2,x_3]=\\frac{1-0}{5-2}=\\frac{1}{3}, f[x_0,x_1,x_2,x_3]= \\frac{(1/3)-(-2/3)}{5-1} = \\frac{1}{4}$$ de donde \n",
        "\n",
        "$p_3(x) = p_2(x) + f[x_0,x_1,x_2,x_3](x-x_0)(x-x_1)(x-x_2)$\n",
        "\n",
        "$p_3(x) = 1 + (x-1)  \\Biggl(2-\\frac{2}{3}(x-2) \\Biggl)+\\frac{1}{4}(x-1)(x-2)(x-3)$\n",
        "\n",
        "$p_3(x) = 1 + (x-1)  \\Biggl(2+(x-2) \\Biggl(-\\frac{2}{3}+\\frac{1}{4}(x-4) \\Biggl) \\Biggl)$"
      ]
    },
    {
      "cell_type": "markdown",
      "metadata": {
        "id": "9sMZidLLQrWS"
      },
      "source": [
        "#**Diferencias divididas y derivadas**"
      ]
    },
    {
      "cell_type": "markdown",
      "metadata": {
        "id": "EVqkQPwkQy0J"
      },
      "source": [
        "Las diferencias divididas se pueden ver como una extensión del concepto de derivada de una función. Si consideramos una función derivable *f* aplicada a dos puntos $z_0$ y $z_1$ e imaginamos que $z_1$ se aproxima a $z_0$: \n",
        "\n",
        "$\\color{blue}{Diferencia\\ dividida\\ y\\ derivada\\ }$\n",
        "\n",
        "$$f[z_0,z_1] = \\frac{f(z_1)-f(z_0)}{z_1-z_0} \\to f'(z_0)$$\n",
        "\n",
        "Incluso si $z_0$ y $z_1$ permanecen diferentes, el Teorema de Valor Medio nos dice que existe un punto $\\xi \\in [z_0,z_1]$ tal que \n",
        "\n",
        "$$f[z_0,z_1] = f'(\\xi)$$\n",
        "\n",
        "Una conexión similar existe entre la k-ésima diferencia dividida y su derivada."
      ]
    },
    {
      "cell_type": "markdown",
      "metadata": {
        "id": "9ciA66LxSDPb"
      },
      "source": [
        "#**Diferencias divididas y *k*-ésima derivada**"
      ]
    },
    {
      "cell_type": "markdown",
      "metadata": {
        "id": "MCyyv6D8SLGp"
      },
      "source": [
        "$\\color{blue}{Teorema\\ de\\ Diferencias\\ divididas\\ y\\ derivadas\\ }$\n",
        "\n",
        "Sea la función *f* derivable por lo menos *k* veces, con derivadas acotadas en un intervalo $[a,b]$ y sean $z_0,z_1,...,z_k,k+1$ puntos distintos en $[a,b]$. Entonces existe un punto $\\xi \\in [a,b]$ tal que \n",
        "\n",
        "$$f[z_0,z_1,...,z_k] = \\frac{f^{(k)}(\\xi)}{k!}$$"
      ]
    },
    {
      "cell_type": "markdown",
      "metadata": {
        "id": "zrNPzew7UanP"
      },
      "source": [
        "#**Bibliografía**"
      ]
    },
    {
      "cell_type": "markdown",
      "metadata": {
        "id": "6rbKQSYGUiaJ"
      },
      "source": [
        "1. Walter Mora F. *Interpolación polinomial: Forma modificada de Lagrange vs. Diferencias Divididas,* Revista dígital Matemática, Educación e Internet , Vol.9, No. 1, 2008.\n",
        "\n",
        "2. Heath, M. *Scientific computing an introductory survey*. 1997, McGraw-Hill. Numerical Integration on Advanced Computer Systems.\n",
        "\n",
        "3. De Boor, Carl. *A Practical Gide to Splines* (Applied Mathematical Sciences) Springer Verlag.\n",
        "\n",
        "4. Cheney W. and Kincaid D. *Numerical Mathematics and Computing*. Thomson Brooks/Cole 2008."
      ]
    }
  ]
}
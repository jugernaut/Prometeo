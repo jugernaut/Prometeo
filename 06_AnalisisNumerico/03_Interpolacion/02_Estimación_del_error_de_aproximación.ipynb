{
  "nbformat": 4,
  "nbformat_minor": 0,
  "metadata": {
    "colab": {
      "name": "02_Estimación del error de aproximación",
      "provenance": [],
      "include_colab_link": true
    },
    "kernelspec": {
      "name": "python3",
      "display_name": "Python 3"
    },
    "language_info": {
      "name": "python"
    }
  },
  "cells": [
    {
      "cell_type": "markdown",
      "metadata": {
        "id": "view-in-github",
        "colab_type": "text"
      },
      "source": [
        "<a href=\"https://colab.research.google.com/github/jugernaut/Prometeo/blob/desarrollo/06_AnalisisNumerico/03_Interpolacion/02_Estimaci%C3%B3n_del_error_de_aproximaci%C3%B3n.ipynb\" target=\"_parent\"><img src=\"https://colab.research.google.com/assets/colab-badge.svg\" alt=\"Open In Colab\"/></a>"
      ]
    },
    {
      "cell_type": "markdown",
      "metadata": {
        "id": "a1UdIMbqT3ZQ"
      },
      "source": [
        "#**Error en el polinomio de interpolación**\n",
        "##Trabajo realizado con el apoyo del Programa UNAM-DGAPA-PAPIME PE101019\n",
        "Este sitio puede ser usado libremente, tanto por profesores como por estudiantes, que deseen complementar sus cursos y conocimientos en los temas antes mencionados. Los materiales están bajo una Licencia Creative Commons Atribución-NoComercial-CompartirIgual 4.0 Internacional\n",
        "\n",
        "<a rel=\"license\" href=\"http://creativecommons.org/licenses/by-nc-sa/4.0/\"><img alt=\"Licencia Creative Commons\" style=\"border-width:0\" src=\"https://i.creativecommons.org/l/by-nc-sa/4.0/88x31.png\" /></a><br />Esta obra está bajo una <a rel=\"license\" href=\"http://creativecommons.org/licenses/by-nc-sa/4.0/\">Licencia Creative Commons Atribución-NoComercial-CompartirIgual 4.0 Internacional</a>."
      ]
    },
    {
      "cell_type": "markdown",
      "metadata": {
        "id": "plIsq7XtU-hu"
      },
      "source": [
        "Podemos definir la función de error del polinomio interpolador como:\n",
        "\n",
        "$\\color{blue}{Error\\ del\\ polinomio\\ interpolador\\ }$\n",
        "\n",
        "$$e_n(x) = f(x) - p_n(x) \\quad (53)$$\n",
        "\n",
        "Podemos evaluar el error de $P_n$ dado un punto $x \\in [a,b]$ suponiendo que $x_{n+1}$ es otro más de interpolación (además de los que ya conocidos $x_0,x_1,...,x_n)$, entonces usamos la fórmula anterior de $p-n$ para construir $p_{n+1}$ y obtenemos:\n",
        "\n",
        "$$f(x) = P_{n+1}(x) = P_n(x) + f[x_0,x_1,...,x_n,x_{n+1}] \\phi_n(x) \\quad (54)$$\n",
        "\n",
        "donde\n",
        "\n",
        "\\begin{equation*}\n",
        "  \\phi_n(x) =\\prod_{i=0}^n\n",
        "    (x-x_i) \\quad (55)\n",
        "\\end{equation*}\n",
        "\n",
        "De la fórmula anterior podemos escribir:\n",
        "\n",
        "$\\color{blue}{El\\ error\\ del\\ polinomio\\ interpolador\\ }$ \n",
        "\n",
        "$$e_n(x) = f(x) - P_n(x) = f[x_0,x_1,...,x_n,x_{n+1}] \\phi_n(x) \\quad(56)$$\n",
        "\n",
        "Esta fórmula, depende tanto de los datos que se usaron para interpolar, como el punto *x* donde se quiere evaluar el error, por lo que necesitamos una fórmula más general.\n",
        "\n",
        "Tenemos que reemplazar las diferencias divididas por las correspondientes derivadas en la fórmula del error, asumiendo que *f* es lo suficientemente suave. Notamos que si la aproximación a *f* tiene $n+1$ derivadas acotadas, entonces por el Teorema (Derivadas y diferencias divididas) anterior, tenemos que existe un punto $\\xi = \\xi(x)$ donde $a ≤ \\xi ≤ b$ tal que $f[x_0,x_1,...,x_n,x] = \\frac{f^{(n+1)(\\xi)}}{(n+1)!}$. Esto deja una estimación para el error.\n",
        "\n",
        "$\\color{blue}{Estimación\\ del\\ error\\ }\n",
        "\n",
        "$$e_n(x) = f(x) - P_n(x) = \\frac{f_{(n+1)}(\\xi)}{(n+1)!} \\phi_n(x) \\quad (57)$$\n",
        "\n",
        "$\\quad$\n",
        "\n",
        "Es importante notar que si se conoce la función $\\left(f(x)\\right)$ que se quiere aproximar, basta con evaluarla en los puntos necesarios para poder construir el polinomio interpolador.\n",
        "\n",
        "Incluso, si se conoce la solución analítica $\\left(f(x)\\right)$ podemos dar una estimación del error y una cota para el error de la solución numérica.\n",
        "\n"
      ]
    },
    {
      "cell_type": "markdown",
      "metadata": {
        "id": "UOSKeoFK2Cqb"
      },
      "source": [
        "#**Teorema**"
      ]
    },
    {
      "cell_type": "markdown",
      "metadata": {
        "id": "oCcvWvzY2HE5"
      },
      "source": [
        "Formula del error de la interpolación polinomial:\n",
        "\n",
        "Sean $x_{0},\\ldots,x_{n}\\in\\left[a,b\\right]$, $n+1$ nodos de interpolación y sea $f\\in C^{n+1}\\left[a,b\\right]$. Si $x\\in\\left[a,b\\right]$, entonces \n",
        "\n",
        "$$f(x)=P_{n}(x)+E_{n}(x)$$\n",
        "\n",
        "donde $P_{n}(x)$ es el polinomio que interpola $f(x)$ en los $n+1$ nodos y que podemos usar para aproximar \n",
        "\n",
        "$$f(x)\\approx P_{n}(x)=\\sum_{i=0}^{n}L_{i}(x)f(x_{i})$$\n",
        "\n",
        "Podemos afirmar que el termino de error $E_{n}(x)$ se puede calcular así\n",
        "\n",
        "$$E_{n}(x)=\\left|f(x)-P_{n}(x)\\right|=\\frac{\\left(x-x_{0}\\right)\\left(x-x_{1}\\right)\\cdots\\left(x-x_{n}\\right)f^{(n+1)}(\\xi)}{\\left(n+1\\right)!}$$\n",
        "\n",
        "\n",
        "Este teorema afirma la existencia de un numero $\\xi=\\xi(x)\\in\\left[a,b\\right]$, sin embargo no se proporciona ningún procedimiento cómodo para calcularlo.\n",
        "\n",
        "En la práctica se calcula de la siguiente manera\n",
        "\n",
        "$$\\xi=\\sup_{x\\in\\left[a,b\\right]}\\left|f^{n+1}(x)\\right|$$\n",
        "\n",
        " \n",
        "Dado que ya conocemos una forma de calcular el polinomio interpolador dada una función y ademas podemos dar una estimación del error, procedamos a aplicar lo conocido a la función \n",
        "\n",
        "$$f(x)=2xe^{-\\left(4x+2\\right)}$$"
      ]
    },
    {
      "cell_type": "markdown",
      "metadata": {
        "id": "PCdGfGbI2Pd1"
      },
      "source": [
        "#**Ejemplo**"
      ]
    },
    {
      "cell_type": "markdown",
      "metadata": {
        "id": "mkIH5BUa2bNz"
      },
      "source": [
        "Sea la función $f(x)=2xe^{-\\left(4x+2\\right)} $definida en el intervalo $[0.2,1]$\n",
        "\n",
        "1. Determine el polinomio de Lagrange que interpola $f(x)$ en los punto de interpolación $\\{0.2,1.0\\}.$\n",
        "\n",
        "2. Obtener la expresión del error de interpolación\n",
        "\n",
        "$\\quad$\n",
        "\n",
        "$\\color{blue}{Solución:\\ }$\n",
        "\n",
        "$$L_{0}(x)=\\frac{x-x_{1}}{x_{0}-x_{1}}=\\frac{1-x}{0.8},\\quad L_{1}(x)=\\frac{x-x_{0}}{x_{1}-x_{0}}=\\frac{x-0.2}{0.8}$$\n",
        "\n",
        "Por lo tanto \n",
        "\n",
        "$$P_{1}(x)=L_{0}(x)f(x_{0})+L_{1}(x)f(x_{1})=\\frac{1-x}{0.8}\\left(0.4\\right)e^{-2.8}+\\frac{x-0.2}{0.8}2e^{-6}$$\n",
        "\n",
        "\n",
        "Por otra parte aplicando el teorema para la estimación del error se tiene\n",
        "\n",
        "$$E_{n}(x)=\\left|f(x)-P_{n}(x)\\right|=\\frac{\\left(x-x_{0}\\right)\\left(x-x_{1}\\right)\\cdots\\left(x-x_{n}\\right)f^{(n+1)}(\\xi)}{\\left(n+1\\right)!}$$\n",
        "\n",
        "Como se tienen 2 puntos de interpolación, es necesario calcular la segunda derivada de f \n",
        "\n",
        "$$f'(x)=\\left(2-8x\\right)e^{-(4x+2)}\\quad f''(x)=\\left(-16+32x\\right)e^{-(4x+2)}$$\n",
        "\n",
        "Por lo tanto podemos concluir que\n",
        "\n",
        "$$E_{n}(x)=\\left|f(x)-P_{n}(x)\\right|=\\frac{\\left(x^{2}-1.2x+0.2\\right)\\left(-16+32\\xi\\right)e^{-(4\\xi+2)}}{2}$$"
      ]
    },
    {
      "cell_type": "markdown",
      "metadata": {
        "id": "u1wCB1C5VTtn"
      },
      "source": [
        "#**Teorema de error en el polinomio de interpolación**"
      ]
    },
    {
      "cell_type": "markdown",
      "metadata": {
        "id": "A-LKA-V5VWmy"
      },
      "source": [
        "$\\color{blue}{Teorema\\ de\\ estimación\\ del\\ error\\ }$\n",
        "\n",
        "Si $P_n$ interpola a *f* en los $n+1$ puntos $x_0,x_1,...,x_n$ y *f* tiene $n+1$ derivadas continuas y acotadas en un intervalo $[a,b]$ conteniendo estos puntos, entonces para cada $x \\in [a,b]$ existe un punto $\\xi = \\xi(x) \\in [a,b]$ tal que:\n",
        "\n",
        "\\begin{equation*} e_n(x) = f(x) - P_n(x) = \\frac{f^{(n+1)}(\\xi)}{(n+1)!} \\prod_{i=0}^n (x-x_i) \\quad (58) \\end{equation*}\n",
        "\n",
        "$\\textbf{Demostración}$: Si $x = x_i$ $i=1,2,3,...,n$ , la fórmula del error es exacta y también debe de ser exacta en el caso de que *f* sea un polinomio de grado $≤ n$. \n",
        "Esto sugiere que en la fórmula deben de aparecer los factores:\n",
        "\n",
        "$$(x-x_0) (x-x_i) (x-x_2) ... (x-x_n) \\quad(59)$$\n",
        "\n",
        "Consideremos un valor fijo $x \\in [a,b]$ diferente de cada uno de los nodos de interpolación $x_i, i=1,2,3,..,n$. Definamos la siguiente función:\n",
        "\n",
        "\\begin{equation*} g(t) = f(t) - P_n(t) -  \\Biggl[\\frac{f(x)-P_n(x)}{\\prod_{i=0}^n (x-x_i)}  \\Biggl] \\prod_{i=0}^n (t-x_i) \\quad (60) \\end{equation*}\n",
        "\n",
        "$g \\in C^{n+1} [a,b], g(x) = 0$ y $g(x_i)=0, i=0,1,...,n$ . Por lo tanto *g* tiene $n+2$ ceros diferentes en $[a,b]$.\n",
        "\n",
        "$\\color{green}{Teorema\\ de\\ Rolle\\ }$ \n",
        "\n",
        "Se *f* $: [a,b] \\to \\mathbb R$ continua y diferenciable en $(a,b)$ . Si $f(a) = f(b)$ entonces $\\exists c \\in (a,b)$ tal que $f' (c)= 0)$.\n",
        "\n",
        "Aplicando repetidamente el Teorema de Rolle a la función *g* en los intervalos $[x_0,x_1], [x_1,x_2]$ ,..., concluims que *g'* tiene al menos $n+1$ ceros distintos en $(a,b)$. De forma análoga concluimos que $g^{n+1}$ $(g^{n+1} es continua en [a,b])$ tiene al menos un cero. Sea $\\xi (x)$ un cero de $g^{n+1}$ en $(a,b)$ , i.e. $g^{n+1} (\\xi(x)) = 0$. Pero \n",
        "\n",
        "$$\\frac{d^{n+1}}{dt^{n}} P_n(t)|_{t=\\xi(x)} = 0 = P_n(\\xi) = 0, (pues \\partial P_n ≤ n) \\quad (61)$$\n",
        "\n",
        "Y además \n",
        "\n",
        "\\begin{equation*}\n",
        "  \\prod_{i=0}^n\n",
        "    \\frac{(t-x_k)}{(x-x_k)} = \\frac{t^{n+1}}{\\prod_{i=0}^n (x-_k)} + h(t).\\quad (62)\n",
        "\\end{equation*}\n",
        "\n",
        "Donde *h* tiene términos de orden menos a $t$ $i.e. \\partial h < n+1$ para $t \\in [a,b]$\n",
        "\n",
        "\\begin{equation*}\n",
        "  \\Rightarrow \\frac{d^{n+1}}{dt^{n}} = \\left (\\prod_{i=0}^n \\frac{(t-x_k)}{(x-x_k)}\\right) = \\frac{(n+1)!}{\\prod_{i=0}^n (x-x_k)} \\quad (63)\n",
        "\\end{equation*}\n",
        "\n",
        "para cada $t \\in [a,b]$. De donde \n",
        "\n",
        "\\begin{equation*} \n",
        "0 = g^{n+1}(\\xi) = f^{n+1} (\\xi(x))-P^{n+1} (\\xi) - [f(x) - P_n(x)] \\frac{d^{n+1}}{dt^{n}} \\left [\\prod_{i=0}^n \\frac{(t-x_k)}{(x-x_k)} \\right]\\bracevert_{t=\\xi} \\quad (64)\n",
        "\\end{equation*}\n",
        "\n",
        "\\begin{equation*}\n",
        "= f^{n+1}(\\xi(x)) - 0 - [f(x)-P_n(x)] \\frac{(n+1)!}{\\prod_{i=0}^n (x-x_k)} \n",
        "\\end{equation*}\n",
        "\n",
        "De donde el error $e_n(x)$ esta dado por :\n",
        "\n",
        "$$e_n = f(x) - P_n(x) = \\frac{f^{n+1}(\\xi(x))}{(n+1)!} (x-x_0)(x-x_1)...(x-x_n). \\quad (65)$$\n",
        "\n",
        "Ver Chenney & Kincaid Numerical Mathametics and Computing, Pag.156\n",
        "\n",
        "$\\color{green}{Observaciones\\ }$\n",
        "\n",
        "1. De la expresión anterior se deduce que la magnitud de error de interpolación depende de las propiedades de la función *f* y de la distribución de los nodos de interpolación.\n",
        "\n",
        "2. Nótese que $\\xi(x)$ es desconocido en la fórmula del error $(65)$, por lo tanto estar solo es útil si la derivada esta acotada.\n",
        "\n",
        "3. Si $|f^{(n+1)} (x)| < M, \\forall x \\in [a,b]$ y $h = max \\{x_{i+1}-x_i : i=0,1,...,n\\}$.\n",
        "\n",
        "$$x \\in max[x_0,x_n]  \\Biggl\\{|f(x) - P_n(x)| \\Biggl\\} ≤ \\frac{Mh^{n+1}}{(n+1)!} \\quad (66)$$\n",
        "\n",
        "4. El error disminuye a medida que *n* crece y *h* disminuye, sólo si $|f^{n+1} (x)|$ está acotada.\n",
        "\n",
        "5. Aumentando el grado del polinomio de interpolación, aumentan las oscilaciones.\n",
        "\n",
        "6. En el interior del intervalo $[x_0,x_1]$ aumentar los puntos de interpolación no implica mejorar la aproximación.\n",
        "\n",
        "7. Por fuera del intervalo que contiene a los puntos de interpolación \n",
        "\n",
        "\\begin{equation*}\n",
        "  \\prod_{i=0}^n (x - x_i) \\quad (67)\n",
        "\\end{equation*}\n",
        "\n",
        "puede crecer rápido (extrapolación).\n",
        "\n",
        "8. Las aproximaciones de los polinomios de interpolación hasta ahora vistas no dependen de la distribución de los puntos $x_0,...,x_n$ de interpolación. Sin embargo, los puntos de interpolación igalmente espaciados a menudo conducen a resultados erróneos en los extremos. Un ejemplo de este fenómeno es la función de *Runge* ."
      ]
    },
    {
      "cell_type": "markdown",
      "metadata": {
        "id": "1vRr4mvE0l_r"
      },
      "source": [
        "#**Bibliografía**"
      ]
    },
    {
      "cell_type": "markdown",
      "metadata": {
        "id": "D6H9FW8Y0wjh"
      },
      "source": [
        "1. Walter Mora F. *Interpolación polinomial: Forma modificada de Lagrange vs. Diferencias Divididas,* Revista dígital Matemática, Educación e Internet , Vol.9, No. 1, 2008.\n",
        "\n",
        "2. Heath, M. *Scientific computing an introductory survey*. 1997, McGraw-Hill. Numerical Integration on Advanced Computer Systems.\n",
        "\n",
        "3. De Boor, Carl. *A Practical Gide to Splines* (Applied Mathematical Sciences) Springer Verlag.\n",
        "\n",
        "4. Cheney W. and Kincaid D. *Numerical Mathematics and Computing*. Thomson Brooks/Cole 2008."
      ]
    }
  ]
}
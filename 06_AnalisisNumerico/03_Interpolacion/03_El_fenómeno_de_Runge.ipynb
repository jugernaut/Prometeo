{
  "nbformat": 4,
  "nbformat_minor": 0,
  "metadata": {
    "colab": {
      "name": "03_El fenómeno de Runge",
      "provenance": [],
      "toc_visible": true,
      "authorship_tag": "ABX9TyNljCJiq0WzFa5ajgtEMwmy",
      "include_colab_link": true
    },
    "kernelspec": {
      "name": "python3",
      "display_name": "Python 3"
    },
    "language_info": {
      "name": "python"
    }
  },
  "cells": [
    {
      "cell_type": "markdown",
      "metadata": {
        "id": "view-in-github",
        "colab_type": "text"
      },
      "source": [
        "<a href=\"https://colab.research.google.com/github/jugernaut/Prometeo/blob/desarrollo/06_AnalisisNumerico/03_Interpolacion/03_El_fen%C3%B3meno_de_Runge.ipynb\" target=\"_parent\"><img src=\"https://colab.research.google.com/assets/colab-badge.svg\" alt=\"Open In Colab\"/></a>"
      ]
    },
    {
      "cell_type": "markdown",
      "metadata": {
        "id": "O0S5HuydWgxF"
      },
      "source": [
        "#**Efecto Runge**"
      ]
    },
    {
      "cell_type": "markdown",
      "metadata": {
        "id": "YI8jRhhWWmle"
      },
      "source": [
        "El $\\color{purple}{fenómeno\\ de\\ Runge\\ }$ es una ilustración clásica de la $\\color{blue}{no\\ convergencia\\ de\\ la\\ interpolación\\ polinomial\\ }$. Si consideramos $p_n(x)$ el polinomio interpolador de la función \n",
        "\n",
        "$$f(x) = (1 + 25x^2)^{-1}$$\n",
        "\n",
        "en nodos equidistantes $x_j^{(n)} = -1 + 10 (j/n)$, entonces $p_m \\to f$ uniformemente sólo si $|x| < x_c \\approx 0.363$. Si $|x| > x_c$ entonces diverge.(gráfica)"
      ]
    },
    {
      "cell_type": "markdown",
      "metadata": {
        "id": "O7gqI62_WsWq"
      },
      "source": [
        "#**Evitando el efecto de Runge**\n"
      ]
    },
    {
      "cell_type": "markdown",
      "metadata": {
        "id": "FtU-F3YIWzDz"
      },
      "source": [
        "Lo snodos de interpolación se pueden distribuir no uniformemente con el fin de minimizar el efecto de Runge.\n",
        "\n",
        "$$x_j = cos  \\Biggl(\\frac{2j+1}{2n} \\pi  \\Biggl), j=0,1,...,n$$\n",
        "\n",
        "(gráfica)"
      ]
    }
  ]
}
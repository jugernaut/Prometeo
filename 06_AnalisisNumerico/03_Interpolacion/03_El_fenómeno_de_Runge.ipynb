{
  "nbformat": 4,
  "nbformat_minor": 0,
  "metadata": {
    "colab": {
      "name": "03_El fenómeno de Runge",
      "provenance": [],
      "toc_visible": true,
      "include_colab_link": true
    },
    "kernelspec": {
      "name": "python3",
      "display_name": "Python 3"
    },
    "language_info": {
      "name": "python"
    }
  },
  "cells": [
    {
      "cell_type": "markdown",
      "metadata": {
        "id": "view-in-github",
        "colab_type": "text"
      },
      "source": [
        "<a href=\"https://colab.research.google.com/github/jugernaut/Prometeo/blob/desarrollo/06_AnalisisNumerico/03_Interpolacion/03_El_fen%C3%B3meno_de_Runge.ipynb\" target=\"_parent\"><img src=\"https://colab.research.google.com/assets/colab-badge.svg\" alt=\"Open In Colab\"/></a>"
      ]
    },
    {
      "cell_type": "markdown",
      "metadata": {
        "id": "O0S5HuydWgxF"
      },
      "source": [
        "#**Efecto Runge**\n",
        "\n",
        "Este sitio puede ser usado libremente, tanto por profesores como por estudiantes, que deseen complementar sus cursos y conocimientos en los temas antes mencionados. Los materiales están bajo una Licencia Creative Commons Atribución-NoComercial-CompartirIgual 4.0 Internacional\n",
        "\n",
        "<a rel=\"license\" href=\"http://creativecommons.org/licenses/by-nc-sa/4.0/\"><img alt=\"Licencia Creative Commons\" style=\"border-width:0\" src=\"https://i.creativecommons.org/l/by-nc-sa/4.0/88x31.png\" /></a><br />Esta obra está bajo una <a rel=\"license\" href=\"http://creativecommons.org/licenses/by-nc-sa/4.0/\">Licencia Creative Commons Atribución-NoComercial-CompartirIgual 4.0 Internacional</a>.\n",
        "\n",
        "Trabajo realizado con el apoyo del Programa UNAM-DGAPA-PAPIME PE101019"
      ]
    },
    {
      "cell_type": "markdown",
      "metadata": {
        "id": "YI8jRhhWWmle"
      },
      "source": [
        "El $\\color{purple}{fenómeno\\ de\\ Runge\\ }$ es una ilustración clásica de la $\\color{blue}{no\\ convergencia\\ de\\ la\\ interpolación\\ polinomial\\ }$. Si consideramos $p_n(x)$ el polinomio interpolador de la función \n",
        "\n",
        "$$f(x) = (1 + 25x^2)^{-1} \\quad (68)$$\n",
        "\n",
        "en nodos equidistantes $x_j^{(n)} = -1 + 10 (j/n)$, entonces $p_m \\to f$ uniformemente sólo si $|x| < x_c \\approx 0.363$. Si $|x| > x_c$ entonces diverge.\n",
        "\n",
        "$\\quad$\n",
        "\n",
        "<center>\n",
        "<img src=\"https://github.com/jugernaut/Prometeo/blob/desarrollo/Figuras/Interpolacion_4.jpeg?raw=1\" width=\"400\">\n",
        "</center>"
      ]
    },
    {
      "cell_type": "markdown",
      "metadata": {
        "id": "zwU3I_aL43ze"
      },
      "source": [
        "#**Fenómeno de Runge**"
      ]
    },
    {
      "cell_type": "markdown",
      "metadata": {
        "id": "wYTJWU9k4_t3"
      },
      "source": [
        "En la mayor parte del tema de interpolación se asume que\n",
        "\n",
        "$$\\lim_{n\\rightarrow\\infty}\\left\\Vert f\\left(x\\right)-P_{n}\\left(x\\right)\\right\\Vert =0$$\n",
        "\n",
        "Es decir que si el grado del polinomio interpolador tiende a infinito, entonces el error entre la solución real y la aproximación será igual a cero.\n",
        "\n",
        "Sin embargo, esto no es siempre cierto, ya que la cota del error depende de que las derivadas de $f\\left(x\\right)$ no crezcan demasiado rápido.\n",
        "\n",
        "Este hecho se expresa en la existencia de funciones para las cuales, la sucesión $\\left\\{ P_{n}\\left(x\\right)\\right\\}$  diverge conforme $n$ crece. Carl David Runge, demostró en 1901 que para la función de Runge\n",
        "\n",
        "$$f\\left(x\\right)=\\frac{1}{1+x^{2}}$$\n",
        "\n",
        "La sucesión $\\left\\{ P_{n}\\left(x\\right)\\right\\}$ , de polinomios que la interpola con $n+1$ puntos distribuidos uniformemente en el intervalo $\\left[-5,5\\right]$, diverge conforme $n$ crece indefinidamente. \n",
        "\n",
        "Es debido a este fenómeno, que técnicas como los splines surgen para contraponerse a estas dificultades.\n",
        "\n",
        "$\\quad$\n",
        "\n",
        "<center>\n",
        "<img src=\"https://github.com/jugernaut/Numerico2021/blob/desarrollo/Figuras/interpolacion/Runge.png?raw=1\" width=\"650\">\n",
        "</center>\n",
        "\n",
        "$\\quad$\n",
        "\n",
        "Ilustración del fenómeno de Runge. La línea discontinua muestra la función de Runge, la continua el polinomio interpolador de Lagrange y los asteriscos la función en los nodos de interpolación.\n",
        "\n",
        "Las figura superior izquierda y derecha utilizan 11 y 22 nodos\n",
        "de interpolación en el intervalo $[−5, 5]$, respectivamente, y las figuras inferior izquierda y derecha, 11 y 41 nodos en $[−1, 1]$, respectivamente."
      ]
    },
    {
      "cell_type": "markdown",
      "metadata": {
        "id": "O7gqI62_WsWq"
      },
      "source": [
        "#**Evitando el efecto de Runge**\n"
      ]
    },
    {
      "cell_type": "markdown",
      "metadata": {
        "id": "FtU-F3YIWzDz"
      },
      "source": [
        "Lo snodos de interpolación se pueden distribuir no uniformemente con el fin de minimizar el efecto de Runge.\n",
        "\n",
        "$$x_j = cos  \\Biggl(\\frac{2j+1}{2n} \\pi  \\Biggl), j=0,1,...,n \\quad (69)$$\n",
        "\n",
        "$\\quad$\n",
        "<center>\n",
        "<img src=\"https://github.com/jugernaut/Prometeo/blob/desarrollo/Figuras/Interpolacion_5.jpeg?raw=1\" width=\"400\">\n",
        "</center>"
      ]
    },
    {
      "cell_type": "markdown",
      "metadata": {
        "id": "Cgq33nt-6Zfo"
      },
      "source": [
        "#**Bibliografía**"
      ]
    },
    {
      "cell_type": "markdown",
      "metadata": {
        "id": "L6Nz5R1B6fVY"
      },
      "source": [
        "1. Walter Mora F. *Interpolación polinomial: Forma modificada de Lagrange vs. Diferencias Divididas,* Revista dígital Matemática, Educación e Internet , Vol.9, No. 1, 2008.\n",
        "\n",
        "2. Heath, M. *Scientific computing an introductory survey*. 1997, McGraw-Hill. Numerical Integration on Advanced Computer Systems.\n",
        "\n",
        "3. De Boor, Carl. *A Practical Gide to Splines* (Applied Mathematical Sciences) Springer Verlag.\n",
        "\n",
        "4. Cheney W. and Kincaid D. *Numerical Mathematics and Computing*. Thomson Brooks/Cole 2008."
      ]
    }
  ]
}
{
  "nbformat": 4,
  "nbformat_minor": 0,
  "metadata": {
    "colab": {
      "name": "Interpolación 03",
      "provenance": [],
      "toc_visible": true,
      "include_colab_link": true
    },
    "kernelspec": {
      "name": "python3",
      "display_name": "Python 3"
    },
    "language_info": {
      "name": "python"
    }
  },
  "cells": [
    {
      "cell_type": "markdown",
      "metadata": {
        "id": "view-in-github",
        "colab_type": "text"
      },
      "source": [
        "<a href=\"https://colab.research.google.com/github/jugernaut/Prometeo/blob/desarrollo/06_AnalisisNumerico/Interpolaci%C3%B3n_03.ipynb\" target=\"_parent\"><img src=\"https://colab.research.google.com/assets/colab-badge.svg\" alt=\"Open In Colab\"/></a>"
      ]
    },
    {
      "cell_type": "markdown",
      "metadata": {
        "id": "gTmXfouXUnDx"
      },
      "source": [
        "<font color=\"Teal\" face=\"Comic Sans MS,arial\">\n",
        "  <h1 align=\"center\"><i>Interpolación</i></h1>\n",
        "  </font>\n",
        "  <font color=\"Black\" face=\"Comic Sans MS,arial\">\n",
        "  <h5 align=\"center\"><i>Profesora: \tUrsula Xiomara Iturrarán Viveros</i></h5>\n",
        "    <h5 align=\"center\"><i>Ayudante: Juan Pablo Cordero Santiago</i></h5>\n",
        "  <h5 align=\"center\"><i>Materia: Análisis Numérico</i></h5>\n",
        "  </font>"
      ]
    },
    {
      "cell_type": "markdown",
      "metadata": {
        "id": "GaeW9nV7Um4-"
      },
      "source": [
        "#**Ajuste de curvas** "
      ]
    },
    {
      "cell_type": "markdown",
      "metadata": {
        "id": "1YSnXp8xUmul"
      },
      "source": [
        "$\\color{green}{Diferentes\\ alternativas\\ para\\ el\\ ajuste\\ de\\ curvas.}$ \n",
        "\n",
        "1. Usar un polinomio interpolante. \n",
        "2. Usar *splines* (o trazadores) que son funciones polinomailes a trozos.\n",
        "3. Usar polinomios trigonométricos en $[0, 2 \\pi]$. Son la elección natural cuando una función es periódica de periodo $2 \\pi$.\n",
        "4. Usar sumas exponenciales, se usan cuando sabemos que *f* presenta decaimiento exponencial conforme $x \\to \\infty$.\n",
        "5. Si los datos son aproximados (es decir datos experimentales, i.e. hay incertidumbre), lo más conveniente sería *suavizarlos* usando aproximaciones mediante *Mínimos cuadrados*.\n",
        "\n"
      ]
    },
    {
      "cell_type": "markdown",
      "metadata": {
        "id": "p4QgvJVAUmmN"
      },
      "source": [
        "#**Teoría** "
      ]
    },
    {
      "cell_type": "markdown",
      "metadata": {
        "id": "lGN0DG-3UmZ4"
      },
      "source": [
        "$\\color{blue}{Teorema:\\ Aproximación\\ de\\ Weierstrass\\ }$\n",
        "\n",
        "\n",
        "Sea *f* es una función real y continua definida en $[a,b]$. Entonces para todo $\\epsilon > 0$, existe un polinomio *p* tal que para todo $ x \\in [a,b]$, \n",
        "\n",
        "$$| f(x) - p(x) | < \\epsilon.  (1)$$.        \n"
      ]
    },
    {
      "cell_type": "markdown",
      "metadata": {
        "id": "Pgp5PbpsUmAS"
      },
      "source": [
        "#**Problema de interpolación**"
      ]
    },
    {
      "cell_type": "markdown",
      "metadata": {
        "id": "x7iFLJXjUkXr"
      },
      "source": [
        "$\\color{green}{Un\\ problema\\ de\\ interpolación\\ polinomial\\ se\\ define\\ como\\ sigue:}$\n",
        "\n",
        "Dados $n + 1$ puntos $(x_0 , y_0), (x_1 , y_1), ... , (x_n , y_n)$, siendo $x_i \\neq x_j$ si $i \\neq j$ quisiéramos encontrar un polinomio $P_n (x)$ de grado $< = n$ tal que \n",
        "\n",
        "\n",
        "$$P_n(x_i) = y_i, i=0,1,2,...,n.    (2)$$\n",
        "\n",
        "Llamamos a $P_n(x)$ $\\color{purple}{polinomio\\ interpolante}$ y a cada $x_i$ lo llamamos $\\color{purple}{nodo\\ de\\ interpolación}$. También se pueden considerar los pares de puntos como: $(x_0,f(x_0)), (x_1,f(x_1)), ... , (x_n,f(x_n))$ con valores conocidos para las evaluaciones de la función *f* en los nodos de interpolación.\n",
        "\n",
        "$\\bullet$ Asumimos un conjunto de puntos discretos $(x_0, x_1, ... , x_n)$ con los valores correspondientes $f(x_0), f(x_1), ... , f(x_n)$.\n",
        "\n",
        "$\\bullet$ Construimos una función $f(x)$ que pase por $(x_i,f(x_i))$ por medio de la aproximación:\n",
        "\n",
        "$$f(x) \\approx P_n(x) = $\\sum_{i=0}^n a_k \\phi_k (x),   (3)$$\n",
        "\n",
        "$\\bullet$ donde $\\phi_k (x)$ son los polinomios a priori y forman una *base*\n",
        "\n",
        "$\\bullet$ $a_k$ son coeficientes por determina.\n",
        "\n",
        "\n",
        "\n"
      ]
    },
    {
      "cell_type": "markdown",
      "metadata": {
        "id": "l-zgJ1i7vI4a"
      },
      "source": [
        "#**Existencia y unicidad**"
      ]
    },
    {
      "cell_type": "markdown",
      "metadata": {
        "id": "jAyXcs9GUkMS"
      },
      "source": [
        "$\\color{blue}{Teorema\\ de\\ existencia\\ y\\ unicidad}$\n",
        "\n",
        "Sean $x_0,x_1,...,x_n$ números reales distintos y $n > = 0$. Si $y_0,y_1,...,y_n$ son números reales arbitrarios, existe un único polinomio $P_n$ de grado menos o igual a *n* tal que $P_n(x_i) = y_i, i = 0, 1, 2, ..., n."
      ]
    },
    {
      "cell_type": "markdown",
      "metadata": {
        "id": "qjVLji2LwRWi"
      },
      "source": [
        "#**Existencia**"
      ]
    },
    {
      "cell_type": "markdown",
      "metadata": {
        "id": "GsXzj3LxUkAs"
      },
      "source": [
        "$\\color{blue}{Teorema\\ de\\ existencia\\ y\\ unicidad.}$\n",
        "\n",
        "La $\\color{purple}{existencia}$ se puede probar exhibiendo (construyendo) este polinomio en la forma de *Lagrange*: \n",
        "\n",
        "$$P_n(x) = L_{n,0} (x) f (x_0) + L_{n,1}(x)f(x1) + ... + L_{n,n} (x) f (x_n)    \\quad(5)$$\n",
        "\n",
        "donde se le llama *polinomios cardinales** a los polinomios:\n",
        "\n",
        "$$L_{n,k} (x) = \\begin{equation*}\n",
        "  \\prod_{\\substack{i=1\\\\i\\ne k}}^n \\frac {x-t_i}{t_k-t_i}\n",
        "\\end{equation*} = L_k (x)$$\n",
        "\n",
        "\n",
        "$$= \\frac{x-x_0}{x_k-x_0} . \\frac{x-x_1}{x_k-x_1} ... \\frac{x-x_{k-1}}{x_k-x_{k-1}} . \\frac{x-x_{k+1}}{x_k-x{k+1}} ... \\frac{x-x_n}{x_k-x_n}$$\n",
        "\n",
        "el subindice *n* índica el grado del polinomio de Lagrange (también de los polinomios cardinales) sólo que a veces se omite com al final (5)."
      ]
    },
    {
      "cell_type": "markdown",
      "metadata": {
        "id": "PXDzXcJUyc-k"
      },
      "source": [
        "#**Sobre los polinomios cardinales**"
      ]
    },
    {
      "cell_type": "markdown",
      "metadata": {
        "id": "wJWz-_55Uj27"
      },
      "source": [
        "$\\color{purple}{Los\\ polinomios\\ cardinales\\ tienen\\ una\\ propiedad\\ muy\\ importante:}$\n",
        "\n",
        "$$L_k (X_i) = \\left \\{\\begin{matrix} 1 & \\mbox{si }k\\mbox {=i}\n",
        "\\\\ 0 & \\mbox{de }otra\\mbox{ forma}\\end{matrix}\\right.  $$\n",
        "\n",
        "Esta propiedad es el corazón de los polinomios de Lagrange ya que obliga a que se cumpla la condición de interpolación:\n",
        "\n",
        "$$P_n(X_i) = y_i = f(x_i)$$\n",
        "\n",
        "\n"
      ]
    },
    {
      "cell_type": "markdown",
      "metadata": {
        "id": "2CLAPnIt1I28"
      },
      "source": [
        "#**Unicidad**\n"
      ]
    },
    {
      "cell_type": "markdown",
      "metadata": {
        "id": "xzml5K7qUjuD"
      },
      "source": [
        "$\\color{purple}{Teorema\\ de\\ existencia\\ y\\ unicidad:\\ Prueba\\ de\\ la\\ unicidad.}$\n",
        "\n",
        "La $\\color{purple}{unicidad\\ }$ es consecuencia del teorema fundamental del álgebra: Si consideramos dos polinomios P y Q de grado a lo más *n* tal que $P(x_i) = y_i$ , $Q(x_i) = y_i$, entonces definimos a un polinomio D como la diferencia $D = P - Q$ tiene grado a lo más n y además $ D(x_i) = P(x_i) - Q(x_i) = y_i - y_i = 0$ con $i=0, 1, 2,...,n$ , entonces este polinomio tendría $n + 1$ raíces distintas y es de grado $< = n$ . Por el Teorema Fundamental del Álgebra, $D(x) \\equiv 0$ de donde se concluye que la diferencia entre $P - Q$ debe ser el polinomio nulo. Entonces tenemos que $P \\equiv Q$."
      ]
    },
    {
      "cell_type": "markdown",
      "metadata": {
        "id": "O6hKu8_p3quB"
      },
      "source": [
        "#**Joseph - Louis Lagrange (1736 - 1813)**"
      ]
    },
    {
      "cell_type": "markdown",
      "metadata": {
        "id": "JBoW-EGvUjjk"
      },
      "source": [
        "Físico, matemático y astrónomo italiano que vivió en Prusia y Francia. Trabajó para Federico II de Prusia, en Berlín, durante veinte años. Demostró el $\\color{purple}{Teorema\\ del\\ valor\\ medio,\\ desarrolló\\ la\\ mecánica\\ Lagrangiana}$ y tuvo una importante contribución en $\\color{purple}{astronomía\\ }$. A los diecinueve años resolvió un problema que había sido un asunto de discusión durante más de medio siglo, mediante una nueva técnica: \n",
        "$$\\color{purple}{El\\ cálculo\\ de\\ variaciones.\\ }$$\n",
        "\n",
        "\n",
        "¡¡IMAGEN!!\n"
      ]
    },
    {
      "cell_type": "markdown",
      "metadata": {
        "id": "ZmNTXwYZLI1y"
      },
      "source": [
        "#**Ejemplo 1** "
      ]
    },
    {
      "cell_type": "markdown",
      "metadata": {
        "id": "AsmMHAq7UjbU"
      },
      "source": [
        " $\\bullet$ Encontrar el polinomio de Lagrange para los nodos (-1,1) , (0,3) , (1,-2).\n",
        "\n",
        " Los polinomios cardinales y el polinomio de Lagrange están dados por:\n",
        "\n",
        " $$L_0(x) = \\frac{x - x_1}{x_0 - x_1} \\frac{x - x_2}{x_0 - x_2} = \\frac{x}{2} (x - 1)$$\n",
        "\n",
        " $$L_1(x) = \\frac{x - x_0}{x_1 - x_0} \\frac{x - x_2}{x_1 - x_2} = (1 + x) (1 - x)$$\n",
        "\n",
        " $$L_2(x) = \\frac{x - x_0}{x_2 - x_0} \\frac{x - x_1}{x_2 - x_1} = \\frac{x}{2} (x + 1)$$\n",
        "\n",
        " $$P_2(x) = L_0(x)f(x_0) + L_1(x)f(x_1) + L_2(x)f(x_2)$$\n",
        " \n",
        " $$ = L_0(x) + 3L_1(x) - 2L_2(x)$$ \n",
        "\n",
        " $$ = \\frac{x}{2} (x-1) + 3(1+x) (1-x) - x(x+1)$$\n",
        "\n",
        "\n",
        " ¡¡GRAFICA!!\n"
      ]
    },
    {
      "cell_type": "markdown",
      "metadata": {
        "id": "w4lzhucmOTN3"
      },
      "source": [
        "#**Forma de Lagrange y forma de Newton del polinomio interpolante.**"
      ]
    },
    {
      "cell_type": "markdown",
      "metadata": {
        "id": "IJazRp9EUjRR"
      },
      "source": [
        "$\\color{green}{Aunque\\ el\\ polinomio\\ de\\ interpolación\\ es\\ único\\ existen\\ varias\\ representaciones\\ si\\ cambiamos\\ de\\ base\\ }$\n",
        "\n",
        "Sea $\\mathbb R_{n+1} [x]$ el conjunto de polinomios con coeficientes reales, de grado $< = n$. $\\mathbb R_{n+1} [x]$ es un espacio vectorial de dimensión $n+1$. Si $\\Omega = \\{B_0,B_1,...,B_n\\}$ es una base para $\\mathbb R_{n+1} [x]$ , entonces el polinomio $P_n$ que interpolate se puede escribir en la base $\\Omega$ como:\n",
        "\n",
        "$$P_n(x) = a_0B_0(x) + a_1B_1(x) + ... + a_nB_n(x)$$\n",
        "\n",
        "Aunque el polinomio interpolante es único la forma (antes de simplificar) puede cambiar según la base que se tome. Si consideramos la base $\\{1,x,x^2,...,x^n\\}$ de $\\mathbb R_{n+1}$, entonces:\n",
        "\n",
        "$$P_n(x) = a_0 + a_1x + a_2x^2 + ... + a_nx^n$$\n",
        "\n",
        "Con la base monomial $\\{1,x,x^2,...,x^n\\}$ de $\\mathbb R_{n+1} [x]$, el polinomio de interpolación esta dado por:\n",
        "\n",
        "$$P_n(x) = a_0 + a_1x + a_2x^2 + ... + a_nx^n$$\n",
        "\n",
        "Como $P_n(x_i) = y_i$ con $ i = 0,1,2,...,n$, para encontrar los coeficientes $a_i$ de $17$ tenemos que resolver el sistema de ecuaciones:\n",
        "\n",
        "$\\begin{pmatrix}\n",
        "1 & x_0 & x_0^2 & ... & x_0^n \\\\\n",
        "1 & x_1 & x_1^2 & ... & x_1^n \\\\\n",
        "1 & x_2 & x_2^2 & ... & x_2^n \\\\\n",
        "\\vdots & \\vdots & \\vdots & ... & \\vdots \\\\\n",
        "1 & x_n & x_n^2 & ... & x_n^n \\\\\n",
        "\\end{pmatrix}$  $\\begin{pmatrix} a_0 \\\\ a_1 \\\\ a_2 \\\\ \\vdots \\\\ a_n \\\\ \\end{pmatrix}$ = $\\begin{pmatrix} y_0 \\\\ y_1 \\\\ y_2 \\\\ \\vdots \\\\ y_n \\\\ \\end{pmatrix}$ = $\\begin{pmatrix} f(x_0) \\\\ f(x_1) \\\\ f(x_2) \\\\ \\vdots \\\\ f(x_n) \\\\ \\end{pmatrix}$ $\\Leftrightarrow$ $\\textbf{Va = f}$\n",
        "\n",
        "La matriz $\\textbf{V}$ asociada a este sistema de ecuaciones lienales se llama *Vandermode* y esta muy mal condicionada."
      ]
    },
    {
      "cell_type": "markdown",
      "metadata": {
        "id": "maUJg33iZDj6"
      },
      "source": [
        "#**Forma de Lagrange para polinomio interpolante**"
      ]
    },
    {
      "cell_type": "markdown",
      "metadata": {
        "id": "DrDstCO5UjI2"
      },
      "source": [
        "La forma de Lagrange del polinomio interpolante se obtiene usando la base de polinomios cardinales $\\{L_{n,0}(x), L_{n,1}(x), L_{n,2}(x), ... , L_{n,n}(x)\\}$ donde: \n",
        "\n",
        "$$L_{n,k}(x) = \\begin{equation*}\n",
        "\\prod_{\\substack{i=1\\\\i\\ne k}}^n\n",
        "    \\frac{x-t_i}{t_k-t_i}\n",
        "\\end{equation*} = L_k(x)$$\n",
        "\n",
        "En este caso tenemos que el polinomio de interpolación de Lagrange esta dado por: \n",
        "\n",
        "$$P_n(x) = L_{n,0}(x)f(x_0) + L_{n,1}(x)f(x_1) + ... + L_{n,n}(x)f(x_n)$$\n",
        "\n",
        "Como $P_n(x_i) = y_i$ con $i=0,1,2,...,n$ , $f(x_i) = y_i$ y como $L_{n,j}(x_i) = \\delta_{ij}$ (delta de Kronecker), tenemos que el sistema de ecuaciones lienales que hay que resolver es el siguiente:\n",
        "\n",
        "Para esta base de polinomios el sistema de ecuaciones que tenemos que resolver para encontrar los coeficientes del polinomio de interpolación de Lagrange es el siguiente:\n",
        "\n",
        "$\\begin{pmatrix}\n",
        "1 & 0 & 0 & ... & 0 \\\\\n",
        "0 & 1 & 0 & ... & 0 \\\\\n",
        "0 & 0 & 1 & ... & 0 \\\\\n",
        "\\vdots & \\vdots & \\vdots & \\ddots & \\vdots \\\\\n",
        "0 & 0 & 0 & ... & 1 \\\\\n",
        "\\end{pmatrix}$ $\\begin{pmatrix} a_0 \\\\ a_1 \\\\ a_2 \\\\ \\vdots \\\\ a_n\\\\ \\end{pmatrix}$ = $\\begin{pmatrix} y_0 \\\\ y_1 \\\\ y_2 \\\\ \\vdots \\\\ y_n\\\\ \\end{pmatrix}$ $\\rightarrow$ $a_i = y_i$ , $i=0,1,2,...,n$\n",
        "\n",
        "De donde la forma del polinomio de interpolación de Lgarnge esta dada por: \n",
        "\n",
        "$$P_n(x) = L_{n,0}y_0 + L_{n,1}(x)y_1 + ... + L_{n,n}(x)y_n$$"
      ]
    },
    {
      "cell_type": "markdown",
      "metadata": {
        "id": "gAjJgn4Yd8YU"
      },
      "source": [
        "#**Forma de Newton para polinomio interpolante**"
      ]
    },
    {
      "cell_type": "markdown",
      "metadata": {
        "id": "6jgPg4bkUi_R"
      },
      "source": [
        "$\\color{green}{Consideremos\\ un\\ cambio\\ de\\ base\\ }$\n",
        "\n",
        "En lugar de la base monomial, consideremos ahora el siguiente cambio de base:\n",
        "\n",
        "$$\\phi_k(x) = \\begin{equation*} \\prod_{\\substack{i=0\\\\}}^{k-1}\n",
        "    \\left(x - x_i\\right)\n",
        "  \\end{equation*}$$ \n",
        "\n",
        "El polinomio de interpolación de Newton esta dado por la base $\\{\\phi_0, \\phi_1, ... , \\phi_n\\}$ como sigue:\n",
        "\n",
        "$\\phi_0(x) = 1$\n",
        "\n",
        "$\\phi_1(x) = (x-x_0) $\n",
        "\n",
        "$\\phi_2(x) = (x-x_0)(x-x_1)$\n",
        "\n",
        "$\\phi_3(x) = (x-x_0)(x-x_1)(x-x_2)$\n",
        "\n",
        "$\\vdots$\n",
        "\n",
        "$\\phi_n(x) = (x-x_0)(x-x_1)(x-x_2) ... (x-x_{n-1})$\n",
        "\n",
        "El polinomio de interpolación se escribe como:\n",
        "\n",
        "$P_n = a_0 + a_1(x-x_0)(x-x_1) ... a_n(x-x_0)(x-x_1)(x-x_2)...$\n",
        "\n",
        "Como $P_n(x_i) = y_i, i=0,1,2,...,n ; f(x_i) = y_i$ tenemos un sistema lineal de ecuaciones en forma triangular:\n",
        "\n",
        "$P_n(x_0) = a_0 = y_0 = f(x_0)$\n",
        "\n",
        "$P_n(x_1) = a_0 + a_1(x_1-x_0) = y_1 = f(x_1)$\n",
        "\n",
        "$P_n(x_2) = a_0 + a_1(x_2-x_0) + a_2(x_2-x_0)(x_2-x_1) = y_2 = f(x_2)$\n",
        "\n",
        "$\\vdots$\n",
        "\n",
        "$P_n(x_n) = a_0 + a_1(x_n-x_0) + a_2(x_n-x_0)(x-x_1) ... a_n(x_n-x_0)(x_n-x) + a_n(x_n-x_0)(x_n-x_1)(x_n-x_2) ... (x_n-x_{n-1}) = y_n = f(x_n)$\n",
        "\n",
        "\n",
        "$\\color{green}{Sistema\\ lineal\\ triangular\\ inferior\\ resultante\\ para\\ los\\ polinomios\\ de\\ interpolación\\ de\\ Newton:\\ }$\n",
        "\n",
        "$\\begin{pmatrix}\n",
        "1 & 0 & 0 & ... & 0 \\\\\n",
        "1 & x-x_0 & 0 & ... & 0 \\\\\n",
        "1 & x-x_0 & (x-x_0)(x-x_1) & ... & 0 \\\\\n",
        "\\vdots & \\vdots & \\vdots & \\ddots & \\vdots \\\\\n",
        "1 & x-x_0 & (x-x_0)(x-x_1) & ... & (x-x_0)(x-x_1)(x-x_{n-1})\n",
        "\\end{pmatrix} \\begin{pmatrix} a_0\\\\ a_1\\\\ a_2\\\\ \\vdots\\\\ a_n \\end{pmatrix} = \\begin{pmatrix} f(x_0)\\\\ f(x_1)\\\\ f(x_2)\\\\ \\vdots\\\\ f(x_n) \\end{pmatrix}$\n",
        "\n",
        "Para obtener una forma recursiva más clara, definimos $\\mathbb Q_0 = a_0$ y $\\mathbb Q_j(x)= a_o + a_1(x-x_0) + ... + a_j(x-x_0)(x-x_1)(x-x_2)...(x-x_j)$ con $j = 1,2,...,n$ . De forma que \n",
        "\n",
        "$$a_0 = y_0$$\n",
        "\n",
        "$$a_1 = \\frac{y_1-\\mathbb Q_0(x_0)}{x_1-x_0}$$\n",
        "\n",
        "$$a_2 = \\frac{y_2-\\mathbb Q_1(x_1}{(x_2-x_0)(x_2-x_1)}$$\n",
        "\n",
        "$$\\vdots = \\vdots$$\n",
        "\n",
        "$$a_n = \\frac{y_n-\\mathbb Q_{n-1}(x_n)}{(x_n-x_0)...(x_n-x_{n-1})}$$\n",
        "\n",
        "La fórmula recursiva : $a_0 = y_0$ , $a_k = \\frac{y_k-\\mathbb Q_{k-1}(x_k)}{(x_k-x_0)...(x_k-x_{k-1})}$ con $k = 1,2,...,n$\n"
      ]
    },
    {
      "cell_type": "markdown",
      "metadata": {
        "id": "e9k-xLbvAFil"
      },
      "source": [
        "#**Diferencias divididas y evaluación de la interpolación.**"
      ]
    },
    {
      "cell_type": "markdown",
      "metadata": {
        "id": "43GTH0lkUiRd"
      },
      "source": [
        "$\\color{blue}{Diferencias\\ divididas\\ }$\n",
        "\n",
        "Dados los puntos $x_0,x_1,...x_n$ para índices arbitrarios $0 ≤ i < j ≤ n$ definimos \n",
        "\n",
        "$$f[x_i] = f(x_i)$$\n",
        "\n",
        "$$f[x_i,...,x_j] = \\frac{f[x_{i+1}]-f[x_i,...,x_{j-1}]}{x_j-x_i}$$\n",
        "\n",
        "¿Cómo usamos estas definiciones para calcular el polinomio de interpolación de Newton? Recordar que el coeficiente del polinomio de interpolación de Newton se define como : $a_{nn} = f[x_0,x_1,...,x_n]$ para calcular este coeficiente es necesario calcular $a_{jl} = f[x_{j-1},x_{j-1},...,x_j]$ con $0 ≤ 1 ≤ j ≤ n.$ Para lo que contruimos la $\\color{purple}{tabla\\ de\\ diferencias\\ divididas.\\ }$"
      ]
    },
    {
      "cell_type": "markdown",
      "metadata": {
        "id": "L-z3AiukCTBp"
      },
      "source": [
        "#**Tabla de diferencias divididas**"
      ]
    },
    {
      "cell_type": "markdown",
      "metadata": {
        "id": "Rd_IQ9HVC8B3"
      },
      "source": [
        "(insertar gráfica)\n",
        "\n",
        "Los coeficientes en $\\color{blue}{azul\\ }$ representa los coeficientes del polinomio de interpolación de Newton."
      ]
    },
    {
      "cell_type": "markdown",
      "metadata": {
        "id": "pZezTNZXEABx"
      },
      "source": [
        "#**Polinomios de Newton**"
      ]
    },
    {
      "cell_type": "markdown",
      "metadata": {
        "id": "zFncnA3FEMU3"
      },
      "source": [
        "$\\color{blue}{Fórmula\\ de\\ interpolación\\ de\\ Newton\\ con\\ diferencias\\ divididas\\ }$ \n",
        "\n",
        "$p_n(x) = f[x_0] + f[x_0,x_1](x-x_0) + f[x_0,x_1,x_2](x-x_0)(x-x_1) + ... + f[x_0,x_1,...,x_n](x-x_0)(x-x_1)...(x-x_{n-1})$   \\begin{equation*}\n",
        "   p_n =  \\sum_{j=0}^n\n",
        "  \\ \\Biggl (f[x_0,x_1,...,x_j] \\prod_{i=0}^{j-1}\n",
        "    (x-x_j) \\Biggl)\n",
        "\\end{equation*}\n",
        "\n",
        "Las diferencias divididas satisfacen la fórmula recursiva: \n",
        "\n",
        "$$f[x_0,x_1,...,x_j] = \\frac{f[x_1,x_2,...,x_j]-f[x_0,x_1,...,x_{j-1}}{x_j-x_0}$$"
      ]
    },
    {
      "cell_type": "markdown",
      "metadata": {
        "id": "9k_Apa6ULhWu"
      },
      "source": [
        "#**Algunas propiedades de las diferencias divididas**"
      ]
    },
    {
      "cell_type": "markdown",
      "metadata": {
        "id": "--5Ckv9OLn8I"
      },
      "source": [
        "Es posible demostrar que el proceso de agregar un punto más $(x_{n+1},f(x_{n+1}))$ a un polinomio de interpolación $p_n$ obtenido de los $n+1$ parejas de puntos, obtenemos:\n",
        "\n",
        "$\\color{blue}{Polinomio\\ p_{n+1}\\ construido\\ de\\ p_n\\ agregando\\ un\\ punto\\ extra\\ }$\n",
        "\n",
        "\\begin{equation*} p_{n+1}(x) = p_n(x) + f[x_0,x_1,...,x_n,x_{n+1}] \\prod_{i=0}^n (x-x_i) \\end{equation*}\n",
        "\n",
        "Construir un polinomio de interpolación para los puntos $(1,1), (2,3)$ y $(4,3)$\n",
        "\n",
        "$f[x_o,x_1] = \\frac{3-1}{2-1} = 2,f[x_1,x_2] = \\frac{4-3}{3-2} = 1, f[x_1,x_2,x_3] = \\frac{1-2}{3-1} = - \\frac{1}{2}$\n",
        "\n",
        "La tabla de diferencias divididas esta dada por :\n",
        "(insertar tabla)\n",
        "\n",
        "El polinomio de interpolación esta dado por : $p_2(x) = 1+2(x-1) - \\frac{1}{2} (x-1)(x-2)$ . Nótese que los primeros dos términos de $p_2(x)$ forman el interpolar lineal $p_1(x)$.\n"
      ]
    },
    {
      "cell_type": "markdown",
      "metadata": {
        "id": "WOvZr37lOZ2P"
      },
      "source": [
        "#**Ejemplo 2: Construir un polinomio de interpolación de Newton**"
      ]
    },
    {
      "cell_type": "markdown",
      "metadata": {
        "id": "kFGxVf_kOp-y"
      },
      "source": [
        "$$p_2(x) = 1+(x-1)  \\Biggl(2-\\frac{2}{3}(x-2) \\Biggl)$$\n",
        "\n",
        "Si queremos agregar otro punto : $(x_3,f(x_3)) = (5,4)$, tenemos que agregar otro renglón a la tabla de diferencias divididas. Calculamos: \n",
        "\n",
        "$$f[x_3]=4, f[x_2,x_3] = \\frac{4-3}{5-4}, f[x_1,x_2,x_3]=\\frac{1-0}{5-2}=\\frac{1}{3}, f[x_0,x_1,x_2,x_3]= \\frac{(1/3)-(-2/3)}{5-1} = \\frac{1}{4}$$ de donde \n",
        "\n",
        "$p_3(x) = p_2(x) + f[x_0,x_1,x_2,x_3](x-x_0)(x-x_1)(x-x_2)$\n",
        "\n",
        "$p_3(x) = 1 + (x-1)  \\Biggl(2-\\frac{2}{3}(x-2) \\Biggl)+\\frac{1}{4}(x-1)(x-2)(x-3)$\n",
        "\n",
        "$p_3(x) = 1 + (x-1)  \\Biggl(2+(x-2) \\Biggl(-\\frac{2}{3}+\\frac{1}{4}(x-4) \\Biggl) \\Biggl)$"
      ]
    },
    {
      "cell_type": "markdown",
      "metadata": {
        "id": "9sMZidLLQrWS"
      },
      "source": [
        "#**Diferencias divididas y derivadas**"
      ]
    },
    {
      "cell_type": "markdown",
      "metadata": {
        "id": "EVqkQPwkQy0J"
      },
      "source": [
        "Las diferencias divididas se pueden ver como una extensión del concepto de derivada de una función. Si consideramos una función derivable *f* aplicada a dos puntos $z_0$ y $z_1$ e imaginamos que $z_1$ se aproxima a $z_0$: \n",
        "\n",
        "$\\color{blue}{Diferencia\\ dividida\\ y\\ derivada\\ }$\n",
        "\n",
        "$$f[z_0,z_1] = \\frac{f(z_1)-f(z_0)}{z_1-z_0} \\to f'(z_0)$$\n",
        "\n",
        "Incluso si $z_0$ y $z_1$ permanecen diferentes, el Teorema de Valor Medio nos dice que existe un punto $\\xi \\in [z_0,z_1]$ tal que \n",
        "\n",
        "$$f[z_0,z_1] = f'(\\xi)$$\n",
        "\n",
        "Una conexión similar existe entre la k-ésima diferencia dividida y su derivada."
      ]
    },
    {
      "cell_type": "markdown",
      "metadata": {
        "id": "9ciA66LxSDPb"
      },
      "source": [
        "#**Diferencias divididas y *k*-ésima derivada**"
      ]
    },
    {
      "cell_type": "markdown",
      "metadata": {
        "id": "MCyyv6D8SLGp"
      },
      "source": [
        "$\\color{blue}{Teorema\\ de\\ Diferencias\\ divididas\\ y\\ derivadas\\ }$\n",
        "\n",
        "Sea la función *f* derivable por lo menos *k* veces, con derivadas acotadas en un intervalo $[a,b]$ y sean $z_0,z_1,...,z_k,k+1$ puntos distintos en $[a,b]$. Entonces existe un punto $\\xi \\in [a,b]$ tal que \n",
        "\n",
        "$$f[z_0,z_1,...,z_k] = \\frac{f^{(k)}(\\xi)}{k!}$$"
      ]
    },
    {
      "cell_type": "markdown",
      "metadata": {
        "id": "zVCOUKGYTCU3"
      },
      "source": [
        "#**Error en el polinomio de interpolación**"
      ]
    },
    {
      "cell_type": "markdown",
      "metadata": {
        "id": "gq6KpcNYTG2i"
      },
      "source": [
        "Podemos definir la función de error del polinomio interpolador como:\n",
        "\n",
        "$\\color{blue}{Error\\ del\\ polinomio\\ interpolador\\ }$\n",
        "\n",
        "$$e_n(x) = f(x) - p_n(x)$$\n",
        "\n",
        "Podemos evaluar el error de $P_n$ dado un punto $x \\in [a,b]$ suponiendo que $x_{n+1}$ es otro más de interpolación (además de los que ya conocidos $x_0,x_1,...,x_n)$, entonces usamos la fórmula anterior de $p-n$ para construir $p_{n+1}$ y obtenemos:\n",
        "\n",
        "$$f(x) = P_{n+1}(x) = P_n(x) + f[x_0,x_1,...,x_n,x_{n+1}] \\phi_n(x)$$\n",
        "\n",
        "donde\n",
        "\n",
        "\\begin{equation*}\n",
        "  \\phi_n(x) =\\prod_{i=0}^n\n",
        "    (x-x_i)\n",
        "\\end{equation*}\n",
        "\n",
        "De la fórmula anterior podemos escribir:\n",
        "\n",
        "$\\color{blue}{El\\ error\\ del\\ polinomio\\ interpolador\\ }$ \n",
        "\n",
        "$$e_n(x) = f(x) - P_n(x) = f[x_0,x_1,...,x_n,x_{n+1}] \\phi_n(x)$$\n",
        "\n",
        "Esta fórmula, depende tanto de los datos que se usaron para interpolar, como el punto *x* donde se quiere evaluar el error, por lo que necesitamos una fórmula más general.\n",
        "\n",
        "Tenemos que reemplazar las diferencias divididas por las correspondientes derivadas en la fórmula del error, asumiendo que *f* es lo suficientemente suave. Notamos que si la aproximación a *f* tiene $n+1$ derivadas acotadas, entonces por el Teorema (Derivadas y diferencias divididas) anterior, tenemos que existe un punto $\\xi = \\xi(x)$ donde $a ≤ \\xi ≤ b$ tal que $f[x_0,x_1,...,x_n,x] = \\frac{f^{(n+1)(\\xi)}}{(n+1)!}$. Esto deja una estimación para el error.\n",
        "\n",
        "$\\color{blue}{Estimación\\ del\\ error\\ }\n",
        "\n",
        "$$e_n(x) = f(x) - P_n(x) = \\frac{f_{(n+1)}(\\xi)}{(n+1)!} \\phi_n(x)$$"
      ]
    },
    {
      "cell_type": "markdown",
      "metadata": {
        "id": "TVh21Lw4WVRB"
      },
      "source": [
        "#**Teorema de error en el polinomio de interpolación**"
      ]
    },
    {
      "cell_type": "markdown",
      "metadata": {
        "id": "w9zekf8JWeQ2"
      },
      "source": [
        "$\\color{blue}{Teorema\\ de\\ estimación\\ del\\ error\\ }$\n",
        "\n",
        "Si $P_n$ interpola a *f* en los $n+1$ puntos $x_0,x_1,...,x_n$ y *f* tiene $n+1$ derivadas continuas y acotadas en un intervalo $[a,b]$ conteniendo estos puntos, entonces para cada $x \\in [a,b]$ existe un punto $\\xi = \\xi(x) \\in [a,b]$ tal que:\n",
        "\n",
        "\\begin{equation*} e_n(x) = f(x) - P_n(x) = \\frac{f^{(n+1)}(\\xi)}{(n+1)!} \\prod_{i=0}^n (x-x_i) \\end{equation*}\n",
        "\n",
        "$\\textbf{Demostración}$: Si $x = x_i$ $i=1,2,3,...,n$ , la fórmula del error es exacta y también debe de ser exacta en el caso de que *f* sea un polinomio de grado $≤ n$. \n",
        "Esto sugiere que en la fórmula deben de aparecer los factores:\n",
        "\n",
        "$$(x-x_0) (x-x_i) (x-x_2) ... (x-x_n)$$\n",
        "\n",
        "Consideremos un valor fijo $x \\in [a,b]$ diferente de cada uno de los nodos de interpolación $x_i, i=1,2,3,..,n$. Definamos la siguiente función:\n",
        "\n",
        "\\begin{equation*} g(t) = f(t) - P_n(t) -  \\Biggl[\\frac{f(x)-P_n(x)}{\\prod_{i=0}^n (x-x_i)}  \\Biggl] \\prod_{i=0}^n (t-x_i)  \\end{equation*}\n",
        "\n",
        "$g \\in C^{n+1} [a,b], g(x) = 0$ y $g(x_i)=0, i=0,1,...,n$ . Por lo tanto *g* tiene $n+2$ ceros diferentes en $[a,b]$.\n",
        "\n",
        "$\\color{green}{Teorema\\ de\\ Rolle\\ }$ \n",
        "\n",
        "Se *f* $: [a,b] \\to \\mathbb R$ continua y diferenciable en $(a,b)$ . Si $f(a) = f(b)$ entonces $\\exists c \\in (a,b)$ tal que $f' (c)= 0)$.\n",
        "\n",
        "Aplicando repetidamente el Teorema de Rolle a la función *g* en los intervalos $[x_0,x_1], [x_1,x_2]$ ,..., concluims que *g'* tiene al menos $n+1$ ceros distintos en $(a,b)$. De forma análoga concluimos que $g^{n+1}$ $(g^{n+1} es continua en [a,b])$ tiene al menos un cero. Sea $\\xi (x)$ un cero de $g^{n+1}$ en $(a,b)$ , i.e. $g^{n+1} (\\xi(x)) = 0$. Pero \n",
        "\n",
        "$$\\frac{d^{n+1}}{dt^{n}} P_n(t)|_{t=\\xi(x)} = 0 = P_n(\\xi) = 0, (pues \\partial P_n ≤ n) $$\n",
        "\n",
        "Y además \n",
        "\n",
        "\\begin{equation*}\n",
        "  \\prod_{i=0}^n\n",
        "    \\frac{(t-x_k)}{(x-x_k)} = \\frac{t^{n+1}}{\\prod_{i=0}^n (x-_k)} + h(t).\n",
        "\\end{equation*}\n",
        "\n",
        "Donde *h* tiene términos de orden menos a $t$ $i.e. \\partial h < n+1$ para $t \\in [a,b]$\n",
        "\n",
        "\\begin{equation*}\n",
        "  \\Rightarrow \\frac{d^{n+1}}{dt^{n}} = \\left (\\prod_{i=0}^n \\frac{(t-x_k)}{(x-x_k)}\\right) = \\frac{(n+1)!}{\\prod_{i=0}^n (x-x_k)}\n",
        "\\end{equation*}\n",
        "\n",
        "para cada $t \\in [a,b]$. De donde \n",
        "\n",
        "\\begin{equation*} \n",
        "0 = g^{n+1}(\\xi) = f^{n+1} (\\xi(x))-P^{n+1} (\\xi) - [f(x) - P_n(x)] \\frac{d^{n+1}}{dt^{n}} \\left [\\prod_{i=0}^n \\frac{(t-x_k)}{(x-x_k)} \\right]\\bracevert_{t=\\xi}\n",
        "\\end{equation*}\n",
        "\n",
        "\\begin{equation*}\n",
        "= f^{n+1}(\\xi(x)) - 0 - [f(x)-P_n(x)] \\frac{(n+1)!}{\\prod_{i=0}^n (x-x_k)}\n",
        "\\end{equation*}\n",
        "\n",
        "De donde el error $e_n(x)$ esta dado por :\n",
        "\n",
        "$$e_n = f(x) - P_n(x) = \\frac{f^{n+1}(\\xi(x))}{(n+1)!} (x-x_0)(x-x_1)...(x-x_n).$$\n",
        "\n",
        "Ver Chenney & Kincaid Numerical Mathametics and Computing, Pag.156\n",
        "\n",
        "$\\color{green}{Observaciones\\ }$\n",
        "\n",
        "1. De la expresión anterior se deduce que la magnitud de error de interpolación depende de las propiedades de la función *f* y de la distribución de los nodos de interpolación.\n",
        "\n",
        "2. Nótese que $\\xi(x)$ es desconocido en la fórmula del error $(65)$, por lo tanto estar solo es útil si la derivada esta acotada.\n",
        "\n",
        "3. Si $|f^{(n+1)} (x)| < M, \\forall x \\in [a,b]$ y $h = max \\{x_{i+1}-x_i : i=0,1,...,n\\}$.\n",
        "\n",
        "$$x \\in max[x_0,x_n]  \\Biggl\\{|f(x) - P_n(x)| \\Biggl\\} ≤ \\frac{Mh^{n+1}}{(n+1)!}$$\n",
        "\n",
        "4. El error disminuye a medida que *n* crece y *h* disminuye, sólo si $|f^{n+1} (x)|$ está acotada.\n",
        "\n",
        "5. Aumentando el grado del polinomio de interpolación, aumentan las oscilaciones.\n",
        "\n",
        "6. En el interior del intervalo $[x_0,x_1]$ aumentar los puntos de interpolación no implica mejorar la aproximación.\n",
        "\n",
        "7. Por fuera del intervalo que contiene a los puntos de interpolación \n",
        "\n",
        "\\begin{equation*}\n",
        "  \\prod_{i=0}^n (x - x_i)\n",
        "\\end{equation*}\n",
        "\n",
        "puede crecer rápido (extrapolación).\n",
        "\n",
        "8. Las aproximaciones de los polinomios de interpolación hasta ahora vistas no dependen de la distribución de los puntos $x_0,...,x_n$ de interpolación. Sin embargo, los puntos de interpolación igalmente espaciados a menudo conducen a resultados erróneos en los extremos. Un ejemplo de este fenómeno es la función de *Runge* ."
      ]
    },
    {
      "cell_type": "markdown",
      "metadata": {
        "id": "L-wBYzudzzCF"
      },
      "source": [
        "#**Efecto Runge**"
      ]
    },
    {
      "cell_type": "markdown",
      "metadata": {
        "id": "XYaMuPljz3ei"
      },
      "source": [
        "El $\\color{purple}{fenómeno\\ de\\ Runge\\ }$ es una ilustración clásica de la $\\color{blue}{no\\ convergencia\\ de\\ la\\ interpolación\\ polinomial\\ }$. Si consideramos $p_n(x)$ el polinomio interpolador de la función \n",
        "\n",
        "$$f(x) = (1 + 25x^2)^{-1}$$\n",
        "\n",
        "en nodos equidistantes $x_j^{(n)} = -1 + 10 (j/n)$, entonces $p_m \\to f$ uniformemente sólo si $|x| < x_c \\approx 0.363$. Si $|x| > x_c$ entonces diverge.(gráfica)"
      ]
    },
    {
      "cell_type": "markdown",
      "metadata": {
        "id": "IsIg0eDbcZgR"
      },
      "source": [
        "#**Evitando el efecto de Runge**"
      ]
    },
    {
      "cell_type": "markdown",
      "metadata": {
        "id": "Qsk-n4nYcfDY"
      },
      "source": [
        "Lo snodos de interpolación se pueden distribuir no uniformemente con el fin de minimizar el efecto de Runge.\n",
        "\n",
        "$$x_j = cos  \\Biggl(\\frac{2j+1}{2n} \\pi  \\Biggl), j=0,1,...,n$$\n",
        "\n",
        "(gráfica)"
      ]
    },
    {
      "cell_type": "markdown",
      "metadata": {
        "id": "ivfoG41wc5g5"
      },
      "source": [
        "#**Interpolación con Splines**"
      ]
    },
    {
      "cell_type": "markdown",
      "metadata": {
        "id": "XtIVf8vHc-ia"
      },
      "source": [
        "Una elección adecuada de bases de funciones y puntos de interpolación puede mitigar algunas de las dificultades asociadas con la interpolación mediante polinomios de alto grado.\n",
        "\n",
        "$\\color{blue}{Interpolación\\ con\\ un\\ sólo\\ polinomio\\ }$\n",
        "\n",
        "Es muy probable que obtengamos resultados no satisfactorios al ajustar un sólo polinomio a un conjunto grande de puntos. El resultado será un polinomio con grandes oscilaciones.\n",
        "\n",
        "La interpolación poliomial a tramos (picewise polynomial interpolation) nos da una alternativa, la dificultad práctica y teórica asociada con polinomios de interpolación de grado muy alto. "
      ]
    },
    {
      "cell_type": "markdown",
      "metadata": {
        "id": "CI8CWkoGd1SB"
      },
      "source": [
        "#**Interpolación a tramos**"
      ]
    },
    {
      "cell_type": "markdown",
      "metadata": {
        "id": "ucJYyqjLd4yw"
      },
      "source": [
        "En la interpolación a tramos, dado un conjunto de puntos $(x_i,y_i) , i=0,1,2,...,n$ con $x_0 < x_1 < x_2 < ... < x_n$, $\\color{purple}{un\\ polinomio\\ diferente\\ es\\ usado\\ para\\ cada\\ sub-intervalo\\ }$ $[x_i,x_{i+1}]$. Por esta razón las abscisas $x_i$ en las cuales el interpolante cambia de un polinomio a otro se llaman $\\color{purple}{nodos,\\ o\\ puntos\\ de\\ contro\\ o\\ de\\ ruptura.\\ }$\n",
        "\n",
        "$\\color{purple}{Ventaja\\ de\\ la\\ interpolación\\ a\\ tramos\\ }$\n",
        "\n",
        "La interpolación a tramos puede ajustar un número muy grande de puntos con un conjunto de polinomios de grado pequeño.\n",
        "\n",
        "El ejemplo más simple de interpolacion a tramos es la interpolación lineal, donde una recta contenga a pares de puntos contiguos."
      ]
    },
    {
      "cell_type": "markdown",
      "metadata": {
        "id": "QjR4Pz8Kf02e"
      },
      "source": [
        "#**Interpolación con Splines Cúbicos**"
      ]
    },
    {
      "cell_type": "markdown",
      "metadata": {
        "id": "Yq1deA5jf8Ie"
      },
      "source": [
        "$\\color{green}{Definición:\\ Splines\\ de\\ grado\\ 1\\ ≤\\ k\\ ≤\\ 3\\ }$\n",
        "\n",
        "Dado un conjunto de puntos $(x_i,y_i), i=0,1,2,...,n$ con $x_0 <x_1 <x_2 <...< x_n$ una función de interpolación $S(x)$ spline de grado *k* es tal que:\n",
        "\n",
        "1. $S(x_i) = y_i$ para todo $i=0,1,2,..n$ \n",
        "\n",
        "2. $S(x)$ es un polinomio de grado $≤k$ en cada sub-intervalo $[x_{i-1},x_i]\n",
        "\n",
        "3. $S(x)$ tiene derivada continua hasta de orden $k-1$ en $[x_0,x_n]$\n"
      ]
    },
    {
      "cell_type": "markdown",
      "metadata": {
        "id": "HwQ0nMLtIZrW"
      },
      "source": [
        "#**Interpolación a tramos: Splines lineales**"
      ]
    },
    {
      "cell_type": "markdown",
      "metadata": {
        "id": "BYtf6SHRIkOl"
      },
      "source": [
        "Un $\\color{blue}{spline\\ es\\ un\\ polinomio\\ de\\ grado\\ uno\\ y\\ es\\ continuo,\\ pero\\ no\\ diferenciable\\ }$. Se podría describir como una *línea quebrada*. Dados $n+1$ puntos $(x_i,y_i), i=0,1,2,...,n$ con $x_0 < x_1 < x_2 < ... < x_n$ que interpole los datos, es simplemente unir cada uno de los puntos mediante segmentos de recta:\n",
        "\n",
        "\\begin{equation} \\left\\{ \\begin{array}{c} s_1(x) si x \\in [x_0,x_1] \\\\ s_2(x) si x\\in [x_1,x_2]\\\\ \\vdots \\\\ s_n (x) si x \\in [x_{n-1},x_n] \\end{array} \\right\\}  \\end{equation}\n",
        "\n",
        " Donde:\n",
        " 1. $s_j(x)$ es un polinomio de grado menos o igual a 1\n",
        "\n",
        " 2. $S(x)$ tiene derivada continua de orden $k-1=0$\n",
        "\n",
        " 3. $S(x_j) = y_i,$ para $i=1,2,..,n$"
      ]
    },
    {
      "cell_type": "markdown",
      "metadata": {
        "id": "EFWLn0bNbYAu"
      },
      "source": [
        "#**Splines lineales**"
      ]
    },
    {
      "cell_type": "markdown",
      "metadata": {
        "id": "0T7yg17Lbcja"
      },
      "source": [
        "$\\color{green}{Splines\\ de\\ grado\\ 1\\ }$\n",
        "\n",
        "Por lo anterior el Spline lineal esta definido como sigue:\n",
        "\n",
        "\\begin{equation}\n",
        "     S(x) = \\left\\{\n",
        "\t       \\begin{array}{ll}\n",
        "\t\t y_0+f[x_1,x_0](x-x_0) & \\mathrm{si\\ } x \\in [x_0,x_1] \\\\\n",
        "\t\t y_1 + f[x_2,x_1](x-x_1) & \\mathrm{si\\ } x\\in [x_1,x_2]  \\\\\n",
        "     \\vdots \\\\\n",
        "\t\ty_{n-1} +f[x_n,x_{n-1}](x-x_{n-1})   & \\mathrm{si\\ } x \\in [x_{n-1},x_n]\n",
        "\t       \\end{array}\n",
        "\t     \\right.\n",
        "   \\end{equation}\n",
        "\n",
        "Donde $f[x_i,x_j]$ es la diferencia dividida de Newton."
      ]
    },
    {
      "cell_type": "markdown",
      "metadata": {
        "id": "SyJweJ-EdRMi"
      },
      "source": [
        "#**Ejemplo: Construcción de un spline cuadrático.**"
      ]
    },
    {
      "cell_type": "markdown",
      "metadata": {
        "id": "6wxCV-aJdXfP"
      },
      "source": [
        "$\\color{green}{Splines\\ de\\ grado\\ 2\\ }$\n",
        "\n",
        "Consideremos los siguietes nodos de interpolación: $(3,2),(4,1),(7,3),(9,1)$. Notemos que se forman tres interrvalos $[3,4],[4,7],[7,9]$. En cada uno de etsos intervalos debemos definir un polinomio cuadrático de la siguiente forma:\n",
        "\n",
        "\\begin{equation}\n",
        "     S(x) = \\left\\{\n",
        "\t       \\begin{array}{ll}\n",
        "\t\t a_1x^2+b_1x+c_1      & \\mathrm{si\\ } x \\in [3,4] \\\\\n",
        "\t\t a_2x^2+b_2x+c_2 & \\mathrm{si\\ } x \\in [4,7] \\\\\n",
        "\t\t a_3x^2+b_3x+c_3   & \\mathrm{si\\ } x \\in [7,9]\n",
        "\t       \\end{array}\n",
        "\t     \\right.\n",
        "   \\end{equation}\n",
        "\n",
        "Se deben de cumplir las condiciones de interpolación, i.e.:\n",
        "\n",
        "$$S(3) = 2, S(4)=1, S(7)=3, S(9)=1$$\n",
        "\n",
        "De estas condiciones de interpolación se forman los siguientes sistemas de ecuaciones:\n",
        "\n",
        "$$S(3)= 2 \\to 9a_1 + 3b_1 + c_1 = 2$$\n",
        "\n",
        "\\begin{equation}\n",
        "     S(4) = 1 \\to \\left\\{\n",
        "\t       \\begin{array}{ll}\n",
        "\t\t 4^2a_1+4b_1+c_1 = 1 \\\\\n",
        "\t\t 4^2a_2+4b_2+c_2 = 1 \n",
        "\t       \\end{array}\n",
        "\t     \\right.\n",
        "   \\end{equation}\n",
        "\n",
        "\\begin{equation}\n",
        "     S(7) = 3 \\to \\left\\{\n",
        "\t       \\begin{array}{ll}\n",
        "\t\t 49a_2+7b_2+c_2 = 3 \\\\\n",
        "\t\t 49a_3+7b_3+c_3 = 3 \n",
        "\t       \\end{array}\n",
        "\t     \\right.\n",
        "   \\end{equation}\n",
        "\n",
        "$$S(9) = 1 \\to 81a_3 + 9b_3 + c_3 = 1$$\n",
        "\n",
        "Con esto tenemos 6 ecuaciones y 9 incógnitas.\n",
        "\n",
        "Tenemos ahora que forzar a las derivadas para ser continuas. En el caso de splines de grado 2, necesitamos que las derivadas de grado 1 sean continuas. Las derivadas para este ejemplo están dadas por:\n",
        "\n",
        "\\begin{equation}\n",
        "     S'(x) = \\left\\{\n",
        "\t       \\begin{array}{ll}\n",
        "\t\t 2a_1x^2+b_1 & \\mathrm{si\\ } x \\in [3,4] \\\\\n",
        "\t\t 2a_2x^2+b_2 & \\mathrm{si\\ } x \\in [4,7] \\\\\n",
        "\t\t 2a_3x^2+b_3   & \\mathrm{si\\ } x \\in [7,9]\n",
        "\t       \\end{array}\n",
        "\t     \\right.\n",
        "   \\end{equation}\n",
        "\n",
        "Como estos son segmentos de rectas que por definición son continuas, en los únicos lugare donde podrá haber discontinuidades es en las uniones de dichas rectas, en los cambios de intervalo. Por lo tanto, para que $S'(x)$ sea continua se debe cumplir que:\n",
        "\n",
        "$$2(4)a_1+b_1 = 2(4)a_2+b_2 \\to 8a_1+b_1 = 8a_2+b_2$$\n",
        "\n",
        "$$2(7)a_2+b_2 = 2(7)a_3+b_3 \\to 14a_2+b_2 = 14a_3+b_3$$\n",
        "\n",
        "Tenemos 8 ecuaciones y 9 incógnitas por lo que tenemos un grado de libertad para elegir alguna de las incógnitas. Por conveniencia y simplicidad elegimos $a_1=0$. De donde tenemos que resolverel sigiente sistema de 8 ecuaciones con 8 incógnitas:\n",
        "\n",
        "\\begin{pmatrix}\n",
        "3 & 1 & 0 & 0 & 0 & 0 & 0 & 0 \\\\\n",
        "4 & 1 & 0 & 0 & 0 & 0 & 0 & 0 \\\\\n",
        "0 & 0 & 16 & 4 & 1 & 0 & 0 & 0 \\\\\n",
        "0 & 0 & 49 & 7 & 1 & 0 & 0 & 0 \\\\\n",
        "0 & 0 & 0 & 0 & 0 & 49 & 7 & 1 \\\\\n",
        "0 & 0 & 0 & 0 & 0 & 81 & 9 & 1 \\\\\n",
        "1 & 0 & -8 & -1 & 0 & 0 & 0 & 0 \\\\\n",
        "0 & 0 & 14 & 1 & 0 & -14 & -1 & 0 \\\\\n",
        "\\end{pmatrix} \\begin{pmatrix} b_1 \\\\ c_1 \\\\ a_2 \\\\ b_2 \\\\ c_2 \\\\ a_3 \\\\ b_3 \\\\ c_3 \\\\ \\end{pmatrix}\n",
        "\n",
        "Cuya solución esta dada por: $b_1=-1,c_1=5,a_2=5/9, b_2=-(49/9), c_2=125/9, a_3=-(5/3), b_3=77/3, c_3=-95$\n",
        "\n",
        "Sustituyendo estos valores en la definición de spline cuadrático junto con $a_1=0$ tenemos:\n",
        "\n",
        "\\begin{equation}\n",
        "     S(x) = \\left\\{\n",
        "\t       \\begin{array}{ll}\n",
        "\t\t -x+5      & \\mathrm{si\\ } x \\in [3,4] \\\\\n",
        "\t\t \\frac{5}{9}x^2 - \\frac{49}{9}+ \\frac{125}{9} & \\mathrm{si\\ } x \\in [4,7] \\\\\n",
        "\t\t -\\frac{5}{3}x^2 + \\frac{77}{3}x-95  & \\mathrm{si\\ } x \\in [7,9]\n",
        "\t       \\end{array}\n",
        "\t     \\right.\n",
        "   \\end{equation}"
      ]
    },
    {
      "cell_type": "markdown",
      "metadata": {
        "id": "wBTuY79zmwXO"
      },
      "source": [
        "#**Definición de Splines Cúbicos**"
      ]
    },
    {
      "cell_type": "markdown",
      "metadata": {
        "id": "C67VCKQrm5Gt"
      },
      "source": [
        "Dada una cunción *f* definida en $[a,b]$ y un conjunto de nodos $a=x_0 < x_1 < ... < x_n = b$, un Spline cúbico *S* para *f* es una cunción que cumple con las condiciones siguientes:\n",
        "\n",
        "$\\color{blue}{(a)\\ }$ $S(x)$ es un polinomio cúbico denotado por $S_j(x)$, en el sub-intervalo $[x_j,x_{j+1}]$ para cada uno $j=0,1,...,n-1$\n",
        "\n",
        "$\\color{blue}{(b)\\ }$ $S_j(x_j) = f(x_j)$ para cada $j=0,1,...,n-1$\n",
        "\n",
        "$\\color{blue}{(c)\\ }$ $S_{j+1}(x_{j+1})= S_j(x_{j+1})$ para cada $j=0,1,...,n-2$\n",
        "\n",
        "$\\color{blue}{(d)\\ }$ $S'_{j+1}(x_{j+1}) = S'_j(x_{j+1})$ para cada $j=0,1,...,n-2$\n",
        "\n",
        "$\\color{blue}{(e)\\ }$ $S''_{j+1}(x_{j+1}) = S''_j(x_{j+1})$ para cada $j=0,1,...,n-2$\n",
        "\n",
        "$\\color{blue}{(f)\\ }$ Una de las siguientes condiciones de frontera se cumple:\n",
        "\n",
        "  $\\color{blue}{(i)\\ }$ $S''(x_0) = S''(x_n) = 0$ ($\\color{blue}{frontera\\ libre\\ o\\ natural\\ }$)\n",
        "\n",
        "  $\\color{blue}{(ii)\\ }$ $S''(x_0) = f'(x_0) = 0$ y $S'(x_n) = f'(x_n)$ ($\\color{blue}{frontera\\ rígida\\ o\\ sujeta\\ }$)"
      ]
    },
    {
      "cell_type": "markdown",
      "metadata": {
        "id": "__wkTZSapbuC"
      },
      "source": [
        "#**Ejemplo Interpolación con Splines Cúbicos.**"
      ]
    },
    {
      "cell_type": "markdown",
      "metadata": {
        "id": "5qgJ_gE-pkNQ"
      },
      "source": [
        "Tenemos tres puntos $(x_i,y_i), i=1,2,3$. Se necesita construir un spline cúbico a tramos en cada uno de los sub-intervalos $[x_1,x_2]$ y $[x_2,x_3]$. Denotemos cada uno de estos polinomios como\n",
        "\n",
        "$$p_1(x)= \\alpha_1 + \\alpha_2x + \\alpha_3x^2 + \\alpha_4x^3$$\n",
        "\n",
        "$$p_2(x)= \\beta_1 + \\beta_2x + \\beta_3x^2 + \\beta_4x^3$$\n",
        "\n",
        "Es necesario determinar 8 parámetros (cuatro $\\alpha 's$ y cuatro $\\beta 's$) , por lo que necesitamos 8 ecuaciones. Necesitamos que el primer polinomio interpole los datos en los extremos del primer intervalo, por lo que:\n",
        "\n",
        "$$\\alpha_1 + \\alpha_2x_1 + \\alpha_3x^2_1 + \\alpha_4x^3_1 = y_1$$\n",
        "\n",
        "$$\\alpha_1 + \\alpha_2x_2 + \\alpha_3x^2_2 + \\alpha_4x^3_2 = y_2$$\n",
        "\n",
        "De forma análoga necesitamos que el segundo polinomio interpole en los extremos del segundo intervalo:\n",
        "\n",
        "$$\\beta_1 + \\beta_2x_2 + \\beta_3x^2_2 + \\beta_4x^3_2 = y_2$$\n",
        "\n",
        "$$\\beta_1 + \\beta_2x_3 + \\beta_3x^2_3 + \\beta_4x^3_3 = y_3$$\n",
        "\n",
        "Requerimos que la primera derivada de la función de interpolación sea continua en $x_2$ (el punto que comparten ambos splines, por ser dos polinomios es el único lugar donde podría haber una discontinuidad):\n",
        "\n",
        "$$\\alpha_2 + 2\\alpha_3x_2 + 3\\alpha_4x^2_2 = \\beta_2 + 2\\beta_3x_2 + 3\\beta_4x^2_2$$\n",
        "\n",
        "Requerimos que la segunda derivada de la función de interpolación sea continua en $x_2$ lo cual nos da la siguiente ecuación:\n",
        "\n",
        "$$2\\alpha_3 + 6\\alpha_4x_2 = 2\\beta_3 + 6\\beta_4x_2$$\n",
        "\n",
        "Finalmente de la definición de spline natural, tenemos que este tiene la segunda derivada iguala cero en los extremos, obteniendo las siguientes dos ecuaciones:\n",
        "\n",
        "$$2\\alpha_3 + 6\\alpha_4x_1 = 0, 2\\beta_3 + 6\\beta_4x_3 = 0$$\n",
        "\n",
        "Escribiendo el sistema de ecuaciones, obtenemos:\n",
        "(ecuación 85)\n"
      ]
    },
    {
      "cell_type": "markdown",
      "metadata": {
        "id": "JZ-cSK11tImm"
      },
      "source": [
        "#**Construcción de Splines Cúbicos**"
      ]
    },
    {
      "cell_type": "markdown",
      "metadata": {
        "id": "hlLdSdaqufP9"
      },
      "source": [
        "Para construir un spline cúbico interpolante, dada una función *f*, las condiciones en la deinición se aplican a los splines cúbicos para cada $j=0,1,...,n-1$\n",
        "\n",
        "$$S_J(X)=a_j=f(x_j),$$\n",
        "\n",
        "se aplica la condición $(c)$ que dice:\n",
        "\n",
        "$S-{j+1}(x_{j+1})= S_j(x_{j+1}), j=0,1,...,n-2$ entonces:\n",
        "\n",
        "$a_{j+1}= S_{j+1}(x_{j+1}) = S_j(x_{j+1})$\n",
        "\n",
        "$a_{j+1}= a_j + b(x_{j+1}-x_j) + c_j(x_{j+1}-x_j)^2 + d_j(x_{j+1}-x_j)^3$\n",
        "\n",
        "Sea $h_j=x_{j+1}-x_j, j=0,1,...,n-1$ . Sea $a_n=f(x_n)$ entonces en la ecuación (87) anterior se escribe: \n",
        "\n",
        "$$a_{j+1} = a_j + b_jh_j + c_jh^2_j + d_jh^3_j$$\n",
        "\n",
        "Sean $b_n = S'(x_x)$, observamos que:\n",
        "\n",
        "$S'_j(x) = b_j + 2c_j(x-x_j) + 3d_j(x-x_j)^2 s'_j(x_j) = b_j, j=0,1,...,n-1$\n",
        "\n",
        "Aplicando la condición (c): $S'_{j+1}(x_{j+1}) = S'_j(x_{j+1}) , j=0,1,...,n-2$, tenemos:\n",
        "\n",
        "$$b_{j+1} = b_j + 2c_jh_j + 3d_jh^2_j, j=0,1,...,n-1$$\n",
        "\n",
        "Otra relación entre los coeficientes de $s_j$ se obtienen definiendo $c_n=S'(x_n)/2$ y aplicando la condición (c): $S_{j+1}(x_{j+1}) = S_j(x_{j+1}), j=0,1,...,n-2$. En este caso $c_{j+1}=c_j + 3d_jh_j, j=0,1,...,n-1$, donde puedp despejar \n",
        "\n",
        "$$d_j = \\frac{c_{j+1}-c_j}{3h_j}$$\n",
        "\n",
        "Resolviendo para $d_j$ y sustituyendo en (88), obtenemos las nuevas ecuaciones:\n",
        "\n",
        "$$a_{j+1} = a_j + b_jh_j+ \\frac{h^2_j}{3}(2c_j+c_{j+1})$$\n",
        "$$b_{j+1} = b_j + h_j(c_j+c_{j+1}), j=0,1,...,n-1$$\n",
        "\n",
        "$$\\to b_j = b_{j-1} + h_{j-1} (c_{j-1}+c_j)$$\n",
        "\n",
        "Despejando $b_j$ de (92) obtenemos:\n",
        "\n",
        "$$b_j = \\frac{1}{h_j} (a_{j+1}-a_j) - \\frac{h_j}{3}(2c_j+c_{j+1})$$\n",
        "\n",
        "Con una reducción del índice para $b_{j-1}$ tenemos :\n",
        "\n",
        "$$b_{j-1} = \\frac{1}{h_{j-1}} (a_j-a_{j-1})- \\frac{h_{j-1}}{3} (2c_{j-1}+c_j)$$\n",
        "\n",
        "Cuando sustituimos estos valores en la ecuación obtenida en (92) con el índice reducido en 1, obtenemos el sistema de ecuaciones lineales:\n",
        "\n",
        "$h_{j-1}c_{j-1} + 2(h_{j-1}+h_j)c_j + h_jc_{j+1} = \\frac{3}{h_j}(a_{j+1}-a_j) - \\frac{3}{h_{j+1}}(a_j-a_{j-1})$\n",
        "\n",
        "para cada $j=1,2,...,n-1$. Este sistema sólo contiene $\\{c_j\\}^n_{j=0}$ como incógnitas pues los valores de $\\{h_j\\}^n_{j=0}$ y $\\{a_j\\}^n_{j=0}$ están dados por el espaciado de los nodos $\\{x_j\\}^n_{j=0}$ y los valores de *f* en éstos."
      ]
    },
    {
      "cell_type": "markdown",
      "metadata": {
        "id": "1oDeXc22S1t3"
      },
      "source": [
        "#**Ejercicios de Splines Cúbicos**"
      ]
    },
    {
      "cell_type": "markdown",
      "metadata": {
        "id": "LrPIUXKqS7uv"
      },
      "source": [
        "$\\color{blue}{(1)\\ }$ Un spline cúbico natural $S$ en $[0,2]$ esta definido por \n",
        "\n",
        "$S_0(X) = 1+2X-X^3 \\mathrm{si\\ } 0 ≤ X < 1$\n",
        "$S_1(X) = 2+B(X-1) + C(X-1)^2 + D(X-1)^3 \\mathrm{si\\ } 1 ≤ x ≤ 2$\n",
        "\n",
        "Obtener b,c y d.\n",
        "\n",
        "$\\color{blue}{(2)\\ }$ Construir el spline cúbico que interpole los datos $f(0) = 0, f(1) = 1, f(2) = 2 y S'(0) = 2$"
      ]
    },
    {
      "cell_type": "markdown",
      "metadata": {
        "id": "zrNPzew7UanP"
      },
      "source": [
        "#**Bibliografía**"
      ]
    },
    {
      "cell_type": "markdown",
      "metadata": {
        "id": "6rbKQSYGUiaJ"
      },
      "source": [
        "1. Walter Mora F. *Interpolación polinomial: Forma modificada de Lagrange vs. Diferencias Divididas,* Revista dígital Matemática, Educación e Internet , Vol.9, No. 1, 2008.\n",
        "\n",
        "2. Heath, M. *Scientific computing an introductory survey*. 1997, McGraw-Hill. Numerical Integration on Advanced Computer Systems.\n",
        "\n",
        "3. De Boor, Carl. *A Practical Gide to Splines* (Applied Mathematical Sciences) Springer Verlag.\n",
        "\n",
        "4. Cheney W. and Kincaid D. *Numerical Mathematics and Computing*. Thomson Brooks/Cole 2008."
      ]
    },
    {
      "cell_type": "markdown",
      "metadata": {
        "id": "NIBH7Z8cViQR"
      },
      "source": [
        "#**Gracias**"
      ]
    }
  ]
}
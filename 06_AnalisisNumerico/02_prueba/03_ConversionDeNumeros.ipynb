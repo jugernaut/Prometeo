{
  "nbformat": 4,
  "nbformat_minor": 0,
  "metadata": {
    "colab": {
      "name": "03_ConversionDeNumeros.ipynb",
      "provenance": [],
      "authorship_tag": "ABX9TyNBZPhM2gRY3AtP9zE0DQSj",
      "include_colab_link": true
    },
    "kernelspec": {
      "name": "python3",
      "display_name": "Python 3"
    },
    "language_info": {
      "name": "python"
    }
  },
  "cells": [
    {
      "cell_type": "markdown",
      "metadata": {
        "id": "view-in-github",
        "colab_type": "text"
      },
      "source": [
        "<a href=\"https://colab.research.google.com/github/jugernaut/Prometeo/blob/desarrollo/06_AnalisisNumerico/02_prueba/03_ConversionDeNumeros.ipynb\" target=\"_parent\"><img src=\"https://colab.research.google.com/assets/colab-badge.svg\" alt=\"Open In Colab\"/></a>"
      ]
    },
    {
      "cell_type": "markdown",
      "metadata": {
        "id": "JBCwBEMJ_b4h"
      },
      "source": [
        "<font color=\"Teal\" face=\"Comic Sans MS,arial\">\n",
        "  <h1 align=\"center\"><i>Conversión de números: base 10 $\\Longleftrightarrow$ base 2</i></h1>\n",
        "  </font>\n",
        "  <font color=\"Black\" face=\"Comic Sans MS,arial\">\n",
        "  <h5 align=\"center\"><i>Profesora: \tUrsula Xiomara Iturrarán Viveros</i></h5>\n",
        "    <h5 align=\"center\"><i>Ayudante: Juan Pablo Cordero Santiago</i></h5>\n",
        "  <h5 align=\"center\"><i>Materia: Análisis Numérico</i></h5>\n",
        "  </font>"
      ]
    },
    {
      "cell_type": "markdown",
      "metadata": {
        "id": "9LYB5wlt_b8x"
      },
      "source": [
        "# **Como se expresa un número en base 10**"
      ]
    },
    {
      "cell_type": "markdown",
      "metadata": {
        "id": "eOBp1nYI_cA9"
      },
      "source": [
        "$\\color{blue}{Desarrollo\\ de\\ un\\ n\\acute{u}mero\\ natural\\ en\\ base\\ 10\\ y\\ en\\ base\\ 2}$\n",
        "\n",
        "Sea $N$ un número natural, entonces existen $k + 1$ cifras $a_{0}, a_{1}, . . . , a_{k}$ tomadas del conjunto $\\{0, 1, 2, . . . , 9 \\}$ tales que $N$ admite el siguiente desarrollo:\n",
        "$$N = a_{k} \\cdot 10^{k} + a_{k−1} \\cdot 10^{k−1} + . . . + a_{0} \\cdot 10^{0}$$\n",
        "\n",
        "Por lo que en notación en base 10 tenemos:\n",
        "\n",
        "$$N = a_{k}a_{k−1}...a_{1}a_{0}$$\n",
        "\n",
        "Sea $N$ un número natural, entonces existen $j + 1$ cifras $b_{0}, b_{1},...,b_{j}$ tomadas del conjunto $ \\{0, 1 \\} $ tales que $N$ admite el siguiente desarrollo:\n",
        "\n",
        "$$N = b_{j} \\cdot 2_{j} + b_{j−1} \\cdot 2_{j−1} +...+ b_{0} \\cdot 2_{0}$$"
      ]
    },
    {
      "cell_type": "markdown",
      "metadata": {
        "id": "Bt64GBXQ_cFI"
      },
      "source": [
        "Por lo que en notación en base 2 (binaria) tenemos:\n",
        "\n",
        "$$N = b_{j}b_{j−1} . . . b_{1}b_{0}$$\n",
        "\n",
        "con $b_{i} \\in \\{ 0,1 \\} $"
      ]
    },
    {
      "cell_type": "markdown",
      "metadata": {
        "id": "Qgt8HsCi_cIn"
      },
      "source": [
        "# **Algoritmo para encontrar la representación en base 2 de un número natural**"
      ]
    },
    {
      "cell_type": "markdown",
      "metadata": {
        "id": "tmatb4Vp_cMo"
      },
      "source": [
        "Sabemos que\n",
        "\n",
        "\\begin{array}{ccc}\n",
        "& N & = & b_{j} \\cdot 2^{j} + b_{j-1} \\cdot 2^{j-1} +... + b_{0} \\cdot 2^{0}\\\\\n",
        "\\Rightarrow & N & = & \\frac{b_{j} \\cdot 2^{j}}{2} + \\frac{b_{j-1} \\cdot 2^{j-1}}{2} +... + \\frac{b_{1} \\cdot 2^{1}}{2} + \\frac{b_{0} \\cdot 2^{0}}{2}\\\\\n",
        "& & = & b_{j} \\cdot 2^{j-1} + b_{j-1} \\cdot 2^{j-2} +... + b_{1} \\cdot 2^{0} + \\frac{b_{0}}{2}\\\\\n",
        "& \\frac{N}{2} & = & Q_{0} + \\frac{b_{0}}{2}\\\\\n",
        "& \\frac{Q_{0}}{2} & = & b_{j} \\cdot 2^{j-2} + b_{j-1} \\cdot 2^{j-3} +... + b_{2} \\cdot 2^{0} + \\frac{b_{1}}{2}\n",
        "\\end{array}"
      ]
    },
    {
      "cell_type": "markdown",
      "metadata": {
        "id": "mm6txUkF_cQ2"
      },
      "source": [
        "con $Q_{0} = b_{j} \\cdot 2_{j−1} + b_{j−1} \\cdot 2_{j} − 2 + ... + b_{1} \\cdot 2_{0}$. Continuando el proceso generamos sucesiones $\\{Q_{k}\\}$ y $\\{b_{k}\\}$ de cocientes y residuos. El proceso termina cuando encontramos un número natural $j$ tal que $Q_{j} = 0$. Es decir:\n",
        "\n",
        "\\begin{array}{cc}\n",
        "N & = & 2Q_{0} + b_{0}\\\\\n",
        "Q_{0} & = & 2Q_{1} + b_{1}\\\\\n",
        "Q_{1} & = & 2Q_{2} + b_{2}\\\\\n",
        "& \\acute{:} & \\\\\n",
        "Q_{j-2} & = & 2Q_{j-1} + b_{j-1}\\\\\n",
        "Q_{j-1} & = & 2Q_{j} + b_{j} \\quad(Q_{j}=0)\n",
        "\\end{array}"
      ]
    },
    {
      "cell_type": "markdown",
      "metadata": {
        "id": "urQXtuqf_cU6"
      },
      "source": [
        "## Ejemplo $N = 2021$\n",
        "\n",
        "\\begin{array}{cccc}\n",
        "2021 & = & 2 \\times 1010 + 1 & \\Leftarrow & b_{0}\\\\\n",
        "1010 & = & 2 \\times 505 + 0 & \\Leftarrow & b_{1}\\\\\n",
        "505 & = & 2 \\times 252 + 1 & \\Leftarrow & b_{2}\\\\\n",
        "252 & = & 2 \\times 126 + 0 & \\Leftarrow & b_{3}\\\\\n",
        "126 & = & 2 \\times 63 + 0 & \\Leftarrow & b_{4}\\\\\n",
        "63 & = & 2 \\times 31 + 1 & \\Leftarrow & b_{5}\\\\\n",
        "31 & = & 2 \\times 15 + 1 & \\Leftarrow & b_{6}\\\\\n",
        "15 & = & 2 \\times 7 + 1 & \\Leftarrow & b_{7}\\\\\n",
        "7 & = & 2 \\times 3 + 1 & \\Leftarrow & b_{8}\\\\\n",
        "3 & = & 2 \\times 1 + 1 & \\Leftarrow & b_{9}\\\\\n",
        "1 & = & 2 \\times 0 + 1 & \\Leftarrow & b_{10} \\quad (Q_{10} = 0)\n",
        "\\end{array}\n",
        "\n",
        "Tenemos entonces que $N$ se puede escribir en base 2 como sigue:\n",
        "\n",
        "\\begin{array}{cc}\n",
        "N & = & b_{10}b_{9} ... b_{1}b_{0}\\\\\n",
        "& = & 11111100101\n",
        "\\end{array}"
      ]
    },
    {
      "cell_type": "markdown",
      "metadata": {
        "id": "aBrniWd0_cZA"
      },
      "source": [
        "# **Fracciones binarias**"
      ]
    },
    {
      "cell_type": "markdown",
      "metadata": {
        "id": "6yR9o6I-_cdJ"
      },
      "source": [
        "Las fracciones binarias pueden expresarse como sumas en las que aparecen potencias negativas de 2. Si $R \\in \\mathbb{R}$ tal que $0 < R < 1$, entonces existe una sucesión de cifras $d_{1}, d_{2},... , d_{n}$ todas ellas en $\\{0, 1\\}$ tales que queremos:\n",
        "\n",
        "$\\color{blue}{Fracciones\\ binarias}$\n",
        "\n",
        "\\begin{array}{cc}\n",
        "R & = & (d_{1} \\times 2^{−1})+ (d_{2} \\times 2^{−2}) + ... + d_{n} \\times 2^{−n}\\\\\n",
        "& = & 0.d_{1}d_{2} ... d_{n}\n",
        "\\end{array}"
      ]
    },
    {
      "cell_type": "markdown",
      "metadata": {
        "id": "iTjvaEXf_cgT"
      },
      "source": [
        "# **Algoritmo para convertir a fracciones binarias**"
      ]
    },
    {
      "cell_type": "markdown",
      "metadata": {
        "id": "23JFlyd__cjf"
      },
      "source": [
        "Algoritmo: Multiplicando por 2 ambos lados de $R$ anterior obtenemos:\n",
        "\n",
        "<center>\n",
        "<img src=\"https://github.com/jugernaut/Prometeo/blob/desarrollo/Figuras/ecuacion.png?raw=1\" width=\"600\"> \n",
        "</center>"
      ]
    },
    {
      "cell_type": "markdown",
      "metadata": {
        "id": "BAr5vW51_cnL"
      },
      "source": [
        "Se genera de forma recurrente las dos sucesiones $\\{d_{k}\\}$ y $\\{F_{k}\\}$\n",
        "\n",
        "\\begin{array}{cccccc}\n",
        "d_{k} & = & ent(2F_{k−1}) & donde & d_{1} & = & ent(2R)\\\\\n",
        "F_{k} & = & frac(2F_{k−1}) & y & F_{1} & = & frac(2R)\n",
        "\\end{array}\n",
        "\n",
        "La representación binaria de R esta dada entonces por la serie\n",
        "convergente:\n",
        "\n",
        "\\begin{equation}\n",
        "R= \\sum_{j=1}^{\\infty} d_{j} (2^{-j}) \\quad \\text{que es una serie geometrica}\n",
        "\\end{equation}"
      ]
    },
    {
      "cell_type": "markdown",
      "metadata": {
        "id": "-N7Ag1Ng_cqd"
      },
      "source": [
        "# **Ejemplos**"
      ]
    },
    {
      "cell_type": "markdown",
      "metadata": {
        "id": "VvH1_EHp_ct2"
      },
      "source": [
        "## Ejemplo 1\n",
        "\n",
        "Sea $R = \\frac{7}{10} = 0.7$. Su representación binaria puede encontrarse:\n",
        "\n",
        "\\begin{array}{cccccccccccc}\n",
        "2R & = & 1.4 & d_{1} & = & ent(1.4) & = & 1 & F_{1} & = & frac(1.4) & = & 0.4\\\\\n",
        "2F_{1} & = & 0.8 & d_{2} & = & ent(0.8) & = & 0 & F_{2} & = & frac(0.8) & = & 0.8\\\\\n",
        "2F_{2} & = & 1.6 & d_{3} & = & ent(1.6) & = & 1 & F_{3} & = & frac(1.6) & = & 0.6\\\\\n",
        "2F_{3} & = & 1.2 & d_{4} & = & ent(1.2) & = & 1 & F_{4} & = & frac(1.2) & = & 0.2\\\\\n",
        "2F_{4} & = & 0.4 & d_{2} & = & ent(0.4) & = & 0 & F_{5} & = & frac(0.4) & = & 0.4\\\\\n",
        "2F_{5} & = & 0.8 & d_{2} & = & ent(0.8) & = & 0 & F_{6} & = & frac(0.8) & = & 0.8\\\\\n",
        "2F_{6} & = & 1.6 & d_{2} & = & ent(1.6) & = & 1 & F_{7} & = & frac(1.6) & = & 0.6\n",
        "\\end{array}\n",
        "\n",
        "de donde concluimos que:\n",
        "\n",
        "<center>\n",
        "<img src=\"https://github.com/jugernaut/Prometeo/blob/desarrollo/Figuras/ecuacion2.png?raw=1\" width=\"600\"> \n",
        "</center>"
      ]
    },
    {
      "cell_type": "markdown",
      "metadata": {
        "id": "f88G0gDP_c7e"
      },
      "source": [
        "## Ejemplo 2\n",
        "\n",
        "Convertir $0.2$ de base 10 a base 2:\n",
        "\n",
        "\\begin{array}{cccccccccccc}\n",
        "2R & = & 0.4 & d_{1} & = & ent(0.4) & = & 0 & F_{1} & = & frac(0.4) & = & 0.4\\\\\n",
        "2F_{1} & = & 0.8 & d_{2} & = & ent(0.8) & = & 0 & F_{2} & = & frac(0.8) & = & 0.8\\\\\n",
        "2F_{2} & = & 1.6 & d_{3} & = & ent(1.6) & = & 1 & F_{3} & = & frac(1.6) & = & 0.6\\\\\n",
        "2F_{3} & = & 1.2 & d_{4} & = & ent(1.2) & = & 1 & F_{4} & = & frac(1.2) & = & 0.2\\\\\n",
        "2F_{4} & = & 0.4 & d_{2} & = & ent(0.4) & = & 0 & F_{5} & = & frac(0.4) & = & 0.4\n",
        "\\end{array}"
      ]
    },
    {
      "cell_type": "markdown",
      "metadata": {
        "id": "rFtcMs3L_c-s"
      },
      "source": [
        "## Números de punto flotante son representados en la computadora como fracciones binarias"
      ]
    },
    {
      "cell_type": "markdown",
      "metadata": {
        "id": "N0Ym5Nh3_dB4"
      },
      "source": [
        "$\\color{green}{Ejemplo}$\n",
        "\n",
        "La fracción en base 10:\n",
        "\n",
        "$$0.25 =\\frac{1}{10}+\\frac{2}{100}+\\frac{5}{1000}$$\n",
        "\n",
        "Por otro lado la fracción binaria\n",
        "\n",
        "$$0.001 = \\frac{0}{2}+\\frac{0}{4}+\\frac{1}{8}$$\n",
        "\n",
        "Estas dos fracciones son idénticas, solo que la primera esta en base 10\n",
        "y la seguna esta en base 2. Desafortunadamente la mayoría de las\n",
        "fracciones en base 10 no se pueden representar de forma exacta en\n",
        "base 2."
      ]
    },
    {
      "cell_type": "markdown",
      "metadata": {
        "id": "Ivy6-Gri_dFK"
      },
      "source": [
        "## Números en base diez que no se pueden representar exactamente en sistemas de punto flotante binario"
      ]
    },
    {
      "cell_type": "markdown",
      "metadata": {
        "id": "H2cLEJhd_dI4"
      },
      "source": [
        "$\\color{blue}{Ejemplo}$\n",
        "\n",
        "La fracción $\\frac{1}{3}$ se puede aproximar en base 10, como $0.3$, ó como $0.33$ o mejor aún $0.333$, esto continua y sin importar cuantos dígitos agreguemos, el resultado no será nunca exacto, pues esta fracción tiene una expansión decimal periódica e infinita. Lo mismo pasa con las fracciones binarias.\n",
        "\n",
        "$\\color{green}{Representaci\\acute{o}n\\ en\\ base\\ 2\\ de\\ la\\ fracci\\acute{o}n\\ en\\ base\\ 10:\\ \\frac{1}{10}}$\n",
        "\n",
        "En base 2, la fracción $\\frac{1}{10}$ tiene una representación periódica, infinita:\n",
        "\n",
        "$$\\frac{1}{10} = 0.0001100110011001100110011001100110011001100110011...$$"
      ]
    },
    {
      "cell_type": "markdown",
      "metadata": {
        "id": "o7HPtMLQeVWy"
      },
      "source": [
        "$\\color{red}{NOTA:}$ Este tema es explicado, de una manera muy buena, por la profesora Ursula en el [*Video*](https://drive.google.com/file/d/1eiimJMp1f5m7k7N-TgueANaVEEwfdVOp/view?usp=sharing)."
      ]
    },
    {
      "cell_type": "markdown",
      "metadata": {
        "id": "cxJJ-h9C_dMw"
      },
      "source": [
        "<center>\n",
        "<img src=\"https://github.com/jugernaut/Prometeo/blob/desarrollo/Figuras/gracias.png?raw=1\" width=\"600\"> \n",
        "</center>"
      ]
    }
  ]
}
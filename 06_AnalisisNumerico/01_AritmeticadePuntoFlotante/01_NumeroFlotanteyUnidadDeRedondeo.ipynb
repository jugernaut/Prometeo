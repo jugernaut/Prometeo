{
  "nbformat": 4,
  "nbformat_minor": 0,
  "metadata": {
    "colab": {
      "name": "01_NumeroFlotanteyUnidadDeRedondeo.ipynb",
      "provenance": [],
      "toc_visible": true,
      "include_colab_link": true
    },
    "kernelspec": {
      "name": "python3",
      "display_name": "Python 3"
    },
    "language_info": {
      "name": "python"
    }
  },
  "cells": [
    {
      "cell_type": "markdown",
      "metadata": {
        "id": "view-in-github",
        "colab_type": "text"
      },
      "source": [
        "<a href=\"https://colab.research.google.com/github/jugernaut/Prometeo/blob/desarrollo/06_AnalisisNumerico/01_AritmeticadePuntoFlotante/01_NumeroFlotanteyUnidadDeRedondeo.ipynb\" target=\"_parent\"><img src=\"https://colab.research.google.com/assets/colab-badge.svg\" alt=\"Open In Colab\"/></a>"
      ]
    },
    {
      "cell_type": "markdown",
      "metadata": {
        "id": "gTmXfouXUnDx"
      },
      "source": [
        "<font color=\"Teal\" face=\"Comic Sans MS,arial\">\n",
        "  <h1 align=\"center\"><i>Números de punto flotante y Técnicas de redondeo</i></h1>\n",
        "  </font>\n",
        "  <h3 align=\"center\"><i>Trabajo realizado con el apoyo del Programa UNAM-DGAPA-PAPIME PE101019</i></h3>  \n",
        "  <font color=\"Black\" face=\"Comic Sans MS,arial\">\n",
        "  <h5 align=\"center\"><i>Profesora: \tUrsula Xiomara Iturrarán Viveros</i></h5>\n",
        "    <h5 align=\"center\"><i>Ayudante: Juan Pablo Cordero Santiago</i></h5>\n",
        "  <h5 align=\"center\"><i>Materia: Análisis Numérico</i></h5>\n",
        "  </font>\n",
        "\n",
        "Este sitio puede ser usado libremente, tanto por profesores como por estudiantes, que deseen complementar sus cursos y conocimientos en los temas antes mencionados. Los materiales están bajo una Licencia Creative Commons Atribución-NoComercial-CompartirIgual 4.0 Internacional\n",
        "\n",
        "<a rel=\"license\" href=\"http://creativecommons.org/licenses/by-nc-sa/4.0/\"><img alt=\"Licencia Creative Commons\" style=\"border-width:0\" src=\"https://i.creativecommons.org/l/by-nc-sa/4.0/88x31.png\" /></a><br />Esta obra está bajo una <a rel=\"license\" href=\"http://creativecommons.org/licenses/by-nc-sa/4.0/\">Licencia Creative Commons Atribución-NoComercial-CompartirIgual 4.0 Internacional</a>."
      ]
    },
    {
      "cell_type": "markdown",
      "metadata": {
        "id": "GaeW9nV7Um4-"
      },
      "source": [
        "#**Sistemas de punto flotante** "
      ]
    },
    {
      "cell_type": "markdown",
      "metadata": {
        "id": "1YSnXp8xUmul"
      },
      "source": [
        "## Definición de un sistema de punto flotante.\n",
        "\n",
        "$\\color{blue}{Se\\ consideran\\ los\\ elementos\\ de\\ un\\ sistema\\ de\\ punto\\ flotante\\ a\\ los\\ n\\acute{u}meros\\ que\\ tienen\\ la\\ siguiente\\ forma}$ \n",
        "\n",
        "$$x = \\pm (d_{1}.d_{2}d_{3}d_{4},...,d_{t}) \\times \\beta^{e}$$\n",
        "donde\n",
        "\n",
        "1. $t=$ precisión del sistema de punto flotante.\n",
        "2. $\\beta =$ base del sistema de punto flotante.\n",
        "3. $e=$ Exponente.\n",
        "\n",
        "además se debe considerar que:\n",
        "\n",
        "$$0 \\quad < d_{1} < \\quad \\beta$$\n",
        "$$0 \\quad \\leq d_{i} < \\quad \\beta, \\quad \\text{para} \\quad i=2,3,4,...,t$$\n",
        "$$e \\in [L,U], \\quad \\text{donde} \\quad L <  0 < U$$\n",
        "\n",
        "Se denota como $\\mathbb{F}= fl(\\beta, t,L,U)$ se conoce como notación estándar."
      ]
    },
    {
      "cell_type": "markdown",
      "metadata": {
        "id": "p4QgvJVAUmmN"
      },
      "source": [
        "#**¿Cómo representa los números internamente la computadora?**"
      ]
    },
    {
      "cell_type": "markdown",
      "metadata": {
        "id": "lGN0DG-3UmZ4"
      },
      "source": [
        "$\\color{blue}{La\\ computadora\\ tiene\\ memoria\\ limitada\\ por\\ lo\\ tanto,\\ no\\ puede\\ representar\\ una\\ infinidad\\ de\\ n\\acute{u}meros\\ solo\\ una\\ cantidad\\ limitada}$\n",
        "\n",
        "Los números de la computadora son números de un sistema de punto\n",
        "flotante, ¿Qué pasa si un número tiene expansion periódica infinita\n",
        "como lo puede representar la computadora?\n",
        "\n",
        "Pensemos que la precisión $t = 2$ (también se usa $p = 2$) y pensemos en el número $x = 16/9(= 1.7777777777777777)$, la computadora lo\n",
        "aproximará a 2 dígitos, pero ¿cómo? Para esto existen dos formas, con\n",
        "redondeo o truncamiento. Definamos completamente al sistema de\n",
        "punto flotante hipotético al que nos referimos en este caso:"
      ]
    },
    {
      "cell_type": "markdown",
      "metadata": {
        "id": "Pgp5PbpsUmAS"
      },
      "source": [
        "#**Redondeo y truncamiento**"
      ]
    },
    {
      "cell_type": "markdown",
      "metadata": {
        "id": "x7iFLJXjUkXr"
      },
      "source": [
        "$\\color{blue}{Este\\ sistema\\ lo\\ denotaremos\\ como:\\ fl(10, 3, −3, 3),\\ esto\\ quiere\\ decir\\ que\\ tiene\\ base\\ 10,\\ que\\ tiene\\ 3\\ d\\acute{i}gitos\\ de\\ precisi\\acute{o}n\\ y\\ que\\ el\\ exponente\\ e\\ se\\ encuentra\\ en\\ el\\ intervalo\\ [−3, 3]}$\n",
        "\n",
        "¿Qué elementos se encuentran en este sistema de punto flotante?\n",
        "\n",
        "Probemos $x_{1} = 7$, sabemos que lo podemos escribir como:\n",
        "\n",
        "$$x = 7 = 7.0 \\times 10^{0}$$\n",
        "\n",
        "Siendo la base $β = 10$ y la precisión $t = 3$ (también se denota como $p$) y el exponente, en este caso, es $e = 0 \\in [−3, 3]$, el exponente de $x_{1}$ está en el interavalo $[−3, 3]$, solo tenemos un dígito que es el 7 que esta en la base $\\beta = 10$, por lo tanto es un número que se expresa completamente sin ningún problema en este sistema de punto flotante dado, es decir $7.0 \\in fl(10, 3, −3, 3)$ "
      ]
    },
    {
      "cell_type": "markdown",
      "metadata": {
        "id": "jUmaNH5NOAHi"
      },
      "source": [
        "## **EJEMPLOS**"
      ]
    },
    {
      "cell_type": "markdown",
      "metadata": {
        "id": "jAyXcs9GUkMS"
      },
      "source": [
        "### Representación de número en un sistema\n",
        "\n",
        "$\\color{blue}{¿C\\acute{o}mo\\ puedo\\ representar\\ al\\ n\\acute{u}mero\\ x_{2} = 148,\\ escribiendolo\\ en\\ la\\\n",
        "notaci\\acute{o}n\\ est\\acute{a}ndar,\\ si\\ fl(10, 3, −3, 3)?}$\n",
        "\n",
        "Tenemos que:\n",
        "\n",
        "$$x_{2} = 1.48 \\times 10^{2}$$\n",
        "\n",
        "Como tenemos 3 dígitos de precisión, alcanza para expresar el $1.48$,\n",
        "además, la base es $\\beta = 10$ y $1.48$ está en base 10. Por otro lado como el exponente es $e = 2 \\in [−3, 3]$, este también es un número que se puede representar exactamente en el sistema de flotante dado, es decir $x_{2} \\in fl(10, 3, −3, 3)$, la computadora no necesita aproximarlo de ninguna forma, pues es exactamente representable en este sistema de punto flotante."
      ]
    },
    {
      "cell_type": "markdown",
      "metadata": {
        "id": "GsXzj3LxUkAs"
      },
      "source": [
        "### Ejemplo 2:\n",
        "\n",
        "$\\color{blue}{¿C\\acute{o}mo\\ puedo\\ representar\\ al\\ n\\acute{u}mero\\ x_2 = 8540,\\ escribiendolo\\ en\\ la\\ notaci\\acute{o}n\\ est\\acute{a}ndar,\\ si\\ fl(10, 3, −3, 3)?}$\n",
        "\n",
        "Tenemos:\n",
        "\n",
        "$$x_{3} = 8540.0 \\times 10^{0} = 8.540 \\times 10^{3} = 8.54 \\times 10^{3}$$\n",
        "\n",
        "Como el sistema tiene 3 dígitos de precisión disponibles, en este caso\n",
        "el último dígito es cero, **SI** alcanza para expresar el $8.540$, además este número está en la base $\\beta = 10$ y el exponente es $e = 3 \\in [−3, 3]$, por lo que este número puede ser representado se forma exacta en el sistema de punto flotante $fl(10, 3, −3, 3)$."
      ]
    },
    {
      "cell_type": "markdown",
      "metadata": {
        "id": "wJWz-_55Uj27"
      },
      "source": [
        "### Ejemplo 3: Aproximar un número\n",
        "\n",
        "$\\color{blue}{¿C\\acute{o}mo\\ puedo\\ representar\\ al\\ n\\acute{u}mero\\ x_{4} = 2543,\\ escribiendolo\\ en\\ la\\\n",
        "notaci\\acute{o}n\\ est\\acute{a}ndar,\\ si\\ fl(10, 3, −3, 3)?}$\n",
        "\n",
        "Tenemos:\n",
        "\n",
        "$$x_{4} = 2543.0 × 10^{0} = 2.543 × 10^{3}$$\n",
        "\n",
        "Como el sistema tiene 3 dígitos de precisión disponibles, en este caso,\n",
        "**NO** alcanza para expresar el $2.543$, aunque está en la base $\\beta = 10$ y el exponente es $e = 3 \\in [−3, 3]$, pero este número se tiene que truncar o redondear para poder ser $\\color{blue}{aproximado}$ en el sistema de punto flotante $fl(10, 3, −3, 3)$, pues solo hay 3 dígitos y tenemos 4 dígitos diferentes\n",
        "de cero."
      ]
    },
    {
      "cell_type": "markdown",
      "metadata": {
        "id": "xzml5K7qUjuD"
      },
      "source": [
        "## Técnicas de redondeo y truncamiento\n",
        "\n",
        "$\\color{blue}{Considerando\\ el\\ caso\\ x_4 = 2543,\\ para\\ aproximarlo\\ a\\ alg\\acute{u}n\\ elemento\\ de\\ fl(10, 3, −3, 3),\\ podemos\\ redondearlo\\ al\\ elemento\\ m\\acute{a}s\\ cercano\\ en\\ este\\ sistema\\ de\\ punto\\ flotante}$\n",
        "\n",
        "Tenemos:\n",
        "\n",
        "$$x_4 = 2543.0 \\times 10^{0} = 2.543 \\times 10^{3}$$\n",
        "\n",
        "Se encuentra entre dos elementos $x_{l}$ y $x_{u}$ que si están en $fl(10, 3, −3, 3)$:\n",
        "\n",
        "\\begin{array}{cc}\n",
        "x_{l} = 2540 < x_{4} & = & 2543 < x_{u} = 2550\\\\\n",
        "x_{l} = 2.54 \\times 10^{3} < x_{4} & = & 2.543 \\times 10^{3} < x_{u} = 2.55 \\times 10^{3}\n",
        "\\end{array}\n",
        "\n",
        "Como tengo que redondear al más cercano entonces $fl(2453) = x_{l} = 2.54 \\times 10^{3}$. Estaré entonces realizando una\n",
        "aproximación que tendrá un error de aproximación."
      ]
    },
    {
      "cell_type": "markdown",
      "metadata": {
        "id": "JBoW-EGvUjjk"
      },
      "source": [
        "Realizar los siguientes ejemplos de truncamiento al más cercano\n",
        "\n",
        "* $x_{5} = 2549.99999999999999$\n",
        "* $x_{6} = 2550.00000000000001$\n",
        "* $x_{7} = 2555$"
      ]
    },
    {
      "cell_type": "markdown",
      "metadata": {
        "id": "AsmMHAq7UjbU"
      },
      "source": [
        "Consideremos $x_{5} = 2549.99999999999999$\n",
        "\n",
        "\\begin{array}{cc}\n",
        "x_{l} = 2540 < x_5  & = & 2549.99999999999999 < x_{u} = 2550\\\\\n",
        "x_{l} = 2.54 \\times 10^{3} & < & 2.54999999999999999 \\times 10^{3} < x_{u} = 2.55 \\times 10^{3}\n",
        "\\end{array}\n",
        "\n",
        "Como tengo que redondear al más cercano entonces\n",
        "\n",
        "$fl(2549.99999999999999) = x_{u} = 2.55 \\times 10^{3}$."
      ]
    },
    {
      "cell_type": "markdown",
      "metadata": {
        "id": "IJazRp9EUjRR"
      },
      "source": [
        "Consideremos $x_{6} = 2549.00000000000001$\n",
        "\n",
        "\\begin{array}{cc}\n",
        "x_{l} = 2540 < x_{6} & = & 2549.00000000000001 < x_{u} = 2550\\\\\n",
        "x_{l} = 2.54 \\times 10^{3} & < & 2549.00000000000001 \\times 10^{3} < x_{u} = 2.55 \\times 10^{3}\n",
        "\\end{array}\n",
        "\n",
        "Como tengo que redondear al más cercano entonces\n",
        "\n",
        "$fl(2549.00000000000001) = x_{u} = 2.55 \\times 10^{3}$\n",
        "\n"
      ]
    },
    {
      "cell_type": "markdown",
      "metadata": {
        "id": "DrDstCO5UjI2"
      },
      "source": [
        "Consideremos $x_{7} = 2555$\n",
        "\n",
        "\\begin{array}{cc}\n",
        "x_{l} = 2550 < x_{6} & = & 2555 < x_{u} = 2560\\\\\n",
        "x_{l} = 2.55 \\times 10^{3} & < & 2.555 \\times 10^{3} < x_{u} = 2.56 \\times 10^{3}\n",
        "\\end{array}\n",
        "\n",
        "En este caso se produce un empate, pues el número a aproximar se\n",
        "encuentra entre el el número inferior $x_{l}$ y superior $x_{u}$ que pertenecen sistema de punto flotante. En este caso se realiza el redondeo a pares, que significa que se redondea al elemento de punto flotante cuyo último dígito significativo sea par. En este caso:\n",
        "\n",
        "$fl(2555.0) = 2.56 \\times 10^{3} = 2560.0$"
      ]
    },
    {
      "cell_type": "markdown",
      "metadata": {
        "id": "6jgPg4bkUi_R"
      },
      "source": [
        "## Truncamiento\n",
        "\n",
        "La técnica de truncamiento es la más simple, pues solo se consideran\n",
        "los dígitos disponibles y lo demas se borra. Consideremos $x_{7} = 2555$, al truncar para aproximar al sistema de punto flotante $fl(10, 3, −3, 3)$, tenemos que $x_{7} = 2555 = 2.555 \\times 10^{3} = 2.55 \\times 10^{3}$, con truncamiento.\n",
        "\n",
        "$\\color{green}{Diferencia\\ entre\\ truncamiento\\ y\\ redondeo}$\n",
        "\n",
        "Cuando truncamos un número dado, siempre aproximamos con el\n",
        "elemento menor o igual (perteneciente al sistema de punto flotante en\n",
        "cuestión), mientras que cuando redondeamos puede ser que se\n",
        "aproxime al menor o al mayor, dependiendo de su cercanía a\n",
        "cualquiera de estos dos números o si se da un empate entre el mayor y\n",
        "menor."
      ]
    },
    {
      "cell_type": "markdown",
      "metadata": {
        "id": "43GTH0lkUiRd"
      },
      "source": [
        "<center>\n",
        "<img src=\"https://github.com/jugernaut/Prometeo/blob/desarrollo/Figuras/gracias.png?raw=1\" width=\"600\"> \n",
        "</center>"
      ]
    }
  ]
}
{
  "nbformat": 4,
  "nbformat_minor": 0,
  "metadata": {
    "colab": {
      "name": "04_RepresentacionIEEE.ipynb",
      "provenance": [],
      "toc_visible": true,
      "include_colab_link": true
    },
    "kernelspec": {
      "name": "python3",
      "display_name": "Python 3"
    },
    "language_info": {
      "name": "python"
    }
  },
  "cells": [
    {
      "cell_type": "markdown",
      "metadata": {
        "id": "view-in-github",
        "colab_type": "text"
      },
      "source": [
        "<a href=\"https://colab.research.google.com/github/jugernaut/Prometeo/blob/desarrollo/06_AnalisisNumerico/01_AritmeticadePuntoFlotante/04_RepresentacionIEEE.ipynb\" target=\"_parent\"><img src=\"https://colab.research.google.com/assets/colab-badge.svg\" alt=\"Open In Colab\"/></a>"
      ]
    },
    {
      "cell_type": "markdown",
      "metadata": {
        "id": "xqiOePHS80Ko"
      },
      "source": [
        "<font color=\"Teal\" face=\"Comic Sans MS,arial\">\n",
        "  <h1 align=\"center\"><i>Representación IEEE 754-2008\n",
        "en punto flotante</i></h1>\n",
        "  </font>\n",
        "  <font color=\"Black\" face=\"Comic Sans MS,arial\">\n",
        "  <h5 align=\"center\"><i>Profesora: \tUrsula Xiomara Iturrarán Viveros</i></h5>\n",
        "    <h5 align=\"center\"><i>Ayudante: Juan Pablo Cordero Santiago</i></h5>\n",
        "  <h5 align=\"center\"><i>Materia: Análisis Numérico</i></h5>\n",
        "  </font>\n",
        "\n",
        "Este sitio puede ser usado libremente, tanto por profesores como por estudiantes, que deseen complementar sus cursos y conocimientos en los temas antes mencionados. Los materiales están bajo una Licencia Creative Commons Atribución-NoComercial-CompartirIgual 4.0 Internacional\n",
        "\n",
        "<a rel=\"license\" href=\"http://creativecommons.org/licenses/by-nc-sa/4.0/\"><img alt=\"Licencia Creative Commons\" style=\"border-width:0\" src=\"https://i.creativecommons.org/l/by-nc-sa/4.0/88x31.png\" /></a><br />Esta obra está bajo una <a rel=\"license\" href=\"http://creativecommons.org/licenses/by-nc-sa/4.0/\">Licencia Creative Commons Atribución-NoComercial-CompartirIgual 4.0 Internacional</a>.\n",
        "\n",
        "Trabajo realizado con el apoyo del Programa UNAM-DGAPA-PAPIME PE101019"
      ]
    },
    {
      "cell_type": "markdown",
      "metadata": {
        "id": "3TcPHVNs80PE"
      },
      "source": [
        "# **Algo de Historia**"
      ]
    },
    {
      "cell_type": "markdown",
      "metadata": {
        "id": "LPJ7fho480TZ"
      },
      "source": [
        "En los 1960's y 1970's un programador que usará cálculos con punto flotante tenía que lidiar con diferente tipo de hardware. \n",
        "\n",
        "Cada marca de computadora soportaba su propio rango de precisión para sus números de punto flotante y redondeaban esta aritmética a su modo particular. $\\color{red}{La\\ Era\\ de\\ la\\ Anarqu\\acute{i}a}$ de los sistemas de punto flotante\n",
        "\n",
        "En 1976 $\\color{blue}{Intel}$ empezó a diseñar sus co-procesadores i8086/8 y microprocesadores i432. El Dr. John Palmer persuadió $\\color{blue}{Intel}$ de la necesidad de crear un estándar para los sistemas de punto flotante.\n",
        "\n",
        "William Kahan analizó la importancia comercial de tener un software portable con una aritmética de punto flotante estándar. También ayudó a mejorar el valor de la linea de calcuadoras $\\color{green}{Hewlett-Packard}$\n",
        "\n",
        "$\\color{blue}{Intel}$ decidió que quería la $\\color{red}{mejor\\ aritm\\acute{e}tica\\ de\\ punto\\ flotante}$, pues quería vender un número muy grande de procesadores i8087. $\\color{red}{$$$$$$}$"
      ]
    },
    {
      "cell_type": "markdown",
      "metadata": {
        "id": "wOD8ifbv80X8"
      },
      "source": [
        "# **Norma IEEE p754**"
      ]
    },
    {
      "cell_type": "markdown",
      "metadata": {
        "id": "ZGshwac280cV"
      },
      "source": [
        "En 1977 hubo una reunión para establecer este nuevo estándar, entre compañías que producían micro-procesadores como $\\color{green}{National\\ Semiconductor}$, $\\color{purple}{Zilog}$, $\\color{blue}{Motorola}$ y productores de Mainframes, como CDC, Cray, IBM.\n",
        "\n",
        "Después de esta reunión el $\\color{blue}{Dr.\\ William\\ Kahan}$ regresó a Intel para colaborar en el nuevo estándar que primero se llamó $\\color{blue}{K-C-S}$ hasta que se adoptó $\\color{red}{IEEE-p744}$. Obtuvo permiso de Intel para describir, $\\color{blue}{la precision}$, $\\color{green}{los\\ rangos\\ de\\ exponentes}$, $\\color{blue}{valores\\ especiales}$ (Not-a-Number NaN e Infinity) y $\\color{green}{formatos\\ de\\ almacenamiento}$ que eran distintos de los de la VAX.\n",
        "\n",
        "Hasta los 80’s casi todas las computadoras daban cero cuando se producía un Underflow\n"
      ]
    },
    {
      "cell_type": "markdown",
      "metadata": {
        "id": "ZL6I9lU_80fh"
      },
      "source": [
        "## Norma IEEE p754-1985\n",
        "\n",
        "El estándar IEEE define básicamente dos formatos: $\\color{red}{simple\\ (binary32)}$ y $\\color{red}{doble\\ (binary64)}$. Para cada uno de ellos se asocia un formato extendido.\n",
        "\n",
        "\\begin{array}{|c|c|c|c|}\n",
        "\\hline\n",
        "Format & Hidden\\ Bit? & p & e_{min} & e_{max}\\\\\n",
        "\\hline\n",
        "Single\\ precision & yes & 24 & -126 & 127\\\\\n",
        "\\hline\n",
        "Double\\ precision & yes & 53 & -1023 & 1023\\\\\n",
        "\\hline\n",
        "Single-extended & optional & \\geq 32 & \\leq -1022 & \\geq 1023\\\\\n",
        "\\hline\n",
        "Double-extended & optional & \\geq 64 & \\leq -16382 & \\geq 16383\\\\\n",
        "\\hline\n",
        "Double-extended(IA12) & no & 64 & -16382 & 16383\\\\\n",
        "\\hline\n",
        "\\end{array}\n",
        "\n",
        "Estos formatos proveen un representación consistente de números de punto flotante para todas las máquinas que adopten el estándar\n",
        "\n",
        "Las operaciones son correctamente redondeadas en punto flotante, usando varios modos de redondeo.\n",
        "\n",
        "El formato provee un tratamiento consistente de situaciones excepcionales tales como división por cero.\n"
      ]
    },
    {
      "cell_type": "markdown",
      "metadata": {
        "id": "sdutiswi80it"
      },
      "source": [
        "# **Formato simple (32-bits)**"
      ]
    },
    {
      "cell_type": "markdown",
      "metadata": {
        "id": "a1FhZnq_80mA"
      },
      "source": [
        "1 bit para el signo\n",
        "\n",
        "8 bits para el exponente (escrito en representación sesgada o por exceso)\n",
        "\n",
        "23 bits para el significado\n",
        "\n",
        "Representaciones especiales para números como el  0, ±∞ y/o NaN. Estas \n",
        "representaciones se llaman números subnormales.\n"
      ]
    },
    {
      "cell_type": "markdown",
      "metadata": {
        "id": "0621ZKdI80pq"
      },
      "source": [
        "# **El formato simple IEEE**"
      ]
    },
    {
      "cell_type": "markdown",
      "metadata": {
        "id": "JQ_uAJ_L80tt"
      },
      "source": [
        "\\begin{array}{|c|c|}\n",
        "\\hline\n",
        "\\pm & a_{1}a_{2}a_{3}a_{4}a_{5}a_{6}a_{7}a_{8} & b_{1}b_{2}b_{3}b_{4}b_{5}b_{6}b_{7}...b_{23}\\\\\n",
        "\\hline\n",
        "\\end{array}\n",
        "\n",
        "\\begin{array}{c|c}\n",
        "Si\\ los\\ bits\\ del\\ exponente\\ a_{1}a_{2}a_{3}a_{4}a_{5}a_{6}a_{7}a_{8} & El\\ valor\\ representado\\ es\\\\\n",
        "\\hline\n",
        "\\color{yellow}{(00000000)_{2} = (0)_{10}} & $\\color{yellow}{+- (0.b_{1}b_{2}b_{3}...b_{23}) \\times 2^{-126}}$\\\\\n",
        "\\hline\n",
        "(00000001)_{2} = (1)_{10} & +- (1.b_{1}b_{2}b_{3}...b_{23}) \\times 2^{-126}\\\\\n",
        "(00000010)_{2} = (1)_{10} & +- (1.b_{1}b_{2}b_{3}...b_{23}) \\times 2^{-125}\\\\\n",
        "(00000011)_{2} = (1)_{10} & +- (1.b_{1}b_{2}b_{3}...b_{23}) \\times 2^{-124}\\\\\n",
        "... & ...\\\\\n",
        "(01111111)_{2} = (127)_{10} & +- (1.b_{1}b_{2}b_{3}...b_{23}) \\times 2^{0}\\\\\n",
        "(10000000)_{2} = (128)_{10} & +- (1.b_{1}b_{2}b_{3}...b_{23}) \\times 2^{1}\\\\\n",
        "... & ...\\\\\n",
        "(11111100)_{2} = (252)_{10} & +- (1.b_{1}b_{2}b_{3}...b_{23}) \\times 2^{125}\\\\\n",
        "(11111101)_{2} = (253)_{10} & +- (1.b_{1}b_{2}b_{3}...b_{23}) \\times 2^{126}\\\\\n",
        "(11111110)_{2} = (254)_{10} & +- (1.b_{1}b_{2}b_{3}...b_{23}) \\times 2^{127}\\\\\n",
        "\\hline\n",
        "\\color{yellow}{(11111111)_{2} = (255)_{10}} & \\color{yellow}{+- \\infty\\ si\\ b_{1}=b_{2}=...=b_{23}=b_{0};\\ si\\ no\\ NAN}\\\\\n",
        "\\hline\n",
        "\\end{array}\n",
        "\n"
      ]
    },
    {
      "cell_type": "markdown",
      "metadata": {
        "id": "E5SFQQxo80x3"
      },
      "source": [
        "Representación $\\color{red}{sesgada}$ o por $\\color{red}{exceso}$ del exponente\n",
        "\n",
        "La cadena de bits que se almacena para el exponente es la representación binaria de $\\color{red}{E+127}$. El número 127 que se añade al exponente deseado $E$ se llama el $\\color{red}{sesgo} exponencial o también el $\\color{red}{exceso}.\n",
        "\n",
        "El número $1=(1.00000...0)_{2} \\times 2^{0}$ se almacena\n",
        "\n",
        "$$\\color{blue}{0} \\quad \\color{yellow}{01111111} \\quad \\color{red}{00000000000000000000000}$$\n",
        "\n",
        "La cadena de bits del exponente es la representación binaria de $\\color{red}{0+127}$."
      ]
    },
    {
      "cell_type": "markdown",
      "metadata": {
        "id": "aeDyXy9O801J"
      },
      "source": [
        "## Representación por exceso o sesgada\n",
        "\n",
        "La idea detrás de la representación $\\color{red}{sesgada}$ o por $\\color{red}{exceso}$ del exponente es $\\color{blue}{mapear}$ un intervalo de exponentes positivos y negativos en un intervalo de exponentes estrictamente positivos.\n",
        "\n",
        "Para el caso del $\\color{red}{formato\\ simple}$, definimos una función\n",
        "$f(E)=\\color{red}{127}+E$, esta función irá del intervalo $f:[-126,127] \\Rightarrow [1,254]$ donde el exponente es un entero $E \\in [-126,127]=[E_{min},E_{max}].$\n",
        "\n",
        "Para este caso tenemos 8 bits para el exponente, lo cual nos da $2^{8}=256$ posibles combinaciones de 1’s y 0’s, reservamos las cadenas $\\color{red}{00000000}$ y $\\color{red}{11111111}$ (para representar el número $\\pm 0$ y $\\pm \\infty$), nos quedan 254 posibles combinaciones de 1’s y 0’s que son los números enteros en el intervalo $[1,254]$.\n",
        "\n",
        "Para el $\\color{red}{formato\\ doble}$ la función que usaremos es $f(E)=\\color{red}{1023}+E$ que irá del intervalo $f:[-1022,1023] \\Rightarrow [1,2046]$, reservando las cadenas $\\color{red}{00000000000}$ y $\\color{red}{11111111111}$."
      ]
    },
    {
      "cell_type": "markdown",
      "metadata": {
        "id": "94rAUK718040"
      },
      "source": [
        "El número $\\frac{11}{2}=(1.011)_{2} \\times 2^{2}$ se guarda como\n",
        "\n",
        "$$\\color{blue}{0} \\quad \\color{yellow}{10000001} \\quad \\color{red}{01100000000000000000000}$$\n",
        "\n",
        "El número $\\frac{1}{10}=(1.100110011...)_{2} \\times 2^{-4}$ tiene una expansión binaria infinita. Si la truncamos para que ajuste al tamaño del campo del significado, se almacena:\n",
        "\n",
        "$$\\color{blue}{0} \\quad \\color{yellow}{01111011} \\quad \\color{red}{10011001100110011001100}$$\n",
        "\n",
        "El tamaño de variación de las cadenas de bits para el campo del exponente en números normalizados es $00000001$ a $11111110$ (correspondientes a los enteros base 10 de 1 a 254), representando exponentes efectivos que van de $E_{min}=-126$ a $E_{max}=127$. El número positivo normalizado más pequeño que puede almacenarse esta representado por:\n",
        "\n",
        "$$\\color{blue}{0} \\quad \\color{yellow}{00000001} \\quad \\color{red}{00000000000000000000000}$$"
      ]
    },
    {
      "cell_type": "markdown",
      "metadata": {
        "id": "0HJocCF3808E"
      },
      "source": [
        "El número $\\color{red}{positivo\\ normalizado\\ m\\acute{a}s\\ pequeno}$ último número se representa por\n",
        "\n",
        "$N_{min}=(1.000...0)_{2} \\times 2^{-126}=2^{-126} \\approx 1.2 \\times 10^{-38}$\n",
        "\n",
        "El mayor número $\\color{red}{normalizado}$ se representa como:\n",
        "\n",
        "$$\\color{blue}{0} \\quad \\color{yellow}{11111110} \\quad \\color{red}{1111111111111111111111}$$  \n",
        "\n",
        "y se denota como\n",
        "\n",
        "$N_{max}=(1.11111...1)_{2} \\times 2^{127} \\approx 3.4 \\times 10^{38}$\n"
      ]
    },
    {
      "cell_type": "markdown",
      "metadata": {
        "id": "thN1M7fd80_U"
      },
      "source": [
        "Aunque $2^{-126}$ es el número normalizado más pequeño que se puede representar podemos usar la combinación de la cadena especial de bits de exponente y una cadena no nula de bits en la fracción para representar números más pequeños llamados: $\\color{red}{N\\acute{u}meros\\ subnormales}$.\n",
        "\n",
        "Por ejemplo $2^{-127}$ que es igual a $(0.1)_{2} \\times 2^{-126}$ se representa como\n",
        "\n",
        "$$\\color{blue}{0} \\quad \\color{yellow}{00000000} \\quad \\color{red}{10000000000000000000000}$$\n",
        "\n",
        "Mientras que $2^{-149} =(0.0000...01)_{2} \\times 2^{-126}$ (22 bits después del punto binario) se alamacena como\n",
        "\n",
        "$$\\color{blue}{0} \\quad \\color{yellow}{00000000} \\quad \\color{red}{00000000000000000000001}$$"
      ]
    },
    {
      "cell_type": "markdown",
      "metadata": {
        "id": "NC-lfEOx81CT"
      },
      "source": [
        "Este último $(2^{-126})$ es el número más pequeño positivo que puede almacenarse. En la primera linea de la tabla anterior, el $2^{-126}$ nos permite representar números en el intervalo inmediatamente inferior al más pequeño número normalizado.\n",
        "\n",
        "Los números subnormales no se pueden normalizar, ya que su normalización daría lugar a un exponente que no cabe en el campo de 8 bits asignado. \n"
      ]
    },
    {
      "cell_type": "markdown",
      "metadata": {
        "id": "loDsPmJj81GG"
      },
      "source": [
        "# **El formato doble IEEE**"
      ]
    },
    {
      "cell_type": "markdown",
      "metadata": {
        "id": "WAgkxP8z81KN"
      },
      "source": [
        "\\begin{array}{|c|c|}\n",
        "\\hline\n",
        "\\pm & a_{1}a_{2}a_{3}a_{4}...a_{10}a_{11} & b_{1}b_{2}b_{3}b_{4}b_{5}b_{6}b_{7}...b_{52}\\\\\n",
        "\\hline\n",
        "\\end{array}\n",
        "\n",
        "\\begin{array}{c|c}\n",
        "Si\\ los\\ bits\\ del\\ exponente\\ a_{1}a_{2}a_{3}a_{4}a_{5}a_{6}a_{7}a_{8} & El\\ valor\\ representado\\ es\\\\\n",
        "\\hline\n",
        "\\color{yellow}{(00000000000)_{2} = (0)_{10}} & $\\color{yellow}{+- (0.b_{1}b_{2}b_{3}...b_{23}) \\times 2^{-1022}}$\\\\\n",
        "\\hline\n",
        "(00000000001)_{2} = (1)_{10} & +- (1.b_{1}b_{2}b_{3}...b_{23}) \\times 2^{-1022}\\\\\n",
        "(00000000010)_{2} = (2)_{10} & +- (1.b_{1}b_{2}b_{3}...b_{23}) \\times 2^{-1021}\\\\\n",
        "(00000000011)_{2} = (3)_{10} & +- (1.b_{1}b_{2}b_{3}...b_{23}) \\times 2^{-1020}\\\\\n",
        "... & ...\\\\\n",
        "(01111111111)_{2} = (1023)_{10} & +- (1.b_{1}b_{2}b_{3}...b_{23}) \\times 2^{0}\\\\\n",
        "(10000000000)_{2} = (1024)_{10} & +- (1.b_{1}b_{2}b_{3}...b_{23}) \\times 2^{1}\\\\\n",
        "... & ...\\\\\n",
        "(11111111100)_{2} = (2044)_{10} & +- (1.b_{1}b_{2}b_{3}...b_{23}) \\times 2^{1021}\\\\\n",
        "(11111111101)_{2} = (2045)_{10} & +- (1.b_{1}b_{2}b_{3}...b_{23}) \\times 2^{1022}\\\\\n",
        "(11111111110)_{2} = (2046)_{10} & +- (1.b_{1}b_{2}b_{3}...b_{23}) \\times 2^{1023}\\\\\n",
        "\\hline\n",
        "\\color{yellow}{(11111111111)_{2} = (2047)_{10}} & \\color{yellow}{+- \\infty\\ si\\ b_{1}=b_{2}=...=b_{52}=b_{0};\\ si\\ no\\ NAN}\\\\\n",
        "\\hline\n",
        "\\end{array}"
      ]
    },
    {
      "cell_type": "markdown",
      "metadata": {
        "id": "anktQzhb81OE"
      },
      "source": [
        "El número positivo $\\color{red}{normalizado}$ más pequeño en formato doble es\n",
        "\n",
        "$N_{min}=2^{-1022} \\approx 2.2 \\times 10^{-308}$\n",
        "\n",
        "El mayor número $\\color{red}{normalizado}$ $N_{max}=(1.11111........1)_{2} \\times 2^{1203} \\approx 1.8 \\times 10^{308}$\n",
        "\n",
        "La representación sesgada o por exceso del exponente esta dada ahora por $\\color{red}{E+1023}$ siendo $E_{max}=1023$ y $E_{min}=-1022$.\n"
      ]
    },
    {
      "cell_type": "markdown",
      "metadata": {
        "id": "AglGwcMF81f0"
      },
      "source": [
        "# **Formato simple, doble y extendido IEEE**"
      ]
    },
    {
      "cell_type": "markdown",
      "metadata": {
        "id": "bueO7uFm81i5"
      },
      "source": [
        "\\begin{array}{|c|c|c|c|}\n",
        "\\hline\n",
        "\\color{yellow}{Formato} & \\color{yellow}{E_{min}} & \\color{yellow}{E_{max}} & \\color{yellow}{N_{min}} & \\color{yellow}{N_{max}}\\\\\n",
        "\\hline\n",
        "\\color{yellow}{Simple} & \\color{yellow}{-126} & \\color{yellow}{127} & \\color{yellow}{2^{-126}} & \\color{yellow}{\\approx 2^{128}}\\\\\n",
        "\\hline\n",
        "\\color{yellow}{Doble} & \\color{yellow}{-1022} & \\color{yellow}{1023} & \\color{yellow}{2^{-1022}} & \\color{yellow}{\\approx 2^{1024}}\\\\\n",
        "\\hline\n",
        "\\end{array}\n",
        "\n",
        "Formato extendido:\n",
        "\n",
        "1 bit para el signo, 15 bits para el exponente y 64 para el significado\n"
      ]
    },
    {
      "cell_type": "markdown",
      "metadata": {
        "id": "uJkZ1IBT81mO"
      },
      "source": [
        "# **Precisión y epsilón de máquina**"
      ]
    },
    {
      "cell_type": "markdown",
      "metadata": {
        "id": "fdJjZFja81pd"
      },
      "source": [
        "La precisión para el IEEE simple es $p=24$ (incluido el bit escondido)\n",
        "\n",
        "Para el formato doble la precisión es $p=53$\n",
        "\n",
        "Cuando se habla de precisión simple o doble, se refiere a la precisión del estándar IEEE para estos formatos.\n",
        "\n",
        "El epsilón de la máquina ($\\color{red}{n\\acute{u}mero\\ positivo\\ m\\acute{a}s\\ pequeño\\ que\\ sumado\\ a\\ 1\\ el\\ resultado\\ es\\ mayor\\ que\\ 1}$) para estos formatos es $\\beta^{-(p-1)}$:\n",
        "\n",
        "\\begin{array}{c}\n",
        "Formato\\ simple &     \\varepsilon=2^{-23} \\approx 1.19 \\times 10^{-7}\\\\\n",
        "Formato\\ doble   &     \\varepsilon=2^{-52} \\approx 2.22 \\times 10^{-16}\\\\\n",
        "Formato\\ extendido\\ (doble\\ largo=float80) & \\varepsilon =2^{-63} \\approx 1.08 \\times 10^{-19}\n",
        "\\end{array}\n"
      ]
    },
    {
      "cell_type": "markdown",
      "metadata": {
        "id": "xueyzm6t81s1"
      },
      "source": [
        "# **Norma IEEE p754-2008**"
      ]
    },
    {
      "cell_type": "markdown",
      "metadata": {
        "id": "KXrc4u1981wB"
      },
      "source": [
        "En 2008 se hace una revisión del estandar y entre otras cosas se incluyen dos nuevos formatos: El formato $\\color{red}{Cu\\acute{a}druple}$ y el $\\color{red}{\\acute{O}ctuple}$ también llamados binary128 y binary265 \n",
        "\n",
        "El formato $\\color{red}{cu\\acute{a}druple}$ tiene: $\\color{red}{1\\ bit}$ para el $\\color{blue}{signo}$, $\\color{red}{15\\ bits}$ para el $\\color{blue}{exponente}$ y 113 bits ($\\color{red}{112\\ bits}$ explícitamente almacenados) para la $\\color{blue}{mantisa}$.\n",
        "\n",
        "<center>\n",
        "<img src=\"https://github.com/jugernaut/Prometeo/blob/desarrollo/Figuras/ma.png?raw=1\" width=\"600\"> \n",
        "</center>\n",
        "\n",
        "Los exponentes mínimo y máximo son:\n",
        "\n",
        "$E_{min} =-16382, \\quad E_{max} =16383.$\n",
        "\n",
        "El cálculo cuádruple se implementa en software con diversas técnicas. \n",
        "\n",
        "El soporte en Hardware es más raro, pero la IBM POWER9 CPU (ISA 3.0) tiene un software nativo de 128-bits.\n"
      ]
    },
    {
      "cell_type": "markdown",
      "metadata": {
        "id": "e3DdChkB81zm"
      },
      "source": [
        "El formato $\\color{red}{\\acute{O}ctuple}$ tiene: $\\color{red}{1\\ bit}$ para el $\\color{blue}{signo}$, $\\color{red}{19\\ bits}$ para el $\\color{blue}{exponente}$ y 237 bits ($\\color{red}{236\\ bits}$ explícitamente almacenados) para la $\\color{blue}{mantisa}$.\n",
        "\n",
        "<center>\n",
        "<img src=\"https://github.com/jugernaut/Prometeo/blob/desarrollo/Figuras/ma2.png?raw=1\" width=\"600\"> \n",
        "</center>\n",
        "\n",
        "Los exponentes mínimo y máximo son: \n",
        "\n",
        "$E_{min} =-262142, \\quad E_{max} =262143.$\n",
        "\n",
        "La implementación en cálculo óctuple es raramente implementada pues su uso es extremadamente raro, solo en algunas simulaciones astrofísicas.  \n",
        "\n",
        "No hay soporte en Hardware pues la precisión aritmética es muy impráctica para la mayoría de los usos comerciales."
      ]
    },
    {
      "cell_type": "markdown",
      "metadata": {
        "id": "-wmndSup812_"
      },
      "source": [
        "# **Formatos de Punto Flotante Actuales**"
      ]
    },
    {
      "cell_type": "markdown",
      "metadata": {
        "id": "cbEQ5cUb816G"
      },
      "source": [
        "\\begin{array}{|c|c|c|c|}\n",
        "\\hline\n",
        "Type & Bits & Range & Epsil\\acute{o}n\\ de\\ la\\ m\\acute{a}quina\\\\\n",
        " & & & u = 2^{-t} \\\\\n",
        "\\hline\n",
        " \\color{green}{bfloat16 \\quad half} & \\color{green}{16} & \\color{green}{10^{\\pm 35}} & \\color{green}{2^{-8} \\approx 3.9 \\times 10^{-3}} \\\\\n",
        " \\color{green}{fp16 \\quad half} & \\color{green}{16} & \\color{green}{10^{\\pm 5}} & \\color{green}{2^{-11} \\approx 4.9 \\times 10^{-4}} \\\\\n",
        " \\hline\n",
        " \\color{orange}{fp32 \\quad single} & \\color{orange}{32} & \\color{orange}{10^{\\pm38}} & \\color{orange}{2^{-24} \\approx 6.0 \\times 10^{-8}} \\\\\n",
        " \\hline\n",
        " \\color{purple}{fp64 \\quad double} & \\color{purple}{64} & \\color{purple}{10^{\\pm 308}} & \\color{purple}{2^{-53} \\approx 1.1 \\times 10^{-16}} \\\\\n",
        " \\hline\n",
        " \\color{yellow}{fp128 \\quad quadruple} & \\color{yellow}{128} & \\color{yellow}{10^{4932}} & \\color{yellow}{2^{-113} \\approx 9.6 \\times 10^{-35}} \\\\\n",
        " \\hline\n",
        "\\end{array}\n",
        "\n",
        "Los fp’s  forman parte de los estándares del IEEE\n",
        "\n",
        "**bfloat16** es usado por Google TPU (Tensor processing unit) y para el Procesador Intel Nervana Neural Network"
      ]
    },
    {
      "cell_type": "markdown",
      "metadata": {
        "id": "2luEsSie81-S"
      },
      "source": [
        "## Formatos **bp16** y **bfloat16**\n",
        "\n",
        "<center>\n",
        "<img src=\"https://github.com/jugernaut/Prometeo/blob/desarrollo/Figuras/formatos.png?raw=1\" width=\"800\"> \n",
        "</center>"
      ]
    },
    {
      "cell_type": "markdown",
      "metadata": {
        "id": "wV3oXzDx82CU"
      },
      "source": [
        "## Precisión cuádruple, formato: **binary128**\n",
        "\n",
        "En la revisión del 2008 del estándar IEEE 754 se específica el formato **binary128** entre los formatos intercambiables (no es un formato básico)\n",
        "\n",
        "* 1 bit para el signo\n",
        "* 15 bits para el exponente\n",
        "  * Exponente mínimo$=E_{min}=-16382$ \n",
        "  * Exponente máximo$=E_{max}=16383$ \n",
        "* 113 bits (112 explícitamente almacenados) aproximadamente 71 cifras decimales $log_{10}(2237) \\approx 71$. El bit no almacenado es el bit escondido. \n",
        "\n",
        "<center>\n",
        "<img src=\"https://github.com/jugernaut/Prometeo/blob/desarrollo/Figuras/ma3.png?raw=1\" width=\"600\"> \n",
        "</center>"
      ]
    },
    {
      "cell_type": "markdown",
      "metadata": {
        "id": "0YokwnKE82GY"
      },
      "source": [
        "## Precisión óctuple, formato: **binary256**\n",
        "\n",
        "En la revisión del 2008 del estándar IEEE 754 se específica el formato **binary256** entre los formatos intercambiables (no es un formato básico)\n",
        "\n",
        "* 1 bit para el signo\n",
        "* 19 bits para el exponente\n",
        "  * Exponente mínimo=Emin=-262142 \n",
        "  * Exponente máximo=Emax=262143 \n",
        "* 237 bits (236 explícitamente almacenados) aproximadamente 71 cifras decimales log10(2237) ≈71. El bit no almacenado es el bit escondido.\n",
        "\n",
        "<center>\n",
        "<img src=\"https://github.com/jugernaut/Prometeo/blob/desarrollo/Figuras/ma4.png?raw=1\" width=\"600\"> \n",
        "</center>"
      ]
    },
    {
      "cell_type": "markdown",
      "metadata": {
        "id": "e_ZXQWzq82Kv"
      },
      "source": [
        "# **Dígitos significativos**"
      ]
    },
    {
      "cell_type": "markdown",
      "metadata": {
        "id": "fZwvgjmm82Oq"
      },
      "source": [
        "La $\\color{red}{precisi\\acute{o}n\\ simple}$ corresponde a p=24, aproximadamente a $\\color{red}{7\\ d\\acute{i}gitos\\ decimales}$ significativos, dado que $2^{-24} \\approx 10^{-7}$. Equivalentemente $log_{10}(2^{24}) \\approx 7$.\n",
        "\n",
        "La $\\color{red}{precisi\\acute{o}n\\ doble}$ $p=53$ corresponde a $\\color{red}{aproximadamente\\ 16\\ d\\acute{i}gitos\\ decimales}$ significativos.\n",
        "\n",
        "La $\\color{red}{precisi\\acute{o}n\\ cu\\acute{a}druple}$ $p=113$ corresponde a $\\color{red}{aproximadamente\\ 34\\ d\\acute{i}gitos\\ decimales}$ significativos.\n",
        "\n",
        "La $\\color{red}{precisi\\acute{o}n\\ \\acute{o}ctuple}$ $p=237$ corresponde a $\\color{red}{aproximadamente\\ 71\\ d\\acute{i}gitos\\ decimales}$ significativos"
      ]
    },
    {
      "cell_type": "markdown",
      "metadata": {
        "id": "ELLl-2mH82R5"
      },
      "source": [
        "# **Redondeo**"
      ]
    },
    {
      "cell_type": "markdown",
      "metadata": {
        "id": "3U7tYFga82VE"
      },
      "source": [
        "Vimos que cualquier número de punto flotante se puede expresar de la forma: \n",
        "$$x= (1.b_{1}b_{2},...,b_{p-2}b_{p-1}) \\times 2^{E}$$ \n",
        "\n",
        "donde $p$ es la precisión del sistema de punto flotante, $b_{0}=1$ $E_{min} \\leq E \\leq E_{max}$ para los números normalizados, $b_{0}=0$ y $E=E_{min}$ para números subnormales y cero.\n",
        "\n",
        "**Definición:** Decimos que un número $x$ esta en el intervalo normalizado del sistema de punto flotante si $N_{min} \\leq │x│ \\leq N_{max}$"
      ]
    },
    {
      "cell_type": "markdown",
      "metadata": {
        "id": "Zj2jVIZu82YG"
      },
      "source": [
        "Supongamos que un número real $x$ no es un número de punto flotante, entonces debe ser verdadera una de las dos proposiciones (o ambas):\n",
        "\n",
        "$\\color{blue}{x\\ esta\\ fuera\\ del\\ intervalo\\ normalizado\\ (su\\ valor\\ absoluto\\ es\\ mayor\\ que\\ N_{max}\\ o\\ menor\\ que\\ N_{min}).\\ \\quad Por\\ ejemplo\\ los\\ n\\acute{u}meros\\ 2^{130}\\ y\\ 2^{-130}\\ estan\\ ambos\\ fuera\\ del\\ intervalo\\ normalizado\\ del\\ formato\\ simple.}$\n",
        "\n",
        "La expansión binaria de $x$ requiere más de $p$ bits para especificar exactamente el número. Equivalentemente la expresión de punto flotante es demasiado pequeña para representar $x$ exactamente. Por ejemplo el número $1+2^{-25}=(1.0000000000000000000000001)_{2}$ requiere más bits para representarlo que los disponibles en el formato simple.  "
      ]
    },
    {
      "cell_type": "markdown",
      "metadata": {
        "id": "wZJs2d2T82bz"
      },
      "source": [
        "**Definimos:** $x^{-}$ como el número de punto flotante más cercano a $x$ que es menor o igual que $x$. \n",
        "\n",
        "**Defininos:** $x^{+}$ como el número de punto flotante más cercano a $x$ que es mayor o igual que $x$. \n",
        "\n",
        "Si el número más cercano es cero establecemos que el signo de cero es igual al de $x$.\n",
        "\n",
        "Sea $x=(1.b_{1}b_{2},...,b_{p-2}b_{p-1}b_{p}b_{p+1}....)_{2} \\times 2^{E}$, el número más cercano de punto flotante menor o igual a $x$ es \n",
        "$x^{-}=(1.b_{1}b_{2},...,b_{p-2}b_{p-1})_{2} \\times 2^{E}$, es decir que $x^{-}$ se obtiene por truncamiento de de la expansión binaria del significado, descartando $b_{p}b_{p+1}$."
      ]
    },
    {
      "cell_type": "markdown",
      "metadata": {
        "id": "GkIhK1I882fY"
      },
      "source": [
        "Si $x$ no es un número de punto flotante, al menos uno de los bits descartados en su expansión no es cero entonces:\n",
        "\n",
        "$x^{+}=((1.b_{1}b_{2},...,b_{p-2}b_{p-1})_{2} + (0.00...0 \\color{red}{1})_{2}) \\times 2^{E}$, es el siguiente número de punto flotante más grande que $x^{-}$  y por consiguiente también el siguiente mayor que $x$. Nótese que el $\\color{red}{1}$ está en la posición $p-1$ después del punto binario, de forma que el espacio vacío entre $x^{-}$  y $x^{+}$ es  $2^{-(p-1)} \\times 2^{E}$.\n",
        "\n",
        "Encontrar la expansión para $x^{+}$ es más difícil pues debe sumarse un bit en el último lugar del campo fraccionario de $x^{-}$ esto causa acarreos y si todos los bits del campo fraccionario son 1 debe haber un incremento en el campo del exponente. "
      ]
    },
    {
      "cell_type": "markdown",
      "metadata": {
        "id": "13JCYsy_82jI"
      },
      "source": [
        "# **Precisión aritmética arbitraria**"
      ]
    },
    {
      "cell_type": "markdown",
      "metadata": {
        "id": "ps4-cu9W82mY"
      },
      "source": [
        "Para permitir precisión aritmética arbitraria con enteros o números de punto flotante, <img src=\"https://github.com/jugernaut/Prometeo/blob/desarrollo/Figuras/julia.png?raw=1\" width=\"40\">  envuelve las librerias $\\color{blue}{GNU}$ $\\color{blue}{Multiple}$ $\\color{blue}{Precision}$ $\\color{blue}{Arithmetic}$ $\\color{blue}{Library}$ $\\color{blue}{(GMP)}$ y la $\\color{blue}{GNU}$ $\\color{blue}{MPFR}$. Los tipos $\\color{red}{BigInt}$ y $\\color{red}{BigFloat}$ están disponibles en Julia para precisión aritmética arbitraria\n",
        "\n",
        "$\\color{red}{IMPORTANTE}$ mencionar que estas librerias son experimentales y no están 100% libres de errores.\n",
        "\n",
        "<center>\n",
        "<img src=\"https://github.com/jugernaut/Prometeo/blob/desarrollo/Figuras/cod.png?raw=1\" width=\"800\"> \n",
        "</center>"
      ]
    },
    {
      "cell_type": "markdown",
      "metadata": {
        "id": "1GF6e30182qD"
      },
      "source": [
        "## Epsilón de la máquina\n",
        "\n",
        "<img src=\"https://github.com/jugernaut/Prometeo/blob/desarrollo/Figuras/julia.png?raw=1\" width=\"40\"> tiene un función $\\color{red}{eps()}$ que nos permite conocer la distancia entre $\\color{red}{1.0}$ y el siguiente número representable:\n",
        "\n",
        "<center>\n",
        "<img src=\"https://github.com/jugernaut/Prometeo/blob/desarrollo/Figuras/cod2.png?raw=1\" width=\"400\"> \n",
        "</center>\n",
        "\n",
        "Estos valores son $2^{-23}$ y $2^{-52}$ como $\\color{red}{Float32}$ y $\\color{red}{Float64}$ respectivamente. La función $\\color{red}{eps()}$ también puede tomar un valor de punto flotante como argumento y nos devuelve el siguiente número de punto flotante representable.\n",
        "\n",
        "<img src=\"https://github.com/jugernaut/Prometeo/blob/desarrollo/Figuras/julia.png?raw=1\" width=\"40\"> también da las funciones $\\color{red}{nextfloat()}$ y $\\color{red}{prevfloat()}$"
      ]
    },
    {
      "cell_type": "markdown",
      "metadata": {
        "id": "omaAqt7ygxre"
      },
      "source": [
        "## Ceros de punto flotante\n",
        "\n",
        "Los sistemas de punto flotante tienen $\\color{red}{dos\\ ceros}$ $\\color{blue}{uno\\ negativo}$ y $\\color{green}{otro\\ positivo}$, son iguales, pero tiene una representación binaria diferente, como se puede ver usando la función $\\color{red}{bits()}$:\n",
        "\n",
        "<center>\n",
        "<img src=\"https://github.com/jugernaut/Prometeo/blob/desarrollo/Figuras/cod3.png?raw=1\" width=\"600\"> \n",
        "</center>"
      ]
    },
    {
      "cell_type": "markdown",
      "metadata": {
        "id": "PT8-EL7rjAEz"
      },
      "source": [
        "# **Valores especiales**"
      ]
    },
    {
      "cell_type": "markdown",
      "metadata": {
        "id": "-bBQt-DK9ZHk"
      },
      "source": [
        "Existen tres valores de punto flotante que no corresponden a ningún valor en la recta real:\n",
        "\n",
        "<center>\n",
        "<img src=\"https://github.com/jugernaut/Prometeo/blob/desarrollo/Figuras/tablapf.png?raw=1\" width=\"600\"> \n",
        "</center>\n",
        "\n",
        "Estos valores resultan de realizar algunas operaciones como a continuación:\n"
      ]
    },
    {
      "cell_type": "markdown",
      "metadata": {
        "id": "ElNbVfkd-Wl_"
      },
      "source": [
        "<center>\n",
        "<img src=\"https://github.com/jugernaut/Prometeo/blob/desarrollo/Figuras/valoresesp.png?raw=1\" width=\"600\"> \n",
        "</center>"
      ]
    }
  ]
}
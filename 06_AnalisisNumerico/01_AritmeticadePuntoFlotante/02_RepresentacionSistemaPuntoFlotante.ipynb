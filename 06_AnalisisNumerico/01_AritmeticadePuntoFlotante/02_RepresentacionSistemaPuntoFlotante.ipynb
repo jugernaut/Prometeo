{
  "nbformat": 4,
  "nbformat_minor": 0,
  "metadata": {
    "colab": {
      "name": "02_RepresentacionSistemaPuntoFlotante.ipynb",
      "provenance": [],
      "toc_visible": true,
      "authorship_tag": "ABX9TyMRpgefHoyiD7IprX+XurEY",
      "include_colab_link": true
    },
    "kernelspec": {
      "name": "python3",
      "display_name": "Python 3"
    },
    "language_info": {
      "name": "python"
    }
  },
  "cells": [
    {
      "cell_type": "markdown",
      "metadata": {
        "id": "view-in-github",
        "colab_type": "text"
      },
      "source": [
        "<a href=\"https://colab.research.google.com/github/jugernaut/Prometeo/blob/desarrollo/06_AnalisisNumerico/01_AritmeticadePuntoFlotante/02_RepresentacionSistemaPuntoFlotante.ipynb\" target=\"_parent\"><img src=\"https://colab.research.google.com/assets/colab-badge.svg\" alt=\"Open In Colab\"/></a>"
      ]
    },
    {
      "cell_type": "markdown",
      "metadata": {
        "id": "jY3v4-zT8p7b"
      },
      "source": [
        "<font color=\"Teal\" face=\"Comic Sans MS,arial\">\n",
        "  <h1 align=\"center\"><i>Representación de los números en sistemas de punto flotante</i></h1>\n",
        "  </font>\n",
        "  <font color=\"Black\" face=\"Comic Sans MS,arial\">\n",
        "  <h5 align=\"center\"><i>Profesora: \tUrsula Xiomara Iturrarán Viveros</i></h5>\n",
        "    <h5 align=\"center\"><i>Ayudante: Juan Pablo Cordero Santiago</i></h5>\n",
        "  <h5 align=\"center\"><i>Materia: Análisis Numérico</i></h5>\n",
        "  </font>"
      ]
    },
    {
      "cell_type": "markdown",
      "metadata": {
        "id": "mi6KtqRm8p_w"
      },
      "source": [
        "# **Representación por medio de Punto fijo**\n",
        "\n",
        "* En esta representación se tienen 32 bits (la palabra de computadora) divididos en 3 campos. El primer lugar lo ocupa el signo y los 31 bits restantes se dividen en dos campos de 15 y 16 bits respectivamente. \n",
        "* El primer campo de 15 bits esta asignado para la parte entera del número.\n",
        "* Los últimos 16 bits se asignan para la parte fraccionaria. \n",
        "* El número 11/2 se representa con esta convención de la siguiente forma\n",
        "* $\\color{blue}{0} \\quad \\color{orange}{0000000000000101} \\quad \\color{red}{1000000000000000}$ "
      ]
    },
    {
      "cell_type": "markdown",
      "metadata": {
        "id": "qT1mov8l8qDw"
      },
      "source": [
        "##Punto fijo\n",
        "* El número 1/10 se almacena aproximadamente como:  $\\color{blue}{0} \\quad    \\color{orange}{000000000000000} \\quad \\color{red}{0001100110011001}$\n",
        "* Este sistema esta severamente limitado por el tamaño de los números que se pueden alamacenar. \n",
        "* En la forma como se plantea el alamacenamiento de los números, se podrían almacenar solo números que varíen en tamaño de 2-16 hasta aproximadamente 215. \n",
        "* Esta limitación no lo hace adecuado para muchas aplicaciones, por lo que la representación de punto fijo, es raramente usada en el cómputo numérico.\n"
      ]
    },
    {
      "cell_type": "markdown",
      "metadata": {
        "id": "2qXhly2x8qHm"
      },
      "source": [
        "La representación de punto flotante se basa en la notación exponencial o científica. En la notación exponencial, un número real diferente de cero $x$ se expresa en decimal como:\n",
        "\n",
        "$x=\\pm S \\times 10^{E}$, donde $1\\leq S<10$ y $E$ es número entero.\n",
        "\n",
        "Los números $S$ y $E$ se llaman el $\\color{red}{significado}$ y el $\\color{red}{exponente}$ respectivamente.\n",
        "\n",
        "Por ejemplo, la representación exponencial de $365.25$ es de $3.6525 \\times 10^{2}$. Por otro lado la representación exponencial del $0.00036525$ es $3.6525 \\times 10^{-4}$.\n"
      ]
    },
    {
      "cell_type": "markdown",
      "metadata": {
        "id": "G_HVsgbE8qLy"
      },
      "source": [
        "Siempre es posible satisfacer el requerimiento de que $1 \\leq S< 10$ ya que $S$ puede obtenerse de $x$ multiplicándolo o dividiéndolo repetidamente por 10, disminuyendo o incrementando el apropiadamente exponente $E$.\n",
        "\n",
        "Podemos imaginar que el punto *decimal flota* hasta la posición inmediata posterior al primer dígito diferente de cero de la expansión decimal del número de aquí el nombre de $\\color{blue}{punto\\ flotante}$. Los números $S$ y $E$ se llaman el significado y el exponente respectivamente.\n",
        "\n",
        "Para la representación en la computadora preferimos la base 2 de forma que escribimos un número $x \\not = 0$ en la forma:  $x=\\pm S \\times 2^{E}$, donde $1 \\leq S < 2$."
      ]
    },
    {
      "cell_type": "markdown",
      "metadata": {
        "id": "-jF__Ygb8qPe"
      },
      "source": [
        "Consecuentemente, la expansión binaria del significado es: $S=(b_{0}.b_{1}b_{2}b_{3}....)_{2}$, con $b_{0}=1$.\n",
        "\n",
        "Por ejemplo, el número $\\frac{11}{2}$ se expresa:\n",
        "\n",
        "$$\\frac{11}{2} = (1.001)_{2} \\times 2^{2}$$\n",
        "\n",
        "Ahora es el punto binario el que flota a la posición posterior al primer bit diferente de cero de la expansión binaria de $x$, cambiando de acuerdo con eso el exponente $E$. Por supesto esto no es posible si el número $x$ es cero, pero por ahora estamos considerando el caso en el que $x \\not =0$. "
      ]
    },
    {
      "cell_type": "markdown",
      "metadata": {
        "id": "6qwbqdry8qSy"
      },
      "source": [
        "Como $b_{0}=1$, podemos escribir $S=(1.b_{1}b_{2}b_{3}....)_{2}$, los bits que siguen al punto binario se llaman la parte fraccionaria del significado, decimos que estas dos expresiones para $S$\n",
        "\n",
        "$S=(b_{0}.b_{1}b_{2}b_{3}....)_{2}$, y $S=(1.b_{1}b_{2}b_{3}....)_{2}$, es la representación normalizada de $x$, y el proceso de obtenerla se llama normailzación.\n",
        "\n",
        "Para almacenar números normalizados dividimos la palabra de computadora en tres campos: $\\color{blue}{el\\ signo,\\ el\\ exponente\\ E\\ y\\ el\\ significado\\ S}$."
      ]
    },
    {
      "cell_type": "markdown",
      "metadata": {
        "id": "mHzvZaxP8qjb"
      },
      "source": [
        "# **Representación por Punto flotante binary32**"
      ]
    },
    {
      "cell_type": "markdown",
      "metadata": {
        "id": "udsQXTCN8qmu"
      },
      "source": [
        "Una palabra de 32 bits podría dividirse en un bit para el signo, 8 bits para el exponente y 23  bits para el siginificado.  \n",
        "\n",
        "Como el exponente son 8 bits, pueden usarse para representar exponentes que esten entre $-126$ a $127$ (recordar que $2^{8}=256-2=254$), $\\frac{254}{2}=127$\n",
        "\n",
        "Puesto que reservaré las cadenas de $11111111$ y $00000000$ para representar el $\\pm \\infty$ y el $0$.\n",
        "\n",
        "Los 23 bits del significado pueden ser usados para almacenar los primeros 23 bits posteriores al punto binario de la expansión binaria de $S$, a saber   $b_{1}, ...., b_{23}$. No es necesario almacenar $b_{0}$ pues sabamos que es igual a $1$. Decimos que $b_{0}$ es un bit escondido.\n",
        "\n",
        "No es posible alamacenar un número $x$, si $E$ esta fuera del intervalo permisible $[-126,127]$ ó a causa de que los bits $b_{24}b_{25}....$ no sean todos cero. "
      ]
    },
    {
      "cell_type": "markdown",
      "metadata": {
        "id": "lzWLDYn18qq8"
      },
      "source": [
        "A un número real se lo llama $\\color{blue}{n\\acute{u}mero\\ de\\ punto\\ flotante}$ si es posible representarlo $\\color{blue}{exactamente}$ en la computadora usando el esquema dado en la representación  en punto flotante.\n",
        "\n",
        "Si un número $x$ no es de punto flotante, debe ser redondeado antes de alamacenarlo en la computadora. \n",
        "\n",
        "El número $\\frac{11}{2}$ se alamacenaría como:\n",
        "$$\\color{blue}{0} \\quad \\color{orange}{ebits(2)} \\quad \\color{red}{01100000000000000000000}$$"
      ]
    },
    {
      "cell_type": "markdown",
      "metadata": {
        "id": "iolHObOv8qu-"
      },
      "source": [
        "El número $71=(1.000111)_{2} \\times 2^{6}$ se alamacenaría como:\n",
        "\n",
        "$\\color{blue}{0} \\quad \\color{orange}{ebits(6)} \\quad \\color{red}{00011100000000000000000}$\n",
        "\n",
        "Para evitar confusiones, los bits del campo del exponente no se muestran explícitamente. La cadena alacenada en el campo del significado es en realidad la parte fraccionaria del significado, nos referimos a este campo como campo fraccionario. \n",
        "\n",
        "Dada una cadena de bits en el campo fraccionario es necesario imaginar que el símbolo “$1$” antecede a la cadena aun cuando este símbolo no se almacena $b_{0}=1$.\n"
      ]
    },
    {
      "cell_type": "markdown",
      "metadata": {
        "id": "u9j9Gn_G8qzF"
      },
      "source": [
        "Si x es una potencia exacta de 2, el siginficado es el número $1$, los bits que se alamacenan en el campo fraccionario son todos cero (dado que b0 no se alamacena). Por ejemplo el número $1=(1.0)_{2} \\times 2^{0}$ se alamacenaría como:\n",
        "\n",
        "$\\color{blue}{0} \\quad \\color{orange}{ebits(0)} \\quad \\color{red}{00000000000000000000000}$\n",
        "\n",
        "El número: 1024=(1.0)2*210 se alamacenaría como: \n",
        "\n",
        "$\\color{blue}{0} \\quad \\color{orange}{ebits(10)} \\quad \\color{red}{00000000000000000000000}$\n",
        "    \n",
        "Ahora consideremos un número mucho mayor $271 =(1.0)_{2} \\times 2^{171}$ es un entero muy grande para ser alamacenado en una palabra de 32 bits usando el formato discutido hasta ahora. Sin embargo se podría representar como punto flotante\n",
        "\n",
        "$\\color{blue}{0} \\quad \\color{orange}{ebits(171)} \\quad \\color{red}{00000000000000000000000}$    "
      ]
    },
    {
      "cell_type": "markdown",
      "metadata": {
        "id": "-F80n5888q29"
      },
      "source": [
        "Si $x$ es un número que no tiene una expansión binaria finita, debemos terminar su expansión en algún lado. Por ejemplo considerar el número $\\frac{1}{10} =(0.0001100110011...)_{2}$, si lo truncamos a 23 bits después del punto binario obtenemos:\n",
        "\n",
        "$(0.00011001100110011001100)_{2}$. Sin embargo, si luego lo normailizamos obtenemos:\n",
        "\n",
        "$(1.1001100110011001100)_{2} \\times 2^{-4}$. De forma que haya un 1 antes del punto binario, encontramos que ahora tenemos 19 bits correctos después del punto binario. Esto nos lleva a la representación necariamente imprecisa\n",
        "\n",
        "$\\color{blue}{0} \\quad \\color{orange}{ebits(-4)} \\quad \\color{red}{10011001100110011000000}$"
      ]
    },
    {
      "cell_type": "markdown",
      "metadata": {
        "id": "v9dju0pO8q6I"
      },
      "source": [
        "Claramente esta no es una buena idea. Es preferible primero normalizar y luego truncar de forma que conservemos los 23 bits correctos después del punto binario\n",
        "\n",
        "$\\color{blue}{0} \\quad \\color{orange}{ebits(-4)} \\quad \\color{red}{10011001100110011001100}$\n",
        "\n",
        "de esta forma se utilizan todos los bits disponibles. \n"
      ]
    },
    {
      "cell_type": "markdown",
      "metadata": {
        "id": "eC2fGPjC8q9W"
      },
      "source": [
        "# **Precisión, epsilón de máquina**"
      ]
    },
    {
      "cell_type": "markdown",
      "metadata": {
        "id": "WSUyl52_8rAm"
      },
      "source": [
        "La precisión del sistema de punto flotante es el número de bits del significado (inclusive el bit escondido). Denotamos la precisión por p. En el sistema que acabamos de describir $p=24$ (23 bits alamacenados para la parte fraccionaria más el bit escondido a la cabeza). Cualquier número de punto flotante normalizado con precisón $p$ puede expresarse como:\n",
        "\n",
        "$X=\\pm (1.b_{1}b_{2},...,b_{p-2}b_{p-1}) \\times 2^{E}$.\n",
        "\n",
        "El más pequeño x mayor que 1 es \n",
        "\n",
        "$(1.00...01)_{2}=1+2^{-(p-1)}=1+\\varepsilon$. Daremos un nombre especial, $\\color{blue}{epsil\\acute{o}n\\ de\\ m\\acute{a}quina}$ al valor\n",
        "$\\varepsilon =(0.00...01)_{2}=2^{-(p-1)}$."
      ]
    }
  ]
}
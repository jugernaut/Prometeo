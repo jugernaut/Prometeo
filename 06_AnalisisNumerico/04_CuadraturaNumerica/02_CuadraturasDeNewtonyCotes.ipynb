{
  "nbformat": 4,
  "nbformat_minor": 0,
  "metadata": {
    "colab": {
      "name": "Copia de 02_CuadraturasDeNewtonyCotes.ipynb",
      "provenance": [],
      "toc_visible": true,
      "include_colab_link": true
    },
    "kernelspec": {
      "name": "python3",
      "display_name": "Python 3"
    },
    "language_info": {
      "name": "python"
    }
  },
  "cells": [
    {
      "cell_type": "markdown",
      "metadata": {
        "id": "view-in-github",
        "colab_type": "text"
      },
      "source": [
        "<a href=\"https://colab.research.google.com/github/jugernaut/Prometeo/blob/desarrollo/06_AnalisisNumerico/04_CuadraturaNumerica/02_CuadraturasDeNewtonyCotes.ipynb\" target=\"_parent\"><img src=\"https://colab.research.google.com/assets/colab-badge.svg\" alt=\"Open In Colab\"/></a>"
      ]
    },
    {
      "cell_type": "code",
      "metadata": {
        "id": "3AtZQ7tkqfH0"
      },
      "source": [
        "from math import exp\n",
        "import numpy as np\n",
        "import matplotlib.pyplot as plt\n",
        "import scipy.integrate as spi\n",
        "from math import pi\n",
        "import math  "
      ],
      "execution_count": null,
      "outputs": []
    },
    {
      "cell_type": "markdown",
      "metadata": {
        "id": "Cmfbkd6yQvIj"
      },
      "source": [
        "<font color=\"Teal\" face=\"Comic Sans MS,arial\">\n",
        "  <h1 align=\"center\"><i>Cuadraturas de Newton y Cotes.</i></h1>\n",
        "  </font>\n",
        "  <font color=\"Black\" face=\"Comic Sans MS,arial\">\n",
        "  <h5 align=\"center\"><i>Profesora: \tUrsula Xiomara Iturrarán Viveros</i></h5>\n",
        "    <h5 align=\"center\"><i>Ayudante: Juan Pablo Cordero Santiago</i></h5>\n",
        "  <h5 align=\"center\"><i>Materia: Análisis Numérico</i></h5>\n",
        "  </font>\n",
        "\n",
        "  # Prometeo\n",
        "\n",
        "Este sitio puede ser usado libremente, tanto por profesores como por estudiantes, que deseen complementar sus cursos y conocimientos en los temas antes mencionados. Los materiales están bajo una Licencia Creative Commons Atribución-NoComercial-CompartirIgual 4.0 Internacional\n",
        "\n",
        "<a rel=\"license\" href=\"http://creativecommons.org/licenses/by-nc-sa/4.0/\"><img alt=\"Licencia Creative Commons\" style=\"border-width:0\" src=\"https://i.creativecommons.org/l/by-nc-sa/4.0/88x31.png\" /></a><br />Esta obra está bajo una <a rel=\"license\" href=\"http://creativecommons.org/licenses/by-nc-sa/4.0/\">Licencia Creative Commons Atribución-NoComercial-CompartirIgual 4.0 Internacional</a>.\n",
        "\n",
        "Trabajo realizado con el apoyo del Programa UNAM-DGAPA-PAPIME PE101019"
      ]
    },
    {
      "cell_type": "markdown",
      "metadata": {
        "id": "N1HeOXjnQvPa"
      },
      "source": [
        "# **Fórmulas de Newton-Cotes**\n",
        "\n",
        "De la derivación analítica observamos que la regla del trapecio integra de forma exacta cualquier polinomio lineal. Esto sugiere la generalización de la regla de integración para que integre de forma exacta cualquier polinomio de grado $n$. Como un polinomio de grado $n$ tiene $n+1$ parámetros es razonable buscar la regla de integración como una combinación lineal de la función evaluada en $n+1$ puntos o abscisas. $\\color{blue}{Estas\\ reglas\\ de\\ cuadr\\acute{a}tura\\ se\\ llaman\\ de\\ Newton-Cotes}$. Sean $x_{0},x_{1},...,x_{n}$ puntos en el intervalo $[a,b]$. Queremos determinar las constantes $A_{0},A_{1},...,A_{n}$ tal que\n",
        "\n",
        "$$deg(f) = \\int_{a}^{b} f(x)dx = A_{0}f(x_{0})+A_{1}f(x_{1})+...+A_{n}f(x_{n}) \\quad ... \\quad (1)$$"
      ]
    },
    {
      "cell_type": "markdown",
      "metadata": {
        "id": "Y3h1CZjhQvVj"
      },
      "source": [
        "El problema tiene una solución elegante mediante polinomios de Lagrange.\n",
        "\n",
        "$\\color{blue}{Coeficientes\\ buscados}$\n",
        "\n",
        "Sea $l_{i}$ el i-ésimo polinomio de Lagrange sobre $x_{0},x_{1},...,x_{n}$.\n",
        "\n",
        "Entonces\n",
        "\n",
        "$$A_{i} = \\int_{a}^{b} l_{i}(x)dx$$\n",
        "\n",
        "son los únicos coeficientes que satisfacen la fórmula (1).\n",
        "\n",
        "Para demostrar esto notamos que la regla debe de integrar el i-ésimo polinomio de Lagrange:\n",
        "\n",
        "$$\\int_{a}^{b} l_{i}(x)dx = \\sum_{i=0}^{n}A_{j}l_{i}(x_{j}) = A_{i}l_{i}(x_{i})=A_{i}$$"
      ]
    },
    {
      "cell_type": "markdown",
      "metadata": {
        "id": "2L3W-0ZdQvaM"
      },
      "source": [
        "Esto nos dice que el únicovalor posible para los $A_{i}'s$ es (1).\n",
        "\n",
        "Ahora el grado $deg(f) \\leq n.$ Entonces:\n",
        "\n",
        "$$f(x) = \\sum_{i=0}^{n} f(x_{i})l_{i}(x)$$\n",
        "\n",
        "De donde \n",
        "\n",
        "$$\\int_{a}^{b} l_{i}(x)dx= \\sum_{j=0}^{n} f(x_{i}) \\quad \\int_{a}^{b} l_{i} (x) dx = \\sum_{j=0}^{n} f(x_{i}) A_{i}$$"
      ]
    },
    {
      "cell_type": "markdown",
      "metadata": {
        "id": "s1FTxsauQveA"
      },
      "source": [
        "## Fórmulas de Newton-Cotes (Cerradas)\n",
        "\n",
        "Fórmulas Interpolantes de Cuadratura $Q_{n}$, $n=2,3,...$ con función peso $\\omega (x) = 1$ con abscisas (nodos) equisdistantes\n",
        "\n",
        "$$x_{i}=a+(i-1) \\frac{b-a}{n-1}$$\n",
        "\n",
        "Los pesos $c_{1},c_{2},...,c_{n}$ se obtienen al integrar el correspondiente polinomio de Lagrange $\\phi_{i_{n-1}}$."
      ]
    },
    {
      "cell_type": "markdown",
      "metadata": {
        "id": "kSPZTZEnQvh5"
      },
      "source": [
        "# **Newton-Cotes, regla del trapecio (simple)**"
      ]
    },
    {
      "cell_type": "markdown",
      "metadata": {
        "id": "Gfg9xyjJQvln"
      },
      "source": [
        "## $n=2$\n",
        "\n",
        "$n=2 \\Rightarrow x_{1} = a, x_{2}=b$\n",
        "\n",
        "$$Q_{n} = \\sum_{i=1}^{n} c_{i} f(x_{i})$$\n",
        "\n",
        "\\begin{array}{cc}\n",
        "Q_{n} & = & f(a) \\int_{a}^{b} \\frac{x-b}{a-b}dx + f(b) \\int_{a}^{b} \\frac{x-a}{b-a} dx\\\\\n",
        "& = & f(a) \\left( \\frac{1}{a-b} \\left[ \\frac{x^{2}}{2} -bx \\right] \\left|_{a}^{b} \\right. \\right) + f(b) \\left( \\frac{1}{b-a} \\left[ \\frac{x^{2}}{2} -ax \\right] \\left|_{a}^{b} \\right. \\right)\\\\\n",
        "& = & \\frac{b-a}{2} (f(a)+f(b))\n",
        "\\end{array}"
      ]
    },
    {
      "cell_type": "markdown",
      "metadata": {
        "id": "8bvR9HeOQvqp"
      },
      "source": [
        "## $n=3$\n",
        "\n",
        "$n=3 \\Rightarrow x_{1}=a,x_{2}=\\frac{a+b}{2},x_{3}=b$\n",
        "\n",
        "$$\\int_{a}^{b} \\phi_{1} (x)dx = \\int_{a}^{b} \\frac{x-\\frac{a+b}{2}}{a-\\frac{a+b}{2}} \\cdot \\frac{x-b}{a-b}dx=\\frac{b-a}{6}$$\n",
        "\n",
        "$$\\int_{a}^{b} \\phi_{2} (x)dx = \\int_{a}^{b} \\frac{x-a}{\\frac{a+b}{2}-a} \\cdot \\frac{x-b}{\\frac{a+b}{2}-b}dx=\\frac{2}{3}(b-a)$$\n",
        "\n",
        "$$\\int_{a}^{b} \\phi_{3} (x)dx = \\int_{a}^{b} \\frac{x-a}{b-a} \\cdot \\frac{x-\\frac{a+b}{2}}{b- \\frac{a+b}{2}}dx=\\frac{(b-a)}{6}$$\n",
        "\n",
        "$$Q_{n} = \\sum_{i=1}^{n} c_{i}f(x_{i})$$\n",
        "\n",
        "$$Q_{3}f = \\frac{b-a}{6} \\left( f(a) + 4f \\left( \\frac{a+b}{2} \\right) + f(b) \\right)$$"
      ]
    },
    {
      "cell_type": "markdown",
      "metadata": {
        "id": "xHmKZeOaqMoV"
      },
      "source": [
        "### Ejemplo 1: \n",
        "Aproximar la integral de $f(x)=\\frac{1}{1+x^2}$ en el intervalo $[0,5]$ con la regla compuesta del Trapecio"
      ]
    },
    {
      "cell_type": "code",
      "metadata": {
        "id": "i8kJmCEnqklk"
      },
      "source": [
        "def trapz(f,a,b,N=50):\n",
        "    '''Aproximar la integral de f(x) en [a,b] usando la regla compuesta del trapecio.\n",
        "\n",
        "    La regla del Trapecio aproxmia la integral \\int_a^b f(x) dx por la suma:\n",
        "    (dx/2) \\sum_{k=1}^N (f(x_k) + f(x_{k-1}))\n",
        "    donde x_k = a + k*dx y dx = (b - a)/N.\n",
        "\n",
        "    Parametros\n",
        "    ----------\n",
        "    f : funcion vectorizada de una sola variable\n",
        "    a , b : Escalares que representan el intervalo de integracion [a,b]\n",
        "    N : Numero de subintervalos de [a,b]\n",
        "\n",
        "    Salida\n",
        "    -------\n",
        "    float   Aproximacion de la integral de f(x) en [a,b] usando la regla compuesta del \n",
        "            trapecio con N subintervalos de igual longitud.\n",
        "\n",
        "    Ejemplo\n",
        "    --------\n",
        "    >>> trapz(np.sin,0,np.pi/2,1000)\n",
        "    0.9999997943832332\n",
        "    '''\n",
        "    x = np.linspace(a,b,N+1) # N+1 punots hacen N subintervalos\n",
        "    y = f(x)\n",
        "    y_right = y[1:] # right endpoints\n",
        "    y_left = y[:-1] # left endpoints\n",
        "    dx = (b - a)/N\n",
        "    T = (dx/2) * np.sum(y_right + y_left)\n",
        "    return T"
      ],
      "execution_count": null,
      "outputs": []
    },
    {
      "cell_type": "code",
      "metadata": {
        "id": "QCIED1ZZq4qX",
        "outputId": "c4e766e1-7cef-4310-8555-85fd7b8176be",
        "colab": {
          "base_uri": "https://localhost:8080/"
        }
      },
      "source": [
        "f = lambda x : 1/(1 + x**2)\n",
        "a = 0; b = 5; N = 50\n",
        "\n",
        "T = trapz(f,a,b,N)\n",
        "print(\"Donde la suma de las areas del trapecio es \", T)"
      ],
      "execution_count": null,
      "outputs": [
        {
          "output_type": "stream",
          "name": "stdout",
          "text": [
            "Donde la suma de las areas del trapecio es  1.3733884404039527\n"
          ]
        }
      ]
    },
    {
      "cell_type": "code",
      "metadata": {
        "id": "50fNod8prUi1",
        "outputId": "2d7056b4-a851-41bf-9739-13300b9cc36e",
        "colab": {
          "base_uri": "https://localhost:8080/",
          "height": 281
        }
      },
      "source": [
        "#Graficamos\n",
        "# Con variable x, y para valores del trapecio\n",
        "x = np.linspace(a,b,N+1)\n",
        "y = f(x)\n",
        "\n",
        "# X and Y values for plotting y=f(x)\n",
        "X = np.linspace(a,b,100)\n",
        "Y = f(X)\n",
        "plt.plot(X,Y)\n",
        "\n",
        "for i in range(N):\n",
        "    xs = [x[i],x[i],x[i+1],x[i+1]]\n",
        "    ys = [0,f(x[i]),f(x[i+1]),0]\n",
        "    plt.fill(xs,ys,'b',edgecolor='b',alpha=0.2)\n",
        "\n",
        "plt.title('Trapezoid Rule, N = {}'.format(N))\n",
        "plt.show()"
      ],
      "execution_count": null,
      "outputs": [
        {
          "output_type": "display_data",
          "data": {
            "image/png": "[encoded data removed]",
            "text/plain": [
              "<Figure size 432x288 with 1 Axes>"
            ]
          },
          "metadata": {
            "needs_background": "light"
          }
        }
      ]
    },
    {
      "cell_type": "markdown",
      "metadata": {
        "id": "_2px7IG3Qvvo"
      },
      "source": [
        "## $n=4$ Regla de $\\frac{3}{8}$ de Simpson\n",
        "\n",
        "$n=4 \\Rightarrow x_{1} =a, x_{2} = a + \\frac{b-a}{3}, x_{3} = a + \\frac{2(b-a)}{3}, x_{4} = b$\n",
        "\n",
        "$\\int_{a}^{b} \\phi_{1} dx = \\frac{b-a}{8}$\n",
        "\n",
        "$$\\phi_{1} (x) = \\frac{x-\\left( a + \\frac{b-a}{3} \\right)}{a- \\left( a + \\frac{b-a}{3} \\right)} \\cdot \\frac{x-\\left( a + \\frac{2(b-a)}{3} \\right)}{a- \\left( a + \\frac{2(b-a)}{3} \\right)} \\cdot \\frac{x-b}{a-b}$$\n",
        "\n",
        "$$\\phi_{2} (x) = \\frac{x-a}{a+ \\frac{b-a}{3} -a} \\cdot \\frac{x-\\left( a + \\frac{2(b-a)}{3} \\right)}{a + \\frac{b-a}{3} - \\left( a + \\frac{2(b-a)}{3} \\right)} \\cdot \\frac{x-b}{a+ \\frac{b-a}{3}-b}$$\n",
        "\n",
        "$$\\phi_{3} (x) = \\frac{x-a}{a+ \\frac{2(b-a)}{3} -a} \\cdot \\frac{x-\\left( a + \\frac{b-a}{3} \\right)}{a + \\frac{2(b-a)}{3} - \\left( a + \\frac{b-a}{3} \\right)} \\cdot \\frac{x-b}{a+ \\frac{2(b-a)}{3}-b}$$\n",
        "\n",
        "$$\\phi_{4} (x) = \\frac{x-a}{b -a} \\cdot \\frac{x-\\left( a + \\frac{b-a}{3} \\right)}{b - \\left( a + \\frac{b-a}{3} \\right)} \\cdot \\frac{x-\\left( a + \\frac{2(b-a)}{3} \\right)}{b- \\left( a + \\frac{2(b-a)}{3} \\right)}$$"
      ]
    },
    {
      "cell_type": "markdown",
      "metadata": {
        "id": "prdfAeUjQvzQ"
      },
      "source": [
        "$$\\int_{a}^{b} \\phi_{2}(x)dx = \\frac{3}{8}(b-a)$$\n",
        "\n",
        "$$\\int_{a}^{b} \\phi_{3}(x)dx = \\frac{3}{8}(b-a)$$\n",
        "\n",
        "$$\\int_{a}^{b} \\phi_{4}(x)dx = \\frac{b-a}{8}$$\n",
        "\n",
        "$$Q_{4}f = \\frac{1}{8} \\left( f(a) + 3f\\left( a + \\frac{b-a}{3} \\right) + 3f\\left( a + \\frac{2(b-a)}{3} \\right) + f(b) \\right)$$"
      ]
    },
    {
      "cell_type": "markdown",
      "metadata": {
        "id": "TbraxjEGQv3M"
      },
      "source": [
        "$$Q_{5}f = \\frac{b-a}{90} \\left( 7f_{1}+32f_{2}+12f_{3}+32f_{4}+7f_{5} \\right) \\quad Regla\\ de\\ Boole$$\n",
        "\n",
        "$$Q_{6}f = \\frac{5(b-a)}{288} \\left( 19f_{1}+75f_{2}+50f_{3}+50f_{4}+75f_{5}+19f_{6} \\right)$$\n",
        "\n",
        "$$Q_{7}f = \\frac{b-a}{140} \\left( 41f_{1}+216f_{2}+27f_{3}+272f_{4}+27f_{5}+216f_{6}+41f_{7} \\right)$$\n",
        "\n",
        "$$Q_{8}f = \\frac{7(b-a)}{17280} \\left( 751f_{1}+3577f_{2}+1323f_{3}+2989f_{4}+2989f_{5}+1323f_{6}+3577f_{7} +751f_{8} \\right)$$"
      ]
    },
    {
      "cell_type": "markdown",
      "metadata": {
        "id": "zeFLRZ1AQv6r"
      },
      "source": [
        "## $c_{i} < 0$\n",
        "\n",
        "$$Q_{9}f = \\frac{b-a}{28350} \\left( 989f_{1} +5888f_{2}-928f_{3} + 10496f_{4} -4540 f_{5}+... \\right)$$\n",
        "\n",
        "Si $n \\geq 11$ $\\Rightarrow$ $c_{i} < 0$ p.a. $i=1,...,n$"
      ]
    },
    {
      "cell_type": "markdown",
      "metadata": {
        "id": "NNVnfXnxr46H"
      },
      "source": [
        "### Ejemplo 2:\n",
        "\n",
        "Aproximar la integral de $f(x)=\\frac{1}{1+x^2}$ en el intervalo $[0,5]$ con la regla Simpson compuesta"
      ]
    },
    {
      "cell_type": "code",
      "metadata": {
        "id": "J0x7txv_r9xG"
      },
      "source": [
        "def simps(f,a,b,N=50):\n",
        "    '''Aproximar la integral de f(x) en [a,b] usando la regla compuesta de Simpson.\n",
        "\n",
        "    La regla de Simpson aproxima la integral \\int_a^b f(x) dx por la suma:\n",
        "    (dx/3) \\sum_{k=1}^{N/2} (f(x_{2i-2} + 4f(x_{2i-1}) + f(x_{2i}))\n",
        "    donde x_i = a + i*dx y dx = (b - a)/N.\n",
        "\n",
        "    Parametros\n",
        "    ----------\n",
        "    f : funcion vectorizada de una sola variable\n",
        "    a , b : Escalares que representan el intervalo de integracion [a,b]\n",
        "    N : Numero de subintervalos de [a,b]\n",
        "    \n",
        "    Salida\n",
        "    -------\n",
        "    float   Aproximacion de la integral de f(x) en [a,b] usando la regla compuesta de \n",
        "            Simpson con N subintervalos de igual longitud.\n",
        "\n",
        "    Ejemplo\n",
        "    --------\n",
        "    >>> simps(lambda x : 3*x**2,0,1,10)\n",
        "    1.0\n",
        "    '''\n",
        "    if N % 2 == 1:\n",
        "        raise ValueError(\"N debe ser un entero par.\")\n",
        "    dx = (b-a)/N\n",
        "    x = np.linspace(a,b,N+1)\n",
        "    y = f(x)\n",
        "    S = dx/3 * np.sum(y[0:-1:2] + 4*y[1::2] + y[2::2])\n",
        "    return S"
      ],
      "execution_count": null,
      "outputs": []
    },
    {
      "cell_type": "code",
      "metadata": {
        "id": "bqyryYkRsPIa",
        "outputId": "013f6260-441d-4169-f4f8-7a649c0945fb",
        "colab": {
          "base_uri": "https://localhost:8080/"
        }
      },
      "source": [
        "S = simps(f,a,b,N)\n",
        "print(\"Con la regal de Simpson con la misma funcion es \", S)"
      ],
      "execution_count": null,
      "outputs": [
        {
          "output_type": "stream",
          "name": "stdout",
          "text": [
            "Con la regal de Simpson con la misma funcion es  1.373400763447889\n"
          ]
        }
      ]
    },
    {
      "cell_type": "markdown",
      "metadata": {
        "id": "Fv-p-B-9Qv-q"
      },
      "source": [
        "# **Teorema**\n",
        "\n",
        "Sean $c_{1}^{n},...,c_{n}^{n}$ los coeficientes de la fórmula de cuadratura de Newton-Cotes $Q_{n}$, entonces\n",
        "\n",
        "$$\\sum_{i=1}^{n} |c_{i}^{n}| \\rightarrow \\infty \\quad \\text{cuando} \\quad n \\rightarrow \\infty$$"
      ]
    },
    {
      "cell_type": "markdown",
      "metadata": {
        "id": "f_LV1cI5QwCG"
      },
      "source": [
        "# **Newton-Cotes (Abiertas)**"
      ]
    },
    {
      "cell_type": "markdown",
      "metadata": {
        "id": "yeJquAe4QwFp"
      },
      "source": [
        "$$Q_{1}f = 2hf_{1},\\ x_{1}= \\frac{a+b}{2},\\ f_{1}=f(x_{1}):\\ \\text{Regla del punto medio}$$\n",
        "\n",
        "$$Q_{2}f = \\frac{3h}{2}(f_{1}+f_{2})$$\n",
        "\n",
        "$$Q_{3}f = \\frac{4h}{3}(2f_{1}-f_{2}+2f_{3})$$\n",
        "\n",
        "$$Q_{4}f = \\frac{5h}{24} (11f_{1}+f_{2}+f_{3}+11f_{4})$$\n",
        "\n",
        "$$Q_{5}f = \\frac{6h}{20} (11f_{1}-14f_{2}+26f_{3}-14f_{4}+11f_{5})$$\n",
        "\n",
        "donde $h:= \\frac{b-a}{n+1}$"
      ]
    },
    {
      "cell_type": "markdown",
      "metadata": {
        "id": "uwTLFINMQwJK"
      },
      "source": [
        "\\begin{array}{cc}\n",
        "\\int_{a}^{b} \\phi_{1_{2}} (x)dx & = & \\int_{a}^{b} \\frac{x-\\frac{2(b-a)}{3}}{\\left( a + \\frac{b-a}{3} \\right) - \\left( a + \\frac{2(b-a)}{3} \\right)}dx\\\\\n",
        "& = & \\frac{b-a}{2}\\\\\n",
        "& = & \\frac{3h}{2}\n",
        "\\end{array}\n",
        "\n",
        "\\begin{array}{cc}\n",
        "\\int_{a}^{b} \\phi_{2_{2}} (x)dx & = & \\int_{a}^{b} \\frac{x-\\frac{b-a}{3}}{\\left( a + \\frac{2(b-a)}{3} \\right) - \\left( a + \\frac{b-a}{3} \\right)}dx\\\\\n",
        "& = & \\frac{b-a}{2}\\\\\n",
        "& = & \\frac{3h}{2}\n",
        "\\end{array}"
      ]
    },
    {
      "cell_type": "markdown",
      "metadata": {
        "id": "d_fuUQTVQwMr"
      },
      "source": [
        "# **Error asociado a Newton-Cotes**"
      ]
    },
    {
      "cell_type": "markdown",
      "metadata": {
        "id": "x1jwaHLuQwQL"
      },
      "source": [
        "Como\n",
        "\n",
        "\\begin{array}{cc}\n",
        "|Q_{n}f - I_{\\omega}f| & \\leq & \\| \\omega \\|_{1} \\cdot \\| p_{n-1} -f \\|_{\\infty}, \\quad \\text{y}\\\\\n",
        "\\| \\omega |\\_{1} & = & b-a\n",
        "\\end{array}\n",
        "\n",
        "falta acotar\n",
        "\n",
        "$$\\| p_{n-1} - f\\|_{\\infty}$$"
      ]
    },
    {
      "cell_type": "markdown",
      "metadata": {
        "id": "JTpH-QJRH679"
      },
      "source": [
        "# **Teorema**\n",
        "\n",
        "Sea $e(x) = f(x) - p_{n-1}(x)$ con $f \\in C^{n} ([a,b])$ y $p_{n-1}$ polinomio de Lagrange de grado $n-1$, entonces:\n",
        "\n",
        "$$e(x) = \\frac{f^{n} (\\xi)}{n!} v(x)$$\n",
        "\n",
        "donde \n",
        "\n",
        "$$v(x) = \\prod_{i=1}^{n} (x-x_{i})$$"
      ]
    },
    {
      "cell_type": "markdown",
      "metadata": {
        "id": "D77ocL9OIzx2"
      },
      "source": [
        "# **Error para fórmulas cerradas**"
      ]
    },
    {
      "cell_type": "markdown",
      "metadata": {
        "id": "ibldrxKQI5Pg"
      },
      "source": [
        "\\begin{array}{cc}\n",
        "Q_{2}f -If & = & \\frac{(b-a)^{3}}{12}f''(\\xi)\\\\\n",
        "Q_{3}f -If & = & \\frac{(b-a)^{5}}{2880}f^{(4)}(\\xi)\\\\\n",
        "Q_{4}f -If & = & \\frac{(b-a)^{5}}{6480}f^{(4)}(\\xi)\\\\\n",
        "Q_{5}f -If & = & \\frac{(b-a)^{7}}{1935360}f^{(6)}(\\xi)\\\\\n",
        "\\end{array}"
      ]
    },
    {
      "cell_type": "markdown",
      "metadata": {
        "id": "8bFqT_r2KC_9"
      },
      "source": [
        "# **Error para fórmulas abiertas**"
      ]
    },
    {
      "cell_type": "markdown",
      "metadata": {
        "id": "SPy91cEnKHcT"
      },
      "source": [
        "\\begin{array}{cc}\n",
        "Q_{1}f -If & = & -\\frac{(b-a)^{3}}{24}f''(\\xi)\\\\\n",
        "Q_{2}f -If & = & -\\frac{(b-a)^{3}}{36}f''(\\xi)\\\\\n",
        "Q_{3}f -If & = & -\\frac{7(b-a)^{5}}{23040}f^{(4)}(\\xi)\n",
        "\\end{array}"
      ]
    }
  ]
}
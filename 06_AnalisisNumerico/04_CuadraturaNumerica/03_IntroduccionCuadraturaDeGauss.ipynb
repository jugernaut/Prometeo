{
  "nbformat": 4,
  "nbformat_minor": 0,
  "metadata": {
    "colab": {
      "name": "Copia de 03_IntroduccionCuadraturaDeGauss.ipynb",
      "provenance": [],
      "include_colab_link": true
    },
    "kernelspec": {
      "name": "python3",
      "display_name": "Python 3"
    },
    "language_info": {
      "name": "python"
    }
  },
  "cells": [
    {
      "cell_type": "markdown",
      "metadata": {
        "id": "view-in-github",
        "colab_type": "text"
      },
      "source": [
        "<a href=\"https://colab.research.google.com/github/jugernaut/Prometeo/blob/master/06_AnalisisNumerico/04_CuadraturaNumerica/03_IntroduccionCuadraturaDeGauss.ipynb\" target=\"_parent\"><img src=\"https://colab.research.google.com/assets/colab-badge.svg\" alt=\"Open In Colab\"/></a>"
      ]
    },
    {
      "cell_type": "markdown",
      "metadata": {
        "id": "-PsAqwCGt6iD"
      },
      "source": [
        "<font color=\"Teal\" face=\"Comic Sans MS,arial\">\n",
        "  <h1 align=\"center\"><i>Cuadratura de Gauss</i></h1>\n",
        "  </font>\n",
        "  <font color=\"Black\" face=\"Comic Sans MS,arial\">\n",
        "  <h5 align=\"center\"><i>Profesora: \tUrsula Xiomara Iturrarán Viveros</i></h5>\n",
        "    <h5 align=\"center\"><i>Ayudante: Juan Pablo Cordero Santiago</i></h5>\n",
        "  <h5 align=\"center\"><i>Materia: Análisis Numérico</i></h5>\n",
        "  </font>\n",
        "\n",
        "  # Prometeo\n",
        "\n",
        "Este sitio puede ser usado libremente, tanto por profesores como por estudiantes, que deseen complementar sus cursos y conocimientos en los temas antes mencionados. Los materiales están bajo una Licencia Creative Commons Atribución-NoComercial-CompartirIgual 4.0 Internacional\n",
        "\n",
        "<a rel=\"license\" href=\"http://creativecommons.org/licenses/by-nc-sa/4.0/\"><img alt=\"Licencia Creative Commons\" style=\"border-width:0\" src=\"https://i.creativecommons.org/l/by-nc-sa/4.0/88x31.png\" /></a><br />Esta obra está bajo una <a rel=\"license\" href=\"http://creativecommons.org/licenses/by-nc-sa/4.0/\">Licencia Creative Commons Atribución-NoComercial-CompartirIgual 4.0 Internacional</a>.\n",
        "\n",
        "Trabajo realizado con el apoyo del Programa UNAM-DGAPA-PAPIME PE101019"
      ]
    },
    {
      "cell_type": "markdown",
      "metadata": {
        "id": "jHJJSnRNt6lf"
      },
      "source": [
        "# **Cuadratura Gaussiana**"
      ]
    },
    {
      "cell_type": "markdown",
      "metadata": {
        "id": "jtlfbE7Dt6o5"
      },
      "source": [
        "Notemos que los coeficientes $A_{i}'s$ en la regla de integracíon:\n",
        "\n",
        "$$\\int_{a}^{b} f(x)dx \\approx A_{0} f(x_{0}) + A_{1} f(x_{1}) +....+ A_{n}f(x_{n})$$\n",
        "\n",
        "representan $n+1$ grados de libertad que pueden usarse para construir una regla exacta para polinomios de grado $n$ o menor.\n",
        "\n",
        "$\\color{blue}{La\\ idea\\ detr\\acute{a}s\\ de\\ la\\ Cuadratura\\ Gaussiana}$\n",
        "\n",
        "Las abscisas $x_{1},x_{2},...,x_{n}$ representan otros $n$ grados de libertad que pueden ser usadas para extender la exactitud de la regla de integración a polinomios de grado $2n-1$ o menores.\n",
        "\n",
        "Cuando uno intenta usar el método de coeficientes indeterminados para obtener la regla de Cuadratura Gaussiana, se enfrenta con el problema de que las ecuaciones resultantes son no-lineales. Por ejemplo:    \n",
        "\n",
        "Cuando $n=1,$ $[a,b]=[0,1]$ las ecuaciones obtenidas para encontrar esta regla para integrar, 1, $x,\\quad x^{2} \\quad y \\quad x^{3}$ son:\n",
        "\n",
        "<center>\n",
        "\\begin{array}{cc}\n",
        "1 & = & A_{0} + A_{1}\\\\\n",
        "\\frac{1}{2} & = & x_{0}A_{0} + x_{1}A_{1}\\\\\n",
        "\\frac{1}{3} & = & x_{0}^{2}A_{0} + x_{1}^{2}A_{1}\\\\\n",
        "\\frac{1}{4} & = & x_{0}^{3}A_{0} + x_{1}^{3}A_{1}\\\\\n",
        "\\end{array}\n",
        "</center>\n",
        "\n",
        "\n",
        "Aunque es posible simplificarlas, en general este enfoque produce sistemas mal condicionados."
      ]
    },
    {
      "cell_type": "markdown",
      "metadata": {
        "id": "O7bbJ2blt6uz"
      },
      "source": [
        "## Fórmula de Cuadratura Gaussiana\n",
        "\n",
        "La fórmula de cuadratura Gaussiana tiene la forma#\n",
        "\n",
        "$$\\int_{a}^{b} f(x)w(x)dx \\approx A_{0}f(x_{0})+A_{1}f(x_{1})+...+A_{n}f(x_{n})$$\n",
        "\n",
        "donde $w(x)$ es una función de peso que es mayor que cero en el intervalo $[a,b]$. Para una notación más corta, notemos que el intervalo $[a,b]$ y la función de peso no cambiará, entonces escribimos:    \n",
        "\n",
        "$$\\int f = \\int_{a}^{b} f(x)w(x)dx$$ \n",
        "\n",
        "Podemos ver esto, como un operador de funciones, $\\int$ que es lineal. Esto quiere decir que $\\int \\alpha f = \\alpha \\int f$ y $\\int(f+g) = \\int f + \\int g$."
      ]
    },
    {
      "cell_type": "markdown",
      "metadata": {
        "id": "z_ttKt2rt6zO"
      },
      "source": [
        "# **Polinomios ortogonales**"
      ]
    },
    {
      "cell_type": "markdown",
      "metadata": {
        "id": "2wcKGfUrJjSf"
      },
      "source": [
        "$\\color{blue}{Definici\\acute{o}n:\\ Funciones\\ ortogonales}$\n",
        "\n",
        "Dos funciones $f$ y $g$ se dicen ortogonales si\n",
        "\n",
        "$$\\int fg = 0$$\n",
        "\n",
        "El término ortogonal deriva del hecho que de la integral $\\int fg$ puede ser vista como producto interior de $f$ y $g$. Entonces $\\color{blue}{dos\\ polinomios\\ son\\ ortogonales\\ si\\ su\\ producto\\ interior\\ es\\ cero\\ en\\ \\mathbb{R}^{n}}$"
      ]
    },
    {
      "cell_type": "markdown",
      "metadata": {
        "id": "LMM3goWct62y"
      },
      "source": [
        "$\\color{blue}{Sucesi\\acute{o}n\\ de\\ polinomios\\ ortogonales}$\n",
        "\n",
        "Una sucesión de polinomios $\\{ p_{i} \\}_{i=0}^{\\infty}$ con grado $deg(p_{i})=i$ es tal que \n",
        "\n",
        "$$ i \\not= j \\quad \\Rightarrow \\quad \\int p_{i}p_{j} = 0$$\n",
        "\n",
        "Como la otorgonalidad no se altera por la multiplicación por constantes diferentes de cero, podemos normalizar el polinomio $p_{i}$ para que sea mónico (i.e. que el coeficiente de $x^{i}$ sea 1), es decir:    \n",
        "\n",
        "$$p_{i}(x) = x^{i} + a_{i,i-1}x^{i-1}+...+a_{i,0}$$\n",
        "\n",
        "Nuestro objeto intermedio es establecer la existencia de polinomios otorgonales, para esto necesitamos los siguientes resultados:    \n",
        "\n",
        "Sea $\\{ p_{i} \\}_{i=0}^{\\infty}$ una sucesión de polinomios tal que $p_{i}$ tiene exactamente grado $i$. Si\n",
        "\n",
        "$$q(x)=a_{n}x^{n} + a_{n-1}x^{n-1}+...+a_{0}$$\n",
        "\n",
        "entonces $q$ puede escribirse de manera única como:    \n",
        "\n",
        "$$q(x) = b_{n}p^{n} + b_{n-1}p^{n-1}+...+a_{0}p^{0} \\tag{1}$$\n",
        "\n",
        "La demostración se hace por inducción sobre el grado $n$ del polinomio. Una consecuencia de este resultado es que\n",
        "\n",
        "$\\color{blue}{Polinomios\\ ortogonales}$\n",
        "\n",
        "El polinomio $p_{n+1}$ es ortogonal a cualquier polinomio $q$ de grado $n$ o menor.\n",
        "\n",
        "De $(1)$ se sigue que \n",
        "$$\\int p_{n+1} q = b_{n} \\int p_{n+1}p_{n}+...+b_{0} \\int p_{n+1}p_{0} = 0$$\n",
        "\n",
        "La última igualdad se cumple por la ortogonalidad del polinomio."
      ]
    },
    {
      "cell_type": "markdown",
      "metadata": {
        "id": "ttnXief3t66Y"
      },
      "source": [
        "## Existencia de polinomios ortogonales\n",
        "\n",
        "Para establecer la existencia de los polinomios ortogonales, empezamos calculando los primeros dos. Como $p_{0}$ es mónico y de grado cero:    \n",
        "\n",
        "$$p_{0}(x)=1.$$\n",
        "\n",
        "Como $p_{1}$ es mónico de grado 1, tiene la forma:    \n",
        "\n",
        "$$p_{1}(x)=x-\\alpha_{1}$$\n",
        "\n",
        "Para determinar $\\alpha_{1}$ usamos la ortogonalidad\n",
        "\n",
        "$$0 = \\int p_{1}p_{0} = \\int (x -\\alpha_{1}) \\cdot 1 = \\int x-\\alpha_{1} \\int 1$$\n",
        "\n",
        "Como la función identicamente 1 es positiva en el intervalo de integración, la integral $\\int 1 > 0$ de donde: $\\alpha_{1} = \\frac{\\int x}{\\int 1}$\n",
        "\n",
        "En general buscamos, $p_{n+1}$ en la forma:    \n",
        "\n",
        "$$p_{n+1} = xp_{n}-\\alpha_{n+1} - \\beta_{n+1} p_{n-1}-\\gamma_{n+1}p_{n-2}...$$\n",
        "\n",
        "Así como usamos la ortogonalidad en la construcción de $p_{1}$ ahora la usaremos para determinar los coeficientes: $\\alpha_{n+1},$ $\\beta_{n+1}$, $\\gamma_{n+1}$.\n",
        "\n",
        "Para determinar $\\alpha_{n+1}$ escribimos:    \n",
        "\n",
        "$$0 = \\int p_{n+1}p_{n} = \\int xp_{n}p_{n}-\\alpha_{n+1}\\int p_{n}p_{n} - \\beta_{n+1} \\int p_{n-1}p_{n}-\\gamma_{n+1} \\int p_{n-2}p_{n}-...$$"
      ]
    },
    {
      "cell_type": "markdown",
      "metadata": {
        "id": "GzdTdl3jt69y"
      },
      "source": [
        "Por otorgonalidad tenemos que:    \n",
        "\n",
        "$$0 = \\int p_{n-1}p_{n} = \\int xp_{n}p_{n} = \\int p_{n-2}p_{n}=...$$\n",
        "\n",
        "Por lo tanto\n",
        "\n",
        "$$\\int x p_{n}^{2} - \\alpha_{n+1} \\int p_{n}^{2} = 0$$\n",
        "\n",
        "Como $\\int p_{n}^{2} > 0$ podemos resolver la ecuación para obtener $\\alpha_{n+1} = \\frac{ \\int x p_{n}^{2}}{ \\int p_{n}^{2}}$. Para $\\beta_{n+1}$ escribimos:      \n",
        "\n",
        "$$0= \\int p_{n+1}p_{n-1} = \\int xp_{n-1}p_{n} - \\alpha_{n+1} \\int p_{n}p_{n-1} = \\beta_{n+1} \\int p_{n-1}p_{n-1} - \\gamma_{n+1} \\int p_{n-2}p_{n-1}-...$$\n",
        "\n",
        "Muchos términos son cero por la otorgonalidad, de donde tenemos:    \n",
        "\n",
        "$$\\int xp_{n}p_{n-1} - \\beta_{n+1} \\int p_{n-1}^{2} = 0 \\quad o \\quad \\beta_{n+1} = \\frac{\\int xp_{n}p_{n-1}}{\\int p_{n-1}^{2}}$$\n",
        "\n",
        "Las fórmulas para los coeficientes que faltan son parecidas:    \n",
        "\n",
        "$$\\gamma_{n+1} = \\frac{ \\int x p_{n}p_{n-2}}{\\int p_{n-2}^{2}}= \\frac{ \\int xp_{n-2}p_{n}}{\\int p_{n-2}^{2}} = 0 \\tag{2}$$\n",
        "\n",
        "Esto se debe a que como $xp_{n-2}$ es de grado $n-1$ por lo tanto es ortogonal a $p_{n}$ y entonces el numerador en $(2)$ es cero. Por lo tanto $\\gamma_{n+1} = 0$ y los coeficientes de $p_{n-3},p_{n-4},...$ son cero."
      ]
    },
    {
      "cell_type": "markdown",
      "metadata": {
        "id": "JXlek9SUt7A1"
      },
      "source": [
        "Los polinomios ortogonales pueden generarse mediante la siguiente fórmula de recursividad\n",
        "\n",
        "$\\color{blue}{Polinomios\\ otorgonales}$\n",
        "\n",
        "\\begin{array}{cc}\n",
        "p_{0} & = & 1\\\\ \n",
        "p_{1} & = & x-\\alpha_{1}\\\\ \n",
        "p_{n+1} & = & xp_{n} - \\alpha_{n+1}p_{n} - \\beta_{n+1}p_{n-1}, \\quad n=1,2,... donde\\\\\n",
        "\\alpha_{n+1} & = & \\frac{\\int xp_{n}^{2}}{\\int p_{n}^{2}} \\quad y \\quad \\beta_{n+1} = \\frac{\\int xp_{n}p_{n-1}}{\\int p_{n-1}^{2}}\n",
        "\\end{array}"
      ]
    },
    {
      "cell_type": "markdown",
      "metadata": {
        "id": "UYYTROAp9eHv"
      },
      "source": [
        "## Ceros de los polinomios ortogonales\n",
        "\n",
        "Las abscisas de la fórmula de cuadratura Gaussiana serán los ceros de $p_{n+1}$. Mostraremos que:    \n",
        "\n",
        "$\\color{blue}{Ceros\\ de\\ polinomios\\ ortogonales}$\n",
        "\n",
        "Los ceros de $p_{n+1}$, son reales, simples y caen en el intervalo $[a,b]$\n",
        "\n",
        "Consideremos los ceros de multiplicidad impar $x_{0},x_{1},...,x_{k}$ del polinomio $p_{n+1}$ en $[a,b]$, es decir, $x_{0},x_{1},...,x_{k}$ son los puntos donde el polinomio $p_{n+1}$ cambia de signo en $[a,b]$.\n",
        "\n",
        "$\\color{blue}{Nota}$\n",
        "\n",
        "* Si $x_{k}$ es un cero de multiplicidad $m$ de polinomio $p_{n+1}$ y si $m$ es par, entonces $(x-x_{k})^{m} > 0$ para todo $x \\not= x_{k}$, es decir no cruza el eje de las abscisas.\n",
        "\n",
        "* Si en cambio $m$ es impar, entonces $(x-x_{k})^{m} > 0$ para $x > x_{k}$ y $(x-x_{k})^{m} < 0$ para $x < x_{k}$, es decir el polinomio $p_{n+1}$ cambia de signo en $x_{k}$ porque es donde cruza el eje de las abscisas.\n",
        "\n",
        "Si $k= n$, entonces ya esta pues como los $x_{i}'s$ son los $n+1$ ceros de $p_{n+1}$, esto querría decir que son de multiplicidad uno y son reales y estan contenidos en $[a,b]$. Si $k=n$\n",
        "\n",
        "Supongamos que $k < n$ y consideremos el polinomio\n",
        "\n",
        "$$q(x) = (x-x_{0})(x-x_{1})\\cdots(x-x_{k})$$\n",
        "\n",
        "Como e, grado de $q$ es $k+1 < n+1$ entonces por otorgonalidad\n",
        "\n",
        "$$\\int p_{n+1}q=0$$\n",
        "\n",
        "Por otro lado $p_{n+1}(x)q(x)$ no puede cambiar de signo en $[a,b]$ pues cada cambio de signo en $p_{n+1}(x)$ estaría cancelando por un cambio de signo correspondiente en $q(x)$. De donde\n",
        "\n",
        "$$\\int p_{n+1}q \\not= 0$$\n",
        "\n",
        "lo que es una contradiccón con lo que supusimos. Por lo tanto los ceros de $p_{n+1}$ son reales, simples y caen en $[a,b]$."
      ]
    },
    {
      "cell_type": "markdown",
      "metadata": {
        "id": "exCO8CBv9eA-"
      },
      "source": [
        "# **Cuadratura Gaussiana** "
      ]
    },
    {
      "cell_type": "markdown",
      "metadata": {
        "id": "UgSrMGHr9d6h"
      },
      "source": [
        "La fórmula de cuadratura Gaussiana se obtiene construyendo una fórmula de Newton-Coates en los ceros del polinomio ortogonal $p_{n+1}$\n",
        "\n",
        "$\\color{blue}{Cuadratura\\ Gaussiana}$\n",
        "\n",
        "Sean $x_{0},x_{1},...,x_{n}$ los ceros del polinomio ortogonal $p_{n+1}$ y hagamos:    \n",
        "\n",
        "$$A_{i} = \\int l_{i}, \\quad i = 0,1,...,n$$\n",
        "\n",
        "donde $l_{i}$ es el i-ésimo polinomio de Lagrange sobre los nodos $x_{0},x_{1},...,x_{n}$. Para cualquier función $f$ sea\n",
        "\n",
        "$$G_{n}f = A_{0}f(x_{0})+A_{1}f(x_{1})+...+A_{n}f(x_{n})$$\n",
        "\n",
        "Entonces\n",
        "\n",
        "$$deg(f) \\leq (2n+1)-1 = 2n+1 \\Rightarrow \\int f = G_{n}f$$\n",
        "\n",
        "Para demostrar el resultado, notemos que por construcción la fórmula de integración $G_{n}f$ es exacta para polinomios de grado menor o igual a $n$. Sea $deg(f) \\leq 2n+1$. Dividiendo $f$ por $n+1$ obtenemos\n",
        "\n",
        "$$f = p_{n+1}q+r, \\quad deg(q),deg(r) \\leq n. \\tag{3}$$\n"
      ]
    },
    {
      "cell_type": "markdown",
      "metadata": {
        "id": "EgmNJF_q9dy-"
      },
      "source": [
        "\\begin{array}{ccc}\n",
        "G_{n}f & = & \\sum_{i} A_{i} f(x_{i}) & \\\\\n",
        "& = & \\sum_{i} A_{i} [p_{n+1}(x_{i})q(x_{i})+r(x_{i})] & por\\ (92)\\\\\n",
        "& = & \\sum_{i} A_{i} r(x_{i}) & pues\\ p_{n+1}(x_{1})=0 \\\\\n",
        "& = & G_{n}r & \\\\\n",
        "& = & \\int r & pues\\ G_{n}\\ es\\ exacta\\ deg(r) \\leq n\\\\\n",
        "& = & \\int (p_{n+1}q+r) &por\\ que\\ \\int p_{n+1}q = 0\\ para\\ deg(q) \\leq n \\\\\n",
        "& = & \\int f(x_{i}) & por\\ (92)\\\\\n",
        "\\end{array}"
      ]
    },
    {
      "cell_type": "markdown",
      "metadata": {
        "id": "2cbLv3zf9dqa"
      },
      "source": [
        "Un corolario importante es que los coeficientes $A_{i}'s$ son positivos, para ver esto notemos que\n",
        "\n",
        "$$l_{i}(x_{j}) = l_{i}^{2} (x_{j}) = 0 \\quad si \\quad i \\not= j \\quad o \\quad 1\\ si\\ i=j$$\n",
        "\n",
        "Como $l_{i}^{2}(x) \\geq 0$ y $deg(l_{i}^{2})= 2n$, entonces\n",
        "\n",
        "$$0 < \\int l_{i}^{2} = G_{n}l_{i}^{2} = \\sum_{j} A_{i}l_{i}^{2}(x_{j})=A_{i}$$\n",
        "\n",
        "Como $A_{0}+A_{1}+...+A_{n}= \\int 1$ ningún coeficiente puede ser más grande que 1."
      ]
    },
    {
      "cell_type": "markdown",
      "metadata": {
        "id": "gZuzCBrn-1DZ"
      },
      "source": [
        "# **Ejercicios**"
      ]
    },
    {
      "cell_type": "markdown",
      "metadata": {
        "id": "0WZ54N9c-3Ww"
      },
      "source": [
        "$\\color{green}{Cheney\\ and\\ Kincaid\\ pag.\\ 240}$\n",
        "\n",
        "Construir una regla de la forma:    \n",
        "\n",
        "$$\\int_{-1}^{1} f(x)dx \\approx \\alpha f \\left(- \\frac{1}{2} \\right) + \\beta f(0) + \\gamma f \\left( \\frac{1}{2} \\right)$$\n",
        "\n",
        "que sea exacta para polinomios de grado $\\leq 2$, determinar $\\alpha, \\beta, \\gamma$\n",
        "\n",
        "$\\color{blue}{Sugerencia:}$ **hacer que la relación sea exacta para $f(x)=1,f(x)=x$ y  $f(x)=x^{2}$ y encontrar su solución para las ecuaciones resultantes. Es decir, usar el método de coeficientes indeterminados.**"
      ]
    },
    {
      "cell_type": "markdown",
      "metadata": {
        "id": "rLUyalMYAGkJ"
      },
      "source": [
        "$\\color{green}{Soluci\\acute{o}n:\\ Cheney\\ and\\ Kincaid\\ pag.\\ 240}$\n",
        "\n",
        "\\begin{array}{cc}\n",
        "f(x)=1, & & \\alpha + \\beta + \\gamma = \\int_{-1}^{1} dx =2\\\\\n",
        "f(x)=x, & & - \\frac{\\alpha}{2} +  \\frac{\\gamma}{2} = \\int_{-1}^{1} xdx =0\\\\\n",
        "f(x)=x^{2}, & & \\frac{\\alpha}{4} + \\frac{\\gamma}{4} = \\int_{-1}^{1} x^{2}dx =\\frac{2}{3}\n",
        "\\end{array}\n",
        "\n",
        "Resolvemos el sistema de ecuaciones, de la tercer ecuación despejamos $\\alpha = \\frac{8}{3} - \\gamma$, de la tercera ecuación tenemos que $2 \\alpha + \\beta =2$. Sustiuimos $\\alpha$ en la segunda ecuación y tenemos:     \n",
        "\n",
        "$$\\frac{- \\left( \\frac{8}{3} - \\gamma \\right)}{2} + \\frac{\\gamma}{2} = 0 \\Rightarrow - \\frac{4}{3} + \\frac{\\gamma}{2}+ \\frac{\\gamma}{2}= 0 \\Rightarrow \\gamma = \\frac{4}{3}$$\n",
        "\n",
        "de donde sustituyendo en $\\beta = 2- \\frac{8}{3}= - \\frac{2}{3}$ y finalmente $\\alpha = \\frac{8}{3} - \\frac{4}{3} = \\frac{4}{3}.$\n",
        "\n",
        "Se puede verificar que para cualquier polinomio de grado $\\leq 2$ la regla obtenida es exacta, por ejemplo para $f(x)=x^{2}$ tenemos que:    \n",
        "\n",
        "$$\\int_{-1}^{1} x^{2} dx = \\frac{4}{3} f \\left( \\frac{1}{2} \\right) - \\frac{2}{3} f(0) + \\frac{4}{3} f \\left( \\frac{2}{3} \\right) = \\frac{2}{3}$$\n",
        "\n",
        "que es la solución exacta."
      ]
    },
    {
      "cell_type": "markdown",
      "metadata": {
        "id": "X3AV3iPRCg5U"
      },
      "source": [
        "$\\color{green}{Sea\\ P_{2}(x)\\ el\\ polinomio\\ de\\ interpolaci\\acute{o}n\\ para\\ f(x)\\ en\\ x=0,h,2h}$\n",
        "\n",
        "Usar $P_{2}(x)$ para deducir una fórmula de integración para\n",
        "\n",
        "$$\\int_{0}^{3h} f(x)dx$$\n",
        "\n",
        "Usando el método de coeficientes indeterminados tenemos:    \n",
        "\n",
        "\\begin{array}{cc}\n",
        "f(x)=1, & & A_{1}+A_{2}+A_{3} = \\int_{0}^{3h} dx =3h\\\\\n",
        "f(x)=x, & & hA_{2}+2hA_{3} = \\int_{0}^{3h} xdx =\\frac{9h^{2}}{3}\\\\\n",
        "f(x)=x^{2}, & & h^{2}A_{2}+2h^{2}A_{3} = \\int_{0}^{3} x^{2}dx =9h^{3}\n",
        "\\end{array}\n",
        "\n",
        "$\\color{green}{De\\ las\\ \\acute{u}ltimas\\ ecuaciones\\ se\\ obtiene}$\n",
        "\n",
        "$A_{2}=0,A_{3}= \\frac{9h}{4}$. Sustituyendo en la primera tenemos $A_{1}= \\frac{3h}{4}$ de donde la regla de cuadratura quedaría:     \n",
        "\n",
        "$$\\int_{0}^{3h} f(x)dx \\approx \\frac{3h}{4} [f(0) + 3f(2h)]$$"
      ]
    },
    {
      "cell_type": "markdown",
      "metadata": {
        "id": "2sdcsec4EZzr"
      },
      "source": [
        "$\\color{green}{Determinar\\ una\\ f\\acute{o}rmula\\ para}$\n",
        "\n",
        "$$\\int_{0}^{h} f(x)dx \\approx \\omega_{0} f(h)+ \\omega_{1} f(h)+ \\omega_{2} f''(h)+ \\omega_{3} f''(h)$$\n",
        "\n",
        "\\begin{array}{cc}\n",
        "f(x)=1, & & \\int_{0}^{h} dx = \\omega_{0} + \\omega_{1} = h \\Rightarrow \\omega_{0} = h - \\frac{h}{2}\\\\\n",
        "f(x)=x, & & \\int_{0}^{h} xdx = \\frac{x^{2}}{2} |_{0}^{h} = \\omega_{1}h = \\frac{h^{2}}{2} \\Rightarrow \\omega_{1} = \\frac{h}{2}\\\\\n",
        "f(x)=x^{2}, & & \\int_{0}^{h} x^{2}dx = \\frac{x^{3}}{3} |_{0}^{h} = \\omega_{1}h^{2}+2\\omega_{2}+2\\omega_{3} = \\frac{h^{3}}{3}\\\\  \n",
        "f(x)=x^{3}, & & \\int_{0}^{h} x^{3}dx = \\frac{x^{4}}{4} |_{0}^{h} = \\omega_{1}h^{3}+6h \\omega_{3} = \\frac{h^{4}}{4}\n",
        "\\end{array}"
      ]
    }
  ]
}
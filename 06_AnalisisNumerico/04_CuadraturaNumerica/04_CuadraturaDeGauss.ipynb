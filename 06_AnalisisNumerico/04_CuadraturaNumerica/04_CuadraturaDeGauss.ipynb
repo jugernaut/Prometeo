{
  "nbformat": 4,
  "nbformat_minor": 0,
  "metadata": {
    "colab": {
      "name": "Copia de 04_CuadraturaDeGauss.ipynb",
      "provenance": [],
      "toc_visible": true,
      "include_colab_link": true
    },
    "kernelspec": {
      "name": "python3",
      "display_name": "Python 3"
    },
    "language_info": {
      "name": "python"
    }
  },
  "cells": [
    {
      "cell_type": "markdown",
      "metadata": {
        "id": "view-in-github",
        "colab_type": "text"
      },
      "source": [
        "<a href=\"https://colab.research.google.com/github/jugernaut/Prometeo/blob/desarrollo/06_AnalisisNumerico/04_CuadraturaNumerica/04_CuadraturaDeGauss.ipynb\" target=\"_parent\"><img src=\"https://colab.research.google.com/assets/colab-badge.svg\" alt=\"Open In Colab\"/></a>"
      ]
    },
    {
      "cell_type": "code",
      "metadata": {
        "id": "8l1RPBVEwQAD"
      },
      "source": [
        "import matplotlib.pyplot as plt\n",
        "import numpy as np\n",
        "import math"
      ],
      "execution_count": null,
      "outputs": []
    },
    {
      "cell_type": "markdown",
      "metadata": {
        "id": "xHpnQdOewTQS"
      },
      "source": [
        "<font color=\"Teal\" face=\"Comic Sans MS,arial\">\n",
        "  <h1 align=\"center\"><i>Cuadratura de Gauss (Continuación)</i></h1>\n",
        "  </font>\n",
        "  <font color=\"Black\" face=\"Comic Sans MS,arial\">\n",
        "  <h5 align=\"center\"><i>Profesora: \tUrsula Xiomara Iturrarán Viveros</i></h5>\n",
        "    <h5 align=\"center\"><i>Ayudante: Juan Pablo Cordero Santiago</i></h5>\n",
        "  <h5 align=\"center\"><i>Materia: Análisis Numérico</i></h5>\n",
        "  </font>\n",
        "\n",
        "\n",
        "Este sitio puede ser usado libremente, tanto por profesores como por estudiantes, que deseen complementar sus cursos y conocimientos en los temas antes mencionados. Los materiales están bajo una Licencia Creative Commons Atribución-NoComercial-CompartirIgual 4.0 Internacional\n",
        "\n",
        "<a rel=\"license\" href=\"http://creativecommons.org/licenses/by-nc-sa/4.0/\"><img alt=\"Licencia Creative Commons\" style=\"border-width:0\" src=\"https://i.creativecommons.org/l/by-nc-sa/4.0/88x31.png\" /></a><br />Esta obra está bajo una <a rel=\"license\" href=\"http://creativecommons.org/licenses/by-nc-sa/4.0/\">Licencia Creative Commons Atribución-NoComercial-CompartirIgual 4.0 Internacional</a>.\n",
        "\n",
        "Trabajo realizado con el apoyo del Programa UNAM-DGAPA-PAPIME PE101019"
      ]
    },
    {
      "cell_type": "markdown",
      "metadata": {
        "id": "hpBTRj5Pwm_6"
      },
      "source": [
        "# **Cuadratura Gaussiana**"
      ]
    },
    {
      "cell_type": "markdown",
      "metadata": {
        "id": "iJYfGfpLwbyr"
      },
      "source": [
        "Notemos que los coeficientes $A_{i}'s$ en la regla de integracíon:\n",
        "\n",
        "$$\\int_{a}^{b} f(x)dx \\approx A_{0} f(x_{0}) + A_{1} f(x_{1}) +....+ A_{n}f(x_{n})$$\n",
        "\n",
        "representan $n+1$ grados de libertad que pueden usarse para construir una regla exacta para polinomios de grado $n$ o menor.\n",
        "\n",
        "$\\color{blue}{La\\ idea\\ detr\\acute{a}s\\ de\\ la\\ Cuadratura\\ Gaussiana}$\n",
        "\n",
        "Las abscisas $x_{1},x_{2},...,x_{n}$ representan otros $n$ grados de libertad que pueden ser usadas para extender la exactitud de la regla de integración a polinomios de grado $2n-1$ o menores."
      ]
    },
    {
      "cell_type": "markdown",
      "metadata": {
        "id": "0h7bEFXy9dhg"
      },
      "source": [
        "## Ejemplo 1: Aproximar\n",
        "\n",
        "$$\\int_{0}^{1} \\frac{sin(\\pi x)}{\\pi x}$$\n",
        "\n",
        "Por cuadratura Gaussiana de 3 puntos\n"
      ]
    },
    {
      "cell_type": "code",
      "metadata": {
        "colab": {
          "base_uri": "https://localhost:8080/",
          "height": 299
        },
        "id": "2rstZ68rXfhp",
        "outputId": "62674b27-f7dd-45d2-edc5-72ac793283bd"
      },
      "source": [
        "x = np.linspace(0, 1.001, 100)\n",
        "y1 = np.sin(np.pi*x)/(np.pi*x)\n",
        "plt.fill_between(x, y1)\n",
        "plt.plot(x, y1)\n",
        "plt.show()"
      ],
      "execution_count": null,
      "outputs": [
        {
          "output_type": "stream",
          "name": "stderr",
          "text": [
            "/usr/local/lib/python3.7/dist-packages/ipykernel_launcher.py:2: RuntimeWarning: invalid value encountered in true_divide\n",
            "  \n"
          ]
        },
        {
          "output_type": "display_data",
          "data": {
            "image/png": "[encoded data removed]",
            "text/plain": [
              "<Figure size 432x288 with 1 Axes>"
            ]
          },
          "metadata": {
            "needs_background": "light"
          }
        }
      ]
    },
    {
      "cell_type": "markdown",
      "metadata": {
        "id": "Rsbe6GU69dat"
      },
      "source": [
        "**Observación:** $f(0)=1$"
      ]
    },
    {
      "cell_type": "markdown",
      "metadata": {
        "id": "RRs_YBX59dT-"
      },
      "source": [
        "## Cuadratura Gaussiana de 3 puntos\n",
        "\n",
        "$\\color{blue}{1}$ Cambio de intervalo de $[1,0]$ a $[-1,1]$\n",
        "\n",
        "$$\\int_{0}^{1} f(x)dx = \\int_{-1}^{1} \\lambda' (t) f(\\lambda (t))dt$$\n",
        "\n",
        "$\\lambda (t)$ es recta tal que $\\lambda(-1)=0$ y $\\lambda(1)=1$\n",
        "\n",
        "\\begin{array}{cc}\n",
        "\\lambda & = & \\frac{\\lambda(1)-\\lambda(-1)}{1-(-1)}(t-(-1))+\\lambda(-1)\\\\ \n",
        "& = & \\frac{1}{2} (t+1)\\\\ \n",
        "\\lambda'(t) & = & \\frac{1}{2} \n",
        "\\end{array}"
      ]
    },
    {
      "cell_type": "markdown",
      "metadata": {
        "id": "EougLhQM9dMu"
      },
      "source": [
        "$\\color{blue}{1}$ Cambio de intervalo de $[1,0]$ a $[-1,1]$\n",
        "\n",
        "Así\n",
        "\n",
        "$$\\int_{0}^{1} f(x) dx = \\frac{1}{2} \\int_{-1}^{1} f \\left( \\frac{1}{2}t + \\frac{1}{2} \\right) dt$$\n",
        "\n",
        "$\\color{blue}{2}$ La forma de la cuadratura\n",
        "\n",
        "Cuadratura en el intervalo $[-1,1]$ queda de la forma\n",
        "\n",
        "$$\\int_{-1}^{1} \\text{funci$\\acute{o}$n}(t)dt \\approx \\omega_{1} \\cdot \\text{funci$\\acute{o}$n}(t_{1}) + \\omega_{2} \\cdot \\text{funci$\\acute{o}$n}(t_{2}) +  \\omega_{3} \\cdot \\text{funci$\\acute{o}$n}(t_{3})$$\n",
        "\n",
        "pesos $\\omega_{1},\\omega_{2},\\omega_{3}$"
      ]
    },
    {
      "cell_type": "markdown",
      "metadata": {
        "id": "n3MS8p439dFF"
      },
      "source": [
        "$\\color{blue}{2}$ La forma de la cuadratura\n",
        "\n",
        "Cuadratura en el intervalo $[-1,1]$\n",
        "\n",
        "<center>\n",
        "<img src=\"https://github.com/jugernaut/Prometeo/blob/desarrollo/Figuras/CG3.png?raw=1\" width=\"600\"> \n",
        "</center>\n",
        "\n",
        "pesos $\\omega_{1},\\omega_{2},\\omega_{3}$\n",
        "\n",
        "nodos $t_{1},t_{2},t_{3}$"
      ]
    },
    {
      "cell_type": "markdown",
      "metadata": {
        "id": "gvz4XIjN9c8j"
      },
      "source": [
        "$\\color{blue}{2}$ Con un cambio de variable la forma de la cuadratura en el intervalo $[-1,1]$ es:    \n",
        "\n",
        "$$\\int_{0}^{1} \\frac{sin(\\pi x)}{\\pi x} dx \\approx \\frac{1}{2} \\left[ \\omega_{1} \\frac{sin\\left( \\left( \\frac{1}{2}t_{1}+\\frac{1}{2} \\right) \\pi \\right)}{\\left( \\frac{1}{2}t_{1}+\\frac{1}{2} \\right) \\pi}+ \\omega_{2} \\frac{sin\\left( \\left( \\frac{1}{2}t_{2}+\\frac{1}{2} \\right) \\pi \\right)}{\\left( \\frac{1}{2}t_{2}+\\frac{1}{2} \\right) \\pi}+ \\omega_{3} \\frac{sin\\left( \\left( \\frac{1}{2}t_{3}+\\frac{1}{2} \\right) \\pi \\right)}{\\left( \\frac{1}{2}t_{3}+\\frac{1}{2} \\right) \\pi} \\right]$$\n",
        "\n",
        "Pesos: $\\frac{1}{2} \\omega_{1},\\frac{1}{2} \\omega_{2},\\frac{1}{2} \\omega_{3}$\n",
        "\n",
        "Nodos: $\\frac{1}{2} t_{1} + \\frac{1}{2},\\frac{1}{2} t_{2} + \\frac{1}{2},\\frac{1}{2} t_{3} + \\frac{1}{2}$"
      ]
    },
    {
      "cell_type": "markdown",
      "metadata": {
        "id": "HCkdO4y49c17"
      },
      "source": [
        "¿Cómo obtener los 3 pesos $\\omega_{i}$ y los 3 nodos $t_{i}$ de la cuadratura sobre intervalo $[-1,1]$?\n",
        "\n",
        "$\\color{blue}{3}$ Crea sucesión de polinomios $\\{ P_{k} \\}$ por recurrencia\n",
        "\n",
        "* Necesito los dos primeros polinomios $P_{0},$ $P_{1}$\n",
        "* Con ellos genero $P_{k}$ usando los dos anteriores $P_{k-1},$ $P_{k-2}$\n",
        "\n",
        "\\begin{array}{cc}\n",
        "P_{0}(t) & = & 1\\\\\n",
        "P_{1}(t) & = & t\n",
        "\\end{array}\n",
        "\n",
        "$$kP_{k}(t) = (2k-1)tP_{k-1}(t)-(k-1)P_{k-2}(t)$$\n",
        "\n",
        "Cuadratura de 3 puntos $\\rightarrow$ buscamos $P_{3}$ (grado 3)"
      ]
    },
    {
      "cell_type": "markdown",
      "metadata": {
        "id": "j7oeI9ve9cvR"
      },
      "source": [
        "\\begin{array}{cc}\n",
        "k=2 &  & P_{2}(t)= \\frac{3}{2}t^{2}-\\frac{1}{2}\\\\\n",
        "k=3 &  & P_{3}(t)= \\frac{5}{2}t^{3}-\\frac{3}{2}t\n",
        "\\end{array}"
      ]
    },
    {
      "cell_type": "markdown",
      "metadata": {
        "id": "JBq07xQB9cku"
      },
      "source": [
        "$\\color{blue}{4}$ Los nodos de la cuadratura en $[-1,1]$ son los ceros de $P_{3}$\n",
        "\n",
        "\\begin{array}{cc}\n",
        "P_{3}(t) = 0 & \\Rightarrow & \\frac{5}{3}t^{3}-\\frac{3}{2}t=0\\\\\n",
        "& \\Rightarrow & t \\left( t^{2}-\\frac{3}{5} \\right) = 0\n",
        "\\end{array}\n",
        "\n",
        "Nodos \n",
        "\n",
        "$$t_{1} = - \\sqrt{\\frac{3}{5}}, \\quad t_{2} = 0, \\quad t_{3} = \\sqrt{\\frac{3}{5}}$$"
      ]
    },
    {
      "cell_type": "markdown",
      "metadata": {
        "id": "C6kMx1Mk9cWz"
      },
      "source": [
        "$\\color{blue}{5}$ Hallar los pesos de la cuadratura sobre $[-1,1]$\n",
        "\n",
        "$$\\omega_{1}+\\omega_{2}+\\omega{3}=2 \\rightarrow \\omega_{2}=2 -\\omega_{1}-\\omega_{3}= 2 - \\frac{5}{9} - \\frac{5}{9} = \\frac{8}{9}$$\n",
        "\n",
        "Sistemas de ecuaciones lineales $2 \\times 2$\n",
        "\n",
        "\\begin{array}{cc}\n",
        "- \\sqrt{\\frac{3}{5}} \\omega_{1} +  \\sqrt{\\frac{3}{5}} \\omega_{3} = 0 & & \\omega_{1}=\\frac{5}{9}\\\\\n",
        "& \\rightarrow & \\\\ \n",
        "\\frac{3}{5} \\omega_{1} +  \\frac{3}{5} \\omega_{3} = \\frac{2}{3} & & \\omega_{3}=\\frac{5}{9}\n",
        "\\end{array}"
      ]
    },
    {
      "cell_type": "markdown",
      "metadata": {
        "id": "iWVGwmlq9bx6"
      },
      "source": [
        "$\\color{blue}{6}$ Sustituir\n",
        "\n",
        "$$\\omega_{1} = \\frac{5}{9}, \\quad \\omega_{2} = \\frac{8}{9},\\ \\omega_{3}= \\frac{5}{9}$$\n",
        "\n",
        "$$t_{1} = -\\sqrt{\\frac{3}{5}},\\ t_{2} = 0,\\ t_{3} = \\sqrt{\\frac{3}{5}}$$\n",
        "\n",
        "en cuadratura sobre $[0,1]$\n",
        "\n",
        "$$\\int_{0}^{1} \\frac{sin(\\pi x)}{\\pi x} dx \\approx \\frac{1}{2} \\left[ \\omega_{1} \\frac{sin\\left( \\left( \\frac{1}{2}t_{1}+\\frac{1}{2} \\right) \\pi \\right)}{\\left( \\frac{1}{2}t_{1}+\\frac{1}{2} \\right) \\pi}+ \\omega_{2} \\frac{sin\\left( \\left( \\frac{1}{2}t_{2}+\\frac{1}{2} \\right) \\pi \\right)}{\\left( \\frac{1}{2}t_{2}+\\frac{1}{2} \\right) \\pi}+ \\omega_{3} \\frac{sin\\left( \\left( \\frac{1}{2}t_{3}+\\frac{1}{2} \\right) \\pi \\right)}{\\left( \\frac{1}{2}t_{3}+\\frac{1}{2} \\right) \\pi} \\right]$$\n",
        "\n",
        "$$=0.5895$$"
      ]
    },
    {
      "cell_type": "markdown",
      "metadata": {
        "id": "lEk8x7MsjtOO"
      },
      "source": [
        "Considerar:    \n",
        "\n",
        "$$\\int_{-1}^{1} P_{2}(t)P_{3}(t)dt = 0$$\n",
        "\n",
        "porque\n",
        "\n",
        "$$\\int_{-1}^{1} P_{2}(t)P_{3}(t)dt = \\frac{15}{4} \\int_{-1}^{1} t^{5} dt - \\frac{14}{4} \\int_{-1}^{1} t^{3} dt + \\frac{3}{4} \\int_{-1}^{1} t dt$$\n",
        "\n",
        "y la integral de una función impar sobre $[-1,1]$ es cero.\n",
        "\n",
        "$\\color{green}{Observaci\\acute{o}n\\ 1:}$\n",
        "\n",
        "En general, si tomamos polinomios distintos $P_{i},P_{j},i \\not= j$ generados por la recurrencia, entonces\n",
        "\n",
        "$$\\int_{-1}^{1} P_{i}(t)P_{j}(t)dt = 0$$\n",
        "\n",
        "En este sentido los polinomios de la sucesión son ortogonales."
      ]
    },
    {
      "cell_type": "markdown",
      "metadata": {
        "id": "E9sOYJChjs6h"
      },
      "source": [
        "**Observación 2:**\n",
        "\n",
        "La cuadratura Gaussiana de 3 puntos sobre intervalo $[-1,1]$ es exacta para polinomio de grado $2(3)-1$\n",
        "\n",
        "$$\\int_{-1}^{1} t^{k}dt = \\frac{5}{9} \\left( - \\sqrt{\\frac{3}{5}} \\right)^{k} + \\frac{8}{9} (0)^{k} + \\frac{5}{9} \\left( \\sqrt{\\frac{3}{5}} \\right)^{k}$$\n",
        "\n",
        "*Si usamos cuadratura Gaussiana de 2 puntos sobre el intervalo $[-1,1]$ ¿Cuál es el grado máximo del polinomio donde es exacta?*"
      ]
    },
    {
      "cell_type": "markdown",
      "metadata": {
        "id": "h24VAyKDsKMO"
      },
      "source": [
        "# **Polinomios ortogonales de Legendre**"
      ]
    },
    {
      "cell_type": "markdown",
      "metadata": {
        "id": "2Ey0XY5XsUMz"
      },
      "source": [
        "\\begin{array}{cc}\n",
        "P_{0} & = & 1\\\\\n",
        "P_{1} & = & x\\\\\n",
        "P_{2} & = & \\frac{1}{2}(3x^{2}-1)\\\\\n",
        "P_{3} & = & \\frac{1}{2}(5x^{3}-3x)\\\\\n",
        "P_{4} & = & \\frac{1}{8}(35x^{4}-30x^{2}+3)\\\\\n",
        "P_{5} & = & \\frac{1}{8}(63x^{5}-70x^{3}+3)\\\\\n",
        "P_{6} & = & \\frac{1}{16}(231x^{6}-315x^{4}+105x^{2}-5)\\\\\n",
        "P_{7} & = & \\frac{1}{16}(429x^{7}-693x^{5}+315x^{3}-35x)\\\\\n",
        "& \\vdots & \\\\  \n",
        "P_{n} & = & \\frac{1}{2^{n} n!} \\frac{d^{n}}{dx^{n}} \\left( \\left( x^{2}-1 \\right)^{n} \\right)\\\\\n",
        "\\end{array}"
      ]
    },
    {
      "cell_type": "markdown",
      "metadata": {
        "id": "dVAQkuU1t63r"
      },
      "source": [
        "Queremos usar el método de coeficientes indeterminados para obtener las abscisas $x_{1}$, $x_{2}$ y los pesos $\\omega_{1}$, $\\omega_{2}$ tal que la fórmula:    \n",
        "\n",
        "$$\\int_{-1}^{1} f(x) \\approx \\omega_{1} f(x_{1}) + \\omega_{2} f(x_{2})$$\n",
        "\n",
        "sea exacta para polinomios cúbicos: $f(x)=a_{3}x^{3}+a_{2}x^{2}+a_{1}x+a_{0}$. Necesitamos determinar cuatro coeficientes. Será suficiente que la fórmula anterior sea exacta para $f(x)=1,x,x^{2},x^{3}$. Las cuatro integrales son:    \n",
        "\n",
        "\\begin{array}{ccc}\n",
        "f(x)=1: & \\int_{-1}^{1} 1dx =2 & = & \\omega_{1}+\\omega_{2}\\\\\n",
        "f(x)=x: & \\int_{-1}^{1} xdx =0 & = & \\omega_{1}x_{1}+\\omega_{2}x_{2}\\\\\n",
        "f(x)=x^{2}: & \\int_{-1}^{1} x^{2}dx =\\frac{2}{3} & = & \\omega_{1}x_{1}^{2}+\\omega_{2}x_{2}^{2}\\\\\n",
        "f(x)=x^{3}: & \\int_{-1}^{1} x^{3}dx =0 & = & \\omega_{1}x_{1}^{3}+\\omega_{2}x_{2}^{3}\n",
        "\\end{array}\n",
        "\n",
        "Esto deja a lugar a un sistema de ecuaciones no lineales."
      ]
    },
    {
      "cell_type": "markdown",
      "metadata": {
        "id": "UiGFk0qnxlrd"
      },
      "source": [
        "Tenemos entonces que resolver el sistema de ecuaciones no lineales:    \n",
        "\n",
        "\n",
        "$$\\omega_{1}+ \\omega_{2}  =  2 \\tag{1} $$ \n",
        "$$\\omega_{1}x_{1}  =  -\\omega_{2}x_{2} \\tag{2}$$ \n",
        "$$\\omega_{1}x_{1}^{2} + \\omega_{2}x_{2}^{2}  =  \\frac{2}{3} \\tag{3}$$ \n",
        "$$\\omega_{1}x_{1}^{3}  =  -\\omega_{2} x_{2}^{3} \\tag{4}$$ \n",
        "\n",
        "\n",
        "Dividimos $(4)$ entre $(1)$:    \n",
        "$$x_{1}^{2}=x_{2}^{2} \\quad \\acute{o} \\quad x_{1} = -x_{2} \\tag{5}$$ \n",
        "\n",
        "Usamos $(5)$ y dividimos $(2)$ entre $x_{1}$ en la izquierda y $-x_{2}$ en la derecha, obteniendo:     \n",
        "\n",
        "$$\\omega_{1} = \\omega_{2} \\tag{6}$$\n",
        "\n",
        "Sustituimos $(6)$ en $(1)$ lo que resulta en que como\n",
        "\n",
        "$$\\omega_{1} + \\omega_{2} = 2 \\Rightarrow \\omega_{1} = \\omega_{2} = 1 \\tag{7}$$\n",
        "\n",
        "Usando $(7)$ y $(5)$ en $(3)$, podemos expresar:     \n",
        "\n",
        "$$\\omega_{1}x_{1}^{2}+\\omega_{2}x_{2}^{2} = x_{2}^{2} + x_{2}^{2} = \\frac{2}{3} \\Rightarrow x_{2}^{2} = \\frac{1}{3} \\tag{8}$$\n",
        "\n",
        "Finalmente de $(8)$ y $(5)$ tenemos que los nodos de integración Gaussiana son:    \n",
        "\n",
        "$$- x_{1} = x_{2} = \\frac{1}{\\sqrt{3}} \\approx 0.5773502692 \\tag{9}$$"
      ]
    },
    {
      "cell_type": "markdown",
      "metadata": {
        "id": "_j0rCFoP01vE"
      },
      "source": [
        "# **Cuadratura Gaussiana con 2 puntos**"
      ]
    },
    {
      "cell_type": "markdown",
      "metadata": {
        "id": "oqU2461B0_2U"
      },
      "source": [
        "Como la fórmula es exacta para polinomios cúbicos (exactitud$= 2n-1$, con $n=2$), la fórmula de error involucra la derivada de grado cuatro.\n",
        "\n",
        "$\\color{blue}{Regla\\ de\\ integraci\\acute{o}n\\ de\\ Gauss-Legendre\\ con\\ 2\\ puntos}$\n",
        "\n",
        "Si $f$ es continua en $[-1,1]$ la regla Gaus-Legendre con 2 puntos $G_{2}(f)$ tiene precisión 3. Si $f \\in C^{4} [-1,1]$, entonces:    \n",
        "\n",
        "$$\\int_{-1}^{1} f(x) dx =  f \\left( - \\frac{1}{\\sqrt{3}} \\right) + f \\left( \\frac{1}{\\sqrt{3}} \\right) + \\frac{f^{(4)}(c)}{135} \\tag{10}$$\n",
        "\n",
        "para algún $c \\in [-1,1]$."
      ]
    },
    {
      "cell_type": "markdown",
      "metadata": {
        "id": "DA-73IeO2bDD"
      },
      "source": [
        "# **Cuadratura Gaussiana con 2 puntos**"
      ]
    },
    {
      "cell_type": "markdown",
      "metadata": {
        "id": "xAeBsfwg2g_V"
      },
      "source": [
        "Como la fórmula es exacta para polinomios de grado quinto, la fórmula de error involucra la derivada de grado sexto.\n",
        "\n",
        "$\\color{blue}{Regla\\ de\\ integraci\\acute{o}n\\ de\\ Gauss-Legendre\\ con\\ 3\\ puntos}$\n",
        "\n",
        "Si $f$ es continua en $[-1,1]$ la regla Gauss-Legendre con 3 puntos $G_{3}(f)$ tiene precisión 3. Si $f \\in C^{4}[-1,1]$, entonces:     \n",
        "\n",
        "$$\\int_{-1}^{1} f(x)dx = \\frac{1}{9} \\left[ 5f \\left( - \\sqrt{\\frac{3}{5}} \\right) + 8f(0) + 5f \\left( \\sqrt{\\frac{3}{5}} \\right) \\right] + \\frac{f^{(6)}(c)}{15750}$$\n",
        "\n",
        "para algún $c \\in [-1,1]$"
      ]
    },
    {
      "cell_type": "markdown",
      "metadata": {
        "id": "pGi7fjJt3lgK"
      },
      "source": [
        "# **Método de Ingeración Gauss-Legendre**"
      ]
    },
    {
      "cell_type": "markdown",
      "metadata": {
        "id": "iv2wVO_w32Ia"
      },
      "source": [
        "Construcción de la aproximación de la integral:\n",
        "\n",
        "$$\\int_{a}^{b} f(x) dx \\approx \\frac{b-a}{2} \\sum_{k=1}^{n} \\omega_{N,k} f(t_{N,k})$$\n",
        "\n",
        "que se obtiene evaluando $f(x)$ en $N$ nodos (que no son equi-espaciados, pues son los ceros de los polinomios de Legendre), $\\{ t_{N,k} \\}_{k=1}^{N}$ dados por el cambio de variable:\n",
        "\n",
        "$$t = \\frac{a+b}{2}+\\frac{b-a}{2}x, \\quad con \\quad dt= \\frac{b-a}{2}dx$$\n",
        "\n",
        "a partir de los nodos $\\{ x_{N,k} \\}_{k=1}^{N}$ que así como los pesos correspondientes $\\{ \\omega_{N,k} \\}_{k=1}^{N}$ deben de ser previamente obtenidos en tablas de valores."
      ]
    },
    {
      "cell_type": "markdown",
      "metadata": {
        "id": "QA3OyTRD5d9f"
      },
      "source": [
        "#Ejemplo:\n",
        "\n",
        "Podemos calcular los coeficientes de polinomios de Legendre de grado $N$ "
      ]
    },
    {
      "cell_type": "code",
      "metadata": {
        "id": "n7E_7T6q5wCS"
      },
      "source": [
        "def Legendre_poly(N):\n",
        "    \"\"\"\n",
        "    Generador de coeficientes de polinomios de Legendre de grado N\n",
        " \n",
        "    Por ejemplo:\n",
        "    p = Legendre_poly(3)\n",
        "    \"\"\"\n",
        "    if N <=0:\n",
        "        c = np.array([1])\n",
        "    elif N==1:\n",
        "        c = np.array([1,0])\n",
        "    else:\n",
        "        a = list(Legendre_poly(N-1))\n",
        "        a.append(0)\n",
        "        a = np.array(a)\n",
        " \n",
        "        c = list(Legendre_poly(N-2))\n",
        "        b = [0,0]\n",
        "        b.extend(c)\n",
        "        b = np.array(b)\n",
        " \n",
        "        c = ((2*N-1)*a+(N-1)*b)/float(N)\n",
        " \n",
        "    return c"
      ],
      "execution_count": null,
      "outputs": []
    },
    {
      "cell_type": "code",
      "metadata": {
        "colab": {
          "base_uri": "https://localhost:8080/"
        },
        "id": "kooZfBLY5yUD",
        "outputId": "a400b2d8-9d4f-4c6a-e087-4c1f8bd37213"
      },
      "source": [
        "Legendre_poly(3)"
      ],
      "execution_count": null,
      "outputs": [
        {
          "output_type": "execute_result",
          "data": {
            "text/plain": [
              "array([2.5, 0. , 1.5, 0. ])"
            ]
          },
          "metadata": {},
          "execution_count": 4
        }
      ]
    },
    {
      "cell_type": "code",
      "metadata": {
        "id": "wuCJgUjg52IU"
      },
      "source": [
        "def Gauss_Legendre(N):\n",
        "    \"\"\"\n",
        "    Generador de nodos y pesos para integracion Gauss-Lagendre de grado N\n",
        " \n",
        "    Por ejemplo:\n",
        "    x,w = Gauss_Legendre(3)\n",
        "    \"\"\"\n",
        "    if N<0:\n",
        "        print(\"El polinomio Gauss-Legendre polynomial no puede ser de grado negativo??\")\n",
        "        return\n",
        "     \n",
        "    c = Legendre_poly(N)\n",
        "    p = np.poly1d(c)\n",
        "    x = np.imag(p.r)\n",
        "     \n",
        "    A = np.matrix(np.zeros([N,N]),dtype='complex')\n",
        "    b = np.matrix(np.zeros([N,1]),dtype='complex')\n",
        "    A[0,:] = 1\n",
        "    b[0,0] = 2\n",
        "    for i in range(1,N):\n",
        "        for j in range(N):\n",
        "            A[i,j] = x[j]**i\n",
        "        if i%2 !=0:\n",
        "            b[i,0] = 0\n",
        "        else:\n",
        "            b[i,0] = float(2)/(i+1)\n",
        " \n",
        "    w=np.linalg.solve(A,b)\n",
        "                   \n",
        "    return x,np.real(w)"
      ],
      "execution_count": null,
      "outputs": []
    },
    {
      "cell_type": "markdown",
      "metadata": {
        "id": "QFVqdWbj5_zD"
      },
      "source": [
        "Usaremos en método de Gauss-Legendre para la función $f(x) = 3x^{2}$"
      ]
    },
    {
      "cell_type": "code",
      "metadata": {
        "id": "YyHkTxUh6H2p"
      },
      "source": [
        "def Gauss_Legendre_quadrature(f,a,b,N):\n",
        "    \"\"\"\n",
        "    Integracion de Gauss-Legendre Ide la funcion f(x) en [a,b] con N puntos.\n",
        " \n",
        "    Por ejemplo:\n",
        "    S = Gauss_Legendre_quadrature(lambda x: 3*x**5+4*x**3-2*x+1,-2,3,10)\n",
        "    \"\"\"\n",
        " \n",
        "    x,w = Gauss_Legendre(N)\n",
        "    x = ((b-a)*x+a+b)/2\n",
        "    y = f(x)\n",
        " \n",
        "    S = np.dot(y,w)*(b-a)/2.0\n",
        "    return float(S.real)"
      ],
      "execution_count": null,
      "outputs": []
    },
    {
      "cell_type": "code",
      "metadata": {
        "id": "P7g0Fih-6J6e"
      },
      "source": [
        "def f(x):\n",
        "    return 3*x**2"
      ],
      "execution_count": null,
      "outputs": []
    },
    {
      "cell_type": "code",
      "metadata": {
        "colab": {
          "base_uri": "https://localhost:8080/"
        },
        "id": "qvMWKp9G6MA6",
        "outputId": "4cb7b93a-c0c5-42d7-a676-95679804bd2a"
      },
      "source": [
        "Gauss_Legendre_quadrature(lambda x:f(x),0,1,3)"
      ],
      "execution_count": null,
      "outputs": [
        {
          "output_type": "execute_result",
          "data": {
            "text/plain": [
              "0.9999999999999998"
            ]
          },
          "metadata": {},
          "execution_count": 8
        }
      ]
    },
    {
      "cell_type": "markdown",
      "metadata": {
        "id": "dma3bivy6YU9"
      },
      "source": [
        "Ahora para la función $f(x) = \\frac{\\left( e^{(-9x^{2})}-e^{-1024 \\left(x-\\frac{1}{4} \\right)^{2}} \\right)}{\\sqrt{\\pi}}$"
      ]
    },
    {
      "cell_type": "code",
      "metadata": {
        "id": "fDy9vzkl8KOf"
      },
      "source": [
        "def f(x): \n",
        "    return (np.exp(-9*x**2)-np.exp(-1024*(x-1/4.)**2))/math.sqrt(np.pi)"
      ],
      "execution_count": null,
      "outputs": []
    },
    {
      "cell_type": "code",
      "metadata": {
        "colab": {
          "base_uri": "https://localhost:8080/"
        },
        "id": "T_i7lXrg6XyZ",
        "outputId": "761c2d1d-fdee-4040-fe80-98445abcdf26"
      },
      "source": [
        "Gauss_Legendre_quadrature(lambda x:f(x),0,1,15)"
      ],
      "execution_count": null,
      "outputs": [
        {
          "output_type": "execute_result",
          "data": {
            "text/plain": [
              "0.15076213047349424"
            ]
          },
          "metadata": {},
          "execution_count": 10
        }
      ]
    },
    {
      "cell_type": "markdown",
      "metadata": {
        "id": "1pJFYLT37ZuZ"
      },
      "source": [
        "Y podemos calcular los nodos y pesos para el polinomio de grado 10"
      ]
    },
    {
      "cell_type": "code",
      "metadata": {
        "colab": {
          "base_uri": "https://localhost:8080/"
        },
        "id": "rUcZnqki7ufD",
        "outputId": "567ec6cc-3696-4ad4-9a17-e7188891cfee"
      },
      "source": [
        "x,w = Gauss_Legendre(10)\n",
        "\n",
        "print(\"Los nodos son \",x)\n",
        "print(\"Los pesos son \",w)"
      ],
      "execution_count": null,
      "outputs": [
        {
          "output_type": "stream",
          "name": "stdout",
          "text": [
            "Los nodos son  [ 0.97390653 -0.97390653  0.86506337 -0.86506337  0.67940957 -0.67940957\n",
            "  0.43339539 -0.43339539  0.14887434 -0.14887434]\n",
            "Los pesos son  [[0.06667134]\n",
            " [0.06667134]\n",
            " [0.14945135]\n",
            " [0.14945135]\n",
            " [0.21908636]\n",
            " [0.21908636]\n",
            " [0.26926672]\n",
            " [0.26926672]\n",
            " [0.29552422]\n",
            " [0.29552422]]\n"
          ]
        }
      ]
    },
    {
      "cell_type": "markdown",
      "metadata": {
        "id": "rdtJWt64jsN1"
      },
      "source": [
        "#**Tarea**"
      ]
    },
    {
      "cell_type": "markdown",
      "metadata": {
        "id": "mb1Vk3Varocs"
      },
      "source": [
        "* $\\color{red}{Aproximar\\ por\\ cuadratura\\ gaussiana\\ de\\ 3\\ puntos}$\n",
        "\n",
        "$$\\color{red}{\\int_{0}^{1/2} \\frac{sin(\\pi x)}{\\pi x} dx}$$\n",
        "\n",
        "* $\\color{red}{Aproximar\\ por\\ cuadratura\\ gaussiana\\ de\\ 2\\ puntos}$\n",
        "\n",
        "$$\\color{red}{\\int_{0}^{1} e^{-x^{2}} dx}$$"
      ]
    },
    {
      "cell_type": "markdown",
      "metadata": {
        "id": "SnUDjm698Qbk"
      },
      "source": [
        "# Bibliografia"
      ]
    },
    {
      "cell_type": "markdown",
      "metadata": {
        "id": "NtaUmtGK8TdB"
      },
      "source": [
        "* Heath, M. Scientific computing an introductory survey. 1997, McGraw-Hill.\n",
        "* Stewart, G.W., Afternotes on Numerical Analysis, SIAM, 1996.\n",
        "* Cheney W. and Hincaid D. Numerical Mathematics and Computing. Thomson Brooks/Cole 2008.\n",
        "* Mathews J. H. y K. D. Fink. Métodos numérocps con Matlab. Pearson Pretice Hall\n",
        "* Ascher U.M, and C. Greif. A First course in Numerical Methods. 2011, SIAM."
      ]
    }
  ]
}
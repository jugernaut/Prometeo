{
  "nbformat": 4,
  "nbformat_minor": 0,
  "metadata": {
    "colab": {
      "name": "Copia de 01_ReglasDeCuadraturaElementalesYCompuestas.ipynb",
      "provenance": [],
      "include_colab_link": true
    },
    "kernelspec": {
      "name": "python3",
      "display_name": "Python 3"
    },
    "language_info": {
      "name": "python"
    }
  },
  "cells": [
    {
      "cell_type": "markdown",
      "metadata": {
        "id": "view-in-github",
        "colab_type": "text"
      },
      "source": [
        "<a href=\"https://colab.research.google.com/github/jugernaut/Prometeo/blob/desarrollo/06_AnalisisNumerico/04_CuadraturaNumerica/01_ReglasDeCuadraturaElementalesYCompuestas.ipynb\" target=\"_parent\"><img src=\"https://colab.research.google.com/assets/colab-badge.svg\" alt=\"Open In Colab\"/></a>"
      ]
    },
    {
      "cell_type": "code",
      "metadata": {
        "id": "m4zhMT4qe3UC"
      },
      "source": [
        "import numpy as np\n",
        "from scipy.integrate import simps"
      ],
      "execution_count": null,
      "outputs": []
    },
    {
      "cell_type": "markdown",
      "metadata": {
        "id": "DMrs2GJqTyKh"
      },
      "source": [
        "<font color=\"Teal\" face=\"Comic Sans MS,arial\">\n",
        "  <h1 align=\"center\"><i>Reglas de cuadratura elementales: Punto medio, trapecio y Simpson; y\n",
        "sus estimaciones de error.</i></h1>\n",
        "  </font>\n",
        "  <font color=\"Black\" face=\"Comic Sans MS,arial\">\n",
        "  <h5 align=\"center\"><i>Profesora: \tUrsula Xiomara Iturrarán Viveros</i></h5>\n",
        "    <h5 align=\"center\"><i>Ayudante: Juan Pablo Cordero Santiago</i></h5>\n",
        "  <h5 align=\"center\"><i>Materia: Análisis Numérico</i></h5>\n",
        "  </font>\n",
        "\n",
        "  # Prometeo\n",
        "\n",
        "Este sitio puede ser usado libremente, tanto por profesores como por estudiantes, que deseen complementar sus cursos y conocimientos en los temas antes mencionados. Los materiales están bajo una Licencia Creative Commons Atribución-NoComercial-CompartirIgual 4.0 Internacional\n",
        "\n",
        "<a rel=\"license\" href=\"http://creativecommons.org/licenses/by-nc-sa/4.0/\"><img alt=\"Licencia Creative Commons\" style=\"border-width:0\" src=\"https://i.creativecommons.org/l/by-nc-sa/4.0/88x31.png\" /></a><br />Esta obra está bajo una <a rel=\"license\" href=\"http://creativecommons.org/licenses/by-nc-sa/4.0/\">Licencia Creative Commons Atribución-NoComercial-CompartirIgual 4.0 Internacional</a>.\n",
        "\n",
        "Trabajo realizado con el apoyo del Programa UNAM-DGAPA-PAPIME PE101019"
      ]
    },
    {
      "cell_type": "markdown",
      "metadata": {
        "id": "WcsEXZ-ITyWi"
      },
      "source": [
        "# **Introducción**"
      ]
    },
    {
      "cell_type": "markdown",
      "metadata": {
        "id": "J4OIv402Tyf1"
      },
      "source": [
        "Muchas veces necesitamos calcular la integral de una función,\n",
        "pero esta no puede expresarse en términos funciones\n",
        "trascendentales. Por lo que es necesario aproximar el valor de la\n",
        "integral, numericamente:\n",
        "$$\\int e^{-x^{2}} dx$$\n",
        "Esta integral es muy importante en probabilidad y estadística y\n",
        "existe una tabla de la función de error:\n",
        "$$err(x) = \\frac{2}{\\sqrt{\\pi}} \\int e^{-x^{2}} dx$$\n",
        "\n",
        "El proceso de evaluar una integral definida de una función usando\n",
        "los valores de esta función se le llama $\\color{blue}{intergraci\\acute{o}n\\ num\\acute{e}rica\\ o\\\n",
        "cuadratura\\ num\\acute{e}rica}$"
      ]
    },
    {
      "cell_type": "markdown",
      "metadata": {
        "id": "ieMEUWBTTyni"
      },
      "source": [
        "## Presentación del problema\n",
        "\n",
        "Aproximar el valor de la integral definida\n",
        "\n",
        "$$\\int_{a}^{b} f(x) dx$$\n",
        "\n",
        "Cuando (por ejemplo):\n",
        "\n",
        "* No se tiene la expresión analítica de la antiderivada\n",
        "* Sólo se conoce el valor de $f(x)$ en los puntos\n",
        "$x_{1}, x_{2}, . . . , x_{n} \\in [a, b]$\n"
      ]
    },
    {
      "cell_type": "markdown",
      "metadata": {
        "id": "Ie3jxqoOTyu6"
      },
      "source": [
        "# **Cuadratura**"
      ]
    },
    {
      "cell_type": "markdown",
      "metadata": {
        "id": "RGFyfcU5Ty2L"
      },
      "source": [
        "Existen diferentes aproximaciones de la integral de $f\\left(x\\right)$ mediante cuadratura numérica, en esta sección revisaremos algunas de las mas comunes.\n",
        "\n",
        "La $\\color{red}{Cuadratura\\ num\\acute{e}rica}$ es la forma para poder encontrar una aproximación la integral, la cual emplea la suma:\n",
        "\n",
        "$$\\sum_{i=0}^{n}c_{i}f\\left(\\xi_{i}\\right)$$\n",
        "\n"
      ]
    },
    {
      "cell_type": "markdown",
      "metadata": {
        "id": "tSq07MLPTy9b"
      },
      "source": [
        "##Integración numérica\n",
        "\n",
        "Definimos \n",
        "$$Q_{n}f:=  \\sum_{i=0}^{n}c_{i}f\\left(\\xi_{i}\\right)$$\n",
        "\n",
        "Pero ¿Cómo se relaziona con la integral' veamos:\n",
        "$$I_{a}^{b} (f) = \\int_{a}^{b} f(x)dx \\approx Q_{n}f$$\n",
        "\n",
        "Sea $(Q_{n}f)$\n",
        "\n",
        "$$Q_{n}f \\rightarrow I_{a}^{b} (f) \\quad cuando \\quad n \\to \\infty$$\n",
        "\n",
        "\n"
      ]
    },
    {
      "cell_type": "markdown",
      "metadata": {
        "id": "oQ30wq5np8E3"
      },
      "source": [
        "Donde $x_{1} < x_{2} < . . . < x_{n}$, $Q_{n}$ es cerrada si $a = x_{1}$ y $b = x_{n}$ y $Q_{n}$ es abierta si $a, b \\not\\in \\{x_{i} \\}$"
      ]
    },
    {
      "cell_type": "markdown",
      "metadata": {
        "id": "YPZMA7PKTzFA"
      },
      "source": [
        "## Construcción\n",
        "\n",
        "Para la construcción de las Cuadraturas usaremos la $\\color{blue}{Sumas\\ de\\\n",
        "Riemann}$.\n",
        "\n",
        "$$Q_{n}f:=  \\sum_{i=0}^{n}c_{i}f\\left(\\xi_{i}\\right)$$\n",
        "\n",
        "* $n$ subintervalos iguales $[xi−1, xi]$.\n",
        "* $h:= \\frac{b-a}{n}$; $c_{i} = h$\n",
        "* $\\xi_{i} = x_{i}$ ó $x_{i−1}$\n",
        "\n",
        "$$ R_{n}^{r}f := \\sum_{i}^{n} (x_{i} − x_{i−1}) f(x_{i}) = h \\sum_{i=1}^{n}  f(x_{i}) \\quad (por\\ la\\ derecha)$$\n",
        "\n",
        "$$ R_{n}^{l}f := \\sum_{i}^{n} (x_{i} − x_{i−1}) f(x_{i-1}) = h \\sum_{i=1}^{n}  f(x_{i-1}) \\quad (por\\ la\\ izquierda)$$\n",
        "\n",
        "\n",
        "\n"
      ]
    },
    {
      "cell_type": "markdown",
      "metadata": {
        "id": "q5bUQ9bCTzMk"
      },
      "source": [
        "## Error en $R_{n}^{r}f$\n",
        "\n",
        "<center>\n",
        "<img src=\"https://github.com/jugernaut/Prometeo/blob/desarrollo/Figuras/errorRi.png?raw=1\" width=\"600\"> \n",
        "</center>\n",
        "\n",
        "Módulo de continuidad\n",
        "\n",
        "$$\\omega (f, \\delta) := m\\acute{a}x \\{ \\left | f(x_{1})-f(x_{2}) \\right| :x_{1}, x_{2} \\in [a,b], |x_{1}-x_{2}| \\leq \\delta  \\}$$"
      ]
    },
    {
      "cell_type": "markdown",
      "metadata": {
        "id": "DP0hCnwq4hMM"
      },
      "source": [
        "## Construcción usando Aproximaciones\n",
        "\n"
      ]
    },
    {
      "cell_type": "markdown",
      "metadata": {
        "id": "48gEEVzQzmR8"
      },
      "source": [
        "Sea $g(x)$ tal que\n",
        "\n",
        "$$\\| g(x) -f(x) \\| \\leq \\frac{\\varepsilon}{b-a}, \\quad  \\forall x \\in [a,b]$$\n",
        "\n",
        "entonces\n",
        "\n",
        "$$\\int f(x) dx \\approx \\int g(x) dx$$\n",
        "\n",
        "Conveniente cuando la expresión para $g$ reduce el número de\n",
        "operaciones artiméticas o la antiderivada de $g$ es fácil de obtener.\n",
        "\n",
        "$$\\left | I_{a}^{b}g - I_{a}^{b}f \\right| = \\left | \\int_{a}^{b}g(x)dx - \\int_{a}^{b} f(x) dx \\right|$$\n",
        "\n",
        "\\begin{array}{cc}\n",
        "\\left | I_{a}^{b}g - I_{a}^{b}f \\right| & = & \\left | \\int_{a}^{b}g(x)dx - \\int_{a}^{b} f(x) dx \\right|\\\\\n",
        "& \\leq & \\int_{a}^{b} \\left | g(x)-f(x) \\right| dx\\\\\n",
        "& \\leq & (b-a) \\| g-f \\| \\leq \\varepsilon\n",
        "\\end{array}"
      ]
    },
    {
      "cell_type": "markdown",
      "metadata": {
        "id": "TDKDXL-emDao"
      },
      "source": [
        "# Cuadratura del punto medio\n",
        "\n",
        "Para el punto medio queremos aproximar \n",
        "\n",
        "$$\\int_{a}^{b}f\\left(x\\right)dx$$\n",
        "\n",
        "Para esto recordemos Cálculo donde podemos obtener el área bajo la curva $f(x)$, tomaremos la idea de un rectángulo con base $b-a$ y una altura $f \\left( \\frac{a+b}{2} \\right)$\n",
        "\n",
        "$$\\int_{a}^{b}f\\left(x\\right)dx=\\left(b-a\\right)f\\left(\\frac{a+b}{2}\\right)+\\varepsilon\\left(f\\right) $$\n",
        "\n",
        "Donde $\\varepsilon\\left(f\\right)$, si $f$ tiene primera y segunda derivada continuas en $\\left[a,b\\right]$, se expresa así\n",
        "\n",
        "$$\\varepsilon\\left(f\\right)=\\frac{\\left(b-a\\right)^{2}}{24}f''\\left(\\xi\\right)\\quad\\xi\\in\\left[a,b\\right]$$\n",
        "\n",
        "Podemos ver la regal del punto medio como\n",
        "\n",
        "$$\\int_{a}^{b}f\\left(x\\right)dx=\\frac{b-a}{n}\\sum_{i=0}^{n-1}f\\left(\\frac{x_{i}+x_{i+1}}{2}\\right)+\\varepsilon\\left(f\\right)$$"
      ]
    },
    {
      "cell_type": "markdown",
      "metadata": {
        "id": "8I9BBOYVoEFd"
      },
      "source": [
        "## Ejemplo:\n",
        "\n",
        "$$\\int_{1}^{11} \\frac{dx}{x}$$"
      ]
    },
    {
      "cell_type": "code",
      "metadata": {
        "id": "3G2YMnlZnT_b",
        "outputId": "0d600a81-b610-4542-adc7-e27dc3248c0e",
        "colab": {
          "base_uri": "https://localhost:8080/"
        }
      },
      "source": [
        "def PuntoMedio(n):\n",
        "    a=1 # a punto inicial del intervalo\n",
        "    b=11 # b punto final del intervalo\n",
        "    # f funcion a integrar **\n",
        "    def f(x):\n",
        "        return 1/x\n",
        "    x=np.linspace(a,b,n+1)\n",
        "    # aproximacion mediante la cuadratura del punto medio\n",
        "    cuadratura=0.0\n",
        "    for i in range (len(x)-1):\n",
        "        cuadratura+=f( (x[i]+x[i+1])/2 )\n",
        "    # valor aproximado     \n",
        "    integral=((b-a)/n)*cuadratura\n",
        "    \n",
        "    print(\"El logaritmo natural con el metodo del punto medio es: {}\".format(integral)) \n",
        "\n",
        "PuntoMedio(51)"
      ],
      "execution_count": null,
      "outputs": [
        {
          "output_type": "stream",
          "name": "stdout",
          "text": [
            "El logaritmo natural con el metodo del punto medio es: 2.396317131517554\n"
          ]
        }
      ]
    },
    {
      "cell_type": "markdown",
      "metadata": {
        "id": "gTUUjPXy3V3k"
      },
      "source": [
        "# **Teorema: Aproximación de Weierstrass**"
      ]
    },
    {
      "cell_type": "markdown",
      "metadata": {
        "id": "77DhX4Fa307w"
      },
      "source": [
        "**Teorema** (Aproximación de Weierstrass)\n",
        "Sea $f$ función continua de variable real en $[a, b]$. $ \\forall \\varepsilon > 0$, existe un polinomio $p(x)$ tal que si $x \\in [a, b]$, entonces $\\left |f(x) − p(x)\\right| < \\varepsilon$ o equiv. $\\| f − p \\|_{\\infty} < \\varepsilon$."
      ]
    },
    {
      "cell_type": "markdown",
      "metadata": {
        "id": "Kuj3VRee4oLM"
      },
      "source": [
        "#**Regla del trapecio**"
      ]
    },
    {
      "cell_type": "markdown",
      "metadata": {
        "id": "PW1A20eb4z3C"
      },
      "source": [
        "La regla más simple de cuadratura es la regla del trapecio. La idea\n",
        "es aproximar el área de la curva $y = f(x)$ con el área del trapecio\n",
        "$ABCD$\n",
        "\n",
        "<center>\n",
        "<img src=\"https://github.com/jugernaut/Prometeo/blob/desarrollo/Figuras/trap.png?raw=1\" width=\"600\"> \n",
        "</center>"
      ]
    },
    {
      "cell_type": "markdown",
      "metadata": {
        "id": "f8B-PzMf5BP1"
      },
      "source": [
        "El área del trapecio es $\\frac{(B+b)∗h}{2}$. En este caso la base tiene longitud\n",
        "$h$ y el promedio de la altura es $\\frac{(f(0) + f(h))}{2}$. De forma que:\n",
        "\n",
        "$$\\color{blue}{Forma\\ general\\ de\\ la\\ Regla\\ del\\ Trapecio}$$\n",
        "$$\\int_{0}^{h} f(x)dx = \\frac{h}{2}[f(0)+f(h)]$$\n",
        "\n",
        "La idea es interpolar $f(x)$ en $0$ y en $h$ con un polinomio lineal $l(x)$\n",
        "y tomar $\\int_{0}^{h} l(x)dx$ como una aproximación a la integral de $f$. El\n",
        "polinomio que interpola esta dado por (Polinomio de interpolación de Newton):\n",
        "\n",
        "$$l(x) = f(0) + \\frac{f(h) - f(0)}{h}x$$\n",
        "\n",
        "Se puede ver que la integración de $\\int_{0}^{h} l(x)dx$ es lo mismo que el\n",
        "lado derecho de la $\\color{blue}{Forma\\ general\\ de\\ la\\ Regla\\ del\\ Trapecio}$. La ventaja del enfoque analítico es que se\n",
        "puede derivar una fórmula de error. De la teoría de intepolación\n",
        "tenemos que el error es:\n",
        "\n",
        "$$f(x) − l(x) = \\frac{f''(\\xi(x))}{2}x(x − h)$$\n",
        "\n",
        "donde $\\xi(x) \\in [0, h]$ y $f''(\\xi(x))$ es una función continua de $x$. Si $T_{h}(f)$ denota el lado derecho de la $\\color{blue}{Forma\\ general\\ de\\ la\\ Regla\\ del\\ Trapecio}$ entonces:\n",
        "\n",
        "$$\\color{blue}{Error\\ en\\ la\\ integraci\\acute{o}n\\ con\\ la\\ regla\\ del\\ Trapecio}$$\n",
        "\n",
        "$$\\int_{0}^{h} f(x)dx T_{h}(f) = \\int_{0}^{h} [f(x) - l(x)] dx = \\frac{1}{2}\\int_{0}^{h} f''(\\xi(x))x(x-h)dx$$"
      ]
    },
    {
      "cell_type": "markdown",
      "metadata": {
        "id": "TU-tPuyETX2P"
      },
      "source": [
        "La función $x(x − h)$ es no positiva en $[0,h]$. Por el teorema del\n",
        "valor medio para integrales, para alg ́un $u$ y $\\eta = \\xi(u)$, ambos en\n",
        "$[0,h]$ tenemos:\n",
        "\n",
        "$$\\in_{0}^{h} f(x) dx -T_{h}(f) = \\frac{f''(\\eta)}{2} \\int_{0}^{h} x(x-h)dx = - \\frac{f''(\\eta)}{12} h^{3} $$\n",
        "\n",
        "Esta fórmula muestra que si $f''(x)$ no es muy grande en $[0,h]$ y $h$\n",
        "es pequeña, la regla del trapecio da buenas aproximaciones para\n",
        "la integral. Por ejemplo si $|f''(x)| ≤ 1$ y $h = 10^{−2}$, el error en la regla del trapecio es menor que $10^{−7}$.\n"
      ]
    },
    {
      "cell_type": "markdown",
      "metadata": {
        "id": "-Uz-ZVUXf389"
      },
      "source": [
        "## Ejemplo 1:\n",
        "\n",
        "$$\\ln(11)=\\int_1^{11} \\dfrac{dx}{x}$$"
      ]
    },
    {
      "cell_type": "code",
      "metadata": {
        "id": "OFmBaBtCf6up",
        "outputId": "d29dea23-a572-4168-cd46-14c9b327b8ed",
        "colab": {
          "base_uri": "https://localhost:8080/"
        }
      },
      "source": [
        "def Trapecio():  \n",
        "    a=1 # a punto inicial del intervalo\n",
        "    b=11 # b punto final del intervalo\n",
        "    # f funcion a integrar\n",
        "    def f(x):\n",
        "        return 1/x\n",
        "    \n",
        "    integral=((b-a)/2)*(f(a)+f(b))\n",
        "    print(\"El logaritmo natural con el metodo de cuadratura del Trapecio: {}\".format(integral))\n",
        "\n",
        "Trapecio()"
      ],
      "execution_count": null,
      "outputs": [
        {
          "output_type": "stream",
          "name": "stdout",
          "text": [
            "El logaritmo natural con el metodo de cuadratura del Trapecio: 5.454545454545454\n"
          ]
        }
      ]
    },
    {
      "cell_type": "markdown",
      "metadata": {
        "id": "H57l-MHMVIiv"
      },
      "source": [
        "#**Regla del trapecio compuesta**"
      ]
    },
    {
      "cell_type": "markdown",
      "metadata": {
        "id": "rAoWlQ5qVLfM"
      },
      "source": [
        "Podemos obtener mejores aproximaciones si subdividimos un\n",
        "intervalo $[a,b]$ en varios subintervalos y aplicamos la regla del\n",
        "trapecio a cada uno de ellos. Supongamos que dividimos el\n",
        "intervalo $[a,b]$ en $n$ subintervalos iguales con los puntos\n",
        "$a = x_{0} < x_{1} < . . . < x_{n−1} < x_{n} = b$. Especificamente $h = \\frac{(b − a)}{n}$ es la longitud de los sub-intervalos. Los nodos de integración\n",
        "estarán dados por:\n",
        "\n",
        "$$x_{i} = a + i ∗ h, \\quad i = 0, 1, . . . , n$$\n",
        "\n",
        "Podemos ahora aproximar $$\\int_{x_{i-1}}^{x_{i}}f(x)dx$$ \n",
        "mediante la regla del trapecio:\n",
        "\n",
        "$$\\int_{x_{i-1}}^{x_{i}}f(x)dx =\\approx \\frac{h}{2} [ f(x_{i-1}) - f(x_{i}) ]$$\n",
        "\n",
        "Finalmente sumamos cada una de las aproximaciones individuales\n",
        "para obtener la aproximación:\n",
        "\n",
        "$$\\color{blue}{Regla\\ compuesta\\ del\\ trapecio}$$\n",
        "\n",
        "$$\\int_{a}^{b}f(x)dx =\\approx \\sum_{i=1}^{n} \\frac{h}{2} [ f(x_{i-1}) - f(x_{i}) ]$$\n",
        "\n",
        "Después de arreglar \n",
        "\n",
        "$$\\int_{a}^{b}f(x)dx =\\approx h \\left[ \\frac{f(0)}{2}+ f(x_{1})+f(x_{2})+...+f(x_{n-1})+\\frac{f(x_{n})}{2} \\right]$$\n",
        "\n",
        "que se llama $\\color{blue}{f\\acute{o}rmula\\ compuesta\\ del\\ trapecio}$"
      ]
    },
    {
      "cell_type": "markdown",
      "metadata": {
        "id": "-5iN4rjCe_5W"
      },
      "source": [
        "## Ejemplo 2:\n",
        "\n",
        "$$\\ln(11)=\\int_1^{11} \\dfrac{dx}{x}$$"
      ]
    },
    {
      "cell_type": "code",
      "metadata": {
        "id": "BL9mIkdVfChl",
        "outputId": "86fceb41-9b58-44d0-b9e2-970ac7a12937",
        "colab": {
          "base_uri": "https://localhost:8080/"
        }
      },
      "source": [
        "# limites de integración\n",
        "a = 1\n",
        "b = 11\n",
        "# núm de subintervalos\n",
        "nsub = 50\n",
        "# partición\n",
        "pa = np.linspace(a,b,nsub+1)\n",
        "# incremento\n",
        "inc = (b-a)/nsub\n",
        "# evaluaciones\n",
        "fpa = 1/pa\n",
        "# formula de cuadratura\n",
        "trp = .5*inc*(fpa[0]+2*sum(fpa[1:nsub])+fpa[nsub])\n",
        "# cuadratura de python\n",
        "print('int(dx/x) de ',a,' a ', b,' por trapecio compuesta de ',nsub+1,' pts es ',trp)\n",
        "print('logaritmo natural de ',b,' es ',np.log(b))"
      ],
      "execution_count": null,
      "outputs": [
        {
          "output_type": "stream",
          "name": "stdout",
          "text": [
            "int(dx/x) de  1  a  11  por trapecio compuesta de  51  pts es  2.401187969501845\n",
            "logaritmo natural de  11  es  2.3978952727983707\n"
          ]
        }
      ]
    },
    {
      "cell_type": "markdown",
      "metadata": {
        "id": "GvOcidXnifKd"
      },
      "source": [
        "## Caso con nodos NO equiespaciados\n",
        "\n",
        "> aprox = **trapz**(arreglo de evaluaciones, arreglo de nodos)"
      ]
    },
    {
      "cell_type": "code",
      "metadata": {
        "id": "LlxWshTPiiFb",
        "outputId": "7df3efc5-bf4e-40b0-a5ed-8bdd2c6c4316",
        "colab": {
          "base_uri": "https://localhost:8080/"
        }
      },
      "source": [
        "# partición NO uniforme\n",
        "x = np.array([a, 2,5,7,10,b],dtype='float64')\n",
        "# evaluaciones\n",
        "y = 1/x\n",
        "# cuadratura\n",
        "Ia = np.trapz(y,x)\n",
        "print('int(dx/x) de ',a,' a ', b,' por trapecio compuesta de ',len(x),' pts es ',Ia)\n",
        "print('ln(',b,')=',np.log(b))"
      ],
      "execution_count": null,
      "outputs": [
        {
          "output_type": "stream",
          "name": "stdout",
          "text": [
            "int(dx/x) de  1  a  11  por trapecio compuesta de  6  pts es  2.602597402597403\n",
            "ln( 11 )= 2.3978952727983707\n"
          ]
        }
      ]
    },
    {
      "cell_type": "markdown",
      "metadata": {
        "id": "xUjKFJ_GYEGh"
      },
      "source": [
        "## Error de la regla compuesta del trapecio"
      ]
    },
    {
      "cell_type": "markdown",
      "metadata": {
        "id": "K0WHTTE-YO1e"
      },
      "source": [
        "Es posible derivar una fórmula para el error. Denotemos como\n",
        "$CT_{h}(f)$ como la aproximación obtenida en la ecuación anterior. Entonces la fórmula del error esta dada por:\n",
        "\n",
        "$$\\color{blue}{Error\\ de\\ la\\ regla\\ compuesta\\ del\\ trapecio}$$\n",
        "\n",
        "$$\\int_{a}^{b}f(x)dx - CT_{h}(f) = \\frac{h^{3}}{12}\\sum_{i=0}^{n}   f''(\\eta_{i}) = \\frac{h^{2}}{12}\\frac{(b-a)}{n}\\sum_{i=0}^{n}   f''(\\eta_{i})$$\n",
        "\n",
        "donde $\\eta_{i} \\in [x_{i−1}, x_{i}]$. El factor $\\frac{1}{n} \\sum_{i} f''(\\eta_{i})$ es justamente la media aritmética de los números $f''(\\eta_{i})$, por lo que cae entre el más grande y el más chico de estos números y se sigue del teorema del valor intermedio que existe $\\eta \\in [a,b]$ tal que $f''(\\eta) = \\frac{1}{n} \\sum_{i} f''(\\eta_{i})$"
      ]
    },
    {
      "cell_type": "markdown",
      "metadata": {
        "id": "rUbYRbRIadB7"
      },
      "source": [
        "## Aproximación\n",
        "\n",
        "$\\color{blue}{Aproximaci\\acute{o}n\\ con\\ la\\ regla\\ compuesta\\ del\\ trapecio}$\n",
        "\n",
        "Sea $CT_{h}(f)$ la aproximación obtenida con la regla compuesta del trapecio aplicada a $f$ en $[a,b]$. Entonces\n",
        "\n",
        "$$\\int_{a}^{b} f(x)dx -CT_{h} (f) = - \\frac{(b-a)f''(\\eta)}{12}h^{2}$$\n",
        "\n",
        "Esta nos dice que podemos aproximar nuestra integral tanto como queramos, simplemente añadiendo más puntos."
      ]
    },
    {
      "cell_type": "markdown",
      "metadata": {
        "id": "aKAEtcG_8g_a"
      },
      "source": [
        "# **Regla de Simpson**\n",
        "\n",
        "$\\color{blue}{Una \\ regla\\ t\\acute{i}pica\\ de\\ cuadratura\\ es\\ la\\ regla\\ de\\ Simpson}$\n",
        "\n",
        "$$\\int_{0}^{1} f(x)dx \\approx \\frac{1}{6} f(0) + \\frac{2}{3} f \\left( \\frac{1}{2} \\right) + \\frac{1}{6} f(1)$$\n",
        "\n",
        "Es posible cambiar el intervalo de integración mediante una transformación lineal de las variables para poder mapear el intervalo $[0,1]$ en un intervalo arbitrario $[a,b]$. $\\color{blue}{El}$ $\\color{blue}{truco}$ $\\color{blue}{es}$ $\\color{blue}{expresar\\ a}$ $\\color{blue}{x\\ en\\ funci\\acute{o}n}$ $\\color{blue}{de\\ otra\\ variable\\ y}$. Esta expresión debe cumplir que:\n",
        "\n",
        "* $x=a$ cuando $y=0$\n",
        "* $x=b$ cuando $y=1$\n",
        "\n",
        "Esto se logra haciendo \n",
        "$$x= a + (b-a)y\\ de\\ donde\\ dx=b-a$$"
      ]
    },
    {
      "cell_type": "markdown",
      "metadata": {
        "id": "pL-Slhpk-ohw"
      },
      "source": [
        "Haciendo\n",
        "\n",
        "$$g(y) = f[a+(b-a)y]$$\n",
        "\n",
        "obtenemos\n",
        "\n",
        "$$\\int_{a}^{b} f(x)dx = (b-a) \\int_{0}^{1} g(y) dy.$$\n",
        "\n",
        "Para la regla de Simpson tenemos\n",
        "\n",
        "$$g(0) = f(a), \\quad g \\left( \\frac{1}{2} \\right) = f \\left( \\frac{a+b}{2} \\right), \\quad g(1)=f(b)$$"
      ]
    },
    {
      "cell_type": "markdown",
      "metadata": {
        "id": "v7GfHUUN_ZtF"
      },
      "source": [
        "$\\color{blue}{Forma\\ general\\ de\\ la\\ Regla\\ de\\ Simpson}$\n",
        "\n",
        "$$\\int_{a}^{b} f(x)dx = \\frac{b-a}{6} \\left( f(a) + 4f \\left( \\frac{a+b}{2} \\right) + f(b) \\right)$$"
      ]
    },
    {
      "cell_type": "markdown",
      "metadata": {
        "id": "T8-A0EsPjo7Z"
      },
      "source": [
        "## Ejemplo 3: Retomamos el logaritmo natural\n",
        "\n",
        "$$\\int_{1}^{11} \\frac{dx}{x}$$"
      ]
    },
    {
      "cell_type": "code",
      "metadata": {
        "id": "Jvz-eJEtj0rp",
        "outputId": "e1dbe03f-a3c3-4851-f20d-e7bad564f504",
        "colab": {
          "base_uri": "https://localhost:8080/"
        }
      },
      "source": [
        "def Simpson(): \n",
        "    a=1 # a punto inicial del intervalo\n",
        "    b=11 # b punto final del intervalo\n",
        "    # f funcion a integrar\n",
        "    c = (a+b)/2 #La suma que se usa para evaluar en f\n",
        "    def f(x):\n",
        "        return 1/x\n",
        "\n",
        "    integral=(b-a/6)*(f(a)+4*f(c)+f(b))\n",
        "    \n",
        "    print(\"El logaritmo natural con el metodo de Simpson es: {}\".format(integral)) \n",
        "\n",
        "Simpson()"
      ],
      "execution_count": null,
      "outputs": [
        {
          "output_type": "stream",
          "name": "stdout",
          "text": [
            "El logaritmo natural con el metodo de Simpson es: 19.040404040404038\n"
          ]
        }
      ]
    },
    {
      "cell_type": "markdown",
      "metadata": {
        "id": "z-5APy-X_aLF"
      },
      "source": [
        "# **Regla compuesta de Simpson**\n",
        "\n",
        "Existe una versión de la regla compuesta de Simpson para un intervalo $[a,b]$. Sea\n",
        "\n",
        "$$h = \\frac{b-a}{n} \\quad y$$\n",
        "\n",
        "$$x_{i} a+i*h, \\quad i = 0,1,...,n$$\n",
        "\n",
        "Denotaremos $f_{i} = f(x_{i})$\n",
        "\n",
        "$\\color{blue}{La\\ regla\\ compuesta\\ de\\ Simpson\\ en\\ [x_{i}, x_{i+2}]}$\n",
        "\n",
        "$$\\int_{x_{i}}^{x_{i+2}} f(x)dx \\approx \\frac{h}{3} (f_{i} + 4f_{i+1} + f_{i+2})$$"
      ]
    },
    {
      "cell_type": "markdown",
      "metadata": {
        "id": "7cWu01M9BiDe"
      },
      "source": [
        "Queremos aproximar la integral de $f$ en $[a,b]$ sumando los resultados de la regla de Simpson sobre $[x_{i},x_{i+2}]$. Sin embargo, cada aplicación de la regla de Simpson involucra dos de los intervalos $[x_{i},x_{i+1}]$. Entonces $\\color{blue}{el\\ n\\acute{u}mero\\ total\\ de\\ intervalos\\ debe\\ ser\\ par.}$ Por el momento, asumamos que $n$ es par. La regla compuesta de Simpson en $[a,b]$ esta dada por:\n",
        "\n",
        "$$\\int_{x_{i}}^{x_{i+2}} f(x)dx \\approx \\frac{h}{3} (f_{0} + 4f_{1}+2f_{2}+4f_{3}+...+2f_{n-2}+4f_{n-1}+f_{n})$$"
      ]
    },
    {
      "cell_type": "markdown",
      "metadata": {
        "id": "MlYUAsObD54N"
      },
      "source": [
        "Cuando $n$ es impar, tenemos un intervalo extra $[x_{n-1},x_{n}]$ sobre el que debemos de integrar $f$. Hay tres posibildades\n",
        "* Usar la regla del trapecio para integrar este intervalo. El problema es que el error con la regla del trapecio es muy grande y cuando $h$ se hace pequeño, este error dominaria la suma.\n",
        "\n",
        "* Podemos evaluar $f$ en \n",
        "$$x_{n-1/2} = \\frac{x_{n-1}-x_{n}}{2}$$\n",
        "y aproximar la integarl sobre $[x_{n-1},x_{n}]$ con:\n",
        "$$\\frac{h}{6}(f_{n-1} + 4f_{n-1/2}+f_{n})$$\n",
        "\n",
        "Esta fórmula funciona bien, pero no se puede aplicar cuando se datos tabulados y no es posible obtener datos."
      ]
    },
    {
      "cell_type": "markdown",
      "metadata": {
        "id": "tduLHNgaFpEY"
      },
      "source": [
        "*  La tercera opción es usar el método de los coeficientes indeterminados para aproximar la integral de $f$ en el intervalo que falta:\n",
        "\n",
        "$$\\int_{x_{n-1}}^{x_{n}} f(x) dx \\approx A_{0}f_{n-1} + A_{1}f_{n-1}+A_{2}f_{n}$$\n",
        "\n",
        "Esta fórmula se llama $\\color{blue}{half-simp\\ o\\ semi-simp.}$"
      ]
    },
    {
      "cell_type": "markdown",
      "metadata": {
        "id": "rGEkakdzi37r"
      },
      "source": [
        "## Ejemplo 4:  Retoma *Logaritmo Natural*\n",
        "$$\\ln(11)=\\int_1^{11} \\dfrac{dx}{x}$$"
      ]
    },
    {
      "cell_type": "markdown",
      "metadata": {
        "id": "1q37TZSFjTFQ"
      },
      "source": [
        "Para aproximar \n",
        "$$\\int_a^b f(x)dx$$\n",
        "por cuadratura compuesta de Simpson, usar **simps** de scipy.integrate\n",
        "\n",
        "**recordatorio:** usar núm impar de puntos (núm par de subintervalos)\n",
        "\n",
        "- Caso con nodos equiespaciados\n",
        "\n",
        "> aprox = **simps**(arreglo de evaluaciones, dx = incremento) "
      ]
    },
    {
      "cell_type": "code",
      "metadata": {
        "id": "YvGuQXqhi6Vv",
        "outputId": "c27f9b3b-afba-4955-92a5-379a569e7ce7",
        "colab": {
          "base_uri": "https://localhost:8080/"
        }
      },
      "source": [
        "# núm de subintervalos\n",
        "nsub = 10\n",
        "# partición uniforme \n",
        "pa = np.linspace(a,b,nsub+1)\n",
        "# incremento\n",
        "inc = (b-a)/nsub\n",
        "# evaluaciones\n",
        "fpa = 1/pa\n",
        "# cuadratura de python\n",
        "Ia = simps(fpa,dx= inc)\n",
        "# formula de cuadratura\n",
        "evpes = inc/3*fpa.copy()\n",
        "evpes[np.arange(2,nsub-1,2)] = 2*evpes[np.arange(2,nsub-1,2)]\n",
        "evpes[np.arange(1,nsub,2)] = 4*evpes[np.arange(1,nsub,2)]\n",
        "sm = sum(evpes)\n",
        "print('int(dx/x) de ',a,' a ', b,' por simpson compuesto de ',nsub+1,' pts es ',sm)\n",
        "print('int(dx/x) de ',a,' a ', b,' por simps de ',nsub+1,' pts es ',Ia)\n",
        "print('ln(',b,')=',np.log(b))"
      ],
      "execution_count": null,
      "outputs": [
        {
          "output_type": "stream",
          "name": "stdout",
          "text": [
            "int(dx/x) de  1  a  11  por simpson compuesto de  11  pts es  2.4107263107263104\n",
            "int(dx/x) de  1  a  11  por simps de  11  pts es  2.410726310726311\n",
            "ln( 11 )= 2.3978952727983707\n"
          ]
        }
      ]
    },
    {
      "cell_type": "markdown",
      "metadata": {
        "id": "FFMAdxrbpDu5"
      },
      "source": [
        "## Caso con nodos NO equiespaciados\n",
        "\n",
        "> aprox = **simps**(arreglo de evaluaciones, arreglo de nodos)"
      ]
    },
    {
      "cell_type": "code",
      "metadata": {
        "id": "HwCzBSfppK1l",
        "outputId": "e89df239-22a2-46a1-ebe1-d330eeacf92b",
        "colab": {
          "base_uri": "https://localhost:8080/"
        }
      },
      "source": [
        "# partición NO uniforme\n",
        "x = np.array([a, 2.5,4.4,6.5, 9.5,10,b],dtype='float64')\n",
        "# evaluaciones\n",
        "y = 1/x\n",
        "# cuadratura\n",
        "Ia = simps(y,x)\n",
        "print('int(dx/x) de ',a,' a ', b,' por simpson compuesto de ',len(x),' pts es ',Ia)\n",
        "print('ln(',b,')=',np.log(b))"
      ],
      "execution_count": null,
      "outputs": [
        {
          "output_type": "stream",
          "name": "stdout",
          "text": [
            "int(dx/x) de  1  a  11  por simpson compuesto de  7  pts es  2.4040349036927986\n",
            "ln( 11 )= 2.3978952727983707\n"
          ]
        }
      ]
    },
    {
      "cell_type": "markdown",
      "metadata": {
        "id": "WJRIhxD-GWSP"
      },
      "source": [
        "## Error en la regla compuesta\n",
        "\n",
        "Es más dificil derivar el error en la regla compuesta de Simpson por lo que solo lo enunciaremos:\n",
        "\n",
        "$$\\int_{a}^{b} f(x)dx - \\frac{b-a}{6} \\left( f(a) + 4f \\left( \\frac{a+b}{2} \\right) +f(b) \\right) = \\frac{(b-a)^{5}}{2880} f^{4} (\\xi)$$\n",
        "\n",
        "donde $\\xi \\in [a,b].$ La presencia del término $f^{4} (\\xi)$ implica que el error desaparece cuando $f$ es una cúbica."
      ]
    }
  ]
}
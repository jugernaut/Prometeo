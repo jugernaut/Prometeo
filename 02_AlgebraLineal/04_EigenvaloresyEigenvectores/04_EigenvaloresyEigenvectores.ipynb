{
  "nbformat": 4,
  "nbformat_minor": 0,
  "metadata": {
    "colab": {
      "name": "04_EigenvaloresyEigenvectores.ipynb",
      "provenance": [],
      "include_colab_link": true
    },
    "kernelspec": {
      "name": "python3",
      "display_name": "Python 3"
    }
  },
  "cells": [
    {
      "cell_type": "markdown",
      "metadata": {
        "id": "view-in-github",
        "colab_type": "text"
      },
      "source": [
        "<a href=\"https://colab.research.google.com/github/jugernaut/Prometeo/blob/desarrollo/02_AlgebraLineal/04_EigenvaloresyEigenvectores/04_EigenvaloresyEigenvectores.ipynb\" target=\"_parent\"><img src=\"https://colab.research.google.com/assets/colab-badge.svg\" alt=\"Open In Colab\"/></a>"
      ]
    },
    {
      "cell_type": "markdown",
      "metadata": {
        "id": "4vnMnRwYnOLM"
      },
      "source": [
        "# Eigenvalores y Eigenvectores\n",
        "\n",
        "### Trabajo realizado con el apoyo del Programa UNAM-DGAPA-PAPIME PE101019\n",
        "\n",
        "*   Autor: \n",
        "  - Jaime Jesús Ortega Ibarra\n",
        "*   Rev: jueves nov 19 13:41:39 CDT 2020"
      ]
    },
    {
      "cell_type": "markdown",
      "metadata": {
        "id": "5Nxdv0Qyjikl"
      },
      "source": [
        "## Introducción\n",
        "Los Eigenvalores y Eigenvectores son conceptos sumamente empleados en diferentes áreas de las matemáticas aplicadas e ingenierías. La raíz $eigen$ proviene del alemán y significa $propio$, por lo cual podemos definir como Valores propios o valores característicos de una transformación lineal o de una matriz, mientras los eigenvectores pueden ser definidos como vectores propios o vectores característicos de una transformación lineal o de una matriz.\n",
        "\n",
        "### Definición\n",
        "\n",
        "Sea $V$ un espacio vectorial sobre un campo $K$ y sea $T$ una transformación lineal\n",
        "\n",
        "$$T:V \\rightarrow V$$\n",
        "\n",
        "un vector $\\vec{v_{0}}$ $\\ne$ 0 del espacio vectorial $V$ se denomina un eigenvector de T si existe un escalar $\\lambda$ $\\in$ $K$ tal que\n",
        "\n",
        "$$T(\\vec v_{0})= \\lambda \\vec v_{0},$$\n",
        "\n",
        "en este caso $\\lambda \\in K$ se denomina el eigenvalor de la transformación $T$ asociado al eigenvector $\\vec v_{0}$\n",
        "\n",
        "De manera semejante podemos definir los eigenvectores y eigenvalores de una matriz M.\n",
        "\n",
        "Sea $M \\in K_{nxn}$ para algún número natural n, un elemento $\\vec{x} \\in K_{n}$ se denomina un eigenvector de $M$ si existe un escalar $\\lambda \\in K$ tal que\n",
        "\n",
        "$$M \\vec{x} = \\lambda \\vec{x}$$\n",
        "\n",
        "en este caso $\\lambda \\in K$ se denomna eigenvalor de la matriz $M$ asociado al eigenvector $\\vec{x}$.\n",
        " \n"
      ]
    },
    {
      "cell_type": "markdown",
      "metadata": {
        "id": "8ReO5boK_pf_"
      },
      "source": [
        "### Ejemplo:\n",
        "Dada una matriz:\n",
        "\\begin{equation}\n",
        "A = \\begin{bmatrix} -1, 3 \\\\ 2, 4 \\end{bmatrix}\n",
        "\\end{equation}\n",
        "Obtener sus Eigenvalores.\n",
        "\n",
        "Se debe obtener la determinante de la matriz, restandole a la diagonal el parámetro $\\lambda$, es decir:\n",
        "\\begin{equation}\n",
        "detA = \\begin{bmatrix} -1 - \\lambda,  3 \\\\ 2, 4 - \\lambda \\end{bmatrix} = (-1 - \\lambda) (4 - \\lambda) - 6 = 0\n",
        "\\end{equation}\n",
        "Desarrollando el producto de binomios\n",
        "\\begin{equation}\n",
        "-4 + \\lambda - 4 \\lambda + \\lambda ^2 -6 \n",
        "\\end{equation}\n",
        "\\begin{equation}\n",
        "= \\lambda ^2 - 3 \\lambda -10 = 0\n",
        "\\end{equation}\n",
        "Lo cual factorizando, nos da lo siguiente\n",
        "\\begin{equation}\n",
        "= (\\lambda +2) (\\lambda -5)\n",
        "\\end{equation}\n",
        "$\\therefore$ Nuestros eigenvalores son:\n",
        "\\begin{equation}\n",
        "\\lambda_{1} = -2 \n",
        "\\end{equation}\n",
        "\\begin{equation}\n",
        "\\lambda_{2} = 5\n",
        "\\end{equation}"
      ]
    },
    {
      "cell_type": "markdown",
      "metadata": {
        "id": "pyp34vPwhdwB"
      },
      "source": [
        "Dentro del lenguaje de programación $Python$ podemos obtener Valores y Vectores propios, mediante la función linalg de $Numpy$, es decir, podemos obtener un vector que incluye los valores propios de una matriz, además de una matriz con los vectores propios."
      ]
    },
    {
      "cell_type": "code",
      "metadata": {
        "id": "x_ioFYQyhar_",
        "colab": {
          "base_uri": "https://localhost:8080/"
        },
        "outputId": "b1b0cb18-f1c8-4a79-92b7-281ab70db306"
      },
      "source": [
        "# Importamos las librerías necesarias\n",
        "\n",
        "from numpy import linalg\n",
        "import numpy as np\n",
        "\n",
        "# Creamos nuestra matriz mediante numpy.array\n",
        "Matriz = np.array([[1,3,2],[4,1,2],[3,-1,3]])\n",
        "\n",
        "#Obtenemos nuestros valores y vectores propios mediante la función linalg.eig()\n",
        "#Almacenamos lo obtenido de la función en las variables eigenvalores y eigenvectores\n",
        "eigenvalores, eigenvectores = linalg.eig(Matriz)\n",
        "\n",
        "#Imprimimos nuestros valores propios\n",
        "print(f'Nuestro vector con eigenvalores es: \\n{eigenvalores}')"
      ],
      "execution_count": null,
      "outputs": [
        {
          "output_type": "stream",
          "text": [
            "Nuestro vector con eigenvalores es: \n",
            "[-2.57358059  5.74856519  1.82501539]\n"
          ],
          "name": "stdout"
        }
      ]
    },
    {
      "cell_type": "markdown",
      "metadata": {
        "id": "3iWcs8JIo8AS"
      },
      "source": [
        "### Ejemplo:\n",
        "\n",
        "Sea $A$ es una matriz cuadrada. Un eigenvalor de dicha matriz $A$ es un número $r$ que cuando se resta de cada una de las entradas diagonales de $A$, se convierte $A$ en una matriz singular. Restar un escalar $r$ de cada entrada diagonal de $A$ es lo mismo que restar $r$ veces la matriz identidad $I$ de $A$.\n",
        "\n",
        "Por lo tanto, $r$ es un valor propio de $A$ si y solo si $A-rI$ es una matriz singular.\n",
        "\n",
        "Matriz $A$\n",
        "\\begin{equation}\n",
        "A = \\begin{bmatrix}  5, 1, 1 \\\\ 1, 5, 1 \\\\ 1, 1, 5 \\end{bmatrix}\n",
        "\\end{equation}\n",
        "\n",
        "\n",
        "Al restar $4$ de cada entrada diagonal se transforma $A$ en la matriz singular\n",
        "\n",
        "\\begin{equation}\n",
        "A = \\begin{bmatrix}  1, 1, 1 \\\\ 1, 1, 1 \\\\ 1, 1, 1 \\end{bmatrix}\n",
        "\\end{equation}\n",
        "\n",
        "\n",
        "Por lo tanto, $4$ es un valor propio de $A$."
      ]
    },
    {
      "cell_type": "markdown",
      "metadata": {
        "id": "2J8ecnZgqoM2"
      },
      "source": [
        "Dado el ejemplo anterior, de igual manera mediante $Numpy$ podemos obtener los valores propios de la Matriz anteriormente creada."
      ]
    },
    {
      "cell_type": "code",
      "metadata": {
        "id": "O04q54cphhi1",
        "colab": {
          "base_uri": "https://localhost:8080/"
        },
        "outputId": "772e3943-5c54-43e3-8dab-11702f1afb91"
      },
      "source": [
        "# Imprimimos nuestro vector propio\n",
        "print(f'\\nNuestra matriz con los eigenvectores es: \\n{eigenvectores}')"
      ],
      "execution_count": null,
      "outputs": [
        {
          "output_type": "stream",
          "text": [
            "\n",
            "Nuestra matriz con los eigenvectores es: \n",
            "[[ 0.70643716 -0.60432967 -0.45736161]\n",
            " [-0.52518953 -0.68232213 -0.57693279]\n",
            " [-0.47447076 -0.41136622  0.676734  ]]\n"
          ],
          "name": "stdout"
        }
      ]
    },
    {
      "cell_type": "markdown",
      "metadata": {
        "id": "7GCVOGuDlxwg"
      },
      "source": [
        "Para mayor información, se recomienda al lector consultar los siguientes sitios:\n",
        "- https://www.cimat.mx/~joaquin/mn11/clase11.pdf\n",
        "- https://sites.google.com/site/metalmetnumericos/home/unidad-3/3-7-obtencion-de-eigenvalores-y-eigenvectores\n",
        "- https://numpy.org/doc/stable/reference/generated/numpy.linalg.eig.html"
      ]
    },
    {
      "cell_type": "markdown",
      "metadata": {
        "id": "HR0Kf8cgG4DO"
      },
      "source": [
        "#Evalúa tu conocimiento \r\n",
        "\r\n",
        "Si deseas contestar un breve cuestionario en el que podras evaluar un poco del conocimiento aquirido en este notebook da clic en el siguiente enlace:\r\n",
        "\r\n",
        "https://docs.google.com/forms/d/11fK3qrX2wmTj8PM3bqDGDat3A3p_ZPKY83E6Oanrk_g/edit"
      ]
    }
  ]
}
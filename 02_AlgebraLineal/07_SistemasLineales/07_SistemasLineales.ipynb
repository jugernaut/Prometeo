{
  "nbformat": 4,
  "nbformat_minor": 0,
  "metadata": {
    "colab": {
      "name": "SistemasLineales.ipynb",
      "provenance": [],
      "toc_visible": true,
      "include_colab_link": true
    },
    "kernelspec": {
      "display_name": "Python 3",
      "language": "python",
      "name": "python3"
    },
    "language_info": {
      "codemirror_mode": {
        "name": "ipython",
        "version": 3
      },
      "file_extension": ".py",
      "mimetype": "text/x-python",
      "name": "python",
      "nbconvert_exporter": "python",
      "pygments_lexer": "ipython3",
      "version": "3.7.6"
    }
  },
  "cells": [
    {
      "cell_type": "markdown",
      "metadata": {
        "id": "view-in-github",
        "colab_type": "text"
      },
      "source": [
        "<a href=\"https://colab.research.google.com/github/jugernaut/Prometeo/blob/desarrollo/02_AlgebraLineal/07_SistemasLineales/07_SistemasLineales.ipynb\" target=\"_parent\"><img src=\"https://colab.research.google.com/assets/colab-badge.svg\" alt=\"Open In Colab\"/></a>"
      ]
    },
    {
      "cell_type": "markdown",
      "metadata": {
        "id": "OVY9B_hHqvM5"
      },
      "source": [
        "# Sistemas Lineales\n",
        "## Trabajo realizado con el apoyo del Programa UNAM-DGAPA-PAPIME PE101019\n",
        "- Autor: Miguel Angel Pérez León\n",
        "- Rev: jue nov 26 17:08:27 CDT 2020"
      ]
    },
    {
      "cell_type": "markdown",
      "metadata": {
        "id": "U2svxjUHp9nD"
      },
      "source": [
        "## Introducción\n",
        "\n",
        "Múltiples problemas de las ciencias exactas implican la resolución de sistemas de N ecuaciones lineales con N incógnitas.\n",
        "\n",
        "Estos sistemas tienen un sin fin de aplicaciones, desde aplicaciones en economía, medicina e incluso en inteligencia artificial."
      ]
    },
    {
      "cell_type": "markdown",
      "metadata": {
        "id": "ztpOrbOw9qJy"
      },
      "source": [
        "En el caso general, un sistema de N ecuaciones lineales con N incógnitas $x_{i}$ se puede presentar en la forma:\n",
        "\n",
        "$$\\begin{cases}\n",
        "f_{1}(x_{1},x_{2},\\ldots,x_{n}) & =0\\\\\n",
        "f_{2}(x_{1},x_{2},\\ldots,x_{n}) & =0\\\\\n",
        " & \\,\\vdots\\\\\n",
        "f_{n}(x_{1},x_{2},\\ldots,x_{n}) & =0\n",
        "\\end{cases}$$\n",
        "\n",
        "Usando notación vectorial, podemos reescribir el sistema en una forma más elegante:\n",
        "\n",
        "$$F(\\vec{X})=\\vec{0}$$\n",
        "\n",
        "Definiendo vectores columna como\n",
        "\n",
        "$$F\t=\t\\left[f_{1},f_{2},\\ldots,f_{N}\\right]^{T}$$\n",
        "\n",
        "$$ \\vec{X}\t=\t\\left[x_{1,}x_{2},\\ldots,x_{N}\\right]^{T}$$\n",
        "\n",
        "$$ \\vec{0}\t=\t\\left[x_{1,}x_{2},\\ldots,x_{N}\\right]^{T}$$\n",
        "\n",
        "Y considerando que cada una de las $f_{i}$ son ecuaciones lineales."
      ]
    },
    {
      "cell_type": "markdown",
      "metadata": {
        "id": "2aIQP1uA_eJ7"
      },
      "source": [
        "## Representación Matricial\n",
        "\n",
        "Otra forma en la cual podemos representar este sistema de N ecuaciones con N incognitas es mediante la representación matricial.\n",
        "\n",
        "$$A\\vec{x}=\\vec{b}$$\n",
        "\n",
        "Con $A\\in M_{n\\times n}$ y $\\vec{x}, \\vec{b} \\in \\mathbb{R}^{n}$, es decir.\n",
        "\n",
        "$$\\left(\\begin{array}{ccccccc}\n",
        "a_{11} & a_{12} & \\cdots & \\cdots & \\cdots & \\cdots & a_{1n}\\\\\n",
        "a_{21} & a_{22} & \\cdots & \\cdots & \\cdots & \\cdots & a_{2n}\\\\\n",
        "\\vdots & \\ddots & \\ddots & \\ddots & \\ddots & \\ddots & \\vdots\\\\\n",
        "\\vdots & \\ddots & \\ddots & \\ddots & \\ddots & \\ddots & \\vdots\\\\\n",
        "\\vdots & \\ddots & \\ddots & \\ddots & \\ddots & \\ddots & \\vdots\\\\\n",
        "a_{n1} & \\cdots & \\cdots & \\cdots & \\cdots & \\cdots & a_{nn}\n",
        "\\end{array}\\right)\\left(\\begin{array}{c}\n",
        "x_{1}\\\\\n",
        "x_{2}\\\\\n",
        "\\vdots\\\\\n",
        "\\vdots\\\\\n",
        "\\vdots\\\\\n",
        "x_{n}\n",
        "\\end{array}\\right)=\\left(\\begin{array}{c}\n",
        "0\\\\\n",
        "0\\\\\n",
        "\\vdots\\\\\n",
        "\\vdots\\\\\n",
        "\\vdots\\\\\n",
        "0\n",
        "\\end{array}\\right)$$\n",
        "\n",
        "Recordando un poco temas de álgebra lineal podemos concluir que este sistema tendra solución única, siempre y cuando el determinante de la matriz $A$, sea diferente de cero, ya que en otro caso el sistema $A\\vec{x}=\\vec{b}$ no tiene solución ó tiene infinidad de soluciones. El hecho de que el determinante de una matriz sea diferente de cero está directamente relacionado con la dimensión del espacio generado por los vectores columna de la matriz $A$ y también con respecto a las combinaciones lineales que estos generan, por lo que se recomienda enfáticamente revisar las referencias a estos temas para una mejor comprensión del tema o también ver esta [serie de videos](https://www.youtube.com/watch?v=fNk_zzaMoSs)."
      ]
    },
    {
      "cell_type": "markdown",
      "metadata": {
        "id": "f4g3RfuJQaQ4"
      },
      "source": [
        "# Interpretación\n",
        "\n",
        "Al intentar resolver un sistema lineal de ecuaciones, nos podemos topar con las siguientes opciones:\n",
        "\n",
        "*   Sistema incompatible (carece de solución).\n",
        "*   Sistema compatible y determinado (solución única).\n",
        "*   Sistema compatible e indeterminado (infinitas soluciones).\n",
        "\n",
        "Supongamos que tenemos un sistema lineal de 2 ecuaciones con 2 incognitas, es decir que tenemos las ecuaciones de dos rectas:\n",
        "\n",
        "$$\n",
        "\\begin{matrix}\n",
        "a_{00} x_0 + a_{01} x_1 = b_0 \\\\\n",
        "a_{10} x_0 + a_{11} x_1 = b_1\n",
        "\\end{matrix}\n",
        "$$\n",
        "\n",
        "que en forma matricial se escriben como:\n",
        "\n",
        "$$\\left(\\begin{array}{cc}\n",
        "a_{00} & a_{01}\\\\\n",
        "a_{10} & a_{11}\n",
        "\\end{array}\\right)\\left(\\begin{array}{c}\n",
        "x_{0}\\\\\n",
        "x_{1}\n",
        "\\end{array}\\right)=\\left(\\begin{array}{c}\n",
        "b_{0}\\\\\n",
        "b_{1}\n",
        "\\end{array}\\right)$$\n",
        "\n",
        "La solución (en caso de existir) representa el **punto en el cual estas dos rectas se intersectan**. Por el contrario, en caso de que no exista solución eso significa que **ambas rectas son paralelas**, por lo que no existe intersección. Finalmente en caso de que ambas rectas no sean linealmente independientes, podemos decir que **existe una infinidad de soluciones** al sistema."
      ]
    },
    {
      "cell_type": "markdown",
      "metadata": {
        "id": "J97MGlB5rthI"
      },
      "source": [
        "## Ejemplo\n",
        "\n",
        "Sea el sistema lineal\n",
        "\n",
        "$$\n",
        "\\begin{matrix}\n",
        "-1 x_0 + 3 x_1 = 3 \\\\\n",
        "1 x_0 + 4 x_1 = 8\n",
        "\\end{matrix}\n",
        "$$\n",
        "\n",
        "O en su representación matricial $A\\vec{x}=\\vec{b}$\n",
        "\n",
        "$$\\left(\\begin{array}{cc}\n",
        "-1 & 3\\\\\n",
        "1 & 4\n",
        "\\end{array}\\right)\\left(\\begin{array}{c}\n",
        "x_{0}\\\\\n",
        "x_{1}\n",
        "\\end{array}\\right)=\\left(\\begin{array}{c}\n",
        "3\\\\\n",
        "8\n",
        "\\end{array}\\right)$$\n",
        "\n",
        "Las ecuaciones de las rectas se pueden escribir como:\n",
        "\n",
        "$$\n",
        "\\begin{array}{ccc}\n",
        "-\\dfrac{1}{3}x_0 + x_1 = \\dfrac{3}{3} \\\\\n",
        "\\quad\\dfrac{1}{4}x_0 + x_1 = \\dfrac{8}{4}\n",
        "\\end{array} \\Longrightarrow\n",
        "\\begin{array}{ccc}\n",
        "y_0 = m_0 x + b_0 \\\\\n",
        "y_1 = m_1 x + b_1\n",
        "\\end{array} \\text{ donde }\n",
        "\\begin{array}{ccc}\n",
        "m_0 = \\dfrac{1}{3}, b_0 = 1 \\\\\n",
        "m_1 = -\\dfrac{1}{4}, b_1 = \\dfrac{8}{4}\n",
        "\\end{array}\n",
        "$$\n",
        "\n",
        "Nótese que hemos renombrado $x_0 \\equiv x$ y $x_1 \\equiv y_0$ para la primera recta y $x_1 \\equiv y_1$ para la segunda recta.\n",
        "\n",
        "El siguiente código muestra las gráficas de estas líneas rectas."
      ]
    },
    {
      "cell_type": "code",
      "metadata": {
        "colab": {
          "base_uri": "https://localhost:8080/",
          "height": 312
        },
        "id": "wwG1EIa_Unfo",
        "outputId": "bdb098f8-d0e1-459b-91a2-9fcc2290c900"
      },
      "source": [
        "import numpy as np\n",
        "import matplotlib.pyplot as plt\n",
        "%matplotlib inline\n",
        "# definicion de las pendientes y ordenada al origen\n",
        "m0 = 1/3\n",
        "b0 = 1\n",
        "m1 = -1/4\n",
        "b1 = 2\n",
        "# dominio en el cual se genera la grafica\n",
        "x = np.linspace(0,3,10)\n",
        "# definicion de las rectas\n",
        "y0 = m0 * x + b0\n",
        "y1 = m1 * x + b1 \n",
        "# se grafican ambas rectas\n",
        "plt.plot(x,y0,label = '$-1x_0+3x_1=3$', color='crimson')\n",
        "plt.plot(x,y1,label = '$1x_0+4x_1=8$', color='b' )\n",
        "plt.xlabel('$x$')\n",
        "plt.ylabel('$y$')\n",
        "plt.title('Cruce de rectas')\n",
        "plt.grid()\n",
        "plt.legend()"
      ],
      "execution_count": null,
      "outputs": [
        {
          "output_type": "execute_result",
          "data": {
            "text/plain": [
              "<matplotlib.legend.Legend at 0x7f325981e908>"
            ]
          },
          "metadata": {
            "tags": []
          },
          "execution_count": 44
        },
        {
          "output_type": "display_data",
          "data": {
            "image/png": "[encoded data removed]",
            "text/plain": [
              "<Figure size 432x288 with 1 Axes>"
            ]
          },
          "metadata": {
            "tags": [],
            "needs_background": "light"
          }
        }
      ]
    },
    {
      "cell_type": "markdown",
      "metadata": {
        "id": "ytUMXA5AVpVM"
      },
      "source": [
        "Al resolver el sistema de ecuaciones obtenemos el punto en cual ambas rectas se intersectan"
      ]
    },
    {
      "cell_type": "code",
      "metadata": {
        "colab": {
          "base_uri": "https://localhost:8080/",
          "height": 413
        },
        "id": "g3nMJhUgVvxz",
        "outputId": "b1bc6cb6-6b76-4216-ea34-b5e861ee51b2"
      },
      "source": [
        "# definicion del sistema de ecuaciones\n",
        "A = np.matrix([[-1, 3],[1,4]] )\n",
        "b = np.array([3,8])\n",
        "print(\"Matriz A : \\n\",A)\n",
        "print(\"Vector b : \\n\", b)\n",
        "# solucion del sistema empleando numpy\n",
        "sol = np.linalg.solve(A,b)\n",
        "print(\"Solucion del sistema: \", sol)\n",
        "# se grafican ambas rectas\n",
        "plt.plot(x,y0,label = 'Netflix', color='crimson')\n",
        "plt.plot(x,y1,label = 'BlockBuster', color='b' )\n",
        "plt.plot(sol[0],sol[1],'ro')\n",
        "plt.xlabel('$x$')\n",
        "plt.ylabel('$y$')\n",
        "plt.title('Cruce de rectas')\n",
        "plt.grid()\n",
        "plt.legend()"
      ],
      "execution_count": null,
      "outputs": [
        {
          "output_type": "stream",
          "text": [
            "Matriz A : \n",
            " [[-1  3]\n",
            " [ 1  4]]\n",
            "Vector b : \n",
            " [3 8]\n",
            "Solucion del sistema:  [1.71428571 1.57142857]\n"
          ],
          "name": "stdout"
        },
        {
          "output_type": "execute_result",
          "data": {
            "text/plain": [
              "<matplotlib.legend.Legend at 0x7f325a0f8e10>"
            ]
          },
          "metadata": {
            "tags": []
          },
          "execution_count": 45
        },
        {
          "output_type": "display_data",
          "data": {
            "image/png": "[encoded data removed]",
            "text/plain": [
              "<Figure size 432x288 with 1 Axes>"
            ]
          },
          "metadata": {
            "tags": [],
            "needs_background": "light"
          }
        }
      ]
    },
    {
      "cell_type": "markdown",
      "metadata": {
        "id": "9Qtq1j4CXWyP"
      },
      "source": [
        "# Interpretación general\n",
        "\n",
        "Ya se vio que la solución de un sistema de 2 ecuaciones lineales con 2 incógnitas representa **el punto en $\\mathbb{R}^{2}$ donde ambas rectas se intersectan**. Por otro lado, la solución de un sistema de 3 ecuaciones lineales con 3 incógnitas representa **el punto en $\\mathbb{R}^{3}$** donde se genera de la intersección de los 3 planos. De manera general podemos decir que la solución de un sistema de $n$-ecuaciones lineales con $n$-incógnitas representa el vector $\\vec{x} \\in \\mathbb{R}^{n}$ donde se da la intersección de los subespacios generados por los vectores columna de la matriz $A\\in M_{n\\times n}$."
      ]
    },
    {
      "cell_type": "markdown",
      "metadata": {
        "id": "Y7RZBtgJx0LV"
      },
      "source": [
        "## Inversa de la matriz A\n",
        "\n",
        "En caso de que el sistema $A\\vec{x}=\\vec{b}$ tenga solución es decir que el determinante de la matriz $A$ sea diferente de cero, un camino para resolver este sistema es mediante la inversa de $A$, es decir que en caso de que exista $A^{-1}$ entonces se tiene que.\n",
        "\n",
        "$$A\\vec{x}=\\vec{b} \\Longrightarrow (A^{-1}A)\\vec{x}=(A^{-1}\\vec{b}) \\Longrightarrow \\vec{x}=A^{-1}\\vec{b}$$\n",
        "\n",
        "Por lo tanto veamos esto con un ejemplo sencillo, supongamos que tenemos el sistema de ecuaciones lineales\n",
        "\n",
        "$$3w+9y-10z=24$$\n",
        "$$w-y+4z=-4$$\n",
        "$$10w-2y+8z=20$$\n",
        "\n",
        "Este sistema se puede resolver de muchas forma, sin embargo vamos a usar $A^{-1}$ y python para mostrar el resultado."
      ]
    },
    {
      "cell_type": "code",
      "metadata": {
        "colab": {
          "base_uri": "https://localhost:8080/"
        },
        "id": "ckrHrPOP0Boh",
        "outputId": "24296800-5f73-4310-88cf-a1b96e433187"
      },
      "source": [
        "import numpy as np\n",
        "\n",
        "#Se define los valores de la matriz A\n",
        "A = np.matrix([[3,9,-10],[1,-6,4],[10,-2,8]])\n",
        "print(A)\n",
        "\n",
        "#Se definen los valores del vector b\n",
        "b = np.matrix([[24],[-4],[20]])\n",
        "print(b)\n",
        "\n",
        "#Calculemos la invers de la matriz A\n",
        "inversa = np.linalg.inv(A)\n",
        "print(inversa)\n",
        "\n",
        "#Se resuelve el sistema mediante la inversa\n",
        "x = np.matmul(inversa, b)\n",
        "print(x)\n",
        "\n",
        "#Comprobamos el resultado\n",
        "print(np.dot(A, x))\n",
        "\n",
        "#También podemos usar el solver de numpy\n",
        "x = np.linalg.solve(A, b)\n",
        "print(x)"
      ],
      "execution_count": null,
      "outputs": [
        {
          "output_type": "stream",
          "text": [
            "[[  3   9 -10]\n",
            " [  1  -6   4]\n",
            " [ 10  -2   8]]\n",
            "[[24]\n",
            " [-4]\n",
            " [20]]\n",
            "[[ 0.09708738  0.12621359  0.05825243]\n",
            " [-0.0776699  -0.30097087  0.05339806]\n",
            " [-0.1407767  -0.23300971  0.06553398]]\n",
            "[[ 2.99029126]\n",
            " [ 0.40776699]\n",
            " [-1.13592233]]\n",
            "[[24.]\n",
            " [-4.]\n",
            " [20.]]\n",
            "[[ 2.99029126]\n",
            " [ 0.40776699]\n",
            " [-1.13592233]]\n"
          ],
          "name": "stdout"
        }
      ]
    },
    {
      "cell_type": "markdown",
      "metadata": {
        "id": "Nju-undbyc7z"
      },
      "source": [
        "## Inconveniente del cálculo de la inversa de una matriz\n",
        "\n",
        "Generalmente el cálculo de la inversa de una matriz involucra el cálculo del determinante de la misma, que requiere de muchos cálculos y por lo tanto es muy costoso en términos computacionales, de hecho se puede mostrar que el costo del cálculo de la inversa de una matriz es de orden exponencial.\n",
        "\n",
        "Es por este motivo es que existen alternativas para resolver sistemas líneales, los cuales evitan el cálculo de la matriz inversa. Por ejemplo, para resolver un sistema lineal de ecuaciones del tipo $A\\vec{x}=\\vec{b}$ algunos métodos son:\n",
        "\n",
        "*   Factorización LU.\n",
        "*   Factorización QR.\n",
        "*   Cholesky."
      ]
    },
    {
      "cell_type": "markdown",
      "metadata": {
        "id": "7SL8ZW2IcxjD"
      },
      "source": [
        "# Referencias\n",
        "\n",
        "*   Butt, R. (2009). Introduction to Numerical Analysis Using MATLAB®. Jones & Bartlett Learning.\n",
        "*   Cheney, W., & Kincaid, D. (2010). Métodos numéricos y computación (6a. Ed.). Cengage Learning Editores S.A. de C.V.\n",
        "*   Burden, R. L., Faires, J. D., & C, S. M. (1985). Análisis numérico. Grupo Editorial Iberoamérica.\n",
        "*   Skiba, Y. N. (2001). Introducción a los métodos numéricos. UNAM, Dirección General de Publicaciones y Fomento Editorial."
      ]
    },
    {
      "cell_type": "markdown",
      "metadata": {
        "id": "4YteTPhgkyPv"
      },
      "source": [
        "#Evalúa tu conocimiento \r\n",
        "\r\n",
        "Si deseas contestar un breve cuestionario en el que podras evaluar un poco del conocimiento aquirido en este notebook da clic en el siguiente enlace:\r\n",
        "\r\n",
        "https://docs.google.com/forms/d/e/1FAIpQLSdJtMXUZx22MQTqiNs6nHq3foZbIPqF0B2jEee2WoUnPLbsAg/viewform?usp=sf_link"
      ]
    }
  ]
}
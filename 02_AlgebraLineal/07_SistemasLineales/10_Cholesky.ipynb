{
  "nbformat": 4,
  "nbformat_minor": 0,
  "metadata": {
    "colab": {
      "name": "10_Cholesky.ipynb",
      "provenance": [],
      "collapsed_sections": [],
      "toc_visible": true,
      "include_colab_link": true
    },
    "kernelspec": {
      "name": "python3",
      "display_name": "Python 3"
    }
  },
  "cells": [
    {
      "cell_type": "markdown",
      "metadata": {
        "id": "view-in-github",
        "colab_type": "text"
      },
      "source": [
        "<a href=\"https://colab.research.google.com/github/jugernaut/Prometeo/blob/desarrollo/02_AlgebraLineal/07_SistemasLineales/10_Cholesky.ipynb\" target=\"_parent\"><img src=\"https://colab.research.google.com/assets/colab-badge.svg\" alt=\"Open In Colab\"/></a>"
      ]
    },
    {
      "cell_type": "markdown",
      "metadata": {
        "id": "u0LEt1hen0wM"
      },
      "source": [
        "## Cholesky\n",
        "## Trabajo realizado con el apoyo del Programa UNAM-DGAPA-PAPIME PE101019\n",
        "- Autor: Miguel Angel Pérez León\n",
        "- Rev: jue nov 26 17:08:27 CDT 2020\n",
        "\n",
        "Este sitio puede ser usado libremente, tanto por profesores como por estudiantes, que deseen complementar sus cursos y conocimientos en los temas antes mencionados. Los materiales están bajo una Licencia Creative Commons Atribución-NoComercial-CompartirIgual 4.0 Internacional\n",
        "\n",
        "<a rel=\"license\" href=\"http://creativecommons.org/licenses/by-nc-sa/4.0/\"><img alt=\"Licencia Creative Commons\" style=\"border-width:0\" src=\"https://i.creativecommons.org/l/by-nc-sa/4.0/88x31.png\" /></a><br />Esta obra está bajo una <a rel=\"license\" href=\"http://creativecommons.org/licenses/by-nc-sa/4.0/\">Licencia Creative Commons Atribución-NoComercial-CompartirIgual 4.0 Internacional</a>."
      ]
    },
    {
      "cell_type": "markdown",
      "metadata": {
        "id": "UF5p3sW3oXXs"
      },
      "source": [
        "# Introducción\n",
        "\n",
        "Así como se puede realizar la factorización de una matriz mediante $LU$ o $QR$, otra forma de factorizar una matriz $A\\in M_{n\\times n}$ sobre $\\mathbb{R}$ es mediante la factorización de Cholesky.\n",
        "\n",
        "Igual que en el caso de la factorización $QR$, un prerrequisito para poder emplear el método de Cholesky es que la matriz $A$ sea **simétrica y positiva definida**. Existen diferentes definiciones para que una matriz cumpla con ser positiva definida (todas ellas equivalentes).\n",
        "\n",
        "Una matriz $A\\in M_{n\\times n}$ sobre $\\mathbb{R}$\n",
        "1.   Es simétrica si: $A=A^{T}$\n",
        "2.   Es positiva definida si todos sus determinantes superiores izquierdos de $i\\times i\\quad i=1,\\ldots,n$ son positivos."
      ]
    },
    {
      "cell_type": "markdown",
      "metadata": {
        "id": "5Sshr1SyvYb9"
      },
      "source": [
        "## Teorema\n",
        "\n",
        "El matemático **André-Louis Cholesky**, planteó el siguiente teorema:\n",
        "\n",
        "Sea $A\\in M_{n\\times n}$ sobre $\\mathbb{R}$ una matriz simétrica definida positiva puede ser descompuesta como el producto de una matriz triangular inferior $L$ y la traspuesta de la matriz triangular $L^{T}$ inferior, es decir.\n",
        "\n",
        "$$A=LL^{T}$$"
      ]
    },
    {
      "cell_type": "markdown",
      "metadata": {
        "id": "AauzTvcOwkfq"
      },
      "source": [
        "# Método de Cholesky\n",
        "El método de Cholesky para matrices $A\\in M_{n\\times n}$ sobre $\\mathbb{R}$ que cumplan con los requisitos, se puede reducir a 3 sencillos pasos:\n",
        "\n",
        "\n",
        "1.   A patir de la matriz $A$ calcular la matríz $L$.\n",
        "2.   Transponer la matríz $L$.\n",
        "3.   Comprobar que $LL^{T}=A$.\n",
        "\n",
        "Para calcular la matríz $L$ empleamos las siguientes fórmulas:\n",
        "\n",
        "La primer fórmula es empleada para calcular las entradas de $L$ debajo de la diagonal.\n",
        "\n",
        "$$l_{ki}=\\frac{a_{ki}-\\displaystyle\\sum_{j=0}^{i-1}l_{ij}l_{kj}}{l_{ii}}\\quad i<k\\quad i=0,\\ldots,n-1$$\n",
        "\n",
        "Y la segunda fórmula es empleada para calcular las entradas en la diagonal de $L$\n",
        "\n",
        "$$l_{kk}=\\sqrt{a_{kk}-\\displaystyle\\sum_{j=0}^{k-1}l_{kj}^{2}}\\quad j<k\\quad k=0,\\ldots,n-1$$\n",
        "\n",
        "Dado que $L$ por definición es una matríz triangular inferior, vale la pena recalcar que no es necesario calcular los elementos de $L$ que se encuentren por arriba de la diagonal, ya que todos estos elementos son **iguales a cero**."
      ]
    },
    {
      "cell_type": "markdown",
      "metadata": {
        "id": "pXQA78I54CYF"
      },
      "source": [
        "# Ejemplo\n",
        "\n",
        "Sea $A=\\left(\\begin{array}{ccc}\n",
        "6 & 15 & 55\\\\\n",
        "15 & 55 & 225\\\\\n",
        "55 & 225 & 979\n",
        "\\end{array}\\right)$ encuentre su factorización $A=LL^{T}$\n",
        "\n",
        "$$l_{00}=\\sqrt{a_{00}}=\\sqrt{6}=2.4495$$\n",
        "\n",
        "$$l_{10}=\\frac{a_{10}}{l_{00}}=\\frac{15}{2.4495}=6.1237$$\n",
        "\n",
        "$$l_{20}=\\frac{a_{20}}{l_{00}}=\\frac{55}{2.4495}=22.454$$\n",
        "\n",
        "Ya tenemos la primer columna de $L$, para calcular la segunda columna volvemos a aplicar las igualdades anteriores.\n",
        "\n",
        "$$l_{11}=\\sqrt{a_{11}-l_{10}^{2}}=\\sqrt{55-6.1237^{2}}=4.1833$$\n",
        "\n",
        "$$l_{21}=\\frac{a_{21}-l_{10}l_{20}}{l_{11}}=\\frac{55-(6.1237)(22.454)}{4.1833}=20.916$$\n",
        "\n",
        "Finalmente, dado que $A\\in\\mathbb{R}_{3\\times 3}$, resta calcular la entrada $a_{22}$:\n",
        "\n",
        "$$l_{22}=\\sqrt{a_{22}-(l_{20}^{2}+l_{21}^{2})}=\\sqrt{979-(22.454^{2}+20.916^{2})}=6.1106$$\n",
        "\n",
        "Por lo tanto:\n",
        "\n",
        "$$L=\\left(\\begin{array}{ccc}\n",
        "2.4495 & 0 & 0\\\\\n",
        "6.1237 & 4.1833 & 0\\\\\n",
        "22.454 & 20.916 & 6.1106\n",
        "\\end{array}\\right)\\quad y\\quad L^{T}=\\left(\\begin{array}{ccc}\n",
        "2.4495 & 6.1237 & 22.454\\\\\n",
        "0 & 4.1833 & 20.916\\\\\n",
        "0 & 0 & 6.1106\n",
        "\\end{array}\\right)$$\n",
        "\n",
        "Y dado el teorema anterior, podemos asegurar que:\n",
        "\n",
        "$$LL^{T}=A$$"
      ]
    },
    {
      "cell_type": "code",
      "metadata": {
        "id": "SV4Jaxd5-wZ1",
        "colab": {
          "base_uri": "https://localhost:8080/"
        },
        "outputId": "fbd235ac-76de-4c09-b5e5-8f160e06a9ce"
      },
      "source": [
        "import numpy as np\n",
        "\n",
        "# Se define la matriz A\n",
        "A = np.array([[6,15,55],[15,55,225],[55,225,979]])\n",
        "\n",
        "# Obtenemos la factorizacion de Cholesky\n",
        "L = np.linalg.cholesky(A)\n",
        "# Dado que se usara Lt varias veces, es mejor guardarla en memoria\n",
        "Lt = L.T\n",
        "\n",
        "# Se imprimen ambas matrices\n",
        "print(L)\n",
        "print(Lt)\n",
        "\n",
        "# Comprobacion\n",
        "print(np.matmul(L,Lt))"
      ],
      "execution_count": null,
      "outputs": [
        {
          "output_type": "stream",
          "text": [
            "[[ 2.44948974  0.          0.        ]\n",
            " [ 6.12372436  4.18330013  0.        ]\n",
            " [22.45365598 20.91650066  6.11010093]]\n",
            "[[ 2.44948974  6.12372436 22.45365598]\n",
            " [ 0.          4.18330013 20.91650066]\n",
            " [ 0.          0.          6.11010093]]\n",
            "[[  6.  15.  55.]\n",
            " [ 15.  55. 225.]\n",
            " [ 55. 225. 979.]]\n"
          ],
          "name": "stdout"
        }
      ]
    },
    {
      "cell_type": "markdown",
      "metadata": {
        "id": "rBE5JjWOATML"
      },
      "source": [
        "## Sistema $A\\vec{x}=LL^{T}\\vec{x}=\\vec{b}$\n",
        "\n",
        "Ya que se tienen ambas matrices $\\left(LL^{T}\\right)$, podemos substituirlas en el sistema original, de tal manera que ahora el sistema luce así:\n",
        "\n",
        "$$A\\vec{x}=LL^{T}\\vec{x}=\\vec{b}$$\n",
        "\n",
        "Posteriormente, podemos replantear la solución del sistema de la siguiente forma:\n",
        "\n",
        "$$LL^{T}\\vec{x}=\\vec{b}\\Longrightarrow L^{-1}LL^{T}\\vec{x}=L^{-1}\\vec{b}\\Longrightarrow L^{T}\\vec{x}=L^{-1}\\vec{b}\\tag{1}$$\n",
        "\n",
        "De manera tal que ahora nos interesa primero encontrar una solución al sistema $L^{-1}\\vec{b}=\\vec{y}$, mismo que podemos reescribir así:\n",
        "\n",
        "$$L^{-1}\\vec{b}=\\vec{y}\\Longrightarrow LL^{-1}\\vec{b}=L\\vec{y}\\Longrightarrow\\vec{b}=L\\vec{y}\\Longrightarrow L\\vec{y}=\\vec{b}\\tag{2}$$\n",
        "\n",
        "La ecuación (2) tiene la ventaja de ser un sistema triangular inferior, es por eso que la solución $\\vec{y}$ puede ser calculada fácilmente empleando **substitución hacia adelante**. Y una vez calculada, podemos proceder a resolver el segundo sistema empleando **substitución hacia atrás**.\n",
        "\n",
        "$$L^{T}\\vec{x}=\\vec{y}\\tag{3}$$"
      ]
    },
    {
      "cell_type": "markdown",
      "metadata": {
        "id": "9dDQ3k_gKMYZ"
      },
      "source": [
        "# Aplicación\n",
        "\n",
        "El tipo de matrices candidatas para la factorización de Cholesky $LL^{T}$ o incluso factorización $QR$ (método de Gram-Schmidt) se dan al momento de encontrar las **ecuaciones normales dentro del problema de mínimos cuadrados**.\n",
        "\n",
        "Ya que se entendió el porqué es útil entender el proceso de mínimos cuadrados y como es que las factorizaciones ayudan a resolverlo, ahora lo que resta es automatizar todo el proceso que lleva a resolver el problema general, es decir:\n",
        "\n",
        "• Se tiene una lista de puntos de la forma $\\left(x,y\\right)$, donde cada punto representa datos reales de algún fenómeno (estadística, genética, geofísica, física biomédica, etc).\n",
        "\n",
        "• A continuación se encuentran las **ecuaciones normales del sistema** empleando la igualdad $A^{T}A\\vec{x}=A^{T}\\vec{b}=b'$.\n",
        "\n",
        "• Aplicamos alguna factorización, por ejemplo Cholesky ó empleando el proceso de Gram-Schmidt, para encontrar una base ortonormal para el subespacio generado por los vectores columna de $A'$, es decir, $A^{T}A=A\\text{'}=L^{T}L$ ó $A\\text{'}=QR$.\n",
        "\n",
        "• Aplicando las propiedades de $L^{T}\\;y\\;L$ ó $Q\\:y\\:R$ se resuelve el nuevo sistema (mediante substitución hacia adelante o hacia atrás), $QR\\vec{x}=b'\\Longrightarrow R\\vec{x}=Q^{T}b'$ ó se aplica el procedimiento mostrado en (1), (2) y (3).\n",
        "\n",
        "• Una vez encontrados los coeficientes $\\alpha\\;y\\;\\beta$ de la recta que minimizan los errores cuadráticos, ahora es posible graficar dicha recta e incluso interpolar."
      ]
    },
    {
      "cell_type": "markdown",
      "metadata": {
        "id": "qayXvMhFLt_o"
      },
      "source": [
        "## Referencias\n",
        "\n",
        "\n",
        "*   Butt, R. (2009). Introduction to Numerical Analysis Using MATLAB®. Jones & Bartlett Learning.\n",
        "* Cheney, W., & Kincaid, D. (2010). Métodos numéricos y computación (6a. Ed.). Cengage Learning Editores S.A. de C.V.\n",
        "* Solomon, J. (2015). Numerical Algorithms: Methods for Computer Vision, Machine Learning, and Graphics. CRC Press.\n",
        "* Kiusalaas, J. (2013). Numerical Methods in Engineering with Python 3. Cambridge University Press.\n",
        "* Burden, R. L., Faires, J. D., & C, S. M. (1985). Análisis numérico. Grupo Editorial Iberoamérica.\n",
        "* Skiba, Y. N. (2001). Introducción a los métodos numéricos. UNAM, Dirección General de Publicaciones y Fomento Editorial."
      ]
    }
  ]
}
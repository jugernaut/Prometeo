{
  "nbformat": 4,
  "nbformat_minor": 0,
  "metadata": {
    "colab": {
      "name": "FactorizacionLU.ipynb",
      "provenance": [],
      "toc_visible": true,
      "include_colab_link": true
    },
    "kernelspec": {
      "name": "python3",
      "display_name": "Python 3"
    }
  },
  "cells": [
    {
      "cell_type": "markdown",
      "metadata": {
        "id": "view-in-github",
        "colab_type": "text"
      },
      "source": [
        "<a href=\"https://colab.research.google.com/github/jugernaut/Prometeo/blob/desarrollo/02_AlgebraLineal/07_SistemasLineales/08_FactorizacionLU.ipynb\" target=\"_parent\"><img src=\"https://colab.research.google.com/assets/colab-badge.svg\" alt=\"Open In Colab\"/></a>"
      ]
    },
    {
      "cell_type": "markdown",
      "metadata": {
        "id": "tFjBLaoIb4iD"
      },
      "source": [
        "#Factorización A=LU\n",
        "### Trabajo realizado con el apoyo del Programa UNAM-DGAPA-PAPIME PE101019\n",
        "- Autor: Miguel Angel Pérez León\n",
        "- Rev: dom nov 22 17:08:27 CDT 2020"
      ]
    },
    {
      "cell_type": "markdown",
      "metadata": {
        "id": "ZnRWjAKpcBu3"
      },
      "source": [
        "## Introducción\n",
        "\n",
        "A lo largo del curso se ha mostrado el por que es importante encontrar la forma de resolver un sistema del tipo $A\\vec{x}=\\vec{b}$.\n",
        "\n",
        "Incluso se ha mencionado en diferentes ocasiones que el calculo de la matriz $A^{-1}$ es demasiado costoso.\n",
        "\n",
        "Es por este motivo que para evadir el calculo de $A^{-1}$ se emplean alternativas como buscar la forma triangular superior de $A$ para después emplear substitución hacia atrás.\n",
        "\n",
        "Sin embargo no siempre se puede garantizar que este algoritmo sea eficiente, por otro lado siempre podemos garantizar que la matriz $A$ puede ser descompuesta (factorizada) en el producto de dos matrices $LU$."
      ]
    },
    {
      "cell_type": "markdown",
      "metadata": {
        "id": "BBB6yAIbd40l"
      },
      "source": [
        "## Teorema\n",
        "\n",
        "Sea $A\\in M_{n\\times n}$ una matriz **no singular también llamada regular**, (revisar <a href=\"../02_Matrices/02_Matrices.ipynb\">Matrices</a>) se puede factorizar esta matriz en el producto de 2 matrices (únicas), una triangular inferior y otra triangular superior, es decir.\n",
        "\n",
        "$$A=LU$$\n",
        "\n",
        "En caso de que $A$ sea singular, **la unicidad de $L$ y $U$ no esta garantizada**.\n",
        "\n",
        "Una vez que se tienen las matrices $L$ y $U$ resolver el sistema $A\\vec{x}=\\vec{b}$ se reduce a resolver dos sistemas, uno triangular inferior y posteriormente uno triangular superior.\n",
        "\n",
        "Las letras $L$ y $U$ hacen referencia a que son matrices tinagulares, una inferior $L$ (es decir que todos los valores arriba de la diagonal principal son cero) y otra superior $U$ (es decir que todos los valores debajo de la diagonal principal son cero)."
      ]
    },
    {
      "cell_type": "markdown",
      "metadata": {
        "id": "vV7_67c9fHOz"
      },
      "source": [
        "## $A\\vec{x}=LU\\vec{x}$\n",
        "\n",
        "Ya que se tienen ambas matrices $\\left(LU\\right)$ podemos substituirlas en el sistema original, de tal manera que ahora el sistema luce así.\n",
        "\n",
        "$$A\\vec{x}=LU\\vec{x}=\\vec{b}$$\n",
        "\n",
        "Posteriormente podemos replantear la solución del sistema de la siguiente forma.\n",
        "\n",
        "$$LU\\vec{x}=\\vec{b}\\Longrightarrow L^{-1}LU\\vec{x}=L^{-1}\\vec{b}\\Longrightarrow U\\vec{x}=L^{-1}\\vec{b}\\tag{1}$$\n",
        "\n",
        "De manera tal que ahora nos interesa primero encontrar una solución al sistema $L^{-1}\\vec{b}=\\vec{y}$, mismo que podemos reescribir.\n",
        "\n",
        "$$L^{-1}\\vec{b}=\\vec{y}\\Longrightarrow LL^{-1}\\vec{b}=L\\vec{y}\\Longrightarrow\\vec{b}=L\\vec{y}\\Longrightarrow L\\vec{y}=\\vec{b}\\tag{2}$$\n",
        "\n",
        "La ecuación (2) tiene la ventaja de ser un sistema triangular inferior, es por eso que la solución $\\vec{y}$ puede ser calculada fácilmente empleando **substitución hacia adelante**. Y una vez calculada, podemos proceder a resolver el segundo sistema empleando **substitución hacia atras**.\n",
        "\n",
        "$$U\\vec{x}=\\vec{y}\\tag{3}$$"
      ]
    },
    {
      "cell_type": "markdown",
      "metadata": {
        "id": "s7W7DWzNhMDT"
      },
      "source": [
        "## Algoritmo para la factorización $LU$\n",
        "\n",
        "La idea detrás del algoritmo consiste en llevar a la matriz $A$ a su forma triangular superior $U$ mediante operaciones elementales y al mismo tiempo almacenar los factores multiplicativos que llevaron a la matriz $U$. Estos son multiplicados por -1 y almacenados en la matriz identidad que inicialmente es igual a $L$.\n",
        "\n",
        "1.   Sean $A,U,L\\in M_{n\\times n}$, inicialmente las matrices $A$ y $U$ son iguales y $L$ es la identidad.\n",
        "2.   Como se busca que $U$ sea una matriz triangular superior necesitamos generar ceros debajo de la diagonal.\n",
        "3.   Supongamos que queremos generar un cero en la entrada $a_{\\left(i,j\\right)}$ $(j<i)$. Necesitamos multiplicar el renglón $r$ $(r<i)$ por un factor $f_{1}$ y sumarlo al renglón $i$.\n",
        "4.   Al mismo tiempo es necesario substituir la entrada $l_{\\left(i,j\\right)}$ por $-f_{1}$. Es decir $l_{\\left(i,j\\right)}=-f_{1}$.\n",
        "5.   Se repite, los pasos 3 y 4, hasta que la matriz $U$ alcanza su forma triangular superior."
      ]
    },
    {
      "cell_type": "markdown",
      "metadata": {
        "id": "_WdUyaQ7jsHi"
      },
      "source": [
        "### Ejemplo\n",
        "\n",
        "Sean \n",
        "\n",
        "$$A=\\left(\\begin{array}{ccc}\n",
        "-4 & -3 & 1\\\\\n",
        "8 & 11 & -1\\\\\n",
        "4 & 18 & 5\n",
        "\\end{array}\\right)=U\\;y\\;L=\\left(\\begin{array}{ccc}\n",
        "1 & 0 & 0\\\\\n",
        "0 & 1 & 0\\\\\n",
        "0 & 0 & 1\n",
        "\\end{array}\\right)\\Longrightarrow A=UL$$\n",
        "\n",
        "Multipliquemos el renglón 1 de $A$ por **2** y lo sumamos al segundo renglón.\n",
        "\n",
        "$$U=\\left(\\begin{array}{ccc}\n",
        "-4 & -3 & 1\\\\\n",
        "0 & 5 & 1\\\\\n",
        "4 & 18 & 5\n",
        "\\end{array}\\right)\\quad L=\\left(\\begin{array}{ccc}\n",
        "1 & 0 & 0\\\\\n",
        "{\\color{blue}{-2}} & 1 & 0\\\\\n",
        "0 & 0 & 1\n",
        "\\end{array}\\right)$$\n",
        "\n",
        "Ahora multiplicamos el renglón 1 por **1** y se suma al tercer renglón.\n",
        "\n",
        "$$U=\\left(\\begin{array}{ccc}\n",
        "-4 & -3 & 1\\\\\n",
        "0 & 5 & 1\\\\\n",
        "0 & 15 & 6\n",
        "\\end{array}\\right)\\quad L=\\left(\\begin{array}{ccc}\n",
        "1 & 0 & 0\\\\\n",
        "-2 & 1 & 0\\\\\n",
        "{\\color{blue}{-1}} & 0 & 1\n",
        "\\end{array}\\right)$$\n",
        "\n",
        "Finalmente se multiplica por **-3** el segundo renglón y se suma al tercero.\n",
        "\n",
        "$$U=\\left(\\begin{array}{ccc}\n",
        "-4 & -3 & 1\\\\\n",
        "0 & 5 & 1\\\\\n",
        "0 & 0 & 3\n",
        "\\end{array}\\right)\\quad L=\\left(\\begin{array}{ccc}\n",
        "1 & 0 & 0\\\\\n",
        "-2 & 1 & 0\\\\\n",
        "-1 & {\\color{blue}3} & 1\n",
        "\\end{array}\\right)$$\n",
        "\n",
        "Comprobemos el resultado anterior en Python, es decir.\n",
        "\n",
        "$$LU=A$$"
      ]
    },
    {
      "cell_type": "code",
      "metadata": {
        "id": "KkB49LZdiEo7",
        "colab": {
          "base_uri": "https://localhost:8080/"
        },
        "outputId": "b5b8b1d7-22cf-4074-8d3b-b17ad419ce90"
      },
      "source": [
        "# Se importan las bibliotecas necesarias\n",
        "import numpy as np\n",
        "\n",
        "# Generamos las matrices correspondientes\n",
        "L = np.array([[1,0,0],[-2,1,0],[-1,3,1]])\n",
        "U = np.array([[-4,-3,1],[0,5,1],[0,0,3]])\n",
        "\n",
        "# Guardemos el resultado del producto de ambas matrices\n",
        "A = np.matmul(L,U)\n",
        "\n",
        "# Se comprueba el resultado\n",
        "print(A)"
      ],
      "execution_count": null,
      "outputs": [
        {
          "output_type": "stream",
          "text": [
            "[[-4 -3  1]\n",
            " [ 8 11 -1]\n",
            " [ 4 18  5]]\n"
          ],
          "name": "stdout"
        }
      ]
    },
    {
      "cell_type": "markdown",
      "metadata": {
        "id": "YnihxpOyo7IM"
      },
      "source": [
        "Ya que contamos con $LU$ y validamos que efectivamente $A=LU$, entonces se procede a resolver el sistema $L\\vec{y}=\\vec{b}$.\n",
        "\n",
        "$$\\left(\\begin{array}{ccc}\n",
        "1 & 0 & 0\\\\\n",
        "-2 & 1 & 0\\\\\n",
        "-1 & 3 & 1\n",
        "\\end{array}\\right)\\left(\\begin{array}{c}\n",
        "y_{0}\\\\\n",
        "y_{1}\\\\\n",
        "y_{2}\n",
        "\\end{array}\\right)=\\left(\\begin{array}{c}\n",
        "5\\\\\n",
        "6\\\\\n",
        "1\n",
        "\\end{array}\\right)$$\n",
        "\n",
        "Empleando **substitución hacia adelante** se tiene que. \n",
        "\n",
        "$$\\vec{y}=\\left(\\begin{array}{c}\n",
        "5\\\\\n",
        "16\\\\\n",
        "-42\n",
        "\\end{array}\\right)$$\n",
        "\n",
        "Ahora procedemos a resolver el sistema $U\\vec{x}=\\vec{y}$. \n",
        "\n",
        "$$\n",
        "\\left(\\begin{array}{ccc}\n",
        "-4 & -3 & 1\\\\\n",
        "0 & 5 & 1\\\\\n",
        "0 & 0 & 3\n",
        "\\end{array}\\right)\\left(\\begin{array}{c}\n",
        "x_{0}\\\\\n",
        "x_{1}\\\\\n",
        "x_{2}\n",
        "\\end{array}\\right)=\\left(\\begin{array}{c}\n",
        "5\\\\\n",
        "16\\\\\n",
        "-42\n",
        "\\end{array}\\right)\n",
        "$$\n",
        "\n",
        "Finalmente, mediante **substitución hacia atras** se tiene que.\n",
        "\n",
        "$$\\vec{x}=\\left(\\begin{array}{c}\n",
        "-9.25\\\\\n",
        "6\\\\\n",
        "-14\n",
        "\\end{array}\\right)$$\n",
        "\n",
        "De igual manera podemos comprobar el resultado mediante Python."
      ]
    },
    {
      "cell_type": "code",
      "metadata": {
        "id": "hb_VSv5or_UL",
        "colab": {
          "base_uri": "https://localhost:8080/"
        },
        "outputId": "2135ccbe-2210-41eb-e01a-fe36a4e5251d"
      },
      "source": [
        "# Se define el vector b\n",
        "b = np.array([5,6,1])\n",
        "\n",
        "#Usamos numpy para validar la solucion\n",
        "print(np.linalg.solve(A,b))"
      ],
      "execution_count": null,
      "outputs": [
        {
          "output_type": "stream",
          "text": [
            "[ -9.25   6.   -14.  ]\n"
          ],
          "name": "stdout"
        }
      ]
    },
    {
      "cell_type": "markdown",
      "metadata": {
        "id": "4N9uHdOis_kE"
      },
      "source": [
        "## Análisis de la complejidad\n",
        "\n",
        "*   ¿Cuantos flop's (en términos de n) requiere unicamente el algoritmo de la substitución hacia adelante?.\n",
        "*   ¿La factorización $A=LU$ funciona para cualquier sistema de ecuaciones?.\n",
        "*   ¿Que sucede si en el sistema original $A\\vec{x}=\\vec{b}$ se tiene un cero en alguna entrada que impida realizar la factorización $A=LU$?."
      ]
    },
    {
      "cell_type": "markdown",
      "metadata": {
        "id": "BBLTgxz0Vlvq"
      },
      "source": [
        "## Ejemplo de sistema lineal\n",
        "\n",
        "A continuación se muestra el codigo en python de la factorización $A=LU$ y como emplearlo para resolver un sistema de ecuaciones lineales del tipo $A\\vec{x}=\\vec{b}$."
      ]
    },
    {
      "cell_type": "code",
      "metadata": {
        "id": "cYbsjUXpiFmR",
        "colab": {
          "base_uri": "https://localhost:8080/"
        },
        "outputId": "32340e98-e6cf-4dbd-ecee-bf92478aa4d2"
      },
      "source": [
        "# algoritmo para descomposicion A=LU\n",
        "# la matriz A ya esta dada\n",
        "def factorizacionLU(A):\n",
        "    # dimension de la matriz\n",
        "    n = len(A)\n",
        "    # matriz L inicialmente es la identidad\n",
        "    L = np.identity(n)\n",
        "    # inicialmente la matriz A y la matriz U son iguales\n",
        "    U = np.zeros((n,n))\n",
        "    for i in range(0,n):\n",
        "        for j in range(0,n):\n",
        "            U[i][j] = A[i][j]\n",
        "    # eliminacion gaussiana\n",
        "    for i in range(0,n):\n",
        "        for j in range(i+1,n):\n",
        "            # guardar los factores de eliminacion gaussiana \n",
        "            # en la matriz L\n",
        "            factor = U[j][i]/U[i][i]\n",
        "            L[j][i] = factor\n",
        "            # realizar eliminacion gaussiana en la matriz U\n",
        "            # para quedar de forma triangular superior\n",
        "            for k in range(i,n):\n",
        "                U[j][k] = U[j][k] - factor*U[i][k]\n",
        "    return L,U\n",
        "\n",
        "# algoritmo para sustitucion hacia delante\n",
        "# n es el tamano de la dimension del problema\n",
        "# matriz L, vector b ya estan dados como parametros\n",
        "# guardar los resultados en el vector y\n",
        "# Ly=b\n",
        "def sustDelante(L, b):\n",
        "    n=len(L)\n",
        "    y=np.empty_like(b)\n",
        "    y[0] = b[0]\n",
        "    for i in range(1,n):\n",
        "        y[i] = b[i]\n",
        "        for j in range(0,i):\n",
        "            y[i] -= L[i][j]*y[j]\n",
        "    return y\n",
        "\n",
        "# algoritmo para sustitucion hacia atras\n",
        "# n es el tamano de la dimension del problema\n",
        "# matriz U, vector y ya estan dados como parametros\n",
        "# guardar los resultados en el vector x\n",
        "# Ux=y\n",
        "def sustAtras(U, y):\n",
        "    n=len(U)\n",
        "    x=np.empty_like(y)\n",
        "    x[n-1] = y[n-1]/U[n-1][n-1]\n",
        "    for i in range(n-2,-1,-1):\n",
        "        x[i] = y[i]\n",
        "        for j in range(i+1,n):\n",
        "            x[i] -= U[i][j]*x[j]\n",
        "        x[i] /= U[i][i]\n",
        "    return x\n",
        "\n",
        "def main():\n",
        "    # matriz del sistema Ax=b\n",
        "    A = np.array([[-4.0,-3.0,1.0],[8.0,11.0,-1.0],[4.0,18.0,5.0]])\n",
        "    # vector b = A*xTeor, producto matriz A con vector xTeor \n",
        "    b = np.array([5.0,6.0,1.0])\n",
        "    # llamar funcion de descomposicion LU para obtener/llenar matrices L,U\n",
        "    L,U=factorizacionLU(A)\n",
        "    #se imprimen las matrices y el vector b\n",
        "    print(A)\n",
        "    print(L)\n",
        "    print(U)\n",
        "    print(b)\n",
        "    # llamar funcion sustDelante para obtener/llenar vector y\n",
        "    y = sustDelante(L,b)    \n",
        "    # llamar funcion sustAtras para obtener/llenar vector x \n",
        "    # solucion aproximada/calculada\n",
        "    x = sustAtras(U,y)\n",
        "    # imprimir solucion aproximada/calculada\n",
        "    print(x)\n",
        "    \n",
        "main()"
      ],
      "execution_count": null,
      "outputs": [
        {
          "output_type": "stream",
          "text": [
            "[[-4. -3.  1.]\n",
            " [ 8. 11. -1.]\n",
            " [ 4. 18.  5.]]\n",
            "[[ 1.  0.  0.]\n",
            " [-2.  1.  0.]\n",
            " [-1.  3.  1.]]\n",
            "[[-4. -3.  1.]\n",
            " [ 0.  5.  1.]\n",
            " [ 0.  0.  3.]]\n",
            "[5. 6. 1.]\n",
            "[ -9.25   6.   -14.  ]\n"
          ],
          "name": "stdout"
        }
      ]
    },
    {
      "cell_type": "markdown",
      "metadata": {
        "id": "oDop6nTliDFd"
      },
      "source": [
        "# Referencias\n",
        "\n",
        "*   Butt, R. (2009). Introduction to Numerical Analysis Using MATLAB®. Jones & Bartlett Learning.\n",
        "*   Cheney, W., & Kincaid, D. (2010). Métodos numéricos y computación (6a. Ed.). Cengage Learning Editores S.A. de C.V.\n",
        "*   Burden, R. L., Faires, J. D., & C, S. M. (1985). Análisis numérico. Grupo Editorial Iberoamérica.\n",
        "*   Skiba, Y. N. (2001). Introducción a los métodos numéricos. UNAM, Dirección General de Publicaciones y Fomento Editorial."
      ]
    },
    {
      "cell_type": "markdown",
      "metadata": {
        "id": "aM9D0Ge1lfL4"
      },
      "source": [
        "#Evalúa tu conocimiento \r\n",
        "\r\n",
        "Si deseas contestar un breve cuestionario en el que podras evaluar un poco del conocimiento aquirido en este notebook da clic en el siguiente enlace:\r\n",
        "\r\n",
        "\r\n",
        "https://docs.google.com/forms/d/e/1FAIpQLScEtLeKQZnGpdISgAnV_HIf2F-j7bhPPcnsYnxoNLWazEC9uA/viewform?usp=sf_link"
      ]
    }
  ]
}
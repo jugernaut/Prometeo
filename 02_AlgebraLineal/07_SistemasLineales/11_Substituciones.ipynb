{
  "nbformat": 4,
  "nbformat_minor": 0,
  "metadata": {
    "colab": {
      "name": "Copia de 11_Substituciones.ipynb",
      "provenance": [],
      "collapsed_sections": [],
      "toc_visible": true,
      "include_colab_link": true
    },
    "kernelspec": {
      "name": "python3",
      "display_name": "Python 3"
    }
  },
  "cells": [
    {
      "cell_type": "markdown",
      "metadata": {
        "id": "view-in-github",
        "colab_type": "text"
      },
      "source": [
        "<a href=\"https://colab.research.google.com/github/jugernaut/Prometeo/blob/desarrollo/02_AlgebraLineal/07_SistemasLineales/11_Substituciones.ipynb\" target=\"_parent\"><img src=\"https://colab.research.google.com/assets/colab-badge.svg\" alt=\"Open In Colab\"/></a>"
      ]
    },
    {
      "cell_type": "markdown",
      "metadata": {
        "id": "yo33NsOPObKq"
      },
      "source": [
        "# Substituciones\n",
        "## Trabajo realizado con el apoyo del Programa UNAM-DGAPA-PAPIME PE101019\n",
        "- Autor: Miguel Angel Pérez León\n",
        "- Rev: jue nov 26 17:08:27 CDT 2020\n",
        "\n",
        "Este sitio puede ser usado libremente, tanto por profesores como por estudiantes, que deseen complementar sus cursos y conocimientos en los temas antes mencionados. Los materiales están bajo una Licencia Creative Commons Atribución-NoComercial-CompartirIgual 4.0 Internacional\n",
        "\n",
        "<a rel=\"license\" href=\"http://creativecommons.org/licenses/by-nc-sa/4.0/\"><img alt=\"Licencia Creative Commons\" style=\"border-width:0\" src=\"https://i.creativecommons.org/l/by-nc-sa/4.0/88x31.png\" /></a><br />Esta obra está bajo una <a rel=\"license\" href=\"http://creativecommons.org/licenses/by-nc-sa/4.0/\">Licencia Creative Commons Atribución-NoComercial-CompartirIgual 4.0 Internacional</a>.\n",
        "\n",
        "Trabajo realizado con el apoyo del Programa UNAM-DGAPA-PAPIME PE101019"
      ]
    },
    {
      "cell_type": "markdown",
      "metadata": {
        "id": "DM99hJ6RG-TW"
      },
      "source": [
        "## Introducción\n",
        "\n",
        "Gran parte de las factorizaciones empleadas para evitar el cálculo de la matriz inversa (si no es que todas) hacen uso de la substitución hacia adelante y substitución hacia atrás.\n",
        "\n",
        "Es por eso que realizar un análisis detallado del mismo es muy buena idea, antes de continuar."
      ]
    },
    {
      "cell_type": "markdown",
      "metadata": {
        "id": "09GNFtNsMWEu"
      },
      "source": [
        "## Substituciones (hacia adelante, hacia atras)\n",
        "\n",
        "Una vez que ya se tiene una matriz triangular (superior o inferior) es muy sencillo resolver un sistema de ecuaciones empleando alguna de estas substituciones.\n",
        "\n",
        "La idea general es que dado un sistema del tipo $A\\vec{x}=\\vec{b}$, la matriz $A\\in M_{n\\times n}$ puede ser factorizada empleando alguno de los métodos previamente mencionados *(LU, QR, Cholesky)* y una vez que se tenga alguna de estas factorizaciones es posible emplear algun tipo de subtitución para resolver el sistema original."
      ]
    },
    {
      "cell_type": "markdown",
      "metadata": {
        "id": "ydYY5dOGYoU-"
      },
      "source": [
        "## Substitución hacia adelante\n",
        "\n",
        "Supongamos que se tiene una matríz triangular inferior $L\\in M_{n\\times n}$ sobre $\\mathbb{R}$ y los correspondientes vectores, $\\vec{y},\\vec{b}\\in\\mathbb{R}^{n}$ podemos pensar en resolver el sistema:\n",
        "\n",
        "$$L\\vec{y}=\\vec{b}$$\n",
        "\n",
        "Para resolver dicho sistema empleamos el siguiente algoritmo de substitución:\n",
        "\n",
        "$$y_{i}=\\frac{b_{i}-\\displaystyle\\sum_{j=0}^{i-1}l_{ij}y_{j}}{l_{ii}}\\quad i=0,\\ldots,(n-1)$$"
      ]
    },
    {
      "cell_type": "markdown",
      "metadata": {
        "id": "rUSrVhTTHpJb"
      },
      "source": [
        "### Ejemplo\n",
        "\n",
        "$$\\left(\\begin{array}{ccc}\n",
        "1 & 0 & 0\\\\\n",
        "-2 & 1 & 0\\\\\n",
        "-1 & 3 & 1\n",
        "\\end{array}\\right)\\left(\\begin{array}{c}\n",
        "y_{0}\\\\\n",
        "y_{1}\\\\\n",
        "y_{2}\n",
        "\\end{array}\\right)=\\left(\\begin{array}{c}\n",
        "5\\\\\n",
        "6\\\\\n",
        "1\n",
        "\\end{array}\\right)$$\n",
        "\n",
        "Encontrar la primera entada del vector $\\vec{y}$ es trivial\n",
        "\n",
        "$$y_{0}=5$$\n",
        "\n",
        "La siguiente entrada involucra a $y_{0}$, es decir:\n",
        "\n",
        "$$y_{1}=\\frac{6-\\left(\\left(-2\\right)\\left(y_{0}\\right)\\right)}{l_{11}}=\\frac{6-\\left(\\left(-2\\right)\\left(5\\right)\\right)}{1}=16$$\n",
        "\n",
        "Finalmente, la última entrada de $\\vec{y}$ se calcula empleando $y_{1}$ y $y_{0}$:\n",
        "\n",
        "$$y_{2}=\\frac{1-\\left(\\left(-1\\right)\\left(y_{0}\\right)+\\left(3\\right)\\left(y_{1}\\right)\\right)}{l_{22}}=\\frac{1-\\left(\\left(-1\\right)\\left(5\\right)+\\left(3\\right)\\left(16\\right)\\right)}{1}=-42$$\n",
        "\n",
        "Empleando **substitución hacia adelante** se tiene que:\n",
        "\n",
        "$$\\vec{y}=\\left(\\begin{array}{c}\n",
        "5\\\\\n",
        "16\\\\\n",
        "-42\n",
        "\\end{array}\\right)$$"
      ]
    },
    {
      "cell_type": "markdown",
      "metadata": {
        "id": "yEXaRqlETprP"
      },
      "source": [
        "## Substitución hacia atrás\n",
        "\n",
        "Supongamos que se tiene una matríz triangular superior $U \\in M_{n\\times n}$ sobre $\\mathbb{R}$ y los correspondientes vectores, $\\vec{x},\\vec{y}\\in\\mathbb{R}^{n}$ podemos pensar en resolver el sistema.\n",
        "\n",
        "$$U\\vec{x}=\\vec{y}$$\n",
        "\n",
        "Para resolver dicho sistema empleamos el siguiente algoritmo de substitución:\n",
        "\n",
        "$$x_{i}=\\frac{y_{i}-\\displaystyle\\sum_{j=i+1}^{n-1}u_{ij}x_{j}}{u_{ii}}\\quad i=(n-1),\\ldots,0$$"
      ]
    },
    {
      "cell_type": "markdown",
      "metadata": {
        "id": "uY5NwVtDJVYI"
      },
      "source": [
        "### Ejemplo\n",
        "\n",
        "$$\n",
        "\\left(\\begin{array}{ccc}\n",
        "-4 & -3 & 1\\\\\n",
        "0 & 5 & 1\\\\\n",
        "0 & 0 & 3\n",
        "\\end{array}\\right)\\left(\\begin{array}{c}\n",
        "x_{0}\\\\\n",
        "x_{1}\\\\\n",
        "x_{2}\n",
        "\\end{array}\\right)=\\left(\\begin{array}{c}\n",
        "5\\\\\n",
        "16\\\\\n",
        "-42\n",
        "\\end{array}\\right)\n",
        "$$\n",
        "\n",
        "Encontrar la última entada del vector $\\vec{x}$ es trivial\n",
        "\n",
        "$$x_{2}=\\frac{-42}{u_{22}}=\\frac{-42}{3}=-14$$\n",
        "\n",
        "La siguiente entrada involucra a $x_{2}$, es decir:\n",
        "\n",
        "$$x_{1}=\\frac{16-\\left(\\left(1\\right)\\left(x_{2}\\right)\\right)}{u_{11}}=\\frac{16-\\left(\\left(1\\right)\\left(-14\\right)\\right)}{5}=6$$\n",
        "\n",
        "Finalmente la primer entrada de $x$ se calcula empleando $x_{2}$ y $x_{1}$:\n",
        "\n",
        "$$x_{0}=\\frac{5-\\left(\\left(1\\right)\\left(x_{2}\\right)+\\left(-3\\right)\\left(x_{1}\\right)\\right)}{u_{00}}=\\frac{5-\\left(\\left(1\\right)\\left(-14\\right)+\\left(-3\\right)\\left(6\\right)\\right)}{-4}=-9.25$$\n",
        "\n",
        "Por último, mediante **substitución hacia atras** se tiene que:\n",
        "\n",
        "$$\\vec{x}=\\left(\\begin{array}{c}\n",
        "-9.25\\\\\n",
        "6\\\\\n",
        "-14\n",
        "\\end{array}\\right)$$\n",
        "\n",
        "En python ambos algoritmos lucen así:"
      ]
    },
    {
      "cell_type": "code",
      "metadata": {
        "id": "Ln6srzOGQBiC"
      },
      "source": [
        "import numpy as np\n",
        "\n",
        "# algoritmo para sustitucion hacia delante\n",
        "# n es el tamano de la dimension del problema\n",
        "# matriz L, vector b ya estan dados como parametros\n",
        "# guardar los resultados en el vector y\n",
        "# Ly=b\n",
        "def sustDelante(L, b):\n",
        "    n=len(L)\n",
        "    y=np.empty_like(b)\n",
        "    y[0] = b[0]\n",
        "    for i in range(1,n):\n",
        "        y[i] = b[i]\n",
        "        for j in range(0,i):\n",
        "            y[i] -= L[i][j]*y[j]\n",
        "    return y\n",
        "\n",
        "# algoritmo para sustitucion hacia atras\n",
        "# n es el tamano de la dimension del problema\n",
        "# matriz U, vector y ya estan dados como parametros\n",
        "# guardar los resultados en el vector x\n",
        "# Ux=y\n",
        "def sustAtras(U, y):\n",
        "    n=len(U)\n",
        "    x=np.empty_like(y)\n",
        "    x[n-1] = y[n-1]/U[n-1][n-1]\n",
        "    for i in range(n-2,-1,-1):\n",
        "        x[i] = y[i]\n",
        "        for j in range(i+1,n):\n",
        "            x[i] -= U[i][j]*x[j]\n",
        "        x[i] /= U[i][i]\n",
        "    return x"
      ],
      "execution_count": null,
      "outputs": []
    },
    {
      "cell_type": "markdown",
      "metadata": {
        "id": "0v6F2b98RVQR"
      },
      "source": [
        "#Ejemplo con un sistema de ecuaciones\n",
        "\n",
        "Supongamos que tenemos el sistema $A\\vec{x}=\\vec{b}$.\n",
        "\n",
        "$$\\left(\\begin{array}{ccc}\n",
        "-4 & -3 & 1\\\\\n",
        "8 & 11 & -1\\\\\n",
        "4 & 18 & 5\n",
        "\\end{array}\\right)\\left(\\begin{array}{c}\n",
        "x_{0}\\\\\n",
        "x_{1}\\\\\n",
        "x_{2}\n",
        "\\end{array}\\right)=\\left(\\begin{array}{c}\n",
        "5\\\\\n",
        "6\\\\\n",
        "1\n",
        "\\end{array}\\right)$$\n",
        "\n",
        "Y su respectiva factorización $A=LU$.\n",
        "\n",
        "$$U=\\left(\\begin{array}{ccc}\n",
        "-4 & -3 & 1\\\\\n",
        "0 & 5 & 1\\\\\n",
        "0 & 0 & 3\n",
        "\\end{array}\\right)\\quad L=\\left(\\begin{array}{ccc}\n",
        "1 & 0 & 0\\\\\n",
        "-2 & 1 & 0\\\\\n",
        "-1 &{3} & 1\n",
        "\\end{array}\\right)$$"
      ]
    },
    {
      "cell_type": "code",
      "metadata": {
        "id": "InAwWrSRT9B_",
        "colab": {
          "base_uri": "https://localhost:8080/"
        },
        "outputId": "1c048986-f57c-4b69-9db1-ca90fed7cc10"
      },
      "source": [
        "U = np.array([[-4,-3,1],[0,5,1],[0,0,3]])\n",
        "L = np.array([[1,0,0],[-2,1,0],[-1,3,1]])\n",
        "\n",
        "# Comprobamos que la factorizacion es correcta\n",
        "print(np.matmul(L,U))"
      ],
      "execution_count": null,
      "outputs": [
        {
          "output_type": "stream",
          "text": [
            "[[-4 -3  1]\n",
            " [ 8 11 -1]\n",
            " [ 4 18  5]]\n"
          ],
          "name": "stdout"
        }
      ]
    },
    {
      "cell_type": "markdown",
      "metadata": {
        "id": "nf7TjQ6-VVyU"
      },
      "source": [
        "Primero encontramos la solución del sistema $L\\vec{y}=\\vec{b}$ empleando substitución hacia atrás."
      ]
    },
    {
      "cell_type": "code",
      "metadata": {
        "id": "L3o4ZsCYVcNs",
        "colab": {
          "base_uri": "https://localhost:8080/"
        },
        "outputId": "08d406fb-fb63-4e52-b053-0cca0edde06d"
      },
      "source": [
        "# Se definene los vectores\n",
        "b = np.array([5,6,1])\n",
        "y = np.zeros(3)\n",
        "# Usamos el algoritmo para encontrar la solucion\n",
        "sustDelante(y.size, L, b, y)\n",
        "\n",
        "# Se imprime el resultado\n",
        "print(y)"
      ],
      "execution_count": null,
      "outputs": [
        {
          "output_type": "stream",
          "text": [
            "[  5.  16. -42.]\n"
          ],
          "name": "stdout"
        }
      ]
    },
    {
      "cell_type": "markdown",
      "metadata": {
        "id": "zqSey-W3XsXo"
      },
      "source": [
        "Ya que se conoce el valor del vector $\\vec{y}$ ahora podemos resolver el sistema $U\\vec{x}=\\vec{y}$"
      ]
    },
    {
      "cell_type": "code",
      "metadata": {
        "id": "JSAjOTm2YKEJ",
        "colab": {
          "base_uri": "https://localhost:8080/"
        },
        "outputId": "b645f3dd-8e5b-49d1-b5ac-06df10017214"
      },
      "source": [
        "# Definimos las variables correspondientes\n",
        "x = np.zeros(3)\n",
        "# Usamos el algoritmo para encontrar la solucion\n",
        "sustAtras(x.size, U, y, x)\n",
        "\n",
        "# Se imprime el resultado\n",
        "print(x)"
      ],
      "execution_count": null,
      "outputs": [
        {
          "output_type": "stream",
          "text": [
            "[ -9.25   6.   -14.  ]\n"
          ],
          "name": "stdout"
        }
      ]
    },
    {
      "cell_type": "markdown",
      "metadata": {
        "id": "YjwDihYZYWu4"
      },
      "source": [
        "Por lo tanto la solución al sistema original $A\\vec{x}=\\vec{b}$, es.\n",
        "\n",
        "$$\\vec{x}=\\left(\\begin{array}{c}\n",
        "-9.25\\\\\n",
        "6\\\\\n",
        "-14\n",
        "\\end{array}\\right)$$"
      ]
    },
    {
      "cell_type": "markdown",
      "metadata": {
        "id": "P15Oh28GZKHm"
      },
      "source": [
        "#Resúmen\n",
        "\n",
        "Ya que se tienen una factorización, digamos $\\left(LU\\right)$ ambas matrices  podemos substituirlas en el sistema original, de tal manera que ahora el sistema luce así.\n",
        "\n",
        "$$A\\vec{x}=LU\\vec{x}=\\vec{b}$$\n",
        "\n",
        "Posteriormente podemos replantear la solución del sistema de la siguiente forma.\n",
        "\n",
        "$$LU\\vec{x}=\\vec{b}\\Longrightarrow L^{-1}LU\\vec{x}=L^{-1}\\vec{b}\\Longrightarrow U\\vec{x}=L^{-1}\\vec{b}\\tag{1}$$\n",
        "\n",
        "De manera tal, que ahora nos interesa primero encontrar una solución al sistema $L^{-1}\\vec{b}=\\vec{y}$, mismo que podemos reescribir.\n",
        "\n",
        "$$L^{-1}\\vec{b}=\\vec{y}\\Longrightarrow LL^{-1}\\vec{b}=L\\vec{y}\\Longrightarrow\\vec{b}=L\\vec{y}\\Longrightarrow L\\vec{y}=\\vec{b}\\tag{2}$$\n",
        "\n",
        "La ecuación (2) tiene la ventaja de ser un sistema triangular inferior, es por eso que la solución $\\vec{y}$ puede ser calculada fácilmente empleando **substitución hacia adelante**. Y una vez calculada, podemos proceder a resolver el segundo sistema empleando **substitución hacia atrás**.\n",
        "\n",
        "$$U\\vec{x}=\\vec{y}\\tag{3}$$\n",
        "\n",
        "Los algoritmos de substitución hacia atrás y hacia adelante son de los algoritmos más elementales para resolver un sistema de ecuaciones, sin embargo vale la pena notar algunas cosas.\n",
        "\n",
        "*   ¿Por que es buena idea emplear estos algoritmos en lugar de buscar la inversa de la matriz $A$?.\n",
        "*   En términos de elementales (+, -, *, /), ¿cuántas operaciones se realizan al emplear el algoritmo de sustitución hacia adelante?.\n",
        "*   En términos de operaciones (+, -, *, /), ¿cuántas operaciones se realizan al emplear el algoritmo de sustitución hacia atras?.\n",
        "*   En total, ¿cuántas operaciones se realizan cuando se resuelve un sistema $LU\\vec{x}=\\vec{b}$ empleando sustitución hacia adelante y despues hacia atrás?.\n",
        "\n",
        "\n",
        "\n"
      ]
    },
    {
      "cell_type": "markdown",
      "metadata": {
        "id": "oDop6nTliDFd"
      },
      "source": [
        "## Referencias\n",
        "\n",
        "\n",
        "* Butt, R. (2009). Introduction to Numerical Analysis Using MATLAB®. Jones & Bartlett Learning.\n",
        "* Cheney, W., & Kincaid, D. (2010). Métodos numéricos y computación (6a. Ed.). Cengage Learning Editores S.A. de C.V.\n",
        "* Solomon, J. (2015). Numerical Algorithms: Methods for Computer Vision, Machine Learning, and Graphics. CRC Press.\n",
        "* Kiusalaas, J. (2013). Numerical Methods in Engineering with Python 3. Cambridge University Press.\n",
        "* Burden, R. L., Faires, J. D., & C, S. M. (1985). Análisis numérico. Grupo Editorial Iberoamérica.\n",
        "* Skiba, Y. N. (2001). Introducción a los métodos numéricos. UNAM, Dirección General de Publicaciones y Fomento Editorial."
      ]
    }
  ]
}
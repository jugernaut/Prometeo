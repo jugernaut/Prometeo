{
  "nbformat": 4,
  "nbformat_minor": 0,
  "metadata": {
    "colab": {
      "name": "Determinantes.ipynb",
      "provenance": [],
      "toc_visible": true,
      "include_colab_link": true
    },
    "kernelspec": {
      "name": "python3",
      "display_name": "Python 3"
    }
  },
  "cells": [
    {
      "cell_type": "markdown",
      "metadata": {
        "id": "view-in-github",
        "colab_type": "text"
      },
      "source": [
        "<a href=\"https://colab.research.google.com/github/jugernaut/Prometeo/blob/master/02_AlgebraLineal/03_Determinantes/03_Determinantes.ipynb\" target=\"_parent\"><img src=\"https://colab.research.google.com/assets/colab-badge.svg\" alt=\"Open In Colab\"/></a>"
      ]
    },
    {
      "cell_type": "markdown",
      "metadata": {
        "id": "PXwwyE67obC2"
      },
      "source": [
        "# Determinantes \n",
        "### **Trabajo realizado con el apoyo del Programa UNAM-DGAPA-PAPIME PE101019**\n",
        "*   Autor: \n",
        "    - Ocampo Nava Maria Fernanda\n",
        "*   Rev: Mier Dic 02 17:15:32 CDT 2020\n",
        "\n",
        "Este sitio puede ser usado libremente, tanto por profesores como por estudiantes, que deseen complementar sus cursos y conocimientos en los temas antes mencionados. Los materiales están bajo una Licencia Creative Commons Atribución-NoComercial-CompartirIgual 4.0 Internacional\n",
        "\n",
        "<a rel=\"license\" href=\"http://creativecommons.org/licenses/by-nc-sa/4.0/\"><img alt=\"Licencia Creative Commons\" style=\"border-width:0\" src=\"https://i.creativecommons.org/l/by-nc-sa/4.0/88x31.png\" /></a><br />Esta obra está bajo una <a rel=\"license\" href=\"http://creativecommons.org/licenses/by-nc-sa/4.0/\">Licencia Creative Commons Atribución-NoComercial-CompartirIgual 4.0 Internacional</a>.\n"
      ]
    },
    {
      "cell_type": "markdown",
      "metadata": {
        "id": "DJdbTisuUk2_"
      },
      "source": [
        "### Problema inicial\n",
        "\n",
        "Calcular el área de un triángulo cuyos vértices son: $A(2, 0), B(3,4)$ y $C(-2,5)$\n",
        "\n"
      ]
    },
    {
      "cell_type": "markdown",
      "metadata": {
        "id": "sZwyyhLyUt7Z"
      },
      "source": [
        "##**Introducción**\n",
        "\n",
        "\n",
        "La función determinante de una matriz es una herramienta que nos permite clasificar los sistemas de ecuaciones lineales según sus soluciones.\n",
        "La definición de determinante no es sencilla, sin embargo existen reglas que ayudan a obtenerlo dependiendo la dimensión de la matriz, es importante saber que esto solo funciona con matrices cuadradas.\n",
        "\n",
        "\n"
      ]
    },
    {
      "cell_type": "markdown",
      "metadata": {
        "id": "ESmOUx7iVbeC"
      },
      "source": [
        "##**Definición de determinante**\n",
        "\n",
        "Sea $A \\in M_{n\\times n}$ sobre $\\mathbb{R}$ el determinante de $A$ se define como sigue.\n",
        "\n",
        "$$det(A)=\\begin{cases}\n",
        "a_{0,0}*a_{1,1}-a_{0,1}*a_{1,0} & n=2\\\\\n",
        "\\sum_{i=0}^{n-1}\\left(-1\\right)^{i}*a_{0,i}*det\\left(subMatriz_{0,i}\\left(A\\right)\\right) & n\\geq2\n",
        "\\end{cases}$$\n",
        "\n",
        "Donde la función $subMatriz_{0,i}\\left(A\\right)$ elimina el renglón cero y la columna $i$ de la matriz $A$.\n",
        "\n",
        "Algo que tambien es importante mencionar es que los determinantes son de gran utilidad por ejemplo para:"
      ]
    },
    {
      "cell_type": "markdown",
      "metadata": {
        "id": "3sKRLPsFwYOw"
      },
      "source": [
        "#### Ejemplo de 3x3\n",
        "\n",
        "$$A=\\left(\\begin{array}{ccc}\n",
        "4 & 3 & 1\\\\\n",
        "7 & 5 & -1\\\\\n",
        "4 & 9 & 5\n",
        "\\end{array}\\right)$$\n",
        "\n",
        "$det(A)=\\left(-1\\right)^{0}\\left(4\\right)\\left(det\\left(\\left(\\begin{array}{cc}\n",
        "5 & -1\\\\\n",
        "9 & 5\n",
        "\\end{array}\\right)\\right)\\right)\\left(-1\\right)^{1}\\left(3\\right)\\left(det\\left(\\left(\\begin{array}{cc}\n",
        "7 & -1\\\\\n",
        "4 & 5\n",
        "\\end{array}\\right)\\right)\\right)\\left(-1\\right)^{2}\\left(1\\right)\\left(det\\left(\\left(\\begin{array}{cc}\n",
        "7 & 5\\\\\n",
        "4 & 9\n",
        "\\end{array}\\right)\\right)\\right)=62$"
      ]
    },
    {
      "cell_type": "code",
      "metadata": {
        "id": "DXV46ECUwlWe",
        "colab": {
          "base_uri": "https://localhost:8080/"
        },
        "outputId": "2f91568a-7585-4009-f1b8-fb14dc68fa92"
      },
      "source": [
        "# se importan las paqueterias necesarias\n",
        "import numpy as np\n",
        "\n",
        "#Funcion auxiliar para eliminar un renglon y una columna\n",
        "def subMatriz(mat, ren, col):\n",
        "    copia = np.copy(mat)\n",
        "    copia = np.delete(copia, (ren), axis=0)\n",
        "    copia = np.delete(copia, (col), axis=1)\n",
        "    return copia\n",
        "\n",
        "# Determinante\n",
        "# devuelve el determinante de la matriz m1\n",
        "# se asume que m1 es cuadrada\n",
        "def det(m1):\n",
        "    if len(m1) == 2:\n",
        "      return m1[0][0]*m1[1][1]-(m1[0][1]*m1[1][0])\n",
        "    else:\n",
        "      determinante = 0.0\n",
        "      for i in range(len(m1[0])):\n",
        "        determinante += ((-1)**i)*(m1[0][i])*det(subMatriz(m1,0,i))\n",
        "    return determinante\n",
        "\n",
        "a = np.array([[4,3,1],[7,5,-1],[4,9,5]])\n",
        "#se muestran ambas matrices\n",
        "print(a)\n",
        "#se imprime la multiplicacion\n",
        "print(det(a))\n",
        "\n",
        "print(np.linalg.det(a))"
      ],
      "execution_count": null,
      "outputs": [
        {
          "output_type": "stream",
          "text": [
            "[[ 4  3  1]\n",
            " [ 7  5 -1]\n",
            " [ 4  9  5]]\n",
            "62.0\n",
            "62.00000000000001\n"
          ],
          "name": "stdout"
        }
      ]
    },
    {
      "cell_type": "markdown",
      "metadata": {
        "id": "11ii3jYDVC-8"
      },
      "source": [
        "\n",
        "## **Cálculo de áreas de figuras en el plano**\n",
        "\n",
        "El cálculo de áreas de polígonos en el plano, de los que se conocen o bien las coordenadas de los vértices o bien las de ciertos vectores, puede efectuarse mediante el cálculo de determinantes. \n",
        "\n"
      ]
    },
    {
      "cell_type": "markdown",
      "metadata": {
        "id": "mt_g-EdZVLCy"
      },
      "source": [
        "### **Obtención de la ecuación implícita de un plano**\n",
        "\n",
        "La obtención de la ecuación implícita de un plano, puede efectuarse mediante el desarrollo de un determinante nulo, cuyas entradas están en función de las coordenadas de tres puntos no alineados de dicho plano.\n",
        "\n",
        "\n",
        "Si tenemos una matriz de la siguiente forma:\n",
        "\n",
        "\n",
        "$$\\begin{equation} A_{1\\times 1} =\n",
        "\\begin{pmatrix}\n",
        " a_{11} \n",
        "\\end{pmatrix}\n",
        "\\end{equation}$$\n",
        "\n",
        "entonces $det(A)$= $ a_{11} $\n",
        "\n",
        "para una matriz de ${2 \\times 2}$, es decir:\n",
        "\n",
        "$$\\begin{equation} A_{2\\times 2} =\n",
        "\\begin{pmatrix}\n",
        "a_{11} & a_{12} \\\\\n",
        "a_{21} & a_{22} \n",
        "\\end{pmatrix}\n",
        "\\end{equation}$$\n",
        "\n",
        "entonces $det(A)$= $ a_{11} $ x $ a_{22} $ - $ a_{12} $ x $ a_{21} $"
      ]
    },
    {
      "cell_type": "markdown",
      "metadata": {
        "id": "u6UWbzAaodEw"
      },
      "source": [
        "El cálculo de los determinantes se vuelve mas complejo conforme la dimensión de la matriz aumenta.\n",
        "A continuación se muestra como obtener el determinante con numpy."
      ]
    },
    {
      "cell_type": "code",
      "metadata": {
        "id": "ULGrQZtf8p0_",
        "colab": {
          "base_uri": "https://localhost:8080/"
        },
        "outputId": "63a20b5d-962b-4777-bad1-4d134d3afacb"
      },
      "source": [
        "# Iportamos la libreria que  da soporte para crear vectores y matrices grandes multidimensionales, \n",
        "#Junto con una gran colección de funciones matemáticas de alto nivel para operar con ellas\n",
        "import numpy as np\n",
        "\n",
        "#Pedimos que nos de la leyenda que nos pida ingresar la matriz\n",
        "print(\"Ingrese la matriz a la que se le sacará el determinante\")\n",
        "\n",
        "#Pedimos que ingrese el número de filas y columnas que tiene la matriz\n",
        "print(\"Recuerde que debe ingresar una matriz cuadrada\")\n",
        "\n",
        "filas = int(input (\"Indique el número de filas: \"))\n",
        "\n",
        "#Creamos la matriz en las que se guardarán los valores que el usuario proporcione \n",
        "matriz1 = np.zeros((filas,filas))\n",
        "#Le pedimos que ingrese la matriz elemento por elemento y vamos llenando\n",
        "print ('Ingrese la matriz')\n",
        "for i in range(filas):\n",
        "\t\tfor j in range(filas):\n",
        "\t\t\tmatriz1[i][j] = np.array( float(input('Elemento (%d,%d): ' % (i, j))))\n",
        "\t \n",
        "print(\"su matriz es:\" )\n",
        "print(matriz1)\n",
        "\n",
        "#sacamos el determinante\n",
        "#Mediante la función linealg.det() de Numpy obtenemos el determinante\n",
        "print(\"El determinante de su matriz es:\",np.linalg.det(matriz1))"
      ],
      "execution_count": null,
      "outputs": [
        {
          "output_type": "stream",
          "text": [
            "Ingrese la matriz a la que se le sacará el determinante\n",
            "Recuerde que debe ingresar una matriz cuadrada\n",
            "Indique el número de filas: 2\n",
            "Ingrese la matriz\n",
            "Elemento (0,0): 2\n",
            "Elemento (0,1): 2\n",
            "Elemento (1,0): 2\n",
            "Elemento (1,1): 2\n",
            "su matriz es:\n",
            "[[2. 2.]\n",
            " [2. 2.]]\n",
            "El determinante de su matriz es: 0.0\n"
          ],
          "name": "stdout"
        }
      ]
    },
    {
      "cell_type": "markdown",
      "metadata": {
        "id": "xYIjLIRBVmk7"
      },
      "source": [
        "## **Propiedades de los determinantes**\n",
        "\n",
        "* El determinante de una matriz triangular es igual al producto de sus componentes en la diagonal.\n",
        "Es decir que sea $A$ una matriz como la que se muestra a continuacion:\n",
        "\n",
        "$$\\begin{equation} A_{n\\times n} =\n",
        "\\begin{pmatrix}\n",
        "a_{11} & 0 & \\cdots & 0\\\\\n",
        "a_{21} & a_{22} & \\cdots & 0\\\\\n",
        "\\vdots & \\vdots & \\ddots & \\vdots\\\\\n",
        "a_{n1} & a_{n2} & \\cdots & a_{nn}\n",
        "\\end{pmatrix}\n",
        "\\end{equation}$$\n",
        "\n",
        "Entonces $det(A)$= $a_{11}$*$a_{22}$*$a_{33}$*....*$a_{nn}$\n",
        "\n"
      ]
    },
    {
      "cell_type": "code",
      "metadata": {
        "id": "dWKrxIHwablP",
        "colab": {
          "base_uri": "https://localhost:8080/"
        },
        "outputId": "4f79e35b-cddc-427e-8e64-0cc7f8f7538c"
      },
      "source": [
        "#Matriz diagonal \n",
        "print(\"Matriz diagonal A de dimensión 3x3, :\")\n",
        "\n",
        "#Creamos la matriz mediante un arreglo \n",
        "A= np.array([[11,2,3],[0,1,4],[0,0,2]])\n",
        "#Imprimimos la matriz creada\n",
        "print(A)\n",
        "\n",
        "#sacamos el determinante mediante linalg de la paqueteria numpy\n",
        "print(\"El determinante de su matriz es:\", np.linalg.det(A))\n",
        "\n",
        "\n"
      ],
      "execution_count": null,
      "outputs": [
        {
          "output_type": "stream",
          "text": [
            "Matriz diagonal A de dimensión 3x3, :\n",
            "[[11  2  3]\n",
            " [ 0  1  4]\n",
            " [ 0  0  2]]\n",
            "El determinante de su matriz es: 22.000000000000004\n"
          ],
          "name": "stdout"
        }
      ]
    },
    {
      "cell_type": "markdown",
      "metadata": {
        "id": "o2mh1-BtdpMG"
      },
      "source": [
        "Si una matriz $B$ se obtiene intercambiando dos filas o intercambiando dos columnas de una matriz $A$ entonces:\n",
        "\n",
        " $det(B)$ = $−det(A)$"
      ]
    },
    {
      "cell_type": "code",
      "metadata": {
        "id": "KfO7F7aueROm",
        "colab": {
          "base_uri": "https://localhost:8080/"
        },
        "outputId": "4a910df6-d356-4319-b46e-6ea84fb584a1"
      },
      "source": [
        "print(\"Matriz A de dimensión 2x2, :\")\n",
        "\n",
        "A= np.array([[11,2,3],[0,1,4],[6,4,2]])\n",
        "print(A)\n",
        "\n",
        "#Sacamos el determinante de A\n",
        "print(\"El determinante de su matriz A es:\", np.linalg.det(A))\n",
        "\n",
        "print(\"Matriz B de dimensión 2x2, :\")\n",
        "B= np.array([[2,11,3],[1,0,4],[4,6,2]])\n",
        "print(B)\n",
        "\n",
        "#sacamos el determinante de B\n",
        "print(\"El determinante de su matriz B es:\", np.linalg.det(B))\n",
        "\n"
      ],
      "execution_count": null,
      "outputs": [
        {
          "output_type": "stream",
          "text": [
            "Matriz A de dimensión 2x2, :\n",
            "[[11  2  3]\n",
            " [ 0  1  4]\n",
            " [ 6  4  2]]\n",
            "El determinante de su matriz A es: -124.00000000000003\n",
            "Matriz B de dimensión 2x2, :\n",
            "[[ 2 11  3]\n",
            " [ 1  0  4]\n",
            " [ 4  6  2]]\n",
            "El determinante de su matriz B es: 123.99999999999991\n"
          ],
          "name": "stdout"
        }
      ]
    },
    {
      "cell_type": "markdown",
      "metadata": {
        "id": "E2Uyf0gYoIK7"
      },
      "source": [
        "Si $A$ y $B$ son matrices diagonales de ${n \\times n}$, entonces $det AB$=$det A$ $det B$. \n",
        "\n",
        "Si $A$ y $B$ son matrices triangulares inferiores, entonces $AB$=$det A$ $det B$. "
      ]
    },
    {
      "cell_type": "code",
      "metadata": {
        "id": "3y4O6h_-o2bH",
        "colab": {
          "base_uri": "https://localhost:8080/",
          "height": 476
        },
        "outputId": "df7da644-fd0b-46dc-c4af-6167fff6387d"
      },
      "source": [
        "#Solicitamos al usuario las matrices \n",
        "print(\"recuerde que deben ser matrices cuadradas y diagonales\")\n",
        "filas1 = int(input (\"Indique el número de filas y columnas de la matriz: \"))\n",
        "\n",
        "\n",
        "#creamos las matrices en las que se guardarán los valores que el usuario proporcione y los de la suma\n",
        "A = np.zeros((filas1,filas1))    \n",
        "B = np.zeros((filas1,filas1))   \n",
        " #llenamos la matriz 1 con los datos del usuario\n",
        "print (\"Ingrese la primer matriz\")\n",
        "\n",
        "for i in range(filas1):\n",
        "        for j in range(filas1):\n",
        "            A[i][j] = float(input('Elemento (%d,%d): ' % (i, j)))\n",
        "print( \"su matriz 1 es:\")\n",
        "print(A)\n",
        "#llenamos la matriz 2\n",
        "print (\"Ingrese la segunda matriz\")\n",
        "for i in range(filas1):\n",
        "        for j in range(filas1):\n",
        "            B[i][j] = float(input('Elemento (%d,%d): ' % (i, j)))\n",
        "print( \"su matriz 2 es:\")\n",
        "print(B)\n",
        "\n",
        "#Recordamos que la función dot() nos devuelve un producto matricial\n",
        "C = A.dot(B)\n",
        "print(\"El producto de las matrices es:\",C)\n",
        "\n",
        "print(\"El determinante de su matriz A es:\", np.linalg.det(A))\n",
        "\n",
        "print(\"El determinante de su matriz B es:\", np.linalg.det(B))\n",
        "\n",
        "print(\"El determinante de su matriz A*B es:\", np.linalg.det(C))\n"
      ],
      "execution_count": null,
      "outputs": [
        {
          "output_type": "stream",
          "text": [
            "recuerde que deben ser matrices cuadradas y diagonales\n",
            "Indique el número de filas y columnas de la matriz: 2\n",
            "Ingrese la primer matriz\n",
            "Elemento (0,0): 2\n",
            "Elemento (0,1): 3\n",
            "Elemento (1,0): 0\n",
            "Elemento (1,1): 3\n",
            "su matriz 1 es:\n",
            "[[2. 3.]\n",
            " [0. 3.]]\n",
            "Ingrese la segunda matriz\n",
            "Elemento (0,0): 3\n",
            "Elemento (0,1): 4\n",
            "Elemento (1,0): 0\n",
            "Elemento (1,1): 3\n",
            "su matriz 2 es:\n",
            "[[3. 4.]\n",
            " [0. 3.]]\n",
            "El producto de las matrices es:\n",
            "[[ 6. 17.]\n",
            " [ 0.  9.]]\n",
            "El determinante de su matriz A es:\n",
            "6.0\n",
            "El determinante de su matriz B es:\n",
            "9.000000000000002\n",
            "El determinante de su matriz A*B es:\n",
            "54.00000000000001\n"
          ],
          "name": "stdout"
        }
      ]
    },
    {
      "cell_type": "markdown",
      "metadata": {
        "id": "SmK11jwsqwGI"
      },
      "source": [
        "No se cumple en general que el $det (A + B)$=$det A + det B$"
      ]
    },
    {
      "cell_type": "code",
      "metadata": {
        "id": "6F1tMr4BrdHc",
        "colab": {
          "base_uri": "https://localhost:8080/"
        },
        "outputId": "267fdf84-ccc4-4e0d-b602-c3c76bf61a43"
      },
      "source": [
        "A= np.array([[11,2],[0,1]])\n",
        "print(A)\n",
        "\n",
        "#sacamos el determinante\n",
        "print(\"El determinante de su matriz es:\", np.linalg.det(A))\n",
        "\n",
        "S= np.array([[23,12],[11,3]])\n",
        "print(S)\n",
        "\n",
        "#sacamos el determinante\n",
        "print(\"El determinante de su matriz es:\", np.linalg.det(S))\n",
        "\n",
        "\n",
        "print(\"La suma de las matrices es:\")\n",
        "T=A+S\n",
        "\n",
        "print(\"El determinante de su matriz suma es:\", np.linalg.det(T))\n"
      ],
      "execution_count": null,
      "outputs": [
        {
          "output_type": "stream",
          "text": [
            "[[11  2]\n",
            " [ 0  1]]\n",
            "El determinante de su matriz es: 11.000000000000002\n",
            "[[23 12]\n",
            " [11  3]]\n",
            "El determinante de su matriz es: -62.99999999999999\n",
            "La suma de las matrices es:\n",
            "El determinante de su matriz suma es: -17.999999999999996\n"
          ],
          "name": "stdout"
        }
      ]
    },
    {
      "cell_type": "markdown",
      "metadata": {
        "id": "6R1EMSFKtpoU"
      },
      "source": [
        "Si dos filas (columnas) de $A$ son iguales, entonces $det(A) = 0$"
      ]
    },
    {
      "cell_type": "code",
      "metadata": {
        "id": "mtUNg_3UuCf6",
        "colab": {
          "base_uri": "https://localhost:8080/"
        },
        "outputId": "f1ed4a92-3aa1-4172-e08b-31c1a00ec360"
      },
      "source": [
        "S= np.array([[23,12],[23,12]])\n",
        "print(S)\n",
        "\n",
        "#Sacamos el determinante\n",
        "print(\"El determinante de su matriz es:\", np.linalg.det(S))\n"
      ],
      "execution_count": null,
      "outputs": [
        {
          "output_type": "stream",
          "text": [
            "[[23 12]\n",
            " [23 12]]\n",
            "El determinante de su matriz es: 0.0\n"
          ],
          "name": "stdout"
        }
      ]
    },
    {
      "cell_type": "markdown",
      "metadata": {
        "id": "i9e4iz6luYaf"
      },
      "source": [
        "El determinante de una matriz con un escalar es el escalar por el determinante de la matriz, es decir:\n",
        "\n",
        "Si $C$= $\\tau$*$A_{n\\times n}$ ,  \n",
        "entonces $det(C)$= $\\tau$ * det($A_{n\\times n}$)\n",
        "\n",
        "Estas son solo algunas de las propiedades que los determinantes poseen.\n",
        "\n",
        "\n",
        "\n",
        "## **Cálculo de determinantes por el método de desarrollo por menores**\n",
        "\n",
        "Para el cálculo de determinantes por este método se toma como referencia una fila o una columna y se va eliminando sus elementos (de acuerdo a su posición) y formando los determinantes de un orden inferior a la matriz original; el cual queda multiplicado por este elemento y su signo de posición. Es decir cada elemento de la fila o la columna seleccionada se multiplica por su determinante menor y el signo de posición. \n",
        "\n",
        "Los signos de posición se obtienen siempre comenzando con positivo y alternando luego. \n",
        "\n",
        "Por ejemplo para una matriz ${3 \\times 3}$ los signos serían :\n",
        "\n",
        "\n",
        "$$\\begin{equation} A_{3\\times 3} = \n",
        "\\begin{pmatrix}\n",
        "+ & - & +  \\\\\n",
        "- & + & - \\\\\n",
        "+ & - & +\n",
        "\\end{pmatrix}\n",
        "\\end{equation}$$\n",
        "\n",
        "Para una matriz de ${4\\times 4}$ se tiene:\n",
        "\n",
        "$$\\begin{equation} A_{4\\times 4} = \n",
        "\\begin{pmatrix}\n",
        "+ & - & + & - \\\\\n",
        "- & + & - & + \\\\\n",
        "+ & - & + & - \\\\\n",
        "- & + & - & + \n",
        "\\end{pmatrix}\n",
        "\\end{equation}$$\n",
        "\n",
        "Para una matriz de ${5\\times 5}$ se tiene:\n",
        "\n",
        "$$\\begin{equation} A_{5\\times 5} = \n",
        "\\begin{pmatrix}\n",
        "+ & - & + & - & +\\\\\n",
        "- & + & - & + & - \\\\\n",
        "+ & - & + & - & + \\\\\n",
        "- & + & - & + & - \\\\\n",
        "+ & - & + & - & +\n",
        "\\end{pmatrix}\n",
        "\\end{equation}$$\n",
        "\n",
        "y asi sucesivamente se lleva a cabo el procedimiento antes descrito, por ejemplo calcularemos el determinante de una matriz de ${3\\times 3}$.\n",
        "\n",
        "$$\\begin{equation} A_{3\\times 3} = \n",
        "\\begin{pmatrix}\n",
        "a_{11} & a_{12} & a_{13} \\\\\n",
        "a_{21}& a_{22} & a_{23}\\\\\n",
        "a_{31}& a_{32}& a_{33}\n",
        "\\end{pmatrix}\n",
        "\\end{equation}$$\n",
        "\n",
        "Entonces como primer paso tomamos el primer elemento y lo multiplicamos por el determinante de la matriz que se obtiene al eliminar la primera fila y la primer columna, es decir:\n",
        "\n",
        "- primer elemento del determinante :\n",
        "\n",
        "$$\\begin{equation}\n",
        "a_{11}*\\begin{vmatrix}\n",
        "a_{22} & a_{23}\\\\\n",
        "a_{32} & a_{33}\n",
        "\\end{vmatrix}= + a_{11}*[(a_{22}*a_{33})-(a_{23}*a_{32})]=a\n",
        "\\end{equation}$$\n",
        "\n",
        "- segundo elemento del determinante :\n",
        "para este se toma el segundo elemento de la matriz y se multiplica por el determinante de la matriz que resta al quitar el primer renglón y la segunda columna.\n",
        "\n",
        "\n",
        "$$\\begin{equation}\n",
        "-a_{12}*\\begin{vmatrix}\n",
        "a_{21} & a_{23}\\\\\n",
        "a_{31} & a_{33}\n",
        "\\end{vmatrix}= - a_{12}*[(a_{21}*a_{33})-(a_{23}*a_{31})]=b\n",
        "\\end{equation}$$\n",
        "\n",
        "- tercer elemento del determinante :\n",
        "para este se toma el tercer elemento de la matriz y se multiplica por el determinante de la matriz que resta al quitar el primer renglón y la tercer columna.\n",
        "\n",
        "$$\\begin{equation}\n",
        "+a_{13}*\\begin{vmatrix}\n",
        "a_{21} & a_{22}\\\\\n",
        "a_{31} & a_{32}\n",
        "\\end{vmatrix}= a_{13}*[(a_{21}*a_{32})-(a_{22}*a_{31})]=c\n",
        "\\end{equation}$$\n",
        "\n",
        "\n",
        "Todo lo anterior tomando en cuenta los signos de los elementos según la posición del elemento y el signo qe le corresponde por lo que se explico al inicio del método. \n",
        "Por último se obtiene que:\n",
        "\n",
        "\n",
        "$$\\begin{equation} det(A) = \n",
        "\\begin{pmatrix}\n",
        "a_{11} & a_{12} & a_{13} \\\\\n",
        "a_{21}& a_{22} & a_{23}\\\\\n",
        "a_{31}& a_{32}& a_{33}\n",
        "\\end{pmatrix} = \\pm a \\pm b \\pm c\n",
        "\\end{equation}$$\n",
        "\n",
        "De manera similar se hace lo anterior con matrices de orden mayor hasta que se logre disminuir a un orden en el que sea mas fácil calcular el determinante."
      ]
    },
    {
      "cell_type": "markdown",
      "metadata": {
        "id": "LCs2APyMyoQu"
      },
      "source": [
        "\n",
        "## **Referencias**\n",
        "\n",
        "•\tKolman, B., & Hill, D. R. (2006). Algebra lineal. Pearson Educación.\n",
        "\n",
        "•\tGrossman, S., & Flores Godoy, J. J. (2012). Álgebra Lineal (Séptima edición). McGraw Hill.\n",
        "\n"
      ]
    },
    {
      "cell_type": "markdown",
      "metadata": {
        "id": "kdZMNtfqAiBU"
      },
      "source": [
        "#Evalúa tu conocimiento\n",
        "\n",
        "Si deseas contestar un breve cuestionario en el que podras evaluar un poco del conocimiento aquirido en este notebook da clic en el siguiente enlace:\n",
        "\n",
        "https://docs.google.com/forms/d/e/1FAIpQLSfXsDgqZKXN_GoqHSn-Yqc2STIWFf5vn6VC3pNnmBeiyp2NCA/viewform?usp=sf_link"
      ]
    }
  ]
}

{
  "nbformat": 4,
  "nbformat_minor": 0,
  "metadata": {
    "colab": {
      "name": "Medición de interés.ipynb",
      "provenance": [],
      "collapsed_sections": [],
      "toc_visible": true,
      "include_colab_link": true
    },
    "kernelspec": {
      "name": "python3",
      "display_name": "Python 3"
    },
    "language_info": {
      "name": "python"
    }
  },
  "cells": [
    {
      "cell_type": "markdown",
      "metadata": {
        "id": "view-in-github",
        "colab_type": "text"
      },
      "source": [
        "<a href=\"https://colab.research.google.com/github/jugernaut/Prometeo/blob/desarrollo/05_Finanzas/01_Inter%C3%A9s/Medici%C3%B3n_de_inter%C3%A9s.ipynb\" target=\"_parent\"><img src=\"https://colab.research.google.com/assets/colab-badge.svg\" alt=\"Open In Colab\"/></a>"
      ]
    },
    {
      "cell_type": "markdown",
      "metadata": {
        "id": "2mZO6mUlkiMj"
      },
      "source": [
        "\n",
        "# Medición del interés\n",
        "### Trabajo realizado con el apoyo del Programa UNAM-DGAPA-PAPIME \n",
        "\n",
        "*   Autor: \n",
        "    - Ocampo Nava Maria Fernanda \n",
        "\n",
        "*   Rev: viernes 21 de Mayo 2021 "
      ]
    },
    {
      "cell_type": "code",
      "metadata": {
        "colab": {
          "base_uri": "https://localhost:8080/"
        },
        "id": "IW0bcR9BH6eK",
        "outputId": "e00a55f5-fe88-42f3-c380-24e094a30da6"
      },
      "source": [
        "!git clone https://github.com/jugernaut/Prometeo.git\n",
        "import os\n",
        "import Prometeo.Utils.gutils as vis\n",
        "import math\n",
        "import matplotlib.pyplot as plt\n",
        "import matplotlib.patches as pc\n",
        "%matplotlib inline"
      ],
      "execution_count": null,
      "outputs": [
        {
          "output_type": "stream",
          "text": [
            "Cloning into 'Prometeo'...\n",
            "remote: Enumerating objects: 2551, done.\u001b[K\n",
            "remote: Counting objects: 100% (486/486), done.\u001b[K\n",
            "remote: Compressing objects: 100% (465/465), done.\u001b[K\n",
            "remote: Total 2551 (delta 235), reused 0 (delta 0), pack-reused 2065\u001b[K\n",
            "Receiving objects: 100% (2551/2551), 22.77 MiB | 18.58 MiB/s, done.\n",
            "Resolving deltas: 100% (1560/1560), done.\n"
          ],
          "name": "stdout"
        }
      ]
    },
    {
      "cell_type": "markdown",
      "metadata": {
        "id": "ttr_lxv1SFii"
      },
      "source": [
        "Cuando usamos un bien ajeno, es necesario pagar una cantidad de\n",
        "dinero por ese uso, si se trata de bienes comunes, a ese pago se le denomina alquiler o renta pero en el ámbito financiero, al alquiler pagado por utilizar el dinero ajeno (o que cobramos al prestarlo) se conoce como interés o intereses. "
      ]
    },
    {
      "cell_type": "markdown",
      "metadata": {
        "id": "mUF_8mopSnFz"
      },
      "source": [
        "## **Introducción**\n",
        "\n",
        "Imaginemos que vivimos en un juego en el que solo manejamos dinero en efectivo es decir, no existen las tarjetas de crédito ni el inetrcambio de bienes, solo el dinero en efectivo, como nos gusta ahorrar pues guardamos nuestros ahorros bajo el colchón sin embargo corremos el riesgo de que alguien lo encuentre y lo robe o qiza mojarlo y que todo se destruya.\n",
        "Entonces de la necesidad de proteger nuestro dinero nos surge la idea de confiarlo a alguien más que lo necesite pero como queremos tener una remuneración por el tiempo que no lo tendremos y no lo podemos usar pedimos  una aportación extra a la persona que se lo presatamos por haberlo usado, asi suena mas interesante el juego ¿no?"
      ]
    },
    {
      "cell_type": "markdown",
      "metadata": {
        "id": "kx0_UvUb2LEO"
      },
      "source": [
        "##Definición de Matemáticas financieras\n",
        "Las matemáticas financieras  son una ciencia que derivan de las matemáticas y estudian el valor del dinero a través del tiempo, para poder llevar a cabo esté estudio se combinan varios conceptos como lo son la tasa de interés, el capital. el tiempo, monto, todos los conceptos anteriores en combinación permiten obtener el valor futuro del dinero y con esto poder tomar decisiones con respecto a una posible inversión.\n",
        "\n",
        "El pricipio básico de "
      ]
    },
    {
      "cell_type": "markdown",
      "metadata": {
        "id": "PJVjLt2NIoV7"
      },
      "source": [
        "##Conceptos Usados"
      ]
    },
    {
      "cell_type": "markdown",
      "metadata": {
        "id": "jaar3aGvI3X-"
      },
      "source": [
        "###Intereses\n",
        "Los intereses son el dinero que se pagará por el uso del dinero ajeno, cuando se trata de crédito la persona que pide el dinero le paga a la que se lo presta y cuando se trata de inversión es el dinero que pagan a la persona que invierte su dinero.  \n",
        "\n"
      ]
    },
    {
      "cell_type": "markdown",
      "metadata": {
        "id": "-j7mLh8qI7Wx"
      },
      "source": [
        "###Tasa de interés\n",
        "Tasa que indica el costo de tener dinero en préstamo o rendimiento por un determinado tiempo, generalmente se manejan periodos de tiempo anual, mensual, semestral, entre otros.\n",
        "Usualmente la notación usada para esta es $i$.\n",
        "\n",
        "Cuando no se especifica la unidad de tiempo se da por hecho que es anual.\n",
        "\n"
      ]
    },
    {
      "cell_type": "markdown",
      "metadata": {
        "id": "jUep0XCyI9xe"
      },
      "source": [
        "###Capital\n",
        "El capital es una cantidad de dinero inicial que se tiene al momento en que se va a invertir o prestar es decir, es el valor actual o valor del dinero en ese momento.\n",
        "\n",
        "Generalemente se denota por $C$."
      ]
    },
    {
      "cell_type": "markdown",
      "metadata": {
        "id": "axH_zeHNJA-5"
      },
      "source": [
        "###Monto \n",
        "Monto es el valor del dinero en el futuro es decir, es el capital más los intereses ganados, también se le puede llamar valor acumulado.\n",
        "\n",
        "Usualmente se denota por $M$.\n"
      ]
    },
    {
      "cell_type": "markdown",
      "metadata": {
        "id": "9hzaqRW0PFQl"
      },
      "source": [
        "###Tiempo\n",
        "\n",
        "Lapso de tiempo en que se realiza la inversión o el prestamos, generalmente se denota por $t$."
      ]
    },
    {
      "cell_type": "markdown",
      "metadata": {
        "id": "ZzLSQJbIJCT8"
      },
      "source": [
        "\n",
        "### Frecuencia de capitalización\n",
        "Número de veces que se capitalizan los interes en el año.\n",
        "Por ejemplo cuando se dice que es capitalizable dos veces al año en realidad hablamos de una tasa semestral."
      ]
    },
    {
      "cell_type": "markdown",
      "metadata": {
        "id": "vKN2tZfGRRKl"
      },
      "source": [
        "##Función de acumulación"
      ]
    },
    {
      "cell_type": "markdown",
      "metadata": {
        "id": "4pIHYXVLRWo3"
      },
      "source": [
        "Relaciona el capital y el tiempo, se denota por $a(t)$.\n",
        "\n",
        "Si consideramos que $C=1$, entonces $a(t)$ cumple:\n",
        "* $a(0)=1$\n",
        "* es creciente si $i > 0$\n",
        "* es constante si $i = 0$\n",
        "* es decreciente si $ i < 0$\n",
        "\n",
        "Cabe destacar que es una función continua por intervalos pero se puede dar el caso que sea continua si los interese se generan todo el tiempo."
      ]
    },
    {
      "cell_type": "markdown",
      "metadata": {
        "id": "cV5ZVFUoXr8A"
      },
      "source": [
        "##Función de monto"
      ]
    },
    {
      "cell_type": "markdown",
      "metadata": {
        "id": "LJRnCCaLXw8Q"
      },
      "source": [
        "Relaciona la función de acumulación cuando tenemos el capital distinto de cero.\n",
        "\n",
        "La función de monto se define como :\n",
        "\n",
        "$$ \\begin{equation}\n",
        "A(t)=C(a(t))\n",
        "\\end{equation}$$\n",
        "\n",
        "En donde \n",
        "$C:$ Capital invertido \n",
        "\n"
      ]
    },
    {
      "cell_type": "markdown",
      "metadata": {
        "id": "5bM2xVBsYbRD"
      },
      "source": [
        "##Función de interés"
      ]
    },
    {
      "cell_type": "markdown",
      "metadata": {
        "id": "JYKwzMrbYlM7"
      },
      "source": [
        "La cantidad de interés obtenida durante el n-ésimo periodo se obtiene como:\n",
        "\n",
        "\n",
        "$$ \\begin{equation}\n",
        "ln= A(n)-A(n-1)\n",
        "\\end{equation}$$"
      ]
    },
    {
      "cell_type": "markdown",
      "metadata": {
        "id": "aRTP80PQbB72"
      },
      "source": [
        "##Tasa efectiva de interés"
      ]
    },
    {
      "cell_type": "markdown",
      "metadata": {
        "id": "PJK9Ho_ObG1c"
      },
      "source": [
        "Se define como :\n",
        "\n",
        "$$ \\begin{equation}\n",
        "i_{n}=\\frac{A(n)-A(n-1)}{A(n-1)}=\\frac{I_{n}}{A(n-1)}\n",
        "\\end{equation}$$\n",
        "\n",
        "Mide la ganancia por periodo en términos porcentuales."
      ]
    },
    {
      "cell_type": "markdown",
      "metadata": {
        "id": "BvE4EDXn9VHE"
      },
      "source": [
        "##Interés Simple\n",
        "\n"
      ]
    },
    {
      "cell_type": "markdown",
      "metadata": {
        "id": "RcBVoRQfOSkv"
      },
      "source": [
        "El modelo de interés simple es aquel en el que se tiene un capital inicial permanente es decir que no cambia con el tiempo y los intereses son calculados de manera lineal y se retiran cada periodo de tiempo, por lo que a una tasa fija el interes que se obtiene en cada periodo de tiempo constante va a ser el mismo.\n",
        "\n",
        "El patrón de acumulación del interés simple se define por:\n",
        "\n",
        "$$\\begin{equation}\n",
        "a(t)=1+it\n",
        "\\end{equation}$$\n",
        "\n",
        "Por lo visto anteriormente tendremos que:\n",
        "\n",
        "$$\\begin{equation}\n",
        "A(t)=C*(1+it)\n",
        "\\end{equation}$$\n",
        "\n",
        "Que es creciente.\n",
        "\n",
        "\n"
      ]
    },
    {
      "cell_type": "code",
      "metadata": {
        "colab": {
          "base_uri": "https://localhost:8080/",
          "height": 369
        },
        "id": "fwUrmKF5ouGh",
        "outputId": "e353d7f1-3864-4d4d-fee3-931e6f0f4215"
      },
      "source": [
        "# lista que contiene el número de periodos en orden ascendente\n",
        "periodos  = [ 1, 2, 3, 4, 5, 6, 7, 8, 9,10] \n",
        "# lista que contiene el valor de la función de de acumulación del interés simple\n",
        "# conforme al periodo\n",
        "a = [ 1.1, 1.2, 1.3,1.4,1.5,1.6,1.7,1.8,1.9,2]\n",
        "\n",
        "# parámetros que contendrá la próxima gráfica que vamos a crear y mostrar: \n",
        "# el título, la etiqueta del eje x y la etiqueta del eje y\n",
        "par = [{'title':'Patrón de acumulación del interés simple con tasa del 10% ', \n",
        "        'xlabel':'Periodos (t)',\n",
        "        'ylabel':'a(t)'}]\n",
        "\n",
        "# instanciamos una figura que básicamente es el plano cartesiano\n",
        "graf = vis.planoCartesiano(par=par)\n",
        "# graficamos la función\n",
        "graf.plot(x=periodos, y=a)\n",
        "# las etiquetas del eje x van a ser los número de cada semana\n",
        "graf.ticks(xticks = periodos)\n",
        "# mostramos la figura que contiene la gráfica\n",
        "graf.show()\n",
        "\n"
      ],
      "execution_count": null,
      "outputs": [
        {
          "output_type": "display_data",
          "data": {
            "image/png": "[encoded data removed]",
            "text/plain": [
              "<Figure size 720x360 with 1 Axes>"
            ]
          },
          "metadata": {
            "tags": [],
            "needs_background": "light"
          }
        }
      ]
    },
    {
      "cell_type": "code",
      "metadata": {
        "id": "3nRyDmmpj6Ch"
      },
      "source": [
        "#con está función obtendremos la función de monto usando el patron de acumulación de interés simple\n",
        "#definimos la función y los parámetros que se necesitan\n",
        "def sim(i,c,t):\n",
        "  #pedimos que nos imprima el valor del monto de acuerdo a los parámetros que proporcionamos\n",
        "  return c*(1+i*t)\n",
        "  "
      ],
      "execution_count": null,
      "outputs": []
    },
    {
      "cell_type": "code",
      "metadata": {
        "colab": {
          "base_uri": "https://localhost:8080/"
        },
        "id": "19RHkZb3GA5t",
        "outputId": "e8842b77-7357-4f67-e20b-34a4ccbb0783"
      },
      "source": [
        "#Aquí podemos obtener montos con el método de interés simple \n",
        "#debemos de proporcionar los datos adecuados, tomando en cuenta que los peridoso coincidan con \n",
        "#la periodicidad de la tasa.\n",
        "\n",
        "sim(.10,1,10)"
      ],
      "execution_count": null,
      "outputs": [
        {
          "output_type": "execute_result",
          "data": {
            "text/plain": [
              "2.0"
            ]
          },
          "metadata": {
            "tags": []
          },
          "execution_count": 29
        }
      ]
    },
    {
      "cell_type": "markdown",
      "metadata": {
        "id": "ok_ypPL-HaBL"
      },
      "source": [
        "##Interés Compuesto"
      ]
    },
    {
      "cell_type": "markdown",
      "metadata": {
        "id": "2brzjPNKHn-i"
      },
      "source": [
        "El interés compuesto es cuando al vencimiento de una inversión a plazo fijo, no se retiran los intereses por lo que se presenta un incremento sobre el incremento ya obtenido es decir, se tiene interés sobre interés.\n",
        "Generalmente este es el metódo que utilizan las instituciones en los créditos.\n",
        "En este caso el periodo de capitalización es el\n",
        "tiempo que hay entre dos fechas sucesivas en las que\n",
        "los intereses son agregados al capital y la frecuencia de\n",
        "capitalización es el número de veces por año en los que\n",
        "los intereses se capitalizan. \n",
        "\n",
        "El interés compuesto está determinado por:\n",
        "\n",
        "$$\\begin{equation}\n",
        "a(t)=(1+i)^t\n",
        "\\end{equation}$$\n",
        "\n",
        "Es creciente cuando $i>0$\n",
        "Si tomamos los datos de la grafica anterior es decir, 10 periodos de tiempo, $i=10%$ y $C=1$ pero cambiamos a interés compuesto enconces obtendremos la siguiente gráfica.\n"
      ]
    },
    {
      "cell_type": "code",
      "metadata": {
        "colab": {
          "base_uri": "https://localhost:8080/",
          "height": 369
        },
        "id": "OqgXG6C_Kc9T",
        "outputId": "719f64b2-87fe-4414-f726-d886686d662b"
      },
      "source": [
        "# lista que contiene el número de periodos en orden ascendente\n",
        "periodos  = [ 1, 2, 3, 4, 5, 6, 7, 8, 9,10] \n",
        "# lista que contiene el valor de la función de de acumulación del interés simple\n",
        "# conforme al periodo\n",
        "ac = [ 1.1, 1.21, 1.331,1.4641,1.6105,1.771561,1.948717,2.14358881,2.357947691,2.5937424601]\n",
        "\n",
        "# parámetros que contendrá la próxima gráfica que vamos a crear y mostrar: \n",
        "# el título, la etiqueta del eje x y la etiqueta del eje y\n",
        "par = [{'title':'Patrón de acumulación del interés compuesto con tasa del 10% ', \n",
        "        'xlabel':'Periodos (t)',\n",
        "        'ylabel':'a(t)'}]\n",
        "\n",
        "# instanciamos una figura que básicamente es el plano cartesiano\n",
        "graf = vis.planoCartesiano(par=par)\n",
        "# graficamos la función\n",
        "graf.plot(x=periodos, y=ac, par={'color':'purple', 'zorder':5})\n",
        "# las etiquetas del eje x van a ser los número de cada semana\n",
        "graf.ticks(xticks = periodos)\n",
        "# mostramos la figura que contiene la gráfica\n",
        "graf.show()"
      ],
      "execution_count": null,
      "outputs": [
        {
          "output_type": "display_data",
          "data": {
            "image/png": "[encoded data removed]",
            "text/plain": [
              "<Figure size 720x360 with 1 Axes>"
            ]
          },
          "metadata": {
            "tags": [],
            "needs_background": "light"
          }
        }
      ]
    },
    {
      "cell_type": "code",
      "metadata": {
        "id": "ZHrBNtuOT8_G"
      },
      "source": [
        "#con está función obtendremos la función de monto usando el patron de acumulación de interés compuesto\n",
        "#definimos la función y los parámetros que se necesitan\n",
        "def comp(i,c,t):\n",
        "  #pedimos que nos imprima el valor del monto de acuerdo a los parámetros que proporcionamos\n",
        "  return c*((1+i)**t)\n",
        "  "
      ],
      "execution_count": null,
      "outputs": []
    },
    {
      "cell_type": "code",
      "metadata": {
        "colab": {
          "base_uri": "https://localhost:8080/"
        },
        "id": "hdYpaXrWUHXc",
        "outputId": "bd960e39-028a-4c32-be9e-a07cf1f7427c"
      },
      "source": [
        "#Aquí podemos obtener montos con el método de interés simple \n",
        "#debemos de proporcionar los datos adecuados, tomando en cuenta que los peridoso coincidan con \n",
        "#la periodicidad de la tasa.\n",
        "comp(.10,1,10)"
      ],
      "execution_count": null,
      "outputs": [
        {
          "output_type": "execute_result",
          "data": {
            "text/plain": [
              "2.5937424601000023"
            ]
          },
          "metadata": {
            "tags": []
          },
          "execution_count": 60
        }
      ]
    },
    {
      "cell_type": "markdown",
      "metadata": {
        "id": "qDffdV1IVUj_"
      },
      "source": [
        "En la gráfica anterior y en los calculos se  puede observar la notable diferencia entre el interés compuesto y el interés simple que era la finalidad de este material.\n",
        "\n",
        "En la siguiente gráfica se nota la diferencia entre ambos tipos de acumulación teniendo los mismos datos."
      ]
    },
    {
      "cell_type": "code",
      "metadata": {
        "colab": {
          "base_uri": "https://localhost:8080/",
          "height": 369
        },
        "id": "PhuZRoBnMIdy",
        "outputId": "8455ae27-ec03-4d10-b17c-035af3f2876c"
      },
      "source": [
        "# lista que contiene el número de periodos en orden ascendente\n",
        "periodos  = [ 1, 2, 3, 4, 5, 6, 7, 8, 9,10] \n",
        "# lista que contiene el valor de la función de de acumulación del interés simple\n",
        "# conforme al periodo\n",
        "a = [ 1.1, 1.2, 1.3,1.4,1.5,1.6,1.7,1.8,1.9,2]\n",
        "ac = [ 1.1, 1.21, 1.331,1.4641,1.6105,1.771561,1.948717,2.14358881,2.357947691,2.5937424601]\n",
        "\n",
        "# parámetros que contendrá la próxima gráfica que vamos a crear y mostrar: \n",
        "# el título, la etiqueta del eje x y la etiqueta del eje y\n",
        "par = [{'title':'Patrón de acumulación del interés simple vs interés compuesto con tasa del 10% ', \n",
        "        'xlabel':'Periodos (t)',\n",
        "        'ylabel':'a(t)'}]\n",
        "\n",
        "# instanciamos una figura que básicamente es el plano cartesiano\n",
        "graf = vis.planoCartesiano(par=par)\n",
        "# graficamos la función\n",
        "graf.plot(x=periodos, y=a)\n",
        "graf.plot(x=periodos, y=ac, par={'color':'purple', 'zorder':5})\n",
        "# las etiquetas del eje x van a ser los número de cada semana\n",
        "graf.ticks(xticks = periodos)\n",
        "# mostramos la figura que contiene la gráfica\n",
        "graf.show()"
      ],
      "execution_count": null,
      "outputs": [
        {
          "output_type": "display_data",
          "data": {
            "image/png": "[encoded data removed]",
            "text/plain": [
              "<Figure size 720x360 with 1 Axes>"
            ]
          },
          "metadata": {
            "tags": [],
            "needs_background": "light"
          }
        }
      ]
    },
    {
      "cell_type": "markdown",
      "metadata": {
        "id": "9x3erOJ_cpS1"
      },
      "source": [
        "##Aplicaciones"
      ]
    },
    {
      "cell_type": "markdown",
      "metadata": {
        "id": "bzCMLAlgcspm"
      },
      "source": [
        "###Ejemplo 1\n",
        "El siguiente ejemplo es sobre funciones de acumulación.\n",
        "\n",
        "Si tienes dos cuentas de inversión que utiliza la siguiente función de acumulación: \n",
        "\n",
        "$$ \\begin{equation}\n",
        "a(t)= (1+i)^t\n",
        "\\end{equation}$$\n",
        "en donde para la primer cuenta:\n",
        "$i=8%$ y para la segunda cuenta $i=10%$, en ambos casos $t$ es dado en años.\n",
        "\n",
        "Hace 8 años el monto en la primer cuenta era el doble de lo que había en la segunda cuenta, el día de hoy la suma de los montos de las cuentas es de 75,000.\n",
        "\n",
        "¿Que monto había en la segunda cuenta hace 8 años? \n",
        "\n",
        "Como primer paso debemos formular nuestra ecuación con la información que nos dan en el ejercicio.\n",
        "\n",
        "La ecuación se formula al tiempo $t=8$ ya que es el monto que conocemos por lo que:\n",
        "\n",
        "$$\\begin{equation}\n",
        "x a_{1 cuenta}(t) +2xa_{2 cuenta}(t)=75,000\n",
        "\\end{equation}$$\n",
        "\n",
        "Sustituyendo los datos tenemos:\n",
        "\n",
        "\n",
        "$$\\begin{equation}\n",
        "x (1+.1)^8 +2x(1+.08)^8=75,000\n",
        "\\end{equation}$$\n",
        "\n",
        "De donde obtenemos que $X=12,830.49$\n",
        "\n",
        "Por lo que en la primer cuenta hace 8 años se tenian $25,660,98$\n"
      ]
    },
    {
      "cell_type": "markdown",
      "metadata": {
        "id": "j33w0lPVgmuY"
      },
      "source": [
        "###Ejemplo 2\n",
        "Este ejemplo es sobre la tasa efectiva de interés.\n",
        "\n",
        "El día de hoy se invierten $\\$100$ pesos en una cuenta cuyo valor al final dos años y medio es de $\\$150$. ¿Cuál es el valor de la tasa efectiva semestral?.\n",
        "\n",
        "Tomemos en cuenta que en dos años se tiene 5 semestres, entonces:\n",
        "\n",
        "$$ \\begin{equation}\n",
        "150=100(1+i)^5\n",
        "\\end{equation}$$\n",
        "\n",
        "entonces tenemos que:\n",
        "$$\\begin{equation}\n",
        "i=(1.5)^\\frac{1}{5} - 1\n",
        "\\end{equation}$$\n"
      ]
    },
    {
      "cell_type": "markdown",
      "metadata": {
        "id": "WYBZLFpXW95l"
      },
      "source": [
        "###Ejemplo 3\n",
        "Este ejemplo es sobre interés simple e interés compuesto en la vida real.\n",
        "Suponga que una persona invierte al $6\\%$ su primer salario para poder retirarlo al final de su vida laboral que será dentro de 43 años.\n",
        "Supongamos que el sueldo que obtuvo fue de $\\$10,000$.\n",
        "¿Cuál será el monto que retirará si invierte bajo interés simple o bajo interés compuesto?\n",
        "\n",
        "\n",
        "Bajo interés simple tenemos:\n",
        "\n",
        "$$\\begin{equation}\n",
        "A(43) = 10,000*(1+43*0.06)\n",
        "= 10,000*(3.58) = 35,800\n",
        "\\end{equation}$$\n",
        "\n",
        "Bajo interés compuesto tenemos:\n",
        "\n",
        "$$\\begin{equation}\n",
        "A(43) = 10,000*(1+0.06)^{43}\n",
        "= 10,000*(12.25) = 122,500\n",
        "\\end{equation}$$\n",
        "\n"
      ]
    },
    {
      "cell_type": "code",
      "metadata": {
        "colab": {
          "base_uri": "https://localhost:8080/",
          "height": 369
        },
        "id": "Fa18iWI2agkE",
        "outputId": "a644cefb-1aa1-43b3-8437-69243a334a1e"
      },
      "source": [
        "# lista que contiene el número de periodos en orden ascendente\n",
        "periodos  = [ 0,43] \n",
        "# lista que contiene el valor de la función de de acumulación del interés simple\n",
        "# conforme al periodo\n",
        "a = [ 10000,35800]\n",
        "ac = [ 1000,122500]\n",
        "\n",
        "# parámetros que contendrá la próxima gráfica que vamos a crear y mostrar: \n",
        "# el título, la etiqueta del eje x y la etiqueta del eje y\n",
        "par = [{'title':'Monto que obtendrá el trabajador al año 43, (Interés simple vs Interés compuesto)', \n",
        "        'xlabel':'Periodos (t)',\n",
        "        'ylabel':'A(t)'}]\n",
        "\n",
        "# instanciamos una figura que básicamente es el plano cartesiano\n",
        "graf = vis.planoCartesiano(par=par)\n",
        "# graficamos la función\n",
        "graf.plot(x=periodos, y=a)\n",
        "graf.plot(x=periodos, y=ac, par={'color':'purple', 'zorder':5})\n",
        "# las etiquetas del eje x van a ser los número de cada semana\n",
        "graf.ticks(xticks = periodos)\n",
        "# mostramos la figura que contiene la gráfica\n",
        "graf.show()"
      ],
      "execution_count": null,
      "outputs": [
        {
          "output_type": "display_data",
          "data": {
            "image/png": "[encoded data removed]",
            "text/plain": [
              "<Figure size 720x360 with 1 Axes>"
            ]
          },
          "metadata": {
            "tags": [],
            "needs_background": "light"
          }
        }
      ]
    },
    {
      "cell_type": "markdown",
      "metadata": {
        "id": "Wub3uviybfgB"
      },
      "source": [
        "## Referencias\n",
        "\n",
        "* Adam Siade, J. Apuntes electrónicos de matemáticas financieras. \n",
        "* Gutierrez J, Gerardo. Apuntes  de matemáticas financieras.\n",
        "* Díaz M, Alfredo.(Cuarta Edición).Matemáticas Financieras\n"
      ]
    }
  ]
}
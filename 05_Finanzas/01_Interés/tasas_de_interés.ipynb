{
  "nbformat": 4,
  "nbformat_minor": 0,
  "metadata": {
    "colab": {
      "name": "tasas de interés.ipynb",
      "provenance": [],
      "authorship_tag": "ABX9TyPmzpnxf5DhBq7oGxWMTtXy",
      "include_colab_link": true
    },
    "kernelspec": {
      "name": "python3",
      "display_name": "Python 3"
    },
    "language_info": {
      "name": "python"
    }
  },
  "cells": [
    {
      "cell_type": "markdown",
      "metadata": {
        "id": "view-in-github",
        "colab_type": "text"
      },
      "source": [
        "<a href=\"https://colab.research.google.com/github/jugernaut/Prometeo/blob/desarrollo/05_Finanzas/01_Inter%C3%A9s/tasas_de_inter%C3%A9s.ipynb\" target=\"_parent\"><img src=\"https://colab.research.google.com/assets/colab-badge.svg\" alt=\"Open In Colab\"/></a>"
      ]
    },
    {
      "cell_type": "markdown",
      "metadata": {
        "id": "q2BeBDkwe7Eq"
      },
      "source": [
        "\n",
        "# Tasa de interés\n",
        "### Trabajo realizado con el apoyo del Programa UNAM-DGAPA-PAPIME \n",
        "\n",
        "*   Autor: \n",
        "    - Ocampo Nava Maria Fernanda \n",
        "\n",
        "*   Rev: viernes 21 de Mayo 2021 "
      ]
    },
    {
      "cell_type": "code",
      "metadata": {
        "id": "uTfoE3WafH1e"
      },
      "source": [
        "!git clone https://github.com/jugernaut/Prometeo.git\n",
        "import os\n",
        "import Prometeo.Utils.gutils as vis\n",
        "import math\n",
        "import matplotlib.pyplot as plt\n",
        "import matplotlib.patches as pc\n",
        "from sympy import limit, Symbol, oo\n",
        "%matplotlib inline"
      ],
      "execution_count": 7,
      "outputs": []
    },
    {
      "cell_type": "markdown",
      "metadata": {
        "id": "yiEDhR9jfL4Z"
      },
      "source": [
        "Como ya se expica en el notebook de <a href=https://colab.research.google.com/github/jugernaut/Prometeo/blob/desarrollo/05_Finanzas/01_Inter%C3%A9s/Medici%C3%B3n_de_inter%C3%A9s.ipynb>*Medición de interés*</a> en la actualidad cuando se nos presta un bien ajeno ya sea dinero o un bien común es normal que la persona que nos o presta nos cobre renta o en el caso del dinero se nos cobren intereses ya que debe tener una remuneración por el tiempo que no está haciendo uso de este bien."
      ]
    },
    {
      "cell_type": "markdown",
      "metadata": {
        "id": "qWJs8GLHfxth"
      },
      "source": [
        "## **Introducción**\n",
        "Imagina que una persona te presta dinero y solo te dice que le pagaras una remuneración (interés) cuando se lo devuelvas, pero no te mencio que porcentaje de interes le pagaras, ¿Que arriesgado no?, para esto esta la tasa de interés, que es una medición porcentual de la cantidad que pagaras por el préstamo, suele ser periodica y en ocasiones constante por periodo pero esto no siempre se cumple."
      ]
    },
    {
      "cell_type": "markdown",
      "metadata": {
        "id": "zWgGYOhcgWPV"
      },
      "source": [
        "## Tasa nominal de interés\n",
        "\n",
        "Para aquellos casos en que el interés se paga con frecuencia distinta al periodo para el cuál está calculada la tasa de interés se utilizan las tasas nominales, en otras palabras la tasa nominal es el interés que capitaliza más de una vez por periodo.\n",
        "\n",
        "Regularmente se denota por $i^{(m)}$ y se tiene una equivalencia con la tasa de interés efectiva  que es:\n",
        "\n",
        "$$ \\begin{equation}\n",
        "i=(1+\\frac{ i^{(m)}}{m})^{m}-1\n",
        "\\end{equation}$$\n",
        "por lo que \n",
        "$$ \\begin{equation}\n",
        "i^{(m)}=m*[(1+i)^{\\frac{1}{m}} -1 ]\n",
        "\\end{equation}$$"
      ]
    },
    {
      "cell_type": "code",
      "metadata": {
        "id": "mc3YE2aCjcgQ"
      },
      "source": [
        "\n",
        "\n",
        "\n",
        "#con está función obtendremos Si nos dan una tasa de interés i y queremos la tasa nóminal pagadera \n",
        "#definimos la función y los parámetros que se necesitan\n",
        "def nom(i,m):\n",
        "  #pedimos que nos imprima el valor del monto de acuerdo a los parámetros que proporcionamos\n",
        "  return m*((1+i)**(1/m)-1)"
      ],
      "execution_count": 2,
      "outputs": []
    },
    {
      "cell_type": "code",
      "metadata": {
        "colab": {
          "base_uri": "https://localhost:8080/"
        },
        "id": "Bb4m4MtwmvZs",
        "outputId": "c2a150ad-3289-4632-ada4-e219c959e78b"
      },
      "source": [
        "nom(.12,2)"
      ],
      "execution_count": 3,
      "outputs": [
        {
          "output_type": "execute_result",
          "data": {
            "text/plain": [
              "0.11660104885167266"
            ]
          },
          "metadata": {
            "tags": []
          },
          "execution_count": 3
        }
      ]
    },
    {
      "cell_type": "markdown",
      "metadata": {
        "id": "4FmE1SWenJSv"
      },
      "source": [
        "## Fuerza de descuento\n",
        "si $m \\to \\infty$ se tiene una medida de la intensidad de acumulación de intereses, esto es conocido como la fuerza de interés.\n",
        "\n",
        "Está fuerza de interés está ligada a la variación infinitesimal de $A(t)$ y está definida por:\n",
        "\n",
        "\n",
        "$$\\begin{equation}\n",
        "\\delta_t =  \\frac{A^{'}(t)}{ A(t)}\n",
        "\\end{equation}$$\n",
        "es decir \n",
        "$$\\begin{equation}\n",
        "\\delta_t =  \\frac{d}{ dt} ln(A(t))\n",
        "\\end{equation}$$\n",
        "\n",
        "$$\\begin{equation}\n",
        "=\\int_{0}^{t} \\frac{d}{ dr} ln(A(r))\n",
        "\\end{equation}$$\n",
        "\n",
        "$$\\begin{equation}\n",
        "=\\ln(A(t))-ln(A(0))\n",
        "\\end{equation}$$\n",
        "\n",
        "$$\\begin{equation}\n",
        "=ln(\\frac{A(t)}{ A(0)})\n",
        "\\end{equation}$$\n",
        "\n",
        "De lo anterior tenemos que:\n",
        "\n",
        "$$\\begin{equation}\n",
        " \\frac{A(t)}{ A(0) }= e ^{\\int_{0}^{t} \\delta_r dr} = A(t)\n",
        "\\end{equation}$$\n",
        "\n",
        "De manera similar se obtiene la cantidad de intereses ganaos entre 0 y n, que queda como:\n",
        "\n",
        "$$\\begin{equation}\n",
        "A(n)-A(0)\n",
        "\\end{equation}$$"
      ]
    },
    {
      "cell_type": "markdown",
      "metadata": {
        "id": "lcjgHZUMwufs"
      },
      "source": [
        "##Tasas equivalentes "
      ]
    },
    {
      "cell_type": "markdown",
      "metadata": {
        "id": "d6kKuhr6wyF2"
      },
      "source": [
        "Se dice que dos tasas son equivalentes $\\Leftrightarrow $ una cantidad C invertida e mismo plazo T genera el mismo  saldo S en t=T.\n",
        "\n",
        "Lo anterior nos permite comparar una tasa simple vs una nominal, etc."
      ]
    },
    {
      "cell_type": "markdown",
      "metadata": {
        "id": "w2fDY9kPxVrB"
      },
      "source": [
        "##Factor de descuento"
      ]
    },
    {
      "cell_type": "markdown",
      "metadata": {
        "id": "eQvZZ0JgxZKF"
      },
      "source": [
        "El factor de descuento (a valor presente) a la tasa de interés $i$ se define como:\n",
        "\n",
        "\n",
        "$$\\begin{equation}\n",
        "v_i=(1+i)^{-t}\n",
        "\\end{equation}$$"
      ]
    },
    {
      "cell_type": "code",
      "metadata": {
        "id": "NtftgBT7yNE5"
      },
      "source": [
        "#está función nos va a permitir  sacar el valor presente dando la tasa de interés y el tiempo\n",
        "# es importante tomar en cuenta que la tasa de interés debe ir acorde a los peridos\n",
        "\n",
        "def vd(i,t):\n",
        "  #pedimos que nos imprima el valor del monto de acuerdo a los parámetros que proporcionamos\n",
        "  return (1+i)**(-t)"
      ],
      "execution_count": 8,
      "outputs": []
    },
    {
      "cell_type": "code",
      "metadata": {
        "colab": {
          "base_uri": "https://localhost:8080/"
        },
        "id": "4HAj04hFyt-E",
        "outputId": "33e43246-82e8-4616-aeb7-247cb5733ccc"
      },
      "source": [
        "vd(.30,6)"
      ],
      "execution_count": 9,
      "outputs": [
        {
          "output_type": "execute_result",
          "data": {
            "text/plain": [
              "0.20717621103300332"
            ]
          },
          "metadata": {
            "tags": []
          },
          "execution_count": 9
        }
      ]
    },
    {
      "cell_type": "markdown",
      "metadata": {
        "id": "ro7tkAQMyzQe"
      },
      "source": [
        "Si ahorita nuestro padre nos dio $\\$10,000$ y sabemos que hace 3 años el invirtió cierta cantidad a una tasa anual del 30\\%, ¿Que cantidad invirtió?"
      ]
    },
    {
      "cell_type": "code",
      "metadata": {
        "colab": {
          "base_uri": "https://localhost:8080/"
        },
        "id": "_w3wletzzsJ8",
        "outputId": "30285765-2807-419d-9ea7-fbe22891f317"
      },
      "source": [
        "#primero sacamos el factor de descuento\n",
        "vd(.30,3)\n",
        "#una vez que tenemos el factor de descuento lo multiplicamos por los 10,000 para obtener su valor hace 3 años\n",
        "10000*vd(.30,3)"
      ],
      "execution_count": 16,
      "outputs": [
        {
          "output_type": "execute_result",
          "data": {
            "text/plain": [
              "4551.661356395083"
            ]
          },
          "metadata": {
            "tags": []
          },
          "execution_count": 16
        }
      ]
    },
    {
      "cell_type": "code",
      "metadata": {
        "colab": {
          "base_uri": "https://localhost:8080/",
          "height": 369
        },
        "id": "K1bhNkbd0Cus",
        "outputId": "8a798b5e-ebb5-4d20-e4cd-fc6b40f3fa14"
      },
      "source": [
        "# lista que contiene el número de periodos en orden ascendente\n",
        "periodos  = [ 0, 1, 2, 3] \n",
        "# lista que contiene el valor de la función de de acumulación del interés simple\n",
        "# conforme al periodo\n",
        "a = [ 4551.661356,5917.159763313609,7692.3076923076915, 10000  ]\n",
        "\n",
        "# parámetros que contendrá la próxima gráfica que vamos a crear y mostrar: \n",
        "# el título, la etiqueta del eje x y la etiqueta del eje y\n",
        "par = [{'title':'Crecimiento de la inversión de nuestro padre', \n",
        "        'xlabel':'Periodos (t)',\n",
        "        'ylabel':'a(t)'}]\n",
        "\n",
        "# instanciamos una figura que básicamente es el plano cartesiano\n",
        "graf = vis.planoCartesiano(par=par)\n",
        "# graficamos la función\n",
        "graf.plot(x=periodos, y=a)\n",
        "# las etiquetas del eje x van a ser los número de cada semana\n",
        "graf.ticks(xticks = periodos)\n",
        "# mostramos la figura que contiene la gráfica\n",
        "graf.show()"
      ],
      "execution_count": 17,
      "outputs": [
        {
          "output_type": "display_data",
          "data": {
            "image/png": "[encoded data removed]",
            "text/plain": [
              "<Figure size 720x360 with 1 Axes>"
            ]
          },
          "metadata": {
            "tags": [],
            "needs_background": "light"
          }
        }
      ]
    },
    {
      "cell_type": "markdown",
      "metadata": {
        "id": "Ii7FyqqHx8cC"
      },
      "source": [
        "##Factor de acumulación"
      ]
    },
    {
      "cell_type": "markdown",
      "metadata": {
        "id": "QO6GslrLx-ZD"
      },
      "source": [
        "El factor de acumulación (a valor futuro) a la tasa de interés $i$ se define como:\n",
        "\n",
        "\n",
        "$$\\begin{equation}\n",
        "v_i=(1+i)^{t}\n",
        "\\end{equation}$$\n",
        "\n",
        "Con este podemos obtener el valor futuro del dinero, es importante tener en cuenta que la periodicidad de la tasa debe coincidir con lo periodos."
      ]
    },
    {
      "cell_type": "markdown",
      "metadata": {
        "id": "DkDxAEoY06fG"
      },
      "source": [
        "Si ahorita tenemos $\\$1,000$ y queremos invertirlos a una tasa del 40\\% anual, ¿Cuanto dinero tendremos en 5 años?"
      ]
    },
    {
      "cell_type": "code",
      "metadata": {
        "id": "YNsFjAsE1L6X"
      },
      "source": [
        "#está función nos va a permitir  sacar el valor futuro dando la tasa de interés y el tiempo\n",
        "# es importante tomar en cuenta que la tasa de interés debe ir acorde a los peridos\n",
        "\n",
        "def vf(i,t):\n",
        "  #pedimos que nos imprima el valor del monto de acuerdo a los parámetros que proporcionamos\n",
        "  return (1+i)**(t)"
      ],
      "execution_count": 19,
      "outputs": []
    },
    {
      "cell_type": "code",
      "metadata": {
        "colab": {
          "base_uri": "https://localhost:8080/"
        },
        "id": "TlN1nsOG1Qg1",
        "outputId": "122e66a8-5ee5-4702-9385-309201aaf6af"
      },
      "source": [
        "vf(.4,5)*1000\n"
      ],
      "execution_count": 27,
      "outputs": [
        {
          "output_type": "execute_result",
          "data": {
            "text/plain": [
              "5378.239999999998"
            ]
          },
          "metadata": {
            "tags": []
          },
          "execution_count": 27
        }
      ]
    },
    {
      "cell_type": "code",
      "metadata": {
        "colab": {
          "base_uri": "https://localhost:8080/",
          "height": 369
        },
        "id": "5Z2IL-im1eWA",
        "outputId": "a933cb4f-62ad-4927-a1aa-e42c91356b46"
      },
      "source": [
        "# lista que contiene el número de periodos en orden ascendente\n",
        "periodos  = [ 0, 1, 2, 3,4,5] \n",
        "# lista que contiene el valor de la función de de acumulación del interés simple\n",
        "# conforme al periodo\n",
        "a = [ 1000,1400,1959.99999, 2743.99999,3841.5999999999995,5378.239999999998 ]\n",
        "\n",
        "# parámetros que contendrá la próxima gráfica que vamos a crear y mostrar: \n",
        "# el título, la etiqueta del eje x y la etiqueta del eje y\n",
        "par = [{'title':'Crecimiento de nuestra', \n",
        "        'xlabel':'Periodos (t)',\n",
        "        'ylabel':'a(t)'}]\n",
        "\n",
        "# instanciamos una figura que básicamente es el plano cartesiano\n",
        "graf = vis.planoCartesiano(par=par)\n",
        "# graficamos la función\n",
        "graf.plot(x=periodos, y=a)\n",
        "# las etiquetas del eje x van a ser los número de cada semana\n",
        "graf.ticks(xticks = periodos)\n",
        "# mostramos la figura que contiene la gráfica\n",
        "graf.show()"
      ],
      "execution_count": 29,
      "outputs": [
        {
          "output_type": "display_data",
          "data": {
            "image/png": "[encoded data removed]",
            "text/plain": [
              "<Figure size 720x360 with 1 Axes>"
            ]
          },
          "metadata": {
            "tags": [],
            "needs_background": "light"
          }
        }
      ]
    },
    {
      "cell_type": "markdown",
      "metadata": {
        "id": "JBTHu50z15Ra"
      },
      "source": [
        "##Tasa real de interés"
      ]
    },
    {
      "cell_type": "markdown",
      "metadata": {
        "id": "UKqz69oc18Bt"
      },
      "source": [
        "Representa la tasa a la cuál se generarón utilidades descontandole el efecto inflacionario.\n",
        "Dicho lo anterior tenemos \n",
        "\n",
        "\n",
        "$$\\begin{equation}\n",
        "1+i= (1+ i ')(1+r)\n",
        "\\end{equation}$$\n",
        "\n",
        "de donde \n",
        "\n",
        "$i$: tasa nominal de interés\n",
        "\n",
        "$i '$: tasa real de interés\n",
        "\n",
        "$r$ : inflación al plazo de nuestra inversión\n",
        "\n",
        "De donde se deduce que \n",
        "\n",
        "$$\\begin{equation}\n",
        " i '= \\frac{i-r}{1+r}\n",
        "\\end{equation}$$\n",
        "\n",
        "A mayor inflación mi tasa real de interés será más pequeña, incluso puede llegar a ser negativa."
      ]
    },
    {
      "cell_type": "markdown",
      "metadata": {
        "id": "EezNZsVC2Fas"
      },
      "source": [
        "##Aplicaciones"
      ]
    },
    {
      "cell_type": "markdown",
      "metadata": {
        "id": "Qtr_5RCn2KvF"
      },
      "source": [
        "###ejemplo 1 \n",
        "\n",
        "Si el día de hoy tengo $\\$100$ y una tasa de interés capitalizable bimestralmente del 12\\% ¿Cuál será el monto final en 10 años?\n",
        "\n",
        "$$ \\begin{equation}\n",
        "MF=100*(1+\\frac{ i^{(6)}}{6})^{6*10}= 328.10\n",
        "\\end{equation}$$"
      ]
    },
    {
      "cell_type": "markdown",
      "metadata": {
        "id": "yRUBjY3T29gL"
      },
      "source": [
        "###ejemplo 2\n",
        "\n",
        "Si al final de 10 años tengo $\\$1000$ y una tasa de interés capitalizable bimestralmente del 12\\% ¿Cuál será el monto depositado el día de hoy?\n",
        "\n",
        "$$ \\begin{equation}\n",
        "MF=x*(1+\\frac{ i^{(6)}}{6})^{-6*10}= 30.4\n",
        "\\end{equation}$$"
      ]
    },
    {
      "cell_type": "markdown",
      "metadata": {
        "id": "4pFXSv503e2R"
      },
      "source": [
        "###ejercicio para el lector\n",
        "\n",
        "El dá de hoy José pide un préstamo de $\\$10,000$ a Javier firmando un pagaré a 2 años con interés compuesto del 25\\% efectivo anual sin embargo, 1.5 años después de haber solicitado dicho préstamo Javier necesita dinero y le vende el pagaré a Gustavo, quien lo va a mantener hasta que venza y a cambio obtiene una tasa de rendimiento simple del 28\\% sobre el tiempo que lo tuvo.\n",
        "¿Cuál es la tasa de rendimiento compuesto tanto anual como efectivo que obtuvo Javier por el tiempo que mantuvo el pagaré? \n",
        "\n",
        "Respuestas:\n",
        "\n",
        "\n",
        "$$ \\begin{equation}\n",
        "i^{(anual)}=14.22\\%\n",
        "\\end{equation}$$\n",
        "\n",
        "\n",
        "$$ \\begin{equation}\n",
        "i^{(efectiva)}=22.07\\%\n",
        "\\end{equation}$$"
      ]
    },
    {
      "cell_type": "markdown",
      "metadata": {
        "id": "-fy7Amrl6HF0"
      },
      "source": [
        "## Referencias\n",
        "\n",
        "* Adam Siade, J. Apuntes electrónicos de matemáticas financieras. \n",
        "* Gutierrez J, Gerardo. Apuntes  de matemáticas financieras.\n",
        "* Díaz M, Alfredo.(Cuarta Edición).Matemáticas Financieras"
      ]
    }
  ]
}
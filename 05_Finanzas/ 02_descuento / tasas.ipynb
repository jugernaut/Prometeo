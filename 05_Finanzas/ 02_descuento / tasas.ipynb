{
  "nbformat": 4,
  "nbformat_minor": 0,
  "metadata": {
    "colab": {
      "name": "Untitled1.ipynb",
      "provenance": [],
      "authorship_tag": "ABX9TyNbiENNwd3UJrvTm2au8Lny",
      "include_colab_link": true
    },
    "kernelspec": {
      "name": "python3",
      "display_name": "Python 3"
    },
    "language_info": {
      "name": "python"
    }
  },
  "cells": [
    {
      "cell_type": "markdown",
      "metadata": {
        "id": "view-in-github",
        "colab_type": "text"
      },
      "source": [
        "<a href=\"https://colab.research.google.com/github/jugernaut/Prometeo/blob/desarrollo/05_Finanzas/%2002_descuento%20/%20tasas.ipynb\" target=\"_parent\"><img src=\"https://colab.research.google.com/assets/colab-badge.svg\" alt=\"Open In Colab\"/></a>"
      ]
    },
    {
      "cell_type": "markdown",
      "metadata": {
        "id": "b6MObohHlp87"
      },
      "source": [
        "\n",
        "# Tasas de descuento\n",
        "### Trabajo realizado con el apoyo del Programa UNAM-DGAPA-PAPIME \n",
        "\n",
        "*   Autor: \n",
        "    - Ocampo Nava Maria Fernanda \n",
        "\n",
        "*   Rev: viernes 21 de Mayo 2021 "
      ]
    },
    {
      "cell_type": "code",
      "metadata": {
        "id": "PBD2Iqk2lwfW",
        "colab": {
          "base_uri": "https://localhost:8080/"
        },
        "outputId": "76794005-4bae-43b0-ac47-7d644ef81283"
      },
      "source": [
        "!git clone https://github.com/jugernaut/Prometeo.git\n",
        "import os\n",
        "import Prometeo.Utils.gutils as vis\n",
        "from sympy import limit, Symbol, oo\n",
        "import math\n",
        "import numpy as np\n",
        "import matplotlib.pyplot as plt\n",
        "import matplotlib.patches as pc\n",
        "%matplotlib inline"
      ],
      "execution_count": null,
      "outputs": [
        {
          "output_type": "stream",
          "text": [
            "Cloning into 'Prometeo'...\n",
            "remote: Enumerating objects: 2589, done.\u001b[K\n",
            "remote: Counting objects: 100% (524/524), done.\u001b[K\n",
            "remote: Compressing objects: 100% (500/500), done.\u001b[K\n",
            "remote: Total 2589 (delta 250), reused 0 (delta 0), pack-reused 2065\u001b[K\n",
            "Receiving objects: 100% (2589/2589), 22.86 MiB | 29.71 MiB/s, done.\n",
            "Resolving deltas: 100% (1575/1575), done.\n"
          ],
          "name": "stdout"
        }
      ]
    },
    {
      "cell_type": "markdown",
      "metadata": {
        "id": "oteEi7z3l1ft"
      },
      "source": [
        ""
      ]
    }
  ]
}
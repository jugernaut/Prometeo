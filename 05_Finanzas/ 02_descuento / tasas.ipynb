{
  "nbformat": 4,
  "nbformat_minor": 0,
  "metadata": {
    "colab": {
      "name": "Untitled1.ipynb",
      "provenance": [],
      "authorship_tag": "ABX9TyP49D8zfkM/fNtuf6qMDa74",
      "include_colab_link": true
    },
    "kernelspec": {
      "name": "python3",
      "display_name": "Python 3"
    },
    "language_info": {
      "name": "python"
    }
  },
  "cells": [
    {
      "cell_type": "markdown",
      "metadata": {
        "id": "view-in-github",
        "colab_type": "text"
      },
      "source": [
        "<a href=\"https://colab.research.google.com/github/jugernaut/Prometeo/blob/desarrollo/05_Finanzas/%2002_descuento%20/%20tasas.ipynb\" target=\"_parent\"><img src=\"https://colab.research.google.com/assets/colab-badge.svg\" alt=\"Open In Colab\"/></a>"
      ]
    },
    {
      "cell_type": "markdown",
      "metadata": {
        "id": "b6MObohHlp87"
      },
      "source": [
        "\n",
        "# Tasas de descuento\n",
        "### Trabajo realizado con el apoyo del Programa UNAM-DGAPA-PAPIME \n",
        "\n",
        "*   Autor: \n",
        "    - Ocampo Nava Maria Fernanda \n",
        "\n",
        "*   Rev: viernes 21 de Mayo 2021 "
      ]
    },
    {
      "cell_type": "code",
      "metadata": {
        "id": "PBD2Iqk2lwfW",
        "colab": {
          "base_uri": "https://localhost:8080/"
        },
        "outputId": "322d21d0-e034-4021-fa5c-80d2375117c1"
      },
      "source": [
        "!git clone https://github.com/jugernaut/Prometeo.git\n",
        "import os\n",
        "import Prometeo.Utils.gutils as vis\n",
        "from sympy import limit, Symbol, oo\n",
        "import math\n",
        "import numpy as np\n",
        "import matplotlib.pyplot as plt\n",
        "import matplotlib.patches as pc\n",
        "%matplotlib inline"
      ],
      "execution_count": 2,
      "outputs": [
        {
          "output_type": "stream",
          "text": [
            "Cloning into 'Prometeo'...\n",
            "remote: Enumerating objects: 2594, done.\u001b[K\n",
            "remote: Counting objects: 100% (529/529), done.\u001b[K\n",
            "remote: Compressing objects: 100% (505/505), done.\u001b[K\n",
            "remote: Total 2594 (delta 253), reused 0 (delta 0), pack-reused 2065\u001b[K\n",
            "Receiving objects: 100% (2594/2594), 22.86 MiB | 15.77 MiB/s, done.\n",
            "Resolving deltas: 100% (1578/1578), done.\n"
          ],
          "name": "stdout"
        }
      ]
    },
    {
      "cell_type": "markdown",
      "metadata": {
        "id": "_kxk9GLQnS69"
      },
      "source": [
        "Para dudas acerca de la notación mas usada visita el notebook de <a href=https://colab.research.google.com/github/jugernaut/Prometeo/blob/desarrollo/05_Finanzas/01_Inter%C3%A9s/Medici%C3%B3n_de_inter%C3%A9s.ipynb>*Medición de interés*</a> en la sección de conceptos usados."
      ]
    },
    {
      "cell_type": "markdown",
      "metadata": {
        "id": "oteEi7z3l1ft"
      },
      "source": [
        "## **Introducción**\n",
        "\n",
        "En ciertas operaciones de crédito bancario se acostumbra cobrar el monto de\n",
        "intereses en el momento mismo de otorgar un préstamo o crédito. También en\n",
        "transacciones comerciales a proveedores o clientes.\n",
        "\n",
        "En este caso en lugar de esperar al final del periodo para el pago de intereses el deudor recibirá C*(1-d) y en t=1 deberá devolver C.\n"
      ]
    },
    {
      "cell_type": "markdown",
      "metadata": {
        "id": "H20MugOPo58g"
      },
      "source": [
        "##Definición de tasa de descuento\n",
        "\n",
        "Su nombre se da con el objetivo de indicar explícitamente que en un préstamo los\n",
        "intereses se cobrarán de una manera anticipada y usualmente se denota por $d$.\n"
      ]
    },
    {
      "cell_type": "markdown",
      "metadata": {
        "id": "L7htf9QmpcFl"
      },
      "source": [
        "##Equivalencias entre $i$ y $d$ \n",
        "$$ \\begin{equation}\n",
        "i=\\frac{d}{1-d}\n",
        "\\end{equation}$$\n",
        "\n",
        "$$ \\begin{equation}\n",
        "d=\\frac{i}{1+i}\n",
        "\\end{equation}$$\n",
        "\n",
        "$$ \\begin{equation}\n",
        "i=(1+i)^d\n",
        "\\end{equation}$$"
      ]
    },
    {
      "cell_type": "markdown",
      "metadata": {
        "id": "TQGaWN0aq88W"
      },
      "source": [
        "La tasa de descuento se aplica para determinar el valor actual de un pago futuro, el descuento se resta de una cantidad esperada para obtener una cantidad en el presente."
      ]
    },
    {
      "cell_type": "markdown",
      "metadata": {
        "id": "oVPa4jlgsnwc"
      },
      "source": [
        "##Tasa efectiva de descuento"
      ]
    },
    {
      "cell_type": "markdown",
      "metadata": {
        "id": "IsbydNuosroW"
      },
      "source": [
        "Es una medida de interés, paga al principio del periodo y se define como: \n",
        "\n",
        "$$ \\begin{equation}\n",
        "d_{n}=\\frac{A(n)-A(n-1)}{A(n)}=\\frac{I_{n}}{A(n)}\n",
        "\\end{equation}$$\n",
        "\n",
        "Mide el interés al inicio por periodo en términos porcentuales."
      ]
    },
    {
      "cell_type": "markdown",
      "metadata": {
        "id": "p6urXf40tZ5s"
      },
      "source": [
        "##Descuento Simple \n"
      ]
    },
    {
      "cell_type": "markdown",
      "metadata": {
        "id": "vJN9phTRtfDZ"
      },
      "source": [
        "Es lo opuesto al interés simple, tiene por objeto la sustitución de un capital futuro por otro equivalente con vencimiento presente.\n",
        "\n",
        "Se denomina por:\n",
        "\n",
        "$$ \\begin{equation}\n",
        "a^{-1}(t)= 1- dt\n",
        "\\end{equation}$$\n",
        "Lo anterior con \n",
        "\n",
        "\n",
        "$$ \\begin{equation}\n",
        "0 \\leq t \\leq \\frac{1}{d}\n",
        "\\end{equation}$$"
      ]
    },
    {
      "cell_type": "code",
      "metadata": {
        "id": "iUAp9xGkuuwg",
        "outputId": "bfc8fa45-4603-4f2c-9696-7d73831480ec",
        "colab": {
          "base_uri": "https://localhost:8080/",
          "height": 369
        }
      },
      "source": [
        "# lista que contiene el número de periodos en orden ascendente\n",
        "periodos  = [ 1, 2, 3, 4, 5, 6, 7, 8, 9,10,11,12,13,14,15] \n",
        "# lista que contiene el valor de la función de de acumulación del interés simple\n",
        "# conforme al periodo\n",
        "a = [ 0.9, .8 , .7 ,.6,.5,.4,.3,.2,.1,0,-.1,-.2,-.3,-.4,-.5]\n",
        "\n",
        "# parámetros que contendrá la próxima gráfica que vamos a crear y mostrar: \n",
        "# el título, la etiqueta del eje x y la etiqueta del eje y\n",
        "par = [{'title':'Patrón de descuento simple con tasa del 10% ', \n",
        "        'xlabel':'Periodos (t)',\n",
        "        'ylabel':'a^-1(t)'}]\n",
        "\n",
        "# instanciamos una figura que básicamente es el plano cartesiano\n",
        "graf = vis.planoCartesiano(par=par)\n",
        "# graficamos la función\n",
        "graf.plot(x=[0,15], y=[0,0], par={'ls':'--', 'color':'red', 'lw':2})\n",
        "graf.plot(x=periodos, y=a)\n",
        "# las etiquetas del eje x van a ser los número de cada semana\n",
        "graf.ticks(xticks = periodos)\n",
        "# mostramos la figura que contiene la gráfica\n",
        "graf.show()"
      ],
      "execution_count": 8,
      "outputs": [
        {
          "output_type": "display_data",
          "data": {
            "image/png": "[encoded data removed]",
            "text/plain": [
              "<Figure size 720x360 with 1 Axes>"
            ]
          },
          "metadata": {
            "tags": [],
            "needs_background": "light"
          }
        }
      ]
    }
  ]
}
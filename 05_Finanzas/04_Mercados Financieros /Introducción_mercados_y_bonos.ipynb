{
  "nbformat": 4,
  "nbformat_minor": 0,
  "metadata": {
    "colab": {
      "name": "Introducción mdos y bonos.ipynb",
      "provenance": [],
      "authorship_tag": "ABX9TyMiLrVje+r8DqeM7+eCwjrA",
      "include_colab_link": true
    },
    "kernelspec": {
      "name": "python3",
      "display_name": "Python 3"
    },
    "language_info": {
      "name": "python"
    }
  },
  "cells": [
    {
      "cell_type": "markdown",
      "metadata": {
        "id": "view-in-github",
        "colab_type": "text"
      },
      "source": [
        "<a href=\"https://colab.research.google.com/github/jugernaut/Prometeo/blob/desarrollo/05_Finanzas/04_Mercados%20Financieros%20/Introducci%C3%B3n_mercados_y_bonos.ipynb\" target=\"_parent\"><img src=\"https://colab.research.google.com/assets/colab-badge.svg\" alt=\"Open In Colab\"/></a>"
      ]
    },
    {
      "cell_type": "markdown",
      "metadata": {
        "id": "CiIXLXDs-5u0"
      },
      "source": [
        "\n",
        "# Mercados financieros y bonos\n",
        "### Trabajo realizado con el apoyo del Programa UNAM-DGAPA-PAPIME \n",
        "\n",
        "*   Autor: \n",
        "    - Ocampo Nava Maria Fernanda \n",
        "\n",
        "*   Rev: lunes 31 de Mayo 2021 "
      ]
    },
    {
      "cell_type": "code",
      "metadata": {
        "colab": {
          "base_uri": "https://localhost:8080/"
        },
        "id": "KZDjq0HT_ID1",
        "outputId": "e0e3638c-15dd-4439-a32e-babfacde79f0"
      },
      "source": [
        "!git clone https://github.com/jugernaut/Prometeo.git\n",
        "import os\n",
        "import Prometeo.Utils.gutils as vis\n",
        "import math\n",
        "import matplotlib.pyplot as plt\n",
        "import matplotlib.patches as pc\n",
        "from sympy import limit, Symbol, oo\n",
        "\n",
        "\n",
        "%matplotlib inline"
      ],
      "execution_count": 1,
      "outputs": [
        {
          "output_type": "stream",
          "text": [
            "Cloning into 'Prometeo'...\n",
            "remote: Enumerating objects: 2648, done.\u001b[K\n",
            "remote: Counting objects: 100% (69/69), done.\u001b[K\n",
            "remote: Compressing objects: 100% (41/41), done.\u001b[K\n",
            "remote: Total 2648 (delta 45), reused 26 (delta 26), pack-reused 2579\u001b[K\n",
            "Receiving objects: 100% (2648/2648), 23.02 MiB | 20.70 MiB/s, done.\n",
            "Resolving deltas: 100% (1621/1621), done.\n"
          ],
          "name": "stdout"
        }
      ]
    },
    {
      "cell_type": "markdown",
      "metadata": {
        "id": "S0MiAh86xToz"
      },
      "source": [
        "## **Introducción**"
      ]
    },
    {
      "cell_type": "markdown",
      "metadata": {
        "id": "-a0YNz-Oxdp4"
      },
      "source": [
        "En general las finanzas hacen referencia todo lo relacionado con recursos monetarios, como ciencia estudia la forma de administrar de la mejor manera los recursos monetarios para su máximo aprovechamiento.\n",
        "Por otro lado un mercado es un espacio no necesariamente físico en el que se da el intercambio de un bien o servicio a cambio  o con un precio acordado."
      ]
    },
    {
      "cell_type": "markdown",
      "metadata": {
        "id": "asXHhPRFyNN9"
      },
      "source": [
        "##Definición de mercado financiero\n",
        "\n",
        "Los mercados financieros son espacios en los que se compra y vende dinero (en todas sus formas) , esta compra-venta realmente se formaliza como financiamiento ya que los entes que tienen excedentes de dinero buscan venderlo (invertirlo) a los entes que requieren comprarlo (financiarse).\n",
        "\n",
        "El precio pactado en esta compra-venta es la tasa de interés, estas quedan pactadas a través de contratos denominados \"Instrumentos financieros\".\n",
        "\n",
        "Los entes que venden dinero se conocen como inversionistas, los que compran son emisores y se regulan por un intermediario financiero."
      ]
    },
    {
      "cell_type": "markdown",
      "metadata": {
        "id": "DxBUsO_TznRo"
      },
      "source": [
        "## Clasificación de los mercados financieros\n",
        "\n",
        "-  Por el medio de financiamiento.\n",
        "- Mercado de deuda: en este mercado el financiamiento es a través de la emisión de titulos que avalan que los emisores tienen un endeudamiento con los inversionistas sin otrorgar derechos sobre los bienes de los emisores.\n",
        "- Mercado de acciones: Da financiamiento a través de la emisión de acciones que son títulos que otorgan a los poseedores la cantidad de socios de una empresa a cambio de su capital, los emisores no se endeudan pero ceden derecho de participación en la empresa "
      ]
    }
  ]
}
{
  "nbformat": 4,
  "nbformat_minor": 0,
  "metadata": {
    "colab": {
      "name": "Introducción mdos y bonos.ipynb",
      "provenance": [],
      "toc_visible": true,
      "authorship_tag": "ABX9TyMGbEZiY1KisiEoiiMhCz/O",
      "include_colab_link": true
    },
    "kernelspec": {
      "name": "python3",
      "display_name": "Python 3"
    },
    "language_info": {
      "name": "python"
    }
  },
  "cells": [
    {
      "cell_type": "markdown",
      "metadata": {
        "id": "view-in-github",
        "colab_type": "text"
      },
      "source": [
        "<a href=\"https://colab.research.google.com/github/jugernaut/Prometeo/blob/desarrollo/05_Finanzas/04_Mercados%20Financieros%20/Introducci%C3%B3n_mercados_y_bonos.ipynb\" target=\"_parent\"><img src=\"https://colab.research.google.com/assets/colab-badge.svg\" alt=\"Open In Colab\"/></a>"
      ]
    },
    {
      "cell_type": "markdown",
      "metadata": {
        "id": "CiIXLXDs-5u0"
      },
      "source": [
        "\n",
        "# Mercados financieros y bonos\n",
        "### Trabajo realizado con el apoyo del Programa UNAM-DGAPA-PAPIME \n",
        "\n",
        "*   Autor: \n",
        "    - Ocampo Nava Maria Fernanda \n",
        "\n",
        "*   Rev: lunes 31 de Mayo 2021 "
      ]
    },
    {
      "cell_type": "code",
      "metadata": {
        "colab": {
          "base_uri": "https://localhost:8080/"
        },
        "id": "KZDjq0HT_ID1",
        "outputId": "e0e3638c-15dd-4439-a32e-babfacde79f0"
      },
      "source": [
        "!git clone https://github.com/jugernaut/Prometeo.git\n",
        "import os\n",
        "import Prometeo.Utils.gutils as vis\n",
        "import math\n",
        "import matplotlib.pyplot as plt\n",
        "import matplotlib.patches as pc\n",
        "from sympy import limit, Symbol, oo\n",
        "\n",
        "\n",
        "%matplotlib inline"
      ],
      "execution_count": null,
      "outputs": [
        {
          "output_type": "stream",
          "text": [
            "Cloning into 'Prometeo'...\n",
            "remote: Enumerating objects: 2648, done.\u001b[K\n",
            "remote: Counting objects: 100% (69/69), done.\u001b[K\n",
            "remote: Compressing objects: 100% (41/41), done.\u001b[K\n",
            "remote: Total 2648 (delta 45), reused 26 (delta 26), pack-reused 2579\u001b[K\n",
            "Receiving objects: 100% (2648/2648), 23.02 MiB | 20.70 MiB/s, done.\n",
            "Resolving deltas: 100% (1621/1621), done.\n"
          ],
          "name": "stdout"
        }
      ]
    },
    {
      "cell_type": "markdown",
      "metadata": {
        "id": "S0MiAh86xToz"
      },
      "source": [
        "## **Introducción**"
      ]
    },
    {
      "cell_type": "markdown",
      "metadata": {
        "id": "-a0YNz-Oxdp4"
      },
      "source": [
        "En general las finanzas hacen referencia todo lo relacionado con recursos monetarios, como ciencia estudia la forma de administrar de la mejor manera los recursos monetarios para su máximo aprovechamiento.\n",
        "Por otro lado un mercado es un espacio no necesariamente físico en el que se da el intercambio de un bien o servicio a cambio  o con un precio acordado."
      ]
    },
    {
      "cell_type": "markdown",
      "metadata": {
        "id": "asXHhPRFyNN9"
      },
      "source": [
        "##Definición de mercado financiero\n",
        "\n",
        "Los mercados financieros son espacios en los que se compra y vende dinero (en todas sus formas) , esta compra-venta realmente se formaliza como financiamiento ya que los entes que tienen excedentes de dinero buscan venderlo (invertirlo) a los entes que requieren comprarlo (financiarse).\n",
        "\n",
        "El precio pactado en esta compra-venta es la tasa de interés, estas quedan pactadas a través de contratos denominados \"Instrumentos financieros\".\n",
        "\n",
        "Los entes que venden dinero se conocen como inversionistas, los que compran son emisores y se regulan por un intermediario financiero."
      ]
    },
    {
      "cell_type": "markdown",
      "metadata": {
        "id": "DxBUsO_TznRo"
      },
      "source": [
        "## Clasificación de los mercados financieros\n",
        "\n",
        "-  Por el medio de financiamiento.\n",
        "- Mercado de deuda: en este mercado el financiamiento es a través de la emisión de titulos que avalan que los emisores tienen un endeudamiento con los inversionistas sin otrorgar derechos sobre los bienes de los emisores.\n",
        "- Mercado de acciones: Da financiamiento a través de la emisión de acciones que son títulos que otorgan a los poseedores la cantidad de socios de una empresa a cambio de su capital, los emisores no se endeudan pero ceden derecho de participación en la empresa.\n",
        "\n",
        "- Mercado de dinero: dentro de este se encuentra el mercado de deuda a corto lazo, es decir $\\leq 1 año.$\n",
        "\n",
        "- Mercado de capital: en este se encuentra el mercado de deuda a mediano y largo plazo, asi como el mercado accionario.\n",
        "\n",
        "Hay otras clasificaciones dependiendo:\n",
        "\n",
        "- El momento de la operación:\n",
        "     \n",
        "     - Primarios: las negociaciones se efectuan entre emisor e inversionistas, en este caso los instrumentos acaban de ser efectuados. \n",
        "     -Secundarios: las negociaciones se llevan a cabo entre inversionistas ya que se refieren a reventas (recompras) de los instrumentos anteriormente adquiridos, las operaciones dentro de esté se pueden dar de 3 formas: \n",
        "\n",
        "             -  Venta anticipada: Venta de un instrumento que ya está vigente pero se revende antes de la fecha de maduración.\n",
        "             -  Venta en directo: reventa de instrumentos que aún no han sido emitidos pero que ya se tiene conocimiento que se emitirán y los compradores apartan la cantidad de instrumentos deseados con las características requeridas.\n",
        "             -  Reporto: Venta de títulos con la promesa de recompra en una fecha futura. \n",
        "\n",
        "- Por el medio en donde se operan: \n",
        "\n",
        "      - Mercado regulado: Mercado anónimo, esisten contratos definidos con las mismas condiciones para todos los participantes, existe una cámara de compensación que entra y paga en caso de que alguna de las dos partes no lo haga.\n",
        "\n",
        "      - Mercado no regulado o extrabursátil: Existe relación directa entre los participantes, los contratos no son estandarizados y no existe cámara de compensación.\n",
        "\n",
        "\n"
      ]
    },
    {
      "cell_type": "markdown",
      "metadata": {
        "id": "fAKSKOVZSllc"
      },
      "source": [
        "## Valuación de bonos \n",
        "\n"
      ]
    },
    {
      "cell_type": "markdown",
      "metadata": {
        "id": "UxAInuC3TFWI"
      },
      "source": [
        "### Definición de bono\n",
        "\n",
        "Un bono u obligación es un instrumento del mercado de deuda que es vendido (emitido) por alguna entidad (como el Gobierno Federal) para financiarse (a través del precio) y a cambio le garantiza a los inversionistas determinado número de pagos futuros."
      ]
    },
    {
      "cell_type": "markdown",
      "metadata": {
        "id": "wfxfbs61VOZp"
      },
      "source": [
        "### Tipos de bonos\n",
        "\n",
        "- Obligación o bono simple: Títulos que garantizan una serie de pagos periódicos llamados cupones y al final un valor de retención, estos cupones son fijos (a tasa fija) a través del tiempo.\n",
        "\n",
        "- Bono cupón cero: Bono en el que no hay cupones periódicos, solo se tiene un cupón que paga al final del tiempo.\n",
        "\n",
        "- Obligación o bono indexado: Tienen el comportamiento de un bono simple pero el cupón es calculado sobre un índice, generalmente una tasa del mercado o la tasa de inflación.\n",
        "\n",
        "- Obligación con participación en dividendos : Puede ser indexado o simple y da a los poseedores participación en los dividendos aunque no sean socios.\n",
        "\n",
        "- Obligación convertible: Puede ser simple o indexada pero que otorga al poseedor la opción para que al final pueda convertir el valor de redención en un número determinado de acciones.\n",
        "\n",
        "- Obligación con warrant: Pertenece al tipo simple o indexada pero se emite con otro instrumento llamado warrant el cuál ofrece la opción de comprar un número determinado de acciones en la fecha de maduración del bono a un precio pactado desde la emisión, el warrant se puede vencer por separado."
      ]
    },
    {
      "cell_type": "markdown",
      "metadata": {
        "id": "b0jFmnrrYtH4"
      },
      "source": [
        "### Bonos del gobierno federal mexicano\n",
        "\n",
        "Los Bonos de Desarrollo del Gobierno Federal con Tasa de Interés Fija, fueron emitidos por primera vez en enero de 2000,  en la actualidad  se emiten  a 3, 5, 10, 20 y 30 años, pagan intereses cada seis meses, la tasa de interés se determina desde la emisión del instrumento y se mantiene fija a lo largo de toda la vida del mismo."
      ]
    },
    {
      "cell_type": "markdown",
      "metadata": {
        "id": "sUUv_nC0fsP5"
      },
      "source": [
        "## Valuación de bonos simples "
      ]
    },
    {
      "cell_type": "markdown",
      "metadata": {
        "id": "yT22nXbhfv17"
      },
      "source": [
        "### Definiciones principales\n",
        " "
      ]
    },
    {
      "cell_type": "markdown",
      "metadata": {
        "id": "DENnF6DfgA2B"
      },
      "source": [
        "#### Precio del bono\n",
        "Es lo que paga el inversionista para ser poseedor de instrumento, usualmente se denota por P."
      ]
    },
    {
      "cell_type": "markdown",
      "metadata": {
        "id": "sQ5jpQAygLEZ"
      },
      "source": [
        "#### Valor de redención\n",
        "\n",
        "Es el valor que paga el bono en la fecha de redención para liquidar la deuda, por lo regular se denota por C."
      ]
    },
    {
      "cell_type": "markdown",
      "metadata": {
        "id": "652eZH0Pglgp"
      },
      "source": [
        "#### Valor nominal del bono\n",
        "\n",
        "También es llamado valor par o valor facial y es el número que está impreso en el bono y sirve para calcular los upones y se denota por F."
      ]
    },
    {
      "cell_type": "markdown",
      "metadata": {
        "id": "jg4Y9iMJi8fA"
      },
      "source": [
        "### Relaciones\n",
        "\n",
        " - Cuando $P=0$ se dice que el instrumento o bono se vende  la par.\n",
        "\n",
        "- Cuando $P<C $ se dice que el instrumento o bono se vende con descuento .\n",
        "\n",
        "- Cuando $P>C $ se dice que el instrumento o bono redime con descuento .\n",
        "\n"
      ]
    },
    {
      "cell_type": "markdown",
      "metadata": {
        "id": "VoKChuNOkBR8"
      },
      "source": [
        "### Fórmulas \n",
        "\n",
        "\n",
        "El valor en libros sirve para valorar los activos que posee algún ente financiero a manera de dato contable.\n",
        "\n",
        "Por la teoría de matematicas financieras que puedes consutar en  <a href=https://github.com/jugernaut/Prometeo/blob/desarrollo/05_Finanzas/03_anualidades/anualidades.ipynb>*Anualidades*</a> , en el bono podemos pensar que tenemos una serie de pagos que podemos traer a valor presente o llevarlo al periodo de tiempo que más nos interese.\n",
        "\n",
        "Por lo anterior:\n",
        "\n",
        "$$ \\begin{equation}\n",
        "P= F_r * a_{n,i} + C* V^n\n",
        "\\end{equation}$$\n",
        "\n",
        "$$ \\begin{equation}\n",
        "P= C + a_{n,i} * (F_r - C_i)\n",
        "\\end{equation}$$\n"
      ]
    },
    {
      "cell_type": "code",
      "metadata": {
        "id": "GSziUxXmvGH0"
      },
      "source": [
        "#está función nos va a permitir  sacar el precio dados los datos necesarios\n",
        "# es importante tomar en cuenta que la tasa de interés debe ir acorde a los peridos\n",
        "\n",
        "def precio1(i,n,c,f):\n",
        "  #pedimos que nos imprima el valor del monto de acuerdo a los parámetros que proporcionamos\n",
        "  return (((1-((1+i)**(-n)))/i)*f)+(c*((1+i)**n))"
      ],
      "execution_count": 2,
      "outputs": []
    },
    {
      "cell_type": "code",
      "metadata": {
        "id": "tnaEX7klwDYK"
      },
      "source": [
        "#está función nos va a permitir  sacar el precio dados los datos necesarios\n",
        "# es importante tomar en cuenta que la tasa de interés debe ir acorde a los peridos\n",
        "\n",
        "def precio1(i,n,c,f,ci):\n",
        "  #pedimos que nos imprima el valor del monto de acuerdo a los parámetros que proporcionamos\n",
        "  return (((1-((1+i)**(-n)))/i)*(f-ci))+c"
      ],
      "execution_count": 4,
      "outputs": []
    },
    {
      "cell_type": "markdown",
      "metadata": {
        "id": "OkQrcWvGhMRQ"
      },
      "source": [
        "### Aplicaciones\n",
        "\n",
        "Suponga que se emite un bono a 5 alos con un valor nominal de $\\$1,000$ y una tasa cupón del $7\\%$ convertible semestralmente, además ofrece un rendimiento del $5\\%$ nominal trimestral y su valor de redención es de $\\$1,100$.\n",
        "¿Cuál es el precio del bono? \n",
        "\n",
        "Primero observemos que la tasa cupón nos esta indicano que tiene un periodicidad semestral, "
      ]
    }
  ]
}
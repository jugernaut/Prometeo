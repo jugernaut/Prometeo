{
  "nbformat": 4,
  "nbformat_minor": 0,
  "metadata": {
    "colab": {
      "name": "Introducción mdos y bonos.ipynb",
      "provenance": [],
      "toc_visible": true,
      "authorship_tag": "ABX9TyPK38zo/JMKOJRvPP71eIKB",
      "include_colab_link": true
    },
    "kernelspec": {
      "name": "python3",
      "display_name": "Python 3"
    },
    "language_info": {
      "name": "python"
    }
  },
  "cells": [
    {
      "cell_type": "markdown",
      "metadata": {
        "id": "view-in-github",
        "colab_type": "text"
      },
      "source": [
        "<a href=\"https://colab.research.google.com/github/jugernaut/Prometeo/blob/desarrollo/05_Finanzas/04_Mercados%20Financieros%20/Introducci%C3%B3n_mercados_y_bonos.ipynb\" target=\"_parent\"><img src=\"https://colab.research.google.com/assets/colab-badge.svg\" alt=\"Open In Colab\"/></a>"
      ]
    },
    {
      "cell_type": "markdown",
      "metadata": {
        "id": "CiIXLXDs-5u0"
      },
      "source": [
        "\n",
        "# Mercados financieros y bonos\n",
        "### Trabajo realizado con el apoyo del Programa UNAM-DGAPA-PAPIME \n",
        "\n",
        "*   Autor: \n",
        "    - Ocampo Nava Maria Fernanda \n",
        "\n",
        "*   Rev: lunes 31 de Mayo 2021 "
      ]
    },
    {
      "cell_type": "code",
      "metadata": {
        "colab": {
          "base_uri": "https://localhost:8080/"
        },
        "id": "KZDjq0HT_ID1",
        "outputId": "2732f9dd-b8f5-4ae9-91f7-2f7d850817fd"
      },
      "source": [
        "!git clone https://github.com/jugernaut/Prometeo.git\n",
        "import os\n",
        "import Prometeo.Utils.gutils as vis\n",
        "import math\n",
        "import matplotlib.pyplot as plt\n",
        "import matplotlib.patches as pc\n",
        "import numpy as np\n",
        "from sympy import limit, Symbol, oo\n",
        "\n",
        "\n",
        "%matplotlib inline"
      ],
      "execution_count": null,
      "outputs": [
        {
          "output_type": "stream",
          "text": [
            "fatal: destination path 'Prometeo' already exists and is not an empty directory.\n"
          ],
          "name": "stdout"
        }
      ]
    },
    {
      "cell_type": "markdown",
      "metadata": {
        "id": "S0MiAh86xToz"
      },
      "source": [
        "## **Introducción**"
      ]
    },
    {
      "cell_type": "markdown",
      "metadata": {
        "id": "-a0YNz-Oxdp4"
      },
      "source": [
        "En general las finanzas hacen referencia todo lo relacionado con recursos monetarios, como ciencia estudia la forma de administrar de la mejor manera los recursos monetarios para su máximo aprovechamiento.\n",
        "Por otro lado un mercado es un espacio no necesariamente físico en el que se da el intercambio de un bien o servicio a cambio  o con un precio acordado."
      ]
    },
    {
      "cell_type": "markdown",
      "metadata": {
        "id": "asXHhPRFyNN9"
      },
      "source": [
        "##Definición de mercado financiero\n",
        "\n",
        "Los mercados financieros son espacios en los que se compra y vende dinero (en todas sus formas) , esta compra-venta realmente se formaliza como financiamiento ya que los entes que tienen excedentes de dinero buscan venderlo (invertirlo) a los entes que requieren comprarlo (financiarse).\n",
        "\n",
        "El precio pactado en esta compra-venta es la tasa de interés, estas quedan pactadas a través de contratos denominados \"Instrumentos financieros\".\n",
        "\n",
        "Los entes que venden dinero se conocen como inversionistas, los que compran son emisores y se regulan por un intermediario financiero."
      ]
    },
    {
      "cell_type": "markdown",
      "metadata": {
        "id": "DxBUsO_TznRo"
      },
      "source": [
        "## Clasificación de los mercados financieros\n",
        "\n",
        "-  Por el medio de financiamiento.\n",
        "- Mercado de deuda: en este mercado el financiamiento es a través de la emisión de titulos que avalan que los emisores tienen un endeudamiento con los inversionistas sin otrorgar derechos sobre los bienes de los emisores.\n",
        "- Mercado de acciones: Da financiamiento a través de la emisión de acciones que son títulos que otorgan a los poseedores la cantidad de socios de una empresa a cambio de su capital, los emisores no se endeudan pero ceden derecho de participación en la empresa.\n",
        "\n",
        "- Mercado de dinero: dentro de este se encuentra el mercado de deuda a corto lazo, es decir $\\leq 1 año.$\n",
        "\n",
        "- Mercado de capital: en este se encuentra el mercado de deuda a mediano y largo plazo, asi como el mercado accionario.\n",
        "\n",
        "Hay otras clasificaciones dependiendo:\n",
        "\n",
        "- El momento de la operación:\n",
        "     \n",
        "     - Primarios: las negociaciones se efectuan entre emisor e inversionistas, en este caso los instrumentos acaban de ser efectuados. \n",
        "     -Secundarios: las negociaciones se llevan a cabo entre inversionistas ya que se refieren a reventas (recompras) de los instrumentos anteriormente adquiridos, las operaciones dentro de esté se pueden dar de 3 formas: \n",
        "\n",
        "             -  Venta anticipada: Venta de un instrumento que ya está vigente pero se revende antes de la fecha de maduración.\n",
        "             -  Venta en directo: reventa de instrumentos que aún no han sido emitidos pero que ya se tiene conocimiento que se emitirán y los compradores apartan la cantidad de instrumentos deseados con las características requeridas.\n",
        "             -  Reporto: Venta de títulos con la promesa de recompra en una fecha futura. \n",
        "\n",
        "- Por el medio en donde se operan: \n",
        "\n",
        "      - Mercado regulado: Mercado anónimo, esisten contratos definidos con las mismas condiciones para todos los participantes, existe una cámara de compensación que entra y paga en caso de que alguna de las dos partes no lo haga.\n",
        "\n",
        "      - Mercado no regulado o extrabursátil: Existe relación directa entre los participantes, los contratos no son estandarizados y no existe cámara de compensación.\n",
        "\n",
        "\n"
      ]
    },
    {
      "cell_type": "markdown",
      "metadata": {
        "id": "fAKSKOVZSllc"
      },
      "source": [
        "## Valuación de bonos \n",
        "\n"
      ]
    },
    {
      "cell_type": "markdown",
      "metadata": {
        "id": "UxAInuC3TFWI"
      },
      "source": [
        "### Definición de bono\n",
        "\n",
        "Un bono u obligación es un instrumento del mercado de deuda que es vendido (emitido) por alguna entidad (como el Gobierno Federal) para financiarse (a través del precio) y a cambio le garantiza a los inversionistas determinado número de pagos futuros."
      ]
    },
    {
      "cell_type": "markdown",
      "metadata": {
        "id": "wfxfbs61VOZp"
      },
      "source": [
        "### Tipos de bonos\n",
        "\n",
        "- Obligación o bono simple: Títulos que garantizan una serie de pagos periódicos llamados cupones y al final un valor de retención, estos cupones son fijos (a tasa fija) a través del tiempo.\n",
        "\n",
        "- Bono cupón cero: Bono en el que no hay cupones periódicos, solo se tiene un cupón que paga al final del tiempo.\n",
        "\n",
        "- Obligación o bono indexado: Tienen el comportamiento de un bono simple pero el cupón es calculado sobre un índice, generalmente una tasa del mercado o la tasa de inflación.\n",
        "\n",
        "- Obligación con participación en dividendos : Puede ser indexado o simple y da a los poseedores participación en los dividendos aunque no sean socios.\n",
        "\n",
        "- Obligación convertible: Puede ser simple o indexada pero que otorga al poseedor la opción para que al final pueda convertir el valor de redención en un número determinado de acciones.\n",
        "\n",
        "- Obligación con warrant: Pertenece al tipo simple o indexada pero se emite con otro instrumento llamado warrant el cuál ofrece la opción de comprar un número determinado de acciones en la fecha de maduración del bono a un precio pactado desde la emisión, el warrant se puede vencer por separado."
      ]
    },
    {
      "cell_type": "markdown",
      "metadata": {
        "id": "b0jFmnrrYtH4"
      },
      "source": [
        "### Bonos del gobierno federal mexicano\n",
        "\n",
        "Los Bonos de Desarrollo del Gobierno Federal con Tasa de Interés Fija, fueron emitidos por primera vez en enero de 2000,  en la actualidad  se emiten  a 3, 5, 10, 20 y 30 años, pagan intereses cada seis meses, la tasa de interés se determina desde la emisión del instrumento y se mantiene fija a lo largo de toda la vida del mismo."
      ]
    },
    {
      "cell_type": "markdown",
      "metadata": {
        "id": "sUUv_nC0fsP5"
      },
      "source": [
        "## Valuación de bonos simples "
      ]
    },
    {
      "cell_type": "markdown",
      "metadata": {
        "id": "yT22nXbhfv17"
      },
      "source": [
        "### Definiciones principales\n",
        " "
      ]
    },
    {
      "cell_type": "markdown",
      "metadata": {
        "id": "DENnF6DfgA2B"
      },
      "source": [
        "#### Precio del bono\n",
        "Es lo que paga el inversionista para ser poseedor de instrumento, usualmente se denota por P."
      ]
    },
    {
      "cell_type": "markdown",
      "metadata": {
        "id": "sQ5jpQAygLEZ"
      },
      "source": [
        "#### Valor de redención\n",
        "\n",
        "Es el valor que paga el bono en la fecha de redención para liquidar la deuda, por lo regular se denota por C."
      ]
    },
    {
      "cell_type": "markdown",
      "metadata": {
        "id": "652eZH0Pglgp"
      },
      "source": [
        "#### Valor nominal del bono\n",
        "\n",
        "También es llamado valor par o valor facial y es el número que está impreso en el bono y sirve para calcular los upones y se denota por F."
      ]
    },
    {
      "cell_type": "markdown",
      "metadata": {
        "id": "jg4Y9iMJi8fA"
      },
      "source": [
        "### Relaciones\n",
        "\n",
        " - Cuando $P=0$ se dice que el instrumento o bono se vende  la par.\n",
        "\n",
        "- Cuando $P<C $ se dice que el instrumento o bono se vende con descuento .\n",
        "\n",
        "- Cuando $P>C $ se dice que el instrumento o bono redime con descuento .\n",
        "\n"
      ]
    },
    {
      "cell_type": "markdown",
      "metadata": {
        "id": "VoKChuNOkBR8"
      },
      "source": [
        "### Fórmulas \n",
        "\n",
        "\n",
        "El valor en libros sirve para valorar los activos que posee algún ente financiero a manera de dato contable.\n",
        "\n",
        "Por la teoría de matematicas financieras que puedes consutar en  <a href=https://github.com/jugernaut/Prometeo/blob/desarrollo/05_Finanzas/03_anualidades/anualidades.ipynb>*Anualidades*</a> , en el bono podemos pensar que tenemos una serie de pagos que podemos traer a valor presente o llevarlo al periodo de tiempo que más nos interese.\n",
        "\n",
        "Por lo anterior:\n",
        "\n",
        "$$ \\begin{equation}\n",
        "P= F_r * a_{n,i} + C* V^n\n",
        "\\end{equation}$$\n",
        "\n",
        "donde $V= \\frac{1}{1+i}^{n}$\n",
        "\n",
        "\n",
        "$$ \\begin{equation}\n",
        "P= C + a_{n,i} * (F_r - C_i)\n",
        "\\end{equation}$$\n"
      ]
    },
    {
      "cell_type": "code",
      "metadata": {
        "id": "GSziUxXmvGH0"
      },
      "source": [
        "#está función nos va a permitir  sacar el precio dados los datos necesarios\n",
        "# es importante tomar en cuenta que la tasa de interés debe ir acorde a los peridos\n",
        "\n",
        "def precio1(i,n,c,f):\n",
        "  #pedimos que nos imprima el valor del monto de acuerdo a los parámetros que proporcionamos\n",
        "  return (((1-((1+i)**(-n)))/i)*f)+(c*((1+i)**n))\n",
        "\n",
        "  "
      ],
      "execution_count": null,
      "outputs": []
    },
    {
      "cell_type": "code",
      "metadata": {
        "id": "8lTTQNDMdLRY",
        "colab": {
          "base_uri": "https://localhost:8080/"
        },
        "outputId": "8e8a5f63-74d8-4cbc-95fc-bca3df1dcefd"
      },
      "source": [
        "# hagamos \n",
        "#F = 1000 # valor de depositos\n",
        "#C=40\n",
        "#i = .06   # tasa de interes\n",
        "#n = 10    # cantidad de años\n",
        "precio1(0.06,10,40,1000)"
      ],
      "execution_count": null,
      "outputs": [
        {
          "output_type": "execute_result",
          "data": {
            "text/plain": [
              "7431.720959276417"
            ]
          },
          "metadata": {
            "tags": []
          },
          "execution_count": 3
        }
      ]
    },
    {
      "cell_type": "code",
      "metadata": {
        "id": "tnaEX7klwDYK"
      },
      "source": [
        "#está función nos va a permitir  sacar el precio dados los datos necesarios\n",
        "# es importante tomar en cuenta que la tasa de interés debe ir acorde a los peridos\n",
        "\n",
        "def precio2(i,n,c,f,ci):\n",
        "  #pedimos que nos imprima el valor del monto de acuerdo a los parámetros que proporcionamos\n",
        "  return (((1-((1+i)**(-n)))/i)*(f-ci))+c"
      ],
      "execution_count": null,
      "outputs": []
    },
    {
      "cell_type": "code",
      "metadata": {
        "id": "UXW--VoAeDNS",
        "colab": {
          "base_uri": "https://localhost:8080/"
        },
        "outputId": "734b9d73-13d5-4c50-aca3-0115ef88afa5"
      },
      "source": [
        "# hagamos \n",
        "#F = 1000 # valor de depositos\n",
        "#C=400\n",
        "# ci = 50\n",
        "#i = .06   # tasa de interes\n",
        "#n = 10    # cantidad de años\n",
        "precio2(0.06,10,400,1000,50)"
      ],
      "execution_count": null,
      "outputs": [
        {
          "output_type": "execute_result",
          "data": {
            "text/plain": [
              "7392.082698843968"
            ]
          },
          "metadata": {
            "tags": []
          },
          "execution_count": 5
        }
      ]
    },
    {
      "cell_type": "markdown",
      "metadata": {
        "id": "rEo_SpuaiZY8"
      },
      "source": [
        "### Tasa cupón modificada\n",
        "\n",
        "\n",
        "La tasa cupón modificada está denotada por g, representa que porcentaje del valor de redención es equivalente al cupón y satisface $Cg=Fr$, recordando que $Fr= F* tasa r $ donde $r$ es la tasa con la que se pagan los cupones que casi siempre es diferente a la tasa de rendimiento $i$.\n",
        "\n",
        "\n",
        "Dado lo anterior:\n",
        "\n",
        "\n",
        "$$ \\begin{equation}\n",
        "P= C+  a_{n,i}*[Cg-Ci]\n",
        "= C*[ 1 + (g-i)*a_{n,i}]\n",
        "\\end{equation}$$\n",
        "\n",
        "La anterior es la fórmula de descuento.\n",
        "\n",
        "Cuando:\n",
        "\n",
        " - Cuando $-g >i$ se dice que el bono se vende con prima.\n",
        "\n",
        "- Cuando $g<i $ se dice que el bono se vende con  descuento .\n",
        "\n",
        "- Cuando $g=i $ se dice que el bono se vende a la par .\n"
      ]
    },
    {
      "cell_type": "markdown",
      "metadata": {
        "id": "7CRJmX9SmK_G"
      },
      "source": [
        "## Aplicaciones"
      ]
    },
    {
      "cell_type": "markdown",
      "metadata": {
        "id": "OkQrcWvGhMRQ"
      },
      "source": [
        "###Ejemplo 1 \n",
        "\n",
        "Suponga que se emite un bono a 5 años con un valor nominal de $\\$1,000$ y una tasa cupón del $7\\%$ convertible semestralmente, además ofrece un rendimiento del $5\\%$ nominal trimestral y su valor de redención es de $\\$1,100$.\n",
        "¿Cuál es el precio del bono? \n",
        "\n",
        "Primero observemos que la tasa cupón nos esta indicando que tiene un periodicidad semestral, por lo que los datos son los siguientes:\n",
        "\n",
        "$ F=\\$1,000$\n",
        "\n",
        "$ C=\\$1,100$\n",
        "\n",
        "$ g=7 \\% $ convertible semestral\n",
        "\n",
        "$ i=5 \\% $ nóminal trimestral\n",
        "\n",
        "$n=10$\n",
        "\n",
        "entonces obtenemos el valor del cupón (Fr) al multiplicar $ \\$1,000 *3.5 \\% $\n",
        "\n",
        "![bono.PNG](data:image/png;base64,iVBORw0KGgoAAAANSUhEUgAAAicAAACwCAYAAADUrM4PAAAAAXNSR0IArs4c6QAAAARnQU1BAACxjwv8YQUAAAAJcEhZcwAADsMAAA7DAcdvqGQAABRESURBVHhe7d1di2TXdYfx+S79CQIGXwR0JRhDwJALQyBgyEUgg8EXBkPABGEbgRsRRGwMxgQRGdstYhOcYBuTBF9ohDEOxEbIQZCMbUSCEyzNW2vcGs1LRat01mj3ntJ0d1V172eden5wUJ+aEbN6nTp7/2vv6q5LC0mSJBDDiSRJQjGcSJIkFMOJJElCMZxIkiQUw4kkSUIxnEiSJBTDiSRJQjGcSJIkFMOJJElCMZxIkiQUw4kkSUIxnEiSJBTDiSRJQjGcSJIkFMOJJElCMZxIkiQUw4kkSUIxnEiSJBTDiSRJQjGcSJIkFMOJJElCMZxIkiQUw4kkSUIxnEiSJBTDiSRJQjGcSJIkFMOJJElCMZxIkiQUw4kkSUIxnEiSJBTDiSRJQjGcSJIkFMOJJElCMZxIkiQUw4kkSUIxnEiSJBTDiSRJQjGcSJI02KVLl5aH3mcnVvBJIkm6SM47x9mJFao9SXxSS9oVcx3vHMePQ3WCcnGqPUlo9VbrH5V93A1e57OZa798HhyH6gTl4lR7ktDqrdQ/cq0V+lihxkStld5DWn30fq1rrt/XulCdoFycak8SWr2V+keutUIfK9SYqLXSe0irj96vdc31+1oXqhOUi1PtSUKrt1L/yLVW6GOFGhO1VnoPafXR+7WuuX5f60J1gnJxqj1JaPVW6h+51gp9rFBjotZK7yGtPnq/1jX6+6L1FXWFKc2hXaST0Oqt1D9yrRX6WKHGRK2V3kNaffR+rWv090XrK+oKU5pDu0gnodVbqX/kWiv0sUKNiVorvYe0+uj9Wtfo74vWV9QVpjSHdpFOQqu3Uv/ItVboY4UaE7VWeg9p9dH7ta7R3xetr6grTGkO7SKdhFZvpf6Ra63Qxwo1Jmqt9B7S6qP3a12jvy9aX1FXmNIc2kU6Ca3eSv0j11qhjxVqTNRa6T2k1Ufv17pGf1+0vqKucDbHw8PDw8PD4+IPCsOJh4eHh4eHx/KgQIaT0WgX6SS0eiv1j1xrhT5WqDFRa6X3kFYfvV/rGv190fqKusKU5tAu0klo9VbqH7nWCn2sUGOi1krvIa0+er/WNfr7ovUVdYUpzaFdpJPQ6q3UP3KtFfpYocZErZXeQ1p99H6ta/T3Resr6gpTmkO7SCeh1Vupf+RaK/SxQo2JWiu9h7T66P1a1+jvi9ZX1BWmNId2kU5Cq7dS/8i1VuhjhRoTtVZ6D2n10fu1rtHfF62vqCtMaQ7tIp2EVm+l/pFrrdDHCjUmaq30HtLqo/drXaO/L1pf53eFt4B2kU6Ce1IV6h+51gp9rFBjotZK7yGtPnq/tB1e4Rlw8FgfudYKfaxQY6LWSu8hrT56v7QdXmFtXaXBg1xrhT5WqDFRa6X3kF6f5slnnHaaA+9mKvXPa70e+6YRfMZJkiQUw4kkSUIxnEiSJBTDiSRJQjGcSJIkFMOJJElCGRZOLl++/OhH1OJrSZLmaG9vbznXXbt2bXpktZwXr169Oj3yvvz/47hy5cr06Pvy8Tj29/enR+sbEk6igdHIuFBxzK2pkiTl/JbHk8JJ+/facBJhJB4L8Xh8fXBwsDyPMBPBJcRj/f9b2ZBwEs1sV0v6c0mSqovAEHNbBowPCycRKGIezBfubcCI83a1JM/7F/Zze6E/JJxEA/twkulvpKghantSuqWI/kWtcfTLfKNk//rrK0m77KRwkvpwkoGjDycxvuYqSh9OKPPBpgwn78mLmgc9nMSTL5+8+aRvk/YIbU2r0r8k7aocpw0np+e2zntOu/RGlE/m3IMkqNDH7Fsckh7nSuj2rBtOQpz34STOM4z04STPqxsyMueFCn36G6nCpNqLQYNSc9SRB3nVJG/i7B1JG5ryoD0f857NgxSMW+3kmkc7yBO0tY1cPe7FvZH1kMboqlbNLe08mPL+b8fP9lrkm17znovHMziu+n8rGzYytwMHZcCoFk76JypF3iTUwSxu5rjWqwaH0bJ3VFUnqqybdK+0z78MzJS+tpNeiNoo43TOHf04HY/lQelj3s/tkX1dFTraI/8stI+331s+b/KgzQWb4I6CA1QKJ/lkJk4SecNQBrNW9i1qNJycHbFnpxETAa3utiZa6IuJsZ8c27AyQj8Rt+P0qomevoIQNRLHb4p6o8w5qhJOiK9e24GLHJxiAMvQRA4neYyeEHo5obYHfRKghuV+siXVl2NMe4x+Lsa4EjX043T2Mceb/pwovpc2/OlxiJH56JUXp6/G6CeEOGiTQmvVBEGot62HODD0k0F7EBFDXjzP2kE1vibfK6GfzChWBQBq0IvaKM/D/nr2L9byPqeFUZ0NYlS+8dd/tHh458Z0Jl2MHOSoiINsH076c6LoITFA9cGOWict3BlOdgNiZL75lU8sHtz4n+lMuhj0cBKDbdQXKygUWVO+wqdPAsQepqiLGk7y3siDEkxCH04yjPThJM9VE2Jkvv3Cny/uvfHqdDbO73/8tekraYyYnHJCoA6wbY3EV/qtWJ2gruz02zr0FSiKPpyEdhWqD9CqiRFOvvGpxbu/+rfpbJy3/uoPpq8kSSQZOtojA0muluRBXCnT2SDCydv/8Mzi7i9+MJ2NUzmcuOojSZoLRjj53hcW7/z7P05n41QOJ676SBJPbDn1Kz2h3R6Nw22944aFk3u/+flyKydCyeG3P7N830m8+o9VlDv//OXpb12syhP8jf2np68kSQTx/ph870v/XpgIJ21Y0XHDwsnb//TsMgysOkZtUcS/XdHDe3eXP45N4jaTJH2gfyOv4eTJhoWT+L0m15996rFg8tYzH1k8OHxz+lsXq2o4iR/DpoWTqr2UpG1qt27anyDqt3X80efjhr7n5J2ffed4MHnvOHzps9OfXryqE2qEk/hdMSRuM82bK2PbYy93Q27rrAohuarijz9/YOwbYh/cX06qbTgZ+SPFlcNJvGeHgrjNVA19wqp2r5D7WXXc0dnkjztHEOnlR1X4I9AfGBtO3hNvjM1gMvrVf9VBIgIdKZwQt5l6Tv6bqbYyRu4nvZeu7KyvfU9JBpBVKye5xdP+YrldNzychMO//8vl4HH005emR8YwnGwHcZup5+S/voorY9R+Vugl/l6B9y9CRx5tMGkfj8MtneMQ4eTBrf9dDh4P796ZHhmjcjiJH8GmoG0zreLkv74KK2Mtcj8r9JK+shP9Gz13aPsQ4YSiaji5++qPUOGEtpLTc/LfzHJl7G/+eDrjI/dz2UvwKmOFlZ2oL/qoeTGcNKqGk/hFdoaT0ysx+YMnrKiPvjLWIveT3kv6vRIMJ/NkOGlUDiejfqvuKrRtph55sgr0CSvexF4tnFDrrRDk6e8fM5zMk+GkUTWcHP3kW6h31NO2mXr0yZ8+YdHr65HrrRBO6Nf61tc/aTiZIcNJo2o4iWBCCie0baaek/9mor7D735uOuOjhxPvlc1EfYaT+TGcNCqHk6NXXpzOxqNtM/UqTP7kCevua/+Crq9H7id9lbFKOLn/u19PZ5oLw0mjajiJIBCBgIK2zdTDT/7wCYu+MtYj97PCKiP9Wkc4iTo1L4aTRtVwEoMHKZzQtpl6Tv6bifrufP9L0xkfuZ/LXoJXGen3SjCczNNOh5P7v3390UQaR4ST9vzeG69Of5ONGE5I20y9EpM/eMKKD+yMa1wFuZ/0VUb6vRIMJ/O00+Hk4dHtxfVnn1qGkv64/vmPLh4cvjn9TbYYPEg3J22bqUef/OkTVtRWKZyQ+0nvJf1eCbf/7i8MJzM0JJzs7e09+jyB9oOR8sOP8oi/d95iYFgVTu788Lnpb/DRXjnQVnJ6Tv6bodfXI9cbdZFXGen3SqC9ONN2XHg4iY+Lzg84ig9BihCS5xFO2rByEVatnlRaNQmGk7MhT1aBPmFFfeTr2yP3k77KSL9XguFknoZu60RQiXCSHxM9IpyEuPnacFJp1SREOLn/f/85nY1HHyzIk1WgT1j08Nkj97NCkCffK6Ha81GnMySctFs37cdE99s67cdLn6d29aTaqkm4+fzHUb+EiP4GNSf/zVSbDMj10ntJv1eC4WSehq6c5LbOqhCSqypteDlPuXpSbdUk0D5bgh5OnPw3E/W9+/rL0xkfuZ/LXnqvbKRCjTq7oeEktnMigEQQ6R0cHCz/LP57EWL15Mb+0+VWTcIynIDqpm0z9eiDGX3Cuv3NT6Pr65H7aZDfnOFkni48nLTvKckAsmrlJLd48v0oF6Hqr0C+/sU/nL5ioG0z9fCTP3zCotfXI9dbIZzQr3WsdhtO5mf4e07aYNI+HsdFbelUF9tRJPSPMHfy30zUd+83P5/O+OjhhLzKSH8uhtiSN5zMz9BtHW0HMpyAt8cqTP7kCevW1/601KfAkvtJX2WsEk6OXn5hOtNcGE6Ke3j3zuLGcx+bzhho20w9+uRPn7DoK2M9cj8rrDKS75UQ4SQOzYvhpLgY2GKAI6Gt5PSc/DdTLZyQ613WBl5lpN8rwXAyT4aT4mLgMJycTYnJHzxhRX0P792dzvjI/aSvMtLvlWA4mSfDSXH333pjcfOrfzKdjUfcZurRJ3/6hEUPnz1yP0sEefC9Egwn82Q4KS7erBb7whTElZyek/9mqoUTcr30XtLvlfDOz75jOJkhw0lxhpOzc/LfTHzEQyXUflZYZaQ/F0P8GPGd739pOtNcGE6KW4aTb3xqOhuPts20CnnApU9YscRPD58tcj8N8tsR4SR+WZzmxXBS3N1f/AB1Y9JWcnr4yR8+YVWYUFvkeum9rLCyEwwn87Rz4WRvb+/Rb6Btf5V+/4nI8fcqoN2Y9HDi5L8Zw8n20FcZq1xrw8k87VQ4iQ8YzF+Jn5+InOcRTtqwUgUynIC2mXr0AZc+YcUv5Lr1t382nfGR+2mQ3w7DyTzt7LZOBJUIJ/nBglXDydErLy5+/69fnc7Go20z9eiTP33CotfXI9dL72WF948F+pij9excOGm3btoPFuy3dVZ9UjIR7Wf86a9inPw3YzjZnmVt4FXGKtc66jx86bPTmeZiZ1dOcltnVQjJVZUKn4psODkb+oCLn7D+66eL29/89HTGR+4n/RV/pXBSKTDrdHY2nMR2TgSQCCK9g4OD5Z/Ff+nu/Oj5xdFPvjWdjUfbZurRJ3/6hFVtf5/czxJBHnyvJMPJPO1UOGnfU5IBZNXKSW7x5PtRyGJwi0GOgraS03Py30y1cEKul97LKu/lMJzM006/56QNJu3jcVC3dOID197+3heWKyYRAuINa4ff/dxyoIsjlt1HoocT+oRgfdtFrpe+yljlWhtO5mlnt3UqO/z2Z5a/uXHVEQPKSLRtph59wKVPWEcvv4AOnz1yPw3y22E4mSfDSUH3/vuXK4PJ8sf+Htyf/tYYMZiNDkhPQp/86RMWvb4euV56L+n3Srr/29cXt77+yelMc2E4KSpeKfTh5N3XX57+9OLQt5l69AnB+raLXC99lbHKta72W4t1OoaTou7+x4+PBZORy5rkbaYefcClT1h3fvgcur4euZ/0VUbyvRKrx/kCKJ6T15996lG9cURgUW2Gk8JufuUTj0LAvTdenR69eORtph598qdPWPT6eqR6q60yku+V2MpZNebEcfP5j+PGHZ2d4aSwGNDiZoyVi9Eo20wnoU2u9Amr2oRKr7fSKiM9iMZ1rdBHrcdwUlgMxPGR5vEZGKORtplaFSZX+oRVaUIN5HrJq4zVgmiMe28985Fjfbyx//Ty+1B9hpPi7v/u19NX41G2mXr0yZW+LVZp2y7Q6yWvMlYLorG609ZY6f1QejLDibYmBq8YIGKAI6kwudK3xaps2yVyvdRVxlAtiMYbX69//qPLGl01mRfDibaGtM3Uo0+u5Akr0Ovr0eulrjIG+r3Si5/WiRpjK0rzYTjRVpG2mVoVJlfyhBXo9fXI9VJXGUO1IPrg8M33V02Obk+PaA4MJ9oZ9MmVPGEFen09cr3kVcZQLYhSXxRpfYYT7Qz65EqfsOj19ej1kifUakFU82M4kUDorwCrvUL1FfV6qgVRzY/hRJL0GIOdRjKcSJIkFMOJJElCMZxIkiQUw4kkSUIxnBSxt7e3uHTp0vK4fPny9Ohi+XU+Hkf8PUmSKjOcFHDlypXF1atXl1/v7+8vQ0ieRzhpw4okSdUZToqJoBLh5Nq1a8tzw4kkaW4MJ0W0Wze5ahL6bZ1YWZEkqTLDSTG5rbMqhOSqShteton4vhffiyNJ82M4KSa2c2KyjSDSOzg4WP5Z/HfbiO978b040m7xxcjuMJwU0N6EGUBWrZzkDZrvRzkvxPe9EGuStD2+GNkthpMi4kbMow0m7eNx5M16Hj7s34lBof2zVcHpvLT/LqUmSefLFyPzZzjRmeWrllUTfg4a5xmSViHWpPPj8v5uaq+tL0bmzXCiMxv1vpcnIdb0JE6u64trnBNThtI8j/61/RzF63u+fDEyf4YTnUo7wBLe9xKINZ1Ghcm1ipyISMv7Xt/zV+3FiM7OcKJTixs+jzYEtI/HcZGvWNp/l1LTWRAn10B/5d/W0F7bvr5VYfUieX23p62z0osRrcdwIg3QTgC0ybXSK/+sb1WfMhiMCKZ5/fp/3+u7mQ/rXft4HCOuubbLcCINRJ1cE/WVf6Iv73t9pfUYTqSBqJNr/Lt5tJNnTFztn62adM9bO3nSl/e9vtJ6DCfSBas0uUZdH1bfyFf+8e/m0dbWPh7HiNq8vtLmDCfSADHo50GbXFvUV/507TX0+kpnZziRdEylV/46O6+vKjCcSHpMTEp5kF/5az3tNfT6ishwIkmSUAwnkiQJxXAiSZJQDCeSJAnFcCJJklAw4eS1116bvtI67N9m7J9Ul/fvZoj9M5zMhP3bjP3TSD7/NmP/NkPsn+FkJuzfZuyfRvL5txn7txli/wwnM2H/NmP/NmP/NmP/NmP/NsPr32Lx/0pgdgIEVlySAAAAAElFTkSuQmCC)\n",
        "\n",
        "\n",
        "Por la teoría de matematicas financieras:\n",
        "\n",
        "\n",
        "$$ \\begin{equation}\n",
        "P= F_r * a_{n,i} + C* V^n\n",
        "\\end{equation}$$\n",
        "\n",
        "Sustituyendo algunos de los datos:\n",
        "\n",
        "$$ \\begin{equation}\n",
        "P= 100*(0.035) * a_{n,i} + 100*( \\frac{1}{1+i})^{10} = 1164.084466\n",
        "\\end{equation}$$\n"
      ]
    },
    {
      "cell_type": "markdown",
      "metadata": {
        "id": "RudR6A7FmJkl"
      },
      "source": [
        ""
      ]
    },
    {
      "cell_type": "markdown",
      "metadata": {
        "id": "UtjE-lu60gCP"
      },
      "source": [
        ""
      ]
    },
    {
      "cell_type": "markdown",
      "metadata": {
        "id": "LjIeT4N1xfUx"
      },
      "source": [
        "###Ejemplo 2\n",
        "\n",
        "Calcula el monto de los cupones trimestrales que otorga un bono con valor nóminal de $150$ , plazo de $360$ días ( considere meses de 30 días), con tasa de rendimiento del $3.2 \\%$ nominal trimestral y cuyo precio es equivalente al valor futuro de una inversión realizada durante $3.5$ años a una tasa del $10\\%$ pagadera 2 veces al año de una cantidad de $150$.\n",
        "\n",
        "$F=C= 150$\n",
        "$i=3.2\\%$ nominal trimestral $\\to$ $\\frac{3.2\\%}{4}$ = efectiva trimestral\n",
        "\n",
        "por lo descrito en el problema: \n",
        "\n",
        "$$ \\begin{equation}\n",
        "150*(1+ \\frac{.10}{2})^{2(3.5)}= F_r * a_{n,i} + C* V^n\n",
        "\\end{equation}$$\n",
        "\n",
        "$$ \\begin{equation}\n",
        "211.065063 = F_r * \\frac{1-(1.008)^{-7}}{1.008} + 150*(1.008)^{-7}\n",
        "\\end{equation}$$\n",
        "\n",
        "Despejando a Fr tenemos:\n",
        "\n",
        "$Fr=10.204959$"
      ]
    },
    {
      "cell_type": "markdown",
      "metadata": {
        "id": "oe86Jnm81Q79"
      },
      "source": [
        "## Referencias\n",
        "\n",
        "\n",
        " - (31 de mayo de 2021). Consultoría linea activa. Formación empresarial on line. http://aulavirtual.afige.es/aula/NC/textos/modulo5/unidad34/pdf/modulo5ud34.pdf\n",
        " \n",
        "-  Adam Siade, J. Apuntes electrónicos de matemáticas financieras.\n",
        "- Gutierrez J, Gerardo. Apuntes de matemáticas financieras.\n",
        "- Díaz M, Alfredo.(Cuarta Edición).Matemáticas Financieras\n",
        "- Banco de México, Tipos de instrumentos y su colocación, Mercado de valores gubernamentales en México, https://www.banxico.org.mx/elib/mercado-valores-gub/OEBPS/Text/ii.html#_indice1dwn\n"
      ]
    }
  ]
}
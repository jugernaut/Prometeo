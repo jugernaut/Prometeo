{
  "nbformat": 4,
  "nbformat_minor": 0,
  "metadata": {
    "colab": {
      "name": "Introducción mdos y bonos.ipynb",
      "provenance": [],
      "authorship_tag": "ABX9TyOlh/Zxp3VrgxYiR0IEtwFz",
      "include_colab_link": true
    },
    "kernelspec": {
      "name": "python3",
      "display_name": "Python 3"
    },
    "language_info": {
      "name": "python"
    }
  },
  "cells": [
    {
      "cell_type": "markdown",
      "metadata": {
        "id": "view-in-github",
        "colab_type": "text"
      },
      "source": [
        "<a href=\"https://colab.research.google.com/github/jugernaut/Prometeo/blob/desarrollo/05_Finanzas/04_Mercados%20Financieros%20/Introducci%C3%B3n_mercados_y_bonos.ipynb\" target=\"_parent\"><img src=\"https://colab.research.google.com/assets/colab-badge.svg\" alt=\"Open In Colab\"/></a>"
      ]
    },
    {
      "cell_type": "markdown",
      "metadata": {
        "id": "CiIXLXDs-5u0"
      },
      "source": [
        "\n",
        "# Mercados financieros y bonos\n",
        "### Trabajo realizado con el apoyo del Programa UNAM-DGAPA-PAPIME \n",
        "\n",
        "*   Autor: \n",
        "    - Ocampo Nava Maria Fernanda \n",
        "\n",
        "*   Rev: lunes 31 de Mayo 2021 "
      ]
    },
    {
      "cell_type": "code",
      "metadata": {
        "colab": {
          "base_uri": "https://localhost:8080/"
        },
        "id": "KZDjq0HT_ID1",
        "outputId": "e0e3638c-15dd-4439-a32e-babfacde79f0"
      },
      "source": [
        "!git clone https://github.com/jugernaut/Prometeo.git\n",
        "import os\n",
        "import Prometeo.Utils.gutils as vis\n",
        "import math\n",
        "import matplotlib.pyplot as plt\n",
        "import matplotlib.patches as pc\n",
        "from sympy import limit, Symbol, oo\n",
        "\n",
        "\n",
        "%matplotlib inline"
      ],
      "execution_count": null,
      "outputs": [
        {
          "output_type": "stream",
          "text": [
            "Cloning into 'Prometeo'...\n",
            "remote: Enumerating objects: 2648, done.\u001b[K\n",
            "remote: Counting objects: 100% (69/69), done.\u001b[K\n",
            "remote: Compressing objects: 100% (41/41), done.\u001b[K\n",
            "remote: Total 2648 (delta 45), reused 26 (delta 26), pack-reused 2579\u001b[K\n",
            "Receiving objects: 100% (2648/2648), 23.02 MiB | 20.70 MiB/s, done.\n",
            "Resolving deltas: 100% (1621/1621), done.\n"
          ],
          "name": "stdout"
        }
      ]
    },
    {
      "cell_type": "markdown",
      "metadata": {
        "id": "S0MiAh86xToz"
      },
      "source": [
        "## **Introducción**"
      ]
    },
    {
      "cell_type": "markdown",
      "metadata": {
        "id": "-a0YNz-Oxdp4"
      },
      "source": [
        "En general las finanzas hacen referencia todo lo relacionado con recursos monetarios, como ciencia estudia la forma de administrar de la mejor manera los recursos monetarios para su máximo aprovechamiento.\n",
        "Por otro lado un mercado es un espacio no necesariamente físico en el que se da el intercambio de un bien o servicio a cambio  o con un precio acordado."
      ]
    },
    {
      "cell_type": "markdown",
      "metadata": {
        "id": "asXHhPRFyNN9"
      },
      "source": [
        "##Definición de mercado financiero\n",
        "\n",
        "Los mercados financieros son espacios en los que se compra y vende dinero (en todas sus formas) , esta compra-venta realmente se formaliza como financiamiento ya que los entes que tienen excedentes de dinero buscan venderlo (invertirlo) a los entes que requieren comprarlo (financiarse).\n",
        "\n",
        "El precio pactado en esta compra-venta es la tasa de interés, estas quedan pactadas a través de contratos denominados \"Instrumentos financieros\".\n",
        "\n",
        "Los entes que venden dinero se conocen como inversionistas, los que compran son emisores y se regulan por un intermediario financiero."
      ]
    },
    {
      "cell_type": "markdown",
      "metadata": {
        "id": "DxBUsO_TznRo"
      },
      "source": [
        "## Clasificación de los mercados financieros\n",
        "\n",
        "-  Por el medio de financiamiento.\n",
        "- Mercado de deuda: en este mercado el financiamiento es a través de la emisión de titulos que avalan que los emisores tienen un endeudamiento con los inversionistas sin otrorgar derechos sobre los bienes de los emisores.\n",
        "- Mercado de acciones: Da financiamiento a través de la emisión de acciones que son títulos que otorgan a los poseedores la cantidad de socios de una empresa a cambio de su capital, los emisores no se endeudan pero ceden derecho de participación en la empresa.\n",
        "\n",
        "- Mercado de dinero: dentro de este se encuentra el mercado de deuda a corto lazo, es decir $\\leq 1 año.$\n",
        "\n",
        "- Mercado de capital: en este se encuentra el mercado de deuda a mediano y largo plazo, asi como el mercado accionario.\n",
        "\n",
        "Hay otras clasificaciones dependiendo:\n",
        "\n",
        "- El momento de la operación:\n",
        "     \n",
        "     - Primarios: las negociaciones se efectuan entre emisor e inversionistas, en este caso los instrumentos acaban de ser efectuados. \n",
        "     -Secundarios: las negociaciones se llevan a cabo entre inversionistas ya que se refieren a reventas (recompras) de los instrumentos anteriormente adquiridos, las operaciones dentro de esté se pueden dar de 3 formas: \n",
        "\n",
        "             -  Venta anticipada: Venta de un instrumento que ya está vigente pero se revende antes de la fecha de maduración.\n",
        "             -  Venta en directo: reventa de instrumentos que aún no han sido emitidos pero que ya se tiene conocimiento que se emitirán y los compradores apartan la cantidad de instrumentos deseados con las características requeridas.\n",
        "             -  Reporto: Venta de títulos con la promesa de recompra en una fecha futura. \n",
        "\n",
        "- Por el medio en donde se operan: \n",
        "\n",
        "      - Mercado regulado: Mercado anónimo, esisten contratos definidos con las mismas condiciones para todos los participantes, existe una cámara de compensación que entra y paga en caso de que alguna de las dos partes no lo haga.\n",
        "\n",
        "      - Mercado no regulado o extrabursátil: Existe relación directa entre los participantes, los contratos no son estandarizados y no existe cámara de compensación.\n",
        "\n",
        "\n"
      ]
    },
    {
      "cell_type": "markdown",
      "metadata": {
        "id": "fAKSKOVZSllc"
      },
      "source": [
        "## Valuación de bonos \n",
        "\n"
      ]
    },
    {
      "cell_type": "markdown",
      "metadata": {
        "id": "UxAInuC3TFWI"
      },
      "source": [
        "### Definición de bono\n",
        "\n",
        "Un bono u obligación es un instrumento del mercado de deuda que es vendido (emitido) por alguna entidad (como el Gobierno Federal) para financiarse (a través del precio) y a cambio le garantiza a los inversionistas determinado número de pagos futuros."
      ]
    },
    {
      "cell_type": "markdown",
      "metadata": {
        "id": "wfxfbs61VOZp"
      },
      "source": [
        "### Tipos de bonos\n",
        "\n",
        "- Obligación o bono simple: Títulos que garantizan una serie de pagos periódicos llamados cupones y al final un valor de retención, estos cupones son fijos (a tasa fija) a través del tiempo.\n",
        "\n",
        "- Bono cupón cero: Bono en el que no hay cupones periódicos, solo se tiene un cupón que paga al final del tiempo.\n",
        "\n",
        "- Obligación o bono indexado: Tienen el comportamiento de un bono simple pero el cupón es calculado sobre un índice, generalmente una tasa del mercado o la tasa de inflación.\n",
        "\n",
        "- Obligación con participación en dividendos : Puede ser indexado o simple y da a los poseedores participación en los dividendos aunque no sean socios.\n",
        "\n",
        "- "
      ]
    },
    {
      "cell_type": "markdown",
      "metadata": {
        "id": "b0jFmnrrYtH4"
      },
      "source": [
        "### Bonos del gobierno federal mexicano\n",
        "\n",
        "Los Bonos de Desarrollo del Gobierno Federal con Tasa de Interés Fija, fueron emitidos por primera vez en enero de 2000,  en la actualidad  se emiten  a 3, 5, 10, 20 y 30 años, pagan intereses cada seis meses, la tasa de interés se determina desde la emisión del instrumento y se mantiene fija a lo largo de toda la vida del mismo."
      ]
    }
  ]
}
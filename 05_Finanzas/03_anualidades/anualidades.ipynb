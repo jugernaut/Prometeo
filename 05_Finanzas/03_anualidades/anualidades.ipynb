{
  "nbformat": 4,
  "nbformat_minor": 0,
  "metadata": {
    "colab": {
      "name": "Anualidades.ipynb",
      "provenance": [],
      "include_colab_link": true
    },
    "kernelspec": {
      "name": "python3",
      "display_name": "Python 3"
    },
    "language_info": {
      "name": "python"
    }
  },
  "cells": [
    {
      "cell_type": "markdown",
      "metadata": {
        "id": "view-in-github",
        "colab_type": "text"
      },
      "source": [
        "<a href=\"https://colab.research.google.com/github/jugernaut/Prometeo/blob/desarrollo/05_Finanzas/03_anualidades/anualidades.ipynb\" target=\"_parent\"><img src=\"https://colab.research.google.com/assets/colab-badge.svg\" alt=\"Open In Colab\"/></a>"
      ]
    },
    {
      "cell_type": "markdown",
      "metadata": {
        "id": "emUttvIG9MZF"
      },
      "source": [
        "\n",
        "# Anualidades\n",
        "### Trabajo realizado con el apoyo del Programa UNAM-DGAPA-PAPIME \n",
        "\n",
        "*   Autor: \n",
        "    - Ocampo Nava Maria Fernanda \n",
        "\n",
        "*   Rev: jueves 20 de Mayo 2021 "
      ]
    },
    {
      "cell_type": "code",
      "metadata": {
        "id": "NYWslBiL9dIw",
        "colab": {
          "base_uri": "https://localhost:8080/"
        },
        "outputId": "8e26707b-ecc7-4dbb-a07a-85224356f8f0"
      },
      "source": [
        "!git clone https://github.com/jugernaut/Prometeo.git\n",
        "import os\n",
        "import Prometeo.Utils.gutils as vis\n",
        "import math\n",
        "import matplotlib.pyplot as plt\n",
        "import matplotlib.patches as pc\n",
        "from sympy import limit, Symbol, oo\n",
        "\n",
        "\n",
        "%matplotlib inline"
      ],
      "execution_count": 1,
      "outputs": [
        {
          "output_type": "stream",
          "text": [
            "Cloning into 'Prometeo'...\n",
            "remote: Enumerating objects: 2847, done.\u001b[K\n",
            "remote: Counting objects: 100% (268/268), done.\u001b[K\n",
            "remote: Compressing objects: 100% (233/233), done.\u001b[K\n",
            "remote: Total 2847 (delta 153), reused 26 (delta 26), pack-reused 2579\u001b[K\n",
            "Receiving objects: 100% (2847/2847), 24.42 MiB | 30.49 MiB/s, done.\n",
            "Resolving deltas: 100% (1729/1729), done.\n"
          ],
          "name": "stdout"
        }
      ]
    },
    {
      "cell_type": "markdown",
      "metadata": {
        "id": "C2bJxBca9hY2"
      },
      "source": [
        "## **Introducción**\n",
        "\n",
        "Como sabemos en la vida diaria no siempre es posible pagar al contado algo, regularme existen pagos, depósitos o retiros, por lo regular iguales que se realizan en periodos regulares de tiempo."
      ]
    },
    {
      "cell_type": "markdown",
      "metadata": {
        "id": "aBjG0QCY9RTF"
      },
      "source": [
        "##Definición de anualidad.\n",
        "\n",
        "Una anualidad es una serie de pagos hecha en un mismo fondo de modo periódico."
      ]
    },
    {
      "cell_type": "markdown",
      "metadata": {
        "id": "bRsTj8NO_bS5"
      },
      "source": [
        "##Anualidades vencidas\n",
        "Una anualidad vencida es aquella en la que el pago se realiza al final del periodo.\n",
        "\n"
      ]
    },
    {
      "cell_type": "markdown",
      "metadata": {
        "id": "op-Yn7TLAOft"
      },
      "source": [
        "Lo útil es calcular el valor de la anualidad en $t=0$  o en $t=T$, en particular el valor de una anualidad de $n$ pagos a tasa $i$ se denota por: \n",
        "\n",
        "![anualidad.PNG](data:image/png;base64,iVBORw0KGgoAAAANSUhEUgAAAFgAAAAsCAYAAADhJn/jAAAAAXNSR0IArs4c6QAAAARnQU1BAACxjwv8YQUAAAAJcEhZcwAADsMAAA7DAcdvqGQAAAIkSURBVGhD7ZiNbcIwEEazAjOwAjswAjOwAhuwARswAROwAAuwATu4eoivMm79g+pLlPSedIISO05fzhc7Q3BMccHGuGBjugt+PB7hfD6H/X4fttttGIbhLTabzfMYbf4D3QTf7/ew2+1+CC3Fer0Ot9vtdYZl0k3wp3IVq9XqeXOWSjfBaTlA+PF4DNfr9TsoC7/dCPoulW6CqatMeSRSh0vQJpW81Czu/pBrJc1kMnyJTCaY8hEL5u8lMplgMnZqwVwDD1nGv1wur1/7MgvBcbu/REo8i6xusIngdLOhLCnFGIIVYnYZjFikpv9QS4xRIjTWmHQbjR1ZS6bmwgUXIHNZA8fCkH04HJ7T8Ld18RQPOY01Jl1GO51Ob7KQXds4tArWepkxgH7xGpqx6Fvb3ID6CGadfrN6J9JFcLpNbnlT1ipY5+Z4qb7zlq4mWW1FfA18t8BEcMvFfipY9Z1P2tKfG4nY2jmE2onFCibT0q1yTTCBzLT0cC7J53gJnUfMRnA6dZGXA0Fx1ilqgqm1uRIQj18ibTMbwfGFKpAcPzj4jsTcUq4mmM8c9NV5SqRtZiMYPt1gkMUt9dMFR7Du1QWXgnZMd8kjXHAjlAKyOa2zCEJs/JCKsz63tHPBxrhgY1ywMS7YGBdsjHZ8pc2LXjaxxi4hmWI2L3ucPC7YGBdsjAs2xgUb44KNccHGuGBjXLAxLtgYF2yMCzbGBRvjgk0J4Qt9Eo9AVAq78wAAAABJRU5ErkJggg==)\n",
        "\n",
        "y representa  el valor presente de los pagos que voy a hacer a una tasa $i$ por $n$ años.\n",
        "\n",
        "Mientras que en t=T se denota por:\n",
        "\n",
        "![valor futuro.PNG](data:image/png;base64,iVBORw0KGgoAAAANSUhEUgAAAFgAAAA/CAYAAABkZA/WAAAAAXNSR0IArs4c6QAAAARnQU1BAACxjwv8YQUAAAAJcEhZcwAADsMAAA7DAcdvqGQAAAKoSURBVHhe7ZoBcQIxEEWxgAYs4AEJaMACDnCAAxSgAAMYwAEe0nmd2842DXfQ4wdy7JvZ6UDCHTw2ySZ0lgIpIVhMCBYTgsWEYDEhWEwIFhOCxYRgMSFYTAgWE4LFvETw4XBIm80mLZfLNJvNfmI+n6fVapW22206Ho9d77apKhhpi8Xil9S+QHjroqsJJmNLEodit9t1V2iTKoLJwlwcmcxUcDqdfmK/36f1ev2dudYvBN+BF0aQzdfrtWv9C23M03wJSG8ZueA8e5HWJ3dqyAUzxL1gpoVPorrg1ufUR6kumEXsk5ALZrHygonz+dy1Th+5YBa0XDBVxadIlgsGFrZcMsH0MfWKoopgyM8dLMhmvoDL5dL1nBbVBJOpHOSUJFuwAZna1FFNsMHOLN/Z5UGlMZWMri4YyGbm3z7RtFGBvALORey9jT3Ne4lgj5055IIthiSXXvOf8PjafezG6OWCDbLmlmjablHqPyZgUhmcUzo3ZnFUY/d6Nm8nGEqS1Yue3efZvKVgZHq5RN808QzsPs/mLQWDl0vkginleN4O5Gm35wjm80d2ivY6oBa3x2Pr8mYF26YFiX2/97GDvEey9QfuZY/Hjpy3FOwzyCKXZIJttecvshFCaee35veUWtYXmhFsoh4ZqpBvqUtVhO+DzHwR5H4mn/Yh7FrQjGD/Ri3D+qoB2nK5ROlDWr++3/j81DGE79ekYB9kFB8e4QSnaX5I+6BfCRNcym6Da9t1hvD9mhHsh+l/4pZcCMEdSEbUI6IZ9kNb1BCcgWhWd2SbHB88x1Rx794/BIsJwWJCsJgQLCYEi7GDnb7/FOIgiD5UMEOYUPiIw56pEILFhGAxIVhMCBYTgsWEYDEhWEwIFhOCxYRgMSFYTAgWE4LFhGAxIVhKSl/74265D1VVFQAAAABJRU5ErkJggg==)\n",
        "\n",
        "Y represente el valor futuro de los pagos que se van a hacer a una tasa $i$ por $n$ años."
      ]
    },
    {
      "cell_type": "markdown",
      "metadata": {
        "id": "4hjNMQpjJ4aE"
      },
      "source": [
        "Consideremos una anualidad de $n$ pagos a una tasa efectiva $i$, se puede ver gráficamente de la siguiente manera:\n",
        "\n",
        "![anual.PNG](data:image/png;base64,iVBORw0KGgoAAAANSUhEUgAAAh8AAADfCAYAAABWKrFMAAAAAXNSR0IArs4c6QAAAARnQU1BAACxjwv8YQUAAAAJcEhZcwAADsMAAA7DAcdvqGQAACJCSURBVHhe7Z1fqF3VnceFUuhj3wp9tY99EQbmYcCnAQvzPE/zUAY6MDIw0HkSBlusWAytCLW2wkzFsWrUWo3WtNrRmJj4h7Sm1Go6BoNVM1XMRCcxNrFRz/Sz5/xuV3b2Peeee87d+7fO/nxgce/d589dZ5291++7fn/WvmwiIiIi0iOKDxEREekVxYeIiIj0iuJDREREekXxISIiIr2i+BAREZFeUXyIiIhIryg+REREpFcUHyIyl3Pnzk3Onj07effddydvv/325K233pocP368aS+//PLkxRdfnLzwwguT5557bmY7dOjQ5IknnpjbDh48uPGaX/3qV83701599dWN/0sf6AuNvtE++OCDaY9FJDOKD5GR8eGHH05Onz7dGO0QDwiHEAY/+9nPJnv27Jk89NBDk7vvvrvK9sADD0weeeSR5vPwuQ4fPrwhXl5//fUNwcJYiEj/KD5E1oSPPvpopqhAUNx7772dxnpew5jz+r179254J9qeiaNHj254JTZrv/vd7za8FbMaz4vX/OY3v9nwfDz//PMb/zf68fOf/7zpG+3HP/5xZ/9ntXvuuad5LaJr3759jVDhs7z55puT9957rxlXEVktig+RisAQYhAxjBhIDOWTTz65kJcCAYKxxXAjTBAoCBUMPYb/5MmTG2GMWiFMxDjxeV577bXJb3/720a8IFr279+/IVi2KsYQNbwG8cNYIY5OnTql50Rkmyg+RJLxySefNB6MEydONEbzF7/4RbMix1h2GcayzRIVvKfG8lIQdAitd955pxF15ZgTuuka57LhFXr88cebMUfg8B5nzpyZvruIdKH4EBkQEiQxVr/+9a+bFflWjB1eDrwdGEgMJSIFYYFokdUTYvD3v//95JVXXmlEHd/VT37ykyZk0/Ud0X70ox813hKejwAkWdfvSOT/UXyI9ASrYZIdjxw50qyqWTF3GS1a6eY3/yA3eE2ovDl27FgjNBCGCI+u75Uwz09/+tPme0U44m25cOHC9J1ExoPiQ2QHQCiQazDPGJWrY57P6lhjtB6EV4uEWUqHZ3m1eIznIDTJudFDIuuO4kNkSUhuJAGRMAhC4r777us0MHg6cNdTHYIHxLyA8YGwxNtB+AbvBxU2XUmvnEN4x8ghIV9Hj5esG4oPkQUh/s9+EVRObJYEykr2wIEDzaqXnAwEishmhKeM6iXKmdvnEwIFYYtwJfdE75jUjuJDZAa4vwmFEJ9HTHTtI0HoBI8GlSXE/q0okWXhHCJkQziOHJH2OUeiK14THud5nnNSG4oPkQLc27i5cXfj9u4KoSBAKKvEdY4wEdlp8HTg8cDzQVlvV5UNIoWqKcI6ItlRfMjoIcEPsbHZpE5JJfF5yiVr3nhL1odSJLOvSztvhPyiZ555pslF0isiGVF8yOg4f/58E19ncm6XuyI+WEGGO9tcDakBxAghP87bdlUN5zQChUoa8pVEMqD4kFHAVtgkf5K0V07MNCZrKlVM5JN1gUoqxAZl3m1vHuc7IgWxYhWNDIXiQ9YSXM24nKlIaSeJ4qImn4OcDctdZd1BUFPa3XUtkNPE/iJ4AhXe0ieKD1kbKFek4gQXc9dqL7wbrvZkzESOE9Uy5TWCKEeIEG70GpGdRvEhVUO1CRn+7Ti33g2R+ZDTxJ417fAM5eMkWROacbdV2QkUH1IdmwkOvRsi2wchwn42VH2V1xU3MiRHhLwpkVWh+JAqmCU4OO5+GyKrA28hoZmu643jehNlWRQfkpbNBIcrMZH+4Drjemsnq1KSjqfEcnTZDooPScU8weHujSLDQO4HOSBUzZQ7/5Irwo6/XpuyCIoPGRxuPd7l4lVwiOSEnCpK2bmnUZmoyk3xSPK2bFfmofiQQWDyYu8BKlLKyYsdR82yF6kHbjnAPWfK3YLxjHCHXsrfRbpQfEivMBnhzSgnKspicdsqOETqhQUFm5W1q2XYVRgviRVoUqL4kB2H3UaPHTt2yaZGJKzhovXGVyLrBblbeD7KG96RsIqHxJszCig+ZMfgrpvcvK2cgNi8iL04rFQRWX9YWFARw52hYw4gzEquCPvxyHhRfMhKIXmUG7jt2bNnY7KhseU5LlldryLjBLHB9u1ljhfeT7Zzl/Gh+JClIU+DCaSdPEq1CmWzullFJGCBwryAF7QUIcePHzfna0QoPmTbhEu19HIgPljdnDhxwolERDYl5o9y8zLK7RUh40DxIQvD1spUrJQbDSFAjh49Ojl//vz0WSIi8yEUS+J5uc8PXlOEiWHa9UXxIVuGUtgDBw5sTBA0cjkIubhSEZFlYA7B61Emp+IVQYRYEbd+KD5kJqw8uOU2OxfGhED1ChuBeTM3EdkJWNCQBxJzDvkh7IKsCFkfFB/SCTeLIims3AyMVQiVLN5ISkT6gAoZvKuKkPVD8SEXwf4b7M1RVq2wORhlsoZWRGQI2DOoDPmyKCIc45xUL4oPacDNyTbIcXFH1crJkyenzxARGRZCvaUnhCRVtm6X+lB8jJyu2CpbIFOLLyKSEcIx5byFdxbviNSD4mOE4KokjFJevKwguP+KpW0iUgNRHVPuE8K27d5Jtw4UHyMiLtaynt5NfUSkZlgwkQgfO6YSMn7uuedMjE+O4mMEKDpEZN1hg0NuWhnJ8mwJQMWelTE5UXysMYoOERkb7MBMsnzMeVbG5ETxsYbghuRiK0UH+R2vv/66F6CIjAIq9coKPnZOfeedd6aPytAoPtaIEB1lAhaig4oWEZExwvxXLsTYndlQzPAoPtYAvBlUqig6REQuhYUZ+R+RD0Iohoo/GQ7FR+W0Vb2iQ0Skm9OnT1+0SdmTTz7Z5IhI/yg+KqUrnnnixInpoyIishkk3cd9q6iK4X4x7nHUL4qPymhnchNq4a6zJpKKiGwd8j7I/ygXcO6S2h+Kj0po17DH3R1V6yIi24cKmL17926IEDYoY76VnUXxkRzERXv3PkRIlt376N/Zs2ebGz6xanjrrbcalybt5ZdfbgTSCy+80FzQ8xr3lOH5NKp24n24cRTvTbzWXQtFZNXgOWa+IgTDPEtIhrlHdg7FR1K4GDj5ywoWwi19JkfhliS3hKzwo0ePTo4cOdLcbp+ELVyUIYiGaA899FCzWqEv9AnhQsUP4scEMhHZDiykuD9MzDMkpHqTzZ1B8ZGQ9h0bSSzdqVvbI3LwKFAhg8AgBsr/i2SseQ1PzJ49ezaEAK3tyeB9w4sxq73yyisbng8aYifeiwmBfvG/YnUyr1EFxORx+PDh5r1xr1rfLyLzYENGFjjMIyyy+FtWi+IjEYQuyjIwjOcqy2YJkZw6dapJUCV0w22oZxny++67rxFBeFx4PuEfRALeBe4cOWRcNMI9CArGiDANfUSk4JWZ9bkQMAcOHGgEDq/VUyIibZjfyuR+PKwuXlaH4iMBnNCsziOZlFALIYRlK1gQCLwP3gxERLx/2TiG1wJjjKchQhfrkFuBu5RcET4TeSd4TjYLFTHmhw4dap6LJ0hEBFhwsRBjnmDhYkXMalB8DAz5FJHXwWqdXfguXLgwfXTrIFQIzZA0hZDoMrIIDUQIYoQwBF6QMVbL4OnA48FYM1ZlXk00wk48hkcFESci4wUv6+OPP74xj7JQW3ZxOHYUHwOBQSs3Cdu3b99C7n9OfEIOhA4I1XSFGVDp5EuMWWhsFcaeFQ7jRdimPZbEfxFtbOS2HXEoInXDnEvoOTzILORcmGwfxUfPYLhQzXECY9S2msxEDBJPCbHHroRQLgbCN5SmLpKhzfui7Gl4T3Ar0nifSAbloiuTQWmIGh6LUlgaRpz3qT02StiJ74VwTbl9PQ2hRyIribTmi4iMC+bImBOYC/COyuIoPnoEIx0Z1IgPqkHmraJJQsXwl16SaFwAGEdCCLOMPQaSPA7yGRA+JFEhVCKOuZONz4kHhuRWcioIdTAOeGJqEiiMISEtvocQjtEYSx6zJE9kHDBvs9CLOcCS3MVRfPQAhouTM05UDNgsdx2CAyO9yIo7ymWj6oMwDuGDtqHsauSHIBBCJETJLGIhSl3pT9vzUW4eRr94Da+P9+oKBbUb+RaMByENPhefgbHJHCIKDxTj0xZwfBaqiYasBBKRfmC+Ci+0JbmLofjYQTCgGO0wwrN2zdtMcESuASd1eEl4X/I9ZiWXlg0DT7IU4Rq8KHgecB32ZSDpL4KCz0CfESv0Z1a/EU08B+8Q+55kzbPgszGefA+l2KL/HOMzm5gmsr4QomWxF9c+HhGv+fkoPnYIFDGr/zBEnJDtMAPeis0EB14FBAYgEng/QiYY5C6PAoYc7wP/BwOP0UPQZDXaAZ8NIYS3AKGBwab0t+2xqUGM8P3yOfgeyv4j/vAU6ZYVWV/IgYu5mbnKW0HMRvGxYki2xICG4SEMgXENMJp4Pzg54zm0UnAgSjBieAi6Ki9oHMcjwnut474UjBMiA7HBWNUmRhAahJHK748+k29D/o2IrB/kskVeH4uOcu6Xi1F8rAjcbBibUL54IkjwDPcbJyFeiTJHgN85huDYLOxC4z3Jp8DQUupZeyXJdpgnRhgjRB8eomwuT6qAEB1lnxEl5Odkzm0RkcXB4xE5flzzLCTlUhQfKwDPQ+nJILeCExCRgCApb9dM47l4LDBKeDsiPBON3BCMFcYJJW388FIYW4QG40e1SXv8OI6gywTnBCGxWBnREKmEZMYoKEXWFeZswuRxneOldh6/GMXHEnAyld4OjAqeCcQIFSdxnBYGEdHBiVgaoHgtj+OS9yRdHMIcGPa20EOY8B1lir/y/XKe4M2KfnKu8P2bFyKyPpCMHt5uQvBe339G8bFN2t4O8jPeeOONi27HTMPAoIB5PEqyohFi4bFILN0MjFW5ARgnNCIGY8uqmdAN70/GNf+v3QhH8Hg0nh/lsiRJYQipRsmYxLkd8BZhyMvxxv3Jd0MibqZQB99nmSlPP/mO3LxMZD1gbo1wOnkgXPOi+FiYLm8Hhq50/fPY008/3bkPBCtzcju6QgJl5QeiBNGw1b06VtUw2Ch0wj70IcRJjUmtfFeEZhjHLi9UJm8I50OZqMx3jocsUx9FZHsQVo2FKdc28+rYUXwsQNvbgeAoV9eoWgQH3oY4Fs9jf41YzbLyRv3iucDA8J5tr0i7IXJ4n9KTgQEN7wWeEEQC79tuGGAej0YibHg+4jb0iKK2UGo38hN4Lv3mfWtKlkTYMU7l9xehjkwGnnOE7zYEJ33ke1oXr5TImOFajvmH63zMCeeKjy3Q9nbcf//9FxnqRx99tPF0PPjggxvHeBzDjmAJscGJh3goV+Fl4zgCA68DzyW80vdeHRhp/ieChYRXjHN4YNr9xUDiJeE5hDNqWaXznbQNfEZPSBmOQdiW1VMiUidU7cUGi2POA1F8zKHt7di9e/fG74899lhjIEoxESWUGO9ZYoPnkXvBczkZyenIDsY5KkwYkzDeZSO2uVlYKRtdXoZsIgTRWob0OG84X0SkXph7IjmehcWs222sK4qPTWh7O0pDi6eDFn/zGCIEMTFPbODNqMVDMA88MuHR4fO3wzYRbsqu7GsQIdxLptwDBm+UmfMi9cL8GXlezJ3MpWNC8dEB3g7cYTHRR3v44Yc33GU0fn/qqacu8oxE6xIbeDeiUeHCyUbD+MXxmt3q9J1SYfJYynGiccM1ci4I62QluwghfEe+TYg8fiKQDcWI1AnXLnaC65l5B3sxFhQfLag0KUMrNERHuapnUzA8H6U3hNcQhok7wbLDXXsvj0Ubr+d9yB2pKTwDGEpCNIxH6QlizPhMPJaVLhGC0c9i5DkHysoYPExu4yxSL3iI43pmQTEGFB9TKIVidR4nAA3jX67gic2Vj9PaQmVW4/3idvP8L0I0NNzpcbz9mq6GMcTg1BLGwb1I2ADRUQo2vENU32RdubdFCGOeKZcFAVcKXM4Hd0oVqRMWvjHX4HFdd4+m4uNPUEVQrs6pZilFR2kwuxqPY0gpQw0vReyNsd0TiNfxet6H9+N9Z3lTaskpIezC5ymFHOKLY1nLzvAqML70le+a/U+y9BVhR3/iHEXAztu0TkRywnwfXnaqHrPOiatg1OID93W5HTcTeDtXoavxGgw9q3YEQt9wQmIQCQV0JXrS8KygpLOuhBFXjF+ZRIkgweWYsc+MOTe1CyOPGMmUIIZHJqpi6CN9XfeVk8g6wtweizPm8XX1Zo5SfDApl4aEtln4hOeQUEr5KDkXGU8EPk8pRkovDr+joHHRZzRG9Ik9QsJw0hCAVNBkHOvSyNPwSGXpZ/u8Jmma0JGI1AWL2liYsdBZx8q20YkPVqvzciuYvDEwL7300kZFCgYydgiNRh5DPJ5pkscVT//IJyk/V8ZtxUtwOZZ9pr98jmxg5EkQC5FHKIy+Z4GwS5zjeMUIK4pIXTBPR9XlOu4FMhrxwRfJre7DsHU1JmpUZhkKWKQhWng93gdWxIiToatTUMwYyvIzYTQzixDEXJn8S65LxiofVidlmTWVPVlKiRGglDxH36iO4ZiI1APXLPaEaxj7xNy4Lqy9+GCVyv4SJJHGRLzVxuoR5clqnMmbyoeyxX1cMJSbJYLSUK2EPujHkAaf0ExZopldhOD1iBwc+pqp3DWgPyTLRt4NIm+IPKDNINwW9w1CGGfqm4jMhzkmFs4scPHCrwNpxAcT+Kphou3aLKzdCLGsokqF1xB+YaMthAbipKzqoHHyoGTxigy1EiVvoRYRgieh9FjxXSGisoFnJs41hEimLdDxfpV9W5fJS2RMkM/FNbwuAiSN+Pja177WGORVgAgg1MCXFEarbKymf/nLXzZCo49kQcQMcXcMfuQJ0DAEuMaHyhdpixDGJWOOBWDMI4+B7xWxlC2MQH8QnNHHnRDU24VqnTIMYzWMSH0wp8T8UrsASSM+rrnmmsl111239B4FvH6zclnuOjv0Hgis5CmBLTfc4idhnKE2sOL/RlyRljXHAuPe3tPi1KlT00fzQKVOjCUGP5ORLzcy4nvOvN29iFzKugiQVOLj+9///uT666/flkDAgG6WKJrV1Yw7nBV86Q0hN2Qow1/mWDBmhI4yro4RHFHuytitymO2StjsjTGkj+QFZTLy5T4CCDjzQETqYh0ESCrxwWDedtttkxtuuGHLoQjKj2bldTz77LPp3cvkWpQiBKM11A3DMJIIoBg/qjky7hXB2GQPIyCSIhE5WyIq51xU6iA4h/YIishi1C5A0okP2ne+853Jrl27Zho9vAOzSmfJ8K9tRYdByJJcyckchpOxzFrihXcmwgiEjrLlgZRGHlGZKRGVPJAQmgjfml24ImOkZgGSUnzQvvvd706+/e1vX5IQyt94CWbd0I1k0pppJ1dygg0BY839aqIf5AtkhOqizOWkGPmyVA7BlAW8RVxP9I021LkmItujVgGSVnzQbrrppsktt9yyIUAY2DAyXY3VG2EWKg5YbWLA+UnMnWMkdZIMyCoeg5CZSK6Mz0bfhwgr8D+jxIuGocoW3gC8ZAgP+kgYIZOHIShvm53NyMcEFt+xiNRDjQIktfig3XzzzY0X5Kmnnup8fLsNFzhuejauyri/RUAyZeSCIKSG6ivJqJzY9CNjeAPoU+mpyeRhCJgYYhyzCRD6Fuca4ZiMIlNEuqlNgKQXH7Qbb7xx8s1vfnNy1113dT7OYOPdIAGR1SUGmwQ68kKogsHTgWseA4rnAyMeBoDGhIuXoY89P7YDiYtRncDqfigBwphm6McsMJjcBDC+22wGHghfRf+yTRJ8x1GlowARqYuaBEgV4gPRgfhAhJTHGWBcxNtZhSM0+HKIxYcQwV2PJyRjSAZDH2GFIQ0/gi76QUJsRg8IxEVIy+gByTxJKEBE6qUWAVKF+KAhQNgD5Fvf+lbzNyvwVZWAtjfZyrqqLwUI95MZyvBn6cc8sl+EkQNC/7JVEylAROqlnPsy5r9BNeKD9sMf/rARIN/73vd2xOBhAMKo8jPj/hal4SfUNBTtfmQ1TtkFSFSaYOgx+JlQgIjUS4SfuYYz7gRdlfighQDhniSr5rLLLpt89rOf3bidO96VjHuFYPjZWG1oRcsOrZEDktk4RdVQRgMP3NQw+pdtklCAiNQLVZJhy7ItplOIDybcrYoP2h133NEIEMpnVwnig4ZXhdU8/+vw4cPTR/MR/R0SxFkIkMxjldnDgEHHsNO/jIK3FCAIJRGpA+aWSCnAU83CNQspxMeXv/zlhcQHDQHyjW98o6leWRWlMedLozom80ovg/gAjCVi7XOf+1yK/mxGCJCMu9+WAuTWW2+dfP7zn58+koNSgJCrIiJ1wGI67oVFpWeWHL3BLQWVJdzPZVHxQbv99tubO+GuajLMYsy3Srb+Zh+/0sB/6UtfStdXrgVCfiRVZxMf8Oabbza5M4zflVdemfq7FpE/g8cjds1mL6QMi+rBZw+8CwzIdsQHLQTIKu5smt14tsnW3xrGj4uOxOKsfWVV8pnPfCbtOB47dqy57u68887JFVdcMT0qItnB2xs7hLMn1tAMOsNR4hquXMTHMu3aa69dWoDUYDxLsvW3pvHL3Nfs40iok2v2Bz/4wWA3PhSRxSF8GrsYrzJlYTsMOsNR+sggdLW9e/c2u5L2SfZJv022/tY0fpn7WsM4fuUrX2mu06wVYSLSDXY3wqfstjzUfDPoDBd7MNBYRRGLwq1LCecQ1DDpl2Trb03jl7mvNYzjpz71qclXv/rVlNVDIjKbcv8jwqdDzDeDznAk/1G698UvfnHy6U9/enp0OGqY9Euy9bem8cvc1xrGkf6Rm5JxIz4RmU/sf8TC/wtf+ML0aH+kmOGyTLY1TPol2fpb0/hl7msN41hDH0VkNlH9x75ZfZNi9sgykdU2oWbrb03jl7mvNYxjDX0UkdlQ/cc+W+zs3TcpZo8sE1ltE2q2/tY0fpn7WsM41tBHEZnPUNdyitkjPrzNZrPZbLb+W98oPmw2m81mG3nrm1TiY2iy9GOrZOtvTeOXua81jGMNfRSR+Qx1LaeYPbJMZFn6sVWy9bem8cvc1xrGsYY+ish8hrqWU8weWSayLP3YKtn6W9P4Ze5rDeNYQx9FZD5DXcspZo8sE1mWfmyVbP2tafwy97WGcayhjyIyn6Gu5RSzR5aJLEs/tkq2/tY0fpn7WsM41tBHEZnPUNdyitkjy0SWpR9bJVt/axq/zH2tYRxr6KOIzGeoa9nZo6C2CTVbf2sav8x9rWEca+ijiOTF2aNishmAmgxS5r7WMI419FFE8uLsISujJoOUua81jGMNfRSRvDh7yCjReC6H4yciy+DsISIiIr2i+BAREZFeUXyIiIhIryg+REREpFcUHyIiItIrig8RERHpld7Fx1VXXbVRpsfvIiIiMi56FR+7du1qRMfx48ebxu8cExERkfHQq/i4/PLLL/J2tP8WERGR9adX8dEOtSA+aENDH8Ijk50ybHX11VdPjw5LjF/7+xURkRxgL2LBH/P1wYMHp4/2z6jFR4R+omUXH5w8cbLw+9AnD5R9irDa0H0SEZGLCZuxe/fu5u8QIkMx6rALXwL/P76UGjwfQRj6OJEyUMM4xrjRRETGQnt+xvYNufjvdQaODw+sjvk9Q8JpjeKDEydLn+lHtMxeD8aKPsbYZaIURdGynY9xzUbLJHxFZDajFh/Ah43Ji8HIQG3ig0k/4+QfBjSDoOwivFzxfWcixi4rmRYLIrI4oxcfGalJfITwyGgEGD/6xnhmI8aNPio+FifjmInI1lF8JKQW8ZFx9ckJHGQWRlxkIYoyi49o5bhmgP6U/aNlDrHtBO3P3v679OpyLZRjxvfb/jvOQxq/l+cAz23/HdcXjf/V1Yfy71gMRNu/f/9Ff7cfH9v3KcMyavHRnvBpXORZKSevTP0t+8OYZqM9yZYtIxlFHOdZuUri98zXiojkRs+HjI6Mno+SEEvhqclAW3y0/xYRWQTFh4yO7OIjPHJ4QLIQfQrXfDZxJCJ1ofgQSQCeBAx6tIzhq7KPhlxEZBkUHyIiItIrig8RERHpFcWHiIiI9IriQ0RERHpF8SEiIiK9ovgQERGRXlF8iIiISK8oPkRERKRXFB8iIiLSK2nEx6lrr2iaiIiI9MNQtjeN+Hj3hiubAfjk3JnpEREREdlJRi8+3rvpb5oB+Pi9/54eERERkZ3i49NvN3b3vV1/PT3SH4oPERGREYK9bcTHn+xv36QRH6dv+7tmEC688eL0iIiIiOwUH518TfFx5q5/bgbhw5f+c3pEREREdoo/vvp8Y3fP3P4P0yP9kUZ8nH3khmYQzj179/SIiIiI7BTnjzzc2N33H/jX6ZH+SCM+/rDvtmYQPnjs5ukRERER2Sn+8MStg9ndNOLjj//1dDMIp//976dHREREZKd4/55/aewuHpC+SSM+Pvnwg8mpr//F5N3r/nJ6RERERHaEjz/a2F/r4/f/Z3qwP9KIDzhzxz82A2Gz2epo717/V5MPHr2xuX4JnfJ31/NsNlvORqXpEKQSH5T9sNlJ1wDZbLa87dzTt3cet9lseRv2dqjtLVKJDxGpi3OH/qOZxAiX8vMP+/9t+oiIyOYoPkRk27BqKldSfzz2zPQREZHNUXyIyPb5+KOLxAeJ4yIi81B8iMhSxH2ZyJwXEdkKig8RWQr25kF8/O8tfzs9IiIyG8WHiCzF+/df04iPM3f+0/SIiMhsFB8ishRnH/x6Iz74KSKyFRQfIrIUig8RWRTFh4gsxcZNIac7nYqIzEPxISJLEeKDnyIiW0HxISJLofgQkUVRfIjIUig+RGRRFB8ishSKDxFZFMWHiCyF4kNEFkXxISJLofgQkUVRfIjIUig+RGRRFB8ishSKDxFZFMWHiCyF4kNEFkXxISIiIr2i+BAREZFeUXyIiIhIryg+REREpFcUHyIiItIrig8RERHpFcWHiIiI9IriQ0RERHpF8SEiIiK9ovgQERGRXlF8iIiISK8oPkRERKRXFB8iIiLSK4oPERER6RXFh4gMyq5duyaXXXbZ5Pjx49MjW+PgwYPN63i9iNSF4kNELgEhgGG//PLLp0d2DsWHyPhQfIjIRezevbsx6n2Jj+2i+BCpF8WHyJpy9dVXN+Lhqquu2hATGOwSHqOV8DoMOq/dTHyEZyS8FrT2+8RxGu8JIRj4m58InXiP6FspfmiluGgLo/bj8Vg8HrTfU0SGxatQZE0pDTyEECnpEh/BVsRHGPIw7uX/agsOHovfy/ctxUf53PZjwO/R3/h8IT7Kzxf9iz6U/RGR4VF8iKwpYZwjlwLDHEaf412thOeWIqGkbdzLv0thUjZEQoiL0ltRCoz4Pfoc71W+NoRJ+V7l84Ly8/I7j2/2eUSkXxQfImvKLPERcIzWxbLioxQCwVDiA+L5tHh/ERkGxYfImtKH+KABgoDfQxhs9tp54qMtMOKx+Az8Hv2Nzxfvxf+Lx9piJI7H+/NTRIZD8SGypmxFfHTB83hd2UqxAGHcy+eGFwRKcRKNY/PER/l3tBAiECKHFs+L92r/zxAcUL5n2U8RGQbFh4gsTBh6DbmIbAfFh4gsjOJDRJZB8SEiIiK9ovgQERGRXlF8iIiISK8oPkRERKRXFB8iIiLSK4oPERER6RXFh4iIiPSK4kNERER6RfEhIiIivaL4EBERkV5RfIiIiEivKD5ERESkVxQfIiIi0iuKDxEREekVxYeIiIj0yGTyf+8ILky9EhDgAAAAAElFTkSuQmCC)\n",
        "\n",
        "\n",
        "Como ya se explica en el notebook de <a href=https://github.com/jugernaut/Prometeo/blob/desarrollo/05_Finanzas/01_Inter%C3%A9s/tasas_de_inter%C3%A9s.ipynb>*Tasas de interés*</a>, lo anterior lo podemos ver como una serie de pagos que se traen a valor presente usando el factor de descuento, es decir, lo anterior se puede ver con la siguiente ecuación:\n",
        "\n",
        "$$\\begin{equation}\n",
        "(1+i)^{-1} + (1+i)^{-2} + (1+i)^{-3} + (1+i)^{-4} + (1+i)^{-5} + (1+i)^{-6} + ..... +  (1+i)^{-n}= v_1 + v_2 + v_3 + v_4 + v_5 + v_6 + ...+ v_n\n",
        "\\end{equation}$$\n",
        "\n",
        "Si a la ecuación anterior le restamos la anualidad de $n$ pagos a una tasa efectiva $i$ multiplicada por el factor de descuento tendremos que: ![defan.PNG](data:image/png;base64,iVBORw0KGgoAAAANSUhEUgAAAMcAAABXCAYAAACwY1GFAAAAAXNSR0IArs4c6QAAAARnQU1BAACxjwv8YQUAAAAJcEhZcwAADsMAAA7DAcdvqGQAAAR7SURBVHhe7dmBTeswFIXhrsAMrMAOjMAMrMAGbMAGTMAELMACbMAOfTpVr3TxuyckrZ206v9JVmmaxqlzj+OW3R5AiXAABuEADMIBGIQDMAgHYBAOwCAcgEE4AINwAAbhAAzCARiEAzAIB2AQDsAgHIBBOG7Q9/f3frfb7R8fH49brsf7+/vh3F9fX49bxiEcN0ZFpeK6xnDofOPcCQe6+vz8PBSWHlVo1xSOCLUQDgy1VjhUxOonlkNq9/f3x1f/F+GdQjgw1JrhUDHnvhSO5+fn47PfCAc2t2Y42jtFtS0QDmxu63CowIP+dq0KirYTDgxzSeHIXCCyqw6Hfkd/eXk5DL4+iNrd3d3+6elp//X1ddwL51ABxbj+/Pwct/6msY59WqeE45Q+CUcS/2CKFhdBg6XneiQgfcSY6pegiiYova5JqXVKOGRpn4QjUeFrMNrB00yji5EHDufRLz5T46nroNfjWsTMX7W5lva5NBxOvKdtpwR8ru7hmPLx8XH4QHHLXYMu5tQsUwW5Nx2/LZAeYjzV2mVOXt64JdAptuhzK6uGI89c54il25yi1z7R2lkmzqcSdzn11YOONSKEbpkTyxv3/4RzbNHnFoaFQ0X19vZ2uP2q0NQeHh4Og7e0tSIcfxVbPkY1c+sithey/c7UKxzqZ8QSQMfVebbLHH1ebddMv0Rcq7bl74m9+7xUQ8IRM0jPdor8/ioc2t4GTPvp4mu7Xu8Vjjheb7GUUYulTF7eLBXHalv+kty7z0vV/WpFEahpKZOLyy2r9FyvxcyjFkVb7S95n4qOpdfdsiruEPmiZ/E55oSjOhf1l8/7r/7OEeMW57DG8maLPtfWPRwqQA2SBqs1FQ61KJxcmNX+om1tQVZ0sVSorejDyefwl1h6ZHreFsrUOWtfvV61vz5nFGYsc6JwRwQxbNHn2oaFoyrI/EtHpudtAcS2an+p3rNEO7O3ou854Yh9Mz1vC0UFVI3LufIyJyYg9TXSFn2urXs4YgbUl+/8c56CEb9yqGV6XoUjCrjdX6r3LHFKOPKdLFrQ33E+eqwKRdtGLTt0bJ1DPFZ37t626HNN3cOhAooQ6FF3knYQ1TI9v4ZwTFHRR+HrsbpD6PNX2yUmlarN+Zx5rNQ0s4+2RZ9r6h4O0SBpLRqDpqLQrKI7iQLT/qKhfdYORxS/szQcsbQQ975zz3lKnpR0117DFn2uaUg4lqqKRttGhiOKuf1eEJaGQ+LOoMeWjjPVHy7PxYfDqd6zVHWMvPTLbU5fEebqvCNsuB43fbW0zm9/gh1lzb7Qx02HI39PGG3u3QeX4+bv81pGjS5aHb/6HoLLxiIYMAgHYBAOwCAcgEE4AINwAAbhAAzCARiEAzAIB2AQDsAgHIBBOACDcAAG4QAMwgEYhAMwCAdgEA7AIByAQTgAg3AABuEADMIBGIQDMAgHYBAOwCAcgEE4AINwAAbhAAzCARiEAzAIB2AQDsAgHIBBOACDcAAG4QAMwgEYhAMwCAdgEA7AIByAQTiA0n7/D7c9A/q67xb6AAAAAElFTkSuQmCC)\n",
        "\n",
        "Haciendo la sustitución de los factores de descuento y despejando la anualidad tendremos que el valor presente de la anualidad es:\n",
        "\n",
        "![anualidadfinal.PNG](data:image/png;base64,iVBORw0KGgoAAAANSUhEUgAAAHYAAABGCAYAAAAZ3WC8AAAAAXNSR0IArs4c6QAAAARnQU1BAACxjwv8YQUAAAAJcEhZcwAADsMAAA7DAcdvqGQAAAOBSURBVHhe7ZuLUeNAEAWdAjGQAjkQAjGQAhmQARkQARGQAAmQATnoqoXf1dTeWhY6jSXGr6u2LK8+uLY1sx+Jw2BKYrFFsdiiWGxRLLYoFlsUiy2KxRbFYotisUWx2KJYbFEstigWu0Oen5+H+/v74fX1dfz+/v4+PDw8jHVsz8FidwbyXl5eRpGHw2GU+/T0NAq9vb0d7u7ujkdOY7E74+vra/xEJmKJXoF0i10AjUq07AEEEqERRD8+Ph6/TWOxR0h5Nzc3Y+NtDTcYv4OoFW9vb39T8xyuXqz6LtLcXsRKIp9Cqfnz8/NYM83Vi6XBPj4+xm3kZohFBim+TfOIow9tZVHXSoy/jag9J/jqxUYyxGrqQp/JtckQpFrquKnIEoyAI+yjPiLZXCem6FNYbCBDrNKpUqnmofrkb1Ii7FMWiVDvVLyAc2KJmjmlN8DRtTWdAbaJzIyRuMUGMsUisJ2+cCz1UfZaWGzgnNilaPoS+1LkUxdHvmtisYEssfSNXJcIBUmdu9iwBIsNaOS6dmqUWG4c3TyZUuHqxdLoRJIanILgU33lEiRWRZGbicUexfbKWmJBCxRzpyv/i1NxUSy2KGliSTmstsS+S8tnvVUVsy4pYpEaBwsaDSJWgi03lxSxSGOVpR18MI1QBLcL32ZdLt7H6lkjUSsU2XOLOc/FWynO6USUNqeA0j3TEvMvqWJpfOZupF31s1rdkaCf0BO7dK6pa/3mMkWaWD1/nCo/Zel5PeLv+K1lihSxWuSmkCqJLtFLxcB39jHo0v42GtvzeseYb1LEauTbe4VjSiyF/aCbI94U7XlsnxLLDaXj23IN/XKq2F4DalRMifC9F6Gxrj2vd475JkUsj6RodAZK8REYUrVIEQVBTxJ18eZoz+udY75JEUv6jKtMRLD6ztiHRnqSqFsq1qk4CVafmOaoMRFKn0sEIzsuUADHOGLXI03sT6koljn8VtnBYpPQC2x0Q1uwG7FzaMXuGcYZ3JRZbyGew2KL4lZKgEhVWfuNx7lYbAJaJ29H/pfEYpNA7JYvE1hsAloPjyP6S2OxCSAUsXqgsQUWm4AegmyJxSaA1K0WJoTFrgxr5IjVs2gWKLaY8ljsyuhdLB5Z8vgy+7/qTmGxCTBoYgDlwZNZHYstisUWxWKLYrFFsdiiWGxRLLYoFlsUiy2KxRbFYksyDH8AqKL6Jzkvqy4AAAAASUVORK5CYII=)\n",
        "\n",
        "Es importante destacar que es creciente respecto de n.\n",
        "\n",
        "Siguiendo un procedimiento parecido pero ocupando el factor de acumulación tendremos que el valor futuro de la anualidad es:\n",
        "\n",
        "![valfutanu.PNG](data:image/png;base64,iVBORw0KGgoAAAANSUhEUgAAAJ8AAABTCAYAAACBMdUvAAAAAXNSR0IArs4c6QAAAARnQU1BAACxjwv8YQUAAAAJcEhZcwAADsMAAA7DAcdvqGQAAAStSURBVHhe7ZyBcaMwEEXdQmpIC+khJbiGtJAO0kE6SAWpwA24AXeQHrh5jvdOp0FCGKGV4b8ZjW3AQpYeuyBIDoMQTkg+4YbkE25IPuGG5BNuSD7hhuQTbki+zvj4+BheX1+Hr6+v6+fT6TQcj8frMt5vCcnXEQj2+fl5le1wOFwFfH9/v0r3/Pw8vLy83LbcBpuXjwH8+fm5fWoH+ySKWQSDqbbYOoRDPr5vIKbkexC+v7+v0YKBTA04EWWtVMb+Y4F4T5uIbjmQjO1CqOvt7e32qT5r9kWKTcpHhHl6ehrO5/Ntyf9cLpe/qS2UYwrqDSNZDgaSuuM2cCAgFwfFGKynXeF6E7l033O4ty9qsDn56EzEY8BiGFgG1c6f5nY4qY+yFIRk32NtNNHCdZaG+W21WNoXNdicfKSmOGUZFo3s/RryIQh1UnLpNdVOvheLxj5ZBkS/GhIu7YsabEo+S1klnbimfJbGeE1hES5Oy9RP5A4xIXPpegmSrwI2oHTmFGvJB1Z3LvKlDhS+O3auyvKaaTfknr6owabkswhRMkhTHc561oWFNEmJl8f7Yxl1U0cOtslFxxJIw3F7UiWF5KsAnUcnlrCmfETHknawTUkkzSH5OoHOqyXfGKVpt1SqGvLVQPJVwOSrkXbHKJFvTr1stzTt1kDyVWDOBYdtO+fqsUQ+LjKo1+bpUhPDc67M1+aevqjBLPloJEcqUwE0lsJg0OF0pjclA8o6Otl+A6/MubF8KmKWyIds1Es/sW1KPhvw1F2YFizpixoUy0ejaCCFk246lldbNnW/shW5SWagY1NlqsMRKSVTCNtM1TfVzhbEvz8s3chn5wSUuPM5ci369QCdNtbOnsjdXtsTRfJxJNBZzLA/AohHCvFMaSk4NaAfiXx7p0g+zl+Qb+p8pyeIKjYn18P5KJAdaFMvWcKbWZGP0mM0yUEU7EW+ntrSA0XycR4VXhHpyBU1KJIPiHgmICWX0myb0iL2yayRJwKGUy6UsUgYri8pYPWK/XDXaCMhUS+MhHyeSyzfknkvq0ulblmTRbUjoT2CTeHzHGr+QKtLpW5Zk8W1I5w11NIvUdBuLdm6sahm64DvLIl84vGoorZJZKmXVz6H84KIFU+slsoXCh4XCfu4LJYvvPVmT5OMiTS2zL4HOfnENimSjwsLohZ3DcKpFbuNhUDhrbeUfCaaIfn2TZF8JkmqIE1456O2fEq726RIPtIpkY9zuHDg7WmWeKK5tnximxTJNxfJl4cDlt+7dyRfY8gS/OZHekJoLVaRr5RQvr3A+SsH2t4fJAXJJ9zQyDeEiGdFz/VJvqbwl2JEeuZGheRrDvL18IfiPSD5GmK3Ikm7QvI1BemQz+6B7x3J1xC7QyR+UU80BPE0ufwPydcI+y8F9s944ieE9ojka4Q9mWP/rSB+sHaPSL6GcKHBRYcuOH6RfMINySfckHzCDckn3JB8wg3JJ9yQfMINySfckHzCDckn3JB8wg3JJ9yQfMINySfckHzCDckn3JB8wg3JJ9yQfMINySfckHzCDckn3JB8wg3JJ9yQfMINySfckHzCDckn3JB8wg3JJ9yQfMKJYfgDylTg8svE+NUAAAAASUVORK5CYII=)\n"
      ]
    },
    {
      "cell_type": "code",
      "metadata": {
        "id": "JGLLTFXTTNO6"
      },
      "source": [
        "#está función nos va a permitir  sacar la anualidad dada la tasa de interés y el tiempo\n",
        "# es importante tomar en cuenta que la tasa de interés debe ir acorde a los peridos\n",
        "\n",
        "def anua(i,n):\n",
        "  #pedimos que nos imprima el valor del monto de acuerdo a los parámetros que proporcionamos\n",
        "  return (1-((1+i)**(-n)))/i"
      ],
      "execution_count": 2,
      "outputs": []
    },
    {
      "cell_type": "code",
      "metadata": {
        "id": "8vYZAmxoTfz2",
        "colab": {
          "base_uri": "https://localhost:8080/"
        },
        "outputId": "e3d6f2b3-150e-45d9-bf9d-b8d2bdebe3d9"
      },
      "source": [
        "anua(.40,3)"
      ],
      "execution_count": 3,
      "outputs": [
        {
          "output_type": "execute_result",
          "data": {
            "text/plain": [
              "1.5889212827988335"
            ]
          },
          "metadata": {
            "tags": []
          },
          "execution_count": 3
        }
      ]
    },
    {
      "cell_type": "code",
      "metadata": {
        "id": "YaPW5_VaU_sX"
      },
      "source": [
        "#está función nos va a permitir  sacar el valor futuro de  la anualidad dada la tasa de interés y el tiempo\n",
        "# es importante tomar en cuenta que la tasa de interés debe ir acorde a los peridos\n",
        "\n",
        "def fut(i,n):\n",
        "  #pedimos que nos imprima el valor del monto de acuerdo a los parámetros que proporcionamos\n",
        "  return (((1+i)**(n))-1)/i"
      ],
      "execution_count": 4,
      "outputs": []
    },
    {
      "cell_type": "code",
      "metadata": {
        "id": "DyBjocrdV_Zf",
        "colab": {
          "base_uri": "https://localhost:8080/"
        },
        "outputId": "c5ee94a3-61c1-40d1-f5eb-31f8a8cc42db"
      },
      "source": [
        "fut(.4,3)"
      ],
      "execution_count": 5,
      "outputs": [
        {
          "output_type": "execute_result",
          "data": {
            "text/plain": [
              "4.359999999999998"
            ]
          },
          "metadata": {
            "tags": []
          },
          "execution_count": 5
        }
      ]
    },
    {
      "cell_type": "markdown",
      "metadata": {
        "id": "gdLaAvyNWHK3"
      },
      "source": [
        "##Anualidades anticipadas "
      ]
    },
    {
      "cell_type": "markdown",
      "metadata": {
        "id": "DorQUAQvWJo7"
      },
      "source": [
        "En una anualidad anticipada el pago se realiza al principio de cada periodo, por lo que el último pago se hará en $n-1$.\n",
        "\n",
        "![anualidad ant.PNG](data:image/png;base64,iVBORw0KGgoAAAANSUhEUgAAAhgAAADPCAYAAAC3IKiuAAAAAXNSR0IArs4c6QAAAARnQU1BAACxjwv8YQUAAAAJcEhZcwAADsMAAA7DAcdvqGQAABJBSURBVHhe7d1fiyTXeQfg/S77AaKAIReBXBnWYPCdQV8gF4shFwZBIAgRB18swhLECHJlIxNrRRKCEthgQmxkr2xMApGQSRBRNhIiRhGKtIpW6/Vq/3Tm7amzOltdPdMzfXrqvD3PA4fp6q6uOn26qs6vTvV0X1gAADQmYAAAzQkYAEBzAgYA0JyAAQA0J2AAAM0JGABAcwIGANCcgAEANCdgAADNCRgAQHMCBgDQnIABADQnYAAAzQkYAEBzAgYA0JyAAStuLb7/3LXFE8+9vXh3cnqd9xdPP3Vt8eSPbw3T22i5rG1t+vqLk87fQk/tBQQBg9m9+tK1xe8cdA5PvPT+cM/c8gWM3bahgAGcnIDBzIaO4bmfLp546vXFq8O98zptBzlXwGjYhr96/WAZP118/4NhOg0BA3ojYDCvZYd20Cl+8PbiyYMO4ulfDffPKlnAaNmGAgbQiIDBjIaOfDmsX99+3Ls/PjgzX3b2h51IXAqIMu5M4jLB6hn8dMdTLilML2scMNYEjoPOuDz/sFM+zboGGy5rVas2PHxuub+Ux5Z7xOv/Yt6wOv+m72Fo2V4bLQvYCQGD+YzOuJed0MTZc9x/2JF8ER7KffXZ+qYBI+Z7rKMZOqsvljXuICc62PFzhtcy7sSOX9eBDZc1qXEbRl1Wn7/B6z8Qr/VwejpgHK6/WvawjF2110bLAnZGwGA2h51hFQiGjmLcqU53mtPBYdMRjMcdzrP+DHzN9HikYE39H7dmXadaVvs2jE74+ICxps6PjOf/ImCMO/fle1bNt6ple42XBeySgMFMVjuhRx3AqMNZ6USXVjua0weM8bLGdRtPr1vmadbVYFkN23CjgHFsZ75ar+n1rws+tR20V/16gZ0RMJjHmk7qMCQ83uG0DxiHz40z6rp8saxxBzmaXtvBnmJdJ1rWyA7a8CQBY/2lhnH7nSRgtGyvY5YF7JSAwSyiYxkf+OtSdxRtA8Zq57e6rPE84+l1nf9p1rXpslbtog3nGcEo97dsr02WBeySgMEMpg7+xepjm3aOk/ONO8PJznG8rHEd1kyPO6pt1nXcslaM61RbfaxpwBg685U6P7Ju/ePlDqGwzNeyvTZaFrBLAgZn76ATizPsdUPs0RnVj2/cOa7pZB4/m1/tHKOTi3lWOrFHHeR4erWOp1/XpssaOas2XNrg9R+I13b4vPXzPxYyVl5Dy/babFnA7ggYnLk40K92dpWhwygdwcad44HS+Sw7kuVzDud7rMOsOqTSKS3r9GhZ4w5ytcMMbdZ1aKNlVc6sDZePHf/6v5g3rM7/aP2j9lgJSC3ba8NlAbshYAA7Nx1wgH0mYAA7J2DA+SNgADsnYMD5I2AAAM0JGABAcwIGANCcgAEANCdgAADNCRgAQHMCBgDQnIABADQnYAAAzQkYAEBzAgYA0JyAAQA0J2AAAM0JGABAcwIGANCcgAEANCdgAADNCRgAQHMCBgDQnIABADQnYAAAzQkYAEBzAgYA0JyAAQA0J2AAAM0JGABAcwIGANCcgAEANCdgAADNCRgAQHMCBgDQnIABADQnYAAAzQkYAEBzAgYA0JyAAQA0J2AAAM0JGABAcwIGANCcgAEANCdgAADNCRgAQHMCBgDQnIABADQnYAAAzQkYAEBzAgYA0JyAAQA0J2AAAM0JGADQoQsXLixLVgLGhrK/0QDkImCcE9ne6OwbJsB5l/043n3Ne2ngbG90b/XN1n690o5wfmTf37uveS8NnO2N7q2+mdqv57pmaMcMdYQMsu9L3de8lwbO9kb3Vt9M7ddzXTO0Y4Y6QgbZ96Xua95LA2d7o3urb6b267muGdoxQx0hg+z7Uvc176WBs73RvdU3U/v1XNcM7ZihjpDB3PvStuvv/igwdwMXvdRjU73VN1P79VzXDO2YoY6Qwdz70rbr7/4oMHcDF73UY1O91TdT+/Vc1wztmKGOkMHc+9K26+/+KDB3Axe91GNTvdU3U/v1XNcM7ZihjpDB3PvStuvv/igwdwMXvdRjU73VN1P79VzXDO2YoY6Qwdz70rbr7/4oMHcDF73UY1O91TdT+/Vc1wztmKGOkMHc+9K26+/+KFBeoKIoiqIoZ19OS8BQFEVRFGVtOa00AWNuvdRjU73VN1P79VzXDO2YoY6Qwdz70rbr7/4oMHcDF73UY1O91TdT+/Vc1wztmKGOkMHc+9K26+/+KDB3Axe91GNTvdU3U/v1XNcM7ZihjpDB3PvStuvv/igwdwMXvdRjU73VN1P79VzXDO2YoY6Qwdz70rbr7/4oMHcDF73UY1O91TdT+/Vc1wztmKGOkMHc+9K26+/+KDB3Axe91GNTvdU3U/v1XNcM7ZihjpDB3PvStut3FNjQ3G/0SfVW30zt13NdM7RjhjoCu+cosKd6O8hn6nR6rmuGdsxQR2D3HAU4E5k6nZ7rmqEdM9QR2D1HARjRQW5H+wHBUQAAaE7AAACaEzAAgOYEDACgOQEDAGhOwAAAmusqYFy6dOnRv7jFbQA47y5fvrzsF69evTrck0M3AePKlSvLBrxx48ayxO24DwDOq4sXLz468RYwTikasR61GE8DQHYxGlH6txIcrl+/Pjz6uHKyHcFCwNhCNN44YESZW9Qh6hZvdO/qDTY24h6U9hu/vwDn0fhyRwkbR9l1wDhJ6DkJAWONkhxL6T1gxAZSNoiyAbfYQLZR16lcApu7TgBzKsfn0qdEv1f6uvhb+pw6TJxFwKiXX8LGtlwiWSMaOtY/3hgyKJ35rjbG08jQjqXdogDswlEBY52zChgnqdMmujmSlhcY4iw3bvfwIc+MASM2jl7qHPUopefRi2irqGNpu57UwaeU3rbHss+W0lO4hZ4IGDOJF1QOUPGCe5AtYOx6Qzyt0kn2EBqnxA4V73V5v3tS2q5XPZ0QQO9O0pmPg3sprZ2kTifR71GrE5kCRgkXPR7oo/2ibtGevSntFnUUME6uxzYDNidgzCRLwOjxLDI20qLn8BM7Ugk+PQeMUup27UHUp65flJ4vh+3C+LWPp+vR2dgX6jaL93c8XbbDKHG73gZi3vF02b+ixLqm6lBPl8BfyquvvvrY9Pjx8/Z+0ka3AePOay8Ot+YxPqhHiR25V/UBqqf61vWJNu3N+EBalx71GNRiO6vPduJ2z/sKcDa6DRg3v/PVxcPbN4cpOBs9jmDUSiAqIy49GAeM8TRwcr/5yV8Mt/Lq9kj6yXe/vnhw89fDFJyN3gNGGVmLkYxelDqVYfTeAhBk9NHTvzvcyqvbI+mn3/vDxb333hym5rMPKZLcYkQgOu1SerzUVNfR5RHYnoCxQ5/+4BuLz//rX4ap+ezDmwxALh8986XhVl7dBozP/vaZxd03rg1T88kcMIy+AOQUn0PMrt+A8cq3Fr/9178bpuaTOWAYfQHIScBo7N67ry8vi0SwuPXSN5efw4iz8BjNuP2Pfz7MdbYyd9I3r3x5uAVAFg/v3RUwWvvs77+97NCnylzD/bHujPZlAwU4b+I/KAWMxuJ7Lz7+9h+shIv4sMuDW/87zHW2sgaMfdlAAc4bAWNHfvvPf70SMG69/NTw6NnLHDDiu0QAyEXA2JUH95cdYx0w5vx31cwBIz7DAkAuyxPEF54cpvLqL2AciA97lnAx91l41oARoUzAAMhnX04QuwwY4dZf/fGyc7/zy5eHe+YhYABwlu5/9J6AsUsP/u9/lv9m+fDu7eGeeWQOGPHvvQDksi8niN0GjHD/w3eGW/PJGjDuvvkjAQMgIQHjnMgaMOLLygQMgHwEjHMic8CY69tPATg9AeOcyBow7vzih37sDCChCBjxjw7ZCRjHyBowIlwIGAD5RMDYh0vcAsYxMgeMO6+9OEwBkMXdN64JGOdB1oARn7/o4efuATiZffmQvoBxjKwBIzZOAQMgHwFjT91//61Hn1+IEgGjnr733pvDnH0TMAByEjD21MM7n07/ZPxB+fhPf2+2n40/qdg444NCAOSyDBivfGuYykvAmFBGLsbl9j88O8zRv/gfagEDIJ8IGNEPZdckYFy5cmVx4cKFx8qNGzeGR3fv0qVLy3Vev359uGc7U6MYmUYvgoABkNOdn31PwChKwCgd/MWLF5fTZ6EEmpYBI4xHMTKNXoQIGPc/eHuYAiCL6H8EjME4YFy+fHk5HaMYcV8dAmK0oThq5KOMSozvr8WyI8yM199CPYqRbfQifPL81xYPbv56mAIgCwGjMjWCESXUwaCEjatXry7vr58Tt2M5oQSUol7elF0EjFBGMbKNXoSb3/mqgAGQkIBRmRqJqI0fOy5gRJiYGumYGsUIuwoYMYpx88qX041ehGXASFhvgPNOwKgc1cFHUCijD/F4zBcBI8T9MR2lHqHoJWCE+x++M9zK5eM/+/3hFgCZRLiIH6zM7kwDRpkvAkaUdaFh6hJJHTjGdhkwsopLOwDkE5fl9+GLEnceMMqoRZQyYlFfIqlLBIuizFvKlBJS6lLCzHknYADktC/fxNwkYJzGeJSihJR1l0HY3MO7txc3n/3KMAVAJgLGlqZGMMpnM9hO/PdIfMgTgHwEDLolYADkJWDQrfsfvbf45IUnhykAMhEw6Fb8Bkl8VTgA+dx6+anF5//x82EqLwFjDwkYAHnty49VChh7aBkwfvCNYQqATAQMunX3jWvLa3gA5CNg7Iny/Rt1Oavv4ijfBRLlqG8qPan4cJCAAZCTgLEnxt9CWr5BdNdiveV7P0odWn0PiIABkEf8MGX5gbMo8TUD5T9Jotx7781hzlwEjFHAKKMKMYpRf815lKkfYKtLGfmI+abuX6d85Xkss4U7r724+M0/vTBMAdC7+GqB+ImHqZJ1NEPAGAWMGMEov2dSB4MSNiIMxP31c+pwMPVDbcf9Pkp5TlnetkoKBiCHu//+k8lw8elf/tEwRz4CxsRIRG382HEBI8LE1EjHulGMElzK81sQMADy+eT5r60EjPvvvzU8mo+AMQSAqdGDCApl9KEEgfI5ibg/pqPUIxQnCRhlmTGC0dLtHz2/uPOLHw5TAGQQn7eow8Wtl745PJKTgLFhwCjzRcAon5mYCg1Tl0jqwFGUUZDW4SLsy9fMApwrD+4vP+C5DBjPfGlx/8N3hgdyEjCOCBhlhCFKGbGoL5HUpQ4KZd5SppQgUpcSZk7q4b27i89e+dZy5CIujcSHhW79zZ88+gTy5//5y2FOAHoWo88RMPbhPwHPfcA4jfEoxVGXQc5KDKXVQ2t1MZoBkEOcMN589ivLH63MTsA4hakRjPLZjLnc++9/mwwXy19VfXB/mAsAzoaAsUfi29/GAePzt342PAoAZ0fA2CPj/6OOwAEAcxAw9swn3/36o4CR9etlAchPwNgz5f+os///NAC5CRh7Zp8+gQxAXgLGHsr+5SwA5CdgAADNCRgAQHMCBgDQnIABAGuUn4Koy5w/C5GJgAEAa4x/ELP8mCXH00oAsMY4YJQfu4xRjPoXt6NcunRpOU84auQj5pu6v1aeX//y9ty/eXVSAgYArDE1ghEl1MGghI0IAXF//Zy4HcsJ41/jrpdXK+stz4tQMjVfzwQMAFijdPR1qY0fOy5gREiYGukYj2KU+8syxsEkAwEDANYYd/S1elShHsEIcX9MR6lHHgQMAGDjgFHmi4ARZSo0hKlLJHXgKAQMYOVAELfLAaMcaOqzmnJAKmc88fwQzykHkDLEGgeVUA4u5YAVt8s6xuuv1zFef72O8frrdfS2/vE64Kwcte2VbThKbPPxN7b1sv3WpWzLocxbypTxesv+kUmu2kKHxgeCuF0633EHW3e+5eBUOti68+2tg597/eN1QM/KtlyU7bfsP+eFgNGRshHW5aw2yHLgj1I6BwBOrgTkupSQfZ4IGB2ZOhOM6V2L9ZaNf3zGCQCnIWB0ZBww6iHjMpxcShmeDkeNfNQjE/X964zrAACnIWB0ZGoEo1yuqINBCRsxylCG4spz4nYsJ4yvA9bLGyujJWW5ALANAaMjUyMRtfFjxwWMCA1TIx1HjWKUSyTlw3UAcBoCRkfGIxi1CApl9KEewQj16EM9QnGagBFinvp5AHBSAkZHNg0YZb4IGGXEYSo0TF0imQoOMV95fgkvRjAA2IaA0ZGjAkbp+KOUEYv6Ekld6nBQ5i1lnXo+4QKAbQkYyY1HKTa9DAIAuyRgJDc1glE+mwEAcxEwAIDmBAwAoDkBAwBoTsAAAJoTMACAxhaL/wemDsdAqSl5FgAAAABJRU5ErkJggg==)\n",
        "\n",
        "\n",
        "\n",
        "\n",
        "El valor presente de está anualidad está dado por:\n",
        "\n",
        "\n",
        "![anualidad anticipada.PNG](data:image/png;base64,iVBORw0KGgoAAAANSUhEUgAAAJ0AAAA5CAYAAAAsqykuAAAAAXNSR0IArs4c6QAAAARnQU1BAACxjwv8YQUAAAAJcEhZcwAADsMAAA7DAcdvqGQAAAS4SURBVHhe7ZyNTeswGEW7AjOwAjswAjOwAhuwARswAROwAAuwATsEnUhXsiw7cVrbSeN7JOsR10mc+OTzT9p3mcxw/P39Ta+vr9Pz8/P08/Mz531+fs7bLy8v0+/v75zXCks3GAj3+Pg4fX19zf8i2tvb2/Tx8THnXS6Xebsllq4CNCSRYg+IVO/v79P39/e8TZRCniWoLzw9Pc2SaV+wdDfCzeUJbgkNTsRYOg9CtuqyECQUR10ndQpliqEc+1FWUJ681g/QaaXjxj08PMw3sRU0GNFCkSOGRkxFkzXCyLUG10n5uA5EQK4/F/XUlYafS2CP6TZCY2ms0lI6GovjpxqIPM6PcNRlq3SUR6RbIfrm6ijBQllV39acTjpupmZkNHwr6WicsGsK0aAckKeFdByPMqRcNINcPbk3sWCcl3yoIX2O00kX0ko6dU0lIrWUTl330niSh5BoF8N+LI+EcL8oy3Fbjuss3RWoayqhlXSgYyuyp0g9IHSpbMfdrvJzY9RaDC0djVaS4qee45aOfdh/STpNBMJEec4R58eUPFSclzKtZ/FbsHQFKSUdqQT2byWdyi0h6VL778XQ0l1LTelSlEhSKpOl60xL6Wp1rylKJCk9rqS72+6VQSkXq4Em/7J9pAsK0eyu9sB4y0RCZZeWNWIovyYdM09dGyl3/C0z7V5sko7KkySZniLSUaBONJiiHAn5yKu1DLDWkMwKOR/rY6oDkREB12QCyq+V07E5JteXm8HyeWrJZE822aLIoZvNhbJ9pIuSdKlUSzrILbqCpMulNSiTE1oQ3Xj4SUuRfKmee3GcEHVnIDAPXOoV01FAyNxrsD2xdDdABCH61x4z1kAv/GtG91oUS8fTwvggHCtxUQxol1bEzw5dIV3YURqXB4B2ok5rXfReFEmHcBKNhHgkpJN8I4tHQx9FOtpqy0x5D4qkQ6jU08zNVuSLXx4bk+PmMZ2WD4h2QhGxNJmxuLnFGTfE8oRClSRQF16ypGDum03SIQbTcLpSjeu0did5tpCS7tqxkY7lVDe1oPiozIhSlQrTVq7dL0VYD6d6qQVFRyX6qBJ0f0QlkepegW0+YwKiz+MoFu+XKmPOR5F0mqES7WKWpCNprUjihsLG+/F3TjpkV/k4eRx4X2ySLtW4mr2SQthORbYwL94vtY85H0XS6RsN8SsfhNMCcSgPpAQiLxQ33i+1jzkfRdLRJYZvH4h8GquFY7aQlEDkXSudu9fzUCQd8FZCXxwkIRtjPCIfIoaLw0AZRzqToli6rVi6Zeg9uBdKI2HpdgLp1HPQa4xEM+lKiKUbEa5/tC9LWLod0RqnfnMyCmOHmc7QpSIYQwyGEfyNdFpAHwVL1wkk03IT0mnBfcRIb+k6gHDIFf4qi6Um8pBvNCxdY7SwHs9QJV3qffbZsXSN0bgtXgrSO+uj/56hBZauMRq7EfFC9D47zh8BS9cYSReS63JHwdI1Jo50jOWIcginSQTvtUf6Caela4zGbgjGpIG3D4jH18SIduQd9X8JaIWl6wCLv1oQFkS2OG8ULJ3pjqUz3bF0pjuWznTH0pnuWDrTHUtnumPpTHcsnemOpTPdsXSmO5bOdGaa/gGPtFmG7HmL7gAAAABJRU5ErkJggg==)\n",
        "\n",
        "Y en t=n \n",
        "\n",
        "![VALORFUTANUANTC.PNG](data:image/png;base64,iVBORw0KGgoAAAANSUhEUgAAAJMAAABECAYAAACF3geCAAAAAXNSR0IArs4c6QAAAARnQU1BAACxjwv8YQUAAAAJcEhZcwAADsMAAA7DAcdvqGQAAAUdSURBVHhe7ZuxUewwFEU3YiBkhghCWqAHSiAlJSIhIiWiAzqgAiqgARqgAzog8P/Hs4/R17ctyX625eWeGc2yllf2SsfvyfKya4RwQjIJNySTcEMyCTckk3BDMgk3JJNwQzIJNySTcEMyCTckk3BDMgk3JJNwQzIJNySTcEMyVcrz83NzfX3dvL6+tu/f39+bm5ubdht/14hkqhCEeXl5aeXZ7XatUI+Pj61El5eXzdXV1X7Puvg1MjEgX19f+3fLwTGJMhZhIHUuVodAyMTnDUSTTCvx9vbWXs0MTN8AcsXPlTo4fiwEf3NORJ8hkIb9Qmjr7u5u/86fKX1x0DIRAU5PT5uPj4/9ln/5/Pz8SSXhYKeg3TDSDMHA0HZ8DoiNLEjeBfWcV1hvYuYeu4SxfRFysDLROYjEAMQwUAySzT9KO5BUQ5kKgnHsrnM0ccI6S3t8Ny+m9kXIZJm+v7+bp6en5uLiojk/P28eHh7abWtDKohThGHRwv6eQyYGnDYpQ+ms7zz5XCwOx2QbEJ08pJraFyFJmVKyUHdyctKeBOX4+Li5v7/f166DpYicTplTJksbvPZhEShOg7RPZA0xwYbS4xRmlyklC5JZnRX2XxMbIDonxVwygbU9FJn6xOezXXM9tnumuZAxfRGSlCkly9nZ2X/1R0dH+9p1sCs4p9NTHUg9dWEhLVHi7fHx2EbbtDEE+wxFrxxIe/H59JU+ZpcpJQtpj2hldfx9e3u7r10HOoNzyWFOmYheOefBPjmRbohNyJSShfkTaY9ohWTUrT0BpzNyBhHGdGBumqNdz/3mZnaZapQlhcnkkea6yJGppF32m5rmPJhdpi1SMgG3fUvujnJkYtJNu7ZO1LfQWHLnOTdj+iJklEwclCuJW1cOTqFz6UA6Z21yBog6Os2+A6+s+bA9FdFyZEIe2qWf2LdPJhvAvlX6JZjSFyHFMnEQDkhhEkpH8WrbUs+blmJo0RLoqL6S6kDE6JMjhH1S7aXOcwni7x+W2WSynEqJO5Mry6JTDdAJXedZE0OPU7ZIkUyYypdnBXYLIBIhe80U0gepmH4kMh0KRTKR/5EpNV+oCa56WxOqYT4HRG/OqZYo7sWoyESp8WofgihVi0w1nYsnRTIxDwln/Id2ZYlpFMkERCQTijKUQmyf3CK2zagRJEKFSwSUrkgV1ucUsHbF9pg0akhFVAojFe9LiWWasu5iban4lhxcQgBS2U8+KbwvoeSEU1hbKr4lB58R/AsC2YEt3RGl7FGC1XVFHasDPjMlMon1cJMJTApLdbzyPlyXQpR4oS5XplDYuEjA9XGTKXzUYk/ru8To2mafgyGZRN0UycREm6jCqnK4FGCPLRAifNTSJ5OJY0imw6BIJhv0voIE4cq4t0xKc3VTJBPpi8jEHCgcSPu1QLxw6S2TqJsimUqRTGn4vlZKl1RqQzKtDL9wtO8vmRwIZfqNME3gBmbrSKYK4LvX8N8pU/m9I7gS3KSwlEI656bF1ud4v3Uk04KwbMJ8kII89gsJii30bhnJtBD2OzAWdcMlFHtAfghIpoUwaeI7NraHTw22jGRaAKISIsUPuIlQbB/7H7S1IZkWwNbWmHiH2E9z4u1bRTItgMkUT7L7Ut9WkUwL0BWZSG32jBNIeVv/z17JtABEHu7kbEkAiZhH2aMUXqkLf3GxRSTTQiAUIoW/ruA13rZlJJNwQzIJNySTcEMyCTckk3BDMgk3JJNwQzIJJ5rmD+7KHOxUKXadAAAAAElFTkSuQmCC)"
      ]
    },
    {
      "cell_type": "markdown",
      "metadata": {
        "id": "sav9ALGlaYC5"
      },
      "source": [
        "##Perpetuidades"
      ]
    },
    {
      "cell_type": "markdown",
      "metadata": {
        "id": "_XUph9JPampE"
      },
      "source": [
        "En las perpetuidades se considera $lim _ n \\rightarrow \\infty$ y por eso el valor presente de la anualidad vencida queda como:\n",
        "\n",
        "![perp.PNG](data:image/png;base64,iVBORw0KGgoAAAANSUhEUgAAAF0AAAA9CAYAAADPhWWZAAAAAXNSR0IArs4c6QAAAARnQU1BAACxjwv8YQUAAAAJcEhZcwAADsMAAA7DAcdvqGQAAAMOSURBVHhe7ZktjipBEIC5AjcgAcEBOAAOg8BhsXgEwaC5AQkCgeAEaAQSARcgXACHQPbLN5l6r9MZ3vay2S5C15dUyM4OzfB1dfUPNWckx6QrYNIVMOkKmHQFTLoCWUq/XC5uu92Wf6UnK+m3280tFgtXq9Vcr9crr6YnG+nL5dI1m81CtklPABk+Ho+LVzDpCph0BUy6AiZdAZOugElXwKQnhmUj0judTnklPdlIZ9vPbpQNEtKJ4XBYXDscDuVdachOelWY9Aww6QpES+c4dDabFbO+1MR6vV7UxfP5XN5lxBAlHeEimkA8gXSRb+LjiZKOUGb98OCf5ZdkPhlvxPHjmr7b7f5muxHHj6Wz3JKyE8IGpNVquW636/r9vhuNRm4ymbj5fO5Wq5XbbDZuv9+74/Horteru9/v5Tv/wZKOtilxn8K3pPPF+QWGUiJ1HbHPpMv1V0IQ6a8Stvu/SEX0J7FyqXpQP0Iej0eRwafTqcho5oT1el1k+nQ6LTJ/MBgUI6HdbrtGo/G0rVfxn++rSEXUJyFLHozM84f6s/LC5CuTbDgJ04Gy8mHUyM9oELYln/1JRH0bkYeskGfSEU0HgfxGyaTLK8KRyXulVAlhW19J989SwnjXeeBb0kWij6xeCAGZyAhBMPfxf0FO/URQ2Fa2mU528sWZNP1SgHApE74YpPrZK3Dt2XXpiLCtbKWThSKXVyTJsPaHtyCbKR+kck+VdK6/mukfW14AkVIeCL4sNZ7MpyMIH0YFy0vgvfyf+5HPyBG4x+8IaV/INtNfgc6QTkK4Px8gkk4hEO6XrBTSSQKex59bUvJ2KZRCuuw5THpJKP03oCPJdH+EpSRL6dpkJZ1yQoYTLHe1yE66HNDJykqDzx7HFZDlSGcFo0V20lmi/tZIiiU76Qiv2hWnJCvp1HSkU2I0yUq61HOtTZGQlXQ5lmBTRGgtG7OSLkfUHAOwdNRawWQlnexmfU5oHQFAVtLfBZOugElXwKQrYNIVMOkKmHQFTLoCJl0Bk66ASVfApCtg0pPj3B+2+0ve27oxXQAAAABJRU5ErkJggg==)\n",
        "\n",
        "El valor presente de la anualidad anticipada queda como:\n",
        "\n",
        "![perpant.PNG](data:image/png;base64,iVBORw0KGgoAAAANSUhEUgAAAF0AAABDCAYAAAD+rQkoAAAAAXNSR0IArs4c6QAAAARnQU1BAACxjwv8YQUAAAAJcEhZcwAADsMAAA7DAcdvqGQAAANxSURBVHhe7Zk/TiMxFIdzBW6AFIocgAOko6Ggo6WlT4HSpM4NkCgoKHICagrKFOQCERego0jp3W+WH2tZmWUmi/0S/D7JmsTMODOf3zz/YRCc4rh0A1y6AS7dAJdugEs3wKUb4NINcOkGuHQDXLoBLt0Al26ASzfApRvg0g1w6Qa4dAOqlv78/NyU0lQpfb1eh8vLyzAYDMJ8Pv+oLUdV0t/e3sJ0Og3D4TCcnp669BKQSiSZzy69MC7dAJdugEs3wKUb4NINOCjpj4+PzY0y5wWOfL+9vW2+Hwo8B9KZt5emt3RulCLJihjKIUCAIPro6Ki5Z47X19dNPSvVEvQ2pZUcsmG1Wn3e/CGA3Layt9Kd/8elG9BLOq8f+fDs7Owzj5NW2LEjzTjd6Cwd4RJNQTwlHpBcfDc6S0coW6KLxeKj5g9MGRX5RLzzNd+S0zXnPZQZjDXfIv1fc3WmmCcnJ2E8Hofz8/NwdXUVJpNJmM1m4e7uLjw8PISnp6ewXC7D6+treH9//7jyL0znaLvUlC43vaXz4CyMSCXK65q7b5Ou+l2KkPRdSdvtUnLSq3VmLttuMC4pm82mieCXl5cmohkT7u/vm0i/ublpIv/i4qJ5E0ajUTg+Pm5ta1fi++tactK5dWTphtLVW1t6YfDVIJsOwvFSnLdGezmQtqXf/il0fhLJ27ZB1CYd0XQQIJU9DgZdjghHJtcqVYm0ra+k8zu6Ji37OA70li6JMZq9UAQykZGCYM7j74IOiQWlbVUb6UQnD86gGacChCtNxGKQGkevoK6tXh2RtlWtdKJQcjkiSa91/HoLLaZikMo526RTv2uk/9j0AohUeqDwsOR4Ip+OoMTwVmjfnWv5O+cjnzdHcE7cEWpfVBvpu0BnqJMQHo8HiKRTKAiPU1ZJ6bwJ3JdKCfYyfEpLV2Ck6TAXByG9BPwe8kvg0n+jAb7UP9erlE5KQTA5nNTFZ35PU9bcVCcdyZryIp1j7k5O2UvpudCAHE9XtRretnbIRTXSSSlEeDpDkfRte0q5qEa68jbRHqN9I46lqEa6cne6LaA9pbQ+J9VJj2lLObmpNtLJ5UQ5wjWIsj9EyU010pW7EcygyeoT8ez9aCMu3bbORTXSgcWPFkSCyE7rclOV9H3BpRvg0g1w6Qa4dANcugEuvTgh/AKbzogzyTiy6wAAAABJRU5ErkJggg==)"
      ]
    },
    {
      "cell_type": "markdown",
      "metadata": {
        "id": "QLrb58jndMMl"
      },
      "source": [
        "##Valuación de la anualidad en cualquier momento.\n",
        "\n"
      ]
    },
    {
      "cell_type": "markdown",
      "metadata": {
        "id": "NdvYVA2qdUz5"
      },
      "source": [
        "Si estamos valuando una anualidad en plazos distintos a $t=0$ y $t=n$ entonces las posibilidades de donde estemos valuando son las siguientes: \n",
        "\n",
        "- $t<0$, es decir antes del primer pago.\n",
        "- $t\\in (0,n) \\cap \\mathbb{N} $, entre los pagos.\n",
        "- $t> n$, después del útimo pago.\n",
        "\n",
        "Por ejemplo, si consideramos el primer caso, resulta equivalente a evaluar en $t=0$, una anualidad cuyo primer pago es realizado al final del t-ésimo periodo.\n",
        "\n",
        "La anualidad anterior queda denotada por: \n",
        "\n",
        "![cualmom.PNG](data:image/png;base64,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)\n",
        "\n",
        "También es posible evaluar está anualidad como una diferencia de anualidades, es decir:\n",
        "\n",
        "![df.PNG](data:image/png;base64,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)"
      ]
    },
    {
      "cell_type": "markdown",
      "metadata": {
        "id": "mfbk6RzVpB9j"
      },
      "source": [
        "##Aplicaciones"
      ]
    },
    {
      "cell_type": "markdown",
      "metadata": {
        "id": "D8JiVKFLpFgb"
      },
      "source": [
        "### Ejercicio al lector\n",
        "\n",
        "Se compra hoy una anualidad anticipada de 10 años con pagos anuales de $\\$2,500$ a $i=12\\%$ efectiva anual, el valor presente de dicha inversión es igual al valor presente de una anualidad vencida de 15 años que comienza en 2 años y paga un monto m, ¿Cuanto vale m?."
      ]
    },
    {
      "cell_type": "markdown",
      "metadata": {
        "id": "J5rAnudjp-4e"
      },
      "source": [
        "###Ejemplo 1 \n",
        "\n",
        "Una persona de 40 años desea acumular un fondo para su retiro depositando un monto de x al final de cada año, en una cuenta que paga $4\\%$ de interés anual, a la edad de 65 años la persona usará el monto acumulado para comprar una anualidad vencida de 15 años, a tasa del $5\\%$ anual, con pagos anuales de $\\$10,000$, ¿Cuanto vale x?.\n",
        "\n",
        "Con lo descrito en el problema podemos formular la siguiente ecuación:\n",
        "\n",
        "![ejem1.PNG](data:image/png;base64,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)\n",
        "\n"
      ]
    },
    {
      "cell_type": "code",
      "metadata": {
        "id": "1Dn7WAoxsw3i"
      },
      "source": [
        "#está función nos va a permitir  sacar la anualidad dada la tasa de interés y el tiempo\n",
        "# es importante tomar en cuenta que la tasa de interés debe ir acorde a los peridos\n",
        "\n",
        "def anua(i,n):\n",
        "  #pedimos que nos imprima el valor del monto de acuerdo a los parámetros que proporcionamos\n",
        "  return (1-((1+i)**(-n)))/i"
      ],
      "execution_count": null,
      "outputs": []
    },
    {
      "cell_type": "code",
      "metadata": {
        "id": "mJ4FNmSdsynz",
        "colab": {
          "base_uri": "https://localhost:8080/"
        },
        "outputId": "e8c07d17-eda5-4bcb-99f8-8c734bcbb732"
      },
      "source": [
        "anua(0.05,15)"
      ],
      "execution_count": null,
      "outputs": [
        {
          "output_type": "execute_result",
          "data": {
            "text/plain": [
              "10.3796580381806"
            ]
          },
          "metadata": {
            "tags": []
          },
          "execution_count": 28
        }
      ]
    },
    {
      "cell_type": "code",
      "metadata": {
        "id": "reh53HCXtI1o"
      },
      "source": [
        "#está función nos va a permitir  sacar el valor futuro de  la anualidad dada la tasa de interés y el tiempo\n",
        "# es importante tomar en cuenta que la tasa de interés debe ir acorde a los peridos\n",
        "\n",
        "def fut(i,n):\n",
        "  #pedimos que nos imprima el valor del monto de acuerdo a los parámetros que proporcionamos\n",
        "  return (((1+i)**(n))-1)/i"
      ],
      "execution_count": null,
      "outputs": []
    },
    {
      "cell_type": "code",
      "metadata": {
        "id": "eLABSK7DtJyM",
        "colab": {
          "base_uri": "https://localhost:8080/"
        },
        "outputId": "48174517-c58e-4f0d-856f-473bb68b11d4"
      },
      "source": [
        "fut(0.04,25)"
      ],
      "execution_count": null,
      "outputs": [
        {
          "output_type": "execute_result",
          "data": {
            "text/plain": [
              "41.64590828718555"
            ]
          },
          "metadata": {
            "tags": []
          },
          "execution_count": 31
        }
      ]
    },
    {
      "cell_type": "code",
      "metadata": {
        "id": "6xC2mwRltRLt",
        "colab": {
          "base_uri": "https://localhost:8080/"
        },
        "outputId": "ae6c022c-3587-4216-f696-3852f68ac433"
      },
      "source": [
        "#obtenemos la x\n",
        "(anua(0.05,15)*10000)/fut(0.04,25)"
      ],
      "execution_count": null,
      "outputs": [
        {
          "output_type": "execute_result",
          "data": {
            "text/plain": [
              "2492.3596254891677"
            ]
          },
          "metadata": {
            "tags": []
          },
          "execution_count": 32
        }
      ]
    },
    {
      "cell_type": "markdown",
      "metadata": {
        "id": "44FIX-27t5z9"
      },
      "source": [
        "###Ejemplo 2\n",
        "\n",
        "Se desea adquirir el crédito para una vivienda de $\\$1,000,000$ con pagos mensuales de $\\$5,000$ por 30 años, con una tasa anual del 10.5\\% \n",
        "\n",
        "¿Cuánto debe valer el enganche? \n",
        "\n",
        "Por lo anterior primero sacamos la tasa efectiva mensual, de donde se obtiene que:\n",
        "\n",
        "$i=0.8355\\%$"
      ]
    },
    {
      "cell_type": "code",
      "metadata": {
        "id": "3YMMmclmwRyd",
        "colab": {
          "base_uri": "https://localhost:8080/"
        },
        "outputId": "e9d1775b-cb75-4021-9c30-f780e5dccb6a"
      },
      "source": [
        "#sacamos el valor de la anualida \n",
        "anua(0.008355,360)"
      ],
      "execution_count": null,
      "outputs": [
        {
          "output_type": "execute_result",
          "data": {
            "text/plain": [
              "113.70180791320338"
            ]
          },
          "metadata": {
            "tags": []
          },
          "execution_count": 33
        }
      ]
    },
    {
      "cell_type": "markdown",
      "metadata": {
        "id": "CFkmR6Pfw1t9"
      },
      "source": [
        "ahora tenemos:\n",
        "\n",
        "$$\\begin{equation}\n",
        "5,000*(113.70)= 1,000,000*(1-p)\n",
        "\\end{equation}$$\n",
        "\n",
        "entonces $p=43.149989\\%$, por lo que el enganche vale:\n",
        "$43.15\\%*1,000,000=431,499.89$\n"
      ]
    },
    {
      "cell_type": "markdown",
      "metadata": {
        "id": "kMWkdTgmoyO5"
      },
      "source": [
        "## Referencias\n",
        "\n",
        "* Adam Siade, J. Apuntes electrónicos de matemáticas financieras. \n",
        "* Gutierrez J, Gerardo. Apuntes  de matemáticas financieras.\n",
        "* Díaz M, Alfredo.(Cuarta Edición).Matemáticas Financieras"
      ]
    }
  ]
}
{
  "nbformat": 4,
  "nbformat_minor": 0,
  "metadata": {
    "colab": {
      "name": "zMinimosCuadrados_interactive_01.ipynb",
      "provenance": [],
      "include_colab_link": true
    },
    "kernelspec": {
      "name": "python3",
      "display_name": "Python 3"
    },
    "widgets": {
      "application/vnd.jupyter.widget-state+json": {
        "65c22058c46a491ba7773477ec55d693": {
          "model_module": "@jupyter-widgets/controls",
          "model_name": "VBoxModel",
          "state": {
            "_view_name": "VBoxView",
            "_dom_classes": [
              "widget-interact"
            ],
            "_model_name": "VBoxModel",
            "_view_module": "@jupyter-widgets/controls",
            "_model_module_version": "1.5.0",
            "_view_count": null,
            "_view_module_version": "1.5.0",
            "box_style": "",
            "layout": "IPY_MODEL_0370bdf8f7ef4fe1aa076966258b638f",
            "_model_module": "@jupyter-widgets/controls",
            "children": [
              "IPY_MODEL_601d8199a32340d0a11893f5e6f35fd6",
              "IPY_MODEL_69abda0ec3544d84b57e697f952e92e9",
              "IPY_MODEL_85e971531fd24fabb910d4b7b0cce6b3"
            ]
          }
        },
        "0370bdf8f7ef4fe1aa076966258b638f": {
          "model_module": "@jupyter-widgets/base",
          "model_name": "LayoutModel",
          "state": {
            "_view_name": "LayoutView",
            "grid_template_rows": null,
            "right": null,
            "justify_content": null,
            "_view_module": "@jupyter-widgets/base",
            "overflow": null,
            "_model_module_version": "1.2.0",
            "_view_count": null,
            "flex_flow": null,
            "width": null,
            "min_width": null,
            "border": null,
            "align_items": null,
            "bottom": null,
            "_model_module": "@jupyter-widgets/base",
            "top": null,
            "grid_column": null,
            "overflow_y": null,
            "overflow_x": null,
            "grid_auto_flow": null,
            "grid_area": null,
            "grid_template_columns": null,
            "flex": null,
            "_model_name": "LayoutModel",
            "justify_items": null,
            "grid_row": null,
            "max_height": null,
            "align_content": null,
            "visibility": null,
            "align_self": null,
            "height": null,
            "min_height": null,
            "padding": null,
            "grid_auto_rows": null,
            "grid_gap": null,
            "max_width": null,
            "order": null,
            "_view_module_version": "1.2.0",
            "grid_template_areas": null,
            "object_position": null,
            "object_fit": null,
            "grid_auto_columns": null,
            "margin": null,
            "display": null,
            "left": null
          }
        },
        "601d8199a32340d0a11893f5e6f35fd6": {
          "model_module": "@jupyter-widgets/controls",
          "model_name": "IntSliderModel",
          "state": {
            "_view_name": "IntSliderView",
            "style": "IPY_MODEL_caecee54815f4727ae9c9bdc1b8f4142",
            "_dom_classes": [],
            "description": "alfa",
            "step": 1,
            "_model_name": "IntSliderModel",
            "orientation": "horizontal",
            "max": 3,
            "_view_module": "@jupyter-widgets/controls",
            "_model_module_version": "1.5.0",
            "value": 1,
            "_view_count": null,
            "disabled": false,
            "_view_module_version": "1.5.0",
            "min": -1,
            "continuous_update": true,
            "readout_format": "d",
            "description_tooltip": null,
            "readout": true,
            "_model_module": "@jupyter-widgets/controls",
            "layout": "IPY_MODEL_75bcc98de0184a30a8ef0700bab27dc7"
          }
        },
        "69abda0ec3544d84b57e697f952e92e9": {
          "model_module": "@jupyter-widgets/controls",
          "model_name": "IntSliderModel",
          "state": {
            "_view_name": "IntSliderView",
            "style": "IPY_MODEL_0899d57ae2604b04825a04de4ab4af0f",
            "_dom_classes": [],
            "description": "beta",
            "step": 1,
            "_model_name": "IntSliderModel",
            "orientation": "horizontal",
            "max": 3,
            "_view_module": "@jupyter-widgets/controls",
            "_model_module_version": "1.5.0",
            "value": 1,
            "_view_count": null,
            "disabled": false,
            "_view_module_version": "1.5.0",
            "min": -1,
            "continuous_update": true,
            "readout_format": "d",
            "description_tooltip": null,
            "readout": true,
            "_model_module": "@jupyter-widgets/controls",
            "layout": "IPY_MODEL_6f3f8319b8044d789faf730408f1f63b"
          }
        },
        "85e971531fd24fabb910d4b7b0cce6b3": {
          "model_module": "@jupyter-widgets/output",
          "model_name": "OutputModel",
          "state": {
            "_view_name": "OutputView",
            "msg_id": "",
            "_dom_classes": [],
            "_model_name": "OutputModel",
            "outputs": [
              {
                "output_type": "display_data",
                "metadata": {
                  "tags": [],
                  "needs_background": "light"
                },
                "image/png": "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\n",
                "text/plain": "<Figure size 720x360 with 1 Axes>"
              },
              {
                "output_type": "display_data",
                "metadata": {
                  "tags": [],
                  "needs_background": "light"
                },
                "image/png": "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\n",
                "text/plain": "<Figure size 720x360 with 1 Axes>"
              }
            ],
            "_view_module": "@jupyter-widgets/output",
            "_model_module_version": "1.0.0",
            "_view_count": null,
            "_view_module_version": "1.0.0",
            "layout": "IPY_MODEL_c3da8a1e78a54ee7a75e2af2392d1f65",
            "_model_module": "@jupyter-widgets/output"
          }
        },
        "caecee54815f4727ae9c9bdc1b8f4142": {
          "model_module": "@jupyter-widgets/controls",
          "model_name": "SliderStyleModel",
          "state": {
            "_view_name": "StyleView",
            "handle_color": null,
            "_model_name": "SliderStyleModel",
            "description_width": "",
            "_view_module": "@jupyter-widgets/base",
            "_model_module_version": "1.5.0",
            "_view_count": null,
            "_view_module_version": "1.2.0",
            "_model_module": "@jupyter-widgets/controls"
          }
        },
        "75bcc98de0184a30a8ef0700bab27dc7": {
          "model_module": "@jupyter-widgets/base",
          "model_name": "LayoutModel",
          "state": {
            "_view_name": "LayoutView",
            "grid_template_rows": null,
            "right": null,
            "justify_content": null,
            "_view_module": "@jupyter-widgets/base",
            "overflow": null,
            "_model_module_version": "1.2.0",
            "_view_count": null,
            "flex_flow": null,
            "width": null,
            "min_width": null,
            "border": null,
            "align_items": null,
            "bottom": null,
            "_model_module": "@jupyter-widgets/base",
            "top": null,
            "grid_column": null,
            "overflow_y": null,
            "overflow_x": null,
            "grid_auto_flow": null,
            "grid_area": null,
            "grid_template_columns": null,
            "flex": null,
            "_model_name": "LayoutModel",
            "justify_items": null,
            "grid_row": null,
            "max_height": null,
            "align_content": null,
            "visibility": null,
            "align_self": null,
            "height": null,
            "min_height": null,
            "padding": null,
            "grid_auto_rows": null,
            "grid_gap": null,
            "max_width": null,
            "order": null,
            "_view_module_version": "1.2.0",
            "grid_template_areas": null,
            "object_position": null,
            "object_fit": null,
            "grid_auto_columns": null,
            "margin": null,
            "display": null,
            "left": null
          }
        },
        "0899d57ae2604b04825a04de4ab4af0f": {
          "model_module": "@jupyter-widgets/controls",
          "model_name": "SliderStyleModel",
          "state": {
            "_view_name": "StyleView",
            "handle_color": null,
            "_model_name": "SliderStyleModel",
            "description_width": "",
            "_view_module": "@jupyter-widgets/base",
            "_model_module_version": "1.5.0",
            "_view_count": null,
            "_view_module_version": "1.2.0",
            "_model_module": "@jupyter-widgets/controls"
          }
        },
        "6f3f8319b8044d789faf730408f1f63b": {
          "model_module": "@jupyter-widgets/base",
          "model_name": "LayoutModel",
          "state": {
            "_view_name": "LayoutView",
            "grid_template_rows": null,
            "right": null,
            "justify_content": null,
            "_view_module": "@jupyter-widgets/base",
            "overflow": null,
            "_model_module_version": "1.2.0",
            "_view_count": null,
            "flex_flow": null,
            "width": null,
            "min_width": null,
            "border": null,
            "align_items": null,
            "bottom": null,
            "_model_module": "@jupyter-widgets/base",
            "top": null,
            "grid_column": null,
            "overflow_y": null,
            "overflow_x": null,
            "grid_auto_flow": null,
            "grid_area": null,
            "grid_template_columns": null,
            "flex": null,
            "_model_name": "LayoutModel",
            "justify_items": null,
            "grid_row": null,
            "max_height": null,
            "align_content": null,
            "visibility": null,
            "align_self": null,
            "height": null,
            "min_height": null,
            "padding": null,
            "grid_auto_rows": null,
            "grid_gap": null,
            "max_width": null,
            "order": null,
            "_view_module_version": "1.2.0",
            "grid_template_areas": null,
            "object_position": null,
            "object_fit": null,
            "grid_auto_columns": null,
            "margin": null,
            "display": null,
            "left": null
          }
        },
        "c3da8a1e78a54ee7a75e2af2392d1f65": {
          "model_module": "@jupyter-widgets/base",
          "model_name": "LayoutModel",
          "state": {
            "_view_name": "LayoutView",
            "grid_template_rows": null,
            "right": null,
            "justify_content": null,
            "_view_module": "@jupyter-widgets/base",
            "overflow": null,
            "_model_module_version": "1.2.0",
            "_view_count": null,
            "flex_flow": null,
            "width": null,
            "min_width": null,
            "border": null,
            "align_items": null,
            "bottom": null,
            "_model_module": "@jupyter-widgets/base",
            "top": null,
            "grid_column": null,
            "overflow_y": null,
            "overflow_x": null,
            "grid_auto_flow": null,
            "grid_area": null,
            "grid_template_columns": null,
            "flex": null,
            "_model_name": "LayoutModel",
            "justify_items": null,
            "grid_row": null,
            "max_height": null,
            "align_content": null,
            "visibility": null,
            "align_self": null,
            "height": null,
            "min_height": null,
            "padding": null,
            "grid_auto_rows": null,
            "grid_gap": null,
            "max_width": null,
            "order": null,
            "_view_module_version": "1.2.0",
            "grid_template_areas": null,
            "object_position": null,
            "object_fit": null,
            "grid_auto_columns": null,
            "margin": null,
            "display": null,
            "left": null
          }
        }
      }
    }
  },
  "cells": [
    {
      "cell_type": "markdown",
      "metadata": {
        "id": "view-in-github",
        "colab_type": "text"
      },
      "source": [
        "<a href=\"https://colab.research.google.com/github/jugernaut/Prometeo/blob/desarrollo/04_M%C3%A9todosNum%C3%A9ricos/02_M%C3%ADnimosCuadrados/zMinimosCuadrados_interactive_01.ipynb\" target=\"_parent\"><img src=\"https://colab.research.google.com/assets/colab-badge.svg\" alt=\"Open In Colab\"/></a>"
      ]
    },
    {
      "cell_type": "code",
      "metadata": {
        "id": "fdESYp-P8diM",
        "colab": {
          "base_uri": "https://localhost:8080/",
          "height": 818,
          "referenced_widgets": [
            "65c22058c46a491ba7773477ec55d693",
            "0370bdf8f7ef4fe1aa076966258b638f",
            "601d8199a32340d0a11893f5e6f35fd6",
            "69abda0ec3544d84b57e697f952e92e9",
            "85e971531fd24fabb910d4b7b0cce6b3",
            "caecee54815f4727ae9c9bdc1b8f4142",
            "75bcc98de0184a30a8ef0700bab27dc7",
            "0899d57ae2604b04825a04de4ab4af0f",
            "6f3f8319b8044d789faf730408f1f63b",
            "c3da8a1e78a54ee7a75e2af2392d1f65"
          ]
        },
        "outputId": "e5f3cd05-c2c2-4c6e-c7d4-dbd97b1b1ef9"
      },
      "source": [
        "# se clona todo el repositorio \n",
        "!git clone https://github.com/jugernaut/Numerico2021.git\n",
        "\n",
        "import numpy as np\n",
        "import matplotlib.pyplot as plt\n",
        "import Numerico2021.Utils.gutils as vis\n",
        "import random\n",
        "from IPython.html.widgets import interact\n",
        "import ipywidgets as widgets\n",
        " \n",
        "# datos aleatorios\n",
        "x = [0,1,2,3,4,5,6,7,8,9,10,11,12,13,14,15]\n",
        "y = [0,1.3,5,6,4,5.4,7,7.7,3.3,10,14,11.7,12.1,13.9,14.3,15.9]\n",
        "\n",
        "# ecuacion parametrica de la recta\n",
        "def aprox(alfa, beta, n):\n",
        "    x = np.linspace(0, n, n)\n",
        "    y = alfa+beta*x\n",
        "    return x,y\n",
        "\n",
        "def tanteo(alfa, beta):\n",
        "    # recta que intenta ajustar los datos\n",
        "    xaprox,yaprox = aprox(alfa,beta,16)\n",
        "    errorC = vis.RMS(y,yaprox)\n",
        "\n",
        "    par = [{'title':'$y= a + b x$', \n",
        "            'xlabel':'$x$',\n",
        "            'ylabel':'$y$'}]\n",
        "    graf = vis.planoCartesiano(par=par)\n",
        "    graf.scatter(x=x,y=y)\n",
        "    graf.plot(x=xaprox, y=yaprox, par={'ls':'-', 'lw':1, 'color':'red'})\n",
        "    # se muestra el error cuadratico\n",
        "    #print('Error cuadratico medio ='+str(errorC))\n",
        "\n",
        "    # grfica de los errores\n",
        "    par1 = [{'title':'Error Cuadratico', \n",
        "            'xlabel':'$beta$',\n",
        "            'ylabel':'$(y_{r}-y_{p})^{2}$'}]\n",
        "    # grfica de los errores\n",
        "    error = vis.planoCartesiano(par=par1)\n",
        "\n",
        "    min = aprox(0.56527778, beta, 16)[1]\n",
        "    \n",
        "    #punto en grafica de error\n",
        "    punto = vis.RMS(min, y)\n",
        "    \n",
        "    betas = np.linspace(-0.4,2.4,100)\n",
        "    \n",
        "    aproximaciones = [aprox(0.56527778, i, 16)[1] for i in betas]\n",
        "    \n",
        "    sumas = [vis.RMS(y, i) for i in aproximaciones]\n",
        "\n",
        "    error.plot(x=betas, y=sumas, par={'ls':'-', 'lw':1, 'color':'red'})\n",
        "\n",
        "    error.scatter(x=beta, y=punto, par={'lw':1, 'color':'black', 'label':'Error Cuadratico= '+str(punto)})\n",
        "\n",
        "    error.legend()\n",
        "    \n",
        "\n",
        "interact(tanteo, alfa=widgets.IntSlider(min=-1,max=3,step=1,value=0), \n",
        "         beta=widgets.IntSlider(min=-1,max=3,step=1,value=0))\n",
        "\n"
      ],
      "execution_count": null,
      "outputs": [
        {
          "output_type": "stream",
          "text": [
            "fatal: destination path 'Numerico2021' already exists and is not an empty directory.\n"
          ],
          "name": "stdout"
        },
        {
          "output_type": "display_data",
          "data": {
            "application/vnd.jupyter.widget-view+json": {
              "model_id": "65c22058c46a491ba7773477ec55d693",
              "version_minor": 0,
              "version_major": 2
            },
            "text/plain": [
              "interactive(children=(IntSlider(value=0, description='alfa', max=3, min=-1), IntSlider(value=0, description='b…"
            ]
          },
          "metadata": {
            "tags": []
          }
        },
        {
          "output_type": "execute_result",
          "data": {
            "text/plain": [
              "<function __main__.tanteo>"
            ]
          },
          "metadata": {
            "tags": []
          },
          "execution_count": 14
        }
      ]
    }
  ]
}
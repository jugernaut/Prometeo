{
  "nbformat": 4,
  "nbformat_minor": 0,
  "metadata": {
    "colab": {
      "name": "02_Ejemplo_MinimosCuadrados.ipynb",
      "provenance": [],
      "collapsed_sections": [],
      "toc_visible": true,
      "authorship_tag": "ABX9TyPtrJu6lx+/T57ZJYJuNw9h",
      "include_colab_link": true
    },
    "kernelspec": {
      "name": "python3",
      "display_name": "Python 3"
    }
  },
  "cells": [
    {
      "cell_type": "markdown",
      "metadata": {
        "id": "view-in-github",
        "colab_type": "text"
      },
      "source": [
        "<a href=\"https://colab.research.google.com/github/jugernaut/Prometeo/blob/desarrollo/04_M%C3%A9todosNum%C3%A9ricos/02_M%C3%ADnimosCuadrados/02_Ejemplo_MinimosCuadrados.ipynb\" target=\"_parent\"><img src=\"https://colab.research.google.com/assets/colab-badge.svg\" alt=\"Open In Colab\"/></a>"
      ]
    },
    {
      "cell_type": "markdown",
      "metadata": {
        "id": "651DASDzS1Cn"
      },
      "source": [
        "# Ejemplo aplicado de mínimos cuadrados\n",
        "### Trabajo realizado con el apoyo del Programa UNAM-DGAPA-PAPIME \n",
        "\n",
        "*   Autor: \n",
        "    - Ingrid Pamela Ruiz Puga\n",
        "\n",
        "*   Rev: vier may 14 14:09:45 CDT 2021"
      ]
    },
    {
      "cell_type": "markdown",
      "metadata": {
        "id": "fD-sIyus62_2"
      },
      "source": [
        "## Mínimos cuadrados\n",
        "\n",
        "El método de mínimos cuadrados proporciona una forma de encontrar la mejor estimación, suponiendo que los errores (es decir, las diferencias con respecto al valor verdadero) sean aleatorias e imparciales.\n",
        "\n",
        "Este método se utiliza comúnmente para analizar una serie de datos que se obtengan de algún estudio, con el fin de expresar su comportamiento de manera lineal y así minimizar los errores de la data tomada.\n",
        "\n",
        "La creación del método de mínimos cuadrados generalmente se le acredita al matemático alemán Carl Friedrich Gauss, quien lo planteó en 1794 pero no lo publicó sino hasta 1809. El matemático francés Andrien-Marie Legendre fue el primero en publicarlo en 1805, este lo desarrolló de forma independiente.\n",
        "\n",
        "\n"
      ]
    },
    {
      "cell_type": "markdown",
      "metadata": {
        "id": "lbqOmPQeTpqr"
      },
      "source": [
        "### Ejercicio práctico sobre temperaturas.\n",
        "\n",
        "Se obtuvieron datos de *Conagua* correspondientes a la temperatura anual promedio registrada en los diferentes estados de la república entre los años 2002 y 2019.\n",
        "\n",
        "Se eligieron las temperaturas del estado de Colima, las cuales son las siguientes:\n",
        "\n",
        "\n",
        "| Año | Temperatura |\n",
        "| ----- |  ----- |\n",
        "| 2002 | 25.2 |\n",
        "| 2003 | 26.2 | \n",
        "| 2004 |  25.8 |\n",
        "| 2005 |  25.8 | \n",
        "| 2006 | 28.7 | \n",
        "| 2007 | 28.4 | \n",
        "| 2008 |  29.5 | \n",
        "| 2009 | 28.4 | \n",
        "| 2010 | 28.4 | \n",
        "| 2011 | 27.8 | \n",
        "| 2012 | 26.5 | \n",
        "| 2013 |  25.6 | \n",
        "| 2014 | 25.9 | \n",
        "| 2015 |  25.5 | \n",
        "| 2016 | 26.2 | \n",
        "| 2017 | 26.2 | \n",
        "| 2018 | 26.7 | \n",
        "| 2019 | 29.3 | \n",
        "\n",
        "El gobierno de Colima desea obtener una aproximación de la temperatura en 2020, pues será importante para la administración de ese año condonar servicios a causa de uso de ventiladores y aire acondicionado. Todo dependerá de la temperatura estimada en el año 2020 por lo que es importante conocer alguna aproximación."
      ]
    },
    {
      "cell_type": "markdown",
      "metadata": {
        "id": "jx1QmM31bVD3"
      },
      "source": [
        "**Solución**\n",
        "\n",
        "Este procedimiento de análisis numérico en el que, dados un conjunto de datos (pares ordenados y familia de funciones), se intenta determinar la función continua que mejor se aproxime a los datos (línea de regresión o la línea de mejor ajuste), proporcionando una demostración visual de la relación entre los puntos de los mismos. En su forma más simple, busca minimizar la suma de cuadrados de las diferencias ordenadas (llamadas residuos) entre los puntos generados por la función y los correspondientes datos.\\newline\n",
        "\n",
        "Este método se utiliza comúnmente para analizar una serie de datos que se obtengan de algún estudio, con el fin de expresar su comportamiento de manera lineal y así minimizar los errores de los datos tomados.\n",
        "\n",
        "El sistema que se desea resolver es de la forma:\n",
        "\n",
        "\\begin{equation}\n",
        "\\begin{pmatrix}\n",
        "1&x_{1}  & \\cdots & x_{1}^{n-1}\\\\\n",
        "1&x_{2} & \\cdots & x_{2}^{n-1}\\\\\n",
        "\\vdots  & \\ddots & \\vdots\\\\\n",
        "1&x_{m}  & \\cdots & x_{m}^{n-1}\n",
        "\\end{pmatrix}\n",
        "\\begin{pmatrix}\n",
        "c_{1}\\\\\n",
        "c_{2}\\\\\n",
        "\\vdots \\\\\n",
        "c_{n-1}\n",
        "\\end{pmatrix}\n",
        "=\n",
        "\\begin{pmatrix}\n",
        "y_{1}\\\\\n",
        "y_{2}\\\\\n",
        "\\vdots \\\\\n",
        "y_{m}\n",
        "\\end{pmatrix}\n",
        "\\end{equation} \n",
        "\n",
        "Por lo que se procederá a hacer  la matriz cuadrada multiplicando por su transpuesta en ambos lados de la igualdad del sistema, estas ecuaciones normales aseguran que la solución X del sistema minimiza la  distancia del sistema de ecuaciones es decir, la norma $||Ax-b||$. Posteriormente se resuelve el sistema usando la factorización Cholesky.\n",
        "\n",
        "Hay que recordar que se busca aproximar los datos a un polinomi de grado $n$, como el siguiente:\n",
        "\n",
        "\\begin{equation}\n",
        "   P(x) = ax^n+ \\cdots + bx^2 + cx+ d\n",
        "\\end{equation}"
      ]
    },
    {
      "cell_type": "code",
      "metadata": {
        "id": "a4fMJ-ZJ43lH"
      },
      "source": [
        "#Importamos librerias que necesitaremos\n",
        "import numpy as np\n",
        "import matplotlib.pyplot as plt\n",
        "import  seaborn  as  sns \n",
        "sns.set()"
      ],
      "execution_count": null,
      "outputs": []
    },
    {
      "cell_type": "code",
      "metadata": {
        "id": "ezxHySVq73bi",
        "colab": {
          "base_uri": "https://localhost:8080/"
        },
        "outputId": "f587f59d-5aaa-466d-eb73-9b46282ebdea"
      },
      "source": [
        "#Vector con las temperaturas observadas en el 2002 al 2019\n",
        "b = np.array([25.2, 26.2, 25.8, 25.8, 28.7, 28.4, 29.5, 28.4, 28.4, 27.8, 26.5, 25.6, 25.9, 25.5, 26.2, 26.2, 26.7, 29.3])\n",
        "\n",
        "#Vector solución\n",
        "x=np.array(range(1,19,1))\n",
        "\n",
        "#Función para creal la matriz correspondiente a minios cuadrados\n",
        "def creando_matriz(x,n):\n",
        "    A=np.zeros([len(x), n+1])\n",
        "    for i in range(len(x)):\n",
        "        for j in range(n):\n",
        "                A[i,j]= x[i]**(n-j)\n",
        "                A[i,n]=1.0\n",
        "    return A\n",
        "\n",
        "# Grado del polinimio\n",
        "n=5\n",
        "\n",
        "#Ahora vamos a hacer la matriz de coeficientes cuadrada, multiplicando \n",
        "#por ambos lados la transpuesta de A\n",
        "A=creando_matriz(x,n)\n",
        "\n",
        "#Multiplicando por transpuesta\n",
        "ATA=A.T@A\n",
        "\n",
        "#Tamibien multiplicamos la transpuesta del otro lado de la ecuación\n",
        "ATb=A.T@b\n",
        "\n",
        "#Resolvemos el sistema de ecuaciones\n",
        "sol = np.linalg.solve(ATA, ATb)\n",
        "\n",
        "#Funcion que evalua polinomios segun el grado\n",
        "def polinomio(grado,x,meses):\n",
        "  resultados = []\n",
        "  #print(x)\n",
        "  for dato in meses:\n",
        "    suma = 0\n",
        "    #print(\"##\")\n",
        "    for termino in range(grado):\n",
        "      #print(termino)\n",
        "      suma += x[int(termino)] * (int(dato) ** (grado - termino))\n",
        "    resultados.append(suma + x[grado])\n",
        "  return resultados\n",
        "\n",
        "#Veamos cual es el error en la aproximación\n",
        "error=[]\n",
        "error.append(b-polinomio(n,sol,x))\n",
        "\n",
        "#Creamos un vector para pronosticar\n",
        "x5=np.array(range(1,25,1))\n",
        "print(\"Aproximaciones\",polinomio(n,sol,x5))\n",
        "print(\"error total\",sum(abs(sum(error))))"
      ],
      "execution_count": null,
      "outputs": [
        {
          "output_type": "stream",
          "text": [
            "Aproximaciones [25.472151723269505, 25.372285514938977, 26.032912990369205, 26.98435145636654, 27.89426938656009, 28.5505953955852, 28.84442721326694, 28.75294065880359, 28.32229861495007, 27.650560002201484, 26.870588752976523, 26.13296278580109, 25.588882979491636, 25.37308214733855, 25.586734011289977, 26.280362176135014, 27.436749103687234, 28.953845086968272, 30.62767722439083, 32.135258393943694, 33.0174962273724, 32.66210208436563, 30.286500026737258, 24.92073579260945]\n",
            "error total 7.827230085987903\n"
          ],
          "name": "stdout"
        }
      ]
    },
    {
      "cell_type": "markdown",
      "metadata": {
        "id": "oi0lkxOhdo5i"
      },
      "source": [
        "Ahora graficamos la aproximación"
      ]
    },
    {
      "cell_type": "code",
      "metadata": {
        "id": "tOkpbOMWCvKn",
        "colab": {
          "base_uri": "https://localhost:8080/",
          "height": 447
        },
        "outputId": "e9149bc8-ec7e-4abb-b558-989be0624b58"
      },
      "source": [
        "#Tamaño de la figura\n",
        "plt.figure(figsize=(10,7))\n",
        "\n",
        "#Vector x a evaluar\n",
        "x4 = np.arange(0.0,25.0,1) \n",
        "\n",
        "#Graficamos las observaciones\n",
        "plt.scatter(x, b, c='red', label=\"Observaciones\")\n",
        "\n",
        "#Graficamos el polinomio\n",
        "plt.plot(x4, polinomio(n,sol,x4), c=\"blue\", label=\"Polinomio\")\n",
        "\n",
        "#Agregamos titulo a la gráfica\n",
        "plt.title(\"Temperaturas observadas\")\n",
        "plt.legend()\n",
        "plt.show()"
      ],
      "execution_count": null,
      "outputs": [
        {
          "output_type": "display_data",
          "data": {
            "image/png": "[encoded data removed]",
            "text/plain": [
              "<Figure size 720x504 with 1 Axes>"
            ]
          },
          "metadata": {
            "tags": [],
            "needs_background": "light"
          }
        }
      ]
    },
    {
      "cell_type": "markdown",
      "metadata": {
        "id": "Y5aqplXiUZZ_"
      },
      "source": [
        "## Referencias\n",
        "Para profundizar en los temas tratados en el presente documento se pueden consultar las siguientes fuentes.\n",
        "\n",
        "* https://miprofe.com/minimos-cuadrados/\n",
        "* http://matematicas.unex.es/~trinidad/MM/tema2.pdf"
      ]
    }
  ]
}
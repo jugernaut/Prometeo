{
  "nbformat": 4,
  "nbformat_minor": 0,
  "metadata": {
    "colab": {
      "name": "01_MetodosIterativos.ipynb",
      "provenance": [],
      "collapsed_sections": [],
      "toc_visible": true,
      "include_colab_link": true
    },
    "kernelspec": {
      "name": "python3",
      "display_name": "Python 3"
    }
  },
  "cells": [
    {
      "cell_type": "markdown",
      "metadata": {
        "id": "view-in-github",
        "colab_type": "text"
      },
      "source": [
        "<a href=\"https://colab.research.google.com/github/jugernaut/Prometeo/blob/master/04_M%C3%A9todosNum%C3%A9ricos/01_M%C3%A9todosIterativos/01_MetodosIterativos.ipynb\" target=\"_parent\"><img src=\"https://colab.research.google.com/assets/colab-badge.svg\" alt=\"Open In Colab\"/></a>"
      ]
    },
    {
      "cell_type": "markdown",
      "metadata": {
        "id": "PHtKXySXHupB"
      },
      "source": [
        "\n",
        "# Métodos iterativos\n",
        "### Trabajo realizado con el apoyo del Programa UNAM-DGAPA-PAPIME PE101019\n",
        "\n",
        "*   Autor: \n",
        "    - Ingrid Pamela Ruiz Puga\n",
        "\n",
        "*   Rev: vier may 14 14:09:45 CDT 2021"
      ]
    },
    {
      "cell_type": "markdown",
      "metadata": {
        "id": "eDXTzZT7GX4V"
      },
      "source": [
        "## Introducción\n",
        "\n",
        "Los métodos iterativos son aquellos que nos ayudan resolver diversos problemas matemáticos, por ejemplo podemos obtener una aproximación a la solución de un sistema de ecuaciones. Se puede decir que progresivamente va calculando aproximaciones a la solución de un problema. El procedimiento se repite sobre las nuevas aproximaciones para mejorar la solución aproximada hasta que el resultado más reciente satisfaga ciertos requisitos.\n",
        "\n",
        "A diferencia de los métodos directos, en los cuales se debe terminar el proceso para tener la respuesta y suelen tener inconvenientes en aplicaciones de sistemas de grandes dimensiones, en los métodos iterativos se puede suspender el proceso al termino de una iteración.\n",
        "\n",
        "Hay que destacar que este tipo de métodos crea una sucesión de puntos que van a converger a la sucesión de puntos solución.\n",
        "\n",
        "\n",
        "Podemos generalizar un método iterativo en los siguientes pasos:\n",
        "\n",
        "* Inicia con una solución aproximada (semilla).\n",
        "* Ejecuta una serie de cálculos para obtener o construir una mejor aproximación partiendo de la semilla. \n",
        "* Se repite el paso anterior pero usando como semilla la aproximación obtenida.\n",
        "\n",
        "Consideraremos los sistemas lineales ya conocidos:\n",
        "\n",
        "Sea un sistema de ecuaciones lineales\n",
        "\n",
        "\\begin{align}\n",
        "a_{11}x_1 + ... + a_{1n}x_n &= b_1\\\\\n",
        "a_{21}x_2 + ... + a_{2n}x_n &= b_2\\\\\n",
        "a_{31}x_3 + ... + a_{3n}x_n &= b_3\\\\\n",
        "...\\\\\n",
        "a_{n1}x_1 + ... + a_{nn}x_n &= b_n\n",
        "\\end{align}\n",
        "\n",
        "Este tipo de sistemas de ecuaciones aparecen en muchas aplicaciones cotidianas como procesamiento de señales, simulación, analísis y procesamiento de datos espaciales.\n",
        "\n"
      ]
    },
    {
      "cell_type": "markdown",
      "metadata": {
        "id": "CnNo6k82K2JN"
      },
      "source": [
        "## Método de Jacobi\n",
        "\n",
        "Enlistaremos los pasos a seguir para resolver un sistema de ecuaciones por el método de Jacobi.\n",
        "\n",
        "* Despejar de cada ecuación una incognita.\n",
        "* Sustituir la semilla en las ecuaciones para obtener la aproximación a cada punto.\n",
        "* La aproximación obtenida será la nueva semilla.\n",
        "* Repetir el proceso hasta el punto de paro.\n",
        "\n",
        "De manera matricial vemos el método de Jacobi como:\n",
        "\n",
        "$$M=D$$ \n",
        "$$N=-(L+U)$$\n",
        "\n",
        "Donde $D$ es la matriz diagonal de la matriz asociada al sistema de ecuaciones.\n",
        "\n",
        "$L$ es la matriz tal que $l_{ij}=a_{ij}$ si $i<j$ y $l_{ij}=0$ en caso contrario.\n",
        "\n",
        "$U$ es la matriz tal que $u_{ij}=a_{ij}$ si $i>j$ y $u_{ij}=0$ en caso contrario.\n",
        "\n",
        "Con lo cual \n",
        "$$A=D+L+U = M-N$$ y el sistema \n",
        "$$Mx =Nx +b$$\n",
        "es equivalente a resolver \n",
        "$$Dx = -(L+U)x +b$$\n",
        "Así, la sucesión se construye partiendo de un valor inicial $x_0$ y definiendo\n",
        "$$ Dx_{k+1} = -(L+U)x_k +b$$\n",
        "\n",
        "para $k\\geq0$\n",
        "\n",
        "\n",
        "\n",
        "\n"
      ]
    },
    {
      "cell_type": "markdown",
      "metadata": {
        "id": "NBbmMqKG4E9s"
      },
      "source": [
        "### Ejemplo 1\n",
        "Consideremos el siguiente sistema de ecuaciones:\n",
        "\n",
        "\\begin{align}\n",
        "2x -y &= 9\\\\\n",
        "x +6y -2z &= 15\\\\\n",
        "4x -3y +8z &= 1\\\\\n",
        "\\end{align}\n",
        "\n",
        "Despejamos las incognitas de las ecuaciones:\n",
        "\\begin{align}\n",
        "x  &= (9 +y_0 )/2\\\\\n",
        "y  &= (15 -x_0 +2z_0)/6\\\\\n",
        "z &= (1-4x_0+3y_0)/8\\\\\n",
        "\\end{align}\n",
        "\n",
        "\n",
        "Teniendo el punto inicial $v_0 = (x_0, y_0, z_0)$.\n",
        "Suponiendo que el punto inicial sea $v_0 = (0,0,0)$ sustituimos y calculamos el siguiente punto.\n",
        "\n",
        "\\begin{align}\n",
        "x  &= (9 +0 )/2\\\\\n",
        "y  &= (15 -0 +2(0))/6\\\\\n",
        "z &= (1-4(0)+3(0))/8\\\\\n",
        "\\end{align}\n",
        "\n",
        "Obtenemos\n",
        "$$v_1 = (4.5,2.5,0.125)$$\n",
        "\n",
        "Continuamos a la siguiente iteración usando $v_1$ como semilla.\n",
        "\n",
        "\\begin{align}\n",
        "x  &= (9 + (2.5)/2\\\\\n",
        "y  &= (15 -4.5 +2(0.125))/6\\\\\n",
        "z &= (1-4(4.5)+3(2.5))/8\\\\\n",
        "\\end{align}\n",
        "\n",
        "Y obtenemos el punto:\n",
        "$$v_2 = (5.75,1.7916,-1.1875)$$\n",
        "\n",
        "Se realiza el procedimiento recursivamente hasta parar en alguna iteración.\n",
        "\n",
        "En este caso las aproximaciones convergen en el punto $(5,1,-2)$\n",
        "\n"
      ]
    },
    {
      "cell_type": "markdown",
      "metadata": {
        "id": "3uo2FEj3bISj"
      },
      "source": [
        "### Programación del método"
      ]
    },
    {
      "cell_type": "code",
      "metadata": {
        "id": "NeVs4ByaRPD7"
      },
      "source": [
        "#Importamos libreria\n",
        "import numpy as np"
      ],
      "execution_count": null,
      "outputs": []
    },
    {
      "cell_type": "code",
      "metadata": {
        "id": "VB3QrL8UdWZa"
      },
      "source": [
        "#Función despeja la matriz asociada al sistema de ecuaciones\n",
        "def coeficientes(A,b):\n",
        "    S = np.zeros([A.shape[0], A.shape[1]+1])\n",
        "    W = np.copy(A)-np.diag(np.diag(A))\n",
        "    for i in range(A.shape[0]):\n",
        "        S[i][0]=b[i]/np.diag(A)[i]\n",
        "    for i in range(S.shape[0]):\n",
        "        for j in range(1,S.shape[1]):\n",
        "            S[i][j]=-W[i][j-1]/np.diag(A)[i]\n",
        "    return S\n",
        "\n",
        "#Función para evaluar las ecuaciones despejadas\n",
        "def ecuacion(C,var,r):\n",
        "    v=0\n",
        "    for i in range(1,C.shape[1]):\n",
        "        v+=(C[r][i]*var[i-1])\n",
        "    v=v+C[r][0]\n",
        "    return v\n",
        "\n",
        "#Función que realiza el método de jacobi\n",
        "def jacob(C, var, iteraciones):\n",
        "    global p\n",
        "    if p < iteraciones:\n",
        "        val=[]\n",
        "        for i in  range(C.shape[0]):\n",
        "            t=ecuacion(C,var,i)\n",
        "            val.append(t)\n",
        "            #print(var)\n",
        "        p+=1\n",
        "        print(\"Iteración\",p,\"x:\",val[0],\" \", \"y:\",val[1],\" \",\"z:\",val[2])\n",
        "        jacob(C, val, iteraciones)\n"
      ],
      "execution_count": null,
      "outputs": []
    },
    {
      "cell_type": "code",
      "metadata": {
        "colab": {
          "base_uri": "https://localhost:8080/"
        },
        "id": "0vV-LO1-fI2P",
        "outputId": "e87c6395-871a-4f5d-d543-88fb1fc5b60a"
      },
      "source": [
        "#Definimos la matriz del sistema de ecuaciones\n",
        "A= np.array([[2.0, -1.0, 0.0],[1.0, 6.0, -2.0],[4.0, -3.0, 8.0]])\n",
        "\n",
        "#Valor solución a cada ecuación\n",
        "b=np.array([9.0,15.0,1.0])\n",
        "\n",
        "#Punto inicial (semilla)\n",
        "var=np.array([0.0, 0.0 ,0.0 ])\n",
        "\n",
        "#Despejamos ecuación\n",
        "C=coeficientes(A,b)\n",
        "\n",
        "#Variable conteo inicial de iteraciones\n",
        "p=0\n",
        "\n",
        "#Número de iteraciones (criterio de paro)\n",
        "iteraciones=10\n",
        "jacob(C, var , iteraciones)"
      ],
      "execution_count": null,
      "outputs": [
        {
          "output_type": "stream",
          "text": [
            "Iteración 1 x: 4.5   y: 2.5   z: 0.125\n",
            "Iteración 2 x: 5.75   y: 1.7916666666666665   z: -1.1875\n",
            "Iteración 3 x: 5.395833333333333   y: 1.1458333333333335   z: -2.078125\n",
            "Iteración 4 x: 5.072916666666667   y: 0.9079861111111112   z: -2.1432291666666665\n",
            "Iteración 5 x: 4.953993055555555   y: 0.9401041666666667   z: -2.070963541666667\n",
            "Iteración 6 x: 4.970052083333333   y: 0.9840133101851851   z: -1.9994574652777777\n",
            "Iteración 7 x: 4.992006655092593   y: 1.005172164351852   z: -1.9910210503472223\n",
            "Iteración 8 x: 5.002586082175926   y: 1.0043252073688271   z: -1.9940637659143516\n",
            "Iteración 9 x: 5.002162603684414   y: 1.0015477309992287   z: -1.9996710883246527\n",
            "Iteración 10 x: 5.000773865499614   y: 0.9997492032777135   z: -2.000500902717496\n"
          ],
          "name": "stdout"
        }
      ]
    },
    {
      "cell_type": "markdown",
      "metadata": {
        "id": "sOg_5uyQOhm9"
      },
      "source": [
        "## Método Gauss-Seidel\n",
        "\n",
        "Enlistaremos los pasos a seguir para resolver un sistema de ecuaciones por el método de Gauss-Seidel .\n",
        "\n",
        "* Despejar de cada ecuación una incognita.\n",
        "* Sustituir la semilla en la primera ecuación y se actualiza el valor obtenido en la semilla para sustituir en la siguiente ecuación y asi recursivamente.\n",
        "* La aproximación obtenida será la nueva semilla para la siguiente iteración.\n",
        "* Repetir el proceso hasta el punto de paro.\n",
        "\n",
        "De manera matricial vemos el método de Jacobi como:\n",
        "\n",
        "$$M=D+L$$ \n",
        "$$N=-U$$\n",
        "\n",
        "Donde $D$ es la matriz diagonal de la matriz asociada al sistema de ecuaciones.\n",
        "\n",
        "$L$ es la matriz tal que $l_{ij}=a_{ij}$ si $i<j$ y $l_{ij}=0$ en caso contrario.\n",
        "\n",
        "$U$ es la matriz tal que $u_{ij}=a_{ij}$ si $i>j$ y $u_{ij}=0$ en caso contrario.\n",
        "\n",
        "Con lo cual \n",
        "$$Mx =Nx +b$$\n",
        "es equivalente a resolver \n",
        "$$(D+L)x = -Ux +b$$\n",
        "Así, la sucesión se construye partiendo de un valor inicial $x_0$ y definiendo\n",
        "$$ (D+L)x_{k+1} = -Ux_k +b$$\n",
        "\n",
        "para $k\\geq0$\n"
      ]
    },
    {
      "cell_type": "markdown",
      "metadata": {
        "id": "N9HvQRqaFj1H"
      },
      "source": [
        "### Ejemplo 2\n",
        "Consideremos el mismo sistema de ecuaciones:\n",
        "\n",
        "\\begin{align}\n",
        "2x -y &= 9\\\\\n",
        "x +6y -2z &= 15\\\\\n",
        "4x -3y +8z &= 1\\\\\n",
        "\\end{align}\n",
        "\n",
        "Despejamos las incognitas de las ecuaciones:\n",
        "\\begin{align}\n",
        "x  &= (9 +y_0 )/2\\\\\n",
        "y  &= (15 -x_0 +2z_0)/6\\\\\n",
        "z &= (1-4x_0+3y_0)/8\\\\\n",
        "\\end{align}\n",
        "\n",
        "\n",
        "Teniendo el punto inicial $v_0 = (x_0, y_0, z_0)$.\n",
        "Suponiendo que el punto inicial sea $v_0 = (0,0,0)$ sustituimos y calculamos el siguiente punto:\n",
        "\n",
        "\\begin{align}\n",
        "x  &= (9 +0 )/2 = 4.5\\\\\n",
        "y  &= (15 -4.5 +2(0))/6 = 1.75\\\\\n",
        "z &= (1-4(4.5)+3(1.75))/8 = -1.46\\\\\n",
        "\\end{align}\n",
        "\n",
        "Obtenemos\n",
        "$$v_1 = (4.5,1.75,-1.46)$$\n",
        "\n",
        "Continuamos a la siguiente iteración usando $v_1$ como semilla.\n",
        "\n",
        "\\begin{align}\n",
        "x  &= (9 + (4.5)/2 = 5.375\\\\\n",
        "y  &= (15 -5.375 +2(-1.46))/6 = 1.11\\\\\n",
        "z &= (1-4(5.375)+3(1.11))/8 = -2.14\\\\\n",
        "\\end{align}\n",
        "\n",
        "Y obtenermos el punto:\n",
        "$$v_2 = (5.375,1.11,-2.14)$$\n",
        "\n",
        "Se realiza el procedimiento recursivamente hasta parar en alguna iteración.\n",
        "\n",
        "En este caso las aproximaciones convergen en el punto $(5,1,-2)$ más rápido que con el método de Jacobi.\n"
      ]
    },
    {
      "cell_type": "markdown",
      "metadata": {
        "id": "JWW47dfablzU"
      },
      "source": [
        "### Programación del método"
      ]
    },
    {
      "cell_type": "code",
      "metadata": {
        "id": "7UoQ_54Dq_Mt"
      },
      "source": [
        "#Función despeja la matriz asociada al sistema de ecuaciones\n",
        "def coeficientes(A,b):\n",
        "    S = np.zeros([A.shape[0], A.shape[1]+1])\n",
        "    W = np.copy(A)-np.diag(np.diag(A))\n",
        "    for i in range(A.shape[0]):\n",
        "        S[i][0]=b[i]/np.diag(A)[i]\n",
        "    for i in range(S.shape[0]):\n",
        "        for j in range(1,S.shape[1]):\n",
        "            S[i][j]=-W[i][j-1]/np.diag(A)[i]\n",
        "    return S\n",
        "\n",
        "#Función para evaluar las ecuaciones despejadas\n",
        "def ecuacion(C,var,r):\n",
        "    v=0\n",
        "    for i in range(1,C.shape[1]):\n",
        "        v+=(C[r][i]*var[i-1])\n",
        "    v=v+C[r][0]\n",
        "    return v\n",
        "\n",
        "#Función que realiza el método de Gauss-Seidel\n",
        "def GaussSeidel(C, var, iteraciones):\n",
        "    global p\n",
        "    if p < iteraciones:\n",
        "        val=[]\n",
        "        for i in  range(C.shape[0]):\n",
        "            t=ecuacion(C,var,i)\n",
        "            val.append(t)\n",
        "            var[i]=t\n",
        "            #print(var)\n",
        "        p+=1\n",
        "        print(\"Iteracion {}:\".format(p), val)\n",
        "        GaussSeidel(C, val, iteraciones)\n"
      ],
      "execution_count": null,
      "outputs": []
    },
    {
      "cell_type": "code",
      "metadata": {
        "colab": {
          "base_uri": "https://localhost:8080/"
        },
        "id": "TQR8l1iv5aQI",
        "outputId": "67c3d53b-6c10-4bf8-e299-1edeb0f59c5b"
      },
      "source": [
        "#Definimos la matriz del sistema de ecuaciones\n",
        "A= np.matrix([[10.0,0.0,-1.0],[4.0,12.0,-4.0],[4.0,4.0,10.0]])\n",
        "\n",
        "#Valor solución a cada ecuación\n",
        "b=np.array([-1.0,8.0,4.0])\n",
        "\n",
        "#Punto inicial (semilla)\n",
        "var=np.array([1.0, 2.0 ,0.0 ])\n",
        "\n",
        "#Despejamos ecuación\n",
        "C=coeficientes(A,b)\n",
        "\n",
        "#Variable conteo inicial de iteraciones\n",
        "p=0\n",
        "\n",
        "#Número de iteraciones (criterio de paro)\n",
        "iteraciones=10\n",
        "GaussSeidel(C, var , iteraciones)"
      ],
      "execution_count": null,
      "outputs": [
        {
          "output_type": "stream",
          "text": [
            "Iteracion 1: [-0.1, 0.7, 0.16000000000000006]\n",
            "Iteracion 2: [-0.08399999999999999, 0.748, 0.13440000000000002]\n",
            "Iteracion 3: [-0.08656, 0.74032, 0.138496]\n",
            "Iteracion 4: [-0.0861504, 0.7415488, 0.13784064000000001]\n",
            "Iteracion 5: [-0.086215936, 0.7413521919999999, 0.13794549760000008]\n",
            "Iteracion 6: [-0.08620545024, 0.74138364928, 0.137928720384]\n",
            "Iteracion 7: [-0.0862071279616, 0.7413786161152, 0.13793140473856003]\n",
            "Iteracion 8: [-0.086206859526144, 0.741379421421568, 0.1379309752418304]\n",
            "Iteracion 9: [-0.08620690247581697, 0.7413792925725491, 0.13793104396130712]\n",
            "Iteracion 10: [-0.0862068956038693, 0.7413793131883921, 0.13793103296619091]\n"
          ],
          "name": "stdout"
        }
      ]
    },
    {
      "cell_type": "markdown",
      "metadata": {
        "id": "P6RxiFT9KNtM"
      },
      "source": [
        "### Ejercicio\n",
        "Utiliza el método de Gauss-Seidel en *Python* para solucionar el sistema de ecuaciones del ejemplo 1 y compara qué método converge más rápido."
      ]
    },
    {
      "cell_type": "markdown",
      "metadata": {
        "id": "9MnX3s_tlsxC"
      },
      "source": [
        "## Referencias\n",
        "Para profundizar en los temas tratados en el presente documento se pueden consultar las siguientes fuentes:\n",
        "\n",
        "* https://www.mty.itesm.mx/dmti/materias/ma2008/lecturas/ma2008-09a.pdf\n",
        "* http://matematicas.unex.es/~trinidad/MM/tema2.pdf"
      ]
    }
  ]
}
